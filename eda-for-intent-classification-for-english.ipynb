{
 "cells": [
  {
   "cell_type": "markdown",
   "id": "ae1d48db",
   "metadata": {
    "papermill": {
     "duration": 0.053644,
     "end_time": "2021-07-30T03:07:07.385171",
     "exception": false,
     "start_time": "2021-07-30T03:07:07.331527",
     "status": "completed"
    },
    "tags": []
   },
   "source": [
    "### import libiraries"
   ]
  },
  {
   "cell_type": "code",
   "execution_count": 1,
   "id": "b9cf5255",
   "metadata": {
    "execution": {
     "iopub.execute_input": "2021-07-30T03:07:07.515486Z",
     "iopub.status.busy": "2021-07-30T03:07:07.514783Z",
     "iopub.status.idle": "2021-07-30T03:07:10.701246Z",
     "shell.execute_reply": "2021-07-30T03:07:10.700401Z",
     "shell.execute_reply.started": "2021-07-30T03:03:00.663378Z"
    },
    "papermill": {
     "duration": 3.254976,
     "end_time": "2021-07-30T03:07:10.701421",
     "exception": false,
     "start_time": "2021-07-30T03:07:07.446445",
     "status": "completed"
    },
    "tags": []
   },
   "outputs": [],
   "source": [
    "import pandas as pd\n",
    "import numpy as np\n",
    "import re\n",
    "import matplotlib.pyplot as plt\n",
    "import seaborn as sns\n",
    "from textblob import TextBlob\n",
    "import string\n",
    "# for Tokenization\n",
    "import nltk\n",
    "from nltk.tokenize import sent_tokenize, word_tokenize\n",
    "# for removing accented and special chracters\n",
    "import unicodedata\n",
    "# for stopwords Removal\n",
    "from nltk.corpus import stopwords\n",
    "from nltk.tokenize import word_tokenize\n",
    "from nltk.stem.porter import PorterStemmer\n",
    "# for calculating Polarity and Subjectivity\n",
    "from textblob import TextBlob\n",
    "import plotly.express as px"
   ]
  },
  {
   "cell_type": "code",
   "execution_count": 2,
   "id": "474d7075",
   "metadata": {
    "execution": {
     "iopub.execute_input": "2021-07-30T03:07:10.807820Z",
     "iopub.status.busy": "2021-07-30T03:07:10.807070Z",
     "iopub.status.idle": "2021-07-30T03:07:10.916543Z",
     "shell.execute_reply": "2021-07-30T03:07:10.915844Z",
     "shell.execute_reply.started": "2021-07-30T02:21:03.081861Z"
    },
    "papermill": {
     "duration": 0.164086,
     "end_time": "2021-07-30T03:07:10.916697",
     "exception": false,
     "start_time": "2021-07-30T03:07:10.752611",
     "status": "completed"
    },
    "tags": []
   },
   "outputs": [],
   "source": [
    "dataset='../input/intent-classification-enfr/intent_classification.csv'\n",
    "df=pd.read_csv(dataset)"
   ]
  },
  {
   "cell_type": "markdown",
   "id": "f07ee88d",
   "metadata": {
    "papermill": {
     "duration": 0.049641,
     "end_time": "2021-07-30T03:07:11.017436",
     "exception": false,
     "start_time": "2021-07-30T03:07:10.967795",
     "status": "completed"
    },
    "tags": []
   },
   "source": [
    "# lets check the head of the dataset"
   ]
  },
  {
   "cell_type": "code",
   "execution_count": 3,
   "id": "84f54c41",
   "metadata": {
    "execution": {
     "iopub.execute_input": "2021-07-30T03:07:11.128018Z",
     "iopub.status.busy": "2021-07-30T03:07:11.127279Z",
     "iopub.status.idle": "2021-07-30T03:07:11.149492Z",
     "shell.execute_reply": "2021-07-30T03:07:11.148855Z",
     "shell.execute_reply.started": "2021-07-30T02:21:03.229952Z"
    },
    "papermill": {
     "duration": 0.081312,
     "end_time": "2021-07-30T03:07:11.149632",
     "exception": false,
     "start_time": "2021-07-30T03:07:11.068320",
     "status": "completed"
    },
    "tags": []
   },
   "outputs": [
    {
     "data": {
      "text/html": [
       "<div>\n",
       "<style scoped>\n",
       "    .dataframe tbody tr th:only-of-type {\n",
       "        vertical-align: middle;\n",
       "    }\n",
       "\n",
       "    .dataframe tbody tr th {\n",
       "        vertical-align: top;\n",
       "    }\n",
       "\n",
       "    .dataframe thead th {\n",
       "        text-align: right;\n",
       "    }\n",
       "</style>\n",
       "<table border=\"1\" class=\"dataframe\">\n",
       "  <thead>\n",
       "    <tr style=\"text-align: right;\">\n",
       "      <th></th>\n",
       "      <th>text-en</th>\n",
       "      <th>intent-en</th>\n",
       "      <th>text-fr</th>\n",
       "      <th>intent-fr</th>\n",
       "    </tr>\n",
       "  </thead>\n",
       "  <tbody>\n",
       "    <tr>\n",
       "      <th>0</th>\n",
       "      <td>can you walk me through setting up direct depo...</td>\n",
       "      <td>direct_deposit</td>\n",
       "      <td>pouvez-vous me guider à travers la mise en pla...</td>\n",
       "      <td>dépôt_direct</td>\n",
       "    </tr>\n",
       "    <tr>\n",
       "      <th>1</th>\n",
       "      <td>i want to switch to direct deposit</td>\n",
       "      <td>direct_deposit</td>\n",
       "      <td>Je veux passer au dépôt direct</td>\n",
       "      <td>dépôt_direct</td>\n",
       "    </tr>\n",
       "    <tr>\n",
       "      <th>2</th>\n",
       "      <td>set up direct deposit for me</td>\n",
       "      <td>direct_deposit</td>\n",
       "      <td>mettre en place le dépôt direct pour moi</td>\n",
       "      <td>dépôt_direct</td>\n",
       "    </tr>\n",
       "    <tr>\n",
       "      <th>3</th>\n",
       "      <td>how do i go about setting up direct deposit</td>\n",
       "      <td>direct_deposit</td>\n",
       "      <td>comment puis-je procéder pour mettre en place ...</td>\n",
       "      <td>dépôt_direct</td>\n",
       "    </tr>\n",
       "    <tr>\n",
       "      <th>4</th>\n",
       "      <td>i need to get my paycheck direct deposited to ...</td>\n",
       "      <td>direct_deposit</td>\n",
       "      <td>J’ai besoin d’obtenir mon chèque de paie dépos...</td>\n",
       "      <td>dépôt_direct</td>\n",
       "    </tr>\n",
       "    <tr>\n",
       "      <th>5</th>\n",
       "      <td>what are the steps to set up direct deposit to...</td>\n",
       "      <td>direct_deposit</td>\n",
       "      <td>quelles sont les étapes pour configurer le dép...</td>\n",
       "      <td>dépôt_direct</td>\n",
       "    </tr>\n",
       "    <tr>\n",
       "      <th>6</th>\n",
       "      <td>if i would like to set up direct deposit, how ...</td>\n",
       "      <td>direct_deposit</td>\n",
       "      <td>si je souhaite mettre en place le dépôt direct...</td>\n",
       "      <td>dépôt_direct</td>\n",
       "    </tr>\n",
       "    <tr>\n",
       "      <th>7</th>\n",
       "      <td>how do i direct deposit my check</td>\n",
       "      <td>direct_deposit</td>\n",
       "      <td>comment puis-je déposer mon chèque directement</td>\n",
       "      <td>dépôt_direct</td>\n",
       "    </tr>\n",
       "    <tr>\n",
       "      <th>8</th>\n",
       "      <td>what do i need to set up direct deposit</td>\n",
       "      <td>direct_deposit</td>\n",
       "      <td>de quoi ai-je besoin pour mettre en place le d...</td>\n",
       "      <td>dépôt_direct</td>\n",
       "    </tr>\n",
       "    <tr>\n",
       "      <th>9</th>\n",
       "      <td>i'd like to have my paycheck direct deposited ...</td>\n",
       "      <td>direct_deposit</td>\n",
       "      <td>J’aimerais que mon chèque de paie soit déposé ...</td>\n",
       "      <td>dépôt_direct</td>\n",
       "    </tr>\n",
       "  </tbody>\n",
       "</table>\n",
       "</div>"
      ],
      "text/plain": [
       "                                             text-en       intent-en  \\\n",
       "0  can you walk me through setting up direct depo...  direct_deposit   \n",
       "1                 i want to switch to direct deposit  direct_deposit   \n",
       "2                       set up direct deposit for me  direct_deposit   \n",
       "3        how do i go about setting up direct deposit  direct_deposit   \n",
       "4  i need to get my paycheck direct deposited to ...  direct_deposit   \n",
       "5  what are the steps to set up direct deposit to...  direct_deposit   \n",
       "6  if i would like to set up direct deposit, how ...  direct_deposit   \n",
       "7                   how do i direct deposit my check  direct_deposit   \n",
       "8            what do i need to set up direct deposit  direct_deposit   \n",
       "9  i'd like to have my paycheck direct deposited ...  direct_deposit   \n",
       "\n",
       "                                             text-fr     intent-fr  \n",
       "0  pouvez-vous me guider à travers la mise en pla...  dépôt_direct  \n",
       "1                     Je veux passer au dépôt direct  dépôt_direct  \n",
       "2           mettre en place le dépôt direct pour moi  dépôt_direct  \n",
       "3  comment puis-je procéder pour mettre en place ...  dépôt_direct  \n",
       "4  J’ai besoin d’obtenir mon chèque de paie dépos...  dépôt_direct  \n",
       "5  quelles sont les étapes pour configurer le dép...  dépôt_direct  \n",
       "6  si je souhaite mettre en place le dépôt direct...  dépôt_direct  \n",
       "7     comment puis-je déposer mon chèque directement  dépôt_direct  \n",
       "8  de quoi ai-je besoin pour mettre en place le d...  dépôt_direct  \n",
       "9  J’aimerais que mon chèque de paie soit déposé ...  dépôt_direct  "
      ]
     },
     "execution_count": 3,
     "metadata": {},
     "output_type": "execute_result"
    }
   ],
   "source": [
    "df.head(10)"
   ]
  },
  {
   "cell_type": "code",
   "execution_count": 4,
   "id": "8133137e",
   "metadata": {
    "execution": {
     "iopub.execute_input": "2021-07-30T03:07:11.257182Z",
     "iopub.status.busy": "2021-07-30T03:07:11.256319Z",
     "iopub.status.idle": "2021-07-30T03:07:11.260516Z",
     "shell.execute_reply": "2021-07-30T03:07:11.259985Z",
     "shell.execute_reply.started": "2021-07-30T02:21:03.265277Z"
    },
    "papermill": {
     "duration": 0.059905,
     "end_time": "2021-07-30T03:07:11.260651",
     "exception": false,
     "start_time": "2021-07-30T03:07:11.200746",
     "status": "completed"
    },
    "tags": []
   },
   "outputs": [
    {
     "data": {
      "text/plain": [
       "(15000, 4)"
      ]
     },
     "execution_count": 4,
     "metadata": {},
     "output_type": "execute_result"
    }
   ],
   "source": [
    "df.shape"
   ]
  },
  {
   "cell_type": "markdown",
   "id": "27cd6260",
   "metadata": {
    "papermill": {
     "duration": 0.051468,
     "end_time": "2021-07-30T03:07:11.363523",
     "exception": false,
     "start_time": "2021-07-30T03:07:11.312055",
     "status": "completed"
    },
    "tags": []
   },
   "source": [
    " # lets check if the dataset has any Missing Values"
   ]
  },
  {
   "cell_type": "code",
   "execution_count": 5,
   "id": "35a4b968",
   "metadata": {
    "execution": {
     "iopub.execute_input": "2021-07-30T03:07:11.487441Z",
     "iopub.status.busy": "2021-07-30T03:07:11.486496Z",
     "iopub.status.idle": "2021-07-30T03:07:11.491693Z",
     "shell.execute_reply": "2021-07-30T03:07:11.491042Z",
     "shell.execute_reply.started": "2021-07-30T02:21:03.448432Z"
    },
    "papermill": {
     "duration": 0.077279,
     "end_time": "2021-07-30T03:07:11.491830",
     "exception": false,
     "start_time": "2021-07-30T03:07:11.414551",
     "status": "completed"
    },
    "tags": []
   },
   "outputs": [
    {
     "data": {
      "text/html": [
       "<div>\n",
       "<style scoped>\n",
       "    .dataframe tbody tr th:only-of-type {\n",
       "        vertical-align: middle;\n",
       "    }\n",
       "\n",
       "    .dataframe tbody tr th {\n",
       "        vertical-align: top;\n",
       "    }\n",
       "\n",
       "    .dataframe thead th {\n",
       "        text-align: right;\n",
       "    }\n",
       "</style>\n",
       "<table border=\"1\" class=\"dataframe\">\n",
       "  <thead>\n",
       "    <tr style=\"text-align: right;\">\n",
       "      <th></th>\n",
       "      <th>text-en</th>\n",
       "      <th>intent-en</th>\n",
       "      <th>text-fr</th>\n",
       "      <th>intent-fr</th>\n",
       "    </tr>\n",
       "  </thead>\n",
       "  <tbody>\n",
       "    <tr>\n",
       "      <th>0</th>\n",
       "      <td>False</td>\n",
       "      <td>False</td>\n",
       "      <td>False</td>\n",
       "      <td>False</td>\n",
       "    </tr>\n",
       "    <tr>\n",
       "      <th>1</th>\n",
       "      <td>False</td>\n",
       "      <td>False</td>\n",
       "      <td>False</td>\n",
       "      <td>False</td>\n",
       "    </tr>\n",
       "    <tr>\n",
       "      <th>2</th>\n",
       "      <td>False</td>\n",
       "      <td>False</td>\n",
       "      <td>False</td>\n",
       "      <td>False</td>\n",
       "    </tr>\n",
       "    <tr>\n",
       "      <th>3</th>\n",
       "      <td>False</td>\n",
       "      <td>False</td>\n",
       "      <td>False</td>\n",
       "      <td>False</td>\n",
       "    </tr>\n",
       "    <tr>\n",
       "      <th>4</th>\n",
       "      <td>False</td>\n",
       "      <td>False</td>\n",
       "      <td>False</td>\n",
       "      <td>False</td>\n",
       "    </tr>\n",
       "    <tr>\n",
       "      <th>...</th>\n",
       "      <td>...</td>\n",
       "      <td>...</td>\n",
       "      <td>...</td>\n",
       "      <td>...</td>\n",
       "    </tr>\n",
       "    <tr>\n",
       "      <th>14995</th>\n",
       "      <td>False</td>\n",
       "      <td>False</td>\n",
       "      <td>False</td>\n",
       "      <td>False</td>\n",
       "    </tr>\n",
       "    <tr>\n",
       "      <th>14996</th>\n",
       "      <td>False</td>\n",
       "      <td>False</td>\n",
       "      <td>False</td>\n",
       "      <td>False</td>\n",
       "    </tr>\n",
       "    <tr>\n",
       "      <th>14997</th>\n",
       "      <td>False</td>\n",
       "      <td>False</td>\n",
       "      <td>False</td>\n",
       "      <td>False</td>\n",
       "    </tr>\n",
       "    <tr>\n",
       "      <th>14998</th>\n",
       "      <td>False</td>\n",
       "      <td>False</td>\n",
       "      <td>False</td>\n",
       "      <td>False</td>\n",
       "    </tr>\n",
       "    <tr>\n",
       "      <th>14999</th>\n",
       "      <td>False</td>\n",
       "      <td>False</td>\n",
       "      <td>False</td>\n",
       "      <td>False</td>\n",
       "    </tr>\n",
       "  </tbody>\n",
       "</table>\n",
       "<p>15000 rows × 4 columns</p>\n",
       "</div>"
      ],
      "text/plain": [
       "       text-en  intent-en  text-fr  intent-fr\n",
       "0        False      False    False      False\n",
       "1        False      False    False      False\n",
       "2        False      False    False      False\n",
       "3        False      False    False      False\n",
       "4        False      False    False      False\n",
       "...        ...        ...      ...        ...\n",
       "14995    False      False    False      False\n",
       "14996    False      False    False      False\n",
       "14997    False      False    False      False\n",
       "14998    False      False    False      False\n",
       "14999    False      False    False      False\n",
       "\n",
       "[15000 rows x 4 columns]"
      ]
     },
     "execution_count": 5,
     "metadata": {},
     "output_type": "execute_result"
    }
   ],
   "source": [
    "df.isnull()"
   ]
  },
  {
   "cell_type": "markdown",
   "id": "e6464f70",
   "metadata": {
    "papermill": {
     "duration": 0.052685,
     "end_time": "2021-07-30T03:07:11.597148",
     "exception": false,
     "start_time": "2021-07-30T03:07:11.544463",
     "status": "completed"
    },
    "tags": []
   },
   "source": [
    " # lets check the Descriptive Summary of the Dataset"
   ]
  },
  {
   "cell_type": "code",
   "execution_count": 6,
   "id": "89f5787c",
   "metadata": {
    "execution": {
     "iopub.execute_input": "2021-07-30T03:07:11.715889Z",
     "iopub.status.busy": "2021-07-30T03:07:11.715168Z",
     "iopub.status.idle": "2021-07-30T03:07:11.782582Z",
     "shell.execute_reply": "2021-07-30T03:07:11.782058Z",
     "shell.execute_reply.started": "2021-07-30T02:21:03.480906Z"
    },
    "papermill": {
     "duration": 0.133687,
     "end_time": "2021-07-30T03:07:11.782730",
     "exception": false,
     "start_time": "2021-07-30T03:07:11.649043",
     "status": "completed"
    },
    "tags": []
   },
   "outputs": [
    {
     "data": {
      "text/html": [
       "<div>\n",
       "<style scoped>\n",
       "    .dataframe tbody tr th:only-of-type {\n",
       "        vertical-align: middle;\n",
       "    }\n",
       "\n",
       "    .dataframe tbody tr th {\n",
       "        vertical-align: top;\n",
       "    }\n",
       "\n",
       "    .dataframe thead th {\n",
       "        text-align: right;\n",
       "    }\n",
       "</style>\n",
       "<table border=\"1\" class=\"dataframe\">\n",
       "  <thead>\n",
       "    <tr style=\"text-align: right;\">\n",
       "      <th></th>\n",
       "      <th>text-en</th>\n",
       "      <th>intent-en</th>\n",
       "      <th>text-fr</th>\n",
       "      <th>intent-fr</th>\n",
       "    </tr>\n",
       "  </thead>\n",
       "  <tbody>\n",
       "    <tr>\n",
       "      <th>count</th>\n",
       "      <td>15000</td>\n",
       "      <td>15000</td>\n",
       "      <td>15000</td>\n",
       "      <td>15000</td>\n",
       "    </tr>\n",
       "    <tr>\n",
       "      <th>unique</th>\n",
       "      <td>14995</td>\n",
       "      <td>150</td>\n",
       "      <td>14596</td>\n",
       "      <td>150</td>\n",
       "    </tr>\n",
       "    <tr>\n",
       "      <th>top</th>\n",
       "      <td>turn up your volume</td>\n",
       "      <td>flip_coin</td>\n",
       "      <td>passer en mode chuchotement</td>\n",
       "      <td>flip_coin</td>\n",
       "    </tr>\n",
       "    <tr>\n",
       "      <th>freq</th>\n",
       "      <td>2</td>\n",
       "      <td>100</td>\n",
       "      <td>5</td>\n",
       "      <td>100</td>\n",
       "    </tr>\n",
       "  </tbody>\n",
       "</table>\n",
       "</div>"
      ],
      "text/plain": [
       "                    text-en  intent-en                      text-fr  intent-fr\n",
       "count                 15000      15000                        15000      15000\n",
       "unique                14995        150                        14596        150\n",
       "top     turn up your volume  flip_coin  passer en mode chuchotement  flip_coin\n",
       "freq                      2        100                            5        100"
      ]
     },
     "execution_count": 6,
     "metadata": {},
     "output_type": "execute_result"
    }
   ],
   "source": [
    "df.describe()"
   ]
  },
  {
   "cell_type": "markdown",
   "id": "84468c03",
   "metadata": {
    "papermill": {
     "duration": 0.051848,
     "end_time": "2021-07-30T03:07:11.886884",
     "exception": false,
     "start_time": "2021-07-30T03:07:11.835036",
     "status": "completed"
    },
    "tags": []
   },
   "source": [
    "# lets check the summary of Date\n",
    "\n"
   ]
  },
  {
   "cell_type": "code",
   "execution_count": 7,
   "id": "f137b2a6",
   "metadata": {
    "execution": {
     "iopub.execute_input": "2021-07-30T03:07:12.010071Z",
     "iopub.status.busy": "2021-07-30T03:07:11.999508Z",
     "iopub.status.idle": "2021-07-30T03:07:12.052548Z",
     "shell.execute_reply": "2021-07-30T03:07:12.053022Z",
     "shell.execute_reply.started": "2021-07-30T02:21:03.567259Z"
    },
    "papermill": {
     "duration": 0.11421,
     "end_time": "2021-07-30T03:07:12.053194",
     "exception": false,
     "start_time": "2021-07-30T03:07:11.938984",
     "status": "completed"
    },
    "tags": []
   },
   "outputs": [
    {
     "data": {
      "text/html": [
       "<div>\n",
       "<style scoped>\n",
       "    .dataframe tbody tr th:only-of-type {\n",
       "        vertical-align: middle;\n",
       "    }\n",
       "\n",
       "    .dataframe tbody tr th {\n",
       "        vertical-align: top;\n",
       "    }\n",
       "\n",
       "    .dataframe thead th {\n",
       "        text-align: right;\n",
       "    }\n",
       "</style>\n",
       "<table border=\"1\" class=\"dataframe\">\n",
       "  <thead>\n",
       "    <tr style=\"text-align: right;\">\n",
       "      <th></th>\n",
       "      <th>text-en</th>\n",
       "      <th>intent-en</th>\n",
       "      <th>text-fr</th>\n",
       "      <th>intent-fr</th>\n",
       "    </tr>\n",
       "  </thead>\n",
       "  <tbody>\n",
       "    <tr>\n",
       "      <th>count</th>\n",
       "      <td>15000</td>\n",
       "      <td>15000</td>\n",
       "      <td>15000</td>\n",
       "      <td>15000</td>\n",
       "    </tr>\n",
       "    <tr>\n",
       "      <th>unique</th>\n",
       "      <td>14995</td>\n",
       "      <td>150</td>\n",
       "      <td>14596</td>\n",
       "      <td>150</td>\n",
       "    </tr>\n",
       "    <tr>\n",
       "      <th>top</th>\n",
       "      <td>turn up your volume</td>\n",
       "      <td>flip_coin</td>\n",
       "      <td>passer en mode chuchotement</td>\n",
       "      <td>flip_coin</td>\n",
       "    </tr>\n",
       "    <tr>\n",
       "      <th>freq</th>\n",
       "      <td>2</td>\n",
       "      <td>100</td>\n",
       "      <td>5</td>\n",
       "      <td>100</td>\n",
       "    </tr>\n",
       "  </tbody>\n",
       "</table>\n",
       "</div>"
      ],
      "text/plain": [
       "                    text-en  intent-en                      text-fr  intent-fr\n",
       "count                 15000      15000                        15000      15000\n",
       "unique                14995        150                        14596        150\n",
       "top     turn up your volume  flip_coin  passer en mode chuchotement  flip_coin\n",
       "freq                      2        100                            5        100"
      ]
     },
     "execution_count": 7,
     "metadata": {},
     "output_type": "execute_result"
    }
   ],
   "source": [
    "df.describe(include = 'object')"
   ]
  },
  {
   "cell_type": "markdown",
   "id": "7096fbde",
   "metadata": {
    "papermill": {
     "duration": 0.052979,
     "end_time": "2021-07-30T03:07:12.159346",
     "exception": false,
     "start_time": "2021-07-30T03:07:12.106367",
     "status": "completed"
    },
    "tags": []
   },
   "source": [
    "# lets check the Value Counts for Variation "
   ]
  },
  {
   "cell_type": "code",
   "execution_count": 8,
   "id": "a9ad69a5",
   "metadata": {
    "execution": {
     "iopub.execute_input": "2021-07-30T03:07:12.280001Z",
     "iopub.status.busy": "2021-07-30T03:07:12.279288Z",
     "iopub.status.idle": "2021-07-30T03:07:12.288612Z",
     "shell.execute_reply": "2021-07-30T03:07:12.288085Z",
     "shell.execute_reply.started": "2021-07-30T02:21:03.630801Z"
    },
    "papermill": {
     "duration": 0.07634,
     "end_time": "2021-07-30T03:07:12.288750",
     "exception": false,
     "start_time": "2021-07-30T03:07:12.212410",
     "status": "completed"
    },
    "tags": []
   },
   "outputs": [
    {
     "data": {
      "text/plain": [
       "turn up your volume                               2\n",
       "hey what's up                                     2\n",
       "whisper please                                    2\n",
       "where did you grow up                             2\n",
       "what is on my to do list                          2\n",
       "                                                 ..\n",
       "i wish to know the next holiday                   1\n",
       "i would like to know my chase interest rate       1\n",
       "can you roll a 10-sided dice for me               1\n",
       "i need you to get me a rental car in nashville    1\n",
       "do you have any monkey jokes                      1\n",
       "Name: text-en, Length: 14995, dtype: int64"
      ]
     },
     "execution_count": 8,
     "metadata": {},
     "output_type": "execute_result"
    }
   ],
   "source": [
    "df['text-en'].value_counts()"
   ]
  },
  {
   "cell_type": "markdown",
   "id": "e202b647",
   "metadata": {
    "papermill": {
     "duration": 0.052407,
     "end_time": "2021-07-30T03:07:12.394062",
     "exception": false,
     "start_time": "2021-07-30T03:07:12.341655",
     "status": "completed"
    },
    "tags": []
   },
   "source": [
    "# Lets calculate the length of text-en"
   ]
  },
  {
   "cell_type": "code",
   "execution_count": 9,
   "id": "9450a31e",
   "metadata": {
    "execution": {
     "iopub.execute_input": "2021-07-30T03:07:12.513713Z",
     "iopub.status.busy": "2021-07-30T03:07:12.513031Z",
     "iopub.status.idle": "2021-07-30T03:07:12.515579Z",
     "shell.execute_reply": "2021-07-30T03:07:12.516060Z",
     "shell.execute_reply.started": "2021-07-30T02:21:03.658649Z"
    },
    "papermill": {
     "duration": 0.068106,
     "end_time": "2021-07-30T03:07:12.516226",
     "exception": false,
     "start_time": "2021-07-30T03:07:12.448120",
     "status": "completed"
    },
    "tags": []
   },
   "outputs": [],
   "source": [
    "# Lets calculate the length of the Reviews\n",
    "df['length'] = df['text-en'].apply(len)"
   ]
  },
  {
   "cell_type": "markdown",
   "id": "e0d0ab10",
   "metadata": {
    "papermill": {
     "duration": 0.053791,
     "end_time": "2021-07-30T03:07:12.622603",
     "exception": false,
     "start_time": "2021-07-30T03:07:12.568812",
     "status": "completed"
    },
    "tags": []
   },
   "source": [
    "### Text Polarity\n",
    "\n",
    "It is the expression that determines the sentimental aspect of an opinion. In textual data, the result of sentiment analysis can be determined for each entity in the sentence, document or sentence. The sentiment polarity can be determined as positive, negative and neutral.\n"
   ]
  },
  {
   "cell_type": "code",
   "execution_count": 10,
   "id": "639fcd17",
   "metadata": {
    "execution": {
     "iopub.execute_input": "2021-07-30T03:07:12.733042Z",
     "iopub.status.busy": "2021-07-30T03:07:12.732336Z",
     "iopub.status.idle": "2021-07-30T03:07:15.801044Z",
     "shell.execute_reply": "2021-07-30T03:07:15.800515Z",
     "shell.execute_reply.started": "2021-07-30T02:21:03.674622Z"
    },
    "papermill": {
     "duration": 3.124806,
     "end_time": "2021-07-30T03:07:15.801190",
     "exception": false,
     "start_time": "2021-07-30T03:07:12.676384",
     "status": "completed"
    },
    "tags": []
   },
   "outputs": [],
   "source": [
    "# Lets calculate the Polarity of the Reviews\n",
    "def get_polarity(text):\n",
    "    textblob = TextBlob(str(text.encode('utf-8')))\n",
    "    pol = textblob.sentiment.polarity\n",
    "    return pol\n",
    "\n",
    "# lets apply the function\n",
    "df['polarity'] = df['text-en'].apply(get_polarity)"
   ]
  },
  {
   "cell_type": "markdown",
   "id": "c1cd3f48",
   "metadata": {
    "papermill": {
     "duration": 0.054253,
     "end_time": "2021-07-30T03:07:15.909073",
     "exception": false,
     "start_time": "2021-07-30T03:07:15.854820",
     "status": "completed"
    },
    "tags": []
   },
   "source": [
    "### Text Subjectivity\n",
    "\n",
    "In natural language, subjectivity refers to expression of opinions, evaluations, feelings, and speculations and thus incorporates sentiment. Subjective text is further classified with sentiment or polarity."
   ]
  },
  {
   "cell_type": "code",
   "execution_count": 11,
   "id": "f843747c",
   "metadata": {
    "execution": {
     "iopub.execute_input": "2021-07-30T03:07:16.054420Z",
     "iopub.status.busy": "2021-07-30T03:07:16.049070Z",
     "iopub.status.idle": "2021-07-30T03:07:19.069493Z",
     "shell.execute_reply": "2021-07-30T03:07:19.068926Z",
     "shell.execute_reply.started": "2021-07-30T02:22:48.633356Z"
    },
    "papermill": {
     "duration": 3.107013,
     "end_time": "2021-07-30T03:07:19.069644",
     "exception": false,
     "start_time": "2021-07-30T03:07:15.962631",
     "status": "completed"
    },
    "tags": []
   },
   "outputs": [],
   "source": [
    "def get_subjectivity(text):\n",
    "    textblob = TextBlob(str(text.encode('utf-8')))\n",
    "    subj = textblob.sentiment.subjectivity\n",
    "    return subj\n",
    "\n",
    "# lets apply the Function\n",
    "df['subjectivity'] = df['text-en'].apply(get_subjectivity)"
   ]
  },
  {
   "cell_type": "code",
   "execution_count": 12,
   "id": "78f2f4bd",
   "metadata": {
    "execution": {
     "iopub.execute_input": "2021-07-30T03:07:19.181721Z",
     "iopub.status.busy": "2021-07-30T03:07:19.181012Z",
     "iopub.status.idle": "2021-07-30T03:07:19.204573Z",
     "shell.execute_reply": "2021-07-30T03:07:19.203885Z",
     "shell.execute_reply.started": "2021-07-30T02:21:06.870899Z"
    },
    "papermill": {
     "duration": 0.081518,
     "end_time": "2021-07-30T03:07:19.204713",
     "exception": false,
     "start_time": "2021-07-30T03:07:19.123195",
     "status": "completed"
    },
    "tags": []
   },
   "outputs": [
    {
     "data": {
      "text/html": [
       "<div>\n",
       "<style scoped>\n",
       "    .dataframe tbody tr th:only-of-type {\n",
       "        vertical-align: middle;\n",
       "    }\n",
       "\n",
       "    .dataframe tbody tr th {\n",
       "        vertical-align: top;\n",
       "    }\n",
       "\n",
       "    .dataframe thead th {\n",
       "        text-align: right;\n",
       "    }\n",
       "</style>\n",
       "<table border=\"1\" class=\"dataframe\">\n",
       "  <thead>\n",
       "    <tr style=\"text-align: right;\">\n",
       "      <th></th>\n",
       "      <th>length</th>\n",
       "      <th>polarity</th>\n",
       "    </tr>\n",
       "  </thead>\n",
       "  <tbody>\n",
       "    <tr>\n",
       "      <th>count</th>\n",
       "      <td>15000.000000</td>\n",
       "      <td>15000.000000</td>\n",
       "    </tr>\n",
       "    <tr>\n",
       "      <th>mean</th>\n",
       "      <td>39.698200</td>\n",
       "      <td>0.055024</td>\n",
       "    </tr>\n",
       "    <tr>\n",
       "      <th>std</th>\n",
       "      <td>15.652488</td>\n",
       "      <td>0.181520</td>\n",
       "    </tr>\n",
       "    <tr>\n",
       "      <th>min</th>\n",
       "      <td>2.000000</td>\n",
       "      <td>-0.900000</td>\n",
       "    </tr>\n",
       "    <tr>\n",
       "      <th>25%</th>\n",
       "      <td>29.000000</td>\n",
       "      <td>0.000000</td>\n",
       "    </tr>\n",
       "    <tr>\n",
       "      <th>50%</th>\n",
       "      <td>38.000000</td>\n",
       "      <td>0.000000</td>\n",
       "    </tr>\n",
       "    <tr>\n",
       "      <th>75%</th>\n",
       "      <td>48.000000</td>\n",
       "      <td>0.000000</td>\n",
       "    </tr>\n",
       "    <tr>\n",
       "      <th>max</th>\n",
       "      <td>136.000000</td>\n",
       "      <td>1.000000</td>\n",
       "    </tr>\n",
       "  </tbody>\n",
       "</table>\n",
       "</div>"
      ],
      "text/plain": [
       "             length      polarity\n",
       "count  15000.000000  15000.000000\n",
       "mean      39.698200      0.055024\n",
       "std       15.652488      0.181520\n",
       "min        2.000000     -0.900000\n",
       "25%       29.000000      0.000000\n",
       "50%       38.000000      0.000000\n",
       "75%       48.000000      0.000000\n",
       "max      136.000000      1.000000"
      ]
     },
     "execution_count": 12,
     "metadata": {},
     "output_type": "execute_result"
    }
   ],
   "source": [
    "## lets summarize the Newly Created Features\n",
    "df[['length','polarity','text-en']].describe()"
   ]
  },
  {
   "cell_type": "code",
   "execution_count": 13,
   "id": "24ee966e",
   "metadata": {
    "execution": {
     "iopub.execute_input": "2021-07-30T03:07:19.319797Z",
     "iopub.status.busy": "2021-07-30T03:07:19.319072Z",
     "iopub.status.idle": "2021-07-30T03:07:19.340280Z",
     "shell.execute_reply": "2021-07-30T03:07:19.339700Z",
     "shell.execute_reply.started": "2021-07-30T02:23:21.843101Z"
    },
    "papermill": {
     "duration": 0.082533,
     "end_time": "2021-07-30T03:07:19.340444",
     "exception": false,
     "start_time": "2021-07-30T03:07:19.257911",
     "status": "completed"
    },
    "tags": []
   },
   "outputs": [
    {
     "data": {
      "text/html": [
       "<div>\n",
       "<style scoped>\n",
       "    .dataframe tbody tr th:only-of-type {\n",
       "        vertical-align: middle;\n",
       "    }\n",
       "\n",
       "    .dataframe tbody tr th {\n",
       "        vertical-align: top;\n",
       "    }\n",
       "\n",
       "    .dataframe thead th {\n",
       "        text-align: right;\n",
       "    }\n",
       "</style>\n",
       "<table border=\"1\" class=\"dataframe\">\n",
       "  <thead>\n",
       "    <tr style=\"text-align: right;\">\n",
       "      <th></th>\n",
       "      <th>length</th>\n",
       "      <th>polarity</th>\n",
       "      <th>subjectivity</th>\n",
       "    </tr>\n",
       "  </thead>\n",
       "  <tbody>\n",
       "    <tr>\n",
       "      <th>count</th>\n",
       "      <td>15000.000000</td>\n",
       "      <td>15000.000000</td>\n",
       "      <td>15000.000000</td>\n",
       "    </tr>\n",
       "    <tr>\n",
       "      <th>mean</th>\n",
       "      <td>39.698200</td>\n",
       "      <td>0.055024</td>\n",
       "      <td>0.143780</td>\n",
       "    </tr>\n",
       "    <tr>\n",
       "      <th>std</th>\n",
       "      <td>15.652488</td>\n",
       "      <td>0.181520</td>\n",
       "      <td>0.250144</td>\n",
       "    </tr>\n",
       "    <tr>\n",
       "      <th>min</th>\n",
       "      <td>2.000000</td>\n",
       "      <td>-0.900000</td>\n",
       "      <td>0.000000</td>\n",
       "    </tr>\n",
       "    <tr>\n",
       "      <th>25%</th>\n",
       "      <td>29.000000</td>\n",
       "      <td>0.000000</td>\n",
       "      <td>0.000000</td>\n",
       "    </tr>\n",
       "    <tr>\n",
       "      <th>50%</th>\n",
       "      <td>38.000000</td>\n",
       "      <td>0.000000</td>\n",
       "      <td>0.000000</td>\n",
       "    </tr>\n",
       "    <tr>\n",
       "      <th>75%</th>\n",
       "      <td>48.000000</td>\n",
       "      <td>0.000000</td>\n",
       "      <td>0.250000</td>\n",
       "    </tr>\n",
       "    <tr>\n",
       "      <th>max</th>\n",
       "      <td>136.000000</td>\n",
       "      <td>1.000000</td>\n",
       "      <td>1.000000</td>\n",
       "    </tr>\n",
       "  </tbody>\n",
       "</table>\n",
       "</div>"
      ],
      "text/plain": [
       "             length      polarity  subjectivity\n",
       "count  15000.000000  15000.000000  15000.000000\n",
       "mean      39.698200      0.055024      0.143780\n",
       "std       15.652488      0.181520      0.250144\n",
       "min        2.000000     -0.900000      0.000000\n",
       "25%       29.000000      0.000000      0.000000\n",
       "50%       38.000000      0.000000      0.000000\n",
       "75%       48.000000      0.000000      0.250000\n",
       "max      136.000000      1.000000      1.000000"
      ]
     },
     "execution_count": 13,
     "metadata": {},
     "output_type": "execute_result"
    }
   ],
   "source": [
    "## lets summarize the Newly Created Features\n",
    "df[['length','polarity','subjectivity']].describe()"
   ]
  },
  {
   "cell_type": "code",
   "execution_count": 14,
   "id": "729e8fc6",
   "metadata": {
    "execution": {
     "iopub.execute_input": "2021-07-30T03:07:19.462284Z",
     "iopub.status.busy": "2021-07-30T03:07:19.460959Z",
     "iopub.status.idle": "2021-07-30T03:07:19.464406Z",
     "shell.execute_reply": "2021-07-30T03:07:19.463716Z",
     "shell.execute_reply.started": "2021-07-30T02:21:06.898331Z"
    },
    "papermill": {
     "duration": 0.065435,
     "end_time": "2021-07-30T03:07:19.464553",
     "exception": false,
     "start_time": "2021-07-30T03:07:19.399118",
     "status": "completed"
    },
    "tags": []
   },
   "outputs": [],
   "source": [
    "# lets create a Part of speech Dictionary\n",
    "pos_dic = {\n",
    "    'noun' : ['NN','NNS','NNP','NNPS'],\n",
    "    'pron' : ['PRP','PRP$','WP','WP$'],\n",
    "    'verb' : ['VB','VBD','VBG','VBN','VBP','VBZ'],\n",
    "    'adj' :  ['JJ','JJR','JJS'],\n",
    "    'adv' : ['RB','RBR','RBS','WRB']\n",
    "}\n",
    "\n",
    "# function to check and get the part of speech tag count of a words in a given sentence\n",
    "def pos_check(x, flag):\n",
    "    cnt = 0\n",
    "    try:\n",
    "        wiki = TextBlob(x)\n",
    "        for tup in wiki.tags:\n",
    "            ppo = list(tup)[1]\n",
    "            if ppo in pos_dic[flag]:\n",
    "                cnt += 1\n",
    "    except:\n",
    "        pass\n",
    "    return cnt"
   ]
  },
  {
   "cell_type": "markdown",
   "id": "8bba900f",
   "metadata": {
    "papermill": {
     "duration": 0.054038,
     "end_time": "2021-07-30T03:07:19.572966",
     "exception": false,
     "start_time": "2021-07-30T03:07:19.518928",
     "status": "completed"
    },
    "tags": []
   },
   "source": [
    "### Nouns\n",
    "\n",
    "A noun is a word that functions as the name of a specific object or set of objects, such as living creatures, places, actions, qualities, states of existence, or ideas. However, noun is not a semantic category, so that it cannot be characterized in terms of its meaning."
   ]
  },
  {
   "cell_type": "code",
   "execution_count": 15,
   "id": "0f4d55e5",
   "metadata": {
    "execution": {
     "iopub.execute_input": "2021-07-30T03:07:19.684560Z",
     "iopub.status.busy": "2021-07-30T03:07:19.683862Z",
     "iopub.status.idle": "2021-07-30T03:07:32.883837Z",
     "shell.execute_reply": "2021-07-30T03:07:32.883100Z",
     "shell.execute_reply.started": "2021-07-30T02:21:06.906826Z"
    },
    "papermill": {
     "duration": 13.256728,
     "end_time": "2021-07-30T03:07:32.883983",
     "exception": false,
     "start_time": "2021-07-30T03:07:19.627255",
     "status": "completed"
    },
    "tags": []
   },
   "outputs": [],
   "source": [
    "# lets calculate the count of Nouns in the Text\n",
    "df['noun_count'] = df['text-en'].apply(lambda x: pos_check(x, 'noun'))"
   ]
  },
  {
   "cell_type": "markdown",
   "id": "e1ac3c4d",
   "metadata": {
    "papermill": {
     "duration": 0.054954,
     "end_time": "2021-07-30T03:07:32.993459",
     "exception": false,
     "start_time": "2021-07-30T03:07:32.938505",
     "status": "completed"
    },
    "tags": []
   },
   "source": [
    "### Verbs\n",
    "\n",
    "A verb, from the Latin verbum meaning word, is a word that in syntax conveys an action, an occurrence, or a state of being. In the usual description of English, the basic form, with or without the particle to, is the infinitive. In many languages, verbs are inflected to encode tense, aspect, mood, and voice."
   ]
  },
  {
   "cell_type": "code",
   "execution_count": 16,
   "id": "c339174f",
   "metadata": {
    "execution": {
     "iopub.execute_input": "2021-07-30T03:07:33.125119Z",
     "iopub.status.busy": "2021-07-30T03:07:33.124464Z",
     "iopub.status.idle": "2021-07-30T03:07:46.185767Z",
     "shell.execute_reply": "2021-07-30T03:07:46.185052Z",
     "shell.execute_reply.started": "2021-07-30T02:21:20.171234Z"
    },
    "papermill": {
     "duration": 13.137139,
     "end_time": "2021-07-30T03:07:46.185915",
     "exception": false,
     "start_time": "2021-07-30T03:07:33.048776",
     "status": "completed"
    },
    "tags": []
   },
   "outputs": [],
   "source": [
    "df['verb_count'] = df['text-en'].apply(lambda x: pos_check(x, 'verb'))"
   ]
  },
  {
   "cell_type": "code",
   "execution_count": 17,
   "id": "f4aacb38",
   "metadata": {
    "execution": {
     "iopub.execute_input": "2021-07-30T03:07:46.302152Z",
     "iopub.status.busy": "2021-07-30T03:07:46.299019Z",
     "iopub.status.idle": "2021-07-30T03:07:46.317830Z",
     "shell.execute_reply": "2021-07-30T03:07:46.317163Z",
     "shell.execute_reply.started": "2021-07-30T02:21:33.481721Z"
    },
    "papermill": {
     "duration": 0.07767,
     "end_time": "2021-07-30T03:07:46.317968",
     "exception": false,
     "start_time": "2021-07-30T03:07:46.240298",
     "status": "completed"
    },
    "tags": []
   },
   "outputs": [
    {
     "data": {
      "text/html": [
       "<div>\n",
       "<style scoped>\n",
       "    .dataframe tbody tr th:only-of-type {\n",
       "        vertical-align: middle;\n",
       "    }\n",
       "\n",
       "    .dataframe tbody tr th {\n",
       "        vertical-align: top;\n",
       "    }\n",
       "\n",
       "    .dataframe thead th {\n",
       "        text-align: right;\n",
       "    }\n",
       "</style>\n",
       "<table border=\"1\" class=\"dataframe\">\n",
       "  <thead>\n",
       "    <tr style=\"text-align: right;\">\n",
       "      <th></th>\n",
       "      <th>noun_count</th>\n",
       "      <th>verb_count</th>\n",
       "    </tr>\n",
       "  </thead>\n",
       "  <tbody>\n",
       "    <tr>\n",
       "      <th>count</th>\n",
       "      <td>15000.000000</td>\n",
       "      <td>15000.000000</td>\n",
       "    </tr>\n",
       "    <tr>\n",
       "      <th>mean</th>\n",
       "      <td>2.298733</td>\n",
       "      <td>1.943867</td>\n",
       "    </tr>\n",
       "    <tr>\n",
       "      <th>std</th>\n",
       "      <td>1.268700</td>\n",
       "      <td>1.180512</td>\n",
       "    </tr>\n",
       "    <tr>\n",
       "      <th>min</th>\n",
       "      <td>0.000000</td>\n",
       "      <td>0.000000</td>\n",
       "    </tr>\n",
       "    <tr>\n",
       "      <th>25%</th>\n",
       "      <td>1.000000</td>\n",
       "      <td>1.000000</td>\n",
       "    </tr>\n",
       "    <tr>\n",
       "      <th>50%</th>\n",
       "      <td>2.000000</td>\n",
       "      <td>2.000000</td>\n",
       "    </tr>\n",
       "    <tr>\n",
       "      <th>75%</th>\n",
       "      <td>3.000000</td>\n",
       "      <td>3.000000</td>\n",
       "    </tr>\n",
       "    <tr>\n",
       "      <th>max</th>\n",
       "      <td>9.000000</td>\n",
       "      <td>9.000000</td>\n",
       "    </tr>\n",
       "  </tbody>\n",
       "</table>\n",
       "</div>"
      ],
      "text/plain": [
       "         noun_count    verb_count\n",
       "count  15000.000000  15000.000000\n",
       "mean       2.298733      1.943867\n",
       "std        1.268700      1.180512\n",
       "min        0.000000      0.000000\n",
       "25%        1.000000      1.000000\n",
       "50%        2.000000      2.000000\n",
       "75%        3.000000      3.000000\n",
       "max        9.000000      9.000000"
      ]
     },
     "execution_count": 17,
     "metadata": {},
     "output_type": "execute_result"
    }
   ],
   "source": [
    "df[['noun_count','verb_count']].describe()"
   ]
  },
  {
   "cell_type": "markdown",
   "id": "1a42d041",
   "metadata": {
    "papermill": {
     "duration": 0.055577,
     "end_time": "2021-07-30T03:07:46.428301",
     "exception": false,
     "start_time": "2021-07-30T03:07:46.372724",
     "status": "completed"
    },
    "tags": []
   },
   "source": [
    "### **Here calculate the char_count & word_count & word_density & punctuation_count**"
   ]
  },
  {
   "cell_type": "code",
   "execution_count": 18,
   "id": "f9504e66",
   "metadata": {
    "execution": {
     "iopub.execute_input": "2021-07-30T03:07:46.543821Z",
     "iopub.status.busy": "2021-07-30T03:07:46.543152Z",
     "iopub.status.idle": "2021-07-30T03:07:46.556007Z",
     "shell.execute_reply": "2021-07-30T03:07:46.556510Z",
     "shell.execute_reply.started": "2021-07-30T02:24:38.032052Z"
    },
    "papermill": {
     "duration": 0.072266,
     "end_time": "2021-07-30T03:07:46.556719",
     "exception": false,
     "start_time": "2021-07-30T03:07:46.484453",
     "status": "completed"
    },
    "tags": []
   },
   "outputs": [],
   "source": [
    "# calculating the Character Count in the Reviews\n",
    "df['char_count'] = df['text-en'].apply(len)"
   ]
  },
  {
   "cell_type": "code",
   "execution_count": 19,
   "id": "569b96bf",
   "metadata": {
    "execution": {
     "iopub.execute_input": "2021-07-30T03:07:46.671571Z",
     "iopub.status.busy": "2021-07-30T03:07:46.670833Z",
     "iopub.status.idle": "2021-07-30T03:07:46.694481Z",
     "shell.execute_reply": "2021-07-30T03:07:46.693849Z",
     "shell.execute_reply.started": "2021-07-30T02:25:06.571125Z"
    },
    "papermill": {
     "duration": 0.081428,
     "end_time": "2021-07-30T03:07:46.694633",
     "exception": false,
     "start_time": "2021-07-30T03:07:46.613205",
     "status": "completed"
    },
    "tags": []
   },
   "outputs": [],
   "source": [
    "# calculating the Word Count\n",
    "df['word_count'] = df['text-en'].apply(lambda x: len(x.split()))"
   ]
  },
  {
   "cell_type": "code",
   "execution_count": 20,
   "id": "9191112a",
   "metadata": {
    "execution": {
     "iopub.execute_input": "2021-07-30T03:07:46.811957Z",
     "iopub.status.busy": "2021-07-30T03:07:46.811285Z",
     "iopub.status.idle": "2021-07-30T03:07:46.819037Z",
     "shell.execute_reply": "2021-07-30T03:07:46.818508Z",
     "shell.execute_reply.started": "2021-07-30T02:25:40.406409Z"
    },
    "papermill": {
     "duration": 0.065079,
     "end_time": "2021-07-30T03:07:46.819191",
     "exception": false,
     "start_time": "2021-07-30T03:07:46.754112",
     "status": "completed"
    },
    "tags": []
   },
   "outputs": [],
   "source": [
    "# Calculating the Word Density\n",
    "df['word_density'] = df['char_count'] / (df['word_count']+1)"
   ]
  },
  {
   "cell_type": "code",
   "execution_count": 21,
   "id": "a3c73aa7",
   "metadata": {
    "execution": {
     "iopub.execute_input": "2021-07-30T03:07:46.949793Z",
     "iopub.status.busy": "2021-07-30T03:07:46.944580Z",
     "iopub.status.idle": "2021-07-30T03:07:46.990422Z",
     "shell.execute_reply": "2021-07-30T03:07:46.989813Z",
     "shell.execute_reply.started": "2021-07-30T02:26:44.931818Z"
    },
    "papermill": {
     "duration": 0.116772,
     "end_time": "2021-07-30T03:07:46.990572",
     "exception": false,
     "start_time": "2021-07-30T03:07:46.873800",
     "status": "completed"
    },
    "tags": []
   },
   "outputs": [],
   "source": [
    "punctuation = string.punctuation\n",
    "\n",
    "# Calculating the Punctuation Count\n",
    "df['punctuation_count'] = df['text-en'].apply(lambda x: len(\"\".join(_ for _ in x if _ in punctuation))) "
   ]
  },
  {
   "cell_type": "code",
   "execution_count": 22,
   "id": "0ec86c08",
   "metadata": {
    "execution": {
     "iopub.execute_input": "2021-07-30T03:07:47.107088Z",
     "iopub.status.busy": "2021-07-30T03:07:47.106440Z",
     "iopub.status.idle": "2021-07-30T03:07:47.133711Z",
     "shell.execute_reply": "2021-07-30T03:07:47.133088Z",
     "shell.execute_reply.started": "2021-07-30T02:27:18.834682Z"
    },
    "papermill": {
     "duration": 0.087419,
     "end_time": "2021-07-30T03:07:47.133859",
     "exception": false,
     "start_time": "2021-07-30T03:07:47.046440",
     "status": "completed"
    },
    "tags": []
   },
   "outputs": [
    {
     "data": {
      "text/html": [
       "<div>\n",
       "<style scoped>\n",
       "    .dataframe tbody tr th:only-of-type {\n",
       "        vertical-align: middle;\n",
       "    }\n",
       "\n",
       "    .dataframe tbody tr th {\n",
       "        vertical-align: top;\n",
       "    }\n",
       "\n",
       "    .dataframe thead th {\n",
       "        text-align: right;\n",
       "    }\n",
       "</style>\n",
       "<table border=\"1\" class=\"dataframe\">\n",
       "  <thead>\n",
       "    <tr style=\"text-align: right;\">\n",
       "      <th></th>\n",
       "      <th>char_count</th>\n",
       "      <th>word_count</th>\n",
       "      <th>word_density</th>\n",
       "      <th>punctuation_count</th>\n",
       "    </tr>\n",
       "  </thead>\n",
       "  <tbody>\n",
       "    <tr>\n",
       "      <th>count</th>\n",
       "      <td>15000.000000</td>\n",
       "      <td>15000.000000</td>\n",
       "      <td>15000.000000</td>\n",
       "      <td>15000.000000</td>\n",
       "    </tr>\n",
       "    <tr>\n",
       "      <th>mean</th>\n",
       "      <td>39.698200</td>\n",
       "      <td>8.291400</td>\n",
       "      <td>4.237158</td>\n",
       "      <td>0.226867</td>\n",
       "    </tr>\n",
       "    <tr>\n",
       "      <th>std</th>\n",
       "      <td>15.652488</td>\n",
       "      <td>3.257094</td>\n",
       "      <td>0.625259</td>\n",
       "      <td>0.503933</td>\n",
       "    </tr>\n",
       "    <tr>\n",
       "      <th>min</th>\n",
       "      <td>2.000000</td>\n",
       "      <td>1.000000</td>\n",
       "      <td>1.000000</td>\n",
       "      <td>0.000000</td>\n",
       "    </tr>\n",
       "    <tr>\n",
       "      <th>25%</th>\n",
       "      <td>29.000000</td>\n",
       "      <td>6.000000</td>\n",
       "      <td>3.833333</td>\n",
       "      <td>0.000000</td>\n",
       "    </tr>\n",
       "    <tr>\n",
       "      <th>50%</th>\n",
       "      <td>38.000000</td>\n",
       "      <td>8.000000</td>\n",
       "      <td>4.200000</td>\n",
       "      <td>0.000000</td>\n",
       "    </tr>\n",
       "    <tr>\n",
       "      <th>75%</th>\n",
       "      <td>48.000000</td>\n",
       "      <td>10.000000</td>\n",
       "      <td>4.625000</td>\n",
       "      <td>0.000000</td>\n",
       "    </tr>\n",
       "    <tr>\n",
       "      <th>max</th>\n",
       "      <td>136.000000</td>\n",
       "      <td>28.000000</td>\n",
       "      <td>7.444444</td>\n",
       "      <td>5.000000</td>\n",
       "    </tr>\n",
       "  </tbody>\n",
       "</table>\n",
       "</div>"
      ],
      "text/plain": [
       "         char_count    word_count  word_density  punctuation_count\n",
       "count  15000.000000  15000.000000  15000.000000       15000.000000\n",
       "mean      39.698200      8.291400      4.237158           0.226867\n",
       "std       15.652488      3.257094      0.625259           0.503933\n",
       "min        2.000000      1.000000      1.000000           0.000000\n",
       "25%       29.000000      6.000000      3.833333           0.000000\n",
       "50%       38.000000      8.000000      4.200000           0.000000\n",
       "75%       48.000000     10.000000      4.625000           0.000000\n",
       "max      136.000000     28.000000      7.444444           5.000000"
      ]
     },
     "execution_count": 22,
     "metadata": {},
     "output_type": "execute_result"
    }
   ],
   "source": [
    "## lets summarize the Newly Created Features\n",
    "df[['char_count','word_count','word_density','punctuation_count']].describe()"
   ]
  },
  {
   "cell_type": "markdown",
   "id": "2c2d8c01",
   "metadata": {
    "papermill": {
     "duration": 0.054551,
     "end_time": "2021-07-30T03:07:47.243378",
     "exception": false,
     "start_time": "2021-07-30T03:07:47.188827",
     "status": "completed"
    },
    "tags": []
   },
   "source": [
    "### Adjectives\n",
    "\n",
    "In linguistics, an adjective is a word that modifies a noun or noun phrase or describes its referent. Its semantic role is to change information given by the noun. Adjectives are one of the main parts of speech of the English language, although historically they were classed together with nouns."
   ]
  },
  {
   "cell_type": "code",
   "execution_count": 23,
   "id": "285ffa5d",
   "metadata": {
    "execution": {
     "iopub.execute_input": "2021-07-30T03:07:47.356814Z",
     "iopub.status.busy": "2021-07-30T03:07:47.355848Z",
     "iopub.status.idle": "2021-07-30T03:08:00.541818Z",
     "shell.execute_reply": "2021-07-30T03:08:00.542322Z",
     "shell.execute_reply.started": "2021-07-30T02:21:33.505361Z"
    },
    "papermill": {
     "duration": 13.244298,
     "end_time": "2021-07-30T03:08:00.542505",
     "exception": false,
     "start_time": "2021-07-30T03:07:47.298207",
     "status": "completed"
    },
    "tags": []
   },
   "outputs": [],
   "source": [
    "df['adj_count'] = df['text-en'].apply(lambda x: pos_check(x, 'adj'))"
   ]
  },
  {
   "cell_type": "markdown",
   "id": "83d0d8d8",
   "metadata": {
    "papermill": {
     "duration": 0.055205,
     "end_time": "2021-07-30T03:08:00.653824",
     "exception": false,
     "start_time": "2021-07-30T03:08:00.598619",
     "status": "completed"
    },
    "tags": []
   },
   "source": [
    "### Adverbs\n",
    "\n",
    "An adverb is a word or an expression that modifies a verb, adjective, another adverb, determiner, clause, preposition, or sentence. Adverbs typically express manner, place, time, frequency, degree, level of certainty, etc., answering questions such as how?, in what way?, when?, where?, and to what extent?"
   ]
  },
  {
   "cell_type": "code",
   "execution_count": 24,
   "id": "b411c867",
   "metadata": {
    "execution": {
     "iopub.execute_input": "2021-07-30T03:08:00.769186Z",
     "iopub.status.busy": "2021-07-30T03:08:00.768146Z",
     "iopub.status.idle": "2021-07-30T03:08:14.488798Z",
     "shell.execute_reply": "2021-07-30T03:08:14.487964Z",
     "shell.execute_reply.started": "2021-07-30T02:21:46.703828Z"
    },
    "papermill": {
     "duration": 13.778904,
     "end_time": "2021-07-30T03:08:14.488949",
     "exception": false,
     "start_time": "2021-07-30T03:08:00.710045",
     "status": "completed"
    },
    "tags": []
   },
   "outputs": [],
   "source": [
    "df['adv_count'] = df['text-en'].apply(lambda x: pos_check(x, 'adv'))"
   ]
  },
  {
   "cell_type": "markdown",
   "id": "f439ef1e",
   "metadata": {
    "papermill": {
     "duration": 0.054935,
     "end_time": "2021-07-30T03:08:14.598934",
     "exception": false,
     "start_time": "2021-07-30T03:08:14.543999",
     "status": "completed"
    },
    "tags": []
   },
   "source": [
    "### Pronouns\n",
    "\n",
    "A pronoun (I, me, he, she, herself, you, it, that, they, each, few, many, who, whoever, whose, someone, everybody, etc.) is a word that takes the place of a noun. In the sentence Joe saw Jill, and he waved at her, the pronouns he and her take the place of Joe and Jill, respectively."
   ]
  },
  {
   "cell_type": "code",
   "execution_count": 25,
   "id": "29fa7b61",
   "metadata": {
    "execution": {
     "iopub.execute_input": "2021-07-30T03:08:14.716715Z",
     "iopub.status.busy": "2021-07-30T03:08:14.716009Z",
     "iopub.status.idle": "2021-07-30T03:08:27.748715Z",
     "shell.execute_reply": "2021-07-30T03:08:27.749261Z",
     "shell.execute_reply.started": "2021-07-30T02:21:59.758072Z"
    },
    "papermill": {
     "duration": 13.095254,
     "end_time": "2021-07-30T03:08:27.749451",
     "exception": false,
     "start_time": "2021-07-30T03:08:14.654197",
     "status": "completed"
    },
    "tags": []
   },
   "outputs": [],
   "source": [
    "# lets calculate the count of Pronouns in the Text\n",
    "df['pron_count'] = df['text-en'].apply(lambda x: pos_check(x, 'pron'))"
   ]
  },
  {
   "cell_type": "code",
   "execution_count": 26,
   "id": "aa839bf6",
   "metadata": {
    "execution": {
     "iopub.execute_input": "2021-07-30T03:08:27.865896Z",
     "iopub.status.busy": "2021-07-30T03:08:27.864816Z",
     "iopub.status.idle": "2021-07-30T03:08:27.891446Z",
     "shell.execute_reply": "2021-07-30T03:08:27.890913Z",
     "shell.execute_reply.started": "2021-07-30T02:22:12.859967Z"
    },
    "papermill": {
     "duration": 0.085423,
     "end_time": "2021-07-30T03:08:27.891602",
     "exception": false,
     "start_time": "2021-07-30T03:08:27.806179",
     "status": "completed"
    },
    "tags": []
   },
   "outputs": [
    {
     "data": {
      "text/html": [
       "<div>\n",
       "<style scoped>\n",
       "    .dataframe tbody tr th:only-of-type {\n",
       "        vertical-align: middle;\n",
       "    }\n",
       "\n",
       "    .dataframe tbody tr th {\n",
       "        vertical-align: top;\n",
       "    }\n",
       "\n",
       "    .dataframe thead th {\n",
       "        text-align: right;\n",
       "    }\n",
       "</style>\n",
       "<table border=\"1\" class=\"dataframe\">\n",
       "  <thead>\n",
       "    <tr style=\"text-align: right;\">\n",
       "      <th></th>\n",
       "      <th>adj_count</th>\n",
       "      <th>adv_count</th>\n",
       "      <th>pron_count</th>\n",
       "    </tr>\n",
       "  </thead>\n",
       "  <tbody>\n",
       "    <tr>\n",
       "      <th>count</th>\n",
       "      <td>15000.000000</td>\n",
       "      <td>15000.000000</td>\n",
       "      <td>15000.000000</td>\n",
       "    </tr>\n",
       "    <tr>\n",
       "      <th>mean</th>\n",
       "      <td>0.502667</td>\n",
       "      <td>0.397933</td>\n",
       "      <td>1.030267</td>\n",
       "    </tr>\n",
       "    <tr>\n",
       "      <th>std</th>\n",
       "      <td>0.674604</td>\n",
       "      <td>0.643747</td>\n",
       "      <td>0.872507</td>\n",
       "    </tr>\n",
       "    <tr>\n",
       "      <th>min</th>\n",
       "      <td>0.000000</td>\n",
       "      <td>0.000000</td>\n",
       "      <td>0.000000</td>\n",
       "    </tr>\n",
       "    <tr>\n",
       "      <th>25%</th>\n",
       "      <td>0.000000</td>\n",
       "      <td>0.000000</td>\n",
       "      <td>0.000000</td>\n",
       "    </tr>\n",
       "    <tr>\n",
       "      <th>50%</th>\n",
       "      <td>0.000000</td>\n",
       "      <td>0.000000</td>\n",
       "      <td>1.000000</td>\n",
       "    </tr>\n",
       "    <tr>\n",
       "      <th>75%</th>\n",
       "      <td>1.000000</td>\n",
       "      <td>1.000000</td>\n",
       "      <td>2.000000</td>\n",
       "    </tr>\n",
       "    <tr>\n",
       "      <th>max</th>\n",
       "      <td>5.000000</td>\n",
       "      <td>4.000000</td>\n",
       "      <td>5.000000</td>\n",
       "    </tr>\n",
       "  </tbody>\n",
       "</table>\n",
       "</div>"
      ],
      "text/plain": [
       "          adj_count     adv_count    pron_count\n",
       "count  15000.000000  15000.000000  15000.000000\n",
       "mean       0.502667      0.397933      1.030267\n",
       "std        0.674604      0.643747      0.872507\n",
       "min        0.000000      0.000000      0.000000\n",
       "25%        0.000000      0.000000      0.000000\n",
       "50%        0.000000      0.000000      1.000000\n",
       "75%        1.000000      1.000000      2.000000\n",
       "max        5.000000      4.000000      5.000000"
      ]
     },
     "execution_count": 26,
     "metadata": {},
     "output_type": "execute_result"
    }
   ],
   "source": [
    "## lets summarize the Newly Created features\n",
    "df[['adj_count','adv_count','pron_count']].describe()"
   ]
  },
  {
   "cell_type": "markdown",
   "id": "81ea7922",
   "metadata": {
    "papermill": {
     "duration": 0.054862,
     "end_time": "2021-07-30T03:08:28.001985",
     "exception": false,
     "start_time": "2021-07-30T03:08:27.947123",
     "status": "completed"
    },
    "tags": []
   },
   "source": [
    "### Now we can Clear the data"
   ]
  },
  {
   "cell_type": "code",
   "execution_count": 27,
   "id": "17233eaa",
   "metadata": {
    "execution": {
     "iopub.execute_input": "2021-07-30T03:08:28.160378Z",
     "iopub.status.busy": "2021-07-30T03:08:28.155311Z",
     "iopub.status.idle": "2021-07-30T03:08:28.221207Z",
     "shell.execute_reply": "2021-07-30T03:08:28.220629Z",
     "shell.execute_reply.started": "2021-07-30T02:22:12.890321Z"
    },
    "papermill": {
     "duration": 0.16333,
     "end_time": "2021-07-30T03:08:28.221376",
     "exception": false,
     "start_time": "2021-07-30T03:08:28.058046",
     "status": "completed"
    },
    "tags": []
   },
   "outputs": [],
   "source": [
    "# First lets remove Punctuations from the Reviews\n",
    "def punctuation_removal(messy_str):\n",
    "    clean_list = [char for char in messy_str if char not in string.punctuation]\n",
    "    clean_str = ''.join(clean_list)\n",
    "    return clean_str\n",
    "\n",
    "df['text-en'] = df['text-en'].apply(punctuation_removal)"
   ]
  },
  {
   "cell_type": "code",
   "execution_count": 28,
   "id": "5862c9ab",
   "metadata": {
    "execution": {
     "iopub.execute_input": "2021-07-30T03:08:28.389927Z",
     "iopub.status.busy": "2021-07-30T03:08:28.353741Z",
     "iopub.status.idle": "2021-07-30T03:08:28.999272Z",
     "shell.execute_reply": "2021-07-30T03:08:28.998716Z",
     "shell.execute_reply.started": "2021-07-30T02:22:12.993403Z"
    },
    "papermill": {
     "duration": 0.722498,
     "end_time": "2021-07-30T03:08:28.999421",
     "exception": false,
     "start_time": "2021-07-30T03:08:28.276923",
     "status": "completed"
    },
    "tags": []
   },
   "outputs": [],
   "source": [
    "def drop_numbers(list_text):\n",
    "    list_text_new = []\n",
    "    for i in list_text:\n",
    "        if not re.search('\\d', i):\n",
    "            list_text_new.append(i)\n",
    "    return ''.join(list_text_new)\n",
    "\n",
    "df['text-en'] = df['text-en'].apply(drop_numbers)"
   ]
  },
  {
   "cell_type": "code",
   "execution_count": 29,
   "id": "1960258e",
   "metadata": {
    "execution": {
     "iopub.execute_input": "2021-07-30T03:08:29.118924Z",
     "iopub.status.busy": "2021-07-30T03:08:29.118001Z",
     "iopub.status.idle": "2021-07-30T03:08:29.122435Z",
     "shell.execute_reply": "2021-07-30T03:08:29.121909Z",
     "shell.execute_reply.started": "2021-07-30T02:22:13.687755Z"
    },
    "papermill": {
     "duration": 0.066072,
     "end_time": "2021-07-30T03:08:29.122580",
     "exception": false,
     "start_time": "2021-07-30T03:08:29.056508",
     "status": "completed"
    },
    "tags": []
   },
   "outputs": [
    {
     "data": {
      "text/plain": [
       "'can you walk me through setting up direct deposits to my bank of internet savings accounti want to switch to direct depositset up direct deposit for mehow do i go about setting up direct depositi need to get my paycheck direct deposited to my chase accountwhat are the steps to set up direct deposit to my chase accountif i would like to set up direct deposit how do i do ithow do i direct deposit my checkwhat do i need to set up direct depositid like to have my paycheck direct deposited to my chase account'"
      ]
     },
     "execution_count": 29,
     "metadata": {},
     "output_type": "execute_result"
    }
   ],
   "source": [
    "df['text-en'].head(10).sum()"
   ]
  },
  {
   "cell_type": "code",
   "execution_count": 30,
   "id": "a2c5ad57",
   "metadata": {
    "execution": {
     "iopub.execute_input": "2021-07-30T03:08:29.239518Z",
     "iopub.status.busy": "2021-07-30T03:08:29.238849Z",
     "iopub.status.idle": "2021-07-30T03:08:29.242761Z",
     "shell.execute_reply": "2021-07-30T03:08:29.243302Z",
     "shell.execute_reply.started": "2021-07-30T02:22:13.701453Z"
    },
    "papermill": {
     "duration": 0.065342,
     "end_time": "2021-07-30T03:08:29.243476",
     "exception": false,
     "start_time": "2021-07-30T03:08:29.178134",
     "status": "completed"
    },
    "tags": []
   },
   "outputs": [
    {
     "name": "stdout",
     "output_type": "stream",
     "text": [
      "['can you walk me through setting up direct deposits\\nto my bank of internet savings accounti want to switch to \\ndirect depositset up direct deposit\\nfor mehow do i go about setting up direct depositi need \\nto get my paycheck direct deposited to my chase accountwhat are the steps to \\nset up direct deposit to my chase accountif i would like to set up direct \\ndeposit how do i do ithow do i direct deposit my checkwhat do i need to set u\\np direct depositid like to have my paycheck direct \\ndeposited to my chase account']\n"
     ]
    }
   ],
   "source": [
    "sentence_data='''can you walk me through setting up direct deposits\n",
    "to my bank of internet savings accounti want to switch to \n",
    "direct depositset up direct deposit\n",
    "for mehow do i go about setting up direct depositi need \n",
    "to get my paycheck direct deposited to my chase accountwhat are the steps to \n",
    "set up direct deposit to my chase accountif i would like to set up direct \n",
    "deposit how do i do ithow do i direct deposit my checkwhat do i need to set u\n",
    "p direct depositid like to have my paycheck direct \n",
    "deposited to my chase account'''\n",
    "nltk_tokens = nltk.sent_tokenize(sentence_data)\n",
    "print (nltk_tokens)"
   ]
  },
  {
   "cell_type": "markdown",
   "id": "290bb306",
   "metadata": {
    "papermill": {
     "duration": 0.057082,
     "end_time": "2021-07-30T03:08:29.356439",
     "exception": false,
     "start_time": "2021-07-30T03:08:29.299357",
     "status": "completed"
    },
    "tags": []
   },
   "source": [
    "### Tokenization\n",
    "\n",
    "In Python tokenization basically refers to splitting up a larger body of text into smaller lines, words or even creating words for a non-English language. The various tokenization functions in-built into the nltk module"
   ]
  },
  {
   "cell_type": "code",
   "execution_count": 31,
   "id": "b62399c5",
   "metadata": {
    "execution": {
     "iopub.execute_input": "2021-07-30T03:08:29.475082Z",
     "iopub.status.busy": "2021-07-30T03:08:29.474401Z",
     "iopub.status.idle": "2021-07-30T03:08:29.478688Z",
     "shell.execute_reply": "2021-07-30T03:08:29.478022Z",
     "shell.execute_reply.started": "2021-07-30T02:22:13.713124Z"
    },
    "papermill": {
     "duration": 0.066091,
     "end_time": "2021-07-30T03:08:29.478841",
     "exception": false,
     "start_time": "2021-07-30T03:08:29.412750",
     "status": "completed"
    },
    "tags": []
   },
   "outputs": [
    {
     "name": "stdout",
     "output_type": "stream",
     "text": [
      "['can', 'you', 'walk', 'me', 'through', 'setting', 'up', 'direct', 'deposits', 'to', 'my', 'bank', 'of', 'internet', 'savings', 'accounti', 'want', 'to', 'switch', 'to', 'direct', 'depositset', 'up', 'direct', 'deposit', 'for', 'mehow', 'do', 'i', 'go', 'about', 'setting', 'up', 'direct', 'depositi', 'need', 'to', 'get', 'my', 'paycheck', 'direct', 'deposited', 'to', 'my', 'chase', 'accountwhat', 'are', 'the', 'steps', 'to', 'set', 'up', 'direct', 'deposit', 'to', 'my', 'chase', 'accountif', 'i', 'would', 'like', 'to', 'set', 'up', 'direct', 'deposit', 'how', 'do', 'i', 'do', 'ithow', 'do', 'i', 'direct', 'deposit', 'my', 'checkwhat', 'do', 'i', 'need', 'to', 'set', 'u', 'p', 'direct', 'depositid', 'like', 'to', 'have', 'my', 'paycheck', 'direct', 'deposited', 'to', 'my', 'chase', 'account']\n"
     ]
    }
   ],
   "source": [
    "# Words Tokenization\n",
    "nltk_tokens = nltk.word_tokenize(sentence_data)\n",
    "print (nltk_tokens)"
   ]
  },
  {
   "cell_type": "code",
   "execution_count": 32,
   "id": "3f9f6fb6",
   "metadata": {
    "execution": {
     "iopub.execute_input": "2021-07-30T03:08:29.598612Z",
     "iopub.status.busy": "2021-07-30T03:08:29.597604Z",
     "iopub.status.idle": "2021-07-30T03:08:29.884110Z",
     "shell.execute_reply": "2021-07-30T03:08:29.883314Z",
     "shell.execute_reply.started": "2021-07-30T02:22:13.727051Z"
    },
    "papermill": {
     "duration": 0.348857,
     "end_time": "2021-07-30T03:08:29.884275",
     "exception": false,
     "start_time": "2021-07-30T03:08:29.535418",
     "status": "completed"
    },
    "tags": []
   },
   "outputs": [],
   "source": [
    "# Create a function to remove special characters\n",
    "def remove_special_characters(text):\n",
    "    pat = r'[^a-zA-z0-9]' \n",
    "    return re.sub(pat, ' ', text)\n",
    " \n",
    "# lets apply this function\n",
    "df['text-en'] = df.apply(lambda x: remove_special_characters(x['text-en']), axis = 1)"
   ]
  },
  {
   "cell_type": "code",
   "execution_count": 33,
   "id": "12234f58",
   "metadata": {
    "execution": {
     "iopub.execute_input": "2021-07-30T03:08:30.007195Z",
     "iopub.status.busy": "2021-07-30T03:08:30.006054Z",
     "iopub.status.idle": "2021-07-30T03:08:30.010589Z",
     "shell.execute_reply": "2021-07-30T03:08:30.010026Z",
     "shell.execute_reply.started": "2021-07-30T02:22:14.049633Z"
    },
    "papermill": {
     "duration": 0.068943,
     "end_time": "2021-07-30T03:08:30.010730",
     "exception": false,
     "start_time": "2021-07-30T03:08:29.941787",
     "status": "completed"
    },
    "tags": []
   },
   "outputs": [
    {
     "data": {
      "text/plain": [
       "'can you walk me through setting up direct deposits to my bank of internet savings accounti want to switch to direct depositset up direct deposit for mehow do i go about setting up direct depositi need to get my paycheck direct deposited to my chase accountwhat are the steps to set up direct deposit to my chase accountif i would like to set up direct deposit how do i do ithow do i direct deposit my checkwhat do i need to set up direct depositid like to have my paycheck direct deposited to my chase account'"
      ]
     },
     "execution_count": 33,
     "metadata": {},
     "output_type": "execute_result"
    }
   ],
   "source": [
    "df['text-en'].head(10).sum()"
   ]
  },
  {
   "cell_type": "markdown",
   "id": "402de9c8",
   "metadata": {
    "papermill": {
     "duration": 0.056962,
     "end_time": "2021-07-30T03:08:30.126713",
     "exception": false,
     "start_time": "2021-07-30T03:08:30.069751",
     "status": "completed"
    },
    "tags": []
   },
   "source": [
    "### Removing Accented Characters\n",
    "\n",
    "Accented characters are important elements which are used to signify emphasis on a particular word during pronunciation or understanding. In some instances, the accent mark also clarifies the meaning of a word, which might be different without the accent. While their use in English is largely limited but there are very good chances that you will come across accented characters/letters in a free text corpus. \n"
   ]
  },
  {
   "cell_type": "markdown",
   "id": "4af8d3de",
   "metadata": {
    "papermill": {
     "duration": 0.056985,
     "end_time": "2021-07-30T03:08:30.240396",
     "exception": false,
     "start_time": "2021-07-30T03:08:30.183411",
     "status": "completed"
    },
    "tags": []
   },
   "source": [
    "### Stopwords\n",
    "\n",
    "Stop words are a set of commonly used words in any language. For example, in English, “the”, “is” and “and”, would easily qualify as stop words. In NLP and text mining applications, stop words are used to eliminate unimportant words, allowing applications to focus on the important words instead."
   ]
  },
  {
   "cell_type": "code",
   "execution_count": 34,
   "id": "3a41e8bd",
   "metadata": {
    "execution": {
     "iopub.execute_input": "2021-07-30T03:08:30.360804Z",
     "iopub.status.busy": "2021-07-30T03:08:30.360073Z",
     "iopub.status.idle": "2021-07-30T03:08:30.773382Z",
     "shell.execute_reply": "2021-07-30T03:08:30.772853Z",
     "shell.execute_reply.started": "2021-07-30T02:22:14.061507Z"
    },
    "papermill": {
     "duration": 0.476439,
     "end_time": "2021-07-30T03:08:30.773528",
     "exception": false,
     "start_time": "2021-07-30T03:08:30.297089",
     "status": "completed"
    },
    "tags": []
   },
   "outputs": [
    {
     "name": "stdout",
     "output_type": "stream",
     "text": [
      "['walk', 'setting', 'direct', 'deposits', 'bank', 'internet', 'savings', 'accounti', 'switch', 'direct', 'depositset', 'direct', 'deposit', 'mehow', 'go', 'setting', 'direct', 'depositi', 'need', 'get', 'paycheck', 'direct', 'deposited', 'chase', 'accountwhat', 'steps', 'set', 'direct', 'deposit', 'chase', 'accountif', 'would', 'like', 'set', 'direct', 'deposit', 'ithow', 'direct', 'deposit', 'checkwhat', 'need', 'set', 'direct', 'depositid', 'like', 'paycheck', 'direct', 'deposited', 'chase', 'account']\n"
     ]
    }
   ],
   "source": [
    "# Now lets Remove the Stopwords\n",
    "\n",
    "# targeting only English Stopwords\n",
    "stop = stopwords.words('english')\n",
    "stop_words = []\n",
    "from nltk.tokenize import word_tokenize\n",
    "\n",
    "text = '''can you walk me through setting up direct deposits to my bank of\n",
    "internet savings accounti want to switch to direct depositset up direct deposit\n",
    "for mehow do i go about setting up direct depositi need to get my paycheck direct \n",
    "deposited to my chase accountwhat are the steps to set up direct deposit to my chase \n",
    "accountif i would like to set up direct deposit how do i do ithow do i direct deposit\n",
    "my checkwhat do i need to set up direct depositid like to have \n",
    "my paycheck direct deposited to my chase account'''\n",
    "text_tokens = word_tokenize(text)\n",
    "\n",
    "tokens_without_sw = [word for word in text_tokens if not word in stopwords.words()]\n",
    "\n",
    "print(tokens_without_sw)\n"
   ]
  },
  {
   "cell_type": "markdown",
   "id": "eb6eb30e",
   "metadata": {
    "papermill": {
     "duration": 0.057031,
     "end_time": "2021-07-30T03:08:30.888693",
     "exception": false,
     "start_time": "2021-07-30T03:08:30.831662",
     "status": "completed"
    },
    "tags": []
   },
   "source": [
    "### Lemmatization\n",
    "\n",
    "Though stemming and lemmatization both generate the root form of inflected/desired words, but lemmatization is an advanced form of stemming. Stemming might not result in actual word, whereas lemmatization does conversion properly with the use of vocabulary, normally aiming to remove inflectional endings only and to return the base or dictionary form of a word, which is known as the lemma.\n",
    "Before using lemmatization, we should be aware that it is considerably slower than stemming, so performance should be kept in mind before choosing stemming or lemmatization."
   ]
  },
  {
   "cell_type": "code",
   "execution_count": 35,
   "id": "45861860",
   "metadata": {
    "execution": {
     "iopub.execute_input": "2021-07-30T03:08:31.008709Z",
     "iopub.status.busy": "2021-07-30T03:08:31.008002Z",
     "iopub.status.idle": "2021-07-30T03:08:32.968925Z",
     "shell.execute_reply": "2021-07-30T03:08:32.968020Z",
     "shell.execute_reply.started": "2021-07-30T02:22:14.512271Z"
    },
    "papermill": {
     "duration": 2.023339,
     "end_time": "2021-07-30T03:08:32.969074",
     "exception": false,
     "start_time": "2021-07-30T03:08:30.945735",
     "status": "completed"
    },
    "tags": []
   },
   "outputs": [],
   "source": [
    "# for lemmatization\n",
    "import spacy\n",
    "nlp = spacy.load('en_core_web_sm',parse=True,tag=True, entity=True)"
   ]
  },
  {
   "cell_type": "code",
   "execution_count": 36,
   "id": "22470c5b",
   "metadata": {
    "execution": {
     "iopub.execute_input": "2021-07-30T03:08:33.096456Z",
     "iopub.status.busy": "2021-07-30T03:08:33.095762Z",
     "iopub.status.idle": "2021-07-30T03:08:33.099787Z",
     "shell.execute_reply": "2021-07-30T03:08:33.099273Z",
     "shell.execute_reply.started": "2021-07-30T02:22:16.679242Z"
    },
    "papermill": {
     "duration": 0.071727,
     "end_time": "2021-07-30T03:08:33.099921",
     "exception": false,
     "start_time": "2021-07-30T03:08:33.028194",
     "status": "completed"
    },
    "tags": []
   },
   "outputs": [
    {
     "data": {
      "text/plain": [
       "'can you walk me through set up direct deposit to my bank of internet save accounti want to switch to direct depositset up direct deposit for mehow do i go about set up direct depos need to get my paycheck direct deposit to my chase accountwhat are the step to set up direct deposit to my chase accountif i would like to set up direct deposit how do i do ithow do i direct deposit my checkwhat do i need to set up direct depositid like to have my paycheck direct deposit to my chase account'"
      ]
     },
     "execution_count": 36,
     "metadata": {},
     "output_type": "execute_result"
    }
   ],
   "source": [
    "# function for stemming\n",
    "def get_stem(text):\n",
    "    stemmer = nltk.porter.PorterStemmer()\n",
    "    text = ' '.join([stemmer.stem(word) for word in text.split()])\n",
    "    return text\n",
    "\n",
    "# call function\n",
    "get_stem(\"can you walk me through setting up direct deposits to my bank of internet savings accounti want to switch to direct depositset up direct deposit for mehow do i go about setting up direct depositi need to get my paycheck direct deposited to my chase accountwhat are the steps to set up direct deposit to my chase accountif i would like to set up direct deposit how do i do ithow do i direct deposit my checkwhat do i need to set up direct depositid like to have my paycheck direct deposited to my chase account \")"
   ]
  },
  {
   "cell_type": "code",
   "execution_count": 37,
   "id": "e406791d",
   "metadata": {
    "execution": {
     "iopub.execute_input": "2021-07-30T03:08:33.231165Z",
     "iopub.status.busy": "2021-07-30T03:08:33.228221Z",
     "iopub.status.idle": "2021-07-30T03:08:33.268606Z",
     "shell.execute_reply": "2021-07-30T03:08:33.267881Z",
     "shell.execute_reply.started": "2021-07-30T02:22:16.694963Z"
    },
    "papermill": {
     "duration": 0.110578,
     "end_time": "2021-07-30T03:08:33.268772",
     "exception": false,
     "start_time": "2021-07-30T03:08:33.158194",
     "status": "completed"
    },
    "tags": []
   },
   "outputs": [
    {
     "data": {
      "text/plain": [
       "'can you walk me through set up direct deposit to my bank of internet save accounti want to switch to direct depositset up direct deposit for mehow do i go about set up direct depos need to get my paycheck direct deposit to my chase accountwhat be the step to set up direct deposit to my chase accountif i would like to set up direct deposit how do i do ithow do i direct deposit my checkwhat do i need to set up direct depositid like to have my paycheck direct deposit to my chase account'"
      ]
     },
     "execution_count": 37,
     "metadata": {},
     "output_type": "execute_result"
    }
   ],
   "source": [
    "# function to remove special characters\n",
    "def get_lem(text):\n",
    "    text = nlp(text)\n",
    "    text = ' '.join([word.lemma_ if word.lemma_ != '-PRON-' else word.text for word in text])\n",
    "    return text\n",
    "\n",
    "# call function\n",
    "get_lem(\"can you walk me through set up direct deposit to my bank of internet save accounti want to switch to direct depositset up direct deposit for mehow do i go about set up direct depos need to get my paycheck direct deposit to my chase accountwhat are the step to set up direct deposit to my chase accountif i would like to set up direct deposit how do i do ithow do i direct deposit my checkwhat do i need to set up direct depositid like to have my paycheck direct deposit to my chase account \")"
   ]
  },
  {
   "cell_type": "markdown",
   "id": "c0a3fdfa",
   "metadata": {
    "papermill": {
     "duration": 0.057608,
     "end_time": "2021-07-30T03:08:33.384768",
     "exception": false,
     "start_time": "2021-07-30T03:08:33.327160",
     "status": "completed"
    },
    "tags": []
   },
   "source": [
    "### Bag of Words\n",
    "\n",
    "The bag-of-words model is a simplifying representation used in natural language processing and information retrieval (IR). In this model, a text (such as a sentence or a document) is represented as the bag (multiset) of its words, disregarding grammar and even word order but keeping multiplicity."
   ]
  },
  {
   "cell_type": "code",
   "execution_count": 38,
   "id": "aca3697e",
   "metadata": {
    "execution": {
     "iopub.execute_input": "2021-07-30T03:08:33.509797Z",
     "iopub.status.busy": "2021-07-30T03:08:33.508750Z",
     "iopub.status.idle": "2021-07-30T03:08:37.806088Z",
     "shell.execute_reply": "2021-07-30T03:08:37.805518Z",
     "shell.execute_reply.started": "2021-07-30T02:38:27.547252Z"
    },
    "papermill": {
     "duration": 4.362954,
     "end_time": "2021-07-30T03:08:37.806253",
     "exception": false,
     "start_time": "2021-07-30T03:08:33.443299",
     "status": "completed"
    },
    "tags": []
   },
   "outputs": [],
   "source": [
    "## Cleaning the Data\n",
    "\n",
    "corpus = []\n",
    "\n",
    "for i in range(0, 3150):\n",
    "    review = re.sub('[^a-zA-Z]', ' ', df['text-en'][i])  ## Removing all Unecessary items\n",
    "    review = review.lower()                                         ## Converting into Lower Case\n",
    "    review = review.split()\n",
    "    ps = PorterStemmer()                                            ## Stemming\n",
    "    review = [ps.stem(word) for word in review if not word in set(stopwords.words('english'))]  ## Removing Stopwords\n",
    "    review = ' '.join(review)\n",
    "    corpus.append(review)"
   ]
  },
  {
   "cell_type": "code",
   "execution_count": 39,
   "id": "aa403789",
   "metadata": {
    "execution": {
     "iopub.execute_input": "2021-07-30T03:08:37.955945Z",
     "iopub.status.busy": "2021-07-30T03:08:37.955120Z",
     "iopub.status.idle": "2021-07-30T03:08:37.985039Z",
     "shell.execute_reply": "2021-07-30T03:08:37.985715Z",
     "shell.execute_reply.started": "2021-07-30T02:38:34.010814Z"
    },
    "papermill": {
     "duration": 0.121755,
     "end_time": "2021-07-30T03:08:37.985949",
     "exception": false,
     "start_time": "2021-07-30T03:08:37.864194",
     "status": "completed"
    },
    "tags": []
   },
   "outputs": [
    {
     "name": "stdout",
     "output_type": "stream",
     "text": [
      "(3150, 1713)\n",
      "(15000,)\n"
     ]
    }
   ],
   "source": [
    "# creating bag of words\n",
    "from sklearn.feature_extraction.text import CountVectorizer\n",
    "from nltk.corpus import stopwords\n",
    "cv = CountVectorizer(max_features = 2500)\n",
    "\n",
    "x = cv.fit_transform(corpus).toarray()\n",
    "y = df.iloc[:, 4].values\n",
    "\n",
    "print(x.shape)\n",
    "print(y.shape)"
   ]
  },
  {
   "cell_type": "markdown",
   "id": "6ce55d49",
   "metadata": {
    "papermill": {
     "duration": 0.059984,
     "end_time": "2021-07-30T03:08:38.105814",
     "exception": false,
     "start_time": "2021-07-30T03:08:38.045830",
     "status": "completed"
    },
    "tags": []
   },
   "source": [
    "### TF-IDF\n",
    "\n",
    "TF-IDF is a statistical measure that evaluates how relevant a word is to a document in a collection of documents. This is done by multiplying two metrics: how many times a word appears in a document, and the inverse document frequency of the word across a set of documents"
   ]
  },
  {
   "cell_type": "code",
   "execution_count": 40,
   "id": "2683e059",
   "metadata": {
    "execution": {
     "iopub.execute_input": "2021-07-30T03:08:38.251657Z",
     "iopub.status.busy": "2021-07-30T03:08:38.246622Z",
     "iopub.status.idle": "2021-07-30T03:08:38.311485Z",
     "shell.execute_reply": "2021-07-30T03:08:38.311968Z",
     "shell.execute_reply.started": "2021-07-30T02:39:52.560112Z"
    },
    "papermill": {
     "duration": 0.147538,
     "end_time": "2021-07-30T03:08:38.312148",
     "exception": false,
     "start_time": "2021-07-30T03:08:38.164610",
     "status": "completed"
    },
    "tags": []
   },
   "outputs": [
    {
     "name": "stdout",
     "output_type": "stream",
     "text": [
      "(3150, 1713)\n",
      "(15000,)\n"
     ]
    }
   ],
   "source": [
    "# creating bag of words\n",
    "from sklearn.feature_extraction.text import TfidfVectorizer\n",
    "\n",
    "tf = TfidfVectorizer(max_features = 2500)\n",
    "\n",
    "x = tf.fit_transform(corpus).toarray()\n",
    "y = df.iloc[:, 4].values\n",
    "\n",
    "print(x.shape)\n",
    "print(y.shape)"
   ]
  },
  {
   "cell_type": "markdown",
   "id": "38a9a22c",
   "metadata": {
    "papermill": {
     "duration": 0.058409,
     "end_time": "2021-07-30T03:08:38.429667",
     "exception": false,
     "start_time": "2021-07-30T03:08:38.371258",
     "status": "completed"
    },
    "tags": []
   },
   "source": [
    "### Text Polarity\n",
    "\n",
    "It is the expression that determines the sentimental aspect of an opinion. In textual data, the result of sentiment analysis can be determined for each entity in the sentence, document or sentence. The sentiment polarity can be determined as positive, negative and neutral."
   ]
  },
  {
   "cell_type": "code",
   "execution_count": 41,
   "id": "b2f591b5",
   "metadata": {
    "execution": {
     "iopub.execute_input": "2021-07-30T03:08:38.579837Z",
     "iopub.status.busy": "2021-07-30T03:08:38.574522Z",
     "iopub.status.idle": "2021-07-30T03:08:41.529994Z",
     "shell.execute_reply": "2021-07-30T03:08:41.529285Z",
     "shell.execute_reply.started": "2021-07-30T02:43:17.904193Z"
    },
    "papermill": {
     "duration": 3.041279,
     "end_time": "2021-07-30T03:08:41.530141",
     "exception": false,
     "start_time": "2021-07-30T03:08:38.488862",
     "status": "completed"
    },
    "tags": []
   },
   "outputs": [],
   "source": [
    "# Lets calculate the Polarity of the Reviews\n",
    "def get_polarity(text):\n",
    "    textblob = TextBlob(str(text.encode('utf-8')))\n",
    "    pol = textblob.sentiment.polarity\n",
    "    return pol\n",
    "\n",
    "# lets apply the function\n",
    "df['polarity'] = df['text-en'].apply(get_polarity)"
   ]
  },
  {
   "cell_type": "markdown",
   "id": "b11217f1",
   "metadata": {
    "papermill": {
     "duration": 0.058083,
     "end_time": "2021-07-30T03:08:41.647927",
     "exception": false,
     "start_time": "2021-07-30T03:08:41.589844",
     "status": "completed"
    },
    "tags": []
   },
   "source": [
    "### Text Subjectivity\n",
    "\n",
    "In natural language, subjectivity refers to expression of opinions, evaluations, feelings, and speculations and thus incorporates sentiment. Subjective text is further classified with sentiment or polarity."
   ]
  },
  {
   "cell_type": "code",
   "execution_count": 42,
   "id": "5b9b5b70",
   "metadata": {
    "execution": {
     "iopub.execute_input": "2021-07-30T03:08:41.785703Z",
     "iopub.status.busy": "2021-07-30T03:08:41.780578Z",
     "iopub.status.idle": "2021-07-30T03:08:44.748617Z",
     "shell.execute_reply": "2021-07-30T03:08:44.747987Z",
     "shell.execute_reply.started": "2021-07-30T02:44:22.588077Z"
    },
    "papermill": {
     "duration": 3.042458,
     "end_time": "2021-07-30T03:08:44.748759",
     "exception": false,
     "start_time": "2021-07-30T03:08:41.706301",
     "status": "completed"
    },
    "tags": []
   },
   "outputs": [],
   "source": [
    " #Lets calculate the Subjectvity of the Reviews\n",
    "def get_subjectivity(text):\n",
    "    textblob = TextBlob(str(text.encode('utf-8')))\n",
    "    subj = textblob.sentiment.subjectivity\n",
    "    return subj\n",
    "\n",
    "# lets apply the Function\n",
    "df['subjectivity'] = df['text-en'].apply(get_subjectivity)"
   ]
  },
  {
   "cell_type": "code",
   "execution_count": 43,
   "id": "a0e0ce82",
   "metadata": {
    "execution": {
     "iopub.execute_input": "2021-07-30T03:08:44.889057Z",
     "iopub.status.busy": "2021-07-30T03:08:44.888392Z",
     "iopub.status.idle": "2021-07-30T03:08:45.898208Z",
     "shell.execute_reply": "2021-07-30T03:08:45.897601Z",
     "shell.execute_reply.started": "2021-07-30T02:44:44.820703Z"
    },
    "papermill": {
     "duration": 1.089536,
     "end_time": "2021-07-30T03:08:45.898429",
     "exception": false,
     "start_time": "2021-07-30T03:08:44.808893",
     "status": "completed"
    },
    "tags": []
   },
   "outputs": [
    {
     "name": "stderr",
     "output_type": "stream",
     "text": [
      "/opt/conda/lib/python3.7/site-packages/seaborn/distributions.py:2557: FutureWarning: `distplot` is a deprecated function and will be removed in a future version. Please adapt your code to use either `displot` (a figure-level function with similar flexibility) or `histplot` (an axes-level function for histograms).\n",
      "  warnings.warn(msg, FutureWarning)\n",
      "/opt/conda/lib/python3.7/site-packages/seaborn/distributions.py:2557: FutureWarning: `distplot` is a deprecated function and will be removed in a future version. Please adapt your code to use either `displot` (a figure-level function with similar flexibility) or `histplot` (an axes-level function for histograms).\n",
      "  warnings.warn(msg, FutureWarning)\n"
     ]
    },
    {
     "data": {
      "image/png": "[encoded data removed]",
      "text/plain": [
       "<Figure size 720x288 with 2 Axes>"
      ]
     },
     "metadata": {
      "needs_background": "light"
     },
     "output_type": "display_data"
    }
   ],
   "source": [
    "## Visualizing Polarity and Subjectivity\n",
    "\n",
    "plt.rcParams['figure.figsize'] = (10, 4)\n",
    "\n",
    "plt.subplot(1, 2, 1)\n",
    "sns.distplot(df['polarity'])\n",
    "\n",
    "plt.subplot(1, 2, 2)\n",
    "sns.distplot(df['subjectivity'])\n",
    "\n",
    "plt.suptitle('Distribution of Polarity and Subjectivity')\n",
    "plt.show()"
   ]
  },
  {
   "cell_type": "code",
   "execution_count": 44,
   "id": "0a16272e",
   "metadata": {
    "execution": {
     "iopub.execute_input": "2021-07-30T03:08:46.026398Z",
     "iopub.status.busy": "2021-07-30T03:08:46.025690Z",
     "iopub.status.idle": "2021-07-30T03:08:46.257515Z",
     "shell.execute_reply": "2021-07-30T03:08:46.256845Z",
     "shell.execute_reply.started": "2021-07-30T02:47:02.832722Z"
    },
    "papermill": {
     "duration": 0.298729,
     "end_time": "2021-07-30T03:08:46.257700",
     "exception": false,
     "start_time": "2021-07-30T03:08:45.958971",
     "status": "completed"
    },
    "tags": []
   },
   "outputs": [
    {
     "name": "stderr",
     "output_type": "stream",
     "text": [
      "/opt/conda/lib/python3.7/site-packages/seaborn/_decorators.py:43: FutureWarning: Pass the following variables as keyword args: x, y. From version 0.12, the only valid positional argument will be `data`, and passing other arguments without an explicit keyword will result in an error or misinterpretation.\n",
      "  FutureWarning\n"
     ]
    },
    {
     "data": {
      "image/png": "[encoded data removed]",
      "text/plain": [
       "<Figure size 720x288 with 1 Axes>"
      ]
     },
     "metadata": {
      "needs_background": "light"
     },
     "output_type": "display_data"
    }
   ],
   "source": [
    "# lets check relation between Polarity and Subjectivity\n",
    "\n",
    "sns.scatterplot(df['polarity'], df['subjectivity'])\n",
    "plt.title('Polarity vs Subjectivity')\n",
    "plt.show()"
   ]
  },
  {
   "cell_type": "code",
   "execution_count": 45,
   "id": "2fa8c772",
   "metadata": {
    "execution": {
     "iopub.execute_input": "2021-07-30T03:08:46.391784Z",
     "iopub.status.busy": "2021-07-30T03:08:46.391088Z",
     "iopub.status.idle": "2021-07-30T03:08:56.832154Z",
     "shell.execute_reply": "2021-07-30T03:08:56.832726Z",
     "shell.execute_reply.started": "2021-07-30T02:47:24.304818Z"
    },
    "papermill": {
     "duration": 10.511452,
     "end_time": "2021-07-30T03:08:56.832905",
     "exception": false,
     "start_time": "2021-07-30T03:08:46.321453",
     "status": "completed"
    },
    "tags": []
   },
   "outputs": [
    {
     "data": {
      "text/plain": [
       "<AxesSubplot:>"
      ]
     },
     "execution_count": 45,
     "metadata": {},
     "output_type": "execute_result"
    },
    {
     "data": {
      "image/png": "[encoded data removed]",
      "text/plain": [
       "<Figure size 720x288 with 1 Axes>"
      ]
     },
     "metadata": {
      "needs_background": "light"
     },
     "output_type": "display_data"
    }
   ],
   "source": [
    "sns.lineplot(data=df.drop(['subjectivity'], axis=1))"
   ]
  },
  {
   "cell_type": "code",
   "execution_count": 46,
   "id": "4185f579",
   "metadata": {
    "execution": {
     "iopub.execute_input": "2021-07-30T03:08:56.967536Z",
     "iopub.status.busy": "2021-07-30T03:08:56.966867Z",
     "iopub.status.idle": "2021-07-30T03:09:07.620143Z",
     "shell.execute_reply": "2021-07-30T03:09:07.619598Z",
     "shell.execute_reply.started": "2021-07-30T02:48:10.835749Z"
    },
    "papermill": {
     "duration": 10.721938,
     "end_time": "2021-07-30T03:09:07.620307",
     "exception": false,
     "start_time": "2021-07-30T03:08:56.898369",
     "status": "completed"
    },
    "tags": []
   },
   "outputs": [
    {
     "data": {
      "text/plain": [
       "<AxesSubplot:>"
      ]
     },
     "execution_count": 46,
     "metadata": {},
     "output_type": "execute_result"
    },
    {
     "data": {
      "image/png": "[encoded data removed]",
      "text/plain": [
       "<Figure size 720x288 with 1 Axes>"
      ]
     },
     "metadata": {
      "needs_background": "light"
     },
     "output_type": "display_data"
    }
   ],
   "source": [
    "sns.lineplot(data=df.drop(['polarity'], axis=1))"
   ]
  },
  {
   "cell_type": "code",
   "execution_count": 47,
   "id": "4eed8259",
   "metadata": {
    "execution": {
     "iopub.execute_input": "2021-07-30T03:09:07.789802Z",
     "iopub.status.busy": "2021-07-30T03:09:07.784711Z",
     "iopub.status.idle": "2021-07-30T03:09:08.009928Z",
     "shell.execute_reply": "2021-07-30T03:09:08.010411Z",
     "shell.execute_reply.started": "2021-07-30T02:57:37.074947Z"
    },
    "papermill": {
     "duration": 0.320578,
     "end_time": "2021-07-30T03:09:08.010592",
     "exception": false,
     "start_time": "2021-07-30T03:09:07.690014",
     "status": "completed"
    },
    "tags": []
   },
   "outputs": [
    {
     "data": {
      "text/plain": [
       "(array([1.000e+00, 3.000e+00, 0.000e+00, 2.000e+01, 4.800e+01, 1.000e+00,\n",
       "        5.900e+01, 4.100e+01, 1.400e+01, 9.100e+01, 6.200e+01, 1.520e+02,\n",
       "        1.460e+02, 3.080e+02, 1.111e+04, 3.830e+02, 3.690e+02, 4.050e+02,\n",
       "        4.230e+02, 1.100e+02, 1.880e+02, 2.400e+01, 6.310e+02, 1.580e+02,\n",
       "        3.000e+00, 1.730e+02, 3.400e+01, 1.000e+00, 2.000e+00, 4.000e+01]),\n",
       " array([-0.9       , -0.83666667, -0.77333333, -0.71      , -0.64666667,\n",
       "        -0.58333333, -0.52      , -0.45666667, -0.39333333, -0.33      ,\n",
       "        -0.26666667, -0.20333333, -0.14      , -0.07666667, -0.01333333,\n",
       "         0.05      ,  0.11333333,  0.17666667,  0.24      ,  0.30333333,\n",
       "         0.36666667,  0.43      ,  0.49333333,  0.55666667,  0.62      ,\n",
       "         0.68333333,  0.74666667,  0.81      ,  0.87333333,  0.93666667,\n",
       "         1.        ]),\n",
       " <BarContainer object of 30 artists>)"
      ]
     },
     "execution_count": 47,
     "metadata": {},
     "output_type": "execute_result"
    },
    {
     "data": {
      "image/png": "[encoded data removed]",
      "text/plain": [
       "<Figure size 720x288 with 1 Axes>"
      ]
     },
     "metadata": {
      "needs_background": "light"
     },
     "output_type": "display_data"
    }
   ],
   "source": [
    "plt.hist(df[\"polarity\"], bins = 30)"
   ]
  },
  {
   "cell_type": "code",
   "execution_count": 48,
   "id": "4a3a0750",
   "metadata": {
    "execution": {
     "iopub.execute_input": "2021-07-30T03:09:08.155672Z",
     "iopub.status.busy": "2021-07-30T03:09:08.154708Z",
     "iopub.status.idle": "2021-07-30T03:09:08.384905Z",
     "shell.execute_reply": "2021-07-30T03:09:08.385391Z",
     "shell.execute_reply.started": "2021-07-30T02:57:57.740178Z"
    },
    "papermill": {
     "duration": 0.302783,
     "end_time": "2021-07-30T03:09:08.385575",
     "exception": false,
     "start_time": "2021-07-30T03:09:08.082792",
     "status": "completed"
    },
    "tags": []
   },
   "outputs": [
    {
     "data": {
      "text/plain": [
       "(array([1.0274e+04, 3.9000e+01, 1.5400e+02, 1.8700e+02, 4.1000e+01,\n",
       "        7.2000e+01, 4.2600e+02, 1.4700e+02, 4.7000e+01, 2.0400e+02,\n",
       "        9.5000e+01, 1.7600e+02, 6.9500e+02, 2.9500e+02, 4.0000e+01,\n",
       "        6.8200e+02, 1.9200e+02, 2.2000e+01, 3.2700e+02, 7.3000e+01,\n",
       "        7.4000e+01, 8.4000e+01, 1.1200e+02, 8.0000e+00, 3.1000e+01,\n",
       "        1.2000e+01, 4.5000e+01, 1.7000e+02, 4.0000e+01, 2.3600e+02]),\n",
       " array([0.        , 0.03333333, 0.06666667, 0.1       , 0.13333333,\n",
       "        0.16666667, 0.2       , 0.23333333, 0.26666667, 0.3       ,\n",
       "        0.33333333, 0.36666667, 0.4       , 0.43333333, 0.46666667,\n",
       "        0.5       , 0.53333333, 0.56666667, 0.6       , 0.63333333,\n",
       "        0.66666667, 0.7       , 0.73333333, 0.76666667, 0.8       ,\n",
       "        0.83333333, 0.86666667, 0.9       , 0.93333333, 0.96666667,\n",
       "        1.        ]),\n",
       " <BarContainer object of 30 artists>)"
      ]
     },
     "execution_count": 48,
     "metadata": {},
     "output_type": "execute_result"
    },
    {
     "data": {
      "image/png": "[encoded data removed]",
      "text/plain": [
       "<Figure size 720x288 with 1 Axes>"
      ]
     },
     "metadata": {
      "needs_background": "light"
     },
     "output_type": "display_data"
    }
   ],
   "source": [
    "plt.hist(df[\"subjectivity\"], bins = 30)"
   ]
  },
  {
   "cell_type": "code",
   "execution_count": 49,
   "id": "9c7d2fee",
   "metadata": {
    "execution": {
     "iopub.execute_input": "2021-07-30T03:09:08.530502Z",
     "iopub.status.busy": "2021-07-30T03:09:08.529501Z",
     "iopub.status.idle": "2021-07-30T03:09:08.715643Z",
     "shell.execute_reply": "2021-07-30T03:09:08.714968Z",
     "shell.execute_reply.started": "2021-07-30T02:58:29.387989Z"
    },
    "papermill": {
     "duration": 0.260367,
     "end_time": "2021-07-30T03:09:08.715787",
     "exception": false,
     "start_time": "2021-07-30T03:09:08.455420",
     "status": "completed"
    },
    "tags": []
   },
   "outputs": [
    {
     "data": {
      "text/plain": [
       "(array([10467.,   300.,   745.,   350.,  1030.,  1006.,   428.,   140.,\n",
       "           88.,   446.]),\n",
       " array([0. , 0.1, 0.2, 0.3, 0.4, 0.5, 0.6, 0.7, 0.8, 0.9, 1. ]),\n",
       " <BarContainer object of 10 artists>)"
      ]
     },
     "execution_count": 49,
     "metadata": {},
     "output_type": "execute_result"
    },
    {
     "data": {
      "image/png": "[encoded data removed]",
      "text/plain": [
       "<Figure size 720x288 with 1 Axes>"
      ]
     },
     "metadata": {
      "needs_background": "light"
     },
     "output_type": "display_data"
    }
   ],
   "source": [
    "plt.hist(df['subjectivity'], color = 'b')"
   ]
  },
  {
   "cell_type": "code",
   "execution_count": 50,
   "id": "9f025e5a",
   "metadata": {
    "execution": {
     "iopub.execute_input": "2021-07-30T03:09:08.865265Z",
     "iopub.status.busy": "2021-07-30T03:09:08.864588Z",
     "iopub.status.idle": "2021-07-30T03:09:10.093384Z",
     "shell.execute_reply": "2021-07-30T03:09:10.092348Z",
     "shell.execute_reply.started": "2021-07-30T03:02:05.849660Z"
    },
    "papermill": {
     "duration": 1.304934,
     "end_time": "2021-07-30T03:09:10.093537",
     "exception": false,
     "start_time": "2021-07-30T03:09:08.788603",
     "status": "completed"
    },
    "tags": []
   },
   "outputs": [
    {
     "data": {
      "text/html": [
       "        <script type=\"text/javascript\">\n",
       "        window.PlotlyConfig = {MathJaxConfig: 'local'};\n",
       "        if (window.MathJax) {MathJax.Hub.Config({SVG: {font: \"STIX-Web\"}});}\n",
       "        if (typeof require !== 'undefined') {\n",
       "        require.undef(\"plotly\");\n",
       "        requirejs.config({\n",
       "            paths: {\n",
       "                'plotly': ['https://cdn.plot.ly/plotly-2.2.0.min']\n",
       "            }\n",
       "        });\n",
       "        require(['plotly'], function(Plotly) {\n",
       "            window._Plotly = Plotly;\n",
       "        });\n",
       "        }\n",
       "        </script>\n",
       "        "
      ]
     },
     "metadata": {},
     "output_type": "display_data"
    },
    {
     "data": {
      "text/html": [
       "<div>                            <div id=\"c33082d3-daec-4f1e-af60-a63467192dc4\" class=\"plotly-graph-div\" style=\"height:525px; width:100%;\"></div>            <script type=\"text/javascript\">                require([\"plotly\"], function(Plotly) {                    window.PLOTLYENV=window.PLOTLYENV || {};                                    if (document.getElementById(\"c33082d3-daec-4f1e-af60-a63467192dc4\")) {                    Plotly.newPlot(                        \"c33082d3-daec-4f1e-af60-a63467192dc4\",                        [{\"hovertemplate\":\"polarity=%{marker.color}<br>subjectivity=%{z}<extra></extra>\",\"legendgroup\":\"\",\"marker\":{\"color\":[0.1,0.1,0.1,0.1,0.1,0.1,0.1,0.1,0.1,0.1,0.1,0.1,0.1,0.1,0.175,0.1,0.1,0.1,0.1,0.1,0.1,0.1,0.1,0.1,0.1,0.1,0.1,0.1,0.1,0.1,0.1,0.0,0.15000000000000002,0.1,0.1,0.1,0.1,0.1,0.1,0.1,0.1,0.05,0.1,0.1,0.175,0.1,0.3,0.1,0.1,0.1,0.0,0.0,0.0,0.0,0.0,0.0,0.4,0.0,0.0,0.3,0.0,0.5,0.0,0.0,0.5,0.5,0.25,0.5,0.5,0.0,0.5,0.0,0.5,0.0,0.0,0.0,0.0,0.25,0.0,0.25,0.0,0.0,0.5,-0.03571428571428571,0.0,0.0,0.5,0.0,0.5,0.0,0.0,0.0,0.0,0.0,0.0,0.0,0.0,0.0,0.0,0.0,0.0,0.0,0.0,0.0,0.0,0.0,0.0,0.075,0.0,0.0,0.0,0.0,0.0,0.0,0.0,0.0,0.0,0.0,0.0,0.0,0.0,0.0,0.0,0.0,0.0,0.2857142857142857,0.0,0.0,0.0,0.0,0.0,0.0,0.0,0.0,0.0,0.0,0.0,0.0,0.0,0.0,0.0,0.0,0.0,0.0,0.0,0.0,0.0,0.0,0.5,0.0,0.0,0.0,0.0,0.5,0.0,0.0,0.0,0.0,0.0,0.0,0.0,0.0,-0.3,-0.24375,0.0,0.0,0.5,0.0,0.0,0.0,0.0,0.0,-0.2,0.0,0.0,-0.5,0.2,0.0,0.0,0.0,0.0,0.0,0.0,0.0,0.0,0.06818181818181818,0.13636363636363635,-0.4,0.0,0.13636363636363635,0.8,0.0,0.0,0.0,0.2,0.0,0.2,0.0,0.0,0.0,0.0,0.0,0.0,0.0,0.0,0.0,0.2,0.0,-0.6,1.0,0.0,1.0,0.0,0.0,0.0,0.0,0.7,0.0,0.0,0.0,0.7,0.0,0.0,0.0,0.0,0.0,0.0,-0.6,0.0,0.0,0.0,0.1875,0.0,0.0,0.3333333333333333,0.5681818181818181,0.0,0.0,0.0,0.0,0.0,0.7,0.0,-0.6,0.0,0.0,0.0,0.0,0.0,0.43333333333333335,0.0,0.0,0.0,0.0,0.0,0.0,0.0,0.0,0.0,0.0,0.0,0.0,0.0,0.4,0.0,0.0,0.5,0.1,0.0,0.0,0.0,0.0,0.0,0.6,0.0,0.5,0.0,0.0,0.0,0.0,0.0,0.2857142857142857,0.0,0.0,0.0,0.0,0.0,0.0,0.0,0.0,0.0,0.0,0.0,0.4,0.0,0.0,0.0,0.0,0.0,0.0,0.0,0.0,-0.5,0.0,0.0,0.0,0.0,0.0,0.0,0.0,0.0,0.0,0.0,0.0,0.0,0.0,0.0,0.0,0.0,0.0,0.0,0.0,0.0,0.0,0.0,0.0,0.0,0.25,0.0,0.0,0.0,0.0,0.0,0.0,0.0,0.0,0.0,0.0,0.0,0.0,0.0,0.0,0.0,0.0,0.0,0.0,0.0,0.0,0.0,0.0,0.0,0.5,0.0,0.5,0.0,0.0,0.0,0.5,0.0,0.0,0.5,0.0,0.39285714285714285,0.5,0.5,0.0,0.0,0.0,0.5,0.0,0.5,0.5,0.5,0.0,0.0,0.0,0.0,0.25,0.0,0.16,0.5,0.0,0.0,0.5,0.0,0.0,0.0,0.0,0.5,0.5,0.5,0.5,0.5,0.0,0.0,0.0,0.0,0.0,0.0,0.5,0.0,0.0,0.0,0.0,0.0,0.0,0.0,0.0,0.0,0.0,0.0,0.0,0.0,0.0,0.0,0.0,0.0,0.0,0.0,0.0,0.0,0.0,0.0,0.0,0.0,0.0,0.8,0.0,0.0,0.0,0.0,0.0,0.0,0.0,0.0,-0.05,0.0,0.0,0.0,0.0,0.0,0.0,0.0,0.0,0.0,0.0,0.0,0.0,0.0,0.0,0.0,0.0,-0.5,0.0,-0.25,0.0,-0.5,0.0,0.0,0.0,0.0,0.0,-0.5,0.0,0.0,0.0,0.0,-0.25,0.0,0.0,0.0,0.0,0.0,0.0,0.0,-0.5,-0.5,0.0,0.0,0.0,0.0,0.0,0.0,0.0,0.0,0.0,0.0,0.0,0.0,0.0,0.0,0.0,0.0,-0.5,0.0,-0.15555555555555559,0.0,0.0,0.0,0.0],\"coloraxis\":\"coloraxis\",\"symbol\":\"circle\"},\"mode\":\"markers\",\"name\":\"\",\"scene\":\"scene\",\"showlegend\":false,\"type\":\"scatter3d\",\"x\":[0.1,0.1,0.1,0.1,0.1,0.1,0.1,0.1,0.1,0.1,0.1,0.1,0.1,0.1,0.175,0.1,0.1,0.1,0.1,0.1,0.1,0.1,0.1,0.1,0.1,0.1,0.1,0.1,0.1,0.1,0.1,0.0,0.15000000000000002,0.1,0.1,0.1,0.1,0.1,0.1,0.1,0.1,0.05,0.1,0.1,0.175,0.1,0.3,0.1,0.1,0.1,0.0,0.0,0.0,0.0,0.0,0.0,0.4,0.0,0.0,0.3,0.0,0.5,0.0,0.0,0.5,0.5,0.25,0.5,0.5,0.0,0.5,0.0,0.5,0.0,0.0,0.0,0.0,0.25,0.0,0.25,0.0,0.0,0.5,-0.03571428571428571,0.0,0.0,0.5,0.0,0.5,0.0,0.0,0.0,0.0,0.0,0.0,0.0,0.0,0.0,0.0,0.0,0.0,0.0,0.0,0.0,0.0,0.0,0.0,0.075,0.0,0.0,0.0,0.0,0.0,0.0,0.0,0.0,0.0,0.0,0.0,0.0,0.0,0.0,0.0,0.0,0.0,0.2857142857142857,0.0,0.0,0.0,0.0,0.0,0.0,0.0,0.0,0.0,0.0,0.0,0.0,0.0,0.0,0.0,0.0,0.0,0.0,0.0,0.0,0.0,0.0,0.5,0.0,0.0,0.0,0.0,0.5,0.0,0.0,0.0,0.0,0.0,0.0,0.0,0.0,-0.3,-0.24375,0.0,0.0,0.5,0.0,0.0,0.0,0.0,0.0,-0.2,0.0,0.0,-0.5,0.2,0.0,0.0,0.0,0.0,0.0,0.0,0.0,0.0,0.06818181818181818,0.13636363636363635,-0.4,0.0,0.13636363636363635,0.8,0.0,0.0,0.0,0.2,0.0,0.2,0.0,0.0,0.0,0.0,0.0,0.0,0.0,0.0,0.0,0.2,0.0,-0.6,1.0,0.0,1.0,0.0,0.0,0.0,0.0,0.7,0.0,0.0,0.0,0.7,0.0,0.0,0.0,0.0,0.0,0.0,-0.6,0.0,0.0,0.0,0.1875,0.0,0.0,0.3333333333333333,0.5681818181818181,0.0,0.0,0.0,0.0,0.0,0.7,0.0,-0.6,0.0,0.0,0.0,0.0,0.0,0.43333333333333335,0.0,0.0,0.0,0.0,0.0,0.0,0.0,0.0,0.0,0.0,0.0,0.0,0.0,0.4,0.0,0.0,0.5,0.1,0.0,0.0,0.0,0.0,0.0,0.6,0.0,0.5,0.0,0.0,0.0,0.0,0.0,0.2857142857142857,0.0,0.0,0.0,0.0,0.0,0.0,0.0,0.0,0.0,0.0,0.0,0.4,0.0,0.0,0.0,0.0,0.0,0.0,0.0,0.0,-0.5,0.0,0.0,0.0,0.0,0.0,0.0,0.0,0.0,0.0,0.0,0.0,0.0,0.0,0.0,0.0,0.0,0.0,0.0,0.0,0.0,0.0,0.0,0.0,0.0,0.25,0.0,0.0,0.0,0.0,0.0,0.0,0.0,0.0,0.0,0.0,0.0,0.0,0.0,0.0,0.0,0.0,0.0,0.0,0.0,0.0,0.0,0.0,0.0,0.5,0.0,0.5,0.0,0.0,0.0,0.5,0.0,0.0,0.5,0.0,0.39285714285714285,0.5,0.5,0.0,0.0,0.0,0.5,0.0,0.5,0.5,0.5,0.0,0.0,0.0,0.0,0.25,0.0,0.16,0.5,0.0,0.0,0.5,0.0,0.0,0.0,0.0,0.5,0.5,0.5,0.5,0.5,0.0,0.0,0.0,0.0,0.0,0.0,0.5,0.0,0.0,0.0,0.0,0.0,0.0,0.0,0.0,0.0,0.0,0.0,0.0,0.0,0.0,0.0,0.0,0.0,0.0,0.0,0.0,0.0,0.0,0.0,0.0,0.0,0.0,0.8,0.0,0.0,0.0,0.0,0.0,0.0,0.0,0.0,-0.05,0.0,0.0,0.0,0.0,0.0,0.0,0.0,0.0,0.0,0.0,0.0,0.0,0.0,0.0,0.0,0.0,-0.5,0.0,-0.25,0.0,-0.5,0.0,0.0,0.0,0.0,0.0,-0.5,0.0,0.0,0.0,0.0,-0.25,0.0,0.0,0.0,0.0,0.0,0.0,0.0,-0.5,-0.5,0.0,0.0,0.0,0.0,0.0,0.0,0.0,0.0,0.0,0.0,0.0,0.0,0.0,0.0,0.0,0.0,-0.5,0.0,-0.15555555555555559,0.0,0.0,0.0,0.0],\"y\":[0.4,0.4,0.4,0.4,0.4,0.4,0.4,0.4,0.4,0.4,0.4,0.4,0.4,0.4,0.3666666666666667,0.4,0.4,0.4,0.4,0.4,0.4,0.4,0.4,0.4,0.4,0.4,0.4,0.4,0.4,0.4,0.4,0.6666666666666666,0.30000000000000004,0.4,0.4,0.4,0.4,0.4,0.4,0.4,0.4,0.2625,0.4,0.4,0.3666666666666667,0.4,0.3833333333333333,0.4,0.4,0.4,0.0,0.0,0.0,0.0,0.0,0.0,0.45,0.0,0.0,0.75,0.0,0.5,0.0,0.0,0.5,0.5,0.25,0.5,0.5,0.0,0.5,0.0,0.5,0.0,0.0,0.1,0.0,0.25,0.0,0.3,0.0,0.0,0.5,0.12142857142857143,0.0,0.0,0.5,0.0,0.5,0.0,0.0,0.0,0.0,0.1,0.0,0.0,0.0,0.0,0.0,0.0,0.0,0.0,0.0,0.0,0.0,0.0,0.0,0.32499999999999996,0.0,0.0,0.0,0.0,0.3333333333333333,0.3333333333333333,0.0,0.0,0.0,0.0,0.0,0.0,0.0,0.0,0.0,0.0,0.0,0.5357142857142857,0.0,0.3333333333333333,0.3333333333333333,0.0,0.0,0.0,0.0,0.0,0.0,0.0,0.0,0.0,0.0,0.0,0.0,0.0,0.0,0.0,0.0,0.0,0.0,0.0,0.8888888888888888,0.0,0.0,0.0,0.0,0.6,0.0,0.0,0.0,0.0,0.0,0.0,0.0,0.0,0.6,0.55,0.0,0.0,0.6,0.0,0.0,0.0,0.0,0.0,0.05,0.0,0.0,1.0,0.1,0.0,0.0,0.0,0.0,0.0,0.0,0.0,0.0,0.22727272727272727,0.45454545454545453,0.8,0.0,0.45454545454545453,1.0,0.0,0.0,0.0,0.1,0.0,0.5,0.0,0.0,0.0,0.0,0.0,0.0,0.0,0.0,0.0,0.625,0.0,0.95,1.0,0.0,0.3,0.0,0.0,0.0,0.0,0.6000000000000001,0.0,0.0,0.0,0.6000000000000001,0.0,0.0,0.0,0.0,0.0,0.0,0.95,0.0,0.0,0.0,0.25,0.0,0.0,0.5,0.37727272727272726,0.0,0.0,0.0,0.0,0.0,0.6000000000000001,0.0,0.95,0.0,0.0,0.0,0.0,0.0,0.8333333333333334,0.0,0.0,0.0,0.0,0.0,0.0,0.0,0.0,0.0,0.0,0.0,0.0,0.0,0.7,0.0,0.0,0.8888888888888888,0.5,0.0,0.0,0.0,0.0,0.0,0.6,0.0,0.8888888888888888,0.0,0.0,0.0,0.0,0.0,0.5357142857142857,0.0,0.0,0.0,0.0,0.0,0.0,0.0,0.0,0.0,0.0,0.0,0.6,0.0,0.0,0.0,0.0,0.0,0.0,0.0,0.0,0.9,0.0,0.0,0.0,0.0,0.0,0.0,0.0,0.0,0.0,0.0,0.0,0.0,0.0,0.0,0.0,0.0,0.0,0.0,0.0,0.0,0.0,0.0,0.0,0.0,0.25,0.0,0.0,0.0,0.0,0.0,0.0,0.0,0.0,0.0,0.0,0.0,0.0,0.0,0.0,0.0,0.0,0.0,0.0,0.0,0.0,0.0,0.0,0.0,0.5,0.0,0.5,0.0,0.0,0.4,0.5,0.0,0.0,0.625,0.575,0.5178571428571428,0.5,0.5,0.0,0.0,0.0,0.5,0.0,0.5,0.5,0.5,0.0,0.0,0.4,0.0,0.45,0.4,0.5399999999999999,0.5,0.0,0.0,0.5,0.0,0.0,0.0,0.0,0.5,0.5,0.5,0.5,0.5,0.0,0.75,0.0,0.0,0.0,0.0,0.5,0.0,0.0,0.0,0.0,0.0,0.0,0.0,0.0,0.0,0.07692307692307693,0.0,0.0,0.0,0.0,0.0,0.0,0.0,0.0,0.0,0.3333333333333333,0.0,0.0,0.0,0.0,0.0,1.0,0.2,0.0,0.0,0.0,0.0,0.0,0.0,0.0,0.0,0.4,0.0,0.0,0.0,0.0,0.0,0.0,0.0,0.0,0.0,0.0,0.0,0.0,0.0,0.0,0.0,0.0,1.0,0.0,0.5,0.0,1.0,0.0,0.0,0.0,0.0,0.0,1.0,0.25,0.0,0.0,0.0,0.5,0.0,0.0,0.0,0.0,0.0,0.0,0.0,1.0,1.0,0.0,0.0,0.0,0.0,0.0,0.0,0.0,0.0,0.0,0.0,0.0,0.0,0.0,0.0,0.0,0.0,1.0,0.0,0.2888888888888889,0.0,0.0,0.0,0.0],\"z\":[0.4,0.4,0.4,0.4,0.4,0.4,0.4,0.4,0.4,0.4,0.4,0.4,0.4,0.4,0.3666666666666667,0.4,0.4,0.4,0.4,0.4,0.4,0.4,0.4,0.4,0.4,0.4,0.4,0.4,0.4,0.4,0.4,0.6666666666666666,0.30000000000000004,0.4,0.4,0.4,0.4,0.4,0.4,0.4,0.4,0.2625,0.4,0.4,0.3666666666666667,0.4,0.3833333333333333,0.4,0.4,0.4,0.0,0.0,0.0,0.0,0.0,0.0,0.45,0.0,0.0,0.75,0.0,0.5,0.0,0.0,0.5,0.5,0.25,0.5,0.5,0.0,0.5,0.0,0.5,0.0,0.0,0.1,0.0,0.25,0.0,0.3,0.0,0.0,0.5,0.12142857142857143,0.0,0.0,0.5,0.0,0.5,0.0,0.0,0.0,0.0,0.1,0.0,0.0,0.0,0.0,0.0,0.0,0.0,0.0,0.0,0.0,0.0,0.0,0.0,0.32499999999999996,0.0,0.0,0.0,0.0,0.3333333333333333,0.3333333333333333,0.0,0.0,0.0,0.0,0.0,0.0,0.0,0.0,0.0,0.0,0.0,0.5357142857142857,0.0,0.3333333333333333,0.3333333333333333,0.0,0.0,0.0,0.0,0.0,0.0,0.0,0.0,0.0,0.0,0.0,0.0,0.0,0.0,0.0,0.0,0.0,0.0,0.0,0.8888888888888888,0.0,0.0,0.0,0.0,0.6,0.0,0.0,0.0,0.0,0.0,0.0,0.0,0.0,0.6,0.55,0.0,0.0,0.6,0.0,0.0,0.0,0.0,0.0,0.05,0.0,0.0,1.0,0.1,0.0,0.0,0.0,0.0,0.0,0.0,0.0,0.0,0.22727272727272727,0.45454545454545453,0.8,0.0,0.45454545454545453,1.0,0.0,0.0,0.0,0.1,0.0,0.5,0.0,0.0,0.0,0.0,0.0,0.0,0.0,0.0,0.0,0.625,0.0,0.95,1.0,0.0,0.3,0.0,0.0,0.0,0.0,0.6000000000000001,0.0,0.0,0.0,0.6000000000000001,0.0,0.0,0.0,0.0,0.0,0.0,0.95,0.0,0.0,0.0,0.25,0.0,0.0,0.5,0.37727272727272726,0.0,0.0,0.0,0.0,0.0,0.6000000000000001,0.0,0.95,0.0,0.0,0.0,0.0,0.0,0.8333333333333334,0.0,0.0,0.0,0.0,0.0,0.0,0.0,0.0,0.0,0.0,0.0,0.0,0.0,0.7,0.0,0.0,0.8888888888888888,0.5,0.0,0.0,0.0,0.0,0.0,0.6,0.0,0.8888888888888888,0.0,0.0,0.0,0.0,0.0,0.5357142857142857,0.0,0.0,0.0,0.0,0.0,0.0,0.0,0.0,0.0,0.0,0.0,0.6,0.0,0.0,0.0,0.0,0.0,0.0,0.0,0.0,0.9,0.0,0.0,0.0,0.0,0.0,0.0,0.0,0.0,0.0,0.0,0.0,0.0,0.0,0.0,0.0,0.0,0.0,0.0,0.0,0.0,0.0,0.0,0.0,0.0,0.25,0.0,0.0,0.0,0.0,0.0,0.0,0.0,0.0,0.0,0.0,0.0,0.0,0.0,0.0,0.0,0.0,0.0,0.0,0.0,0.0,0.0,0.0,0.0,0.5,0.0,0.5,0.0,0.0,0.4,0.5,0.0,0.0,0.625,0.575,0.5178571428571428,0.5,0.5,0.0,0.0,0.0,0.5,0.0,0.5,0.5,0.5,0.0,0.0,0.4,0.0,0.45,0.4,0.5399999999999999,0.5,0.0,0.0,0.5,0.0,0.0,0.0,0.0,0.5,0.5,0.5,0.5,0.5,0.0,0.75,0.0,0.0,0.0,0.0,0.5,0.0,0.0,0.0,0.0,0.0,0.0,0.0,0.0,0.0,0.07692307692307693,0.0,0.0,0.0,0.0,0.0,0.0,0.0,0.0,0.0,0.3333333333333333,0.0,0.0,0.0,0.0,0.0,1.0,0.2,0.0,0.0,0.0,0.0,0.0,0.0,0.0,0.0,0.4,0.0,0.0,0.0,0.0,0.0,0.0,0.0,0.0,0.0,0.0,0.0,0.0,0.0,0.0,0.0,0.0,1.0,0.0,0.5,0.0,1.0,0.0,0.0,0.0,0.0,0.0,1.0,0.25,0.0,0.0,0.0,0.5,0.0,0.0,0.0,0.0,0.0,0.0,0.0,1.0,1.0,0.0,0.0,0.0,0.0,0.0,0.0,0.0,0.0,0.0,0.0,0.0,0.0,0.0,0.0,0.0,0.0,1.0,0.0,0.2888888888888889,0.0,0.0,0.0,0.0]}],                        {\"coloraxis\":{\"colorbar\":{\"title\":{\"text\":\"polarity\"}},\"colorscale\":[[0.0,\"#0d0887\"],[0.1111111111111111,\"#46039f\"],[0.2222222222222222,\"#7201a8\"],[0.3333333333333333,\"#9c179e\"],[0.4444444444444444,\"#bd3786\"],[0.5555555555555556,\"#d8576b\"],[0.6666666666666666,\"#ed7953\"],[0.7777777777777778,\"#fb9f3a\"],[0.8888888888888888,\"#fdca26\"],[1.0,\"#f0f921\"]]},\"legend\":{\"tracegroupgap\":0},\"margin\":{\"t\":60},\"scene\":{\"domain\":{\"x\":[0.0,1.0],\"y\":[0.0,1.0]},\"xaxis\":{\"title\":{\"text\":\"polarity\"}},\"yaxis\":{\"title\":{\"text\":\"subjectivity\"}},\"zaxis\":{\"title\":{\"text\":\"subjectivity\"}}},\"template\":{\"data\":{\"bar\":[{\"error_x\":{\"color\":\"#2a3f5f\"},\"error_y\":{\"color\":\"#2a3f5f\"},\"marker\":{\"line\":{\"color\":\"#E5ECF6\",\"width\":0.5},\"pattern\":{\"fillmode\":\"overlay\",\"size\":10,\"solidity\":0.2}},\"type\":\"bar\"}],\"barpolar\":[{\"marker\":{\"line\":{\"color\":\"#E5ECF6\",\"width\":0.5},\"pattern\":{\"fillmode\":\"overlay\",\"size\":10,\"solidity\":0.2}},\"type\":\"barpolar\"}],\"carpet\":[{\"aaxis\":{\"endlinecolor\":\"#2a3f5f\",\"gridcolor\":\"white\",\"linecolor\":\"white\",\"minorgridcolor\":\"white\",\"startlinecolor\":\"#2a3f5f\"},\"baxis\":{\"endlinecolor\":\"#2a3f5f\",\"gridcolor\":\"white\",\"linecolor\":\"white\",\"minorgridcolor\":\"white\",\"startlinecolor\":\"#2a3f5f\"},\"type\":\"carpet\"}],\"choropleth\":[{\"colorbar\":{\"outlinewidth\":0,\"ticks\":\"\"},\"type\":\"choropleth\"}],\"contour\":[{\"colorbar\":{\"outlinewidth\":0,\"ticks\":\"\"},\"colorscale\":[[0.0,\"#0d0887\"],[0.1111111111111111,\"#46039f\"],[0.2222222222222222,\"#7201a8\"],[0.3333333333333333,\"#9c179e\"],[0.4444444444444444,\"#bd3786\"],[0.5555555555555556,\"#d8576b\"],[0.6666666666666666,\"#ed7953\"],[0.7777777777777778,\"#fb9f3a\"],[0.8888888888888888,\"#fdca26\"],[1.0,\"#f0f921\"]],\"type\":\"contour\"}],\"contourcarpet\":[{\"colorbar\":{\"outlinewidth\":0,\"ticks\":\"\"},\"type\":\"contourcarpet\"}],\"heatmap\":[{\"colorbar\":{\"outlinewidth\":0,\"ticks\":\"\"},\"colorscale\":[[0.0,\"#0d0887\"],[0.1111111111111111,\"#46039f\"],[0.2222222222222222,\"#7201a8\"],[0.3333333333333333,\"#9c179e\"],[0.4444444444444444,\"#bd3786\"],[0.5555555555555556,\"#d8576b\"],[0.6666666666666666,\"#ed7953\"],[0.7777777777777778,\"#fb9f3a\"],[0.8888888888888888,\"#fdca26\"],[1.0,\"#f0f921\"]],\"type\":\"heatmap\"}],\"heatmapgl\":[{\"colorbar\":{\"outlinewidth\":0,\"ticks\":\"\"},\"colorscale\":[[0.0,\"#0d0887\"],[0.1111111111111111,\"#46039f\"],[0.2222222222222222,\"#7201a8\"],[0.3333333333333333,\"#9c179e\"],[0.4444444444444444,\"#bd3786\"],[0.5555555555555556,\"#d8576b\"],[0.6666666666666666,\"#ed7953\"],[0.7777777777777778,\"#fb9f3a\"],[0.8888888888888888,\"#fdca26\"],[1.0,\"#f0f921\"]],\"type\":\"heatmapgl\"}],\"histogram\":[{\"marker\":{\"pattern\":{\"fillmode\":\"overlay\",\"size\":10,\"solidity\":0.2}},\"type\":\"histogram\"}],\"histogram2d\":[{\"colorbar\":{\"outlinewidth\":0,\"ticks\":\"\"},\"colorscale\":[[0.0,\"#0d0887\"],[0.1111111111111111,\"#46039f\"],[0.2222222222222222,\"#7201a8\"],[0.3333333333333333,\"#9c179e\"],[0.4444444444444444,\"#bd3786\"],[0.5555555555555556,\"#d8576b\"],[0.6666666666666666,\"#ed7953\"],[0.7777777777777778,\"#fb9f3a\"],[0.8888888888888888,\"#fdca26\"],[1.0,\"#f0f921\"]],\"type\":\"histogram2d\"}],\"histogram2dcontour\":[{\"colorbar\":{\"outlinewidth\":0,\"ticks\":\"\"},\"colorscale\":[[0.0,\"#0d0887\"],[0.1111111111111111,\"#46039f\"],[0.2222222222222222,\"#7201a8\"],[0.3333333333333333,\"#9c179e\"],[0.4444444444444444,\"#bd3786\"],[0.5555555555555556,\"#d8576b\"],[0.6666666666666666,\"#ed7953\"],[0.7777777777777778,\"#fb9f3a\"],[0.8888888888888888,\"#fdca26\"],[1.0,\"#f0f921\"]],\"type\":\"histogram2dcontour\"}],\"mesh3d\":[{\"colorbar\":{\"outlinewidth\":0,\"ticks\":\"\"},\"type\":\"mesh3d\"}],\"parcoords\":[{\"line\":{\"colorbar\":{\"outlinewidth\":0,\"ticks\":\"\"}},\"type\":\"parcoords\"}],\"pie\":[{\"automargin\":true,\"type\":\"pie\"}],\"scatter\":[{\"marker\":{\"colorbar\":{\"outlinewidth\":0,\"ticks\":\"\"}},\"type\":\"scatter\"}],\"scatter3d\":[{\"line\":{\"colorbar\":{\"outlinewidth\":0,\"ticks\":\"\"}},\"marker\":{\"colorbar\":{\"outlinewidth\":0,\"ticks\":\"\"}},\"type\":\"scatter3d\"}],\"scattercarpet\":[{\"marker\":{\"colorbar\":{\"outlinewidth\":0,\"ticks\":\"\"}},\"type\":\"scattercarpet\"}],\"scattergeo\":[{\"marker\":{\"colorbar\":{\"outlinewidth\":0,\"ticks\":\"\"}},\"type\":\"scattergeo\"}],\"scattergl\":[{\"marker\":{\"colorbar\":{\"outlinewidth\":0,\"ticks\":\"\"}},\"type\":\"scattergl\"}],\"scattermapbox\":[{\"marker\":{\"colorbar\":{\"outlinewidth\":0,\"ticks\":\"\"}},\"type\":\"scattermapbox\"}],\"scatterpolar\":[{\"marker\":{\"colorbar\":{\"outlinewidth\":0,\"ticks\":\"\"}},\"type\":\"scatterpolar\"}],\"scatterpolargl\":[{\"marker\":{\"colorbar\":{\"outlinewidth\":0,\"ticks\":\"\"}},\"type\":\"scatterpolargl\"}],\"scatterternary\":[{\"marker\":{\"colorbar\":{\"outlinewidth\":0,\"ticks\":\"\"}},\"type\":\"scatterternary\"}],\"surface\":[{\"colorbar\":{\"outlinewidth\":0,\"ticks\":\"\"},\"colorscale\":[[0.0,\"#0d0887\"],[0.1111111111111111,\"#46039f\"],[0.2222222222222222,\"#7201a8\"],[0.3333333333333333,\"#9c179e\"],[0.4444444444444444,\"#bd3786\"],[0.5555555555555556,\"#d8576b\"],[0.6666666666666666,\"#ed7953\"],[0.7777777777777778,\"#fb9f3a\"],[0.8888888888888888,\"#fdca26\"],[1.0,\"#f0f921\"]],\"type\":\"surface\"}],\"table\":[{\"cells\":{\"fill\":{\"color\":\"#EBF0F8\"},\"line\":{\"color\":\"white\"}},\"header\":{\"fill\":{\"color\":\"#C8D4E3\"},\"line\":{\"color\":\"white\"}},\"type\":\"table\"}]},\"layout\":{\"annotationdefaults\":{\"arrowcolor\":\"#2a3f5f\",\"arrowhead\":0,\"arrowwidth\":1},\"autotypenumbers\":\"strict\",\"coloraxis\":{\"colorbar\":{\"outlinewidth\":0,\"ticks\":\"\"}},\"colorscale\":{\"diverging\":[[0,\"#8e0152\"],[0.1,\"#c51b7d\"],[0.2,\"#de77ae\"],[0.3,\"#f1b6da\"],[0.4,\"#fde0ef\"],[0.5,\"#f7f7f7\"],[0.6,\"#e6f5d0\"],[0.7,\"#b8e186\"],[0.8,\"#7fbc41\"],[0.9,\"#4d9221\"],[1,\"#276419\"]],\"sequential\":[[0.0,\"#0d0887\"],[0.1111111111111111,\"#46039f\"],[0.2222222222222222,\"#7201a8\"],[0.3333333333333333,\"#9c179e\"],[0.4444444444444444,\"#bd3786\"],[0.5555555555555556,\"#d8576b\"],[0.6666666666666666,\"#ed7953\"],[0.7777777777777778,\"#fb9f3a\"],[0.8888888888888888,\"#fdca26\"],[1.0,\"#f0f921\"]],\"sequentialminus\":[[0.0,\"#0d0887\"],[0.1111111111111111,\"#46039f\"],[0.2222222222222222,\"#7201a8\"],[0.3333333333333333,\"#9c179e\"],[0.4444444444444444,\"#bd3786\"],[0.5555555555555556,\"#d8576b\"],[0.6666666666666666,\"#ed7953\"],[0.7777777777777778,\"#fb9f3a\"],[0.8888888888888888,\"#fdca26\"],[1.0,\"#f0f921\"]]},\"colorway\":[\"#636efa\",\"#EF553B\",\"#00cc96\",\"#ab63fa\",\"#FFA15A\",\"#19d3f3\",\"#FF6692\",\"#B6E880\",\"#FF97FF\",\"#FECB52\"],\"font\":{\"color\":\"#2a3f5f\"},\"geo\":{\"bgcolor\":\"white\",\"lakecolor\":\"white\",\"landcolor\":\"#E5ECF6\",\"showlakes\":true,\"showland\":true,\"subunitcolor\":\"white\"},\"hoverlabel\":{\"align\":\"left\"},\"hovermode\":\"closest\",\"mapbox\":{\"style\":\"light\"},\"paper_bgcolor\":\"white\",\"plot_bgcolor\":\"#E5ECF6\",\"polar\":{\"angularaxis\":{\"gridcolor\":\"white\",\"linecolor\":\"white\",\"ticks\":\"\"},\"bgcolor\":\"#E5ECF6\",\"radialaxis\":{\"gridcolor\":\"white\",\"linecolor\":\"white\",\"ticks\":\"\"}},\"scene\":{\"xaxis\":{\"backgroundcolor\":\"#E5ECF6\",\"gridcolor\":\"white\",\"gridwidth\":2,\"linecolor\":\"white\",\"showbackground\":true,\"ticks\":\"\",\"zerolinecolor\":\"white\"},\"yaxis\":{\"backgroundcolor\":\"#E5ECF6\",\"gridcolor\":\"white\",\"gridwidth\":2,\"linecolor\":\"white\",\"showbackground\":true,\"ticks\":\"\",\"zerolinecolor\":\"white\"},\"zaxis\":{\"backgroundcolor\":\"#E5ECF6\",\"gridcolor\":\"white\",\"gridwidth\":2,\"linecolor\":\"white\",\"showbackground\":true,\"ticks\":\"\",\"zerolinecolor\":\"white\"}},\"shapedefaults\":{\"line\":{\"color\":\"#2a3f5f\"}},\"ternary\":{\"aaxis\":{\"gridcolor\":\"white\",\"linecolor\":\"white\",\"ticks\":\"\"},\"baxis\":{\"gridcolor\":\"white\",\"linecolor\":\"white\",\"ticks\":\"\"},\"bgcolor\":\"#E5ECF6\",\"caxis\":{\"gridcolor\":\"white\",\"linecolor\":\"white\",\"ticks\":\"\"}},\"title\":{\"x\":0.05},\"xaxis\":{\"automargin\":true,\"gridcolor\":\"white\",\"linecolor\":\"white\",\"ticks\":\"\",\"title\":{\"standoff\":15},\"zerolinecolor\":\"white\",\"zerolinewidth\":2},\"yaxis\":{\"automargin\":true,\"gridcolor\":\"white\",\"linecolor\":\"white\",\"ticks\":\"\",\"title\":{\"standoff\":15},\"zerolinecolor\":\"white\",\"zerolinewidth\":2}}}},                        {\"responsive\": true}                    ).then(function(){\n",
       "                            \n",
       "var gd = document.getElementById('c33082d3-daec-4f1e-af60-a63467192dc4');\n",
       "var x = new MutationObserver(function (mutations, observer) {{\n",
       "        var display = window.getComputedStyle(gd).display;\n",
       "        if (!display || display === 'none') {{\n",
       "            console.log([gd, 'removed!']);\n",
       "            Plotly.purge(gd);\n",
       "            observer.disconnect();\n",
       "        }}\n",
       "}});\n",
       "\n",
       "// Listen for the removal of the full notebook cells\n",
       "var notebookContainer = gd.closest('#notebook-container');\n",
       "if (notebookContainer) {{\n",
       "    x.observe(notebookContainer, {childList: true});\n",
       "}}\n",
       "\n",
       "// Listen for the clearing of the current output cell\n",
       "var outputEl = gd.closest('.output');\n",
       "if (outputEl) {{\n",
       "    x.observe(outputEl, {childList: true});\n",
       "}}\n",
       "\n",
       "                        })                };                });            </script>        </div>"
      ]
     },
     "metadata": {},
     "output_type": "display_data"
    }
   ],
   "source": [
    "fig = px.scatter_3d(df.iloc[:500], x='polarity', y='subjectivity', z='subjectivity',\n",
    "                    color='polarity')\n",
    "fig.show()\n"
   ]
  }
 ],
 "metadata": {
  "kernelspec": {
   "display_name": "Python 3",
   "language": "python",
   "name": "python3"
  },
  "language_info": {
   "codemirror_mode": {
    "name": "ipython",
    "version": 3
   },
   "file_extension": ".py",
   "mimetype": "text/x-python",
   "name": "python",
   "nbconvert_exporter": "python",
   "pygments_lexer": "ipython3",
   "version": "3.7.10"
  },
  "papermill": {
   "default_parameters": {},
   "duration": 132.995991,
   "end_time": "2021-07-30T03:09:12.066790",
   "environment_variables": {},
   "exception": null,
   "input_path": "__notebook__.ipynb",
   "output_path": "__notebook__.ipynb",
   "parameters": {},
   "start_time": "2021-07-30T03:06:59.070799",
   "version": "2.3.3"
  }
 },
 "nbformat": 4,
 "nbformat_minor": 5
}
