{
 "cells": [
  {
   "cell_type": "markdown",
   "id": "necessary-immune",
   "metadata": {
    "papermill": {
     "duration": 0.050038,
     "end_time": "2021-08-29T13:19:50.955795",
     "exception": false,
     "start_time": "2021-08-29T13:19:50.905757",
     "status": "completed"
    },
    "tags": []
   },
   "source": [
    "![IMAGE](https://images.medicinenet.com/images/featured/detail_heart4.jpg)"
   ]
  },
  {
   "cell_type": "markdown",
   "id": "vocal-fitting",
   "metadata": {
    "papermill": {
     "duration": 0.048667,
     "end_time": "2021-08-29T13:19:51.053613",
     "exception": false,
     "start_time": "2021-08-29T13:19:51.004946",
     "status": "completed"
    },
    "tags": []
   },
   "source": [
    "#### Import packge"
   ]
  },
  {
   "cell_type": "code",
   "execution_count": 1,
   "id": "available-subcommittee",
   "metadata": {
    "execution": {
     "iopub.execute_input": "2021-08-29T13:19:51.155908Z",
     "iopub.status.busy": "2021-08-29T13:19:51.154645Z",
     "iopub.status.idle": "2021-08-29T13:19:53.941943Z",
     "shell.execute_reply": "2021-08-29T13:19:53.942518Z",
     "shell.execute_reply.started": "2021-08-29T13:11:07.895570Z"
    },
    "papermill": {
     "duration": 2.840372,
     "end_time": "2021-08-29T13:19:53.942821",
     "exception": false,
     "start_time": "2021-08-29T13:19:51.102449",
     "status": "completed"
    },
    "tags": []
   },
   "outputs": [],
   "source": [
    "import pandas as pd\n",
    "import numpy as np\n",
    "import os\n",
    "import matplotlib.pyplot as plt\n",
    "import seaborn as sns\n",
    "import plotly.express as px\n",
    "from sklearn.model_selection import train_test_split\n",
    "from sklearn import preprocessing\n",
    "from sklearn.datasets import make_classification\n",
    "from sklearn.metrics import classification_report,confusion_matrix\n",
    "from sklearn.linear_model import LogisticRegression\n",
    "from sklearn.model_selection import train_test_split\n",
    "from sklearn.pipeline import make_pipeline\n",
    "from sklearn.preprocessing import StandardScaler\n",
    "from sklearn.linear_model import LogisticRegression\n",
    "from sklearn.model_selection import train_test_split\n",
    "from sklearn.neural_network import MLPRegressor\n",
    "from sklearn.metrics import mean_absolute_error \n",
    "from sklearn.metrics import mean_squared_error \n",
    "from sklearn.metrics import median_absolute_error\n",
    "from sklearn.neural_network import MLPClassifier\n",
    "from sklearn.svm import SVR\n",
    "from sklearn.svm import SVC"
   ]
  },
  {
   "cell_type": "markdown",
   "id": "likely-scottish",
   "metadata": {
    "papermill": {
     "duration": 0.048569,
     "end_time": "2021-08-29T13:19:54.040768",
     "exception": false,
     "start_time": "2021-08-29T13:19:53.992199",
     "status": "completed"
    },
    "tags": []
   },
   "source": [
    "#### Read data"
   ]
  },
  {
   "cell_type": "code",
   "execution_count": 2,
   "id": "enormous-local",
   "metadata": {
    "execution": {
     "iopub.execute_input": "2021-08-29T13:19:54.141526Z",
     "iopub.status.busy": "2021-08-29T13:19:54.140869Z",
     "iopub.status.idle": "2021-08-29T13:19:54.172954Z",
     "shell.execute_reply": "2021-08-29T13:19:54.173508Z",
     "shell.execute_reply.started": "2021-08-29T12:31:00.527732Z"
    },
    "papermill": {
     "duration": 0.083883,
     "end_time": "2021-08-29T13:19:54.173709",
     "exception": false,
     "start_time": "2021-08-29T13:19:54.089826",
     "status": "completed"
    },
    "tags": []
   },
   "outputs": [],
   "source": [
    "df=pd.read_csv('../input/heart-attack-analysis-prediction-dataset/heart.csv')\n",
    "dfg=pd.read_csv('../input/heart-attack-analysis-prediction-dataset/o2Saturation.csv')"
   ]
  },
  {
   "cell_type": "markdown",
   "id": "demanding-vertical",
   "metadata": {
    "papermill": {
     "duration": 0.048373,
     "end_time": "2021-08-29T13:19:54.270479",
     "exception": false,
     "start_time": "2021-08-29T13:19:54.222106",
     "status": "completed"
    },
    "tags": []
   },
   "source": [
    "### Showing data"
   ]
  },
  {
   "cell_type": "code",
   "execution_count": 3,
   "id": "blessed-batman",
   "metadata": {
    "execution": {
     "iopub.execute_input": "2021-08-29T13:19:54.371853Z",
     "iopub.status.busy": "2021-08-29T13:19:54.371231Z",
     "iopub.status.idle": "2021-08-29T13:19:54.454274Z",
     "shell.execute_reply": "2021-08-29T13:19:54.454744Z",
     "shell.execute_reply.started": "2021-08-29T12:31:03.618723Z"
    },
    "papermill": {
     "duration": 0.134997,
     "end_time": "2021-08-29T13:19:54.454904",
     "exception": false,
     "start_time": "2021-08-29T13:19:54.319907",
     "status": "completed"
    },
    "tags": []
   },
   "outputs": [
    {
     "data": {
      "text/html": [
       "<style  type=\"text/css\" >\n",
       "#T_f1614_row0_col0,#T_f1614_row0_col1,#T_f1614_row0_col2,#T_f1614_row0_col3,#T_f1614_row0_col5,#T_f1614_row1_col1,#T_f1614_row1_col6,#T_f1614_row1_col7,#T_f1614_row1_col9,#T_f1614_row1_col12,#T_f1614_row2_col10,#T_f1614_row2_col12,#T_f1614_row3_col1,#T_f1614_row3_col6,#T_f1614_row3_col10,#T_f1614_row3_col12,#T_f1614_row4_col4,#T_f1614_row4_col6,#T_f1614_row4_col8,#T_f1614_row4_col10,#T_f1614_row4_col12{\n",
       "            background-color:  #ffc77f;\n",
       "            color:  #000000;\n",
       "        }#T_f1614_row0_col4{\n",
       "            background-color:  #3d2618;\n",
       "            color:  #f1f1f1;\n",
       "        }#T_f1614_row0_col6,#T_f1614_row0_col7,#T_f1614_row0_col8,#T_f1614_row0_col10,#T_f1614_row0_col11,#T_f1614_row0_col12,#T_f1614_row0_col13,#T_f1614_row1_col0,#T_f1614_row1_col5,#T_f1614_row1_col8,#T_f1614_row1_col10,#T_f1614_row1_col11,#T_f1614_row1_col13,#T_f1614_row2_col1,#T_f1614_row2_col4,#T_f1614_row2_col5,#T_f1614_row2_col6,#T_f1614_row2_col8,#T_f1614_row2_col11,#T_f1614_row2_col13,#T_f1614_row3_col3,#T_f1614_row3_col5,#T_f1614_row3_col8,#T_f1614_row3_col11,#T_f1614_row3_col13,#T_f1614_row4_col1,#T_f1614_row4_col2,#T_f1614_row4_col3,#T_f1614_row4_col5,#T_f1614_row4_col9,#T_f1614_row4_col11,#T_f1614_row4_col13{\n",
       "            background-color:  #000000;\n",
       "            color:  #f1f1f1;\n",
       "        }#T_f1614_row0_col9{\n",
       "            background-color:  #b9754b;\n",
       "            color:  #000000;\n",
       "        }#T_f1614_row1_col2{\n",
       "            background-color:  #d28555;\n",
       "            color:  #000000;\n",
       "        }#T_f1614_row1_col3,#T_f1614_row2_col3{\n",
       "            background-color:  #7e5033;\n",
       "            color:  #f1f1f1;\n",
       "        }#T_f1614_row1_col4{\n",
       "            background-color:  #603d27;\n",
       "            color:  #f1f1f1;\n",
       "        }#T_f1614_row2_col0{\n",
       "            background-color:  #301e13;\n",
       "            color:  #f1f1f1;\n",
       "        }#T_f1614_row2_col2,#T_f1614_row3_col2{\n",
       "            background-color:  #69422a;\n",
       "            color:  #f1f1f1;\n",
       "        }#T_f1614_row2_col7{\n",
       "            background-color:  #bc774c;\n",
       "            color:  #000000;\n",
       "        }#T_f1614_row2_col9{\n",
       "            background-color:  #563723;\n",
       "            color:  #f1f1f1;\n",
       "        }#T_f1614_row3_col0{\n",
       "            background-color:  #e7925d;\n",
       "            color:  #000000;\n",
       "        }#T_f1614_row3_col4{\n",
       "            background-color:  #432a1b;\n",
       "            color:  #f1f1f1;\n",
       "        }#T_f1614_row3_col7{\n",
       "            background-color:  #ee9760;\n",
       "            color:  #000000;\n",
       "        }#T_f1614_row3_col9{\n",
       "            background-color:  #150d08;\n",
       "            color:  #f1f1f1;\n",
       "        }#T_f1614_row4_col0{\n",
       "            background-color:  #f29962;\n",
       "            color:  #000000;\n",
       "        }#T_f1614_row4_col7{\n",
       "            background-color:  #6e462c;\n",
       "            color:  #f1f1f1;\n",
       "        }</style><table id=\"T_f1614_\" ><thead>    <tr>        <th class=\"blank level0\" ></th>        <th class=\"col_heading level0 col0\" >age</th>        <th class=\"col_heading level0 col1\" >sex</th>        <th class=\"col_heading level0 col2\" >cp</th>        <th class=\"col_heading level0 col3\" >trtbps</th>        <th class=\"col_heading level0 col4\" >chol</th>        <th class=\"col_heading level0 col5\" >fbs</th>        <th class=\"col_heading level0 col6\" >restecg</th>        <th class=\"col_heading level0 col7\" >thalachh</th>        <th class=\"col_heading level0 col8\" >exng</th>        <th class=\"col_heading level0 col9\" >oldpeak</th>        <th class=\"col_heading level0 col10\" >slp</th>        <th class=\"col_heading level0 col11\" >caa</th>        <th class=\"col_heading level0 col12\" >thall</th>        <th class=\"col_heading level0 col13\" >output</th>    </tr></thead><tbody>\n",
       "                <tr>\n",
       "                        <th id=\"T_f1614_level0_row0\" class=\"row_heading level0 row0\" >0</th>\n",
       "                        <td id=\"T_f1614_row0_col0\" class=\"data row0 col0\" >63</td>\n",
       "                        <td id=\"T_f1614_row0_col1\" class=\"data row0 col1\" >1</td>\n",
       "                        <td id=\"T_f1614_row0_col2\" class=\"data row0 col2\" >3</td>\n",
       "                        <td id=\"T_f1614_row0_col3\" class=\"data row0 col3\" >145</td>\n",
       "                        <td id=\"T_f1614_row0_col4\" class=\"data row0 col4\" >233</td>\n",
       "                        <td id=\"T_f1614_row0_col5\" class=\"data row0 col5\" >1</td>\n",
       "                        <td id=\"T_f1614_row0_col6\" class=\"data row0 col6\" >0</td>\n",
       "                        <td id=\"T_f1614_row0_col7\" class=\"data row0 col7\" >150</td>\n",
       "                        <td id=\"T_f1614_row0_col8\" class=\"data row0 col8\" >0</td>\n",
       "                        <td id=\"T_f1614_row0_col9\" class=\"data row0 col9\" >2.300000</td>\n",
       "                        <td id=\"T_f1614_row0_col10\" class=\"data row0 col10\" >0</td>\n",
       "                        <td id=\"T_f1614_row0_col11\" class=\"data row0 col11\" >0</td>\n",
       "                        <td id=\"T_f1614_row0_col12\" class=\"data row0 col12\" >1</td>\n",
       "                        <td id=\"T_f1614_row0_col13\" class=\"data row0 col13\" >1</td>\n",
       "            </tr>\n",
       "            <tr>\n",
       "                        <th id=\"T_f1614_level0_row1\" class=\"row_heading level0 row1\" >1</th>\n",
       "                        <td id=\"T_f1614_row1_col0\" class=\"data row1 col0\" >37</td>\n",
       "                        <td id=\"T_f1614_row1_col1\" class=\"data row1 col1\" >1</td>\n",
       "                        <td id=\"T_f1614_row1_col2\" class=\"data row1 col2\" >2</td>\n",
       "                        <td id=\"T_f1614_row1_col3\" class=\"data row1 col3\" >130</td>\n",
       "                        <td id=\"T_f1614_row1_col4\" class=\"data row1 col4\" >250</td>\n",
       "                        <td id=\"T_f1614_row1_col5\" class=\"data row1 col5\" >0</td>\n",
       "                        <td id=\"T_f1614_row1_col6\" class=\"data row1 col6\" >1</td>\n",
       "                        <td id=\"T_f1614_row1_col7\" class=\"data row1 col7\" >187</td>\n",
       "                        <td id=\"T_f1614_row1_col8\" class=\"data row1 col8\" >0</td>\n",
       "                        <td id=\"T_f1614_row1_col9\" class=\"data row1 col9\" >3.500000</td>\n",
       "                        <td id=\"T_f1614_row1_col10\" class=\"data row1 col10\" >0</td>\n",
       "                        <td id=\"T_f1614_row1_col11\" class=\"data row1 col11\" >0</td>\n",
       "                        <td id=\"T_f1614_row1_col12\" class=\"data row1 col12\" >2</td>\n",
       "                        <td id=\"T_f1614_row1_col13\" class=\"data row1 col13\" >1</td>\n",
       "            </tr>\n",
       "            <tr>\n",
       "                        <th id=\"T_f1614_level0_row2\" class=\"row_heading level0 row2\" >2</th>\n",
       "                        <td id=\"T_f1614_row2_col0\" class=\"data row2 col0\" >41</td>\n",
       "                        <td id=\"T_f1614_row2_col1\" class=\"data row2 col1\" >0</td>\n",
       "                        <td id=\"T_f1614_row2_col2\" class=\"data row2 col2\" >1</td>\n",
       "                        <td id=\"T_f1614_row2_col3\" class=\"data row2 col3\" >130</td>\n",
       "                        <td id=\"T_f1614_row2_col4\" class=\"data row2 col4\" >204</td>\n",
       "                        <td id=\"T_f1614_row2_col5\" class=\"data row2 col5\" >0</td>\n",
       "                        <td id=\"T_f1614_row2_col6\" class=\"data row2 col6\" >0</td>\n",
       "                        <td id=\"T_f1614_row2_col7\" class=\"data row2 col7\" >172</td>\n",
       "                        <td id=\"T_f1614_row2_col8\" class=\"data row2 col8\" >0</td>\n",
       "                        <td id=\"T_f1614_row2_col9\" class=\"data row2 col9\" >1.400000</td>\n",
       "                        <td id=\"T_f1614_row2_col10\" class=\"data row2 col10\" >2</td>\n",
       "                        <td id=\"T_f1614_row2_col11\" class=\"data row2 col11\" >0</td>\n",
       "                        <td id=\"T_f1614_row2_col12\" class=\"data row2 col12\" >2</td>\n",
       "                        <td id=\"T_f1614_row2_col13\" class=\"data row2 col13\" >1</td>\n",
       "            </tr>\n",
       "            <tr>\n",
       "                        <th id=\"T_f1614_level0_row3\" class=\"row_heading level0 row3\" >3</th>\n",
       "                        <td id=\"T_f1614_row3_col0\" class=\"data row3 col0\" >56</td>\n",
       "                        <td id=\"T_f1614_row3_col1\" class=\"data row3 col1\" >1</td>\n",
       "                        <td id=\"T_f1614_row3_col2\" class=\"data row3 col2\" >1</td>\n",
       "                        <td id=\"T_f1614_row3_col3\" class=\"data row3 col3\" >120</td>\n",
       "                        <td id=\"T_f1614_row3_col4\" class=\"data row3 col4\" >236</td>\n",
       "                        <td id=\"T_f1614_row3_col5\" class=\"data row3 col5\" >0</td>\n",
       "                        <td id=\"T_f1614_row3_col6\" class=\"data row3 col6\" >1</td>\n",
       "                        <td id=\"T_f1614_row3_col7\" class=\"data row3 col7\" >178</td>\n",
       "                        <td id=\"T_f1614_row3_col8\" class=\"data row3 col8\" >0</td>\n",
       "                        <td id=\"T_f1614_row3_col9\" class=\"data row3 col9\" >0.800000</td>\n",
       "                        <td id=\"T_f1614_row3_col10\" class=\"data row3 col10\" >2</td>\n",
       "                        <td id=\"T_f1614_row3_col11\" class=\"data row3 col11\" >0</td>\n",
       "                        <td id=\"T_f1614_row3_col12\" class=\"data row3 col12\" >2</td>\n",
       "                        <td id=\"T_f1614_row3_col13\" class=\"data row3 col13\" >1</td>\n",
       "            </tr>\n",
       "            <tr>\n",
       "                        <th id=\"T_f1614_level0_row4\" class=\"row_heading level0 row4\" >4</th>\n",
       "                        <td id=\"T_f1614_row4_col0\" class=\"data row4 col0\" >57</td>\n",
       "                        <td id=\"T_f1614_row4_col1\" class=\"data row4 col1\" >0</td>\n",
       "                        <td id=\"T_f1614_row4_col2\" class=\"data row4 col2\" >0</td>\n",
       "                        <td id=\"T_f1614_row4_col3\" class=\"data row4 col3\" >120</td>\n",
       "                        <td id=\"T_f1614_row4_col4\" class=\"data row4 col4\" >354</td>\n",
       "                        <td id=\"T_f1614_row4_col5\" class=\"data row4 col5\" >0</td>\n",
       "                        <td id=\"T_f1614_row4_col6\" class=\"data row4 col6\" >1</td>\n",
       "                        <td id=\"T_f1614_row4_col7\" class=\"data row4 col7\" >163</td>\n",
       "                        <td id=\"T_f1614_row4_col8\" class=\"data row4 col8\" >1</td>\n",
       "                        <td id=\"T_f1614_row4_col9\" class=\"data row4 col9\" >0.600000</td>\n",
       "                        <td id=\"T_f1614_row4_col10\" class=\"data row4 col10\" >2</td>\n",
       "                        <td id=\"T_f1614_row4_col11\" class=\"data row4 col11\" >0</td>\n",
       "                        <td id=\"T_f1614_row4_col12\" class=\"data row4 col12\" >2</td>\n",
       "                        <td id=\"T_f1614_row4_col13\" class=\"data row4 col13\" >1</td>\n",
       "            </tr>\n",
       "    </tbody></table>"
      ],
      "text/plain": [
       "<pandas.io.formats.style.Styler at 0x7ffac4b67310>"
      ]
     },
     "execution_count": 3,
     "metadata": {},
     "output_type": "execute_result"
    }
   ],
   "source": [
    "df.head().style.background_gradient(cmap = 'copper')"
   ]
  },
  {
   "cell_type": "code",
   "execution_count": 4,
   "id": "automated-means",
   "metadata": {
    "execution": {
     "iopub.execute_input": "2021-08-29T13:19:54.556616Z",
     "iopub.status.busy": "2021-08-29T13:19:54.555936Z",
     "iopub.status.idle": "2021-08-29T13:19:54.569633Z",
     "shell.execute_reply": "2021-08-29T13:19:54.568955Z",
     "shell.execute_reply.started": "2021-08-29T12:26:51.936950Z"
    },
    "papermill": {
     "duration": 0.0654,
     "end_time": "2021-08-29T13:19:54.569772",
     "exception": false,
     "start_time": "2021-08-29T13:19:54.504372",
     "status": "completed"
    },
    "tags": []
   },
   "outputs": [
    {
     "data": {
      "text/html": [
       "<div>\n",
       "<style scoped>\n",
       "    .dataframe tbody tr th:only-of-type {\n",
       "        vertical-align: middle;\n",
       "    }\n",
       "\n",
       "    .dataframe tbody tr th {\n",
       "        vertical-align: top;\n",
       "    }\n",
       "\n",
       "    .dataframe thead th {\n",
       "        text-align: right;\n",
       "    }\n",
       "</style>\n",
       "<table border=\"1\" class=\"dataframe\">\n",
       "  <thead>\n",
       "    <tr style=\"text-align: right;\">\n",
       "      <th></th>\n",
       "      <th>98.6</th>\n",
       "    </tr>\n",
       "  </thead>\n",
       "  <tbody>\n",
       "    <tr>\n",
       "      <th>0</th>\n",
       "      <td>98.6</td>\n",
       "    </tr>\n",
       "    <tr>\n",
       "      <th>1</th>\n",
       "      <td>98.6</td>\n",
       "    </tr>\n",
       "    <tr>\n",
       "      <th>2</th>\n",
       "      <td>98.6</td>\n",
       "    </tr>\n",
       "    <tr>\n",
       "      <th>3</th>\n",
       "      <td>98.1</td>\n",
       "    </tr>\n",
       "    <tr>\n",
       "      <th>4</th>\n",
       "      <td>97.5</td>\n",
       "    </tr>\n",
       "  </tbody>\n",
       "</table>\n",
       "</div>"
      ],
      "text/plain": [
       "   98.6\n",
       "0  98.6\n",
       "1  98.6\n",
       "2  98.6\n",
       "3  98.1\n",
       "4  97.5"
      ]
     },
     "execution_count": 4,
     "metadata": {},
     "output_type": "execute_result"
    }
   ],
   "source": [
    "dfg.head()"
   ]
  },
  {
   "cell_type": "code",
   "execution_count": 5,
   "id": "alike-quarterly",
   "metadata": {
    "execution": {
     "iopub.execute_input": "2021-08-29T13:19:54.675479Z",
     "iopub.status.busy": "2021-08-29T13:19:54.674775Z",
     "iopub.status.idle": "2021-08-29T13:19:54.677588Z",
     "shell.execute_reply": "2021-08-29T13:19:54.678178Z",
     "shell.execute_reply.started": "2021-08-29T12:26:54.637052Z"
    },
    "papermill": {
     "duration": 0.057706,
     "end_time": "2021-08-29T13:19:54.678342",
     "exception": false,
     "start_time": "2021-08-29T13:19:54.620636",
     "status": "completed"
    },
    "tags": []
   },
   "outputs": [
    {
     "data": {
      "text/plain": [
       "(303, 14)"
      ]
     },
     "execution_count": 5,
     "metadata": {},
     "output_type": "execute_result"
    }
   ],
   "source": [
    "df.shape"
   ]
  },
  {
   "cell_type": "code",
   "execution_count": 6,
   "id": "distant-enough",
   "metadata": {
    "execution": {
     "iopub.execute_input": "2021-08-29T13:19:54.781327Z",
     "iopub.status.busy": "2021-08-29T13:19:54.780685Z",
     "iopub.status.idle": "2021-08-29T13:19:54.785256Z",
     "shell.execute_reply": "2021-08-29T13:19:54.785769Z",
     "shell.execute_reply.started": "2021-08-29T12:26:57.170907Z"
    },
    "papermill": {
     "duration": 0.057644,
     "end_time": "2021-08-29T13:19:54.785944",
     "exception": false,
     "start_time": "2021-08-29T13:19:54.728300",
     "status": "completed"
    },
    "tags": []
   },
   "outputs": [
    {
     "data": {
      "text/plain": [
       "(3585, 1)"
      ]
     },
     "execution_count": 6,
     "metadata": {},
     "output_type": "execute_result"
    }
   ],
   "source": [
    "dfg.shape"
   ]
  },
  {
   "cell_type": "code",
   "execution_count": 7,
   "id": "atlantic-hours",
   "metadata": {
    "execution": {
     "iopub.execute_input": "2021-08-29T13:19:54.888850Z",
     "iopub.status.busy": "2021-08-29T13:19:54.888245Z",
     "iopub.status.idle": "2021-08-29T13:19:54.964134Z",
     "shell.execute_reply": "2021-08-29T13:19:54.963589Z",
     "shell.execute_reply.started": "2021-08-29T12:27:00.151220Z"
    },
    "papermill": {
     "duration": 0.128401,
     "end_time": "2021-08-29T13:19:54.964271",
     "exception": false,
     "start_time": "2021-08-29T13:19:54.835870",
     "status": "completed"
    },
    "tags": []
   },
   "outputs": [
    {
     "data": {
      "text/html": [
       "<style  type=\"text/css\" >\n",
       "#T_5f573_row0_col0,#T_5f573_row0_col1,#T_5f573_row0_col2,#T_5f573_row0_col3,#T_5f573_row0_col5,#T_5f573_row0_col6,#T_5f573_row0_col7,#T_5f573_row0_col8,#T_5f573_row0_col9,#T_5f573_row0_col10,#T_5f573_row0_col11,#T_5f573_row0_col12,#T_5f573_row0_col13,#T_5f573_row7_col4{\n",
       "            background-color:  #ffc77f;\n",
       "            color:  #000000;\n",
       "        }#T_5f573_row0_col4{\n",
       "            background-color:  #9a623e;\n",
       "            color:  #000000;\n",
       "        }#T_5f573_row1_col0,#T_5f573_row5_col0{\n",
       "            background-color:  #301e13;\n",
       "            color:  #f1f1f1;\n",
       "        }#T_5f573_row1_col1,#T_5f573_row1_col2,#T_5f573_row1_col5,#T_5f573_row1_col6,#T_5f573_row1_col8,#T_5f573_row1_col9,#T_5f573_row1_col11,#T_5f573_row1_col13,#T_5f573_row2_col0,#T_5f573_row2_col1,#T_5f573_row2_col2,#T_5f573_row2_col3,#T_5f573_row2_col4,#T_5f573_row2_col5,#T_5f573_row2_col6,#T_5f573_row2_col7,#T_5f573_row2_col8,#T_5f573_row2_col9,#T_5f573_row2_col10,#T_5f573_row2_col11,#T_5f573_row2_col12,#T_5f573_row2_col13,#T_5f573_row3_col1,#T_5f573_row3_col2,#T_5f573_row3_col5,#T_5f573_row3_col6,#T_5f573_row3_col8,#T_5f573_row3_col9,#T_5f573_row3_col10,#T_5f573_row3_col11,#T_5f573_row3_col12,#T_5f573_row3_col13,#T_5f573_row4_col1,#T_5f573_row4_col2,#T_5f573_row4_col5,#T_5f573_row4_col6,#T_5f573_row4_col8,#T_5f573_row4_col9,#T_5f573_row4_col10,#T_5f573_row4_col11,#T_5f573_row4_col13,#T_5f573_row5_col1,#T_5f573_row5_col2,#T_5f573_row5_col5,#T_5f573_row5_col6,#T_5f573_row5_col8,#T_5f573_row5_col9,#T_5f573_row5_col10,#T_5f573_row5_col11,#T_5f573_row5_col13,#T_5f573_row6_col1,#T_5f573_row6_col5,#T_5f573_row6_col6,#T_5f573_row6_col8,#T_5f573_row6_col11,#T_5f573_row6_col13,#T_5f573_row7_col1,#T_5f573_row7_col5,#T_5f573_row7_col8,#T_5f573_row7_col13{\n",
       "            background-color:  #000000;\n",
       "            color:  #f1f1f1;\n",
       "        }#T_5f573_row1_col3{\n",
       "            background-color:  #7e5033;\n",
       "            color:  #f1f1f1;\n",
       "        }#T_5f573_row1_col4{\n",
       "            background-color:  #784c30;\n",
       "            color:  #f1f1f1;\n",
       "        }#T_5f573_row1_col7{\n",
       "            background-color:  #8e5a39;\n",
       "            color:  #f1f1f1;\n",
       "        }#T_5f573_row1_col10,#T_5f573_row1_col12,#T_5f573_row4_col12,#T_5f573_row5_col12,#T_5f573_row6_col2,#T_5f573_row6_col9,#T_5f573_row6_col10,#T_5f573_row7_col6,#T_5f573_row7_col10{\n",
       "            background-color:  #010100;\n",
       "            color:  #f1f1f1;\n",
       "        }#T_5f573_row3_col0{\n",
       "            background-color:  #150d08;\n",
       "            color:  #f1f1f1;\n",
       "        }#T_5f573_row3_col3{\n",
       "            background-color:  #543522;\n",
       "            color:  #f1f1f1;\n",
       "        }#T_5f573_row3_col4{\n",
       "            background-color:  #2e1d12;\n",
       "            color:  #f1f1f1;\n",
       "        }#T_5f573_row3_col7{\n",
       "            background-color:  #352215;\n",
       "            color:  #f1f1f1;\n",
       "        }#T_5f573_row4_col0{\n",
       "            background-color:  #291a10;\n",
       "            color:  #f1f1f1;\n",
       "        }#T_5f573_row4_col3{\n",
       "            background-color:  #70472d;\n",
       "            color:  #f1f1f1;\n",
       "        }#T_5f573_row4_col4{\n",
       "            background-color:  #623e27;\n",
       "            color:  #f1f1f1;\n",
       "        }#T_5f573_row4_col7{\n",
       "            background-color:  #7d4f32;\n",
       "            color:  #f1f1f1;\n",
       "        }#T_5f573_row5_col3{\n",
       "            background-color:  #7c4e32;\n",
       "            color:  #f1f1f1;\n",
       "        }#T_5f573_row5_col4{\n",
       "            background-color:  #74492f;\n",
       "            color:  #f1f1f1;\n",
       "        }#T_5f573_row5_col7{\n",
       "            background-color:  #925c3b;\n",
       "            color:  #f1f1f1;\n",
       "        }#T_5f573_row6_col0{\n",
       "            background-color:  #382316;\n",
       "            color:  #f1f1f1;\n",
       "        }#T_5f573_row6_col3{\n",
       "            background-color:  #875536;\n",
       "            color:  #f1f1f1;\n",
       "        }#T_5f573_row6_col4{\n",
       "            background-color:  #895737;\n",
       "            color:  #f1f1f1;\n",
       "        }#T_5f573_row6_col7{\n",
       "            background-color:  #a16641;\n",
       "            color:  #000000;\n",
       "        }#T_5f573_row6_col12,#T_5f573_row7_col2,#T_5f573_row7_col12{\n",
       "            background-color:  #020201;\n",
       "            color:  #f1f1f1;\n",
       "        }#T_5f573_row7_col0{\n",
       "            background-color:  #492e1d;\n",
       "            color:  #f1f1f1;\n",
       "        }#T_5f573_row7_col3,#T_5f573_row7_col7{\n",
       "            background-color:  #c97f51;\n",
       "            color:  #000000;\n",
       "        }#T_5f573_row7_col9{\n",
       "            background-color:  #060402;\n",
       "            color:  #f1f1f1;\n",
       "        }#T_5f573_row7_col11{\n",
       "            background-color:  #040201;\n",
       "            color:  #f1f1f1;\n",
       "        }</style><table id=\"T_5f573_\" ><thead>    <tr>        <th class=\"blank level0\" ></th>        <th class=\"col_heading level0 col0\" >age</th>        <th class=\"col_heading level0 col1\" >sex</th>        <th class=\"col_heading level0 col2\" >cp</th>        <th class=\"col_heading level0 col3\" >trtbps</th>        <th class=\"col_heading level0 col4\" >chol</th>        <th class=\"col_heading level0 col5\" >fbs</th>        <th class=\"col_heading level0 col6\" >restecg</th>        <th class=\"col_heading level0 col7\" >thalachh</th>        <th class=\"col_heading level0 col8\" >exng</th>        <th class=\"col_heading level0 col9\" >oldpeak</th>        <th class=\"col_heading level0 col10\" >slp</th>        <th class=\"col_heading level0 col11\" >caa</th>        <th class=\"col_heading level0 col12\" >thall</th>        <th class=\"col_heading level0 col13\" >output</th>    </tr></thead><tbody>\n",
       "                <tr>\n",
       "                        <th id=\"T_5f573_level0_row0\" class=\"row_heading level0 row0\" >count</th>\n",
       "                        <td id=\"T_5f573_row0_col0\" class=\"data row0 col0\" >303.000000</td>\n",
       "                        <td id=\"T_5f573_row0_col1\" class=\"data row0 col1\" >303.000000</td>\n",
       "                        <td id=\"T_5f573_row0_col2\" class=\"data row0 col2\" >303.000000</td>\n",
       "                        <td id=\"T_5f573_row0_col3\" class=\"data row0 col3\" >303.000000</td>\n",
       "                        <td id=\"T_5f573_row0_col4\" class=\"data row0 col4\" >303.000000</td>\n",
       "                        <td id=\"T_5f573_row0_col5\" class=\"data row0 col5\" >303.000000</td>\n",
       "                        <td id=\"T_5f573_row0_col6\" class=\"data row0 col6\" >303.000000</td>\n",
       "                        <td id=\"T_5f573_row0_col7\" class=\"data row0 col7\" >303.000000</td>\n",
       "                        <td id=\"T_5f573_row0_col8\" class=\"data row0 col8\" >303.000000</td>\n",
       "                        <td id=\"T_5f573_row0_col9\" class=\"data row0 col9\" >303.000000</td>\n",
       "                        <td id=\"T_5f573_row0_col10\" class=\"data row0 col10\" >303.000000</td>\n",
       "                        <td id=\"T_5f573_row0_col11\" class=\"data row0 col11\" >303.000000</td>\n",
       "                        <td id=\"T_5f573_row0_col12\" class=\"data row0 col12\" >303.000000</td>\n",
       "                        <td id=\"T_5f573_row0_col13\" class=\"data row0 col13\" >303.000000</td>\n",
       "            </tr>\n",
       "            <tr>\n",
       "                        <th id=\"T_5f573_level0_row1\" class=\"row_heading level0 row1\" >mean</th>\n",
       "                        <td id=\"T_5f573_row1_col0\" class=\"data row1 col0\" >54.366337</td>\n",
       "                        <td id=\"T_5f573_row1_col1\" class=\"data row1 col1\" >0.683168</td>\n",
       "                        <td id=\"T_5f573_row1_col2\" class=\"data row1 col2\" >0.966997</td>\n",
       "                        <td id=\"T_5f573_row1_col3\" class=\"data row1 col3\" >131.623762</td>\n",
       "                        <td id=\"T_5f573_row1_col4\" class=\"data row1 col4\" >246.264026</td>\n",
       "                        <td id=\"T_5f573_row1_col5\" class=\"data row1 col5\" >0.148515</td>\n",
       "                        <td id=\"T_5f573_row1_col6\" class=\"data row1 col6\" >0.528053</td>\n",
       "                        <td id=\"T_5f573_row1_col7\" class=\"data row1 col7\" >149.646865</td>\n",
       "                        <td id=\"T_5f573_row1_col8\" class=\"data row1 col8\" >0.326733</td>\n",
       "                        <td id=\"T_5f573_row1_col9\" class=\"data row1 col9\" >1.039604</td>\n",
       "                        <td id=\"T_5f573_row1_col10\" class=\"data row1 col10\" >1.399340</td>\n",
       "                        <td id=\"T_5f573_row1_col11\" class=\"data row1 col11\" >0.729373</td>\n",
       "                        <td id=\"T_5f573_row1_col12\" class=\"data row1 col12\" >2.313531</td>\n",
       "                        <td id=\"T_5f573_row1_col13\" class=\"data row1 col13\" >0.544554</td>\n",
       "            </tr>\n",
       "            <tr>\n",
       "                        <th id=\"T_5f573_level0_row2\" class=\"row_heading level0 row2\" >std</th>\n",
       "                        <td id=\"T_5f573_row2_col0\" class=\"data row2 col0\" >9.082101</td>\n",
       "                        <td id=\"T_5f573_row2_col1\" class=\"data row2 col1\" >0.466011</td>\n",
       "                        <td id=\"T_5f573_row2_col2\" class=\"data row2 col2\" >1.032052</td>\n",
       "                        <td id=\"T_5f573_row2_col3\" class=\"data row2 col3\" >17.538143</td>\n",
       "                        <td id=\"T_5f573_row2_col4\" class=\"data row2 col4\" >51.830751</td>\n",
       "                        <td id=\"T_5f573_row2_col5\" class=\"data row2 col5\" >0.356198</td>\n",
       "                        <td id=\"T_5f573_row2_col6\" class=\"data row2 col6\" >0.525860</td>\n",
       "                        <td id=\"T_5f573_row2_col7\" class=\"data row2 col7\" >22.905161</td>\n",
       "                        <td id=\"T_5f573_row2_col8\" class=\"data row2 col8\" >0.469794</td>\n",
       "                        <td id=\"T_5f573_row2_col9\" class=\"data row2 col9\" >1.161075</td>\n",
       "                        <td id=\"T_5f573_row2_col10\" class=\"data row2 col10\" >0.616226</td>\n",
       "                        <td id=\"T_5f573_row2_col11\" class=\"data row2 col11\" >1.022606</td>\n",
       "                        <td id=\"T_5f573_row2_col12\" class=\"data row2 col12\" >0.612277</td>\n",
       "                        <td id=\"T_5f573_row2_col13\" class=\"data row2 col13\" >0.498835</td>\n",
       "            </tr>\n",
       "            <tr>\n",
       "                        <th id=\"T_5f573_level0_row3\" class=\"row_heading level0 row3\" >min</th>\n",
       "                        <td id=\"T_5f573_row3_col0\" class=\"data row3 col0\" >29.000000</td>\n",
       "                        <td id=\"T_5f573_row3_col1\" class=\"data row3 col1\" >0.000000</td>\n",
       "                        <td id=\"T_5f573_row3_col2\" class=\"data row3 col2\" >0.000000</td>\n",
       "                        <td id=\"T_5f573_row3_col3\" class=\"data row3 col3\" >94.000000</td>\n",
       "                        <td id=\"T_5f573_row3_col4\" class=\"data row3 col4\" >126.000000</td>\n",
       "                        <td id=\"T_5f573_row3_col5\" class=\"data row3 col5\" >0.000000</td>\n",
       "                        <td id=\"T_5f573_row3_col6\" class=\"data row3 col6\" >0.000000</td>\n",
       "                        <td id=\"T_5f573_row3_col7\" class=\"data row3 col7\" >71.000000</td>\n",
       "                        <td id=\"T_5f573_row3_col8\" class=\"data row3 col8\" >0.000000</td>\n",
       "                        <td id=\"T_5f573_row3_col9\" class=\"data row3 col9\" >0.000000</td>\n",
       "                        <td id=\"T_5f573_row3_col10\" class=\"data row3 col10\" >0.000000</td>\n",
       "                        <td id=\"T_5f573_row3_col11\" class=\"data row3 col11\" >0.000000</td>\n",
       "                        <td id=\"T_5f573_row3_col12\" class=\"data row3 col12\" >0.000000</td>\n",
       "                        <td id=\"T_5f573_row3_col13\" class=\"data row3 col13\" >0.000000</td>\n",
       "            </tr>\n",
       "            <tr>\n",
       "                        <th id=\"T_5f573_level0_row4\" class=\"row_heading level0 row4\" >25%</th>\n",
       "                        <td id=\"T_5f573_row4_col0\" class=\"data row4 col0\" >47.500000</td>\n",
       "                        <td id=\"T_5f573_row4_col1\" class=\"data row4 col1\" >0.000000</td>\n",
       "                        <td id=\"T_5f573_row4_col2\" class=\"data row4 col2\" >0.000000</td>\n",
       "                        <td id=\"T_5f573_row4_col3\" class=\"data row4 col3\" >120.000000</td>\n",
       "                        <td id=\"T_5f573_row4_col4\" class=\"data row4 col4\" >211.000000</td>\n",
       "                        <td id=\"T_5f573_row4_col5\" class=\"data row4 col5\" >0.000000</td>\n",
       "                        <td id=\"T_5f573_row4_col6\" class=\"data row4 col6\" >0.000000</td>\n",
       "                        <td id=\"T_5f573_row4_col7\" class=\"data row4 col7\" >133.500000</td>\n",
       "                        <td id=\"T_5f573_row4_col8\" class=\"data row4 col8\" >0.000000</td>\n",
       "                        <td id=\"T_5f573_row4_col9\" class=\"data row4 col9\" >0.000000</td>\n",
       "                        <td id=\"T_5f573_row4_col10\" class=\"data row4 col10\" >1.000000</td>\n",
       "                        <td id=\"T_5f573_row4_col11\" class=\"data row4 col11\" >0.000000</td>\n",
       "                        <td id=\"T_5f573_row4_col12\" class=\"data row4 col12\" >2.000000</td>\n",
       "                        <td id=\"T_5f573_row4_col13\" class=\"data row4 col13\" >0.000000</td>\n",
       "            </tr>\n",
       "            <tr>\n",
       "                        <th id=\"T_5f573_level0_row5\" class=\"row_heading level0 row5\" >50%</th>\n",
       "                        <td id=\"T_5f573_row5_col0\" class=\"data row5 col0\" >55.000000</td>\n",
       "                        <td id=\"T_5f573_row5_col1\" class=\"data row5 col1\" >1.000000</td>\n",
       "                        <td id=\"T_5f573_row5_col2\" class=\"data row5 col2\" >1.000000</td>\n",
       "                        <td id=\"T_5f573_row5_col3\" class=\"data row5 col3\" >130.000000</td>\n",
       "                        <td id=\"T_5f573_row5_col4\" class=\"data row5 col4\" >240.000000</td>\n",
       "                        <td id=\"T_5f573_row5_col5\" class=\"data row5 col5\" >0.000000</td>\n",
       "                        <td id=\"T_5f573_row5_col6\" class=\"data row5 col6\" >1.000000</td>\n",
       "                        <td id=\"T_5f573_row5_col7\" class=\"data row5 col7\" >153.000000</td>\n",
       "                        <td id=\"T_5f573_row5_col8\" class=\"data row5 col8\" >0.000000</td>\n",
       "                        <td id=\"T_5f573_row5_col9\" class=\"data row5 col9\" >0.800000</td>\n",
       "                        <td id=\"T_5f573_row5_col10\" class=\"data row5 col10\" >1.000000</td>\n",
       "                        <td id=\"T_5f573_row5_col11\" class=\"data row5 col11\" >0.000000</td>\n",
       "                        <td id=\"T_5f573_row5_col12\" class=\"data row5 col12\" >2.000000</td>\n",
       "                        <td id=\"T_5f573_row5_col13\" class=\"data row5 col13\" >1.000000</td>\n",
       "            </tr>\n",
       "            <tr>\n",
       "                        <th id=\"T_5f573_level0_row6\" class=\"row_heading level0 row6\" >75%</th>\n",
       "                        <td id=\"T_5f573_row6_col0\" class=\"data row6 col0\" >61.000000</td>\n",
       "                        <td id=\"T_5f573_row6_col1\" class=\"data row6 col1\" >1.000000</td>\n",
       "                        <td id=\"T_5f573_row6_col2\" class=\"data row6 col2\" >2.000000</td>\n",
       "                        <td id=\"T_5f573_row6_col3\" class=\"data row6 col3\" >140.000000</td>\n",
       "                        <td id=\"T_5f573_row6_col4\" class=\"data row6 col4\" >274.500000</td>\n",
       "                        <td id=\"T_5f573_row6_col5\" class=\"data row6 col5\" >0.000000</td>\n",
       "                        <td id=\"T_5f573_row6_col6\" class=\"data row6 col6\" >1.000000</td>\n",
       "                        <td id=\"T_5f573_row6_col7\" class=\"data row6 col7\" >166.000000</td>\n",
       "                        <td id=\"T_5f573_row6_col8\" class=\"data row6 col8\" >1.000000</td>\n",
       "                        <td id=\"T_5f573_row6_col9\" class=\"data row6 col9\" >1.600000</td>\n",
       "                        <td id=\"T_5f573_row6_col10\" class=\"data row6 col10\" >2.000000</td>\n",
       "                        <td id=\"T_5f573_row6_col11\" class=\"data row6 col11\" >1.000000</td>\n",
       "                        <td id=\"T_5f573_row6_col12\" class=\"data row6 col12\" >3.000000</td>\n",
       "                        <td id=\"T_5f573_row6_col13\" class=\"data row6 col13\" >1.000000</td>\n",
       "            </tr>\n",
       "            <tr>\n",
       "                        <th id=\"T_5f573_level0_row7\" class=\"row_heading level0 row7\" >max</th>\n",
       "                        <td id=\"T_5f573_row7_col0\" class=\"data row7 col0\" >77.000000</td>\n",
       "                        <td id=\"T_5f573_row7_col1\" class=\"data row7 col1\" >1.000000</td>\n",
       "                        <td id=\"T_5f573_row7_col2\" class=\"data row7 col2\" >3.000000</td>\n",
       "                        <td id=\"T_5f573_row7_col3\" class=\"data row7 col3\" >200.000000</td>\n",
       "                        <td id=\"T_5f573_row7_col4\" class=\"data row7 col4\" >564.000000</td>\n",
       "                        <td id=\"T_5f573_row7_col5\" class=\"data row7 col5\" >1.000000</td>\n",
       "                        <td id=\"T_5f573_row7_col6\" class=\"data row7 col6\" >2.000000</td>\n",
       "                        <td id=\"T_5f573_row7_col7\" class=\"data row7 col7\" >202.000000</td>\n",
       "                        <td id=\"T_5f573_row7_col8\" class=\"data row7 col8\" >1.000000</td>\n",
       "                        <td id=\"T_5f573_row7_col9\" class=\"data row7 col9\" >6.200000</td>\n",
       "                        <td id=\"T_5f573_row7_col10\" class=\"data row7 col10\" >2.000000</td>\n",
       "                        <td id=\"T_5f573_row7_col11\" class=\"data row7 col11\" >4.000000</td>\n",
       "                        <td id=\"T_5f573_row7_col12\" class=\"data row7 col12\" >3.000000</td>\n",
       "                        <td id=\"T_5f573_row7_col13\" class=\"data row7 col13\" >1.000000</td>\n",
       "            </tr>\n",
       "    </tbody></table>"
      ],
      "text/plain": [
       "<pandas.io.formats.style.Styler at 0x7ffaa6119650>"
      ]
     },
     "execution_count": 7,
     "metadata": {},
     "output_type": "execute_result"
    }
   ],
   "source": [
    "df.describe().style.background_gradient(cmap = 'copper')"
   ]
  },
  {
   "cell_type": "code",
   "execution_count": 8,
   "id": "assured-toolbox",
   "metadata": {
    "execution": {
     "iopub.execute_input": "2021-08-29T13:19:55.073724Z",
     "iopub.status.busy": "2021-08-29T13:19:55.072899Z",
     "iopub.status.idle": "2021-08-29T13:19:55.076176Z",
     "shell.execute_reply": "2021-08-29T13:19:55.076664Z",
     "shell.execute_reply.started": "2021-08-29T12:09:14.878921Z"
    },
    "papermill": {
     "duration": 0.060252,
     "end_time": "2021-08-29T13:19:55.076827",
     "exception": false,
     "start_time": "2021-08-29T13:19:55.016575",
     "status": "completed"
    },
    "tags": []
   },
   "outputs": [
    {
     "data": {
      "text/plain": [
       "Index(['age', 'sex', 'cp', 'trtbps', 'chol', 'fbs', 'restecg', 'thalachh',\n",
       "       'exng', 'oldpeak', 'slp', 'caa', 'thall', 'output'],\n",
       "      dtype='object')"
      ]
     },
     "execution_count": 8,
     "metadata": {},
     "output_type": "execute_result"
    }
   ],
   "source": [
    "df.columns"
   ]
  },
  {
   "cell_type": "code",
   "execution_count": 9,
   "id": "immune-festival",
   "metadata": {
    "execution": {
     "iopub.execute_input": "2021-08-29T13:19:55.183229Z",
     "iopub.status.busy": "2021-08-29T13:19:55.181988Z",
     "iopub.status.idle": "2021-08-29T13:19:55.200567Z",
     "shell.execute_reply": "2021-08-29T13:19:55.201051Z",
     "shell.execute_reply.started": "2021-08-29T12:27:07.652113Z"
    },
    "papermill": {
     "duration": 0.073163,
     "end_time": "2021-08-29T13:19:55.201245",
     "exception": false,
     "start_time": "2021-08-29T13:19:55.128082",
     "status": "completed"
    },
    "tags": []
   },
   "outputs": [
    {
     "name": "stdout",
     "output_type": "stream",
     "text": [
      "<class 'pandas.core.frame.DataFrame'>\n",
      "RangeIndex: 303 entries, 0 to 302\n",
      "Data columns (total 14 columns):\n",
      " #   Column    Non-Null Count  Dtype  \n",
      "---  ------    --------------  -----  \n",
      " 0   age       303 non-null    int64  \n",
      " 1   sex       303 non-null    int64  \n",
      " 2   cp        303 non-null    int64  \n",
      " 3   trtbps    303 non-null    int64  \n",
      " 4   chol      303 non-null    int64  \n",
      " 5   fbs       303 non-null    int64  \n",
      " 6   restecg   303 non-null    int64  \n",
      " 7   thalachh  303 non-null    int64  \n",
      " 8   exng      303 non-null    int64  \n",
      " 9   oldpeak   303 non-null    float64\n",
      " 10  slp       303 non-null    int64  \n",
      " 11  caa       303 non-null    int64  \n",
      " 12  thall     303 non-null    int64  \n",
      " 13  output    303 non-null    int64  \n",
      "dtypes: float64(1), int64(13)\n",
      "memory usage: 33.3 KB\n"
     ]
    }
   ],
   "source": [
    "df.info()"
   ]
  },
  {
   "cell_type": "code",
   "execution_count": 10,
   "id": "sensitive-fraud",
   "metadata": {
    "execution": {
     "iopub.execute_input": "2021-08-29T13:19:55.330142Z",
     "iopub.status.busy": "2021-08-29T13:19:55.308405Z",
     "iopub.status.idle": "2021-08-29T13:19:55.333534Z",
     "shell.execute_reply": "2021-08-29T13:19:55.334054Z",
     "shell.execute_reply.started": "2021-08-29T12:27:11.414058Z"
    },
    "papermill": {
     "duration": 0.080821,
     "end_time": "2021-08-29T13:19:55.334227",
     "exception": false,
     "start_time": "2021-08-29T13:19:55.253406",
     "status": "completed"
    },
    "tags": []
   },
   "outputs": [
    {
     "data": {
      "text/html": [
       "<div>\n",
       "<style scoped>\n",
       "    .dataframe tbody tr th:only-of-type {\n",
       "        vertical-align: middle;\n",
       "    }\n",
       "\n",
       "    .dataframe tbody tr th {\n",
       "        vertical-align: top;\n",
       "    }\n",
       "\n",
       "    .dataframe thead th {\n",
       "        text-align: right;\n",
       "    }\n",
       "</style>\n",
       "<table border=\"1\" class=\"dataframe\">\n",
       "  <thead>\n",
       "    <tr style=\"text-align: right;\">\n",
       "      <th></th>\n",
       "      <th>age</th>\n",
       "      <th>sex</th>\n",
       "      <th>cp</th>\n",
       "      <th>trtbps</th>\n",
       "      <th>chol</th>\n",
       "      <th>fbs</th>\n",
       "      <th>restecg</th>\n",
       "      <th>thalachh</th>\n",
       "      <th>exng</th>\n",
       "      <th>oldpeak</th>\n",
       "      <th>slp</th>\n",
       "      <th>caa</th>\n",
       "      <th>thall</th>\n",
       "      <th>output</th>\n",
       "    </tr>\n",
       "  </thead>\n",
       "  <tbody>\n",
       "    <tr>\n",
       "      <th>0</th>\n",
       "      <td>False</td>\n",
       "      <td>False</td>\n",
       "      <td>False</td>\n",
       "      <td>False</td>\n",
       "      <td>False</td>\n",
       "      <td>False</td>\n",
       "      <td>False</td>\n",
       "      <td>False</td>\n",
       "      <td>False</td>\n",
       "      <td>False</td>\n",
       "      <td>False</td>\n",
       "      <td>False</td>\n",
       "      <td>False</td>\n",
       "      <td>False</td>\n",
       "    </tr>\n",
       "    <tr>\n",
       "      <th>1</th>\n",
       "      <td>False</td>\n",
       "      <td>False</td>\n",
       "      <td>False</td>\n",
       "      <td>False</td>\n",
       "      <td>False</td>\n",
       "      <td>False</td>\n",
       "      <td>False</td>\n",
       "      <td>False</td>\n",
       "      <td>False</td>\n",
       "      <td>False</td>\n",
       "      <td>False</td>\n",
       "      <td>False</td>\n",
       "      <td>False</td>\n",
       "      <td>False</td>\n",
       "    </tr>\n",
       "    <tr>\n",
       "      <th>2</th>\n",
       "      <td>False</td>\n",
       "      <td>False</td>\n",
       "      <td>False</td>\n",
       "      <td>False</td>\n",
       "      <td>False</td>\n",
       "      <td>False</td>\n",
       "      <td>False</td>\n",
       "      <td>False</td>\n",
       "      <td>False</td>\n",
       "      <td>False</td>\n",
       "      <td>False</td>\n",
       "      <td>False</td>\n",
       "      <td>False</td>\n",
       "      <td>False</td>\n",
       "    </tr>\n",
       "    <tr>\n",
       "      <th>3</th>\n",
       "      <td>False</td>\n",
       "      <td>False</td>\n",
       "      <td>False</td>\n",
       "      <td>False</td>\n",
       "      <td>False</td>\n",
       "      <td>False</td>\n",
       "      <td>False</td>\n",
       "      <td>False</td>\n",
       "      <td>False</td>\n",
       "      <td>False</td>\n",
       "      <td>False</td>\n",
       "      <td>False</td>\n",
       "      <td>False</td>\n",
       "      <td>False</td>\n",
       "    </tr>\n",
       "    <tr>\n",
       "      <th>4</th>\n",
       "      <td>False</td>\n",
       "      <td>False</td>\n",
       "      <td>False</td>\n",
       "      <td>False</td>\n",
       "      <td>False</td>\n",
       "      <td>False</td>\n",
       "      <td>False</td>\n",
       "      <td>False</td>\n",
       "      <td>False</td>\n",
       "      <td>False</td>\n",
       "      <td>False</td>\n",
       "      <td>False</td>\n",
       "      <td>False</td>\n",
       "      <td>False</td>\n",
       "    </tr>\n",
       "    <tr>\n",
       "      <th>...</th>\n",
       "      <td>...</td>\n",
       "      <td>...</td>\n",
       "      <td>...</td>\n",
       "      <td>...</td>\n",
       "      <td>...</td>\n",
       "      <td>...</td>\n",
       "      <td>...</td>\n",
       "      <td>...</td>\n",
       "      <td>...</td>\n",
       "      <td>...</td>\n",
       "      <td>...</td>\n",
       "      <td>...</td>\n",
       "      <td>...</td>\n",
       "      <td>...</td>\n",
       "    </tr>\n",
       "    <tr>\n",
       "      <th>298</th>\n",
       "      <td>False</td>\n",
       "      <td>False</td>\n",
       "      <td>False</td>\n",
       "      <td>False</td>\n",
       "      <td>False</td>\n",
       "      <td>False</td>\n",
       "      <td>False</td>\n",
       "      <td>False</td>\n",
       "      <td>False</td>\n",
       "      <td>False</td>\n",
       "      <td>False</td>\n",
       "      <td>False</td>\n",
       "      <td>False</td>\n",
       "      <td>False</td>\n",
       "    </tr>\n",
       "    <tr>\n",
       "      <th>299</th>\n",
       "      <td>False</td>\n",
       "      <td>False</td>\n",
       "      <td>False</td>\n",
       "      <td>False</td>\n",
       "      <td>False</td>\n",
       "      <td>False</td>\n",
       "      <td>False</td>\n",
       "      <td>False</td>\n",
       "      <td>False</td>\n",
       "      <td>False</td>\n",
       "      <td>False</td>\n",
       "      <td>False</td>\n",
       "      <td>False</td>\n",
       "      <td>False</td>\n",
       "    </tr>\n",
       "    <tr>\n",
       "      <th>300</th>\n",
       "      <td>False</td>\n",
       "      <td>False</td>\n",
       "      <td>False</td>\n",
       "      <td>False</td>\n",
       "      <td>False</td>\n",
       "      <td>False</td>\n",
       "      <td>False</td>\n",
       "      <td>False</td>\n",
       "      <td>False</td>\n",
       "      <td>False</td>\n",
       "      <td>False</td>\n",
       "      <td>False</td>\n",
       "      <td>False</td>\n",
       "      <td>False</td>\n",
       "    </tr>\n",
       "    <tr>\n",
       "      <th>301</th>\n",
       "      <td>False</td>\n",
       "      <td>False</td>\n",
       "      <td>False</td>\n",
       "      <td>False</td>\n",
       "      <td>False</td>\n",
       "      <td>False</td>\n",
       "      <td>False</td>\n",
       "      <td>False</td>\n",
       "      <td>False</td>\n",
       "      <td>False</td>\n",
       "      <td>False</td>\n",
       "      <td>False</td>\n",
       "      <td>False</td>\n",
       "      <td>False</td>\n",
       "    </tr>\n",
       "    <tr>\n",
       "      <th>302</th>\n",
       "      <td>False</td>\n",
       "      <td>False</td>\n",
       "      <td>False</td>\n",
       "      <td>False</td>\n",
       "      <td>False</td>\n",
       "      <td>False</td>\n",
       "      <td>False</td>\n",
       "      <td>False</td>\n",
       "      <td>False</td>\n",
       "      <td>False</td>\n",
       "      <td>False</td>\n",
       "      <td>False</td>\n",
       "      <td>False</td>\n",
       "      <td>False</td>\n",
       "    </tr>\n",
       "  </tbody>\n",
       "</table>\n",
       "<p>303 rows × 14 columns</p>\n",
       "</div>"
      ],
      "text/plain": [
       "       age    sex     cp  trtbps   chol    fbs  restecg  thalachh   exng  \\\n",
       "0    False  False  False   False  False  False    False     False  False   \n",
       "1    False  False  False   False  False  False    False     False  False   \n",
       "2    False  False  False   False  False  False    False     False  False   \n",
       "3    False  False  False   False  False  False    False     False  False   \n",
       "4    False  False  False   False  False  False    False     False  False   \n",
       "..     ...    ...    ...     ...    ...    ...      ...       ...    ...   \n",
       "298  False  False  False   False  False  False    False     False  False   \n",
       "299  False  False  False   False  False  False    False     False  False   \n",
       "300  False  False  False   False  False  False    False     False  False   \n",
       "301  False  False  False   False  False  False    False     False  False   \n",
       "302  False  False  False   False  False  False    False     False  False   \n",
       "\n",
       "     oldpeak    slp    caa  thall  output  \n",
       "0      False  False  False  False   False  \n",
       "1      False  False  False  False   False  \n",
       "2      False  False  False  False   False  \n",
       "3      False  False  False  False   False  \n",
       "4      False  False  False  False   False  \n",
       "..       ...    ...    ...    ...     ...  \n",
       "298    False  False  False  False   False  \n",
       "299    False  False  False  False   False  \n",
       "300    False  False  False  False   False  \n",
       "301    False  False  False  False   False  \n",
       "302    False  False  False  False   False  \n",
       "\n",
       "[303 rows x 14 columns]"
      ]
     },
     "execution_count": 10,
     "metadata": {},
     "output_type": "execute_result"
    }
   ],
   "source": [
    "df.isna()"
   ]
  },
  {
   "cell_type": "code",
   "execution_count": 11,
   "id": "hazardous-fifty",
   "metadata": {
    "execution": {
     "iopub.execute_input": "2021-08-29T13:19:55.443510Z",
     "iopub.status.busy": "2021-08-29T13:19:55.442805Z",
     "iopub.status.idle": "2021-08-29T13:19:55.451130Z",
     "shell.execute_reply": "2021-08-29T13:19:55.451760Z",
     "shell.execute_reply.started": "2021-08-29T12:27:15.870661Z"
    },
    "papermill": {
     "duration": 0.065237,
     "end_time": "2021-08-29T13:19:55.451934",
     "exception": false,
     "start_time": "2021-08-29T13:19:55.386697",
     "status": "completed"
    },
    "tags": []
   },
   "outputs": [
    {
     "data": {
      "text/plain": [
       "age         303\n",
       "sex         303\n",
       "cp          303\n",
       "trtbps      303\n",
       "chol        303\n",
       "fbs         303\n",
       "restecg     303\n",
       "thalachh    303\n",
       "exng        303\n",
       "oldpeak     303\n",
       "slp         303\n",
       "caa         303\n",
       "thall       303\n",
       "output      303\n",
       "dtype: int64"
      ]
     },
     "execution_count": 11,
     "metadata": {},
     "output_type": "execute_result"
    }
   ],
   "source": [
    "df.count()"
   ]
  },
  {
   "cell_type": "code",
   "execution_count": 12,
   "id": "later-transparency",
   "metadata": {
    "execution": {
     "iopub.execute_input": "2021-08-29T13:19:55.565397Z",
     "iopub.status.busy": "2021-08-29T13:19:55.564638Z",
     "iopub.status.idle": "2021-08-29T13:19:55.589814Z",
     "shell.execute_reply": "2021-08-29T13:19:55.590324Z",
     "shell.execute_reply.started": "2021-08-29T12:27:20.100278Z"
    },
    "papermill": {
     "duration": 0.085939,
     "end_time": "2021-08-29T13:19:55.590514",
     "exception": false,
     "start_time": "2021-08-29T13:19:55.504575",
     "status": "completed"
    },
    "tags": []
   },
   "outputs": [
    {
     "data": {
      "text/plain": [
       "age         0.0\n",
       "sex         0.0\n",
       "cp          0.0\n",
       "trtbps      0.0\n",
       "chol        0.0\n",
       "fbs         0.0\n",
       "restecg     0.0\n",
       "thalachh    0.0\n",
       "exng        0.0\n",
       "oldpeak     0.0\n",
       "slp         0.0\n",
       "caa         0.0\n",
       "thall       0.0\n",
       "output      0.0\n",
       "dtype: float64"
      ]
     },
     "execution_count": 12,
     "metadata": {},
     "output_type": "execute_result"
    }
   ],
   "source": [
    "percent_missing = df.isnull().sum() * 100 / len(df)\n",
    "missing_value_df = pd.DataFrame({#'column_name': train.columns,\n",
    "                                 'percent_missing': percent_missing})\n",
    "percent_missing"
   ]
  },
  {
   "cell_type": "code",
   "execution_count": 13,
   "id": "ranging-going",
   "metadata": {
    "execution": {
     "iopub.execute_input": "2021-08-29T13:19:55.699767Z",
     "iopub.status.busy": "2021-08-29T13:19:55.699171Z",
     "iopub.status.idle": "2021-08-29T13:19:55.707735Z",
     "shell.execute_reply": "2021-08-29T13:19:55.708304Z",
     "shell.execute_reply.started": "2021-08-29T12:27:31.177680Z"
    },
    "papermill": {
     "duration": 0.064689,
     "end_time": "2021-08-29T13:19:55.708480",
     "exception": false,
     "start_time": "2021-08-29T13:19:55.643791",
     "status": "completed"
    },
    "tags": []
   },
   "outputs": [
    {
     "data": {
      "text/plain": [
       "age         0.0\n",
       "sex         0.0\n",
       "cp          0.0\n",
       "trtbps      0.0\n",
       "chol        0.0\n",
       "fbs         0.0\n",
       "restecg     0.0\n",
       "thalachh    0.0\n",
       "exng        0.0\n",
       "oldpeak     0.0\n",
       "slp         0.0\n",
       "caa         0.0\n",
       "thall       0.0\n",
       "output      0.0\n",
       "dtype: float64"
      ]
     },
     "execution_count": 13,
     "metadata": {},
     "output_type": "execute_result"
    }
   ],
   "source": [
    "df.isna().mean()"
   ]
  },
  {
   "cell_type": "code",
   "execution_count": 14,
   "id": "conditional-prototype",
   "metadata": {
    "execution": {
     "iopub.execute_input": "2021-08-29T13:19:55.819339Z",
     "iopub.status.busy": "2021-08-29T13:19:55.818660Z",
     "iopub.status.idle": "2021-08-29T13:19:55.885530Z",
     "shell.execute_reply": "2021-08-29T13:19:55.886076Z",
     "shell.execute_reply.started": "2021-08-29T12:27:45.574094Z"
    },
    "papermill": {
     "duration": 0.123824,
     "end_time": "2021-08-29T13:19:55.886253",
     "exception": false,
     "start_time": "2021-08-29T13:19:55.762429",
     "status": "completed"
    },
    "tags": []
   },
   "outputs": [
    {
     "data": {
      "text/html": [
       "<style  type=\"text/css\" >\n",
       "#T_ea499_row0_col0,#T_ea499_row1_col0,#T_ea499_row1_col1,#T_ea499_row1_col2,#T_ea499_row1_col3,#T_ea499_row1_col4,#T_ea499_row1_col6,#T_ea499_row1_col7,#T_ea499_row2_col0,#T_ea499_row2_col1,#T_ea499_row2_col3,#T_ea499_row2_col4,#T_ea499_row2_col7,#T_ea499_row3_col0,#T_ea499_row4_col0,#T_ea499_row5_col0,#T_ea499_row5_col1,#T_ea499_row5_col2,#T_ea499_row5_col3,#T_ea499_row5_col4,#T_ea499_row5_col5,#T_ea499_row5_col6,#T_ea499_row5_col7,#T_ea499_row6_col0,#T_ea499_row6_col1,#T_ea499_row6_col2,#T_ea499_row6_col3,#T_ea499_row6_col4,#T_ea499_row6_col6,#T_ea499_row6_col7,#T_ea499_row7_col0,#T_ea499_row8_col0,#T_ea499_row8_col1,#T_ea499_row8_col2,#T_ea499_row8_col3,#T_ea499_row8_col4,#T_ea499_row8_col5,#T_ea499_row8_col6,#T_ea499_row8_col7,#T_ea499_row9_col0,#T_ea499_row9_col1,#T_ea499_row9_col3,#T_ea499_row9_col4,#T_ea499_row9_col5,#T_ea499_row10_col0,#T_ea499_row10_col3,#T_ea499_row10_col7,#T_ea499_row11_col0,#T_ea499_row11_col1,#T_ea499_row11_col3,#T_ea499_row11_col4,#T_ea499_row11_col5,#T_ea499_row11_col6,#T_ea499_row12_col0,#T_ea499_row12_col3,#T_ea499_row12_col7,#T_ea499_row13_col0,#T_ea499_row13_col1,#T_ea499_row13_col2,#T_ea499_row13_col3,#T_ea499_row13_col4,#T_ea499_row13_col6,#T_ea499_row13_col7{\n",
       "            background-color:  #000000;\n",
       "            color:  #f1f1f1;\n",
       "        }#T_ea499_row0_col1,#T_ea499_row0_col6{\n",
       "            background-color:  #452c1c;\n",
       "            color:  #f1f1f1;\n",
       "        }#T_ea499_row0_col2{\n",
       "            background-color:  #352215;\n",
       "            color:  #f1f1f1;\n",
       "        }#T_ea499_row0_col3,#T_ea499_row0_col5{\n",
       "            background-color:  #482d1d;\n",
       "            color:  #f1f1f1;\n",
       "        }#T_ea499_row0_col4{\n",
       "            background-color:  #462d1c;\n",
       "            color:  #f1f1f1;\n",
       "        }#T_ea499_row0_col7{\n",
       "            background-color:  #2a1b11;\n",
       "            color:  #f1f1f1;\n",
       "        }#T_ea499_row1_col5,#T_ea499_row2_col5,#T_ea499_row2_col6,#T_ea499_row6_col5,#T_ea499_row9_col6,#T_ea499_row10_col1,#T_ea499_row10_col2,#T_ea499_row10_col4,#T_ea499_row10_col5,#T_ea499_row10_col6,#T_ea499_row11_col7,#T_ea499_row12_col2,#T_ea499_row13_col5{\n",
       "            background-color:  #010100;\n",
       "            color:  #f1f1f1;\n",
       "        }#T_ea499_row2_col2,#T_ea499_row11_col2{\n",
       "            background-color:  #040201;\n",
       "            color:  #f1f1f1;\n",
       "        }#T_ea499_row3_col1{\n",
       "            background-color:  #a86a44;\n",
       "            color:  #000000;\n",
       "        }#T_ea499_row3_col2{\n",
       "            background-color:  #69422a;\n",
       "            color:  #f1f1f1;\n",
       "        }#T_ea499_row3_col3{\n",
       "            background-color:  #eb945f;\n",
       "            color:  #000000;\n",
       "        }#T_ea499_row3_col4{\n",
       "            background-color:  #b37148;\n",
       "            color:  #000000;\n",
       "        }#T_ea499_row3_col5{\n",
       "            background-color:  #aa6c45;\n",
       "            color:  #000000;\n",
       "        }#T_ea499_row3_col6{\n",
       "            background-color:  #a16641;\n",
       "            color:  #000000;\n",
       "        }#T_ea499_row3_col7{\n",
       "            background-color:  #6f462d;\n",
       "            color:  #f1f1f1;\n",
       "        }#T_ea499_row4_col1,#T_ea499_row4_col2,#T_ea499_row4_col3,#T_ea499_row4_col4,#T_ea499_row4_col5,#T_ea499_row4_col6,#T_ea499_row4_col7{\n",
       "            background-color:  #ffc77f;\n",
       "            color:  #000000;\n",
       "        }#T_ea499_row7_col1{\n",
       "            background-color:  #bf794d;\n",
       "            color:  #000000;\n",
       "        }#T_ea499_row7_col2{\n",
       "            background-color:  #8a5738;\n",
       "            color:  #f1f1f1;\n",
       "        }#T_ea499_row7_col3{\n",
       "            background-color:  #b27048;\n",
       "            color:  #000000;\n",
       "        }#T_ea499_row7_col4{\n",
       "            background-color:  #c77e50;\n",
       "            color:  #000000;\n",
       "        }#T_ea499_row7_col5{\n",
       "            background-color:  #c97f51;\n",
       "            color:  #000000;\n",
       "        }#T_ea499_row7_col6{\n",
       "            background-color:  #be784d;\n",
       "            color:  #000000;\n",
       "        }#T_ea499_row7_col7{\n",
       "            background-color:  #70472d;\n",
       "            color:  #f1f1f1;\n",
       "        }#T_ea499_row9_col2{\n",
       "            background-color:  #050302;\n",
       "            color:  #f1f1f1;\n",
       "        }#T_ea499_row9_col7,#T_ea499_row12_col1,#T_ea499_row12_col4,#T_ea499_row12_col5,#T_ea499_row12_col6{\n",
       "            background-color:  #020201;\n",
       "            color:  #f1f1f1;\n",
       "        }</style><table id=\"T_ea499_\" ><thead>    <tr>        <th class=\"blank level0\" ></th>        <th class=\"col_heading level0 col0\" >count</th>        <th class=\"col_heading level0 col1\" >mean</th>        <th class=\"col_heading level0 col2\" >std</th>        <th class=\"col_heading level0 col3\" >min</th>        <th class=\"col_heading level0 col4\" >25%</th>        <th class=\"col_heading level0 col5\" >50%</th>        <th class=\"col_heading level0 col6\" >75%</th>        <th class=\"col_heading level0 col7\" >max</th>    </tr></thead><tbody>\n",
       "                <tr>\n",
       "                        <th id=\"T_ea499_level0_row0\" class=\"row_heading level0 row0\" >age</th>\n",
       "                        <td id=\"T_ea499_row0_col0\" class=\"data row0 col0\" >303.000000</td>\n",
       "                        <td id=\"T_ea499_row0_col1\" class=\"data row0 col1\" >54.366337</td>\n",
       "                        <td id=\"T_ea499_row0_col2\" class=\"data row0 col2\" >9.082101</td>\n",
       "                        <td id=\"T_ea499_row0_col3\" class=\"data row0 col3\" >29.000000</td>\n",
       "                        <td id=\"T_ea499_row0_col4\" class=\"data row0 col4\" >47.500000</td>\n",
       "                        <td id=\"T_ea499_row0_col5\" class=\"data row0 col5\" >55.000000</td>\n",
       "                        <td id=\"T_ea499_row0_col6\" class=\"data row0 col6\" >61.000000</td>\n",
       "                        <td id=\"T_ea499_row0_col7\" class=\"data row0 col7\" >77.000000</td>\n",
       "            </tr>\n",
       "            <tr>\n",
       "                        <th id=\"T_ea499_level0_row1\" class=\"row_heading level0 row1\" >sex</th>\n",
       "                        <td id=\"T_ea499_row1_col0\" class=\"data row1 col0\" >303.000000</td>\n",
       "                        <td id=\"T_ea499_row1_col1\" class=\"data row1 col1\" >0.683168</td>\n",
       "                        <td id=\"T_ea499_row1_col2\" class=\"data row1 col2\" >0.466011</td>\n",
       "                        <td id=\"T_ea499_row1_col3\" class=\"data row1 col3\" >0.000000</td>\n",
       "                        <td id=\"T_ea499_row1_col4\" class=\"data row1 col4\" >0.000000</td>\n",
       "                        <td id=\"T_ea499_row1_col5\" class=\"data row1 col5\" >1.000000</td>\n",
       "                        <td id=\"T_ea499_row1_col6\" class=\"data row1 col6\" >1.000000</td>\n",
       "                        <td id=\"T_ea499_row1_col7\" class=\"data row1 col7\" >1.000000</td>\n",
       "            </tr>\n",
       "            <tr>\n",
       "                        <th id=\"T_ea499_level0_row2\" class=\"row_heading level0 row2\" >cp</th>\n",
       "                        <td id=\"T_ea499_row2_col0\" class=\"data row2 col0\" >303.000000</td>\n",
       "                        <td id=\"T_ea499_row2_col1\" class=\"data row2 col1\" >0.966997</td>\n",
       "                        <td id=\"T_ea499_row2_col2\" class=\"data row2 col2\" >1.032052</td>\n",
       "                        <td id=\"T_ea499_row2_col3\" class=\"data row2 col3\" >0.000000</td>\n",
       "                        <td id=\"T_ea499_row2_col4\" class=\"data row2 col4\" >0.000000</td>\n",
       "                        <td id=\"T_ea499_row2_col5\" class=\"data row2 col5\" >1.000000</td>\n",
       "                        <td id=\"T_ea499_row2_col6\" class=\"data row2 col6\" >2.000000</td>\n",
       "                        <td id=\"T_ea499_row2_col7\" class=\"data row2 col7\" >3.000000</td>\n",
       "            </tr>\n",
       "            <tr>\n",
       "                        <th id=\"T_ea499_level0_row3\" class=\"row_heading level0 row3\" >trtbps</th>\n",
       "                        <td id=\"T_ea499_row3_col0\" class=\"data row3 col0\" >303.000000</td>\n",
       "                        <td id=\"T_ea499_row3_col1\" class=\"data row3 col1\" >131.623762</td>\n",
       "                        <td id=\"T_ea499_row3_col2\" class=\"data row3 col2\" >17.538143</td>\n",
       "                        <td id=\"T_ea499_row3_col3\" class=\"data row3 col3\" >94.000000</td>\n",
       "                        <td id=\"T_ea499_row3_col4\" class=\"data row3 col4\" >120.000000</td>\n",
       "                        <td id=\"T_ea499_row3_col5\" class=\"data row3 col5\" >130.000000</td>\n",
       "                        <td id=\"T_ea499_row3_col6\" class=\"data row3 col6\" >140.000000</td>\n",
       "                        <td id=\"T_ea499_row3_col7\" class=\"data row3 col7\" >200.000000</td>\n",
       "            </tr>\n",
       "            <tr>\n",
       "                        <th id=\"T_ea499_level0_row4\" class=\"row_heading level0 row4\" >chol</th>\n",
       "                        <td id=\"T_ea499_row4_col0\" class=\"data row4 col0\" >303.000000</td>\n",
       "                        <td id=\"T_ea499_row4_col1\" class=\"data row4 col1\" >246.264026</td>\n",
       "                        <td id=\"T_ea499_row4_col2\" class=\"data row4 col2\" >51.830751</td>\n",
       "                        <td id=\"T_ea499_row4_col3\" class=\"data row4 col3\" >126.000000</td>\n",
       "                        <td id=\"T_ea499_row4_col4\" class=\"data row4 col4\" >211.000000</td>\n",
       "                        <td id=\"T_ea499_row4_col5\" class=\"data row4 col5\" >240.000000</td>\n",
       "                        <td id=\"T_ea499_row4_col6\" class=\"data row4 col6\" >274.500000</td>\n",
       "                        <td id=\"T_ea499_row4_col7\" class=\"data row4 col7\" >564.000000</td>\n",
       "            </tr>\n",
       "            <tr>\n",
       "                        <th id=\"T_ea499_level0_row5\" class=\"row_heading level0 row5\" >fbs</th>\n",
       "                        <td id=\"T_ea499_row5_col0\" class=\"data row5 col0\" >303.000000</td>\n",
       "                        <td id=\"T_ea499_row5_col1\" class=\"data row5 col1\" >0.148515</td>\n",
       "                        <td id=\"T_ea499_row5_col2\" class=\"data row5 col2\" >0.356198</td>\n",
       "                        <td id=\"T_ea499_row5_col3\" class=\"data row5 col3\" >0.000000</td>\n",
       "                        <td id=\"T_ea499_row5_col4\" class=\"data row5 col4\" >0.000000</td>\n",
       "                        <td id=\"T_ea499_row5_col5\" class=\"data row5 col5\" >0.000000</td>\n",
       "                        <td id=\"T_ea499_row5_col6\" class=\"data row5 col6\" >0.000000</td>\n",
       "                        <td id=\"T_ea499_row5_col7\" class=\"data row5 col7\" >1.000000</td>\n",
       "            </tr>\n",
       "            <tr>\n",
       "                        <th id=\"T_ea499_level0_row6\" class=\"row_heading level0 row6\" >restecg</th>\n",
       "                        <td id=\"T_ea499_row6_col0\" class=\"data row6 col0\" >303.000000</td>\n",
       "                        <td id=\"T_ea499_row6_col1\" class=\"data row6 col1\" >0.528053</td>\n",
       "                        <td id=\"T_ea499_row6_col2\" class=\"data row6 col2\" >0.525860</td>\n",
       "                        <td id=\"T_ea499_row6_col3\" class=\"data row6 col3\" >0.000000</td>\n",
       "                        <td id=\"T_ea499_row6_col4\" class=\"data row6 col4\" >0.000000</td>\n",
       "                        <td id=\"T_ea499_row6_col5\" class=\"data row6 col5\" >1.000000</td>\n",
       "                        <td id=\"T_ea499_row6_col6\" class=\"data row6 col6\" >1.000000</td>\n",
       "                        <td id=\"T_ea499_row6_col7\" class=\"data row6 col7\" >2.000000</td>\n",
       "            </tr>\n",
       "            <tr>\n",
       "                        <th id=\"T_ea499_level0_row7\" class=\"row_heading level0 row7\" >thalachh</th>\n",
       "                        <td id=\"T_ea499_row7_col0\" class=\"data row7 col0\" >303.000000</td>\n",
       "                        <td id=\"T_ea499_row7_col1\" class=\"data row7 col1\" >149.646865</td>\n",
       "                        <td id=\"T_ea499_row7_col2\" class=\"data row7 col2\" >22.905161</td>\n",
       "                        <td id=\"T_ea499_row7_col3\" class=\"data row7 col3\" >71.000000</td>\n",
       "                        <td id=\"T_ea499_row7_col4\" class=\"data row7 col4\" >133.500000</td>\n",
       "                        <td id=\"T_ea499_row7_col5\" class=\"data row7 col5\" >153.000000</td>\n",
       "                        <td id=\"T_ea499_row7_col6\" class=\"data row7 col6\" >166.000000</td>\n",
       "                        <td id=\"T_ea499_row7_col7\" class=\"data row7 col7\" >202.000000</td>\n",
       "            </tr>\n",
       "            <tr>\n",
       "                        <th id=\"T_ea499_level0_row8\" class=\"row_heading level0 row8\" >exng</th>\n",
       "                        <td id=\"T_ea499_row8_col0\" class=\"data row8 col0\" >303.000000</td>\n",
       "                        <td id=\"T_ea499_row8_col1\" class=\"data row8 col1\" >0.326733</td>\n",
       "                        <td id=\"T_ea499_row8_col2\" class=\"data row8 col2\" >0.469794</td>\n",
       "                        <td id=\"T_ea499_row8_col3\" class=\"data row8 col3\" >0.000000</td>\n",
       "                        <td id=\"T_ea499_row8_col4\" class=\"data row8 col4\" >0.000000</td>\n",
       "                        <td id=\"T_ea499_row8_col5\" class=\"data row8 col5\" >0.000000</td>\n",
       "                        <td id=\"T_ea499_row8_col6\" class=\"data row8 col6\" >1.000000</td>\n",
       "                        <td id=\"T_ea499_row8_col7\" class=\"data row8 col7\" >1.000000</td>\n",
       "            </tr>\n",
       "            <tr>\n",
       "                        <th id=\"T_ea499_level0_row9\" class=\"row_heading level0 row9\" >oldpeak</th>\n",
       "                        <td id=\"T_ea499_row9_col0\" class=\"data row9 col0\" >303.000000</td>\n",
       "                        <td id=\"T_ea499_row9_col1\" class=\"data row9 col1\" >1.039604</td>\n",
       "                        <td id=\"T_ea499_row9_col2\" class=\"data row9 col2\" >1.161075</td>\n",
       "                        <td id=\"T_ea499_row9_col3\" class=\"data row9 col3\" >0.000000</td>\n",
       "                        <td id=\"T_ea499_row9_col4\" class=\"data row9 col4\" >0.000000</td>\n",
       "                        <td id=\"T_ea499_row9_col5\" class=\"data row9 col5\" >0.800000</td>\n",
       "                        <td id=\"T_ea499_row9_col6\" class=\"data row9 col6\" >1.600000</td>\n",
       "                        <td id=\"T_ea499_row9_col7\" class=\"data row9 col7\" >6.200000</td>\n",
       "            </tr>\n",
       "            <tr>\n",
       "                        <th id=\"T_ea499_level0_row10\" class=\"row_heading level0 row10\" >slp</th>\n",
       "                        <td id=\"T_ea499_row10_col0\" class=\"data row10 col0\" >303.000000</td>\n",
       "                        <td id=\"T_ea499_row10_col1\" class=\"data row10 col1\" >1.399340</td>\n",
       "                        <td id=\"T_ea499_row10_col2\" class=\"data row10 col2\" >0.616226</td>\n",
       "                        <td id=\"T_ea499_row10_col3\" class=\"data row10 col3\" >0.000000</td>\n",
       "                        <td id=\"T_ea499_row10_col4\" class=\"data row10 col4\" >1.000000</td>\n",
       "                        <td id=\"T_ea499_row10_col5\" class=\"data row10 col5\" >1.000000</td>\n",
       "                        <td id=\"T_ea499_row10_col6\" class=\"data row10 col6\" >2.000000</td>\n",
       "                        <td id=\"T_ea499_row10_col7\" class=\"data row10 col7\" >2.000000</td>\n",
       "            </tr>\n",
       "            <tr>\n",
       "                        <th id=\"T_ea499_level0_row11\" class=\"row_heading level0 row11\" >caa</th>\n",
       "                        <td id=\"T_ea499_row11_col0\" class=\"data row11 col0\" >303.000000</td>\n",
       "                        <td id=\"T_ea499_row11_col1\" class=\"data row11 col1\" >0.729373</td>\n",
       "                        <td id=\"T_ea499_row11_col2\" class=\"data row11 col2\" >1.022606</td>\n",
       "                        <td id=\"T_ea499_row11_col3\" class=\"data row11 col3\" >0.000000</td>\n",
       "                        <td id=\"T_ea499_row11_col4\" class=\"data row11 col4\" >0.000000</td>\n",
       "                        <td id=\"T_ea499_row11_col5\" class=\"data row11 col5\" >0.000000</td>\n",
       "                        <td id=\"T_ea499_row11_col6\" class=\"data row11 col6\" >1.000000</td>\n",
       "                        <td id=\"T_ea499_row11_col7\" class=\"data row11 col7\" >4.000000</td>\n",
       "            </tr>\n",
       "            <tr>\n",
       "                        <th id=\"T_ea499_level0_row12\" class=\"row_heading level0 row12\" >thall</th>\n",
       "                        <td id=\"T_ea499_row12_col0\" class=\"data row12 col0\" >303.000000</td>\n",
       "                        <td id=\"T_ea499_row12_col1\" class=\"data row12 col1\" >2.313531</td>\n",
       "                        <td id=\"T_ea499_row12_col2\" class=\"data row12 col2\" >0.612277</td>\n",
       "                        <td id=\"T_ea499_row12_col3\" class=\"data row12 col3\" >0.000000</td>\n",
       "                        <td id=\"T_ea499_row12_col4\" class=\"data row12 col4\" >2.000000</td>\n",
       "                        <td id=\"T_ea499_row12_col5\" class=\"data row12 col5\" >2.000000</td>\n",
       "                        <td id=\"T_ea499_row12_col6\" class=\"data row12 col6\" >3.000000</td>\n",
       "                        <td id=\"T_ea499_row12_col7\" class=\"data row12 col7\" >3.000000</td>\n",
       "            </tr>\n",
       "            <tr>\n",
       "                        <th id=\"T_ea499_level0_row13\" class=\"row_heading level0 row13\" >output</th>\n",
       "                        <td id=\"T_ea499_row13_col0\" class=\"data row13 col0\" >303.000000</td>\n",
       "                        <td id=\"T_ea499_row13_col1\" class=\"data row13 col1\" >0.544554</td>\n",
       "                        <td id=\"T_ea499_row13_col2\" class=\"data row13 col2\" >0.498835</td>\n",
       "                        <td id=\"T_ea499_row13_col3\" class=\"data row13 col3\" >0.000000</td>\n",
       "                        <td id=\"T_ea499_row13_col4\" class=\"data row13 col4\" >0.000000</td>\n",
       "                        <td id=\"T_ea499_row13_col5\" class=\"data row13 col5\" >1.000000</td>\n",
       "                        <td id=\"T_ea499_row13_col6\" class=\"data row13 col6\" >1.000000</td>\n",
       "                        <td id=\"T_ea499_row13_col7\" class=\"data row13 col7\" >1.000000</td>\n",
       "            </tr>\n",
       "    </tbody></table>"
      ],
      "text/plain": [
       "<pandas.io.formats.style.Styler at 0x7ffaa6119b90>"
      ]
     },
     "execution_count": 14,
     "metadata": {},
     "output_type": "execute_result"
    }
   ],
   "source": [
    "df.describe().transpose().style.background_gradient(cmap = 'copper')"
   ]
  },
  {
   "cell_type": "markdown",
   "id": "thousand-petite",
   "metadata": {
    "papermill": {
     "duration": 0.054276,
     "end_time": "2021-08-29T13:19:55.995914",
     "exception": false,
     "start_time": "2021-08-29T13:19:55.941638",
     "status": "completed"
    },
    "tags": []
   },
   "source": [
    "##### make Boxplot"
   ]
  },
  {
   "cell_type": "code",
   "execution_count": 15,
   "id": "impossible-hampton",
   "metadata": {
    "execution": {
     "iopub.execute_input": "2021-08-29T13:19:56.110077Z",
     "iopub.status.busy": "2021-08-29T13:19:56.109418Z",
     "iopub.status.idle": "2021-08-29T13:19:56.289504Z",
     "shell.execute_reply": "2021-08-29T13:19:56.290070Z",
     "shell.execute_reply.started": "2021-08-29T12:27:50.275878Z"
    },
    "papermill": {
     "duration": 0.237441,
     "end_time": "2021-08-29T13:19:56.290261",
     "exception": false,
     "start_time": "2021-08-29T13:19:56.052820",
     "status": "completed"
    },
    "tags": []
   },
   "outputs": [
    {
     "name": "stderr",
     "output_type": "stream",
     "text": [
      "/opt/conda/lib/python3.7/site-packages/seaborn/_decorators.py:43: FutureWarning: Pass the following variable as a keyword arg: x. From version 0.12, the only valid positional argument will be `data`, and passing other arguments without an explicit keyword will result in an error or misinterpretation.\n",
      "  FutureWarning\n",
      "/opt/conda/lib/python3.7/site-packages/seaborn/_core.py:1319: UserWarning: Vertical orientation ignored with only `x` specified.\n",
      "  warnings.warn(single_var_warning.format(\"Vertical\", \"x\"))\n"
     ]
    },
    {
     "data": {
      "image/png": "[encoded data removed]",
      "text/plain": [
       "<Figure size 432x288 with 1 Axes>"
      ]
     },
     "metadata": {
      "needs_background": "light"
     },
     "output_type": "display_data"
    }
   ],
   "source": [
    "plot10=sns.boxplot(df['age'],orient='v')\n",
    "plt.title('Numerical Summary',fontdict={'fontsize':8})\n",
    "plt.xlabel('Age',fontdict={'fontsize':7})\n",
    "plt.ylabel(r'Five Point Summary(BP)',fontdict={'fontsize':7})\n",
    "plt.tight_layout()"
   ]
  },
  {
   "cell_type": "code",
   "execution_count": 16,
   "id": "passive-wayne",
   "metadata": {
    "execution": {
     "iopub.execute_input": "2021-08-29T13:19:56.406191Z",
     "iopub.status.busy": "2021-08-29T13:19:56.405173Z",
     "iopub.status.idle": "2021-08-29T13:19:57.912451Z",
     "shell.execute_reply": "2021-08-29T13:19:57.913057Z",
     "shell.execute_reply.started": "2021-08-29T12:28:01.353999Z"
    },
    "papermill": {
     "duration": 1.566628,
     "end_time": "2021-08-29T13:19:57.913244",
     "exception": false,
     "start_time": "2021-08-29T13:19:56.346616",
     "status": "completed"
    },
    "tags": []
   },
   "outputs": [],
   "source": [
    "import plotly.figure_factory as ff\n",
    "import plotly.graph_objs as go\n",
    "from plotly.offline import init_notebook_mode, iplot\n",
    "from scipy import stats"
   ]
  },
  {
   "cell_type": "markdown",
   "id": "large-winner",
   "metadata": {
    "papermill": {
     "duration": 0.054774,
     "end_time": "2021-08-29T13:19:58.023146",
     "exception": false,
     "start_time": "2021-08-29T13:19:57.968372",
     "status": "completed"
    },
    "tags": []
   },
   "source": [
    "# using Distplot and Q-Q plot"
   ]
  },
  {
   "cell_type": "code",
   "execution_count": 17,
   "id": "pursuant-pontiac",
   "metadata": {
    "execution": {
     "iopub.execute_input": "2021-08-29T13:19:58.137859Z",
     "iopub.status.busy": "2021-08-29T13:19:58.136877Z",
     "iopub.status.idle": "2021-08-29T13:19:59.390164Z",
     "shell.execute_reply": "2021-08-29T13:19:59.390673Z",
     "shell.execute_reply.started": "2021-08-29T12:28:05.114820Z"
    },
    "papermill": {
     "duration": 1.312677,
     "end_time": "2021-08-29T13:19:59.390842",
     "exception": false,
     "start_time": "2021-08-29T13:19:58.078165",
     "status": "completed"
    },
    "tags": []
   },
   "outputs": [
    {
     "data": {
      "text/html": [
       "        <script type=\"text/javascript\">\n",
       "        window.PlotlyConfig = {MathJaxConfig: 'local'};\n",
       "        if (window.MathJax) {MathJax.Hub.Config({SVG: {font: \"STIX-Web\"}});}\n",
       "        if (typeof require !== 'undefined') {\n",
       "        require.undef(\"plotly\");\n",
       "        requirejs.config({\n",
       "            paths: {\n",
       "                'plotly': ['https://cdn.plot.ly/plotly-latest.min']\n",
       "            }\n",
       "        });\n",
       "        require(['plotly'], function(Plotly) {\n",
       "            window._Plotly = Plotly;\n",
       "        });\n",
       "        }\n",
       "        </script>\n",
       "        "
      ]
     },
     "metadata": {},
     "output_type": "display_data"
    },
    {
     "data": {
      "text/html": [
       "<div>                            <div id=\"9f5d858e-e986-4ea6-851d-ee787cc95be0\" class=\"plotly-graph-div\" style=\"height:525px; width:100%;\"></div>            <script type=\"text/javascript\">                require([\"plotly\"], function(Plotly) {                    window.PLOTLYENV=window.PLOTLYENV || {};                                    if (document.getElementById(\"9f5d858e-e986-4ea6-851d-ee787cc95be0\")) {                    Plotly.newPlot(                        \"9f5d858e-e986-4ea6-851d-ee787cc95be0\",                        [{\"autobinx\": false, \"histnorm\": \"probability density\", \"legendgroup\": \"age\", \"marker\": {\"color\": \"rgb(31, 119, 180)\"}, \"name\": \"age\", \"opacity\": 0.7, \"type\": \"histogram\", \"x\": [63, 37, 41, 56, 57, 57, 56, 44, 52, 57, 54, 48, 49, 64, 58, 50, 58, 66, 43, 69, 59, 44, 42, 61, 40, 71, 59, 51, 65, 53, 41, 65, 44, 54, 51, 46, 54, 54, 65, 65, 51, 48, 45, 53, 39, 52, 44, 47, 53, 53, 51, 66, 62, 44, 63, 52, 48, 45, 34, 57, 71, 54, 52, 41, 58, 35, 51, 45, 44, 62, 54, 51, 29, 51, 43, 55, 51, 59, 52, 58, 41, 45, 60, 52, 42, 67, 68, 46, 54, 58, 48, 57, 52, 54, 45, 53, 62, 52, 43, 53, 42, 59, 63, 42, 50, 68, 69, 45, 50, 50, 64, 57, 64, 43, 55, 37, 41, 56, 46, 46, 64, 59, 41, 54, 39, 34, 47, 67, 52, 74, 54, 49, 42, 41, 41, 49, 60, 62, 57, 64, 51, 43, 42, 67, 76, 70, 44, 60, 44, 42, 66, 71, 64, 66, 39, 58, 47, 35, 58, 56, 56, 55, 41, 38, 38, 67, 67, 62, 63, 53, 56, 48, 58, 58, 60, 40, 60, 64, 43, 57, 55, 65, 61, 58, 50, 44, 60, 54, 50, 41, 51, 58, 54, 60, 60, 59, 46, 67, 62, 65, 44, 60, 58, 68, 62, 52, 59, 60, 49, 59, 57, 61, 39, 61, 56, 43, 62, 63, 65, 48, 63, 55, 65, 56, 54, 70, 62, 35, 59, 64, 47, 57, 55, 64, 70, 51, 58, 60, 77, 35, 70, 59, 64, 57, 56, 48, 56, 66, 54, 69, 51, 43, 62, 67, 59, 45, 58, 50, 62, 38, 66, 52, 53, 63, 54, 66, 55, 49, 54, 56, 46, 61, 67, 58, 47, 52, 58, 57, 58, 61, 42, 52, 59, 40, 61, 46, 59, 57, 57, 55, 61, 58, 58, 67, 44, 63, 63, 59, 57, 45, 68, 57, 57], \"xaxis\": \"x\", \"xbins\": {\"end\": 77.0, \"size\": 5, \"start\": 29.0}, \"yaxis\": \"y\"}, {\"legendgroup\": \"age\", \"marker\": {\"color\": \"rgb(31, 119, 180)\"}, \"mode\": \"lines\", \"name\": \"age\", \"showlegend\": false, \"type\": \"scatter\", \"x\": [29.0, 29.096, 29.192, 29.288, 29.384, 29.48, 29.576, 29.672, 29.768, 29.864, 29.96, 30.056, 30.152, 30.248, 30.344, 30.44, 30.536, 30.632, 30.728, 30.824, 30.92, 31.016, 31.112000000000002, 31.208, 31.304, 31.4, 31.496, 31.592, 31.688, 31.784, 31.88, 31.976, 32.072, 32.168, 32.264, 32.36, 32.456, 32.552, 32.648, 32.744, 32.84, 32.936, 33.032, 33.128, 33.224000000000004, 33.32, 33.416, 33.512, 33.608, 33.704, 33.8, 33.896, 33.992, 34.088, 34.184, 34.28, 34.376, 34.472, 34.568, 34.664, 34.76, 34.856, 34.952, 35.048, 35.144, 35.24, 35.336, 35.432, 35.528, 35.624, 35.72, 35.816, 35.912, 36.008, 36.104, 36.2, 36.296, 36.392, 36.488, 36.584, 36.68, 36.775999999999996, 36.872, 36.968, 37.064, 37.16, 37.256, 37.352000000000004, 37.448, 37.544, 37.64, 37.736000000000004, 37.832, 37.928, 38.024, 38.12, 38.216, 38.312, 38.408, 38.504, 38.6, 38.696, 38.792, 38.888, 38.984, 39.08, 39.176, 39.272, 39.368, 39.464, 39.56, 39.656, 39.752, 39.848, 39.944, 40.04, 40.135999999999996, 40.232, 40.328, 40.424, 40.519999999999996, 40.616, 40.712, 40.808, 40.903999999999996, 41.0, 41.096000000000004, 41.192, 41.288, 41.384, 41.480000000000004, 41.576, 41.672, 41.768, 41.864000000000004, 41.96, 42.056, 42.152, 42.248, 42.344, 42.44, 42.536, 42.632, 42.728, 42.824, 42.92, 43.016, 43.112, 43.208, 43.304, 43.4, 43.496, 43.592, 43.688, 43.784, 43.88, 43.976, 44.072, 44.168, 44.263999999999996, 44.36, 44.456, 44.552, 44.647999999999996, 44.744, 44.84, 44.936, 45.032, 45.128, 45.224000000000004, 45.32, 45.416, 45.512, 45.608000000000004, 45.704, 45.8, 45.896, 45.992000000000004, 46.088, 46.184, 46.28, 46.376000000000005, 46.472, 46.568, 46.664, 46.760000000000005, 46.856, 46.952, 47.048, 47.144, 47.239999999999995, 47.336, 47.432, 47.528, 47.623999999999995, 47.72, 47.816, 47.912, 48.007999999999996, 48.104, 48.2, 48.296, 48.391999999999996, 48.488, 48.584, 48.68, 48.775999999999996, 48.872, 48.968, 49.064, 49.16, 49.256, 49.352000000000004, 49.448, 49.544, 49.64, 49.736000000000004, 49.832, 49.928, 50.024, 50.120000000000005, 50.216, 50.312, 50.408, 50.504000000000005, 50.6, 50.696, 50.792, 50.888000000000005, 50.984, 51.08, 51.176, 51.272, 51.367999999999995, 51.464, 51.56, 51.656, 51.751999999999995, 51.848, 51.944, 52.04, 52.135999999999996, 52.232, 52.328, 52.424, 52.519999999999996, 52.616, 52.712, 52.808, 52.903999999999996, 53.0, 53.096000000000004, 53.192, 53.288, 53.384, 53.480000000000004, 53.576, 53.672, 53.768, 53.864000000000004, 53.96, 54.056, 54.152, 54.248000000000005, 54.344, 54.44, 54.536, 54.632000000000005, 54.728, 54.824, 54.92, 55.016, 55.111999999999995, 55.208, 55.304, 55.4, 55.495999999999995, 55.592, 55.688, 55.784, 55.879999999999995, 55.976, 56.072, 56.168, 56.263999999999996, 56.36, 56.456, 56.552, 56.647999999999996, 56.744, 56.84, 56.936, 57.032, 57.128, 57.224000000000004, 57.32, 57.416, 57.512, 57.608000000000004, 57.704, 57.8, 57.896, 57.992000000000004, 58.088, 58.184, 58.28, 58.376000000000005, 58.472, 58.568, 58.664, 58.760000000000005, 58.856, 58.952, 59.048, 59.144, 59.239999999999995, 59.336, 59.432, 59.528, 59.623999999999995, 59.72, 59.816, 59.912, 60.007999999999996, 60.104, 60.2, 60.296, 60.391999999999996, 60.488, 60.584, 60.68, 60.775999999999996, 60.872, 60.968, 61.064, 61.16, 61.256, 61.352, 61.448, 61.544, 61.64, 61.736, 61.832, 61.928, 62.024, 62.12, 62.216, 62.312, 62.408, 62.504, 62.6, 62.696, 62.792, 62.888, 62.984, 63.08, 63.176, 63.272, 63.368, 63.464, 63.56, 63.656, 63.752, 63.848, 63.944, 64.03999999999999, 64.136, 64.232, 64.328, 64.424, 64.52000000000001, 64.616, 64.712, 64.80799999999999, 64.904, 65.0, 65.096, 65.19200000000001, 65.288, 65.384, 65.47999999999999, 65.576, 65.672, 65.768, 65.864, 65.96000000000001, 66.056, 66.152, 66.24799999999999, 66.344, 66.44, 66.536, 66.632, 66.72800000000001, 66.824, 66.92, 67.01599999999999, 67.112, 67.208, 67.304, 67.4, 67.49600000000001, 67.592, 67.688, 67.78399999999999, 67.88, 67.976, 68.072, 68.168, 68.26400000000001, 68.36, 68.456, 68.55199999999999, 68.648, 68.744, 68.84, 68.936, 69.032, 69.128, 69.22399999999999, 69.32, 69.416, 69.512, 69.608, 69.70400000000001, 69.8, 69.896, 69.99199999999999, 70.088, 70.184, 70.28, 70.376, 70.47200000000001, 70.568, 70.664, 70.75999999999999, 70.856, 70.952, 71.048, 71.144, 71.24000000000001, 71.336, 71.432, 71.52799999999999, 71.624, 71.72, 71.816, 71.912, 72.00800000000001, 72.104, 72.2, 72.29599999999999, 72.392, 72.488, 72.584, 72.68, 72.77600000000001, 72.872, 72.968, 73.064, 73.16, 73.256, 73.352, 73.44800000000001, 73.544, 73.64, 73.73599999999999, 73.832, 73.928, 74.024, 74.12, 74.21600000000001, 74.312, 74.408, 74.50399999999999, 74.6, 74.696, 74.792, 74.888, 74.98400000000001, 75.08, 75.176, 75.27199999999999, 75.368, 75.464, 75.56, 75.656, 75.75200000000001, 75.848, 75.944, 76.03999999999999, 76.136, 76.232, 76.328, 76.424, 76.52000000000001, 76.616, 76.712, 76.80799999999999, 76.904], \"xaxis\": \"x\", \"y\": [0.0009099964106332651, 0.0009406348929687064, 0.0009723768144354336, 0.001005270348799152, 0.0010393640624148538, 0.0010747067134812354, 0.0011113470442591742, 0.0011493335678767233, 0.0011887143514592113, 0.0012295367974257362, 0.0012718474248811294, 0.0013156916531036195, 0.0013611135891817541, 0.001408155821888275, 0.0014568592238925536, 0.0015072627644060926, 0.0015594033343267462, 0.001613315585896203, 0.001669031788811942, 0.0017265817046391056, 0.001785992481249927, 0.0018472885688791644, 0.0019104916592239327, 0.0019756206488368423, 0.0020426916278633873, 0.002111717894959886, 0.0021827099989984743, 0.0022556758079230015, 0.002330620604866049, 0.0024075472113750645, 0.0024864561373275154, 0.00256734575684337, 0.0026502125092308483, 0.002735051123731183, 0.002821854866562768, 0.0029106158085072218, 0.0030013251110330504, 0.003093973328717802, 0.003188550725512257, 0.0032850476021892773, 0.0033834546321412943, 0.0034837632025335225, 0.0035859657576881605, 0.003690056141469501, 0.0037960299353625225, 0.003903884788888863, 0.0040136207389859175, 0.004125240514986768, 0.004238749825881525, 0.004354157626614999, 0.004471476360278833, 0.004590722173191424, 0.004711915100020781, 0.004835079216296645, 0.0049602427558741845, 0.005087438191152552, 0.005216702274114107, 0.005348076036533564, 0.005481604748005787, 0.005617337830756849, 0.005755328730529856, 0.005895634743173509, 0.006038316796904735, 0.0061834391905621145, 0.006331069288514119, 0.006481277173229889, 0.006634135256858426, 0.006789717853492849, 0.006948100714114525, 0.007109360526518107, 0.007273574382807051, 0.007440819217320627, 0.0076111712181032515, 0.007784705215255841, 0.007961494049712614, 0.008141607926165785, 0.00832511375401339, 0.008512074480330098, 0.008702548418958605, 0.008896588579886967, 0.009094242003118506, 0.009295549101251114, 0.009500543014967205, 0.009709248985590328, 0.009921683748793403, 0.010137854953445925, 0.010357760609464136, 0.010581388568383407, 0.01080871604020089, 0.011039709149849058, 0.011274322536449832, 0.01151249899827358, 0.01175416918608417, 0.011999251347295209, 0.012247651123093497, 0.012499261400407205, 0.012753962220310139, 0.013011620744157404, 0.013272091278453082, 0.013535215359146395, 0.013800821895753278, 0.014068727375398438, 0.014338736126574799, 0.014610640642121328, 0.014884221960634249, 0.015159250105240824, 0.015435484578394859, 0.01571267491108561, 0.01599056126460124, 0.016268875082743064, 0.01654733979216018, 0.01682567154825566, 0.017103580023915876, 0.0173807692381246, 0.01765693842135402, 0.01793178291446611, 0.018204995097717606, 0.018476265346337756, 0.018745283009037373, 0.019011737405716916, 0.01927531884056429, 0.019535719626669886, 0.019792635118245104, 0.020045764746498492, 0.02029481305520844, 0.02053949073203306, 0.020779515631611414, 0.021014613786537704, 0.021244520402332913, 0.02146898083259011, 0.021687751530540096, 0.021900600973357977, 0.02210731055562504, 0.02230767544845717, 0.02250150542092568, 0.022688625620513114, 0.022868877309480982, 0.023042118554160662, 0.023208224864330617, 0.023367089779997217, 0.023518625403057235, 0.023662762871497673, 0.023799452773960006, 0.023928665502685326, 0.024050391543047712, 0.02416464169808073, 0.024271447246606764, 0.024370860033790544, 0.024462952493150638, 0.02454781759928929, 0.024625568750822363, 0.024696339583226628, 0.024760283711554847, 0.024817574403212316, 0.024868404181229434, 0.024912984358714294, 0.024951544505420562, 0.024984331847615764, 0.025011610602693267, 0.025033661250222917, 0.025050779741395968, 0.025063276649070213, 0.025071476260879234, 0.025075715618120442, 0.025076343503382992, 0.025073719380123982, 0.025068212287636928, 0.025060199695088624, 0.02505006631852512, 0.02503820290495934, 0.02502500498785882, 0.02501087161853923, 0.024996204078151566, 0.024981404575107783, 0.024966874932941193, 0.02495301527372069, 0.02494022270225155, 0.024928889996379204, 0.024919404308783054, 0.024912145885685404, 0.024907486807925722, 0.02490578975983548, 0.02490740683132447, 0.024912678358520336, 0.024921931808221012, 0.024935480711298263, 0.024953623650044755, 0.024976643304280947, 0.02500480556083408, 0.02503835869076082, 0.025077532598427522, 0.025122538146261333, 0.025173566558670063, 0.02523078890827365, 0.025294355687220053, 0.025364396465954266, 0.025441019641389305, 0.025524312275980544, 0.025614340028742747, 0.025711147178767192, 0.025814756741300827, 0.02592517067594171, 0.026042370185988633, 0.026166316107459467, 0.02629694938576861, 0.026434191637529095, 0.026577945794422998, 0.026728096825574234, 0.02688451253435352, 0.027047044425063678, 0.027215528634482327, 0.027389786922801085, 0.027569627718078662, 0.02775484720794291, 0.02794523047192366, 0.02814055264748177, 0.028340580122530466, 0.02854507174701132, 0.02875378005590668, 0.028966452495936993, 0.029182832648108472, 0.029402661438251432, 0.029625678327713127, 0.02985162247645705, 0.030080233870957918, 0.030311254409484848, 0.030544428937615442, 0.03077950622714274, 0.031016239891902567, 0.031254389234473594, 0.031493720018176304, 0.031734005159324785, 0.03197502533525685, 0.03221656950428052, 0.032458435334334824, 0.03270042953784581, 0.03294236811098493, 0.03318407647627697, 0.033425389528268144, 0.03366615158274801, 0.0339062162307963, 0.03414544609971722, 0.03438371252370196, 0.034620895127828656, 0.03485688132976068, 0.03509156576422595, 0.035324849636054347, 0.035556640008203105, 0.035786849031810536, 0.0360153931258739, 0.03624219211465119, 0.036467168331323435, 0.036690245696829056, 0.03691134878307799, 0.03713040186998199, 0.03734732800588143, 0.03756204808101274, 0.03777447992364313, 0.037984537428391925, 0.03819212972607075, 0.038397160404097457, 0.03859952678618009, 0.038799119279526, 0.038995820797307006, 0.03918950626351864, 0.03938004220669434, 0.039567286448206125, 0.03975108789008019, 0.039931286406404407, 0.04010771284150393, 0.04028018911712078, 0.04044852844986102, 0.04061253567917516, 0.04077200770513098, 0.040926734034220674, 0.041076497430435004, 0.04122107466784172, 0.041360237379932115, 0.04149375300006201, 0.04162138578641948, 0.04174289792410037, 0.041858050696097424, 0.04196660571428547, 0.04206832620084947, 0.04216297831004233, 0.042250332479690796, 0.04233016480149334, 0.042402258398876264, 0.04246640480099894, 0.042522405301425745, 0.042570072290018246, 0.04260923054673821, 0.04263971848629243, 0.042661389342899717, 0.04267411228490311, 0.04267777344948909, 0.04267227688840772, 0.04265754541630196, 0.04263352135404543, 0.04260016716035098, 0.042557465945834365, 0.042505421864694755, 0.04244406038018997, 0.04237342840113593, 0.04229359428773521, 0.04220464772612181, 0.04210669947209885, 0.041999880965622176, 0.041884343818640646, 0.04176025917993351, 0.04162781698157405, 0.041487225072587106, 0.04133870824625517, 0.0411825071683419, 0.04101887721425038, 0.04084808722379856, 0.04067041818287902, 0.04048616184176242, 0.04029561928020806, 0.04009909942985188, 0.039896917564552534, 0.03968939376949397, 0.03947685139986001, 0.03925961553982169, 0.039038011472412926, 0.03881236317061327, 0.03858299181961829, 0.03835021437985976, 0.038114342199848134, 0.03787567968734869, 0.03763452304678873, 0.0373911590901194, 0.03714586412764366, 0.03689890294456669, 0.036650527868248, 0.03640097793032952, 0.03615047812710261, 0.03589923878065777, 0.03564745500254681, 0.03539530626087964, 0.035142956050996856, 0.034890551669092155, 0.034638224087429594, 0.03438608792910621, 0.03413424153965354, 0.03388276715216652, 0.03363173114208618, 0.033381184367257725, 0.03313116258843094, 0.03288168696497704, 0.03263276462025476, 0.032384389270779745, 0.03213654191312799, 0.031889191562338964, 0.031642296035472015, 0.03139580277391671, 0.03114964969804966, 0.030903766087877916, 0.030658073483398354, 0.030412486598536223, 0.03016691424269909, 0.029921260244192473, 0.029675424369982762, 0.029429303236562638, 0.029182791206968938, 0.028935781269316344, 0.028688165892539138, 0.02843983785538156, 0.028190691045026573, 0.027940621222115276, 0.02768952674927061, 0.02743730928060369, 0.02718387441003816, 0.02692913227664691, 0.026672998125539863, 0.026415392823181116, 0.02615624332633981, 0.025895483104193765, 0.025633052513402935, 0.025368899126254972, 0.02510297801225338, 0.024835251973767722, 0.02456569173659985, 0.024294276096534503, 0.02402099202313944, 0.02374583472225723, 0.02346880765879132, 0.023189922541529823, 0.022909199271871402, 0.02262666585842345, 0.02234235829952892, 0.0220563204358446, 0.021768603775148974, 0.021479267291589214, 0.021188377201596626, 0.020896006718702897, 0.020602235789477053, 0.020307150812775367, 0.0200108443444565, 0.019713414789660544, 0.019414966084683866, 0.019115607370404075, 0.01881545265912206, 0.01851462049658926, 0.018213233620883527, 0.017911418619679886, 0.01760930558734722, 0.01730702778317144, 0.017004721291880083, 0.016702524687509174, 0.016400578701521798, 0.01609902589595246, 0.01579801034222203, 0.015497677306136645, 0.015198172939461478, 0.01489964397833875, 0.01460223744870805, 0.01430610037878214, 0.014011379518534206, 0.013718221066070128, 0.013426770400680153, 0.013137171822307003, 0.012849568297111444, 0.012564101208783719, 0.012280910115222634, 0.012000132510193667, 0.011721903589581495, 0.011446356021867145, 0.011173619722488962, 0.010903821631789448, 0.0106370854962999, 0.010373531653180593, 0.010113276817706188, 0.00985643387376631, 0.009603111667440779, 0.009353414803801755, 0.009107443447191738, 0.008865293125327339, 0.008627054537677745, 0.008392813368666053, 0.00816265010633763, 0.0079366398672309, 0.007714852228271102, 0.0074973510665845, 0.007284194408198251, 0.007075434286648666, 0.006871116612564857, 0.0066712810553273315, 0.006475960937918941, 0.006285183146089112, 0.006098968052939664, 0.005917329460014954, 0.005740274555933822, 0.00556780389354442, 0.005399911386508446, 0.005236584326133118, 0.005077803419167432, 0.004923542847164279, 0.004773770347882565, 0.004628447319066853, 0.004487528944794313, 0.004350964344425831, 0.004218696744036518, 0.0040906636700375944, 0.003966797164533881, 0.0038470240217942865, 0.003731266045046009, 0.003619440322640037, 0.0035114595224780974, 0.0034072322034383643, 0.003306663142395212, 0.0032096536752947635, 0.0031161020506255016, 0.003025903793515134, 0.0029389520785890718, 0.00285513810964582, 0.002774351504140532, 0.002696480680419519, 0.0026214132456184804, 0.0025490363821229515, 0.0024792372304938757, 0.0024119032667824247, 0.0023469226721964825, 0.0022841846931364314, 0.0022235799896893754, 0.002165000970757056, 0.0021083421140941014, 0.0020535002696476876, 0.00200037494471593, 0.001948868569580375, 0.0018988867424147913, 0.001850338452427623, 0.0018031362803576521, 0.001757196575608886, 0.0017124396094814081, 0.0016687897041268989, 0.0016261753370303855, 0.0015845292209910376, 0.0015437883597434312, 0.0015038940795252867], \"yaxis\": \"y\"}, {\"legendgroup\": \"age\", \"marker\": {\"color\": \"rgb(31, 119, 180)\", \"symbol\": \"line-ns-open\"}, \"mode\": \"markers\", \"name\": \"age\", \"showlegend\": false, \"type\": \"scatter\", \"x\": [63, 37, 41, 56, 57, 57, 56, 44, 52, 57, 54, 48, 49, 64, 58, 50, 58, 66, 43, 69, 59, 44, 42, 61, 40, 71, 59, 51, 65, 53, 41, 65, 44, 54, 51, 46, 54, 54, 65, 65, 51, 48, 45, 53, 39, 52, 44, 47, 53, 53, 51, 66, 62, 44, 63, 52, 48, 45, 34, 57, 71, 54, 52, 41, 58, 35, 51, 45, 44, 62, 54, 51, 29, 51, 43, 55, 51, 59, 52, 58, 41, 45, 60, 52, 42, 67, 68, 46, 54, 58, 48, 57, 52, 54, 45, 53, 62, 52, 43, 53, 42, 59, 63, 42, 50, 68, 69, 45, 50, 50, 64, 57, 64, 43, 55, 37, 41, 56, 46, 46, 64, 59, 41, 54, 39, 34, 47, 67, 52, 74, 54, 49, 42, 41, 41, 49, 60, 62, 57, 64, 51, 43, 42, 67, 76, 70, 44, 60, 44, 42, 66, 71, 64, 66, 39, 58, 47, 35, 58, 56, 56, 55, 41, 38, 38, 67, 67, 62, 63, 53, 56, 48, 58, 58, 60, 40, 60, 64, 43, 57, 55, 65, 61, 58, 50, 44, 60, 54, 50, 41, 51, 58, 54, 60, 60, 59, 46, 67, 62, 65, 44, 60, 58, 68, 62, 52, 59, 60, 49, 59, 57, 61, 39, 61, 56, 43, 62, 63, 65, 48, 63, 55, 65, 56, 54, 70, 62, 35, 59, 64, 47, 57, 55, 64, 70, 51, 58, 60, 77, 35, 70, 59, 64, 57, 56, 48, 56, 66, 54, 69, 51, 43, 62, 67, 59, 45, 58, 50, 62, 38, 66, 52, 53, 63, 54, 66, 55, 49, 54, 56, 46, 61, 67, 58, 47, 52, 58, 57, 58, 61, 42, 52, 59, 40, 61, 46, 59, 57, 57, 55, 61, 58, 58, 67, 44, 63, 63, 59, 57, 45, 68, 57, 57], \"xaxis\": \"x\", \"y\": [\"age\", \"age\", \"age\", \"age\", \"age\", \"age\", \"age\", \"age\", \"age\", \"age\", \"age\", \"age\", \"age\", \"age\", \"age\", \"age\", \"age\", \"age\", \"age\", \"age\", \"age\", \"age\", \"age\", \"age\", \"age\", \"age\", \"age\", \"age\", \"age\", \"age\", \"age\", \"age\", \"age\", \"age\", \"age\", \"age\", \"age\", \"age\", \"age\", \"age\", \"age\", \"age\", \"age\", \"age\", \"age\", \"age\", \"age\", \"age\", \"age\", \"age\", \"age\", \"age\", \"age\", \"age\", \"age\", \"age\", \"age\", \"age\", \"age\", \"age\", \"age\", \"age\", \"age\", \"age\", \"age\", \"age\", \"age\", \"age\", \"age\", \"age\", \"age\", \"age\", \"age\", \"age\", \"age\", \"age\", \"age\", \"age\", \"age\", \"age\", \"age\", \"age\", \"age\", \"age\", \"age\", \"age\", \"age\", \"age\", \"age\", \"age\", \"age\", \"age\", \"age\", \"age\", \"age\", \"age\", \"age\", \"age\", \"age\", \"age\", \"age\", \"age\", \"age\", \"age\", \"age\", \"age\", \"age\", \"age\", \"age\", \"age\", \"age\", \"age\", \"age\", \"age\", \"age\", \"age\", \"age\", \"age\", \"age\", \"age\", \"age\", \"age\", \"age\", \"age\", \"age\", \"age\", \"age\", \"age\", \"age\", \"age\", \"age\", \"age\", \"age\", \"age\", \"age\", \"age\", \"age\", \"age\", \"age\", \"age\", \"age\", \"age\", \"age\", \"age\", \"age\", \"age\", \"age\", \"age\", \"age\", \"age\", \"age\", \"age\", \"age\", \"age\", \"age\", \"age\", \"age\", \"age\", \"age\", \"age\", \"age\", \"age\", \"age\", \"age\", \"age\", \"age\", \"age\", \"age\", \"age\", \"age\", \"age\", \"age\", \"age\", \"age\", \"age\", \"age\", \"age\", \"age\", \"age\", \"age\", \"age\", \"age\", \"age\", \"age\", \"age\", \"age\", \"age\", \"age\", \"age\", \"age\", \"age\", \"age\", \"age\", \"age\", \"age\", \"age\", \"age\", \"age\", \"age\", \"age\", \"age\", \"age\", \"age\", \"age\", \"age\", \"age\", \"age\", \"age\", \"age\", \"age\", \"age\", \"age\", \"age\", \"age\", \"age\", \"age\", \"age\", \"age\", \"age\", \"age\", \"age\", \"age\", \"age\", \"age\", \"age\", \"age\", \"age\", \"age\", \"age\", \"age\", \"age\", \"age\", \"age\", \"age\", \"age\", \"age\", \"age\", \"age\", \"age\", \"age\", \"age\", \"age\", \"age\", \"age\", \"age\", \"age\", \"age\", \"age\", \"age\", \"age\", \"age\", \"age\", \"age\", \"age\", \"age\", \"age\", \"age\", \"age\", \"age\", \"age\", \"age\", \"age\", \"age\", \"age\", \"age\", \"age\", \"age\", \"age\", \"age\", \"age\", \"age\", \"age\", \"age\", \"age\", \"age\", \"age\", \"age\", \"age\", \"age\", \"age\", \"age\", \"age\", \"age\", \"age\", \"age\", \"age\", \"age\", \"age\", \"age\", \"age\", \"age\", \"age\", \"age\", \"age\", \"age\", \"age\", \"age\", \"age\", \"age\", \"age\", \"age\", \"age\", \"age\"], \"yaxis\": \"y2\"}],                        {\"barmode\": \"overlay\", \"hovermode\": \"closest\", \"legend\": {\"traceorder\": \"reversed\"}, \"template\": {\"data\": {\"bar\": [{\"error_x\": {\"color\": \"#2a3f5f\"}, \"error_y\": {\"color\": \"#2a3f5f\"}, \"marker\": {\"line\": {\"color\": \"#E5ECF6\", \"width\": 0.5}}, \"type\": \"bar\"}], \"barpolar\": [{\"marker\": {\"line\": {\"color\": \"#E5ECF6\", \"width\": 0.5}}, \"type\": \"barpolar\"}], \"carpet\": [{\"aaxis\": {\"endlinecolor\": \"#2a3f5f\", \"gridcolor\": \"white\", \"linecolor\": \"white\", \"minorgridcolor\": \"white\", \"startlinecolor\": \"#2a3f5f\"}, \"baxis\": {\"endlinecolor\": \"#2a3f5f\", \"gridcolor\": \"white\", \"linecolor\": \"white\", \"minorgridcolor\": \"white\", \"startlinecolor\": \"#2a3f5f\"}, \"type\": \"carpet\"}], \"choropleth\": [{\"colorbar\": {\"outlinewidth\": 0, \"ticks\": \"\"}, \"type\": \"choropleth\"}], \"contour\": [{\"colorbar\": {\"outlinewidth\": 0, \"ticks\": \"\"}, \"colorscale\": [[0.0, \"#0d0887\"], [0.1111111111111111, \"#46039f\"], [0.2222222222222222, \"#7201a8\"], [0.3333333333333333, \"#9c179e\"], [0.4444444444444444, \"#bd3786\"], [0.5555555555555556, \"#d8576b\"], [0.6666666666666666, \"#ed7953\"], [0.7777777777777778, \"#fb9f3a\"], [0.8888888888888888, \"#fdca26\"], [1.0, \"#f0f921\"]], \"type\": \"contour\"}], \"contourcarpet\": [{\"colorbar\": {\"outlinewidth\": 0, \"ticks\": \"\"}, \"type\": \"contourcarpet\"}], \"heatmap\": [{\"colorbar\": {\"outlinewidth\": 0, \"ticks\": \"\"}, \"colorscale\": [[0.0, \"#0d0887\"], [0.1111111111111111, \"#46039f\"], [0.2222222222222222, \"#7201a8\"], [0.3333333333333333, \"#9c179e\"], [0.4444444444444444, \"#bd3786\"], [0.5555555555555556, \"#d8576b\"], [0.6666666666666666, \"#ed7953\"], [0.7777777777777778, \"#fb9f3a\"], [0.8888888888888888, \"#fdca26\"], [1.0, \"#f0f921\"]], \"type\": \"heatmap\"}], \"heatmapgl\": [{\"colorbar\": {\"outlinewidth\": 0, \"ticks\": \"\"}, \"colorscale\": [[0.0, \"#0d0887\"], [0.1111111111111111, \"#46039f\"], [0.2222222222222222, \"#7201a8\"], [0.3333333333333333, \"#9c179e\"], [0.4444444444444444, \"#bd3786\"], [0.5555555555555556, \"#d8576b\"], [0.6666666666666666, \"#ed7953\"], [0.7777777777777778, \"#fb9f3a\"], [0.8888888888888888, \"#fdca26\"], [1.0, \"#f0f921\"]], \"type\": \"heatmapgl\"}], \"histogram\": [{\"marker\": {\"colorbar\": {\"outlinewidth\": 0, \"ticks\": \"\"}}, \"type\": \"histogram\"}], \"histogram2d\": [{\"colorbar\": {\"outlinewidth\": 0, \"ticks\": \"\"}, \"colorscale\": [[0.0, \"#0d0887\"], [0.1111111111111111, \"#46039f\"], [0.2222222222222222, \"#7201a8\"], [0.3333333333333333, \"#9c179e\"], [0.4444444444444444, \"#bd3786\"], [0.5555555555555556, \"#d8576b\"], [0.6666666666666666, \"#ed7953\"], [0.7777777777777778, \"#fb9f3a\"], [0.8888888888888888, \"#fdca26\"], [1.0, \"#f0f921\"]], \"type\": \"histogram2d\"}], \"histogram2dcontour\": [{\"colorbar\": {\"outlinewidth\": 0, \"ticks\": \"\"}, \"colorscale\": [[0.0, \"#0d0887\"], [0.1111111111111111, \"#46039f\"], [0.2222222222222222, \"#7201a8\"], [0.3333333333333333, \"#9c179e\"], [0.4444444444444444, \"#bd3786\"], [0.5555555555555556, \"#d8576b\"], [0.6666666666666666, \"#ed7953\"], [0.7777777777777778, \"#fb9f3a\"], [0.8888888888888888, \"#fdca26\"], [1.0, \"#f0f921\"]], \"type\": \"histogram2dcontour\"}], \"mesh3d\": [{\"colorbar\": {\"outlinewidth\": 0, \"ticks\": \"\"}, \"type\": \"mesh3d\"}], \"parcoords\": [{\"line\": {\"colorbar\": {\"outlinewidth\": 0, \"ticks\": \"\"}}, \"type\": \"parcoords\"}], \"pie\": [{\"automargin\": true, \"type\": \"pie\"}], \"scatter\": [{\"marker\": {\"colorbar\": {\"outlinewidth\": 0, \"ticks\": \"\"}}, \"type\": \"scatter\"}], \"scatter3d\": [{\"line\": {\"colorbar\": {\"outlinewidth\": 0, \"ticks\": \"\"}}, \"marker\": {\"colorbar\": {\"outlinewidth\": 0, \"ticks\": \"\"}}, \"type\": \"scatter3d\"}], \"scattercarpet\": [{\"marker\": {\"colorbar\": {\"outlinewidth\": 0, \"ticks\": \"\"}}, \"type\": \"scattercarpet\"}], \"scattergeo\": [{\"marker\": {\"colorbar\": {\"outlinewidth\": 0, \"ticks\": \"\"}}, \"type\": \"scattergeo\"}], \"scattergl\": [{\"marker\": {\"colorbar\": {\"outlinewidth\": 0, \"ticks\": \"\"}}, \"type\": \"scattergl\"}], \"scattermapbox\": [{\"marker\": {\"colorbar\": {\"outlinewidth\": 0, \"ticks\": \"\"}}, \"type\": \"scattermapbox\"}], \"scatterpolar\": [{\"marker\": {\"colorbar\": {\"outlinewidth\": 0, \"ticks\": \"\"}}, \"type\": \"scatterpolar\"}], \"scatterpolargl\": [{\"marker\": {\"colorbar\": {\"outlinewidth\": 0, \"ticks\": \"\"}}, \"type\": \"scatterpolargl\"}], \"scatterternary\": [{\"marker\": {\"colorbar\": {\"outlinewidth\": 0, \"ticks\": \"\"}}, \"type\": \"scatterternary\"}], \"surface\": [{\"colorbar\": {\"outlinewidth\": 0, \"ticks\": \"\"}, \"colorscale\": [[0.0, \"#0d0887\"], [0.1111111111111111, \"#46039f\"], [0.2222222222222222, \"#7201a8\"], [0.3333333333333333, \"#9c179e\"], [0.4444444444444444, \"#bd3786\"], [0.5555555555555556, \"#d8576b\"], [0.6666666666666666, \"#ed7953\"], [0.7777777777777778, \"#fb9f3a\"], [0.8888888888888888, \"#fdca26\"], [1.0, \"#f0f921\"]], \"type\": \"surface\"}], \"table\": [{\"cells\": {\"fill\": {\"color\": \"#EBF0F8\"}, \"line\": {\"color\": \"white\"}}, \"header\": {\"fill\": {\"color\": \"#C8D4E3\"}, \"line\": {\"color\": \"white\"}}, \"type\": \"table\"}]}, \"layout\": {\"annotationdefaults\": {\"arrowcolor\": \"#2a3f5f\", \"arrowhead\": 0, \"arrowwidth\": 1}, \"autotypenumbers\": \"strict\", \"coloraxis\": {\"colorbar\": {\"outlinewidth\": 0, \"ticks\": \"\"}}, \"colorscale\": {\"diverging\": [[0, \"#8e0152\"], [0.1, \"#c51b7d\"], [0.2, \"#de77ae\"], [0.3, \"#f1b6da\"], [0.4, \"#fde0ef\"], [0.5, \"#f7f7f7\"], [0.6, \"#e6f5d0\"], [0.7, \"#b8e186\"], [0.8, \"#7fbc41\"], [0.9, \"#4d9221\"], [1, \"#276419\"]], \"sequential\": [[0.0, \"#0d0887\"], [0.1111111111111111, \"#46039f\"], [0.2222222222222222, \"#7201a8\"], [0.3333333333333333, \"#9c179e\"], [0.4444444444444444, \"#bd3786\"], [0.5555555555555556, \"#d8576b\"], [0.6666666666666666, \"#ed7953\"], [0.7777777777777778, \"#fb9f3a\"], [0.8888888888888888, \"#fdca26\"], [1.0, \"#f0f921\"]], \"sequentialminus\": [[0.0, \"#0d0887\"], [0.1111111111111111, \"#46039f\"], [0.2222222222222222, \"#7201a8\"], [0.3333333333333333, \"#9c179e\"], [0.4444444444444444, \"#bd3786\"], [0.5555555555555556, \"#d8576b\"], [0.6666666666666666, \"#ed7953\"], [0.7777777777777778, \"#fb9f3a\"], [0.8888888888888888, \"#fdca26\"], [1.0, \"#f0f921\"]]}, \"colorway\": [\"#636efa\", \"#EF553B\", \"#00cc96\", \"#ab63fa\", \"#FFA15A\", \"#19d3f3\", \"#FF6692\", \"#B6E880\", \"#FF97FF\", \"#FECB52\"], \"font\": {\"color\": \"#2a3f5f\"}, \"geo\": {\"bgcolor\": \"white\", \"lakecolor\": \"white\", \"landcolor\": \"#E5ECF6\", \"showlakes\": true, \"showland\": true, \"subunitcolor\": \"white\"}, \"hoverlabel\": {\"align\": \"left\"}, \"hovermode\": \"closest\", \"mapbox\": {\"style\": \"light\"}, \"paper_bgcolor\": \"white\", \"plot_bgcolor\": \"#E5ECF6\", \"polar\": {\"angularaxis\": {\"gridcolor\": \"white\", \"linecolor\": \"white\", \"ticks\": \"\"}, \"bgcolor\": \"#E5ECF6\", \"radialaxis\": {\"gridcolor\": \"white\", \"linecolor\": \"white\", \"ticks\": \"\"}}, \"scene\": {\"xaxis\": {\"backgroundcolor\": \"#E5ECF6\", \"gridcolor\": \"white\", \"gridwidth\": 2, \"linecolor\": \"white\", \"showbackground\": true, \"ticks\": \"\", \"zerolinecolor\": \"white\"}, \"yaxis\": {\"backgroundcolor\": \"#E5ECF6\", \"gridcolor\": \"white\", \"gridwidth\": 2, \"linecolor\": \"white\", \"showbackground\": true, \"ticks\": \"\", \"zerolinecolor\": \"white\"}, \"zaxis\": {\"backgroundcolor\": \"#E5ECF6\", \"gridcolor\": \"white\", \"gridwidth\": 2, \"linecolor\": \"white\", \"showbackground\": true, \"ticks\": \"\", \"zerolinecolor\": \"white\"}}, \"shapedefaults\": {\"line\": {\"color\": \"#2a3f5f\"}}, \"ternary\": {\"aaxis\": {\"gridcolor\": \"white\", \"linecolor\": \"white\", \"ticks\": \"\"}, \"baxis\": {\"gridcolor\": \"white\", \"linecolor\": \"white\", \"ticks\": \"\"}, \"bgcolor\": \"#E5ECF6\", \"caxis\": {\"gridcolor\": \"white\", \"linecolor\": \"white\", \"ticks\": \"\"}}, \"title\": {\"x\": 0.05}, \"xaxis\": {\"automargin\": true, \"gridcolor\": \"white\", \"linecolor\": \"white\", \"ticks\": \"\", \"title\": {\"standoff\": 15}, \"zerolinecolor\": \"white\", \"zerolinewidth\": 2}, \"yaxis\": {\"automargin\": true, \"gridcolor\": \"white\", \"linecolor\": \"white\", \"ticks\": \"\", \"title\": {\"standoff\": 15}, \"zerolinecolor\": \"white\", \"zerolinewidth\": 2}}}, \"xaxis\": {\"anchor\": \"y2\", \"domain\": [0.0, 1.0], \"zeroline\": false}, \"yaxis\": {\"anchor\": \"free\", \"domain\": [0.35, 1], \"position\": 0.0}, \"yaxis2\": {\"anchor\": \"x\", \"domain\": [0, 0.25], \"dtick\": 1, \"showticklabels\": false}},                        {\"responsive\": true}                    ).then(function(){\n",
       "                            \n",
       "var gd = document.getElementById('9f5d858e-e986-4ea6-851d-ee787cc95be0');\n",
       "var x = new MutationObserver(function (mutations, observer) {{\n",
       "        var display = window.getComputedStyle(gd).display;\n",
       "        if (!display || display === 'none') {{\n",
       "            console.log([gd, 'removed!']);\n",
       "            Plotly.purge(gd);\n",
       "            observer.disconnect();\n",
       "        }}\n",
       "}});\n",
       "\n",
       "// Listen for the removal of the full notebook cells\n",
       "var notebookContainer = gd.closest('#notebook-container');\n",
       "if (notebookContainer) {{\n",
       "    x.observe(notebookContainer, {childList: true});\n",
       "}}\n",
       "\n",
       "// Listen for the clearing of the current output cell\n",
       "var outputEl = gd.closest('.output');\n",
       "if (outputEl) {{\n",
       "    x.observe(outputEl, {childList: true});\n",
       "}}\n",
       "\n",
       "                        })                };                });            </script>        </div>"
      ]
     },
     "metadata": {},
     "output_type": "display_data"
    },
    {
     "data": {
      "image/png": "[encoded data removed]",
      "text/plain": [
       "<Figure size 432x288 with 1 Axes>"
      ]
     },
     "metadata": {
      "needs_background": "light"
     },
     "output_type": "display_data"
    }
   ],
   "source": [
    "fig = ff.create_distplot([df.age],['age'],bin_size=5)\n",
    "iplot(fig, filename='Basic Distplot')\n",
    "\n",
    "#Get also the QQ-plot\n",
    "fig = plt.figure()\n",
    "res = stats.probplot(df['age'], plot=plt)\n",
    "plt.show()"
   ]
  },
  {
   "cell_type": "markdown",
   "id": "powerful-speech",
   "metadata": {
    "papermill": {
     "duration": 0.057582,
     "end_time": "2021-08-29T13:19:59.506250",
     "exception": false,
     "start_time": "2021-08-29T13:19:59.448668",
     "status": "completed"
    },
    "tags": []
   },
   "source": [
    "heatmap"
   ]
  },
  {
   "cell_type": "code",
   "execution_count": 18,
   "id": "adjacent-princeton",
   "metadata": {
    "execution": {
     "iopub.execute_input": "2021-08-29T13:19:59.626020Z",
     "iopub.status.busy": "2021-08-29T13:19:59.625072Z",
     "iopub.status.idle": "2021-08-29T13:20:00.790410Z",
     "shell.execute_reply": "2021-08-29T13:20:00.790918Z",
     "shell.execute_reply.started": "2021-08-29T12:28:14.533421Z"
    },
    "papermill": {
     "duration": 1.227006,
     "end_time": "2021-08-29T13:20:00.791128",
     "exception": false,
     "start_time": "2021-08-29T13:19:59.564122",
     "status": "completed"
    },
    "tags": []
   },
   "outputs": [
    {
     "name": "stdout",
     "output_type": "stream",
     "text": [
      "Heatmap\n"
     ]
    },
    {
     "data": {
      "text/plain": [
       "<AxesSubplot:>"
      ]
     },
     "execution_count": 18,
     "metadata": {},
     "output_type": "execute_result"
    },
    {
     "data": {
      "image/png": "[encoded data removed]",
      "text/plain": [
       "<Figure size 1080x720 with 2 Axes>"
      ]
     },
     "metadata": {
      "needs_background": "light"
     },
     "output_type": "display_data"
    }
   ],
   "source": [
    "print('Heatmap')\n",
    "plt.figure(figsize=(15,10))\n",
    "sns.heatmap(df.corr(),annot=True,cmap='coolwarm')"
   ]
  },
  {
   "cell_type": "markdown",
   "id": "loving-opportunity",
   "metadata": {
    "papermill": {
     "duration": 0.061835,
     "end_time": "2021-08-29T13:20:00.917465",
     "exception": false,
     "start_time": "2021-08-29T13:20:00.855630",
     "status": "completed"
    },
    "tags": []
   },
   "source": [
    "# Jointplot"
   ]
  },
  {
   "cell_type": "code",
   "execution_count": 19,
   "id": "fundamental-humor",
   "metadata": {
    "execution": {
     "iopub.execute_input": "2021-08-29T13:20:01.072011Z",
     "iopub.status.busy": "2021-08-29T13:20:01.065431Z",
     "iopub.status.idle": "2021-08-29T13:20:02.829917Z",
     "shell.execute_reply": "2021-08-29T13:20:02.830488Z",
     "shell.execute_reply.started": "2021-08-29T12:28:19.398167Z"
    },
    "papermill": {
     "duration": 1.850863,
     "end_time": "2021-08-29T13:20:02.830675",
     "exception": false,
     "start_time": "2021-08-29T13:20:00.979812",
     "status": "completed"
    },
    "tags": []
   },
   "outputs": [
    {
     "data": {
      "text/plain": [
       "<seaborn.axisgrid.JointGrid at 0x7ffa920030d0>"
      ]
     },
     "execution_count": 19,
     "metadata": {},
     "output_type": "execute_result"
    },
    {
     "data": {
      "image/png": "[encoded data removed]",
      "text/plain": [
       "<Figure size 432x432 with 3 Axes>"
      ]
     },
     "metadata": {
      "needs_background": "light"
     },
     "output_type": "display_data"
    },
    {
     "data": {
      "image/png": "[encoded data removed]",
      "text/plain": [
       "<Figure size 432x432 with 3 Axes>"
      ]
     },
     "metadata": {
      "needs_background": "light"
     },
     "output_type": "display_data"
    },
    {
     "data": {
      "image/png": "[encoded data removed]",
      "text/plain": [
       "<Figure size 432x432 with 3 Axes>"
      ]
     },
     "metadata": {
      "needs_background": "light"
     },
     "output_type": "display_data"
    }
   ],
   "source": [
    "sns.jointplot(x = df['chol'], y = df['trtbps'], kind = 'hist',color = 'pink')\n",
    "sns.jointplot(x = df['trtbps'], y = df['thalachh'], kind = 'hex', color = 'green')\n",
    "sns.jointplot(x = df['chol'], y = df['thalachh'], kind = 'kde', color = 'grey')"
   ]
  },
  {
   "cell_type": "code",
   "execution_count": 20,
   "id": "alone-catering",
   "metadata": {
    "execution": {
     "iopub.execute_input": "2021-08-29T13:20:03.009650Z",
     "iopub.status.busy": "2021-08-29T13:20:03.006026Z",
     "iopub.status.idle": "2021-08-29T13:20:03.267727Z",
     "shell.execute_reply": "2021-08-29T13:20:03.268221Z",
     "shell.execute_reply.started": "2021-08-29T12:28:25.526508Z"
    },
    "papermill": {
     "duration": 0.354349,
     "end_time": "2021-08-29T13:20:03.268402",
     "exception": false,
     "start_time": "2021-08-29T13:20:02.914053",
     "status": "completed"
    },
    "tags": []
   },
   "outputs": [
    {
     "data": {
      "text/html": [
       "<div>                            <div id=\"8c95f87e-c816-4cc2-808b-6b4fd9c22a06\" class=\"plotly-graph-div\" style=\"height:525px; width:100%;\"></div>            <script type=\"text/javascript\">                require([\"plotly\"], function(Plotly) {                    window.PLOTLYENV=window.PLOTLYENV || {};                                    if (document.getElementById(\"8c95f87e-c816-4cc2-808b-6b4fd9c22a06\")) {                    Plotly.newPlot(                        \"8c95f87e-c816-4cc2-808b-6b4fd9c22a06\",                        [{\"alignmentgroup\": \"True\", \"bingroup\": \"x\", \"hovertemplate\": \"output=1<br>age=%{x}<br>count=%{y}<extra></extra>\", \"legendgroup\": \"1\", \"marker\": {\"color\": \"#f64c72\"}, \"name\": \"1\", \"offsetgroup\": \"1\", \"orientation\": \"v\", \"showlegend\": true, \"type\": \"histogram\", \"x\": [63, 37, 41, 56, 57, 57, 56, 44, 52, 57, 54, 48, 49, 64, 58, 50, 58, 66, 43, 69, 59, 44, 42, 61, 40, 71, 59, 51, 65, 53, 41, 65, 44, 54, 51, 46, 54, 54, 65, 65, 51, 48, 45, 53, 39, 52, 44, 47, 53, 53, 51, 66, 62, 44, 63, 52, 48, 45, 34, 57, 71, 54, 52, 41, 58, 35, 51, 45, 44, 62, 54, 51, 29, 51, 43, 55, 51, 59, 52, 58, 41, 45, 60, 52, 42, 67, 68, 46, 54, 58, 48, 57, 52, 54, 45, 53, 62, 52, 43, 53, 42, 59, 63, 42, 50, 68, 69, 45, 50, 50, 64, 57, 64, 43, 55, 37, 41, 56, 46, 46, 64, 59, 41, 54, 39, 34, 47, 67, 52, 74, 54, 49, 42, 41, 41, 49, 60, 62, 57, 64, 51, 43, 42, 67, 76, 70, 44, 60, 44, 42, 66, 71, 64, 66, 39, 58, 47, 35, 58, 56, 56, 55, 41, 38, 38], \"xaxis\": \"x\", \"yaxis\": \"y\"}, {\"alignmentgroup\": \"True\", \"customdata\": [[1.0, 3.0, 145.0, 233.0, 1.0, 0.0, 150.0, 0.0, 2.3, 0.0, 0.0, 1.0, 1.0], [1.0, 2.0, 130.0, 250.0, 0.0, 1.0, 187.0, 0.0, 3.5, 0.0, 0.0, 2.0, 1.0], [0.0, 1.0, 130.0, 204.0, 0.0, 0.0, 172.0, 0.0, 1.4, 2.0, 0.0, 2.0, 1.0], [1.0, 1.0, 120.0, 236.0, 0.0, 1.0, 178.0, 0.0, 0.8, 2.0, 0.0, 2.0, 1.0], [0.0, 0.0, 120.0, 354.0, 0.0, 1.0, 163.0, 1.0, 0.6, 2.0, 0.0, 2.0, 1.0], [1.0, 0.0, 140.0, 192.0, 0.0, 1.0, 148.0, 0.0, 0.4, 1.0, 0.0, 1.0, 1.0], [0.0, 1.0, 140.0, 294.0, 0.0, 0.0, 153.0, 0.0, 1.3, 1.0, 0.0, 2.0, 1.0], [1.0, 1.0, 120.0, 263.0, 0.0, 1.0, 173.0, 0.0, 0.0, 2.0, 0.0, 3.0, 1.0], [1.0, 2.0, 172.0, 199.0, 1.0, 1.0, 162.0, 0.0, 0.5, 2.0, 0.0, 3.0, 1.0], [1.0, 2.0, 150.0, 168.0, 0.0, 1.0, 174.0, 0.0, 1.6, 2.0, 0.0, 2.0, 1.0], [1.0, 0.0, 140.0, 239.0, 0.0, 1.0, 160.0, 0.0, 1.2, 2.0, 0.0, 2.0, 1.0], [0.0, 2.0, 130.0, 275.0, 0.0, 1.0, 139.0, 0.0, 0.2, 2.0, 0.0, 2.0, 1.0], [1.0, 1.0, 130.0, 266.0, 0.0, 1.0, 171.0, 0.0, 0.6, 2.0, 0.0, 2.0, 1.0], [1.0, 3.0, 110.0, 211.0, 0.0, 0.0, 144.0, 1.0, 1.8, 1.0, 0.0, 2.0, 1.0], [0.0, 3.0, 150.0, 283.0, 1.0, 0.0, 162.0, 0.0, 1.0, 2.0, 0.0, 2.0, 1.0], [0.0, 2.0, 120.0, 219.0, 0.0, 1.0, 158.0, 0.0, 1.6, 1.0, 0.0, 2.0, 1.0], [0.0, 2.0, 120.0, 340.0, 0.0, 1.0, 172.0, 0.0, 0.0, 2.0, 0.0, 2.0, 1.0], [0.0, 3.0, 150.0, 226.0, 0.0, 1.0, 114.0, 0.0, 2.6, 0.0, 0.0, 2.0, 1.0], [1.0, 0.0, 150.0, 247.0, 0.0, 1.0, 171.0, 0.0, 1.5, 2.0, 0.0, 2.0, 1.0], [0.0, 3.0, 140.0, 239.0, 0.0, 1.0, 151.0, 0.0, 1.8, 2.0, 2.0, 2.0, 1.0], [1.0, 0.0, 135.0, 234.0, 0.0, 1.0, 161.0, 0.0, 0.5, 1.0, 0.0, 3.0, 1.0], [1.0, 2.0, 130.0, 233.0, 0.0, 1.0, 179.0, 1.0, 0.4, 2.0, 0.0, 2.0, 1.0], [1.0, 0.0, 140.0, 226.0, 0.0, 1.0, 178.0, 0.0, 0.0, 2.0, 0.0, 2.0, 1.0], [1.0, 2.0, 150.0, 243.0, 1.0, 1.0, 137.0, 1.0, 1.0, 1.0, 0.0, 2.0, 1.0], [1.0, 3.0, 140.0, 199.0, 0.0, 1.0, 178.0, 1.0, 1.4, 2.0, 0.0, 3.0, 1.0], [0.0, 1.0, 160.0, 302.0, 0.0, 1.0, 162.0, 0.0, 0.4, 2.0, 2.0, 2.0, 1.0], [1.0, 2.0, 150.0, 212.0, 1.0, 1.0, 157.0, 0.0, 1.6, 2.0, 0.0, 2.0, 1.0], [1.0, 2.0, 110.0, 175.0, 0.0, 1.0, 123.0, 0.0, 0.6, 2.0, 0.0, 2.0, 1.0], [0.0, 2.0, 140.0, 417.0, 1.0, 0.0, 157.0, 0.0, 0.8, 2.0, 1.0, 2.0, 1.0], [1.0, 2.0, 130.0, 197.0, 1.0, 0.0, 152.0, 0.0, 1.2, 0.0, 0.0, 2.0, 1.0], [0.0, 1.0, 105.0, 198.0, 0.0, 1.0, 168.0, 0.0, 0.0, 2.0, 1.0, 2.0, 1.0], [1.0, 0.0, 120.0, 177.0, 0.0, 1.0, 140.0, 0.0, 0.4, 2.0, 0.0, 3.0, 1.0], [1.0, 1.0, 130.0, 219.0, 0.0, 0.0, 188.0, 0.0, 0.0, 2.0, 0.0, 2.0, 1.0], [1.0, 2.0, 125.0, 273.0, 0.0, 0.0, 152.0, 0.0, 0.5, 0.0, 1.0, 2.0, 1.0], [1.0, 3.0, 125.0, 213.0, 0.0, 0.0, 125.0, 1.0, 1.4, 2.0, 1.0, 2.0, 1.0], [0.0, 2.0, 142.0, 177.0, 0.0, 0.0, 160.0, 1.0, 1.4, 0.0, 0.0, 2.0, 1.0], [0.0, 2.0, 135.0, 304.0, 1.0, 1.0, 170.0, 0.0, 0.0, 2.0, 0.0, 2.0, 1.0], [1.0, 2.0, 150.0, 232.0, 0.0, 0.0, 165.0, 0.0, 1.6, 2.0, 0.0, 3.0, 1.0], [0.0, 2.0, 155.0, 269.0, 0.0, 1.0, 148.0, 0.0, 0.8, 2.0, 0.0, 2.0, 1.0], [0.0, 2.0, 160.0, 360.0, 0.0, 0.0, 151.0, 0.0, 0.8, 2.0, 0.0, 2.0, 1.0], [0.0, 2.0, 140.0, 308.0, 0.0, 0.0, 142.0, 0.0, 1.5, 2.0, 1.0, 2.0, 1.0], [1.0, 1.0, 130.0, 245.0, 0.0, 0.0, 180.0, 0.0, 0.2, 1.0, 0.0, 2.0, 1.0], [1.0, 0.0, 104.0, 208.0, 0.0, 0.0, 148.0, 1.0, 3.0, 1.0, 0.0, 2.0, 1.0], [0.0, 0.0, 130.0, 264.0, 0.0, 0.0, 143.0, 0.0, 0.4, 1.0, 0.0, 2.0, 1.0], [1.0, 2.0, 140.0, 321.0, 0.0, 0.0, 182.0, 0.0, 0.0, 2.0, 0.0, 2.0, 1.0], [1.0, 1.0, 120.0, 325.0, 0.0, 1.0, 172.0, 0.0, 0.2, 2.0, 0.0, 2.0, 1.0], [1.0, 2.0, 140.0, 235.0, 0.0, 0.0, 180.0, 0.0, 0.0, 2.0, 0.0, 2.0, 1.0], [1.0, 2.0, 138.0, 257.0, 0.0, 0.0, 156.0, 0.0, 0.0, 2.0, 0.0, 2.0, 1.0], [0.0, 2.0, 128.0, 216.0, 0.0, 0.0, 115.0, 0.0, 0.0, 2.0, 0.0, 0.0, 1.0], [0.0, 0.0, 138.0, 234.0, 0.0, 0.0, 160.0, 0.0, 0.0, 2.0, 0.0, 2.0, 1.0], [0.0, 2.0, 130.0, 256.0, 0.0, 0.0, 149.0, 0.0, 0.5, 2.0, 0.0, 2.0, 1.0], [1.0, 0.0, 120.0, 302.0, 0.0, 0.0, 151.0, 0.0, 0.4, 1.0, 0.0, 2.0, 1.0], [1.0, 2.0, 130.0, 231.0, 0.0, 1.0, 146.0, 0.0, 1.8, 1.0, 3.0, 3.0, 1.0], [0.0, 2.0, 108.0, 141.0, 0.0, 1.0, 175.0, 0.0, 0.6, 1.0, 0.0, 2.0, 1.0], [0.0, 2.0, 135.0, 252.0, 0.0, 0.0, 172.0, 0.0, 0.0, 2.0, 0.0, 2.0, 1.0], [1.0, 1.0, 134.0, 201.0, 0.0, 1.0, 158.0, 0.0, 0.8, 2.0, 1.0, 2.0, 1.0], [1.0, 0.0, 122.0, 222.0, 0.0, 0.0, 186.0, 0.0, 0.0, 2.0, 0.0, 2.0, 1.0], [1.0, 0.0, 115.0, 260.0, 0.0, 0.0, 185.0, 0.0, 0.0, 2.0, 0.0, 2.0, 1.0], [1.0, 3.0, 118.0, 182.0, 0.0, 0.0, 174.0, 0.0, 0.0, 2.0, 0.0, 2.0, 1.0], [0.0, 0.0, 128.0, 303.0, 0.0, 0.0, 159.0, 0.0, 0.0, 2.0, 1.0, 2.0, 1.0], [0.0, 2.0, 110.0, 265.0, 1.0, 0.0, 130.0, 0.0, 0.0, 2.0, 1.0, 2.0, 1.0], [1.0, 1.0, 108.0, 309.0, 0.0, 1.0, 156.0, 0.0, 0.0, 2.0, 0.0, 3.0, 1.0], [1.0, 3.0, 118.0, 186.0, 0.0, 0.0, 190.0, 0.0, 0.0, 1.0, 0.0, 1.0, 1.0], [1.0, 1.0, 135.0, 203.0, 0.0, 1.0, 132.0, 0.0, 0.0, 1.0, 0.0, 1.0, 1.0], [1.0, 2.0, 140.0, 211.0, 1.0, 0.0, 165.0, 0.0, 0.0, 2.0, 0.0, 2.0, 1.0], [0.0, 0.0, 138.0, 183.0, 0.0, 1.0, 182.0, 0.0, 1.4, 2.0, 0.0, 2.0, 1.0], [1.0, 2.0, 100.0, 222.0, 0.0, 1.0, 143.0, 1.0, 1.2, 1.0, 0.0, 2.0, 1.0], [0.0, 1.0, 130.0, 234.0, 0.0, 0.0, 175.0, 0.0, 0.6, 1.0, 0.0, 2.0, 1.0], [1.0, 1.0, 120.0, 220.0, 0.0, 1.0, 170.0, 0.0, 0.0, 2.0, 0.0, 2.0, 1.0], [0.0, 0.0, 124.0, 209.0, 0.0, 1.0, 163.0, 0.0, 0.0, 2.0, 0.0, 2.0, 1.0], [1.0, 2.0, 120.0, 258.0, 0.0, 0.0, 147.0, 0.0, 0.4, 1.0, 0.0, 3.0, 1.0], [1.0, 2.0, 94.0, 227.0, 0.0, 1.0, 154.0, 1.0, 0.0, 2.0, 1.0, 3.0, 1.0], [1.0, 1.0, 130.0, 204.0, 0.0, 0.0, 202.0, 0.0, 0.0, 2.0, 0.0, 2.0, 1.0], [1.0, 0.0, 140.0, 261.0, 0.0, 0.0, 186.0, 1.0, 0.0, 2.0, 0.0, 2.0, 1.0], [0.0, 2.0, 122.0, 213.0, 0.0, 1.0, 165.0, 0.0, 0.2, 1.0, 0.0, 2.0, 1.0], [0.0, 1.0, 135.0, 250.0, 0.0, 0.0, 161.0, 0.0, 1.4, 1.0, 0.0, 2.0, 1.0], [1.0, 2.0, 125.0, 245.0, 1.0, 0.0, 166.0, 0.0, 2.4, 1.0, 0.0, 2.0, 1.0], [1.0, 1.0, 140.0, 221.0, 0.0, 1.0, 164.0, 1.0, 0.0, 2.0, 0.0, 2.0, 1.0], [1.0, 1.0, 128.0, 205.0, 1.0, 1.0, 184.0, 0.0, 0.0, 2.0, 0.0, 2.0, 1.0], [1.0, 2.0, 105.0, 240.0, 0.0, 0.0, 154.0, 1.0, 0.6, 1.0, 0.0, 3.0, 1.0], [1.0, 2.0, 112.0, 250.0, 0.0, 1.0, 179.0, 0.0, 0.0, 2.0, 0.0, 2.0, 1.0], [1.0, 1.0, 128.0, 308.0, 0.0, 0.0, 170.0, 0.0, 0.0, 2.0, 0.0, 2.0, 1.0], [0.0, 2.0, 102.0, 318.0, 0.0, 1.0, 160.0, 0.0, 0.0, 2.0, 1.0, 2.0, 1.0], [1.0, 3.0, 152.0, 298.0, 1.0, 1.0, 178.0, 0.0, 1.2, 1.0, 0.0, 3.0, 1.0], [0.0, 0.0, 102.0, 265.0, 0.0, 0.0, 122.0, 0.0, 0.6, 1.0, 0.0, 2.0, 1.0], [0.0, 2.0, 115.0, 564.0, 0.0, 0.0, 160.0, 0.0, 1.6, 1.0, 0.0, 3.0, 1.0], [1.0, 2.0, 118.0, 277.0, 0.0, 1.0, 151.0, 0.0, 1.0, 2.0, 1.0, 3.0, 1.0], [1.0, 1.0, 101.0, 197.0, 1.0, 1.0, 156.0, 0.0, 0.0, 2.0, 0.0, 3.0, 1.0], [0.0, 2.0, 110.0, 214.0, 0.0, 1.0, 158.0, 0.0, 1.6, 1.0, 0.0, 2.0, 1.0], [0.0, 0.0, 100.0, 248.0, 0.0, 0.0, 122.0, 0.0, 1.0, 1.0, 0.0, 2.0, 1.0], [1.0, 2.0, 124.0, 255.0, 1.0, 1.0, 175.0, 0.0, 0.0, 2.0, 2.0, 2.0, 1.0], [1.0, 0.0, 132.0, 207.0, 0.0, 1.0, 168.0, 1.0, 0.0, 2.0, 0.0, 3.0, 1.0], [1.0, 2.0, 138.0, 223.0, 0.0, 1.0, 169.0, 0.0, 0.0, 2.0, 4.0, 2.0, 1.0], [0.0, 1.0, 132.0, 288.0, 1.0, 0.0, 159.0, 1.0, 0.0, 2.0, 1.0, 2.0, 1.0], [0.0, 1.0, 112.0, 160.0, 0.0, 1.0, 138.0, 0.0, 0.0, 1.0, 0.0, 2.0, 1.0], [1.0, 0.0, 142.0, 226.0, 0.0, 0.0, 111.0, 1.0, 0.0, 2.0, 0.0, 3.0, 1.0], [0.0, 0.0, 140.0, 394.0, 0.0, 0.0, 157.0, 0.0, 1.2, 1.0, 0.0, 2.0, 1.0], [1.0, 0.0, 108.0, 233.0, 1.0, 1.0, 147.0, 0.0, 0.1, 2.0, 3.0, 3.0, 1.0], [1.0, 2.0, 130.0, 315.0, 0.0, 1.0, 162.0, 0.0, 1.9, 2.0, 1.0, 2.0, 1.0], [1.0, 2.0, 130.0, 246.0, 1.0, 0.0, 173.0, 0.0, 0.0, 2.0, 3.0, 2.0, 1.0], [1.0, 3.0, 148.0, 244.0, 0.0, 0.0, 178.0, 0.0, 0.8, 2.0, 2.0, 2.0, 1.0], [1.0, 3.0, 178.0, 270.0, 0.0, 0.0, 145.0, 0.0, 4.2, 0.0, 0.0, 3.0, 1.0], [0.0, 1.0, 140.0, 195.0, 0.0, 1.0, 179.0, 0.0, 0.0, 2.0, 2.0, 2.0, 1.0], [1.0, 2.0, 120.0, 240.0, 1.0, 1.0, 194.0, 0.0, 0.8, 0.0, 0.0, 3.0, 1.0], [1.0, 2.0, 129.0, 196.0, 0.0, 1.0, 163.0, 0.0, 0.0, 2.0, 0.0, 2.0, 1.0], [0.0, 2.0, 120.0, 211.0, 0.0, 0.0, 115.0, 0.0, 1.5, 1.0, 0.0, 2.0, 1.0], [1.0, 3.0, 160.0, 234.0, 1.0, 0.0, 131.0, 0.0, 0.1, 1.0, 1.0, 2.0, 1.0], [0.0, 0.0, 138.0, 236.0, 0.0, 0.0, 152.0, 1.0, 0.2, 1.0, 0.0, 2.0, 1.0], [0.0, 1.0, 120.0, 244.0, 0.0, 1.0, 162.0, 0.0, 1.1, 2.0, 0.0, 2.0, 1.0], [0.0, 0.0, 110.0, 254.0, 0.0, 0.0, 159.0, 0.0, 0.0, 2.0, 0.0, 2.0, 1.0], [0.0, 0.0, 180.0, 325.0, 0.0, 1.0, 154.0, 1.0, 0.0, 2.0, 0.0, 2.0, 1.0], [1.0, 2.0, 150.0, 126.0, 1.0, 1.0, 173.0, 0.0, 0.2, 2.0, 1.0, 3.0, 1.0], [0.0, 2.0, 140.0, 313.0, 0.0, 1.0, 133.0, 0.0, 0.2, 2.0, 0.0, 3.0, 1.0], [1.0, 0.0, 110.0, 211.0, 0.0, 1.0, 161.0, 0.0, 0.0, 2.0, 0.0, 3.0, 1.0], [1.0, 1.0, 130.0, 262.0, 0.0, 1.0, 155.0, 0.0, 0.0, 2.0, 0.0, 2.0, 1.0], [0.0, 2.0, 120.0, 215.0, 0.0, 1.0, 170.0, 0.0, 0.0, 2.0, 0.0, 2.0, 1.0], [1.0, 2.0, 130.0, 214.0, 0.0, 0.0, 168.0, 0.0, 2.0, 1.0, 0.0, 2.0, 1.0], [1.0, 3.0, 120.0, 193.0, 0.0, 0.0, 162.0, 0.0, 1.9, 1.0, 0.0, 3.0, 1.0], [0.0, 1.0, 105.0, 204.0, 0.0, 1.0, 172.0, 0.0, 0.0, 2.0, 0.0, 2.0, 1.0], [0.0, 0.0, 138.0, 243.0, 0.0, 0.0, 152.0, 1.0, 0.0, 1.0, 0.0, 2.0, 1.0], [0.0, 0.0, 130.0, 303.0, 0.0, 1.0, 122.0, 0.0, 2.0, 1.0, 2.0, 2.0, 1.0], [1.0, 0.0, 138.0, 271.0, 0.0, 0.0, 182.0, 0.0, 0.0, 2.0, 0.0, 2.0, 1.0], [0.0, 2.0, 112.0, 268.0, 0.0, 0.0, 172.0, 1.0, 0.0, 2.0, 0.0, 2.0, 1.0], [0.0, 2.0, 108.0, 267.0, 0.0, 0.0, 167.0, 0.0, 0.0, 2.0, 0.0, 2.0, 1.0], [0.0, 2.0, 94.0, 199.0, 0.0, 1.0, 179.0, 0.0, 0.0, 2.0, 0.0, 2.0, 1.0], [0.0, 1.0, 118.0, 210.0, 0.0, 1.0, 192.0, 0.0, 0.7, 2.0, 0.0, 2.0, 1.0], [1.0, 0.0, 112.0, 204.0, 0.0, 1.0, 143.0, 0.0, 0.1, 2.0, 0.0, 2.0, 1.0], [0.0, 2.0, 152.0, 277.0, 0.0, 1.0, 172.0, 0.0, 0.0, 2.0, 1.0, 2.0, 1.0], [0.0, 2.0, 136.0, 196.0, 0.0, 0.0, 169.0, 0.0, 0.1, 1.0, 0.0, 2.0, 1.0], [0.0, 1.0, 120.0, 269.0, 0.0, 0.0, 121.0, 1.0, 0.2, 2.0, 1.0, 2.0, 1.0], [0.0, 2.0, 160.0, 201.0, 0.0, 1.0, 163.0, 0.0, 0.0, 2.0, 1.0, 2.0, 1.0], [0.0, 1.0, 134.0, 271.0, 0.0, 1.0, 162.0, 0.0, 0.0, 1.0, 0.0, 2.0, 1.0], [1.0, 1.0, 120.0, 295.0, 0.0, 1.0, 162.0, 0.0, 0.0, 2.0, 0.0, 2.0, 1.0], [1.0, 1.0, 110.0, 235.0, 0.0, 1.0, 153.0, 0.0, 0.0, 2.0, 0.0, 2.0, 1.0], [0.0, 1.0, 126.0, 306.0, 0.0, 1.0, 163.0, 0.0, 0.0, 2.0, 0.0, 2.0, 1.0], [0.0, 0.0, 130.0, 269.0, 0.0, 1.0, 163.0, 0.0, 0.0, 2.0, 0.0, 2.0, 1.0], [0.0, 2.0, 120.0, 178.0, 1.0, 1.0, 96.0, 0.0, 0.0, 2.0, 0.0, 2.0, 1.0], [1.0, 1.0, 128.0, 208.0, 1.0, 0.0, 140.0, 0.0, 0.0, 2.0, 0.0, 2.0, 1.0], [1.0, 0.0, 110.0, 201.0, 0.0, 1.0, 126.0, 1.0, 1.5, 1.0, 0.0, 1.0, 1.0], [1.0, 0.0, 128.0, 263.0, 0.0, 1.0, 105.0, 1.0, 0.2, 1.0, 1.0, 3.0, 1.0], [0.0, 2.0, 120.0, 295.0, 0.0, 0.0, 157.0, 0.0, 0.6, 2.0, 0.0, 2.0, 1.0], [1.0, 0.0, 115.0, 303.0, 0.0, 1.0, 181.0, 0.0, 1.2, 1.0, 0.0, 2.0, 1.0], [0.0, 2.0, 120.0, 209.0, 0.0, 1.0, 173.0, 0.0, 0.0, 1.0, 0.0, 2.0, 1.0], [0.0, 0.0, 106.0, 223.0, 0.0, 1.0, 142.0, 0.0, 0.3, 2.0, 2.0, 2.0, 1.0], [0.0, 2.0, 140.0, 197.0, 0.0, 2.0, 116.0, 0.0, 1.1, 1.0, 0.0, 2.0, 1.0], [1.0, 1.0, 156.0, 245.0, 0.0, 0.0, 143.0, 0.0, 0.0, 2.0, 0.0, 2.0, 1.0], [0.0, 2.0, 118.0, 242.0, 0.0, 1.0, 149.0, 0.0, 0.3, 1.0, 1.0, 2.0, 1.0], [0.0, 3.0, 150.0, 240.0, 0.0, 1.0, 171.0, 0.0, 0.9, 2.0, 0.0, 2.0, 1.0], [1.0, 2.0, 120.0, 226.0, 0.0, 1.0, 169.0, 0.0, 0.0, 2.0, 0.0, 2.0, 1.0], [1.0, 2.0, 130.0, 180.0, 0.0, 1.0, 150.0, 0.0, 0.0, 2.0, 0.0, 2.0, 1.0], [1.0, 0.0, 160.0, 228.0, 0.0, 0.0, 138.0, 0.0, 2.3, 2.0, 0.0, 1.0, 1.0], [0.0, 0.0, 112.0, 149.0, 0.0, 1.0, 125.0, 0.0, 1.6, 1.0, 0.0, 2.0, 1.0], [1.0, 3.0, 170.0, 227.0, 0.0, 0.0, 155.0, 0.0, 0.6, 1.0, 0.0, 3.0, 1.0], [0.0, 2.0, 146.0, 278.0, 0.0, 0.0, 152.0, 0.0, 0.0, 1.0, 1.0, 2.0, 1.0], [0.0, 2.0, 138.0, 220.0, 0.0, 1.0, 152.0, 0.0, 0.0, 1.0, 0.0, 2.0, 1.0], [0.0, 0.0, 130.0, 197.0, 0.0, 1.0, 131.0, 0.0, 0.6, 1.0, 0.0, 2.0, 1.0], [1.0, 2.0, 130.0, 253.0, 0.0, 1.0, 179.0, 0.0, 0.0, 2.0, 0.0, 2.0, 1.0], [1.0, 1.0, 122.0, 192.0, 0.0, 1.0, 174.0, 0.0, 0.0, 2.0, 0.0, 2.0, 1.0], [1.0, 1.0, 125.0, 220.0, 0.0, 1.0, 144.0, 0.0, 0.4, 1.0, 4.0, 3.0, 1.0], [1.0, 1.0, 130.0, 221.0, 0.0, 0.0, 163.0, 0.0, 0.0, 2.0, 0.0, 3.0, 1.0], [1.0, 1.0, 120.0, 240.0, 0.0, 1.0, 169.0, 0.0, 0.0, 0.0, 0.0, 2.0, 1.0], [0.0, 1.0, 132.0, 342.0, 0.0, 1.0, 166.0, 0.0, 1.2, 2.0, 0.0, 2.0, 1.0], [1.0, 1.0, 120.0, 157.0, 0.0, 1.0, 182.0, 0.0, 0.0, 2.0, 0.0, 2.0, 1.0], [1.0, 2.0, 138.0, 175.0, 0.0, 1.0, 173.0, 0.0, 0.0, 2.0, 4.0, 2.0, 1.0], [1.0, 2.0, 138.0, 175.0, 0.0, 1.0, 173.0, 0.0, 0.0, 2.0, 4.0, 2.0, 1.0]], \"hovertemplate\": \"output=%{customdata[12]}<br>age=%{x}<br>sex=%{customdata[0]}<br>cp=%{customdata[1]}<br>trtbps=%{customdata[2]}<br>chol=%{customdata[3]}<br>fbs=%{customdata[4]}<br>restecg=%{customdata[5]}<br>thalachh=%{customdata[6]}<br>exng=%{customdata[7]}<br>oldpeak=%{customdata[8]}<br>slp=%{customdata[9]}<br>caa=%{customdata[10]}<br>thall=%{customdata[11]}<extra></extra>\", \"legendgroup\": \"1\", \"marker\": {\"color\": \"#f64c72\"}, \"name\": \"1\", \"notched\": true, \"offsetgroup\": \"1\", \"showlegend\": false, \"type\": \"box\", \"x\": [63, 37, 41, 56, 57, 57, 56, 44, 52, 57, 54, 48, 49, 64, 58, 50, 58, 66, 43, 69, 59, 44, 42, 61, 40, 71, 59, 51, 65, 53, 41, 65, 44, 54, 51, 46, 54, 54, 65, 65, 51, 48, 45, 53, 39, 52, 44, 47, 53, 53, 51, 66, 62, 44, 63, 52, 48, 45, 34, 57, 71, 54, 52, 41, 58, 35, 51, 45, 44, 62, 54, 51, 29, 51, 43, 55, 51, 59, 52, 58, 41, 45, 60, 52, 42, 67, 68, 46, 54, 58, 48, 57, 52, 54, 45, 53, 62, 52, 43, 53, 42, 59, 63, 42, 50, 68, 69, 45, 50, 50, 64, 57, 64, 43, 55, 37, 41, 56, 46, 46, 64, 59, 41, 54, 39, 34, 47, 67, 52, 74, 54, 49, 42, 41, 41, 49, 60, 62, 57, 64, 51, 43, 42, 67, 76, 70, 44, 60, 44, 42, 66, 71, 64, 66, 39, 58, 47, 35, 58, 56, 56, 55, 41, 38, 38], \"xaxis\": \"x2\", \"yaxis\": \"y2\"}, {\"alignmentgroup\": \"True\", \"bingroup\": \"x\", \"hovertemplate\": \"output=0<br>age=%{x}<br>count=%{y}<extra></extra>\", \"legendgroup\": \"0\", \"marker\": {\"color\": \"#85bfdc\"}, \"name\": \"0\", \"offsetgroup\": \"0\", \"orientation\": \"v\", \"showlegend\": true, \"type\": \"histogram\", \"x\": [67, 67, 62, 63, 53, 56, 48, 58, 58, 60, 40, 60, 64, 43, 57, 55, 65, 61, 58, 50, 44, 60, 54, 50, 41, 51, 58, 54, 60, 60, 59, 46, 67, 62, 65, 44, 60, 58, 68, 62, 52, 59, 60, 49, 59, 57, 61, 39, 61, 56, 43, 62, 63, 65, 48, 63, 55, 65, 56, 54, 70, 62, 35, 59, 64, 47, 57, 55, 64, 70, 51, 58, 60, 77, 35, 70, 59, 64, 57, 56, 48, 56, 66, 54, 69, 51, 43, 62, 67, 59, 45, 58, 50, 62, 38, 66, 52, 53, 63, 54, 66, 55, 49, 54, 56, 46, 61, 67, 58, 47, 52, 58, 57, 58, 61, 42, 52, 59, 40, 61, 46, 59, 57, 57, 55, 61, 58, 58, 67, 44, 63, 63, 59, 57, 45, 68, 57, 57], \"xaxis\": \"x\", \"yaxis\": \"y\"}, {\"alignmentgroup\": \"True\", \"customdata\": [[1.0, 0.0, 160.0, 286.0, 0.0, 0.0, 108.0, 1.0, 1.5, 1.0, 3.0, 2.0, 0.0], [1.0, 0.0, 120.0, 229.0, 0.0, 0.0, 129.0, 1.0, 2.6, 1.0, 2.0, 3.0, 0.0], [0.0, 0.0, 140.0, 268.0, 0.0, 0.0, 160.0, 0.0, 3.6, 0.0, 2.0, 2.0, 0.0], [1.0, 0.0, 130.0, 254.0, 0.0, 0.0, 147.0, 0.0, 1.4, 1.0, 1.0, 3.0, 0.0], [1.0, 0.0, 140.0, 203.0, 1.0, 0.0, 155.0, 1.0, 3.1, 0.0, 0.0, 3.0, 0.0], [1.0, 2.0, 130.0, 256.0, 1.0, 0.0, 142.0, 1.0, 0.6, 1.0, 1.0, 1.0, 0.0], [1.0, 1.0, 110.0, 229.0, 0.0, 1.0, 168.0, 0.0, 1.0, 0.0, 0.0, 3.0, 0.0], [1.0, 1.0, 120.0, 284.0, 0.0, 0.0, 160.0, 0.0, 1.8, 1.0, 0.0, 2.0, 0.0], [1.0, 2.0, 132.0, 224.0, 0.0, 0.0, 173.0, 0.0, 3.2, 2.0, 2.0, 3.0, 0.0], [1.0, 0.0, 130.0, 206.0, 0.0, 0.0, 132.0, 1.0, 2.4, 1.0, 2.0, 3.0, 0.0], [1.0, 0.0, 110.0, 167.0, 0.0, 0.0, 114.0, 1.0, 2.0, 1.0, 0.0, 3.0, 0.0], [1.0, 0.0, 117.0, 230.0, 1.0, 1.0, 160.0, 1.0, 1.4, 2.0, 2.0, 3.0, 0.0], [1.0, 2.0, 140.0, 335.0, 0.0, 1.0, 158.0, 0.0, 0.0, 2.0, 0.0, 2.0, 0.0], [1.0, 0.0, 120.0, 177.0, 0.0, 0.0, 120.0, 1.0, 2.5, 1.0, 0.0, 3.0, 0.0], [1.0, 0.0, 150.0, 276.0, 0.0, 0.0, 112.0, 1.0, 0.6, 1.0, 1.0, 1.0, 0.0], [1.0, 0.0, 132.0, 353.0, 0.0, 1.0, 132.0, 1.0, 1.2, 1.0, 1.0, 3.0, 0.0], [0.0, 0.0, 150.0, 225.0, 0.0, 0.0, 114.0, 0.0, 1.0, 1.0, 3.0, 3.0, 0.0], [0.0, 0.0, 130.0, 330.0, 0.0, 0.0, 169.0, 0.0, 0.0, 2.0, 0.0, 2.0, 0.0], [1.0, 2.0, 112.0, 230.0, 0.0, 0.0, 165.0, 0.0, 2.5, 1.0, 1.0, 3.0, 0.0], [1.0, 0.0, 150.0, 243.0, 0.0, 0.0, 128.0, 0.0, 2.6, 1.0, 0.0, 3.0, 0.0], [1.0, 0.0, 112.0, 290.0, 0.0, 0.0, 153.0, 0.0, 0.0, 2.0, 1.0, 2.0, 0.0], [1.0, 0.0, 130.0, 253.0, 0.0, 1.0, 144.0, 1.0, 1.4, 2.0, 1.0, 3.0, 0.0], [1.0, 0.0, 124.0, 266.0, 0.0, 0.0, 109.0, 1.0, 2.2, 1.0, 1.0, 3.0, 0.0], [1.0, 2.0, 140.0, 233.0, 0.0, 1.0, 163.0, 0.0, 0.6, 1.0, 1.0, 3.0, 0.0], [1.0, 0.0, 110.0, 172.0, 0.0, 0.0, 158.0, 0.0, 0.0, 2.0, 0.0, 3.0, 0.0], [0.0, 0.0, 130.0, 305.0, 0.0, 1.0, 142.0, 1.0, 1.2, 1.0, 0.0, 3.0, 0.0], [1.0, 0.0, 128.0, 216.0, 0.0, 0.0, 131.0, 1.0, 2.2, 1.0, 3.0, 3.0, 0.0], [1.0, 0.0, 120.0, 188.0, 0.0, 1.0, 113.0, 0.0, 1.4, 1.0, 1.0, 3.0, 0.0], [1.0, 0.0, 145.0, 282.0, 0.0, 0.0, 142.0, 1.0, 2.8, 1.0, 2.0, 3.0, 0.0], [1.0, 2.0, 140.0, 185.0, 0.0, 0.0, 155.0, 0.0, 3.0, 1.0, 0.0, 2.0, 0.0], [1.0, 0.0, 170.0, 326.0, 0.0, 0.0, 140.0, 1.0, 3.4, 0.0, 0.0, 3.0, 0.0], [1.0, 2.0, 150.0, 231.0, 0.0, 1.0, 147.0, 0.0, 3.6, 1.0, 0.0, 2.0, 0.0], [1.0, 0.0, 125.0, 254.0, 1.0, 1.0, 163.0, 0.0, 0.2, 1.0, 2.0, 3.0, 0.0], [1.0, 0.0, 120.0, 267.0, 0.0, 1.0, 99.0, 1.0, 1.8, 1.0, 2.0, 3.0, 0.0], [1.0, 0.0, 110.0, 248.0, 0.0, 0.0, 158.0, 0.0, 0.6, 2.0, 2.0, 1.0, 0.0], [1.0, 0.0, 110.0, 197.0, 0.0, 0.0, 177.0, 0.0, 0.0, 2.0, 1.0, 2.0, 0.0], [1.0, 0.0, 125.0, 258.0, 0.0, 0.0, 141.0, 1.0, 2.8, 1.0, 1.0, 3.0, 0.0], [1.0, 0.0, 150.0, 270.0, 0.0, 0.0, 111.0, 1.0, 0.8, 2.0, 0.0, 3.0, 0.0], [1.0, 2.0, 180.0, 274.0, 1.0, 0.0, 150.0, 1.0, 1.6, 1.0, 0.0, 3.0, 0.0], [0.0, 0.0, 160.0, 164.0, 0.0, 0.0, 145.0, 0.0, 6.2, 0.0, 3.0, 3.0, 0.0], [1.0, 0.0, 128.0, 255.0, 0.0, 1.0, 161.0, 1.0, 0.0, 2.0, 1.0, 3.0, 0.0], [1.0, 0.0, 110.0, 239.0, 0.0, 0.0, 142.0, 1.0, 1.2, 1.0, 1.0, 3.0, 0.0], [0.0, 0.0, 150.0, 258.0, 0.0, 0.0, 157.0, 0.0, 2.6, 1.0, 2.0, 3.0, 0.0], [1.0, 2.0, 120.0, 188.0, 0.0, 1.0, 139.0, 0.0, 2.0, 1.0, 3.0, 3.0, 0.0], [1.0, 0.0, 140.0, 177.0, 0.0, 1.0, 162.0, 1.0, 0.0, 2.0, 1.0, 3.0, 0.0], [1.0, 2.0, 128.0, 229.0, 0.0, 0.0, 150.0, 0.0, 0.4, 1.0, 1.0, 3.0, 0.0], [1.0, 0.0, 120.0, 260.0, 0.0, 1.0, 140.0, 1.0, 3.6, 1.0, 1.0, 3.0, 0.0], [1.0, 0.0, 118.0, 219.0, 0.0, 1.0, 140.0, 0.0, 1.2, 1.0, 0.0, 3.0, 0.0], [0.0, 0.0, 145.0, 307.0, 0.0, 0.0, 146.0, 1.0, 1.0, 1.0, 0.0, 3.0, 0.0], [1.0, 0.0, 125.0, 249.0, 1.0, 0.0, 144.0, 1.0, 1.2, 1.0, 1.0, 2.0, 0.0], [0.0, 0.0, 132.0, 341.0, 1.0, 0.0, 136.0, 1.0, 3.0, 1.0, 0.0, 3.0, 0.0], [0.0, 2.0, 130.0, 263.0, 0.0, 1.0, 97.0, 0.0, 1.2, 1.0, 1.0, 3.0, 0.0], [1.0, 0.0, 130.0, 330.0, 1.0, 0.0, 132.0, 1.0, 1.8, 2.0, 3.0, 3.0, 0.0], [1.0, 0.0, 135.0, 254.0, 0.0, 0.0, 127.0, 0.0, 2.8, 1.0, 1.0, 3.0, 0.0], [1.0, 0.0, 130.0, 256.0, 1.0, 0.0, 150.0, 1.0, 0.0, 2.0, 2.0, 3.0, 0.0], [0.0, 0.0, 150.0, 407.0, 0.0, 0.0, 154.0, 0.0, 4.0, 1.0, 3.0, 3.0, 0.0], [1.0, 0.0, 140.0, 217.0, 0.0, 1.0, 111.0, 1.0, 5.6, 0.0, 0.0, 3.0, 0.0], [1.0, 3.0, 138.0, 282.0, 1.0, 0.0, 174.0, 0.0, 1.4, 1.0, 1.0, 2.0, 0.0], [0.0, 0.0, 200.0, 288.0, 1.0, 0.0, 133.0, 1.0, 4.0, 0.0, 2.0, 3.0, 0.0], [1.0, 0.0, 110.0, 239.0, 0.0, 1.0, 126.0, 1.0, 2.8, 1.0, 1.0, 3.0, 0.0], [1.0, 0.0, 145.0, 174.0, 0.0, 1.0, 125.0, 1.0, 2.6, 0.0, 0.0, 3.0, 0.0], [1.0, 1.0, 120.0, 281.0, 0.0, 0.0, 103.0, 0.0, 1.4, 1.0, 1.0, 3.0, 0.0], [1.0, 0.0, 120.0, 198.0, 0.0, 1.0, 130.0, 1.0, 1.6, 1.0, 0.0, 3.0, 0.0], [1.0, 3.0, 170.0, 288.0, 0.0, 0.0, 159.0, 0.0, 0.2, 1.0, 0.0, 3.0, 0.0], [1.0, 2.0, 125.0, 309.0, 0.0, 1.0, 131.0, 1.0, 1.8, 1.0, 0.0, 3.0, 0.0], [1.0, 2.0, 108.0, 243.0, 0.0, 1.0, 152.0, 0.0, 0.0, 2.0, 0.0, 2.0, 0.0], [1.0, 0.0, 165.0, 289.0, 1.0, 0.0, 124.0, 0.0, 1.0, 1.0, 3.0, 3.0, 0.0], [1.0, 0.0, 160.0, 289.0, 0.0, 0.0, 145.0, 1.0, 0.8, 1.0, 1.0, 3.0, 0.0], [1.0, 0.0, 120.0, 246.0, 0.0, 0.0, 96.0, 1.0, 2.2, 0.0, 1.0, 2.0, 0.0], [1.0, 0.0, 130.0, 322.0, 0.0, 0.0, 109.0, 0.0, 2.4, 1.0, 3.0, 2.0, 0.0], [1.0, 0.0, 140.0, 299.0, 0.0, 1.0, 173.0, 1.0, 1.6, 2.0, 0.0, 3.0, 0.0], [1.0, 0.0, 125.0, 300.0, 0.0, 0.0, 171.0, 0.0, 0.0, 2.0, 2.0, 3.0, 0.0], [1.0, 0.0, 140.0, 293.0, 0.0, 0.0, 170.0, 0.0, 1.2, 1.0, 2.0, 3.0, 0.0], [1.0, 0.0, 125.0, 304.0, 0.0, 0.0, 162.0, 1.0, 0.0, 2.0, 3.0, 2.0, 0.0], [1.0, 0.0, 126.0, 282.0, 0.0, 0.0, 156.0, 1.0, 0.0, 2.0, 0.0, 3.0, 0.0], [1.0, 2.0, 160.0, 269.0, 0.0, 1.0, 112.0, 1.0, 2.9, 1.0, 1.0, 3.0, 0.0], [0.0, 0.0, 174.0, 249.0, 0.0, 1.0, 143.0, 1.0, 0.0, 1.0, 0.0, 2.0, 0.0], [1.0, 0.0, 145.0, 212.0, 0.0, 0.0, 132.0, 0.0, 2.0, 1.0, 2.0, 1.0, 0.0], [1.0, 0.0, 152.0, 274.0, 0.0, 1.0, 88.0, 1.0, 1.2, 1.0, 1.0, 3.0, 0.0], [1.0, 0.0, 132.0, 184.0, 0.0, 0.0, 105.0, 1.0, 2.1, 1.0, 1.0, 1.0, 0.0], [1.0, 0.0, 124.0, 274.0, 0.0, 0.0, 166.0, 0.0, 0.5, 1.0, 0.0, 3.0, 0.0], [0.0, 0.0, 134.0, 409.0, 0.0, 0.0, 150.0, 1.0, 1.9, 1.0, 2.0, 3.0, 0.0], [1.0, 1.0, 160.0, 246.0, 0.0, 1.0, 120.0, 1.0, 0.0, 1.0, 3.0, 1.0, 0.0], [1.0, 1.0, 192.0, 283.0, 0.0, 0.0, 195.0, 0.0, 0.0, 2.0, 1.0, 3.0, 0.0], [1.0, 2.0, 140.0, 254.0, 0.0, 0.0, 146.0, 0.0, 2.0, 1.0, 3.0, 3.0, 0.0], [1.0, 0.0, 140.0, 298.0, 0.0, 1.0, 122.0, 1.0, 4.2, 1.0, 3.0, 3.0, 0.0], [1.0, 0.0, 132.0, 247.0, 1.0, 0.0, 143.0, 1.0, 0.1, 1.0, 4.0, 3.0, 0.0], [0.0, 0.0, 138.0, 294.0, 1.0, 1.0, 106.0, 0.0, 1.9, 1.0, 3.0, 2.0, 0.0], [1.0, 0.0, 100.0, 299.0, 0.0, 0.0, 125.0, 1.0, 0.9, 1.0, 2.0, 2.0, 0.0], [1.0, 3.0, 160.0, 273.0, 0.0, 0.0, 125.0, 0.0, 0.0, 2.0, 0.0, 2.0, 0.0], [1.0, 0.0, 142.0, 309.0, 0.0, 0.0, 147.0, 1.0, 0.0, 1.0, 3.0, 3.0, 0.0], [1.0, 0.0, 128.0, 259.0, 0.0, 0.0, 130.0, 1.0, 3.0, 1.0, 2.0, 3.0, 0.0], [1.0, 0.0, 144.0, 200.0, 0.0, 0.0, 126.0, 1.0, 0.9, 1.0, 0.0, 3.0, 0.0], [0.0, 0.0, 150.0, 244.0, 0.0, 1.0, 154.0, 1.0, 1.4, 1.0, 0.0, 2.0, 0.0], [1.0, 3.0, 120.0, 231.0, 0.0, 1.0, 182.0, 1.0, 3.8, 1.0, 0.0, 3.0, 0.0], [0.0, 0.0, 178.0, 228.0, 1.0, 1.0, 165.0, 1.0, 1.0, 1.0, 2.0, 3.0, 0.0], [1.0, 0.0, 112.0, 230.0, 0.0, 1.0, 160.0, 0.0, 0.0, 2.0, 1.0, 2.0, 0.0], [1.0, 0.0, 123.0, 282.0, 0.0, 1.0, 95.0, 1.0, 2.0, 1.0, 2.0, 3.0, 0.0], [0.0, 0.0, 108.0, 269.0, 0.0, 1.0, 169.0, 1.0, 1.8, 1.0, 2.0, 2.0, 0.0], [1.0, 0.0, 110.0, 206.0, 0.0, 0.0, 108.0, 1.0, 0.0, 1.0, 1.0, 2.0, 0.0], [1.0, 0.0, 112.0, 212.0, 0.0, 0.0, 132.0, 1.0, 0.1, 2.0, 1.0, 2.0, 0.0], [0.0, 0.0, 180.0, 327.0, 0.0, 2.0, 117.0, 1.0, 3.4, 1.0, 0.0, 2.0, 0.0], [1.0, 2.0, 118.0, 149.0, 0.0, 0.0, 126.0, 0.0, 0.8, 2.0, 3.0, 2.0, 0.0], [1.0, 0.0, 122.0, 286.0, 0.0, 0.0, 116.0, 1.0, 3.2, 1.0, 2.0, 2.0, 0.0], [1.0, 0.0, 130.0, 283.0, 1.0, 0.0, 103.0, 1.0, 1.6, 0.0, 0.0, 3.0, 0.0], [1.0, 0.0, 120.0, 249.0, 0.0, 0.0, 144.0, 0.0, 0.8, 2.0, 0.0, 3.0, 0.0], [1.0, 3.0, 134.0, 234.0, 0.0, 1.0, 145.0, 0.0, 2.6, 1.0, 2.0, 2.0, 0.0], [1.0, 0.0, 120.0, 237.0, 0.0, 1.0, 71.0, 0.0, 1.0, 1.0, 0.0, 2.0, 0.0], [1.0, 0.0, 100.0, 234.0, 0.0, 1.0, 156.0, 0.0, 0.1, 2.0, 1.0, 3.0, 0.0], [1.0, 0.0, 110.0, 275.0, 0.0, 0.0, 118.0, 1.0, 1.0, 1.0, 1.0, 2.0, 0.0], [1.0, 0.0, 125.0, 212.0, 0.0, 1.0, 168.0, 0.0, 1.0, 2.0, 2.0, 3.0, 0.0], [1.0, 0.0, 146.0, 218.0, 0.0, 1.0, 105.0, 0.0, 2.0, 1.0, 1.0, 3.0, 0.0], [1.0, 1.0, 124.0, 261.0, 0.0, 1.0, 141.0, 0.0, 0.3, 2.0, 0.0, 3.0, 0.0], [0.0, 1.0, 136.0, 319.0, 1.0, 0.0, 152.0, 0.0, 0.0, 2.0, 2.0, 2.0, 0.0], [1.0, 0.0, 138.0, 166.0, 0.0, 0.0, 125.0, 1.0, 3.6, 1.0, 1.0, 2.0, 0.0], [1.0, 0.0, 136.0, 315.0, 0.0, 1.0, 125.0, 1.0, 1.8, 1.0, 0.0, 1.0, 0.0], [1.0, 0.0, 128.0, 204.0, 1.0, 1.0, 156.0, 1.0, 1.0, 1.0, 0.0, 0.0, 0.0], [1.0, 2.0, 126.0, 218.0, 1.0, 1.0, 134.0, 0.0, 2.2, 1.0, 1.0, 1.0, 0.0], [1.0, 0.0, 152.0, 223.0, 0.0, 1.0, 181.0, 0.0, 0.0, 2.0, 0.0, 3.0, 0.0], [1.0, 0.0, 140.0, 207.0, 0.0, 0.0, 138.0, 1.0, 1.9, 2.0, 1.0, 3.0, 0.0], [1.0, 0.0, 140.0, 311.0, 0.0, 1.0, 120.0, 1.0, 1.8, 1.0, 2.0, 3.0, 0.0], [1.0, 3.0, 134.0, 204.0, 0.0, 1.0, 162.0, 0.0, 0.8, 2.0, 2.0, 2.0, 0.0], [1.0, 1.0, 154.0, 232.0, 0.0, 0.0, 164.0, 0.0, 0.0, 2.0, 1.0, 2.0, 0.0], [1.0, 0.0, 110.0, 335.0, 0.0, 1.0, 143.0, 1.0, 3.0, 1.0, 1.0, 3.0, 0.0], [0.0, 0.0, 128.0, 205.0, 0.0, 2.0, 130.0, 1.0, 2.0, 1.0, 1.0, 3.0, 0.0], [1.0, 0.0, 148.0, 203.0, 0.0, 1.0, 161.0, 0.0, 0.0, 2.0, 1.0, 3.0, 0.0], [1.0, 0.0, 114.0, 318.0, 0.0, 2.0, 140.0, 0.0, 4.4, 0.0, 3.0, 1.0, 0.0], [0.0, 0.0, 170.0, 225.0, 1.0, 0.0, 146.0, 1.0, 2.8, 1.0, 2.0, 1.0, 0.0], [1.0, 2.0, 152.0, 212.0, 0.0, 0.0, 150.0, 0.0, 0.8, 1.0, 0.0, 3.0, 0.0], [1.0, 0.0, 120.0, 169.0, 0.0, 1.0, 144.0, 1.0, 2.8, 0.0, 0.0, 1.0, 0.0], [1.0, 0.0, 140.0, 187.0, 0.0, 0.0, 144.0, 1.0, 4.0, 2.0, 2.0, 3.0, 0.0], [0.0, 0.0, 124.0, 197.0, 0.0, 1.0, 136.0, 1.0, 0.0, 1.0, 0.0, 2.0, 0.0], [1.0, 0.0, 164.0, 176.0, 1.0, 0.0, 90.0, 0.0, 1.0, 1.0, 2.0, 1.0, 0.0], [0.0, 0.0, 140.0, 241.0, 0.0, 1.0, 123.0, 1.0, 0.2, 1.0, 0.0, 3.0, 0.0], [1.0, 3.0, 110.0, 264.0, 0.0, 1.0, 132.0, 0.0, 1.2, 1.0, 0.0, 3.0, 0.0], [1.0, 0.0, 144.0, 193.0, 1.0, 1.0, 141.0, 0.0, 3.4, 1.0, 2.0, 3.0, 0.0], [1.0, 0.0, 130.0, 131.0, 0.0, 1.0, 115.0, 1.0, 1.2, 1.0, 1.0, 3.0, 0.0], [0.0, 1.0, 130.0, 236.0, 0.0, 0.0, 174.0, 0.0, 0.0, 1.0, 1.0, 2.0, 0.0]], \"hovertemplate\": \"output=%{customdata[12]}<br>age=%{x}<br>sex=%{customdata[0]}<br>cp=%{customdata[1]}<br>trtbps=%{customdata[2]}<br>chol=%{customdata[3]}<br>fbs=%{customdata[4]}<br>restecg=%{customdata[5]}<br>thalachh=%{customdata[6]}<br>exng=%{customdata[7]}<br>oldpeak=%{customdata[8]}<br>slp=%{customdata[9]}<br>caa=%{customdata[10]}<br>thall=%{customdata[11]}<extra></extra>\", \"legendgroup\": \"0\", \"marker\": {\"color\": \"#85bfdc\"}, \"name\": \"0\", \"notched\": true, \"offsetgroup\": \"0\", \"showlegend\": false, \"type\": \"box\", \"x\": [67, 67, 62, 63, 53, 56, 48, 58, 58, 60, 40, 60, 64, 43, 57, 55, 65, 61, 58, 50, 44, 60, 54, 50, 41, 51, 58, 54, 60, 60, 59, 46, 67, 62, 65, 44, 60, 58, 68, 62, 52, 59, 60, 49, 59, 57, 61, 39, 61, 56, 43, 62, 63, 65, 48, 63, 55, 65, 56, 54, 70, 62, 35, 59, 64, 47, 57, 55, 64, 70, 51, 58, 60, 77, 35, 70, 59, 64, 57, 56, 48, 56, 66, 54, 69, 51, 43, 62, 67, 59, 45, 58, 50, 62, 38, 66, 52, 53, 63, 54, 66, 55, 49, 54, 56, 46, 61, 67, 58, 47, 52, 58, 57, 58, 61, 42, 52, 59, 40, 61, 46, 59, 57, 57, 55, 61, 58, 58, 67, 44, 63, 63, 59, 57, 45, 68, 57, 57], \"xaxis\": \"x2\", \"yaxis\": \"y2\"}],                        {\"barmode\": \"relative\", \"legend\": {\"title\": {\"text\": \"output\"}, \"tracegroupgap\": 0}, \"margin\": {\"t\": 60}, \"template\": {\"data\": {\"bar\": [{\"error_x\": {\"color\": \"#2a3f5f\"}, \"error_y\": {\"color\": \"#2a3f5f\"}, \"marker\": {\"line\": {\"color\": \"#E5ECF6\", \"width\": 0.5}}, \"type\": \"bar\"}], \"barpolar\": [{\"marker\": {\"line\": {\"color\": \"#E5ECF6\", \"width\": 0.5}}, \"type\": \"barpolar\"}], \"carpet\": [{\"aaxis\": {\"endlinecolor\": \"#2a3f5f\", \"gridcolor\": \"white\", \"linecolor\": \"white\", \"minorgridcolor\": \"white\", \"startlinecolor\": \"#2a3f5f\"}, \"baxis\": {\"endlinecolor\": \"#2a3f5f\", \"gridcolor\": \"white\", \"linecolor\": \"white\", \"minorgridcolor\": \"white\", \"startlinecolor\": \"#2a3f5f\"}, \"type\": \"carpet\"}], \"choropleth\": [{\"colorbar\": {\"outlinewidth\": 0, \"ticks\": \"\"}, \"type\": \"choropleth\"}], \"contour\": [{\"colorbar\": {\"outlinewidth\": 0, \"ticks\": \"\"}, \"colorscale\": [[0.0, \"#0d0887\"], [0.1111111111111111, \"#46039f\"], [0.2222222222222222, \"#7201a8\"], [0.3333333333333333, \"#9c179e\"], [0.4444444444444444, \"#bd3786\"], [0.5555555555555556, \"#d8576b\"], [0.6666666666666666, \"#ed7953\"], [0.7777777777777778, \"#fb9f3a\"], [0.8888888888888888, \"#fdca26\"], [1.0, \"#f0f921\"]], \"type\": \"contour\"}], \"contourcarpet\": [{\"colorbar\": {\"outlinewidth\": 0, \"ticks\": \"\"}, \"type\": \"contourcarpet\"}], \"heatmap\": [{\"colorbar\": {\"outlinewidth\": 0, \"ticks\": \"\"}, \"colorscale\": [[0.0, \"#0d0887\"], [0.1111111111111111, \"#46039f\"], [0.2222222222222222, \"#7201a8\"], [0.3333333333333333, \"#9c179e\"], [0.4444444444444444, \"#bd3786\"], [0.5555555555555556, \"#d8576b\"], [0.6666666666666666, \"#ed7953\"], [0.7777777777777778, \"#fb9f3a\"], [0.8888888888888888, \"#fdca26\"], [1.0, \"#f0f921\"]], \"type\": \"heatmap\"}], \"heatmapgl\": [{\"colorbar\": {\"outlinewidth\": 0, \"ticks\": \"\"}, \"colorscale\": [[0.0, \"#0d0887\"], [0.1111111111111111, \"#46039f\"], [0.2222222222222222, \"#7201a8\"], [0.3333333333333333, \"#9c179e\"], [0.4444444444444444, \"#bd3786\"], [0.5555555555555556, \"#d8576b\"], [0.6666666666666666, \"#ed7953\"], [0.7777777777777778, \"#fb9f3a\"], [0.8888888888888888, \"#fdca26\"], [1.0, \"#f0f921\"]], \"type\": \"heatmapgl\"}], \"histogram\": [{\"marker\": {\"colorbar\": {\"outlinewidth\": 0, \"ticks\": \"\"}}, \"type\": \"histogram\"}], \"histogram2d\": [{\"colorbar\": {\"outlinewidth\": 0, \"ticks\": \"\"}, \"colorscale\": [[0.0, \"#0d0887\"], [0.1111111111111111, \"#46039f\"], [0.2222222222222222, \"#7201a8\"], [0.3333333333333333, \"#9c179e\"], [0.4444444444444444, \"#bd3786\"], [0.5555555555555556, \"#d8576b\"], [0.6666666666666666, \"#ed7953\"], [0.7777777777777778, \"#fb9f3a\"], [0.8888888888888888, \"#fdca26\"], [1.0, \"#f0f921\"]], \"type\": \"histogram2d\"}], \"histogram2dcontour\": [{\"colorbar\": {\"outlinewidth\": 0, \"ticks\": \"\"}, \"colorscale\": [[0.0, \"#0d0887\"], [0.1111111111111111, \"#46039f\"], [0.2222222222222222, \"#7201a8\"], [0.3333333333333333, \"#9c179e\"], [0.4444444444444444, \"#bd3786\"], [0.5555555555555556, \"#d8576b\"], [0.6666666666666666, \"#ed7953\"], [0.7777777777777778, \"#fb9f3a\"], [0.8888888888888888, \"#fdca26\"], [1.0, \"#f0f921\"]], \"type\": \"histogram2dcontour\"}], \"mesh3d\": [{\"colorbar\": {\"outlinewidth\": 0, \"ticks\": \"\"}, \"type\": \"mesh3d\"}], \"parcoords\": [{\"line\": {\"colorbar\": {\"outlinewidth\": 0, \"ticks\": \"\"}}, \"type\": \"parcoords\"}], \"pie\": [{\"automargin\": true, \"type\": \"pie\"}], \"scatter\": [{\"marker\": {\"colorbar\": {\"outlinewidth\": 0, \"ticks\": \"\"}}, \"type\": \"scatter\"}], \"scatter3d\": [{\"line\": {\"colorbar\": {\"outlinewidth\": 0, \"ticks\": \"\"}}, \"marker\": {\"colorbar\": {\"outlinewidth\": 0, \"ticks\": \"\"}}, \"type\": \"scatter3d\"}], \"scattercarpet\": [{\"marker\": {\"colorbar\": {\"outlinewidth\": 0, \"ticks\": \"\"}}, \"type\": \"scattercarpet\"}], \"scattergeo\": [{\"marker\": {\"colorbar\": {\"outlinewidth\": 0, \"ticks\": \"\"}}, \"type\": \"scattergeo\"}], \"scattergl\": [{\"marker\": {\"colorbar\": {\"outlinewidth\": 0, \"ticks\": \"\"}}, \"type\": \"scattergl\"}], \"scattermapbox\": [{\"marker\": {\"colorbar\": {\"outlinewidth\": 0, \"ticks\": \"\"}}, \"type\": \"scattermapbox\"}], \"scatterpolar\": [{\"marker\": {\"colorbar\": {\"outlinewidth\": 0, \"ticks\": \"\"}}, \"type\": \"scatterpolar\"}], \"scatterpolargl\": [{\"marker\": {\"colorbar\": {\"outlinewidth\": 0, \"ticks\": \"\"}}, \"type\": \"scatterpolargl\"}], \"scatterternary\": [{\"marker\": {\"colorbar\": {\"outlinewidth\": 0, \"ticks\": \"\"}}, \"type\": \"scatterternary\"}], \"surface\": [{\"colorbar\": {\"outlinewidth\": 0, \"ticks\": \"\"}, \"colorscale\": [[0.0, \"#0d0887\"], [0.1111111111111111, \"#46039f\"], [0.2222222222222222, \"#7201a8\"], [0.3333333333333333, \"#9c179e\"], [0.4444444444444444, \"#bd3786\"], [0.5555555555555556, \"#d8576b\"], [0.6666666666666666, \"#ed7953\"], [0.7777777777777778, \"#fb9f3a\"], [0.8888888888888888, \"#fdca26\"], [1.0, \"#f0f921\"]], \"type\": \"surface\"}], \"table\": [{\"cells\": {\"fill\": {\"color\": \"#EBF0F8\"}, \"line\": {\"color\": \"white\"}}, \"header\": {\"fill\": {\"color\": \"#C8D4E3\"}, \"line\": {\"color\": \"white\"}}, \"type\": \"table\"}]}, \"layout\": {\"annotationdefaults\": {\"arrowcolor\": \"#2a3f5f\", \"arrowhead\": 0, \"arrowwidth\": 1}, \"autotypenumbers\": \"strict\", \"coloraxis\": {\"colorbar\": {\"outlinewidth\": 0, \"ticks\": \"\"}}, \"colorscale\": {\"diverging\": [[0, \"#8e0152\"], [0.1, \"#c51b7d\"], [0.2, \"#de77ae\"], [0.3, \"#f1b6da\"], [0.4, \"#fde0ef\"], [0.5, \"#f7f7f7\"], [0.6, \"#e6f5d0\"], [0.7, \"#b8e186\"], [0.8, \"#7fbc41\"], [0.9, \"#4d9221\"], [1, \"#276419\"]], \"sequential\": [[0.0, \"#0d0887\"], [0.1111111111111111, \"#46039f\"], [0.2222222222222222, \"#7201a8\"], [0.3333333333333333, \"#9c179e\"], [0.4444444444444444, \"#bd3786\"], [0.5555555555555556, \"#d8576b\"], [0.6666666666666666, \"#ed7953\"], [0.7777777777777778, \"#fb9f3a\"], [0.8888888888888888, \"#fdca26\"], [1.0, \"#f0f921\"]], \"sequentialminus\": [[0.0, \"#0d0887\"], [0.1111111111111111, \"#46039f\"], [0.2222222222222222, \"#7201a8\"], [0.3333333333333333, \"#9c179e\"], [0.4444444444444444, \"#bd3786\"], [0.5555555555555556, \"#d8576b\"], [0.6666666666666666, \"#ed7953\"], [0.7777777777777778, \"#fb9f3a\"], [0.8888888888888888, \"#fdca26\"], [1.0, \"#f0f921\"]]}, \"colorway\": [\"#636efa\", \"#EF553B\", \"#00cc96\", \"#ab63fa\", \"#FFA15A\", \"#19d3f3\", \"#FF6692\", \"#B6E880\", \"#FF97FF\", \"#FECB52\"], \"font\": {\"color\": \"#2a3f5f\"}, \"geo\": {\"bgcolor\": \"white\", \"lakecolor\": \"white\", \"landcolor\": \"#E5ECF6\", \"showlakes\": true, \"showland\": true, \"subunitcolor\": \"white\"}, \"hoverlabel\": {\"align\": \"left\"}, \"hovermode\": \"closest\", \"mapbox\": {\"style\": \"light\"}, \"paper_bgcolor\": \"white\", \"plot_bgcolor\": \"#E5ECF6\", \"polar\": {\"angularaxis\": {\"gridcolor\": \"white\", \"linecolor\": \"white\", \"ticks\": \"\"}, \"bgcolor\": \"#E5ECF6\", \"radialaxis\": {\"gridcolor\": \"white\", \"linecolor\": \"white\", \"ticks\": \"\"}}, \"scene\": {\"xaxis\": {\"backgroundcolor\": \"#E5ECF6\", \"gridcolor\": \"white\", \"gridwidth\": 2, \"linecolor\": \"white\", \"showbackground\": true, \"ticks\": \"\", \"zerolinecolor\": \"white\"}, \"yaxis\": {\"backgroundcolor\": \"#E5ECF6\", \"gridcolor\": \"white\", \"gridwidth\": 2, \"linecolor\": \"white\", \"showbackground\": true, \"ticks\": \"\", \"zerolinecolor\": \"white\"}, \"zaxis\": {\"backgroundcolor\": \"#E5ECF6\", \"gridcolor\": \"white\", \"gridwidth\": 2, \"linecolor\": \"white\", \"showbackground\": true, \"ticks\": \"\", \"zerolinecolor\": \"white\"}}, \"shapedefaults\": {\"line\": {\"color\": \"#2a3f5f\"}}, \"ternary\": {\"aaxis\": {\"gridcolor\": \"white\", \"linecolor\": \"white\", \"ticks\": \"\"}, \"baxis\": {\"gridcolor\": \"white\", \"linecolor\": \"white\", \"ticks\": \"\"}, \"bgcolor\": \"#E5ECF6\", \"caxis\": {\"gridcolor\": \"white\", \"linecolor\": \"white\", \"ticks\": \"\"}}, \"title\": {\"x\": 0.05}, \"xaxis\": {\"automargin\": true, \"gridcolor\": \"white\", \"linecolor\": \"white\", \"ticks\": \"\", \"title\": {\"standoff\": 15}, \"zerolinecolor\": \"white\", \"zerolinewidth\": 2}, \"yaxis\": {\"automargin\": true, \"gridcolor\": \"white\", \"linecolor\": \"white\", \"ticks\": \"\", \"title\": {\"standoff\": 15}, \"zerolinecolor\": \"white\", \"zerolinewidth\": 2}}}, \"title\": {\"text\": \"Heart attack chance corresponding to age\"}, \"xaxis\": {\"anchor\": \"y\", \"domain\": [0.0, 1.0], \"title\": {\"text\": \"age\"}}, \"xaxis2\": {\"anchor\": \"y2\", \"domain\": [0.0, 1.0], \"matches\": \"x\", \"showgrid\": true, \"showticklabels\": false}, \"yaxis\": {\"anchor\": \"x\", \"domain\": [0.0, 0.7326], \"title\": {\"text\": \"count\"}}, \"yaxis2\": {\"anchor\": \"x2\", \"domain\": [0.7426, 1.0], \"matches\": \"y2\", \"showgrid\": false, \"showline\": false, \"showticklabels\": false, \"ticks\": \"\"}},                        {\"responsive\": true}                    ).then(function(){\n",
       "                            \n",
       "var gd = document.getElementById('8c95f87e-c816-4cc2-808b-6b4fd9c22a06');\n",
       "var x = new MutationObserver(function (mutations, observer) {{\n",
       "        var display = window.getComputedStyle(gd).display;\n",
       "        if (!display || display === 'none') {{\n",
       "            console.log([gd, 'removed!']);\n",
       "            Plotly.purge(gd);\n",
       "            observer.disconnect();\n",
       "        }}\n",
       "}});\n",
       "\n",
       "// Listen for the removal of the full notebook cells\n",
       "var notebookContainer = gd.closest('#notebook-container');\n",
       "if (notebookContainer) {{\n",
       "    x.observe(notebookContainer, {childList: true});\n",
       "}}\n",
       "\n",
       "// Listen for the clearing of the current output cell\n",
       "var outputEl = gd.closest('.output');\n",
       "if (outputEl) {{\n",
       "    x.observe(outputEl, {childList: true});\n",
       "}}\n",
       "\n",
       "                        })                };                });            </script>        </div>"
      ]
     },
     "metadata": {},
     "output_type": "display_data"
    }
   ],
   "source": [
    "fig = px.histogram(df, x=\"age\",color=\"output\",\n",
    "                   marginal=\"box\",\n",
    "                   hover_data=df.columns,\n",
    "                  color_discrete_sequence=['#f64c72','#85bfdc'])\n",
    "fig.update_layout(\n",
    "    title=\"Heart attack chance corresponding to age\"\n",
    ")\n",
    "fig.show()"
   ]
  },
  {
   "cell_type": "code",
   "execution_count": 21,
   "id": "unavailable-tokyo",
   "metadata": {
    "execution": {
     "iopub.execute_input": "2021-08-29T13:20:03.420895Z",
     "iopub.status.busy": "2021-08-29T13:20:03.419071Z",
     "iopub.status.idle": "2021-08-29T13:20:03.551158Z",
     "shell.execute_reply": "2021-08-29T13:20:03.550515Z",
     "shell.execute_reply.started": "2021-08-29T12:28:30.129392Z"
    },
    "papermill": {
     "duration": 0.214458,
     "end_time": "2021-08-29T13:20:03.551298",
     "exception": false,
     "start_time": "2021-08-29T13:20:03.336840",
     "status": "completed"
    },
    "tags": []
   },
   "outputs": [
    {
     "data": {
      "text/html": [
       "<div>                            <div id=\"c1c5caf9-e451-465b-8a03-83c441701104\" class=\"plotly-graph-div\" style=\"height:525px; width:100%;\"></div>            <script type=\"text/javascript\">                require([\"plotly\"], function(Plotly) {                    window.PLOTLYENV=window.PLOTLYENV || {};                                    if (document.getElementById(\"c1c5caf9-e451-465b-8a03-83c441701104\")) {                    Plotly.newPlot(                        \"c1c5caf9-e451-465b-8a03-83c441701104\",                        [{\"hovertemplate\": \"oldpeak=%{x}<br>thalachh=%{y}<br>age=%{z}<br>trtbps=%{marker.size}<br>output=%{marker.color}<extra></extra>\", \"legendgroup\": \"\", \"marker\": {\"color\": [1, 1, 1, 1, 1, 1, 1, 1, 1, 1, 1, 1, 1, 1, 1, 1, 1, 1, 1, 1, 1, 1, 1, 1, 1, 1, 1, 1, 1, 1, 1, 1, 1, 1, 1, 1, 1, 1, 1, 1, 1, 1, 1, 1, 1, 1, 1, 1, 1, 1, 1, 1, 1, 1, 1, 1, 1, 1, 1, 1, 1, 1, 1, 1, 1, 1, 1, 1, 1, 1, 1, 1, 1, 1, 1, 1, 1, 1, 1, 1, 1, 1, 1, 1, 1, 1, 1, 1, 1, 1, 1, 1, 1, 1, 1, 1, 1, 1, 1, 1, 1, 1, 1, 1, 1, 1, 1, 1, 1, 1, 1, 1, 1, 1, 1, 1, 1, 1, 1, 1, 1, 1, 1, 1, 1, 1, 1, 1, 1, 1, 1, 1, 1, 1, 1, 1, 1, 1, 1, 1, 1, 1, 1, 1, 1, 1, 1, 1, 1, 1, 1, 1, 1, 1, 1, 1, 1, 1, 1, 1, 1, 1, 1, 1, 1, 0, 0, 0, 0, 0, 0, 0, 0, 0, 0, 0, 0, 0, 0, 0, 0, 0, 0, 0, 0, 0, 0, 0, 0, 0, 0, 0, 0, 0, 0, 0, 0, 0, 0, 0, 0, 0, 0, 0, 0, 0, 0, 0, 0, 0, 0, 0, 0, 0, 0, 0, 0, 0, 0, 0, 0, 0, 0, 0, 0, 0, 0, 0, 0, 0, 0, 0, 0, 0, 0, 0, 0, 0, 0, 0, 0, 0, 0, 0, 0, 0, 0, 0, 0, 0, 0, 0, 0, 0, 0, 0, 0, 0, 0, 0, 0, 0, 0, 0, 0, 0, 0, 0, 0, 0, 0, 0, 0, 0, 0, 0, 0, 0, 0, 0, 0, 0, 0, 0, 0, 0, 0, 0, 0, 0, 0, 0, 0, 0, 0, 0, 0, 0, 0, 0, 0, 0, 0], \"coloraxis\": \"coloraxis\", \"size\": [145, 130, 130, 120, 120, 140, 140, 120, 172, 150, 140, 130, 130, 110, 150, 120, 120, 150, 150, 140, 135, 130, 140, 150, 140, 160, 150, 110, 140, 130, 105, 120, 130, 125, 125, 142, 135, 150, 155, 160, 140, 130, 104, 130, 140, 120, 140, 138, 128, 138, 130, 120, 130, 108, 135, 134, 122, 115, 118, 128, 110, 108, 118, 135, 140, 138, 100, 130, 120, 124, 120, 94, 130, 140, 122, 135, 125, 140, 128, 105, 112, 128, 102, 152, 102, 115, 118, 101, 110, 100, 124, 132, 138, 132, 112, 142, 140, 108, 130, 130, 148, 178, 140, 120, 129, 120, 160, 138, 120, 110, 180, 150, 140, 110, 130, 120, 130, 120, 105, 138, 130, 138, 112, 108, 94, 118, 112, 152, 136, 120, 160, 134, 120, 110, 126, 130, 120, 128, 110, 128, 120, 115, 120, 106, 140, 156, 118, 150, 120, 130, 160, 112, 170, 146, 138, 130, 130, 122, 125, 130, 120, 132, 120, 138, 138, 160, 120, 140, 130, 140, 130, 110, 120, 132, 130, 110, 117, 140, 120, 150, 132, 150, 130, 112, 150, 112, 130, 124, 140, 110, 130, 128, 120, 145, 140, 170, 150, 125, 120, 110, 110, 125, 150, 180, 160, 128, 110, 150, 120, 140, 128, 120, 118, 145, 125, 132, 130, 130, 135, 130, 150, 140, 138, 200, 110, 145, 120, 120, 170, 125, 108, 165, 160, 120, 130, 140, 125, 140, 125, 126, 160, 174, 145, 152, 132, 124, 134, 160, 192, 140, 140, 132, 138, 100, 160, 142, 128, 144, 150, 120, 178, 112, 123, 108, 110, 112, 180, 118, 122, 130, 120, 134, 120, 100, 110, 125, 146, 124, 136, 138, 136, 128, 126, 152, 140, 140, 134, 154, 110, 128, 148, 114, 170, 152, 120, 140, 124, 164, 140, 110, 144, 130, 130], \"sizemode\": \"area\", \"sizeref\": 0.5, \"symbol\": \"circle\"}, \"mode\": \"markers\", \"name\": \"\", \"scene\": \"scene\", \"showlegend\": false, \"type\": \"scatter3d\", \"x\": [2.3, 3.5, 1.4, 0.8, 0.6, 0.4, 1.3, 0.0, 0.5, 1.6, 1.2, 0.2, 0.6, 1.8, 1.0, 1.6, 0.0, 2.6, 1.5, 1.8, 0.5, 0.4, 0.0, 1.0, 1.4, 0.4, 1.6, 0.6, 0.8, 1.2, 0.0, 0.4, 0.0, 0.5, 1.4, 1.4, 0.0, 1.6, 0.8, 0.8, 1.5, 0.2, 3.0, 0.4, 0.0, 0.2, 0.0, 0.0, 0.0, 0.0, 0.5, 0.4, 1.8, 0.6, 0.0, 0.8, 0.0, 0.0, 0.0, 0.0, 0.0, 0.0, 0.0, 0.0, 0.0, 1.4, 1.2, 0.6, 0.0, 0.0, 0.4, 0.0, 0.0, 0.0, 0.2, 1.4, 2.4, 0.0, 0.0, 0.6, 0.0, 0.0, 0.0, 1.2, 0.6, 1.6, 1.0, 0.0, 1.6, 1.0, 0.0, 0.0, 0.0, 0.0, 0.0, 0.0, 1.2, 0.1, 1.9, 0.0, 0.8, 4.2, 0.0, 0.8, 0.0, 1.5, 0.1, 0.2, 1.1, 0.0, 0.0, 0.2, 0.2, 0.0, 0.0, 0.0, 2.0, 1.9, 0.0, 0.0, 2.0, 0.0, 0.0, 0.0, 0.0, 0.7, 0.1, 0.0, 0.1, 0.2, 0.0, 0.0, 0.0, 0.0, 0.0, 0.0, 0.0, 0.0, 1.5, 0.2, 0.6, 1.2, 0.0, 0.3, 1.1, 0.0, 0.3, 0.9, 0.0, 0.0, 2.3, 1.6, 0.6, 0.0, 0.0, 0.6, 0.0, 0.0, 0.4, 0.0, 0.0, 1.2, 0.0, 0.0, 0.0, 1.5, 2.6, 3.6, 1.4, 3.1, 0.6, 1.0, 1.8, 3.2, 2.4, 2.0, 1.4, 0.0, 2.5, 0.6, 1.2, 1.0, 0.0, 2.5, 2.6, 0.0, 1.4, 2.2, 0.6, 0.0, 1.2, 2.2, 1.4, 2.8, 3.0, 3.4, 3.6, 0.2, 1.8, 0.6, 0.0, 2.8, 0.8, 1.6, 6.2, 0.0, 1.2, 2.6, 2.0, 0.0, 0.4, 3.6, 1.2, 1.0, 1.2, 3.0, 1.2, 1.8, 2.8, 0.0, 4.0, 5.6, 1.4, 4.0, 2.8, 2.6, 1.4, 1.6, 0.2, 1.8, 0.0, 1.0, 0.8, 2.2, 2.4, 1.6, 0.0, 1.2, 0.0, 0.0, 2.9, 0.0, 2.0, 1.2, 2.1, 0.5, 1.9, 0.0, 0.0, 2.0, 4.2, 0.1, 1.9, 0.9, 0.0, 0.0, 3.0, 0.9, 1.4, 3.8, 1.0, 0.0, 2.0, 1.8, 0.0, 0.1, 3.4, 0.8, 3.2, 1.6, 0.8, 2.6, 1.0, 0.1, 1.0, 1.0, 2.0, 0.3, 0.0, 3.6, 1.8, 1.0, 2.2, 0.0, 1.9, 1.8, 0.8, 0.0, 3.0, 2.0, 0.0, 4.4, 2.8, 0.8, 2.8, 4.0, 0.0, 1.0, 0.2, 1.2, 3.4, 1.2, 0.0], \"y\": [150, 187, 172, 178, 163, 148, 153, 173, 162, 174, 160, 139, 171, 144, 162, 158, 172, 114, 171, 151, 161, 179, 178, 137, 178, 162, 157, 123, 157, 152, 168, 140, 188, 152, 125, 160, 170, 165, 148, 151, 142, 180, 148, 143, 182, 172, 180, 156, 115, 160, 149, 151, 146, 175, 172, 158, 186, 185, 174, 159, 130, 156, 190, 132, 165, 182, 143, 175, 170, 163, 147, 154, 202, 186, 165, 161, 166, 164, 184, 154, 179, 170, 160, 178, 122, 160, 151, 156, 158, 122, 175, 168, 169, 159, 138, 111, 157, 147, 162, 173, 178, 145, 179, 194, 163, 115, 131, 152, 162, 159, 154, 173, 133, 161, 155, 170, 168, 162, 172, 152, 122, 182, 172, 167, 179, 192, 143, 172, 169, 121, 163, 162, 162, 153, 163, 163, 96, 140, 126, 105, 157, 181, 173, 142, 116, 143, 149, 171, 169, 150, 138, 125, 155, 152, 152, 131, 179, 174, 144, 163, 169, 166, 182, 173, 173, 108, 129, 160, 147, 155, 142, 168, 160, 173, 132, 114, 160, 158, 120, 112, 132, 114, 169, 165, 128, 153, 144, 109, 163, 158, 142, 131, 113, 142, 155, 140, 147, 163, 99, 158, 177, 141, 111, 150, 145, 161, 142, 157, 139, 162, 150, 140, 140, 146, 144, 136, 97, 132, 127, 150, 154, 111, 174, 133, 126, 125, 103, 130, 159, 131, 152, 124, 145, 96, 109, 173, 171, 170, 162, 156, 112, 143, 132, 88, 105, 166, 150, 120, 195, 146, 122, 143, 106, 125, 125, 147, 130, 126, 154, 182, 165, 160, 95, 169, 108, 132, 117, 126, 116, 103, 144, 145, 71, 156, 118, 168, 105, 141, 152, 125, 125, 156, 134, 181, 138, 120, 162, 164, 143, 130, 161, 140, 146, 150, 144, 144, 136, 90, 123, 132, 141, 115, 174], \"z\": [63, 37, 41, 56, 57, 57, 56, 44, 52, 57, 54, 48, 49, 64, 58, 50, 58, 66, 43, 69, 59, 44, 42, 61, 40, 71, 59, 51, 65, 53, 41, 65, 44, 54, 51, 46, 54, 54, 65, 65, 51, 48, 45, 53, 39, 52, 44, 47, 53, 53, 51, 66, 62, 44, 63, 52, 48, 45, 34, 57, 71, 54, 52, 41, 58, 35, 51, 45, 44, 62, 54, 51, 29, 51, 43, 55, 51, 59, 52, 58, 41, 45, 60, 52, 42, 67, 68, 46, 54, 58, 48, 57, 52, 54, 45, 53, 62, 52, 43, 53, 42, 59, 63, 42, 50, 68, 69, 45, 50, 50, 64, 57, 64, 43, 55, 37, 41, 56, 46, 46, 64, 59, 41, 54, 39, 34, 47, 67, 52, 74, 54, 49, 42, 41, 41, 49, 60, 62, 57, 64, 51, 43, 42, 67, 76, 70, 44, 60, 44, 42, 66, 71, 64, 66, 39, 58, 47, 35, 58, 56, 56, 55, 41, 38, 38, 67, 67, 62, 63, 53, 56, 48, 58, 58, 60, 40, 60, 64, 43, 57, 55, 65, 61, 58, 50, 44, 60, 54, 50, 41, 51, 58, 54, 60, 60, 59, 46, 67, 62, 65, 44, 60, 58, 68, 62, 52, 59, 60, 49, 59, 57, 61, 39, 61, 56, 43, 62, 63, 65, 48, 63, 55, 65, 56, 54, 70, 62, 35, 59, 64, 47, 57, 55, 64, 70, 51, 58, 60, 77, 35, 70, 59, 64, 57, 56, 48, 56, 66, 54, 69, 51, 43, 62, 67, 59, 45, 58, 50, 62, 38, 66, 52, 53, 63, 54, 66, 55, 49, 54, 56, 46, 61, 67, 58, 47, 52, 58, 57, 58, 61, 42, 52, 59, 40, 61, 46, 59, 57, 57, 55, 61, 58, 58, 67, 44, 63, 63, 59, 57, 45, 68, 57, 57]}],                        {\"coloraxis\": {\"colorbar\": {\"title\": {\"text\": \"output\"}}, \"colorscale\": [[0.0, \"#0d0887\"], [0.1111111111111111, \"#46039f\"], [0.2222222222222222, \"#7201a8\"], [0.3333333333333333, \"#9c179e\"], [0.4444444444444444, \"#bd3786\"], [0.5555555555555556, \"#d8576b\"], [0.6666666666666666, \"#ed7953\"], [0.7777777777777778, \"#fb9f3a\"], [0.8888888888888888, \"#fdca26\"], [1.0, \"#f0f921\"]]}, \"legend\": {\"itemsizing\": \"constant\", \"tracegroupgap\": 0}, \"margin\": {\"t\": 60}, \"scene\": {\"domain\": {\"x\": [0.0, 1.0], \"y\": [0.0, 1.0]}, \"xaxis\": {\"title\": {\"text\": \"oldpeak\"}}, \"yaxis\": {\"title\": {\"text\": \"thalachh\"}}, \"zaxis\": {\"title\": {\"text\": \"age\"}}}, \"template\": {\"data\": {\"bar\": [{\"error_x\": {\"color\": \"#2a3f5f\"}, \"error_y\": {\"color\": \"#2a3f5f\"}, \"marker\": {\"line\": {\"color\": \"#E5ECF6\", \"width\": 0.5}}, \"type\": \"bar\"}], \"barpolar\": [{\"marker\": {\"line\": {\"color\": \"#E5ECF6\", \"width\": 0.5}}, \"type\": \"barpolar\"}], \"carpet\": [{\"aaxis\": {\"endlinecolor\": \"#2a3f5f\", \"gridcolor\": \"white\", \"linecolor\": \"white\", \"minorgridcolor\": \"white\", \"startlinecolor\": \"#2a3f5f\"}, \"baxis\": {\"endlinecolor\": \"#2a3f5f\", \"gridcolor\": \"white\", \"linecolor\": \"white\", \"minorgridcolor\": \"white\", \"startlinecolor\": \"#2a3f5f\"}, \"type\": \"carpet\"}], \"choropleth\": [{\"colorbar\": {\"outlinewidth\": 0, \"ticks\": \"\"}, \"type\": \"choropleth\"}], \"contour\": [{\"colorbar\": {\"outlinewidth\": 0, \"ticks\": \"\"}, \"colorscale\": [[0.0, \"#0d0887\"], [0.1111111111111111, \"#46039f\"], [0.2222222222222222, \"#7201a8\"], [0.3333333333333333, \"#9c179e\"], [0.4444444444444444, \"#bd3786\"], [0.5555555555555556, \"#d8576b\"], [0.6666666666666666, \"#ed7953\"], [0.7777777777777778, \"#fb9f3a\"], [0.8888888888888888, \"#fdca26\"], [1.0, \"#f0f921\"]], \"type\": \"contour\"}], \"contourcarpet\": [{\"colorbar\": {\"outlinewidth\": 0, \"ticks\": \"\"}, \"type\": \"contourcarpet\"}], \"heatmap\": [{\"colorbar\": {\"outlinewidth\": 0, \"ticks\": \"\"}, \"colorscale\": [[0.0, \"#0d0887\"], [0.1111111111111111, \"#46039f\"], [0.2222222222222222, \"#7201a8\"], [0.3333333333333333, \"#9c179e\"], [0.4444444444444444, \"#bd3786\"], [0.5555555555555556, \"#d8576b\"], [0.6666666666666666, \"#ed7953\"], [0.7777777777777778, \"#fb9f3a\"], [0.8888888888888888, \"#fdca26\"], [1.0, \"#f0f921\"]], \"type\": \"heatmap\"}], \"heatmapgl\": [{\"colorbar\": {\"outlinewidth\": 0, \"ticks\": \"\"}, \"colorscale\": [[0.0, \"#0d0887\"], [0.1111111111111111, \"#46039f\"], [0.2222222222222222, \"#7201a8\"], [0.3333333333333333, \"#9c179e\"], [0.4444444444444444, \"#bd3786\"], [0.5555555555555556, \"#d8576b\"], [0.6666666666666666, \"#ed7953\"], [0.7777777777777778, \"#fb9f3a\"], [0.8888888888888888, \"#fdca26\"], [1.0, \"#f0f921\"]], \"type\": \"heatmapgl\"}], \"histogram\": [{\"marker\": {\"colorbar\": {\"outlinewidth\": 0, \"ticks\": \"\"}}, \"type\": \"histogram\"}], \"histogram2d\": [{\"colorbar\": {\"outlinewidth\": 0, \"ticks\": \"\"}, \"colorscale\": [[0.0, \"#0d0887\"], [0.1111111111111111, \"#46039f\"], [0.2222222222222222, \"#7201a8\"], [0.3333333333333333, \"#9c179e\"], [0.4444444444444444, \"#bd3786\"], [0.5555555555555556, \"#d8576b\"], [0.6666666666666666, \"#ed7953\"], [0.7777777777777778, \"#fb9f3a\"], [0.8888888888888888, \"#fdca26\"], [1.0, \"#f0f921\"]], \"type\": \"histogram2d\"}], \"histogram2dcontour\": [{\"colorbar\": {\"outlinewidth\": 0, \"ticks\": \"\"}, \"colorscale\": [[0.0, \"#0d0887\"], [0.1111111111111111, \"#46039f\"], [0.2222222222222222, \"#7201a8\"], [0.3333333333333333, \"#9c179e\"], [0.4444444444444444, \"#bd3786\"], [0.5555555555555556, \"#d8576b\"], [0.6666666666666666, \"#ed7953\"], [0.7777777777777778, \"#fb9f3a\"], [0.8888888888888888, \"#fdca26\"], [1.0, \"#f0f921\"]], \"type\": \"histogram2dcontour\"}], \"mesh3d\": [{\"colorbar\": {\"outlinewidth\": 0, \"ticks\": \"\"}, \"type\": \"mesh3d\"}], \"parcoords\": [{\"line\": {\"colorbar\": {\"outlinewidth\": 0, \"ticks\": \"\"}}, \"type\": \"parcoords\"}], \"pie\": [{\"automargin\": true, \"type\": \"pie\"}], \"scatter\": [{\"marker\": {\"colorbar\": {\"outlinewidth\": 0, \"ticks\": \"\"}}, \"type\": \"scatter\"}], \"scatter3d\": [{\"line\": {\"colorbar\": {\"outlinewidth\": 0, \"ticks\": \"\"}}, \"marker\": {\"colorbar\": {\"outlinewidth\": 0, \"ticks\": \"\"}}, \"type\": \"scatter3d\"}], \"scattercarpet\": [{\"marker\": {\"colorbar\": {\"outlinewidth\": 0, \"ticks\": \"\"}}, \"type\": \"scattercarpet\"}], \"scattergeo\": [{\"marker\": {\"colorbar\": {\"outlinewidth\": 0, \"ticks\": \"\"}}, \"type\": \"scattergeo\"}], \"scattergl\": [{\"marker\": {\"colorbar\": {\"outlinewidth\": 0, \"ticks\": \"\"}}, \"type\": \"scattergl\"}], \"scattermapbox\": [{\"marker\": {\"colorbar\": {\"outlinewidth\": 0, \"ticks\": \"\"}}, \"type\": \"scattermapbox\"}], \"scatterpolar\": [{\"marker\": {\"colorbar\": {\"outlinewidth\": 0, \"ticks\": \"\"}}, \"type\": \"scatterpolar\"}], \"scatterpolargl\": [{\"marker\": {\"colorbar\": {\"outlinewidth\": 0, \"ticks\": \"\"}}, \"type\": \"scatterpolargl\"}], \"scatterternary\": [{\"marker\": {\"colorbar\": {\"outlinewidth\": 0, \"ticks\": \"\"}}, \"type\": \"scatterternary\"}], \"surface\": [{\"colorbar\": {\"outlinewidth\": 0, \"ticks\": \"\"}, \"colorscale\": [[0.0, \"#0d0887\"], [0.1111111111111111, \"#46039f\"], [0.2222222222222222, \"#7201a8\"], [0.3333333333333333, \"#9c179e\"], [0.4444444444444444, \"#bd3786\"], [0.5555555555555556, \"#d8576b\"], [0.6666666666666666, \"#ed7953\"], [0.7777777777777778, \"#fb9f3a\"], [0.8888888888888888, \"#fdca26\"], [1.0, \"#f0f921\"]], \"type\": \"surface\"}], \"table\": [{\"cells\": {\"fill\": {\"color\": \"#EBF0F8\"}, \"line\": {\"color\": \"white\"}}, \"header\": {\"fill\": {\"color\": \"#C8D4E3\"}, \"line\": {\"color\": \"white\"}}, \"type\": \"table\"}]}, \"layout\": {\"annotationdefaults\": {\"arrowcolor\": \"#2a3f5f\", \"arrowhead\": 0, \"arrowwidth\": 1}, \"autotypenumbers\": \"strict\", \"coloraxis\": {\"colorbar\": {\"outlinewidth\": 0, \"ticks\": \"\"}}, \"colorscale\": {\"diverging\": [[0, \"#8e0152\"], [0.1, \"#c51b7d\"], [0.2, \"#de77ae\"], [0.3, \"#f1b6da\"], [0.4, \"#fde0ef\"], [0.5, \"#f7f7f7\"], [0.6, \"#e6f5d0\"], [0.7, \"#b8e186\"], [0.8, \"#7fbc41\"], [0.9, \"#4d9221\"], [1, \"#276419\"]], \"sequential\": [[0.0, \"#0d0887\"], [0.1111111111111111, \"#46039f\"], [0.2222222222222222, \"#7201a8\"], [0.3333333333333333, \"#9c179e\"], [0.4444444444444444, \"#bd3786\"], [0.5555555555555556, \"#d8576b\"], [0.6666666666666666, \"#ed7953\"], [0.7777777777777778, \"#fb9f3a\"], [0.8888888888888888, \"#fdca26\"], [1.0, \"#f0f921\"]], \"sequentialminus\": [[0.0, \"#0d0887\"], [0.1111111111111111, \"#46039f\"], [0.2222222222222222, \"#7201a8\"], [0.3333333333333333, \"#9c179e\"], [0.4444444444444444, \"#bd3786\"], [0.5555555555555556, \"#d8576b\"], [0.6666666666666666, \"#ed7953\"], [0.7777777777777778, \"#fb9f3a\"], [0.8888888888888888, \"#fdca26\"], [1.0, \"#f0f921\"]]}, \"colorway\": [\"#636efa\", \"#EF553B\", \"#00cc96\", \"#ab63fa\", \"#FFA15A\", \"#19d3f3\", \"#FF6692\", \"#B6E880\", \"#FF97FF\", \"#FECB52\"], \"font\": {\"color\": \"#2a3f5f\"}, \"geo\": {\"bgcolor\": \"white\", \"lakecolor\": \"white\", \"landcolor\": \"#E5ECF6\", \"showlakes\": true, \"showland\": true, \"subunitcolor\": \"white\"}, \"hoverlabel\": {\"align\": \"left\"}, \"hovermode\": \"closest\", \"mapbox\": {\"style\": \"light\"}, \"paper_bgcolor\": \"white\", \"plot_bgcolor\": \"#E5ECF6\", \"polar\": {\"angularaxis\": {\"gridcolor\": \"white\", \"linecolor\": \"white\", \"ticks\": \"\"}, \"bgcolor\": \"#E5ECF6\", \"radialaxis\": {\"gridcolor\": \"white\", \"linecolor\": \"white\", \"ticks\": \"\"}}, \"scene\": {\"xaxis\": {\"backgroundcolor\": \"#E5ECF6\", \"gridcolor\": \"white\", \"gridwidth\": 2, \"linecolor\": \"white\", \"showbackground\": true, \"ticks\": \"\", \"zerolinecolor\": \"white\"}, \"yaxis\": {\"backgroundcolor\": \"#E5ECF6\", \"gridcolor\": \"white\", \"gridwidth\": 2, \"linecolor\": \"white\", \"showbackground\": true, \"ticks\": \"\", \"zerolinecolor\": \"white\"}, \"zaxis\": {\"backgroundcolor\": \"#E5ECF6\", \"gridcolor\": \"white\", \"gridwidth\": 2, \"linecolor\": \"white\", \"showbackground\": true, \"ticks\": \"\", \"zerolinecolor\": \"white\"}}, \"shapedefaults\": {\"line\": {\"color\": \"#2a3f5f\"}}, \"ternary\": {\"aaxis\": {\"gridcolor\": \"white\", \"linecolor\": \"white\", \"ticks\": \"\"}, \"baxis\": {\"gridcolor\": \"white\", \"linecolor\": \"white\", \"ticks\": \"\"}, \"bgcolor\": \"#E5ECF6\", \"caxis\": {\"gridcolor\": \"white\", \"linecolor\": \"white\", \"ticks\": \"\"}}, \"title\": {\"x\": 0.05}, \"xaxis\": {\"automargin\": true, \"gridcolor\": \"white\", \"linecolor\": \"white\", \"ticks\": \"\", \"title\": {\"standoff\": 15}, \"zerolinecolor\": \"white\", \"zerolinewidth\": 2}, \"yaxis\": {\"automargin\": true, \"gridcolor\": \"white\", \"linecolor\": \"white\", \"ticks\": \"\", \"title\": {\"standoff\": 15}, \"zerolinecolor\": \"white\", \"zerolinewidth\": 2}}}},                        {\"responsive\": true}                    ).then(function(){\n",
       "                            \n",
       "var gd = document.getElementById('c1c5caf9-e451-465b-8a03-83c441701104');\n",
       "var x = new MutationObserver(function (mutations, observer) {{\n",
       "        var display = window.getComputedStyle(gd).display;\n",
       "        if (!display || display === 'none') {{\n",
       "            console.log([gd, 'removed!']);\n",
       "            Plotly.purge(gd);\n",
       "            observer.disconnect();\n",
       "        }}\n",
       "}});\n",
       "\n",
       "// Listen for the removal of the full notebook cells\n",
       "var notebookContainer = gd.closest('#notebook-container');\n",
       "if (notebookContainer) {{\n",
       "    x.observe(notebookContainer, {childList: true});\n",
       "}}\n",
       "\n",
       "// Listen for the clearing of the current output cell\n",
       "var outputEl = gd.closest('.output');\n",
       "if (outputEl) {{\n",
       "    x.observe(outputEl, {childList: true});\n",
       "}}\n",
       "\n",
       "                        })                };                });            </script>        </div>"
      ]
     },
     "metadata": {},
     "output_type": "display_data"
    }
   ],
   "source": [
    "fig = px.scatter_3d(df, x='oldpeak', y='thalachh', z='age',\n",
    "              color='output',size='trtbps',color_discrete_sequence=['#f64c72','#85bfdc'])\n",
    "fig.show()"
   ]
  },
  {
   "cell_type": "code",
   "execution_count": 22,
   "id": "under-french",
   "metadata": {
    "execution": {
     "iopub.execute_input": "2021-08-29T13:20:03.707900Z",
     "iopub.status.busy": "2021-08-29T13:20:03.707182Z",
     "iopub.status.idle": "2021-08-29T13:20:03.781782Z",
     "shell.execute_reply": "2021-08-29T13:20:03.781248Z",
     "shell.execute_reply.started": "2021-08-29T12:28:36.203034Z"
    },
    "papermill": {
     "duration": 0.161708,
     "end_time": "2021-08-29T13:20:03.781929",
     "exception": false,
     "start_time": "2021-08-29T13:20:03.620221",
     "status": "completed"
    },
    "tags": []
   },
   "outputs": [
    {
     "data": {
      "text/html": [
       "<div>                            <div id=\"6d186d80-9cc6-49cc-a87f-85b844923d9a\" class=\"plotly-graph-div\" style=\"height:525px; width:100%;\"></div>            <script type=\"text/javascript\">                require([\"plotly\"], function(Plotly) {                    window.PLOTLYENV=window.PLOTLYENV || {};                                    if (document.getElementById(\"6d186d80-9cc6-49cc-a87f-85b844923d9a\")) {                    Plotly.newPlot(                        \"6d186d80-9cc6-49cc-a87f-85b844923d9a\",                        [{\"dimensions\": [{\"label\": \"age\", \"values\": [63, 37, 41, 56, 57, 57, 56, 44, 52, 57, 54, 48, 49, 64, 58, 50, 58, 66, 43, 69, 59, 44, 42, 61, 40, 71, 59, 51, 65, 53, 41, 65, 44, 54, 51, 46, 54, 54, 65, 65, 51, 48, 45, 53, 39, 52, 44, 47, 53, 53, 51, 66, 62, 44, 63, 52, 48, 45, 34, 57, 71, 54, 52, 41, 58, 35, 51, 45, 44, 62, 54, 51, 29, 51, 43, 55, 51, 59, 52, 58, 41, 45, 60, 52, 42, 67, 68, 46, 54, 58, 48, 57, 52, 54, 45, 53, 62, 52, 43, 53, 42, 59, 63, 42, 50, 68, 69, 45, 50, 50, 64, 57, 64, 43, 55, 37, 41, 56, 46, 46, 64, 59, 41, 54, 39, 34, 47, 67, 52, 74, 54, 49, 42, 41, 41, 49, 60, 62, 57, 64, 51, 43, 42, 67, 76, 70, 44, 60, 44, 42, 66, 71, 64, 66, 39, 58, 47, 35, 58, 56, 56, 55, 41, 38, 38, 67, 67, 62, 63, 53, 56, 48, 58, 58, 60, 40, 60, 64, 43, 57, 55, 65, 61, 58, 50, 44, 60, 54, 50, 41, 51, 58, 54, 60, 60, 59, 46, 67, 62, 65, 44, 60, 58, 68, 62, 52, 59, 60, 49, 59, 57, 61, 39, 61, 56, 43, 62, 63, 65, 48, 63, 55, 65, 56, 54, 70, 62, 35, 59, 64, 47, 57, 55, 64, 70, 51, 58, 60, 77, 35, 70, 59, 64, 57, 56, 48, 56, 66, 54, 69, 51, 43, 62, 67, 59, 45, 58, 50, 62, 38, 66, 52, 53, 63, 54, 66, 55, 49, 54, 56, 46, 61, 67, 58, 47, 52, 58, 57, 58, 61, 42, 52, 59, 40, 61, 46, 59, 57, 57, 55, 61, 58, 58, 67, 44, 63, 63, 59, 57, 45, 68, 57, 57]}, {\"label\": \"sex\", \"values\": [1, 1, 0, 1, 0, 1, 0, 1, 1, 1, 1, 0, 1, 1, 0, 0, 0, 0, 1, 0, 1, 1, 1, 1, 1, 0, 1, 1, 0, 1, 0, 1, 1, 1, 1, 0, 0, 1, 0, 0, 0, 1, 1, 0, 1, 1, 1, 1, 0, 0, 0, 1, 1, 0, 0, 1, 1, 1, 1, 0, 0, 1, 1, 1, 1, 0, 1, 0, 1, 0, 1, 1, 1, 1, 0, 0, 1, 1, 1, 1, 1, 1, 0, 1, 0, 0, 1, 1, 0, 0, 1, 1, 1, 0, 0, 1, 0, 1, 1, 1, 1, 1, 0, 1, 1, 0, 1, 0, 0, 0, 0, 1, 0, 1, 1, 0, 1, 1, 0, 0, 0, 1, 0, 0, 0, 0, 1, 0, 0, 0, 0, 0, 1, 1, 0, 0, 0, 1, 1, 1, 0, 1, 0, 0, 0, 1, 0, 0, 1, 1, 1, 0, 1, 0, 0, 0, 1, 1, 1, 1, 1, 0, 1, 1, 1, 1, 1, 0, 1, 1, 1, 1, 1, 1, 1, 1, 1, 1, 1, 1, 1, 0, 0, 1, 1, 1, 1, 1, 1, 1, 0, 1, 1, 1, 1, 1, 1, 1, 1, 1, 1, 1, 1, 1, 0, 1, 1, 0, 1, 1, 1, 1, 1, 0, 1, 0, 0, 1, 1, 1, 0, 1, 1, 0, 1, 1, 1, 1, 1, 1, 1, 1, 1, 1, 1, 1, 1, 1, 1, 1, 1, 0, 1, 1, 1, 1, 0, 1, 1, 1, 1, 1, 0, 1, 1, 1, 1, 1, 0, 1, 0, 1, 1, 0, 1, 1, 0, 1, 1, 1, 1, 1, 1, 1, 1, 1, 1, 1, 0, 1, 1, 1, 1, 1, 1, 1, 1, 1, 1, 0, 1, 1, 0, 1, 1, 1, 0, 1, 0, 1, 1, 1, 0]}, {\"label\": \"cp\", \"values\": [3, 2, 1, 1, 0, 0, 1, 1, 2, 2, 0, 2, 1, 3, 3, 2, 2, 3, 0, 3, 0, 2, 0, 2, 3, 1, 2, 2, 2, 2, 1, 0, 1, 2, 3, 2, 2, 2, 2, 2, 2, 1, 0, 0, 2, 1, 2, 2, 2, 0, 2, 0, 2, 2, 2, 1, 0, 0, 3, 0, 2, 1, 3, 1, 2, 0, 2, 1, 1, 0, 2, 2, 1, 0, 2, 1, 2, 1, 1, 2, 2, 1, 2, 3, 0, 2, 2, 1, 2, 0, 2, 0, 2, 1, 1, 0, 0, 0, 2, 2, 3, 3, 1, 2, 2, 2, 3, 0, 1, 0, 0, 2, 2, 0, 1, 2, 2, 3, 1, 0, 0, 0, 2, 2, 2, 1, 0, 2, 2, 1, 2, 1, 1, 1, 1, 0, 2, 1, 0, 0, 2, 0, 2, 0, 2, 1, 2, 3, 2, 2, 0, 0, 3, 2, 2, 0, 2, 1, 1, 1, 1, 1, 1, 2, 2, 0, 0, 0, 0, 0, 2, 1, 1, 2, 0, 0, 0, 2, 0, 0, 0, 0, 0, 2, 0, 0, 0, 0, 2, 0, 0, 0, 0, 0, 2, 0, 2, 0, 0, 0, 0, 0, 0, 2, 0, 0, 0, 0, 2, 0, 2, 0, 0, 0, 0, 0, 2, 0, 0, 0, 0, 0, 3, 0, 0, 0, 1, 0, 3, 2, 2, 0, 0, 0, 0, 0, 0, 0, 0, 0, 2, 0, 0, 0, 0, 0, 0, 1, 1, 2, 0, 0, 0, 0, 3, 0, 0, 0, 0, 3, 0, 0, 0, 0, 0, 0, 0, 2, 0, 0, 0, 3, 0, 0, 0, 0, 0, 1, 1, 0, 0, 0, 2, 0, 0, 0, 3, 1, 0, 0, 0, 0, 0, 2, 0, 0, 0, 0, 0, 3, 0, 0, 1]}, {\"label\": \"trtbps\", \"values\": [145, 130, 130, 120, 120, 140, 140, 120, 172, 150, 140, 130, 130, 110, 150, 120, 120, 150, 150, 140, 135, 130, 140, 150, 140, 160, 150, 110, 140, 130, 105, 120, 130, 125, 125, 142, 135, 150, 155, 160, 140, 130, 104, 130, 140, 120, 140, 138, 128, 138, 130, 120, 130, 108, 135, 134, 122, 115, 118, 128, 110, 108, 118, 135, 140, 138, 100, 130, 120, 124, 120, 94, 130, 140, 122, 135, 125, 140, 128, 105, 112, 128, 102, 152, 102, 115, 118, 101, 110, 100, 124, 132, 138, 132, 112, 142, 140, 108, 130, 130, 148, 178, 140, 120, 129, 120, 160, 138, 120, 110, 180, 150, 140, 110, 130, 120, 130, 120, 105, 138, 130, 138, 112, 108, 94, 118, 112, 152, 136, 120, 160, 134, 120, 110, 126, 130, 120, 128, 110, 128, 120, 115, 120, 106, 140, 156, 118, 150, 120, 130, 160, 112, 170, 146, 138, 130, 130, 122, 125, 130, 120, 132, 120, 138, 138, 160, 120, 140, 130, 140, 130, 110, 120, 132, 130, 110, 117, 140, 120, 150, 132, 150, 130, 112, 150, 112, 130, 124, 140, 110, 130, 128, 120, 145, 140, 170, 150, 125, 120, 110, 110, 125, 150, 180, 160, 128, 110, 150, 120, 140, 128, 120, 118, 145, 125, 132, 130, 130, 135, 130, 150, 140, 138, 200, 110, 145, 120, 120, 170, 125, 108, 165, 160, 120, 130, 140, 125, 140, 125, 126, 160, 174, 145, 152, 132, 124, 134, 160, 192, 140, 140, 132, 138, 100, 160, 142, 128, 144, 150, 120, 178, 112, 123, 108, 110, 112, 180, 118, 122, 130, 120, 134, 120, 100, 110, 125, 146, 124, 136, 138, 136, 128, 126, 152, 140, 140, 134, 154, 110, 128, 148, 114, 170, 152, 120, 140, 124, 164, 140, 110, 144, 130, 130]}, {\"label\": \"chol\", \"values\": [233, 250, 204, 236, 354, 192, 294, 263, 199, 168, 239, 275, 266, 211, 283, 219, 340, 226, 247, 239, 234, 233, 226, 243, 199, 302, 212, 175, 417, 197, 198, 177, 219, 273, 213, 177, 304, 232, 269, 360, 308, 245, 208, 264, 321, 325, 235, 257, 216, 234, 256, 302, 231, 141, 252, 201, 222, 260, 182, 303, 265, 309, 186, 203, 211, 183, 222, 234, 220, 209, 258, 227, 204, 261, 213, 250, 245, 221, 205, 240, 250, 308, 318, 298, 265, 564, 277, 197, 214, 248, 255, 207, 223, 288, 160, 226, 394, 233, 315, 246, 244, 270, 195, 240, 196, 211, 234, 236, 244, 254, 325, 126, 313, 211, 262, 215, 214, 193, 204, 243, 303, 271, 268, 267, 199, 210, 204, 277, 196, 269, 201, 271, 295, 235, 306, 269, 178, 208, 201, 263, 295, 303, 209, 223, 197, 245, 242, 240, 226, 180, 228, 149, 227, 278, 220, 197, 253, 192, 220, 221, 240, 342, 157, 175, 175, 286, 229, 268, 254, 203, 256, 229, 284, 224, 206, 167, 230, 335, 177, 276, 353, 225, 330, 230, 243, 290, 253, 266, 233, 172, 305, 216, 188, 282, 185, 326, 231, 254, 267, 248, 197, 258, 270, 274, 164, 255, 239, 258, 188, 177, 229, 260, 219, 307, 249, 341, 263, 330, 254, 256, 407, 217, 282, 288, 239, 174, 281, 198, 288, 309, 243, 289, 289, 246, 322, 299, 300, 293, 304, 282, 269, 249, 212, 274, 184, 274, 409, 246, 283, 254, 298, 247, 294, 299, 273, 309, 259, 200, 244, 231, 228, 230, 282, 269, 206, 212, 327, 149, 286, 283, 249, 234, 237, 234, 275, 212, 218, 261, 319, 166, 315, 204, 218, 223, 207, 311, 204, 232, 335, 205, 203, 318, 225, 212, 169, 187, 197, 176, 241, 264, 193, 131, 236]}, {\"label\": \"fbs\", \"values\": [1, 0, 0, 0, 0, 0, 0, 0, 1, 0, 0, 0, 0, 0, 1, 0, 0, 0, 0, 0, 0, 0, 0, 1, 0, 0, 1, 0, 1, 1, 0, 0, 0, 0, 0, 0, 1, 0, 0, 0, 0, 0, 0, 0, 0, 0, 0, 0, 0, 0, 0, 0, 0, 0, 0, 0, 0, 0, 0, 0, 1, 0, 0, 0, 1, 0, 0, 0, 0, 0, 0, 0, 0, 0, 0, 0, 1, 0, 1, 0, 0, 0, 0, 1, 0, 0, 0, 1, 0, 0, 1, 0, 0, 1, 0, 0, 0, 1, 0, 1, 0, 0, 0, 1, 0, 0, 1, 0, 0, 0, 0, 1, 0, 0, 0, 0, 0, 0, 0, 0, 0, 0, 0, 0, 0, 0, 0, 0, 0, 0, 0, 0, 0, 0, 0, 0, 1, 1, 0, 0, 0, 0, 0, 0, 0, 0, 0, 0, 0, 0, 0, 0, 0, 0, 0, 0, 0, 0, 0, 0, 0, 0, 0, 0, 0, 0, 0, 0, 0, 1, 1, 0, 0, 0, 0, 0, 1, 0, 0, 0, 0, 0, 0, 0, 0, 0, 0, 0, 0, 0, 0, 0, 0, 0, 0, 0, 0, 1, 0, 0, 0, 0, 0, 1, 0, 0, 0, 0, 0, 0, 0, 0, 0, 0, 1, 1, 0, 1, 0, 1, 0, 0, 1, 1, 0, 0, 0, 0, 0, 0, 0, 1, 0, 0, 0, 0, 0, 0, 0, 0, 0, 0, 0, 0, 0, 0, 0, 0, 0, 0, 0, 1, 1, 0, 0, 0, 0, 0, 0, 0, 1, 0, 0, 0, 0, 0, 0, 0, 0, 1, 0, 0, 0, 0, 0, 0, 0, 0, 1, 0, 0, 1, 1, 0, 0, 0, 0, 0, 0, 0, 0, 0, 1, 0, 0, 0, 0, 1, 0, 0, 1, 0, 0]}, {\"label\": \"restecg\", \"values\": [0, 1, 0, 1, 1, 1, 0, 1, 1, 1, 1, 1, 1, 0, 0, 1, 1, 1, 1, 1, 1, 1, 1, 1, 1, 1, 1, 1, 0, 0, 1, 1, 0, 0, 0, 0, 1, 0, 1, 0, 0, 0, 0, 0, 0, 1, 0, 0, 0, 0, 0, 0, 1, 1, 0, 1, 0, 0, 0, 0, 0, 1, 0, 1, 0, 1, 1, 0, 1, 1, 0, 1, 0, 0, 1, 0, 0, 1, 1, 0, 1, 0, 1, 1, 0, 0, 1, 1, 1, 0, 1, 1, 1, 0, 1, 0, 0, 1, 1, 0, 0, 0, 1, 1, 1, 0, 0, 0, 1, 0, 1, 1, 1, 1, 1, 1, 0, 0, 1, 0, 1, 0, 0, 0, 1, 1, 1, 1, 0, 0, 1, 1, 1, 1, 1, 1, 1, 0, 1, 1, 0, 1, 1, 1, 2, 0, 1, 1, 1, 1, 0, 1, 0, 0, 1, 1, 1, 1, 1, 0, 1, 1, 1, 1, 1, 0, 0, 0, 0, 0, 0, 1, 0, 0, 0, 0, 1, 1, 0, 0, 1, 0, 0, 0, 0, 0, 1, 0, 1, 0, 1, 0, 1, 0, 0, 0, 1, 1, 1, 0, 0, 0, 0, 0, 0, 1, 0, 0, 1, 1, 0, 1, 1, 0, 0, 0, 1, 0, 0, 0, 0, 1, 0, 0, 1, 1, 0, 1, 0, 1, 1, 0, 0, 0, 0, 1, 0, 0, 0, 0, 1, 1, 0, 1, 0, 0, 0, 1, 0, 0, 1, 0, 1, 0, 0, 0, 0, 0, 1, 1, 1, 1, 1, 1, 0, 0, 2, 0, 0, 0, 0, 1, 1, 1, 0, 1, 1, 1, 0, 0, 1, 1, 1, 1, 0, 1, 1, 0, 1, 2, 1, 2, 0, 0, 1, 0, 1, 0, 1, 1, 1, 1, 0]}, {\"label\": \"thalachh\", \"values\": [150, 187, 172, 178, 163, 148, 153, 173, 162, 174, 160, 139, 171, 144, 162, 158, 172, 114, 171, 151, 161, 179, 178, 137, 178, 162, 157, 123, 157, 152, 168, 140, 188, 152, 125, 160, 170, 165, 148, 151, 142, 180, 148, 143, 182, 172, 180, 156, 115, 160, 149, 151, 146, 175, 172, 158, 186, 185, 174, 159, 130, 156, 190, 132, 165, 182, 143, 175, 170, 163, 147, 154, 202, 186, 165, 161, 166, 164, 184, 154, 179, 170, 160, 178, 122, 160, 151, 156, 158, 122, 175, 168, 169, 159, 138, 111, 157, 147, 162, 173, 178, 145, 179, 194, 163, 115, 131, 152, 162, 159, 154, 173, 133, 161, 155, 170, 168, 162, 172, 152, 122, 182, 172, 167, 179, 192, 143, 172, 169, 121, 163, 162, 162, 153, 163, 163, 96, 140, 126, 105, 157, 181, 173, 142, 116, 143, 149, 171, 169, 150, 138, 125, 155, 152, 152, 131, 179, 174, 144, 163, 169, 166, 182, 173, 173, 108, 129, 160, 147, 155, 142, 168, 160, 173, 132, 114, 160, 158, 120, 112, 132, 114, 169, 165, 128, 153, 144, 109, 163, 158, 142, 131, 113, 142, 155, 140, 147, 163, 99, 158, 177, 141, 111, 150, 145, 161, 142, 157, 139, 162, 150, 140, 140, 146, 144, 136, 97, 132, 127, 150, 154, 111, 174, 133, 126, 125, 103, 130, 159, 131, 152, 124, 145, 96, 109, 173, 171, 170, 162, 156, 112, 143, 132, 88, 105, 166, 150, 120, 195, 146, 122, 143, 106, 125, 125, 147, 130, 126, 154, 182, 165, 160, 95, 169, 108, 132, 117, 126, 116, 103, 144, 145, 71, 156, 118, 168, 105, 141, 152, 125, 125, 156, 134, 181, 138, 120, 162, 164, 143, 130, 161, 140, 146, 150, 144, 144, 136, 90, 123, 132, 141, 115, 174]}, {\"label\": \"exng\", \"values\": [0, 0, 0, 0, 1, 0, 0, 0, 0, 0, 0, 0, 0, 1, 0, 0, 0, 0, 0, 0, 0, 1, 0, 1, 1, 0, 0, 0, 0, 0, 0, 0, 0, 0, 1, 1, 0, 0, 0, 0, 0, 0, 1, 0, 0, 0, 0, 0, 0, 0, 0, 0, 0, 0, 0, 0, 0, 0, 0, 0, 0, 0, 0, 0, 0, 0, 1, 0, 0, 0, 0, 1, 0, 1, 0, 0, 0, 1, 0, 1, 0, 0, 0, 0, 0, 0, 0, 0, 0, 0, 0, 1, 0, 1, 0, 1, 0, 0, 0, 0, 0, 0, 0, 0, 0, 0, 0, 1, 0, 0, 1, 0, 0, 0, 0, 0, 0, 0, 0, 1, 0, 0, 1, 0, 0, 0, 0, 0, 0, 1, 0, 0, 0, 0, 0, 0, 0, 0, 1, 1, 0, 0, 0, 0, 0, 0, 0, 0, 0, 0, 0, 0, 0, 0, 0, 0, 0, 0, 0, 0, 0, 0, 0, 0, 0, 1, 1, 0, 0, 1, 1, 0, 0, 0, 1, 1, 1, 0, 1, 1, 1, 0, 0, 0, 0, 0, 1, 1, 0, 0, 1, 1, 0, 1, 0, 1, 0, 0, 1, 0, 0, 1, 1, 1, 0, 1, 1, 0, 0, 1, 0, 1, 0, 1, 1, 1, 0, 1, 0, 1, 0, 1, 0, 1, 1, 1, 0, 1, 0, 1, 0, 0, 1, 1, 0, 1, 0, 0, 1, 1, 1, 1, 0, 1, 1, 0, 1, 1, 0, 0, 1, 1, 0, 1, 0, 1, 1, 1, 1, 1, 1, 0, 1, 1, 1, 1, 1, 0, 1, 1, 0, 0, 0, 0, 1, 0, 0, 0, 0, 1, 1, 1, 0, 0, 1, 1, 0, 0, 1, 1, 0, 0, 1, 0, 1, 1, 1, 0, 1, 0, 0, 1, 0]}, {\"label\": \"oldpeak\", \"values\": [2.3, 3.5, 1.4, 0.8, 0.6, 0.4, 1.3, 0.0, 0.5, 1.6, 1.2, 0.2, 0.6, 1.8, 1.0, 1.6, 0.0, 2.6, 1.5, 1.8, 0.5, 0.4, 0.0, 1.0, 1.4, 0.4, 1.6, 0.6, 0.8, 1.2, 0.0, 0.4, 0.0, 0.5, 1.4, 1.4, 0.0, 1.6, 0.8, 0.8, 1.5, 0.2, 3.0, 0.4, 0.0, 0.2, 0.0, 0.0, 0.0, 0.0, 0.5, 0.4, 1.8, 0.6, 0.0, 0.8, 0.0, 0.0, 0.0, 0.0, 0.0, 0.0, 0.0, 0.0, 0.0, 1.4, 1.2, 0.6, 0.0, 0.0, 0.4, 0.0, 0.0, 0.0, 0.2, 1.4, 2.4, 0.0, 0.0, 0.6, 0.0, 0.0, 0.0, 1.2, 0.6, 1.6, 1.0, 0.0, 1.6, 1.0, 0.0, 0.0, 0.0, 0.0, 0.0, 0.0, 1.2, 0.1, 1.9, 0.0, 0.8, 4.2, 0.0, 0.8, 0.0, 1.5, 0.1, 0.2, 1.1, 0.0, 0.0, 0.2, 0.2, 0.0, 0.0, 0.0, 2.0, 1.9, 0.0, 0.0, 2.0, 0.0, 0.0, 0.0, 0.0, 0.7, 0.1, 0.0, 0.1, 0.2, 0.0, 0.0, 0.0, 0.0, 0.0, 0.0, 0.0, 0.0, 1.5, 0.2, 0.6, 1.2, 0.0, 0.3, 1.1, 0.0, 0.3, 0.9, 0.0, 0.0, 2.3, 1.6, 0.6, 0.0, 0.0, 0.6, 0.0, 0.0, 0.4, 0.0, 0.0, 1.2, 0.0, 0.0, 0.0, 1.5, 2.6, 3.6, 1.4, 3.1, 0.6, 1.0, 1.8, 3.2, 2.4, 2.0, 1.4, 0.0, 2.5, 0.6, 1.2, 1.0, 0.0, 2.5, 2.6, 0.0, 1.4, 2.2, 0.6, 0.0, 1.2, 2.2, 1.4, 2.8, 3.0, 3.4, 3.6, 0.2, 1.8, 0.6, 0.0, 2.8, 0.8, 1.6, 6.2, 0.0, 1.2, 2.6, 2.0, 0.0, 0.4, 3.6, 1.2, 1.0, 1.2, 3.0, 1.2, 1.8, 2.8, 0.0, 4.0, 5.6, 1.4, 4.0, 2.8, 2.6, 1.4, 1.6, 0.2, 1.8, 0.0, 1.0, 0.8, 2.2, 2.4, 1.6, 0.0, 1.2, 0.0, 0.0, 2.9, 0.0, 2.0, 1.2, 2.1, 0.5, 1.9, 0.0, 0.0, 2.0, 4.2, 0.1, 1.9, 0.9, 0.0, 0.0, 3.0, 0.9, 1.4, 3.8, 1.0, 0.0, 2.0, 1.8, 0.0, 0.1, 3.4, 0.8, 3.2, 1.6, 0.8, 2.6, 1.0, 0.1, 1.0, 1.0, 2.0, 0.3, 0.0, 3.6, 1.8, 1.0, 2.2, 0.0, 1.9, 1.8, 0.8, 0.0, 3.0, 2.0, 0.0, 4.4, 2.8, 0.8, 2.8, 4.0, 0.0, 1.0, 0.2, 1.2, 3.4, 1.2, 0.0]}, {\"label\": \"slp\", \"values\": [0, 0, 2, 2, 2, 1, 1, 2, 2, 2, 2, 2, 2, 1, 2, 1, 2, 0, 2, 2, 1, 2, 2, 1, 2, 2, 2, 2, 2, 0, 2, 2, 2, 0, 2, 0, 2, 2, 2, 2, 2, 1, 1, 1, 2, 2, 2, 2, 2, 2, 2, 1, 1, 1, 2, 2, 2, 2, 2, 2, 2, 2, 1, 1, 2, 2, 1, 1, 2, 2, 1, 2, 2, 2, 1, 1, 1, 2, 2, 1, 2, 2, 2, 1, 1, 1, 2, 2, 1, 1, 2, 2, 2, 2, 1, 2, 1, 2, 2, 2, 2, 0, 2, 0, 2, 1, 1, 1, 2, 2, 2, 2, 2, 2, 2, 2, 1, 1, 2, 1, 1, 2, 2, 2, 2, 2, 2, 2, 1, 2, 2, 1, 2, 2, 2, 2, 2, 2, 1, 1, 2, 1, 1, 2, 1, 2, 1, 2, 2, 2, 2, 1, 1, 1, 1, 1, 2, 2, 1, 2, 0, 2, 2, 2, 2, 1, 1, 0, 1, 0, 1, 0, 1, 2, 1, 1, 2, 2, 1, 1, 1, 1, 2, 1, 1, 2, 2, 1, 1, 2, 1, 1, 1, 1, 1, 0, 1, 1, 1, 2, 2, 1, 2, 1, 0, 2, 1, 1, 1, 2, 1, 1, 1, 1, 1, 1, 1, 2, 1, 2, 1, 0, 1, 0, 1, 0, 1, 1, 1, 1, 2, 1, 1, 0, 1, 2, 2, 1, 2, 2, 1, 1, 1, 1, 1, 1, 1, 1, 2, 1, 1, 1, 1, 1, 2, 1, 1, 1, 1, 1, 1, 2, 1, 1, 1, 2, 1, 2, 1, 0, 2, 1, 1, 2, 1, 2, 1, 2, 2, 1, 1, 1, 1, 2, 2, 1, 2, 2, 1, 1, 2, 0, 1, 1, 0, 2, 1, 1, 1, 1, 1, 1, 1]}, {\"label\": \"caa\", \"values\": [0, 0, 0, 0, 0, 0, 0, 0, 0, 0, 0, 0, 0, 0, 0, 0, 0, 0, 0, 2, 0, 0, 0, 0, 0, 2, 0, 0, 1, 0, 1, 0, 0, 1, 1, 0, 0, 0, 0, 0, 1, 0, 0, 0, 0, 0, 0, 0, 0, 0, 0, 0, 3, 0, 0, 1, 0, 0, 0, 1, 1, 0, 0, 0, 0, 0, 0, 0, 0, 0, 0, 1, 0, 0, 0, 0, 0, 0, 0, 0, 0, 0, 1, 0, 0, 0, 1, 0, 0, 0, 2, 0, 4, 1, 0, 0, 0, 3, 1, 3, 2, 0, 2, 0, 0, 0, 1, 0, 0, 0, 0, 1, 0, 0, 0, 0, 0, 0, 0, 0, 2, 0, 0, 0, 0, 0, 0, 1, 0, 1, 1, 0, 0, 0, 0, 0, 0, 0, 0, 1, 0, 0, 0, 2, 0, 0, 1, 0, 0, 0, 0, 0, 0, 1, 0, 0, 0, 0, 4, 0, 0, 0, 0, 4, 4, 3, 2, 2, 1, 0, 1, 0, 0, 2, 2, 0, 2, 0, 0, 1, 1, 3, 0, 1, 0, 1, 1, 1, 1, 0, 0, 3, 1, 2, 0, 0, 0, 2, 2, 2, 1, 1, 0, 0, 3, 1, 1, 2, 3, 1, 1, 1, 0, 0, 1, 0, 1, 3, 1, 2, 3, 0, 1, 2, 1, 0, 1, 0, 0, 0, 0, 3, 1, 1, 3, 0, 2, 2, 3, 0, 1, 0, 2, 1, 1, 0, 2, 3, 1, 3, 3, 4, 3, 2, 0, 3, 2, 0, 0, 0, 2, 1, 2, 2, 1, 1, 0, 3, 2, 0, 0, 2, 0, 1, 1, 2, 1, 0, 2, 1, 0, 0, 1, 0, 1, 2, 2, 1, 1, 1, 1, 3, 2, 0, 0, 2, 0, 2, 0, 0, 2, 1, 1]}, {\"label\": \"thall\", \"values\": [1, 2, 2, 2, 2, 1, 2, 3, 3, 2, 2, 2, 2, 2, 2, 2, 2, 2, 2, 2, 3, 2, 2, 2, 3, 2, 2, 2, 2, 2, 2, 3, 2, 2, 2, 2, 2, 3, 2, 2, 2, 2, 2, 2, 2, 2, 2, 2, 0, 2, 2, 2, 3, 2, 2, 2, 2, 2, 2, 2, 2, 3, 1, 1, 2, 2, 2, 2, 2, 2, 3, 3, 2, 2, 2, 2, 2, 2, 2, 3, 2, 2, 2, 3, 2, 3, 3, 3, 2, 2, 2, 3, 2, 2, 2, 3, 2, 3, 2, 2, 2, 3, 2, 3, 2, 2, 2, 2, 2, 2, 2, 3, 3, 3, 2, 2, 2, 3, 2, 2, 2, 2, 2, 2, 2, 2, 2, 2, 2, 2, 2, 2, 2, 2, 2, 2, 2, 2, 1, 3, 2, 2, 2, 2, 2, 2, 2, 2, 2, 2, 1, 2, 3, 2, 2, 2, 2, 2, 3, 3, 2, 2, 2, 2, 2, 2, 3, 2, 3, 3, 1, 3, 2, 3, 3, 3, 3, 2, 3, 1, 3, 3, 2, 3, 3, 2, 3, 3, 3, 3, 3, 3, 3, 3, 2, 3, 2, 3, 3, 1, 2, 3, 3, 3, 3, 3, 3, 3, 3, 3, 3, 3, 3, 3, 2, 3, 3, 3, 3, 3, 3, 3, 2, 3, 3, 3, 3, 3, 3, 3, 2, 3, 3, 2, 2, 3, 3, 3, 2, 3, 3, 2, 1, 3, 1, 3, 3, 1, 3, 3, 3, 3, 2, 2, 2, 3, 3, 3, 2, 3, 3, 2, 3, 2, 2, 2, 2, 2, 2, 3, 3, 2, 2, 3, 2, 3, 3, 3, 2, 2, 1, 0, 1, 3, 3, 3, 2, 2, 3, 3, 3, 1, 1, 3, 1, 3, 2, 1, 3, 3, 3, 3, 2]}, {\"label\": \"output\", \"values\": [1, 1, 1, 1, 1, 1, 1, 1, 1, 1, 1, 1, 1, 1, 1, 1, 1, 1, 1, 1, 1, 1, 1, 1, 1, 1, 1, 1, 1, 1, 1, 1, 1, 1, 1, 1, 1, 1, 1, 1, 1, 1, 1, 1, 1, 1, 1, 1, 1, 1, 1, 1, 1, 1, 1, 1, 1, 1, 1, 1, 1, 1, 1, 1, 1, 1, 1, 1, 1, 1, 1, 1, 1, 1, 1, 1, 1, 1, 1, 1, 1, 1, 1, 1, 1, 1, 1, 1, 1, 1, 1, 1, 1, 1, 1, 1, 1, 1, 1, 1, 1, 1, 1, 1, 1, 1, 1, 1, 1, 1, 1, 1, 1, 1, 1, 1, 1, 1, 1, 1, 1, 1, 1, 1, 1, 1, 1, 1, 1, 1, 1, 1, 1, 1, 1, 1, 1, 1, 1, 1, 1, 1, 1, 1, 1, 1, 1, 1, 1, 1, 1, 1, 1, 1, 1, 1, 1, 1, 1, 1, 1, 1, 1, 1, 1, 0, 0, 0, 0, 0, 0, 0, 0, 0, 0, 0, 0, 0, 0, 0, 0, 0, 0, 0, 0, 0, 0, 0, 0, 0, 0, 0, 0, 0, 0, 0, 0, 0, 0, 0, 0, 0, 0, 0, 0, 0, 0, 0, 0, 0, 0, 0, 0, 0, 0, 0, 0, 0, 0, 0, 0, 0, 0, 0, 0, 0, 0, 0, 0, 0, 0, 0, 0, 0, 0, 0, 0, 0, 0, 0, 0, 0, 0, 0, 0, 0, 0, 0, 0, 0, 0, 0, 0, 0, 0, 0, 0, 0, 0, 0, 0, 0, 0, 0, 0, 0, 0, 0, 0, 0, 0, 0, 0, 0, 0, 0, 0, 0, 0, 0, 0, 0, 0, 0, 0, 0, 0, 0, 0, 0, 0, 0, 0, 0, 0, 0, 0, 0, 0, 0, 0, 0, 0]}], \"domain\": {\"x\": [0.0, 1.0], \"y\": [0.0, 1.0]}, \"line\": {\"color\": [63, 37, 41, 56, 57, 57, 56, 44, 52, 57, 54, 48, 49, 64, 58, 50, 58, 66, 43, 69, 59, 44, 42, 61, 40, 71, 59, 51, 65, 53, 41, 65, 44, 54, 51, 46, 54, 54, 65, 65, 51, 48, 45, 53, 39, 52, 44, 47, 53, 53, 51, 66, 62, 44, 63, 52, 48, 45, 34, 57, 71, 54, 52, 41, 58, 35, 51, 45, 44, 62, 54, 51, 29, 51, 43, 55, 51, 59, 52, 58, 41, 45, 60, 52, 42, 67, 68, 46, 54, 58, 48, 57, 52, 54, 45, 53, 62, 52, 43, 53, 42, 59, 63, 42, 50, 68, 69, 45, 50, 50, 64, 57, 64, 43, 55, 37, 41, 56, 46, 46, 64, 59, 41, 54, 39, 34, 47, 67, 52, 74, 54, 49, 42, 41, 41, 49, 60, 62, 57, 64, 51, 43, 42, 67, 76, 70, 44, 60, 44, 42, 66, 71, 64, 66, 39, 58, 47, 35, 58, 56, 56, 55, 41, 38, 38, 67, 67, 62, 63, 53, 56, 48, 58, 58, 60, 40, 60, 64, 43, 57, 55, 65, 61, 58, 50, 44, 60, 54, 50, 41, 51, 58, 54, 60, 60, 59, 46, 67, 62, 65, 44, 60, 58, 68, 62, 52, 59, 60, 49, 59, 57, 61, 39, 61, 56, 43, 62, 63, 65, 48, 63, 55, 65, 56, 54, 70, 62, 35, 59, 64, 47, 57, 55, 64, 70, 51, 58, 60, 77, 35, 70, 59, 64, 57, 56, 48, 56, 66, 54, 69, 51, 43, 62, 67, 59, 45, 58, 50, 62, 38, 66, 52, 53, 63, 54, 66, 55, 49, 54, 56, 46, 61, 67, 58, 47, 52, 58, 57, 58, 61, 42, 52, 59, 40, 61, 46, 59, 57, 57, 55, 61, 58, 58, 67, 44, 63, 63, 59, 57, 45, 68, 57, 57], \"coloraxis\": \"coloraxis\"}, \"name\": \"\", \"type\": \"parcoords\"}],                        {\"coloraxis\": {\"colorbar\": {\"title\": {\"text\": \"age\"}}, \"colorscale\": [[0.0, \"#0d0887\"], [0.1111111111111111, \"#46039f\"], [0.2222222222222222, \"#7201a8\"], [0.3333333333333333, \"#9c179e\"], [0.4444444444444444, \"#bd3786\"], [0.5555555555555556, \"#d8576b\"], [0.6666666666666666, \"#ed7953\"], [0.7777777777777778, \"#fb9f3a\"], [0.8888888888888888, \"#fdca26\"], [1.0, \"#f0f921\"]]}, \"legend\": {\"tracegroupgap\": 0}, \"margin\": {\"t\": 60}, \"template\": {\"data\": {\"bar\": [{\"error_x\": {\"color\": \"#2a3f5f\"}, \"error_y\": {\"color\": \"#2a3f5f\"}, \"marker\": {\"line\": {\"color\": \"#E5ECF6\", \"width\": 0.5}}, \"type\": \"bar\"}], \"barpolar\": [{\"marker\": {\"line\": {\"color\": \"#E5ECF6\", \"width\": 0.5}}, \"type\": \"barpolar\"}], \"carpet\": [{\"aaxis\": {\"endlinecolor\": \"#2a3f5f\", \"gridcolor\": \"white\", \"linecolor\": \"white\", \"minorgridcolor\": \"white\", \"startlinecolor\": \"#2a3f5f\"}, \"baxis\": {\"endlinecolor\": \"#2a3f5f\", \"gridcolor\": \"white\", \"linecolor\": \"white\", \"minorgridcolor\": \"white\", \"startlinecolor\": \"#2a3f5f\"}, \"type\": \"carpet\"}], \"choropleth\": [{\"colorbar\": {\"outlinewidth\": 0, \"ticks\": \"\"}, \"type\": \"choropleth\"}], \"contour\": [{\"colorbar\": {\"outlinewidth\": 0, \"ticks\": \"\"}, \"colorscale\": [[0.0, \"#0d0887\"], [0.1111111111111111, \"#46039f\"], [0.2222222222222222, \"#7201a8\"], [0.3333333333333333, \"#9c179e\"], [0.4444444444444444, \"#bd3786\"], [0.5555555555555556, \"#d8576b\"], [0.6666666666666666, \"#ed7953\"], [0.7777777777777778, \"#fb9f3a\"], [0.8888888888888888, \"#fdca26\"], [1.0, \"#f0f921\"]], \"type\": \"contour\"}], \"contourcarpet\": [{\"colorbar\": {\"outlinewidth\": 0, \"ticks\": \"\"}, \"type\": \"contourcarpet\"}], \"heatmap\": [{\"colorbar\": {\"outlinewidth\": 0, \"ticks\": \"\"}, \"colorscale\": [[0.0, \"#0d0887\"], [0.1111111111111111, \"#46039f\"], [0.2222222222222222, \"#7201a8\"], [0.3333333333333333, \"#9c179e\"], [0.4444444444444444, \"#bd3786\"], [0.5555555555555556, \"#d8576b\"], [0.6666666666666666, \"#ed7953\"], [0.7777777777777778, \"#fb9f3a\"], [0.8888888888888888, \"#fdca26\"], [1.0, \"#f0f921\"]], \"type\": \"heatmap\"}], \"heatmapgl\": [{\"colorbar\": {\"outlinewidth\": 0, \"ticks\": \"\"}, \"colorscale\": [[0.0, \"#0d0887\"], [0.1111111111111111, \"#46039f\"], [0.2222222222222222, \"#7201a8\"], [0.3333333333333333, \"#9c179e\"], [0.4444444444444444, \"#bd3786\"], [0.5555555555555556, \"#d8576b\"], [0.6666666666666666, \"#ed7953\"], [0.7777777777777778, \"#fb9f3a\"], [0.8888888888888888, \"#fdca26\"], [1.0, \"#f0f921\"]], \"type\": \"heatmapgl\"}], \"histogram\": [{\"marker\": {\"colorbar\": {\"outlinewidth\": 0, \"ticks\": \"\"}}, \"type\": \"histogram\"}], \"histogram2d\": [{\"colorbar\": {\"outlinewidth\": 0, \"ticks\": \"\"}, \"colorscale\": [[0.0, \"#0d0887\"], [0.1111111111111111, \"#46039f\"], [0.2222222222222222, \"#7201a8\"], [0.3333333333333333, \"#9c179e\"], [0.4444444444444444, \"#bd3786\"], [0.5555555555555556, \"#d8576b\"], [0.6666666666666666, \"#ed7953\"], [0.7777777777777778, \"#fb9f3a\"], [0.8888888888888888, \"#fdca26\"], [1.0, \"#f0f921\"]], \"type\": \"histogram2d\"}], \"histogram2dcontour\": [{\"colorbar\": {\"outlinewidth\": 0, \"ticks\": \"\"}, \"colorscale\": [[0.0, \"#0d0887\"], [0.1111111111111111, \"#46039f\"], [0.2222222222222222, \"#7201a8\"], [0.3333333333333333, \"#9c179e\"], [0.4444444444444444, \"#bd3786\"], [0.5555555555555556, \"#d8576b\"], [0.6666666666666666, \"#ed7953\"], [0.7777777777777778, \"#fb9f3a\"], [0.8888888888888888, \"#fdca26\"], [1.0, \"#f0f921\"]], \"type\": \"histogram2dcontour\"}], \"mesh3d\": [{\"colorbar\": {\"outlinewidth\": 0, \"ticks\": \"\"}, \"type\": \"mesh3d\"}], \"parcoords\": [{\"line\": {\"colorbar\": {\"outlinewidth\": 0, \"ticks\": \"\"}}, \"type\": \"parcoords\"}], \"pie\": [{\"automargin\": true, \"type\": \"pie\"}], \"scatter\": [{\"marker\": {\"colorbar\": {\"outlinewidth\": 0, \"ticks\": \"\"}}, \"type\": \"scatter\"}], \"scatter3d\": [{\"line\": {\"colorbar\": {\"outlinewidth\": 0, \"ticks\": \"\"}}, \"marker\": {\"colorbar\": {\"outlinewidth\": 0, \"ticks\": \"\"}}, \"type\": \"scatter3d\"}], \"scattercarpet\": [{\"marker\": {\"colorbar\": {\"outlinewidth\": 0, \"ticks\": \"\"}}, \"type\": \"scattercarpet\"}], \"scattergeo\": [{\"marker\": {\"colorbar\": {\"outlinewidth\": 0, \"ticks\": \"\"}}, \"type\": \"scattergeo\"}], \"scattergl\": [{\"marker\": {\"colorbar\": {\"outlinewidth\": 0, \"ticks\": \"\"}}, \"type\": \"scattergl\"}], \"scattermapbox\": [{\"marker\": {\"colorbar\": {\"outlinewidth\": 0, \"ticks\": \"\"}}, \"type\": \"scattermapbox\"}], \"scatterpolar\": [{\"marker\": {\"colorbar\": {\"outlinewidth\": 0, \"ticks\": \"\"}}, \"type\": \"scatterpolar\"}], \"scatterpolargl\": [{\"marker\": {\"colorbar\": {\"outlinewidth\": 0, \"ticks\": \"\"}}, \"type\": \"scatterpolargl\"}], \"scatterternary\": [{\"marker\": {\"colorbar\": {\"outlinewidth\": 0, \"ticks\": \"\"}}, \"type\": \"scatterternary\"}], \"surface\": [{\"colorbar\": {\"outlinewidth\": 0, \"ticks\": \"\"}, \"colorscale\": [[0.0, \"#0d0887\"], [0.1111111111111111, \"#46039f\"], [0.2222222222222222, \"#7201a8\"], [0.3333333333333333, \"#9c179e\"], [0.4444444444444444, \"#bd3786\"], [0.5555555555555556, \"#d8576b\"], [0.6666666666666666, \"#ed7953\"], [0.7777777777777778, \"#fb9f3a\"], [0.8888888888888888, \"#fdca26\"], [1.0, \"#f0f921\"]], \"type\": \"surface\"}], \"table\": [{\"cells\": {\"fill\": {\"color\": \"#EBF0F8\"}, \"line\": {\"color\": \"white\"}}, \"header\": {\"fill\": {\"color\": \"#C8D4E3\"}, \"line\": {\"color\": \"white\"}}, \"type\": \"table\"}]}, \"layout\": {\"annotationdefaults\": {\"arrowcolor\": \"#2a3f5f\", \"arrowhead\": 0, \"arrowwidth\": 1}, \"autotypenumbers\": \"strict\", \"coloraxis\": {\"colorbar\": {\"outlinewidth\": 0, \"ticks\": \"\"}}, \"colorscale\": {\"diverging\": [[0, \"#8e0152\"], [0.1, \"#c51b7d\"], [0.2, \"#de77ae\"], [0.3, \"#f1b6da\"], [0.4, \"#fde0ef\"], [0.5, \"#f7f7f7\"], [0.6, \"#e6f5d0\"], [0.7, \"#b8e186\"], [0.8, \"#7fbc41\"], [0.9, \"#4d9221\"], [1, \"#276419\"]], \"sequential\": [[0.0, \"#0d0887\"], [0.1111111111111111, \"#46039f\"], [0.2222222222222222, \"#7201a8\"], [0.3333333333333333, \"#9c179e\"], [0.4444444444444444, \"#bd3786\"], [0.5555555555555556, \"#d8576b\"], [0.6666666666666666, \"#ed7953\"], [0.7777777777777778, \"#fb9f3a\"], [0.8888888888888888, \"#fdca26\"], [1.0, \"#f0f921\"]], \"sequentialminus\": [[0.0, \"#0d0887\"], [0.1111111111111111, \"#46039f\"], [0.2222222222222222, \"#7201a8\"], [0.3333333333333333, \"#9c179e\"], [0.4444444444444444, \"#bd3786\"], [0.5555555555555556, \"#d8576b\"], [0.6666666666666666, \"#ed7953\"], [0.7777777777777778, \"#fb9f3a\"], [0.8888888888888888, \"#fdca26\"], [1.0, \"#f0f921\"]]}, \"colorway\": [\"#636efa\", \"#EF553B\", \"#00cc96\", \"#ab63fa\", \"#FFA15A\", \"#19d3f3\", \"#FF6692\", \"#B6E880\", \"#FF97FF\", \"#FECB52\"], \"font\": {\"color\": \"#2a3f5f\"}, \"geo\": {\"bgcolor\": \"white\", \"lakecolor\": \"white\", \"landcolor\": \"#E5ECF6\", \"showlakes\": true, \"showland\": true, \"subunitcolor\": \"white\"}, \"hoverlabel\": {\"align\": \"left\"}, \"hovermode\": \"closest\", \"mapbox\": {\"style\": \"light\"}, \"paper_bgcolor\": \"white\", \"plot_bgcolor\": \"#E5ECF6\", \"polar\": {\"angularaxis\": {\"gridcolor\": \"white\", \"linecolor\": \"white\", \"ticks\": \"\"}, \"bgcolor\": \"#E5ECF6\", \"radialaxis\": {\"gridcolor\": \"white\", \"linecolor\": \"white\", \"ticks\": \"\"}}, \"scene\": {\"xaxis\": {\"backgroundcolor\": \"#E5ECF6\", \"gridcolor\": \"white\", \"gridwidth\": 2, \"linecolor\": \"white\", \"showbackground\": true, \"ticks\": \"\", \"zerolinecolor\": \"white\"}, \"yaxis\": {\"backgroundcolor\": \"#E5ECF6\", \"gridcolor\": \"white\", \"gridwidth\": 2, \"linecolor\": \"white\", \"showbackground\": true, \"ticks\": \"\", \"zerolinecolor\": \"white\"}, \"zaxis\": {\"backgroundcolor\": \"#E5ECF6\", \"gridcolor\": \"white\", \"gridwidth\": 2, \"linecolor\": \"white\", \"showbackground\": true, \"ticks\": \"\", \"zerolinecolor\": \"white\"}}, \"shapedefaults\": {\"line\": {\"color\": \"#2a3f5f\"}}, \"ternary\": {\"aaxis\": {\"gridcolor\": \"white\", \"linecolor\": \"white\", \"ticks\": \"\"}, \"baxis\": {\"gridcolor\": \"white\", \"linecolor\": \"white\", \"ticks\": \"\"}, \"bgcolor\": \"#E5ECF6\", \"caxis\": {\"gridcolor\": \"white\", \"linecolor\": \"white\", \"ticks\": \"\"}}, \"title\": {\"x\": 0.05}, \"xaxis\": {\"automargin\": true, \"gridcolor\": \"white\", \"linecolor\": \"white\", \"ticks\": \"\", \"title\": {\"standoff\": 15}, \"zerolinecolor\": \"white\", \"zerolinewidth\": 2}, \"yaxis\": {\"automargin\": true, \"gridcolor\": \"white\", \"linecolor\": \"white\", \"ticks\": \"\", \"title\": {\"standoff\": 15}, \"zerolinecolor\": \"white\", \"zerolinewidth\": 2}}}},                        {\"responsive\": true}                    ).then(function(){\n",
       "                            \n",
       "var gd = document.getElementById('6d186d80-9cc6-49cc-a87f-85b844923d9a');\n",
       "var x = new MutationObserver(function (mutations, observer) {{\n",
       "        var display = window.getComputedStyle(gd).display;\n",
       "        if (!display || display === 'none') {{\n",
       "            console.log([gd, 'removed!']);\n",
       "            Plotly.purge(gd);\n",
       "            observer.disconnect();\n",
       "        }}\n",
       "}});\n",
       "\n",
       "// Listen for the removal of the full notebook cells\n",
       "var notebookContainer = gd.closest('#notebook-container');\n",
       "if (notebookContainer) {{\n",
       "    x.observe(notebookContainer, {childList: true});\n",
       "}}\n",
       "\n",
       "// Listen for the clearing of the current output cell\n",
       "var outputEl = gd.closest('.output');\n",
       "if (outputEl) {{\n",
       "    x.observe(outputEl, {childList: true});\n",
       "}}\n",
       "\n",
       "                        })                };                });            </script>        </div>"
      ]
     },
     "metadata": {},
     "output_type": "display_data"
    }
   ],
   "source": [
    "px.parallel_coordinates(df, color=\"age\",) "
   ]
  },
  {
   "cell_type": "code",
   "execution_count": 23,
   "id": "protecting-enemy",
   "metadata": {
    "execution": {
     "iopub.execute_input": "2021-08-29T13:20:03.938760Z",
     "iopub.status.busy": "2021-08-29T13:20:03.934667Z",
     "iopub.status.idle": "2021-08-29T13:20:04.016104Z",
     "shell.execute_reply": "2021-08-29T13:20:04.015578Z",
     "shell.execute_reply.started": "2021-08-29T12:28:40.348204Z"
    },
    "papermill": {
     "duration": 0.162638,
     "end_time": "2021-08-29T13:20:04.016251",
     "exception": false,
     "start_time": "2021-08-29T13:20:03.853613",
     "status": "completed"
    },
    "tags": []
   },
   "outputs": [
    {
     "data": {
      "text/html": [
       "<div>                            <div id=\"9d307a28-ccf2-4bd4-bcf4-a8bb8823de6e\" class=\"plotly-graph-div\" style=\"height:525px; width:100%;\"></div>            <script type=\"text/javascript\">                require([\"plotly\"], function(Plotly) {                    window.PLOTLYENV=window.PLOTLYENV || {};                                    if (document.getElementById(\"9d307a28-ccf2-4bd4-bcf4-a8bb8823de6e\")) {                    Plotly.newPlot(                        \"9d307a28-ccf2-4bd4-bcf4-a8bb8823de6e\",                        [{\"hovertemplate\": \"oldpeak=%{x}<br>age=%{y}<extra></extra>\", \"legendgroup\": \"\", \"marker\": {\"color\": \"#636efa\"}, \"name\": \"\", \"orientation\": \"v\", \"showlegend\": false, \"type\": \"funnel\", \"x\": [2.3, 3.5, 1.4, 0.8, 0.6, 0.4, 1.3, 0.0, 0.5, 1.6, 1.2, 0.2, 0.6, 1.8, 1.0, 1.6, 0.0, 2.6, 1.5, 1.8, 0.5, 0.4, 0.0, 1.0, 1.4, 0.4, 1.6, 0.6, 0.8, 1.2, 0.0, 0.4, 0.0, 0.5, 1.4, 1.4, 0.0, 1.6, 0.8, 0.8, 1.5, 0.2, 3.0, 0.4, 0.0, 0.2, 0.0, 0.0, 0.0, 0.0, 0.5, 0.4, 1.8, 0.6, 0.0, 0.8, 0.0, 0.0, 0.0, 0.0, 0.0, 0.0, 0.0, 0.0, 0.0, 1.4, 1.2, 0.6, 0.0, 0.0, 0.4, 0.0, 0.0, 0.0, 0.2, 1.4, 2.4, 0.0, 0.0, 0.6, 0.0, 0.0, 0.0, 1.2, 0.6, 1.6, 1.0, 0.0, 1.6, 1.0, 0.0, 0.0, 0.0, 0.0, 0.0, 0.0, 1.2, 0.1, 1.9, 0.0, 0.8, 4.2, 0.0, 0.8, 0.0, 1.5, 0.1, 0.2, 1.1, 0.0, 0.0, 0.2, 0.2, 0.0, 0.0, 0.0, 2.0, 1.9, 0.0, 0.0, 2.0, 0.0, 0.0, 0.0, 0.0, 0.7, 0.1, 0.0, 0.1, 0.2, 0.0, 0.0, 0.0, 0.0, 0.0, 0.0, 0.0, 0.0, 1.5, 0.2, 0.6, 1.2, 0.0, 0.3, 1.1, 0.0, 0.3, 0.9, 0.0, 0.0, 2.3, 1.6, 0.6, 0.0, 0.0, 0.6, 0.0, 0.0, 0.4, 0.0, 0.0, 1.2, 0.0, 0.0, 0.0, 1.5, 2.6, 3.6, 1.4, 3.1, 0.6, 1.0, 1.8, 3.2, 2.4, 2.0, 1.4, 0.0, 2.5, 0.6, 1.2, 1.0, 0.0, 2.5, 2.6, 0.0, 1.4, 2.2, 0.6, 0.0, 1.2, 2.2, 1.4, 2.8, 3.0, 3.4, 3.6, 0.2, 1.8, 0.6, 0.0, 2.8, 0.8, 1.6, 6.2, 0.0, 1.2, 2.6, 2.0, 0.0, 0.4, 3.6, 1.2, 1.0, 1.2, 3.0, 1.2, 1.8, 2.8, 0.0, 4.0, 5.6, 1.4, 4.0, 2.8, 2.6, 1.4, 1.6, 0.2, 1.8, 0.0, 1.0, 0.8, 2.2, 2.4, 1.6, 0.0, 1.2, 0.0, 0.0, 2.9, 0.0, 2.0, 1.2, 2.1, 0.5, 1.9, 0.0, 0.0, 2.0, 4.2, 0.1, 1.9, 0.9, 0.0, 0.0, 3.0, 0.9, 1.4, 3.8, 1.0, 0.0, 2.0, 1.8, 0.0, 0.1, 3.4, 0.8, 3.2, 1.6, 0.8, 2.6, 1.0, 0.1, 1.0, 1.0, 2.0, 0.3, 0.0, 3.6, 1.8, 1.0, 2.2, 0.0, 1.9, 1.8, 0.8, 0.0, 3.0, 2.0, 0.0, 4.4, 2.8, 0.8, 2.8, 4.0, 0.0, 1.0, 0.2, 1.2, 3.4, 1.2, 0.0], \"xaxis\": \"x\", \"y\": [63, 37, 41, 56, 57, 57, 56, 44, 52, 57, 54, 48, 49, 64, 58, 50, 58, 66, 43, 69, 59, 44, 42, 61, 40, 71, 59, 51, 65, 53, 41, 65, 44, 54, 51, 46, 54, 54, 65, 65, 51, 48, 45, 53, 39, 52, 44, 47, 53, 53, 51, 66, 62, 44, 63, 52, 48, 45, 34, 57, 71, 54, 52, 41, 58, 35, 51, 45, 44, 62, 54, 51, 29, 51, 43, 55, 51, 59, 52, 58, 41, 45, 60, 52, 42, 67, 68, 46, 54, 58, 48, 57, 52, 54, 45, 53, 62, 52, 43, 53, 42, 59, 63, 42, 50, 68, 69, 45, 50, 50, 64, 57, 64, 43, 55, 37, 41, 56, 46, 46, 64, 59, 41, 54, 39, 34, 47, 67, 52, 74, 54, 49, 42, 41, 41, 49, 60, 62, 57, 64, 51, 43, 42, 67, 76, 70, 44, 60, 44, 42, 66, 71, 64, 66, 39, 58, 47, 35, 58, 56, 56, 55, 41, 38, 38, 67, 67, 62, 63, 53, 56, 48, 58, 58, 60, 40, 60, 64, 43, 57, 55, 65, 61, 58, 50, 44, 60, 54, 50, 41, 51, 58, 54, 60, 60, 59, 46, 67, 62, 65, 44, 60, 58, 68, 62, 52, 59, 60, 49, 59, 57, 61, 39, 61, 56, 43, 62, 63, 65, 48, 63, 55, 65, 56, 54, 70, 62, 35, 59, 64, 47, 57, 55, 64, 70, 51, 58, 60, 77, 35, 70, 59, 64, 57, 56, 48, 56, 66, 54, 69, 51, 43, 62, 67, 59, 45, 58, 50, 62, 38, 66, 52, 53, 63, 54, 66, 55, 49, 54, 56, 46, 61, 67, 58, 47, 52, 58, 57, 58, 61, 42, 52, 59, 40, 61, 46, 59, 57, 57, 55, 61, 58, 58, 67, 44, 63, 63, 59, 57, 45, 68, 57, 57], \"yaxis\": \"y\"}],                        {\"legend\": {\"tracegroupgap\": 0}, \"margin\": {\"t\": 60}, \"template\": {\"data\": {\"bar\": [{\"error_x\": {\"color\": \"#2a3f5f\"}, \"error_y\": {\"color\": \"#2a3f5f\"}, \"marker\": {\"line\": {\"color\": \"#E5ECF6\", \"width\": 0.5}}, \"type\": \"bar\"}], \"barpolar\": [{\"marker\": {\"line\": {\"color\": \"#E5ECF6\", \"width\": 0.5}}, \"type\": \"barpolar\"}], \"carpet\": [{\"aaxis\": {\"endlinecolor\": \"#2a3f5f\", \"gridcolor\": \"white\", \"linecolor\": \"white\", \"minorgridcolor\": \"white\", \"startlinecolor\": \"#2a3f5f\"}, \"baxis\": {\"endlinecolor\": \"#2a3f5f\", \"gridcolor\": \"white\", \"linecolor\": \"white\", \"minorgridcolor\": \"white\", \"startlinecolor\": \"#2a3f5f\"}, \"type\": \"carpet\"}], \"choropleth\": [{\"colorbar\": {\"outlinewidth\": 0, \"ticks\": \"\"}, \"type\": \"choropleth\"}], \"contour\": [{\"colorbar\": {\"outlinewidth\": 0, \"ticks\": \"\"}, \"colorscale\": [[0.0, \"#0d0887\"], [0.1111111111111111, \"#46039f\"], [0.2222222222222222, \"#7201a8\"], [0.3333333333333333, \"#9c179e\"], [0.4444444444444444, \"#bd3786\"], [0.5555555555555556, \"#d8576b\"], [0.6666666666666666, \"#ed7953\"], [0.7777777777777778, \"#fb9f3a\"], [0.8888888888888888, \"#fdca26\"], [1.0, \"#f0f921\"]], \"type\": \"contour\"}], \"contourcarpet\": [{\"colorbar\": {\"outlinewidth\": 0, \"ticks\": \"\"}, \"type\": \"contourcarpet\"}], \"heatmap\": [{\"colorbar\": {\"outlinewidth\": 0, \"ticks\": \"\"}, \"colorscale\": [[0.0, \"#0d0887\"], [0.1111111111111111, \"#46039f\"], [0.2222222222222222, \"#7201a8\"], [0.3333333333333333, \"#9c179e\"], [0.4444444444444444, \"#bd3786\"], [0.5555555555555556, \"#d8576b\"], [0.6666666666666666, \"#ed7953\"], [0.7777777777777778, \"#fb9f3a\"], [0.8888888888888888, \"#fdca26\"], [1.0, \"#f0f921\"]], \"type\": \"heatmap\"}], \"heatmapgl\": [{\"colorbar\": {\"outlinewidth\": 0, \"ticks\": \"\"}, \"colorscale\": [[0.0, \"#0d0887\"], [0.1111111111111111, \"#46039f\"], [0.2222222222222222, \"#7201a8\"], [0.3333333333333333, \"#9c179e\"], [0.4444444444444444, \"#bd3786\"], [0.5555555555555556, \"#d8576b\"], [0.6666666666666666, \"#ed7953\"], [0.7777777777777778, \"#fb9f3a\"], [0.8888888888888888, \"#fdca26\"], [1.0, \"#f0f921\"]], \"type\": \"heatmapgl\"}], \"histogram\": [{\"marker\": {\"colorbar\": {\"outlinewidth\": 0, \"ticks\": \"\"}}, \"type\": \"histogram\"}], \"histogram2d\": [{\"colorbar\": {\"outlinewidth\": 0, \"ticks\": \"\"}, \"colorscale\": [[0.0, \"#0d0887\"], [0.1111111111111111, \"#46039f\"], [0.2222222222222222, \"#7201a8\"], [0.3333333333333333, \"#9c179e\"], [0.4444444444444444, \"#bd3786\"], [0.5555555555555556, \"#d8576b\"], [0.6666666666666666, \"#ed7953\"], [0.7777777777777778, \"#fb9f3a\"], [0.8888888888888888, \"#fdca26\"], [1.0, \"#f0f921\"]], \"type\": \"histogram2d\"}], \"histogram2dcontour\": [{\"colorbar\": {\"outlinewidth\": 0, \"ticks\": \"\"}, \"colorscale\": [[0.0, \"#0d0887\"], [0.1111111111111111, \"#46039f\"], [0.2222222222222222, \"#7201a8\"], [0.3333333333333333, \"#9c179e\"], [0.4444444444444444, \"#bd3786\"], [0.5555555555555556, \"#d8576b\"], [0.6666666666666666, \"#ed7953\"], [0.7777777777777778, \"#fb9f3a\"], [0.8888888888888888, \"#fdca26\"], [1.0, \"#f0f921\"]], \"type\": \"histogram2dcontour\"}], \"mesh3d\": [{\"colorbar\": {\"outlinewidth\": 0, \"ticks\": \"\"}, \"type\": \"mesh3d\"}], \"parcoords\": [{\"line\": {\"colorbar\": {\"outlinewidth\": 0, \"ticks\": \"\"}}, \"type\": \"parcoords\"}], \"pie\": [{\"automargin\": true, \"type\": \"pie\"}], \"scatter\": [{\"marker\": {\"colorbar\": {\"outlinewidth\": 0, \"ticks\": \"\"}}, \"type\": \"scatter\"}], \"scatter3d\": [{\"line\": {\"colorbar\": {\"outlinewidth\": 0, \"ticks\": \"\"}}, \"marker\": {\"colorbar\": {\"outlinewidth\": 0, \"ticks\": \"\"}}, \"type\": \"scatter3d\"}], \"scattercarpet\": [{\"marker\": {\"colorbar\": {\"outlinewidth\": 0, \"ticks\": \"\"}}, \"type\": \"scattercarpet\"}], \"scattergeo\": [{\"marker\": {\"colorbar\": {\"outlinewidth\": 0, \"ticks\": \"\"}}, \"type\": \"scattergeo\"}], \"scattergl\": [{\"marker\": {\"colorbar\": {\"outlinewidth\": 0, \"ticks\": \"\"}}, \"type\": \"scattergl\"}], \"scattermapbox\": [{\"marker\": {\"colorbar\": {\"outlinewidth\": 0, \"ticks\": \"\"}}, \"type\": \"scattermapbox\"}], \"scatterpolar\": [{\"marker\": {\"colorbar\": {\"outlinewidth\": 0, \"ticks\": \"\"}}, \"type\": \"scatterpolar\"}], \"scatterpolargl\": [{\"marker\": {\"colorbar\": {\"outlinewidth\": 0, \"ticks\": \"\"}}, \"type\": \"scatterpolargl\"}], \"scatterternary\": [{\"marker\": {\"colorbar\": {\"outlinewidth\": 0, \"ticks\": \"\"}}, \"type\": \"scatterternary\"}], \"surface\": [{\"colorbar\": {\"outlinewidth\": 0, \"ticks\": \"\"}, \"colorscale\": [[0.0, \"#0d0887\"], [0.1111111111111111, \"#46039f\"], [0.2222222222222222, \"#7201a8\"], [0.3333333333333333, \"#9c179e\"], [0.4444444444444444, \"#bd3786\"], [0.5555555555555556, \"#d8576b\"], [0.6666666666666666, \"#ed7953\"], [0.7777777777777778, \"#fb9f3a\"], [0.8888888888888888, \"#fdca26\"], [1.0, \"#f0f921\"]], \"type\": \"surface\"}], \"table\": [{\"cells\": {\"fill\": {\"color\": \"#EBF0F8\"}, \"line\": {\"color\": \"white\"}}, \"header\": {\"fill\": {\"color\": \"#C8D4E3\"}, \"line\": {\"color\": \"white\"}}, \"type\": \"table\"}]}, \"layout\": {\"annotationdefaults\": {\"arrowcolor\": \"#2a3f5f\", \"arrowhead\": 0, \"arrowwidth\": 1}, \"autotypenumbers\": \"strict\", \"coloraxis\": {\"colorbar\": {\"outlinewidth\": 0, \"ticks\": \"\"}}, \"colorscale\": {\"diverging\": [[0, \"#8e0152\"], [0.1, \"#c51b7d\"], [0.2, \"#de77ae\"], [0.3, \"#f1b6da\"], [0.4, \"#fde0ef\"], [0.5, \"#f7f7f7\"], [0.6, \"#e6f5d0\"], [0.7, \"#b8e186\"], [0.8, \"#7fbc41\"], [0.9, \"#4d9221\"], [1, \"#276419\"]], \"sequential\": [[0.0, \"#0d0887\"], [0.1111111111111111, \"#46039f\"], [0.2222222222222222, \"#7201a8\"], [0.3333333333333333, \"#9c179e\"], [0.4444444444444444, \"#bd3786\"], [0.5555555555555556, \"#d8576b\"], [0.6666666666666666, \"#ed7953\"], [0.7777777777777778, \"#fb9f3a\"], [0.8888888888888888, \"#fdca26\"], [1.0, \"#f0f921\"]], \"sequentialminus\": [[0.0, \"#0d0887\"], [0.1111111111111111, \"#46039f\"], [0.2222222222222222, \"#7201a8\"], [0.3333333333333333, \"#9c179e\"], [0.4444444444444444, \"#bd3786\"], [0.5555555555555556, \"#d8576b\"], [0.6666666666666666, \"#ed7953\"], [0.7777777777777778, \"#fb9f3a\"], [0.8888888888888888, \"#fdca26\"], [1.0, \"#f0f921\"]]}, \"colorway\": [\"#636efa\", \"#EF553B\", \"#00cc96\", \"#ab63fa\", \"#FFA15A\", \"#19d3f3\", \"#FF6692\", \"#B6E880\", \"#FF97FF\", \"#FECB52\"], \"font\": {\"color\": \"#2a3f5f\"}, \"geo\": {\"bgcolor\": \"white\", \"lakecolor\": \"white\", \"landcolor\": \"#E5ECF6\", \"showlakes\": true, \"showland\": true, \"subunitcolor\": \"white\"}, \"hoverlabel\": {\"align\": \"left\"}, \"hovermode\": \"closest\", \"mapbox\": {\"style\": \"light\"}, \"paper_bgcolor\": \"white\", \"plot_bgcolor\": \"#E5ECF6\", \"polar\": {\"angularaxis\": {\"gridcolor\": \"white\", \"linecolor\": \"white\", \"ticks\": \"\"}, \"bgcolor\": \"#E5ECF6\", \"radialaxis\": {\"gridcolor\": \"white\", \"linecolor\": \"white\", \"ticks\": \"\"}}, \"scene\": {\"xaxis\": {\"backgroundcolor\": \"#E5ECF6\", \"gridcolor\": \"white\", \"gridwidth\": 2, \"linecolor\": \"white\", \"showbackground\": true, \"ticks\": \"\", \"zerolinecolor\": \"white\"}, \"yaxis\": {\"backgroundcolor\": \"#E5ECF6\", \"gridcolor\": \"white\", \"gridwidth\": 2, \"linecolor\": \"white\", \"showbackground\": true, \"ticks\": \"\", \"zerolinecolor\": \"white\"}, \"zaxis\": {\"backgroundcolor\": \"#E5ECF6\", \"gridcolor\": \"white\", \"gridwidth\": 2, \"linecolor\": \"white\", \"showbackground\": true, \"ticks\": \"\", \"zerolinecolor\": \"white\"}}, \"shapedefaults\": {\"line\": {\"color\": \"#2a3f5f\"}}, \"ternary\": {\"aaxis\": {\"gridcolor\": \"white\", \"linecolor\": \"white\", \"ticks\": \"\"}, \"baxis\": {\"gridcolor\": \"white\", \"linecolor\": \"white\", \"ticks\": \"\"}, \"bgcolor\": \"#E5ECF6\", \"caxis\": {\"gridcolor\": \"white\", \"linecolor\": \"white\", \"ticks\": \"\"}}, \"title\": {\"x\": 0.05}, \"xaxis\": {\"automargin\": true, \"gridcolor\": \"white\", \"linecolor\": \"white\", \"ticks\": \"\", \"title\": {\"standoff\": 15}, \"zerolinecolor\": \"white\", \"zerolinewidth\": 2}, \"yaxis\": {\"automargin\": true, \"gridcolor\": \"white\", \"linecolor\": \"white\", \"ticks\": \"\", \"title\": {\"standoff\": 15}, \"zerolinecolor\": \"white\", \"zerolinewidth\": 2}}}, \"xaxis\": {\"anchor\": \"y\", \"domain\": [0.0, 1.0], \"title\": {\"text\": \"oldpeak\"}}, \"yaxis\": {\"anchor\": \"x\", \"domain\": [0.0, 1.0], \"title\": {\"text\": \"age\"}}},                        {\"responsive\": true}                    ).then(function(){\n",
       "                            \n",
       "var gd = document.getElementById('9d307a28-ccf2-4bd4-bcf4-a8bb8823de6e');\n",
       "var x = new MutationObserver(function (mutations, observer) {{\n",
       "        var display = window.getComputedStyle(gd).display;\n",
       "        if (!display || display === 'none') {{\n",
       "            console.log([gd, 'removed!']);\n",
       "            Plotly.purge(gd);\n",
       "            observer.disconnect();\n",
       "        }}\n",
       "}});\n",
       "\n",
       "// Listen for the removal of the full notebook cells\n",
       "var notebookContainer = gd.closest('#notebook-container');\n",
       "if (notebookContainer) {{\n",
       "    x.observe(notebookContainer, {childList: true});\n",
       "}}\n",
       "\n",
       "// Listen for the clearing of the current output cell\n",
       "var outputEl = gd.closest('.output');\n",
       "if (outputEl) {{\n",
       "    x.observe(outputEl, {childList: true});\n",
       "}}\n",
       "\n",
       "                        })                };                });            </script>        </div>"
      ]
     },
     "metadata": {},
     "output_type": "display_data"
    }
   ],
   "source": [
    "px.funnel(df, x='oldpeak', y='age')"
   ]
  },
  {
   "cell_type": "code",
   "execution_count": 24,
   "id": "complimentary-worry",
   "metadata": {
    "execution": {
     "iopub.execute_input": "2021-08-29T13:20:04.172389Z",
     "iopub.status.busy": "2021-08-29T13:20:04.167525Z",
     "iopub.status.idle": "2021-08-29T13:20:04.175958Z",
     "shell.execute_reply": "2021-08-29T13:20:04.176531Z",
     "shell.execute_reply.started": "2021-08-29T12:28:47.285333Z"
    },
    "papermill": {
     "duration": 0.088708,
     "end_time": "2021-08-29T13:20:04.176714",
     "exception": false,
     "start_time": "2021-08-29T13:20:04.088006",
     "status": "completed"
    },
    "tags": []
   },
   "outputs": [
    {
     "data": {
      "text/html": [
       "<div>\n",
       "<style scoped>\n",
       "    .dataframe tbody tr th:only-of-type {\n",
       "        vertical-align: middle;\n",
       "    }\n",
       "\n",
       "    .dataframe tbody tr th {\n",
       "        vertical-align: top;\n",
       "    }\n",
       "\n",
       "    .dataframe thead th {\n",
       "        text-align: right;\n",
       "    }\n",
       "</style>\n",
       "<table border=\"1\" class=\"dataframe\">\n",
       "  <thead>\n",
       "    <tr style=\"text-align: right;\">\n",
       "      <th></th>\n",
       "      <th>age</th>\n",
       "      <th>sex</th>\n",
       "      <th>cp</th>\n",
       "      <th>trtbps</th>\n",
       "      <th>chol</th>\n",
       "      <th>fbs</th>\n",
       "      <th>restecg</th>\n",
       "      <th>thalachh</th>\n",
       "      <th>exng</th>\n",
       "      <th>oldpeak</th>\n",
       "      <th>slp</th>\n",
       "      <th>caa</th>\n",
       "      <th>thall</th>\n",
       "      <th>output</th>\n",
       "    </tr>\n",
       "  </thead>\n",
       "  <tbody>\n",
       "    <tr>\n",
       "      <th>0</th>\n",
       "      <td>63</td>\n",
       "      <td>1</td>\n",
       "      <td>3</td>\n",
       "      <td>145</td>\n",
       "      <td>233</td>\n",
       "      <td>1</td>\n",
       "      <td>0</td>\n",
       "      <td>150</td>\n",
       "      <td>0</td>\n",
       "      <td>2.3</td>\n",
       "      <td>0</td>\n",
       "      <td>0</td>\n",
       "      <td>1</td>\n",
       "      <td>1</td>\n",
       "    </tr>\n",
       "  </tbody>\n",
       "</table>\n",
       "</div>"
      ],
      "text/plain": [
       "   age  sex  cp  trtbps  chol  fbs  restecg  thalachh  exng  oldpeak  slp  \\\n",
       "0   63    1   3     145   233    1        0       150     0      2.3    0   \n",
       "\n",
       "   caa  thall  output  \n",
       "0    0      1       1  "
      ]
     },
     "execution_count": 24,
     "metadata": {},
     "output_type": "execute_result"
    }
   ],
   "source": [
    "df.head(1)"
   ]
  },
  {
   "cell_type": "code",
   "execution_count": 25,
   "id": "mental-exhibition",
   "metadata": {
    "execution": {
     "iopub.execute_input": "2021-08-29T13:20:04.325319Z",
     "iopub.status.busy": "2021-08-29T13:20:04.324609Z",
     "iopub.status.idle": "2021-08-29T13:20:04.435644Z",
     "shell.execute_reply": "2021-08-29T13:20:04.435133Z",
     "shell.execute_reply.started": "2021-08-29T12:21:30.531252Z"
    },
    "papermill": {
     "duration": 0.187574,
     "end_time": "2021-08-29T13:20:04.435786",
     "exception": false,
     "start_time": "2021-08-29T13:20:04.248212",
     "status": "completed"
    },
    "tags": []
   },
   "outputs": [
    {
     "data": {
      "text/html": [
       "<div>                            <div id=\"7ba9498d-11c1-4ff4-bff8-0b74a4c26f00\" class=\"plotly-graph-div\" style=\"height:525px; width:100%;\"></div>            <script type=\"text/javascript\">                require([\"plotly\"], function(Plotly) {                    window.PLOTLYENV=window.PLOTLYENV || {};                                    if (document.getElementById(\"7ba9498d-11c1-4ff4-bff8-0b74a4c26f00\")) {                    Plotly.newPlot(                        \"7ba9498d-11c1-4ff4-bff8-0b74a4c26f00\",                        [{\"a\": [145, 130, 130, 120, 120, 140, 140, 120, 172, 150, 140, 130, 130, 110, 150, 120, 120, 150, 150, 140, 135, 130, 140, 150, 140, 160, 150, 110, 140, 130, 105, 120, 130, 125, 125, 142, 135, 150, 155, 160, 140, 130, 104, 130, 140, 120, 140, 138, 128, 138, 130, 120, 130, 108, 135, 134, 122, 115, 118, 128, 110, 108, 118, 135, 140, 138, 100, 130, 120, 124, 120, 94, 130, 140, 122, 135, 125, 140, 128, 105, 112, 128, 102, 152, 102, 115, 118, 101, 110, 100, 124, 132, 138, 132, 112, 142, 140, 108, 130, 130, 148, 178, 140, 120, 129, 120, 160, 138, 120, 110, 180, 150, 140, 110, 130, 120, 130, 120, 105, 138, 130, 138, 112, 108, 94, 118, 112, 152, 136, 120, 160, 134, 120, 110, 126, 130, 120, 128, 110, 128, 120, 115, 120, 106, 140, 156, 118, 150, 120, 130, 160, 112, 170, 146, 138, 130, 130, 122, 125, 130, 120, 132, 120, 138, 138, 160, 120, 140, 130, 140, 130, 110, 120, 132, 130, 110, 117, 140, 120, 150, 132, 150, 130, 112, 150, 112, 130, 124, 140, 110, 130, 128, 120, 145, 140, 170, 150, 125, 120, 110, 110, 125, 150, 180, 160, 128, 110, 150, 120, 140, 128, 120, 118, 145, 125, 132, 130, 130, 135, 130, 150, 140, 138, 200, 110, 145, 120, 120, 170, 125, 108, 165, 160, 120, 130, 140, 125, 140, 125, 126, 160, 174, 145, 152, 132, 124, 134, 160, 192, 140, 140, 132, 138, 100, 160, 142, 128, 144, 150, 120, 178, 112, 123, 108, 110, 112, 180, 118, 122, 130, 120, 134, 120, 100, 110, 125, 146, 124, 136, 138, 136, 128, 126, 152, 140, 140, 134, 154, 110, 128, 148, 114, 170, 152, 120, 140, 124, 164, 140, 110, 144, 130, 130], \"b\": [63, 37, 41, 56, 57, 57, 56, 44, 52, 57, 54, 48, 49, 64, 58, 50, 58, 66, 43, 69, 59, 44, 42, 61, 40, 71, 59, 51, 65, 53, 41, 65, 44, 54, 51, 46, 54, 54, 65, 65, 51, 48, 45, 53, 39, 52, 44, 47, 53, 53, 51, 66, 62, 44, 63, 52, 48, 45, 34, 57, 71, 54, 52, 41, 58, 35, 51, 45, 44, 62, 54, 51, 29, 51, 43, 55, 51, 59, 52, 58, 41, 45, 60, 52, 42, 67, 68, 46, 54, 58, 48, 57, 52, 54, 45, 53, 62, 52, 43, 53, 42, 59, 63, 42, 50, 68, 69, 45, 50, 50, 64, 57, 64, 43, 55, 37, 41, 56, 46, 46, 64, 59, 41, 54, 39, 34, 47, 67, 52, 74, 54, 49, 42, 41, 41, 49, 60, 62, 57, 64, 51, 43, 42, 67, 76, 70, 44, 60, 44, 42, 66, 71, 64, 66, 39, 58, 47, 35, 58, 56, 56, 55, 41, 38, 38, 67, 67, 62, 63, 53, 56, 48, 58, 58, 60, 40, 60, 64, 43, 57, 55, 65, 61, 58, 50, 44, 60, 54, 50, 41, 51, 58, 54, 60, 60, 59, 46, 67, 62, 65, 44, 60, 58, 68, 62, 52, 59, 60, 49, 59, 57, 61, 39, 61, 56, 43, 62, 63, 65, 48, 63, 55, 65, 56, 54, 70, 62, 35, 59, 64, 47, 57, 55, 64, 70, 51, 58, 60, 77, 35, 70, 59, 64, 57, 56, 48, 56, 66, 54, 69, 51, 43, 62, 67, 59, 45, 58, 50, 62, 38, 66, 52, 53, 63, 54, 66, 55, 49, 54, 56, 46, 61, 67, 58, 47, 52, 58, 57, 58, 61, 42, 52, 59, 40, 61, 46, 59, 57, 57, 55, 61, 58, 58, 67, 44, 63, 63, 59, 57, 45, 68, 57, 57], \"c\": [150, 187, 172, 178, 163, 148, 153, 173, 162, 174, 160, 139, 171, 144, 162, 158, 172, 114, 171, 151, 161, 179, 178, 137, 178, 162, 157, 123, 157, 152, 168, 140, 188, 152, 125, 160, 170, 165, 148, 151, 142, 180, 148, 143, 182, 172, 180, 156, 115, 160, 149, 151, 146, 175, 172, 158, 186, 185, 174, 159, 130, 156, 190, 132, 165, 182, 143, 175, 170, 163, 147, 154, 202, 186, 165, 161, 166, 164, 184, 154, 179, 170, 160, 178, 122, 160, 151, 156, 158, 122, 175, 168, 169, 159, 138, 111, 157, 147, 162, 173, 178, 145, 179, 194, 163, 115, 131, 152, 162, 159, 154, 173, 133, 161, 155, 170, 168, 162, 172, 152, 122, 182, 172, 167, 179, 192, 143, 172, 169, 121, 163, 162, 162, 153, 163, 163, 96, 140, 126, 105, 157, 181, 173, 142, 116, 143, 149, 171, 169, 150, 138, 125, 155, 152, 152, 131, 179, 174, 144, 163, 169, 166, 182, 173, 173, 108, 129, 160, 147, 155, 142, 168, 160, 173, 132, 114, 160, 158, 120, 112, 132, 114, 169, 165, 128, 153, 144, 109, 163, 158, 142, 131, 113, 142, 155, 140, 147, 163, 99, 158, 177, 141, 111, 150, 145, 161, 142, 157, 139, 162, 150, 140, 140, 146, 144, 136, 97, 132, 127, 150, 154, 111, 174, 133, 126, 125, 103, 130, 159, 131, 152, 124, 145, 96, 109, 173, 171, 170, 162, 156, 112, 143, 132, 88, 105, 166, 150, 120, 195, 146, 122, 143, 106, 125, 125, 147, 130, 126, 154, 182, 165, 160, 95, 169, 108, 132, 117, 126, 116, 103, 144, 145, 71, 156, 118, 168, 105, 141, 152, 125, 125, 156, 134, 181, 138, 120, 162, 164, 143, 130, 161, 140, 146, 150, 144, 144, 136, 90, 123, 132, 141, 115, 174], \"hovertemplate\": \"trtbps=%{a}<br>age=%{b}<br>thalachh=%{c}<extra></extra>\", \"legendgroup\": \"\", \"marker\": {\"color\": \"#636efa\", \"symbol\": \"circle\"}, \"mode\": \"markers\", \"name\": \"\", \"showlegend\": false, \"subplot\": \"ternary\", \"type\": \"scatterternary\"}],                        {\"legend\": {\"tracegroupgap\": 0}, \"margin\": {\"t\": 60}, \"template\": {\"data\": {\"bar\": [{\"error_x\": {\"color\": \"#2a3f5f\"}, \"error_y\": {\"color\": \"#2a3f5f\"}, \"marker\": {\"line\": {\"color\": \"#E5ECF6\", \"width\": 0.5}}, \"type\": \"bar\"}], \"barpolar\": [{\"marker\": {\"line\": {\"color\": \"#E5ECF6\", \"width\": 0.5}}, \"type\": \"barpolar\"}], \"carpet\": [{\"aaxis\": {\"endlinecolor\": \"#2a3f5f\", \"gridcolor\": \"white\", \"linecolor\": \"white\", \"minorgridcolor\": \"white\", \"startlinecolor\": \"#2a3f5f\"}, \"baxis\": {\"endlinecolor\": \"#2a3f5f\", \"gridcolor\": \"white\", \"linecolor\": \"white\", \"minorgridcolor\": \"white\", \"startlinecolor\": \"#2a3f5f\"}, \"type\": \"carpet\"}], \"choropleth\": [{\"colorbar\": {\"outlinewidth\": 0, \"ticks\": \"\"}, \"type\": \"choropleth\"}], \"contour\": [{\"colorbar\": {\"outlinewidth\": 0, \"ticks\": \"\"}, \"colorscale\": [[0.0, \"#0d0887\"], [0.1111111111111111, \"#46039f\"], [0.2222222222222222, \"#7201a8\"], [0.3333333333333333, \"#9c179e\"], [0.4444444444444444, \"#bd3786\"], [0.5555555555555556, \"#d8576b\"], [0.6666666666666666, \"#ed7953\"], [0.7777777777777778, \"#fb9f3a\"], [0.8888888888888888, \"#fdca26\"], [1.0, \"#f0f921\"]], \"type\": \"contour\"}], \"contourcarpet\": [{\"colorbar\": {\"outlinewidth\": 0, \"ticks\": \"\"}, \"type\": \"contourcarpet\"}], \"heatmap\": [{\"colorbar\": {\"outlinewidth\": 0, \"ticks\": \"\"}, \"colorscale\": [[0.0, \"#0d0887\"], [0.1111111111111111, \"#46039f\"], [0.2222222222222222, \"#7201a8\"], [0.3333333333333333, \"#9c179e\"], [0.4444444444444444, \"#bd3786\"], [0.5555555555555556, \"#d8576b\"], [0.6666666666666666, \"#ed7953\"], [0.7777777777777778, \"#fb9f3a\"], [0.8888888888888888, \"#fdca26\"], [1.0, \"#f0f921\"]], \"type\": \"heatmap\"}], \"heatmapgl\": [{\"colorbar\": {\"outlinewidth\": 0, \"ticks\": \"\"}, \"colorscale\": [[0.0, \"#0d0887\"], [0.1111111111111111, \"#46039f\"], [0.2222222222222222, \"#7201a8\"], [0.3333333333333333, \"#9c179e\"], [0.4444444444444444, \"#bd3786\"], [0.5555555555555556, \"#d8576b\"], [0.6666666666666666, \"#ed7953\"], [0.7777777777777778, \"#fb9f3a\"], [0.8888888888888888, \"#fdca26\"], [1.0, \"#f0f921\"]], \"type\": \"heatmapgl\"}], \"histogram\": [{\"marker\": {\"colorbar\": {\"outlinewidth\": 0, \"ticks\": \"\"}}, \"type\": \"histogram\"}], \"histogram2d\": [{\"colorbar\": {\"outlinewidth\": 0, \"ticks\": \"\"}, \"colorscale\": [[0.0, \"#0d0887\"], [0.1111111111111111, \"#46039f\"], [0.2222222222222222, \"#7201a8\"], [0.3333333333333333, \"#9c179e\"], [0.4444444444444444, \"#bd3786\"], [0.5555555555555556, \"#d8576b\"], [0.6666666666666666, \"#ed7953\"], [0.7777777777777778, \"#fb9f3a\"], [0.8888888888888888, \"#fdca26\"], [1.0, \"#f0f921\"]], \"type\": \"histogram2d\"}], \"histogram2dcontour\": [{\"colorbar\": {\"outlinewidth\": 0, \"ticks\": \"\"}, \"colorscale\": [[0.0, \"#0d0887\"], [0.1111111111111111, \"#46039f\"], [0.2222222222222222, \"#7201a8\"], [0.3333333333333333, \"#9c179e\"], [0.4444444444444444, \"#bd3786\"], [0.5555555555555556, \"#d8576b\"], [0.6666666666666666, \"#ed7953\"], [0.7777777777777778, \"#fb9f3a\"], [0.8888888888888888, \"#fdca26\"], [1.0, \"#f0f921\"]], \"type\": \"histogram2dcontour\"}], \"mesh3d\": [{\"colorbar\": {\"outlinewidth\": 0, \"ticks\": \"\"}, \"type\": \"mesh3d\"}], \"parcoords\": [{\"line\": {\"colorbar\": {\"outlinewidth\": 0, \"ticks\": \"\"}}, \"type\": \"parcoords\"}], \"pie\": [{\"automargin\": true, \"type\": \"pie\"}], \"scatter\": [{\"marker\": {\"colorbar\": {\"outlinewidth\": 0, \"ticks\": \"\"}}, \"type\": \"scatter\"}], \"scatter3d\": [{\"line\": {\"colorbar\": {\"outlinewidth\": 0, \"ticks\": \"\"}}, \"marker\": {\"colorbar\": {\"outlinewidth\": 0, \"ticks\": \"\"}}, \"type\": \"scatter3d\"}], \"scattercarpet\": [{\"marker\": {\"colorbar\": {\"outlinewidth\": 0, \"ticks\": \"\"}}, \"type\": \"scattercarpet\"}], \"scattergeo\": [{\"marker\": {\"colorbar\": {\"outlinewidth\": 0, \"ticks\": \"\"}}, \"type\": \"scattergeo\"}], \"scattergl\": [{\"marker\": {\"colorbar\": {\"outlinewidth\": 0, \"ticks\": \"\"}}, \"type\": \"scattergl\"}], \"scattermapbox\": [{\"marker\": {\"colorbar\": {\"outlinewidth\": 0, \"ticks\": \"\"}}, \"type\": \"scattermapbox\"}], \"scatterpolar\": [{\"marker\": {\"colorbar\": {\"outlinewidth\": 0, \"ticks\": \"\"}}, \"type\": \"scatterpolar\"}], \"scatterpolargl\": [{\"marker\": {\"colorbar\": {\"outlinewidth\": 0, \"ticks\": \"\"}}, \"type\": \"scatterpolargl\"}], \"scatterternary\": [{\"marker\": {\"colorbar\": {\"outlinewidth\": 0, \"ticks\": \"\"}}, \"type\": \"scatterternary\"}], \"surface\": [{\"colorbar\": {\"outlinewidth\": 0, \"ticks\": \"\"}, \"colorscale\": [[0.0, \"#0d0887\"], [0.1111111111111111, \"#46039f\"], [0.2222222222222222, \"#7201a8\"], [0.3333333333333333, \"#9c179e\"], [0.4444444444444444, \"#bd3786\"], [0.5555555555555556, \"#d8576b\"], [0.6666666666666666, \"#ed7953\"], [0.7777777777777778, \"#fb9f3a\"], [0.8888888888888888, \"#fdca26\"], [1.0, \"#f0f921\"]], \"type\": \"surface\"}], \"table\": [{\"cells\": {\"fill\": {\"color\": \"#EBF0F8\"}, \"line\": {\"color\": \"white\"}}, \"header\": {\"fill\": {\"color\": \"#C8D4E3\"}, \"line\": {\"color\": \"white\"}}, \"type\": \"table\"}]}, \"layout\": {\"annotationdefaults\": {\"arrowcolor\": \"#2a3f5f\", \"arrowhead\": 0, \"arrowwidth\": 1}, \"autotypenumbers\": \"strict\", \"coloraxis\": {\"colorbar\": {\"outlinewidth\": 0, \"ticks\": \"\"}}, \"colorscale\": {\"diverging\": [[0, \"#8e0152\"], [0.1, \"#c51b7d\"], [0.2, \"#de77ae\"], [0.3, \"#f1b6da\"], [0.4, \"#fde0ef\"], [0.5, \"#f7f7f7\"], [0.6, \"#e6f5d0\"], [0.7, \"#b8e186\"], [0.8, \"#7fbc41\"], [0.9, \"#4d9221\"], [1, \"#276419\"]], \"sequential\": [[0.0, \"#0d0887\"], [0.1111111111111111, \"#46039f\"], [0.2222222222222222, \"#7201a8\"], [0.3333333333333333, \"#9c179e\"], [0.4444444444444444, \"#bd3786\"], [0.5555555555555556, \"#d8576b\"], [0.6666666666666666, \"#ed7953\"], [0.7777777777777778, \"#fb9f3a\"], [0.8888888888888888, \"#fdca26\"], [1.0, \"#f0f921\"]], \"sequentialminus\": [[0.0, \"#0d0887\"], [0.1111111111111111, \"#46039f\"], [0.2222222222222222, \"#7201a8\"], [0.3333333333333333, \"#9c179e\"], [0.4444444444444444, \"#bd3786\"], [0.5555555555555556, \"#d8576b\"], [0.6666666666666666, \"#ed7953\"], [0.7777777777777778, \"#fb9f3a\"], [0.8888888888888888, \"#fdca26\"], [1.0, \"#f0f921\"]]}, \"colorway\": [\"#636efa\", \"#EF553B\", \"#00cc96\", \"#ab63fa\", \"#FFA15A\", \"#19d3f3\", \"#FF6692\", \"#B6E880\", \"#FF97FF\", \"#FECB52\"], \"font\": {\"color\": \"#2a3f5f\"}, \"geo\": {\"bgcolor\": \"white\", \"lakecolor\": \"white\", \"landcolor\": \"#E5ECF6\", \"showlakes\": true, \"showland\": true, \"subunitcolor\": \"white\"}, \"hoverlabel\": {\"align\": \"left\"}, \"hovermode\": \"closest\", \"mapbox\": {\"style\": \"light\"}, \"paper_bgcolor\": \"white\", \"plot_bgcolor\": \"#E5ECF6\", \"polar\": {\"angularaxis\": {\"gridcolor\": \"white\", \"linecolor\": \"white\", \"ticks\": \"\"}, \"bgcolor\": \"#E5ECF6\", \"radialaxis\": {\"gridcolor\": \"white\", \"linecolor\": \"white\", \"ticks\": \"\"}}, \"scene\": {\"xaxis\": {\"backgroundcolor\": \"#E5ECF6\", \"gridcolor\": \"white\", \"gridwidth\": 2, \"linecolor\": \"white\", \"showbackground\": true, \"ticks\": \"\", \"zerolinecolor\": \"white\"}, \"yaxis\": {\"backgroundcolor\": \"#E5ECF6\", \"gridcolor\": \"white\", \"gridwidth\": 2, \"linecolor\": \"white\", \"showbackground\": true, \"ticks\": \"\", \"zerolinecolor\": \"white\"}, \"zaxis\": {\"backgroundcolor\": \"#E5ECF6\", \"gridcolor\": \"white\", \"gridwidth\": 2, \"linecolor\": \"white\", \"showbackground\": true, \"ticks\": \"\", \"zerolinecolor\": \"white\"}}, \"shapedefaults\": {\"line\": {\"color\": \"#2a3f5f\"}}, \"ternary\": {\"aaxis\": {\"gridcolor\": \"white\", \"linecolor\": \"white\", \"ticks\": \"\"}, \"baxis\": {\"gridcolor\": \"white\", \"linecolor\": \"white\", \"ticks\": \"\"}, \"bgcolor\": \"#E5ECF6\", \"caxis\": {\"gridcolor\": \"white\", \"linecolor\": \"white\", \"ticks\": \"\"}}, \"title\": {\"x\": 0.05}, \"xaxis\": {\"automargin\": true, \"gridcolor\": \"white\", \"linecolor\": \"white\", \"ticks\": \"\", \"title\": {\"standoff\": 15}, \"zerolinecolor\": \"white\", \"zerolinewidth\": 2}, \"yaxis\": {\"automargin\": true, \"gridcolor\": \"white\", \"linecolor\": \"white\", \"ticks\": \"\", \"title\": {\"standoff\": 15}, \"zerolinecolor\": \"white\", \"zerolinewidth\": 2}}}, \"ternary\": {\"aaxis\": {\"title\": {\"text\": \"trtbps\"}}, \"baxis\": {\"title\": {\"text\": \"age\"}}, \"caxis\": {\"title\": {\"text\": \"thalachh\"}}, \"domain\": {\"x\": [0.0, 1.0], \"y\": [0.0, 1.0]}}},                        {\"responsive\": true}                    ).then(function(){\n",
       "                            \n",
       "var gd = document.getElementById('7ba9498d-11c1-4ff4-bff8-0b74a4c26f00');\n",
       "var x = new MutationObserver(function (mutations, observer) {{\n",
       "        var display = window.getComputedStyle(gd).display;\n",
       "        if (!display || display === 'none') {{\n",
       "            console.log([gd, 'removed!']);\n",
       "            Plotly.purge(gd);\n",
       "            observer.disconnect();\n",
       "        }}\n",
       "}});\n",
       "\n",
       "// Listen for the removal of the full notebook cells\n",
       "var notebookContainer = gd.closest('#notebook-container');\n",
       "if (notebookContainer) {{\n",
       "    x.observe(notebookContainer, {childList: true});\n",
       "}}\n",
       "\n",
       "// Listen for the clearing of the current output cell\n",
       "var outputEl = gd.closest('.output');\n",
       "if (outputEl) {{\n",
       "    x.observe(outputEl, {childList: true});\n",
       "}}\n",
       "\n",
       "                        })                };                });            </script>        </div>"
      ]
     },
     "metadata": {},
     "output_type": "display_data"
    }
   ],
   "source": [
    "px.scatter_ternary(df, a=\"trtbps\", b=\"age\", c=\"thalachh\")"
   ]
  },
  {
   "cell_type": "markdown",
   "id": "compressed-classification",
   "metadata": {
    "papermill": {
     "duration": 0.073036,
     "end_time": "2021-08-29T13:20:04.582350",
     "exception": false,
     "start_time": "2021-08-29T13:20:04.509314",
     "status": "completed"
    },
    "tags": []
   },
   "source": [
    "#### using ML algo to pred\n"
   ]
  },
  {
   "cell_type": "code",
   "execution_count": 26,
   "id": "great-framework",
   "metadata": {
    "execution": {
     "iopub.execute_input": "2021-08-29T13:20:04.735293Z",
     "iopub.status.busy": "2021-08-29T13:20:04.734257Z",
     "iopub.status.idle": "2021-08-29T13:20:04.737933Z",
     "shell.execute_reply": "2021-08-29T13:20:04.737381Z",
     "shell.execute_reply.started": "2021-08-29T12:31:18.130470Z"
    },
    "papermill": {
     "duration": 0.083088,
     "end_time": "2021-08-29T13:20:04.738116",
     "exception": false,
     "start_time": "2021-08-29T13:20:04.655028",
     "status": "completed"
    },
    "tags": []
   },
   "outputs": [],
   "source": [
    "X = df.iloc[:, :-1]\n",
    "y = df.iloc[:, -1]"
   ]
  },
  {
   "cell_type": "code",
   "execution_count": 27,
   "id": "piano-excuse",
   "metadata": {
    "execution": {
     "iopub.execute_input": "2021-08-29T13:20:04.905290Z",
     "iopub.status.busy": "2021-08-29T13:20:04.904548Z",
     "iopub.status.idle": "2021-08-29T13:20:04.908697Z",
     "shell.execute_reply": "2021-08-29T13:20:04.908045Z",
     "shell.execute_reply.started": "2021-08-29T12:31:20.494710Z"
    },
    "papermill": {
     "duration": 0.097421,
     "end_time": "2021-08-29T13:20:04.908846",
     "exception": false,
     "start_time": "2021-08-29T13:20:04.811425",
     "status": "completed"
    },
    "tags": []
   },
   "outputs": [
    {
     "data": {
      "text/html": [
       "<div>\n",
       "<style scoped>\n",
       "    .dataframe tbody tr th:only-of-type {\n",
       "        vertical-align: middle;\n",
       "    }\n",
       "\n",
       "    .dataframe tbody tr th {\n",
       "        vertical-align: top;\n",
       "    }\n",
       "\n",
       "    .dataframe thead th {\n",
       "        text-align: right;\n",
       "    }\n",
       "</style>\n",
       "<table border=\"1\" class=\"dataframe\">\n",
       "  <thead>\n",
       "    <tr style=\"text-align: right;\">\n",
       "      <th></th>\n",
       "      <th>age</th>\n",
       "      <th>sex</th>\n",
       "      <th>cp</th>\n",
       "      <th>trtbps</th>\n",
       "      <th>chol</th>\n",
       "      <th>fbs</th>\n",
       "      <th>restecg</th>\n",
       "      <th>thalachh</th>\n",
       "      <th>exng</th>\n",
       "      <th>oldpeak</th>\n",
       "      <th>slp</th>\n",
       "      <th>caa</th>\n",
       "      <th>thall</th>\n",
       "    </tr>\n",
       "  </thead>\n",
       "  <tbody>\n",
       "    <tr>\n",
       "      <th>0</th>\n",
       "      <td>63</td>\n",
       "      <td>1</td>\n",
       "      <td>3</td>\n",
       "      <td>145</td>\n",
       "      <td>233</td>\n",
       "      <td>1</td>\n",
       "      <td>0</td>\n",
       "      <td>150</td>\n",
       "      <td>0</td>\n",
       "      <td>2.3</td>\n",
       "      <td>0</td>\n",
       "      <td>0</td>\n",
       "      <td>1</td>\n",
       "    </tr>\n",
       "    <tr>\n",
       "      <th>1</th>\n",
       "      <td>37</td>\n",
       "      <td>1</td>\n",
       "      <td>2</td>\n",
       "      <td>130</td>\n",
       "      <td>250</td>\n",
       "      <td>0</td>\n",
       "      <td>1</td>\n",
       "      <td>187</td>\n",
       "      <td>0</td>\n",
       "      <td>3.5</td>\n",
       "      <td>0</td>\n",
       "      <td>0</td>\n",
       "      <td>2</td>\n",
       "    </tr>\n",
       "    <tr>\n",
       "      <th>2</th>\n",
       "      <td>41</td>\n",
       "      <td>0</td>\n",
       "      <td>1</td>\n",
       "      <td>130</td>\n",
       "      <td>204</td>\n",
       "      <td>0</td>\n",
       "      <td>0</td>\n",
       "      <td>172</td>\n",
       "      <td>0</td>\n",
       "      <td>1.4</td>\n",
       "      <td>2</td>\n",
       "      <td>0</td>\n",
       "      <td>2</td>\n",
       "    </tr>\n",
       "    <tr>\n",
       "      <th>3</th>\n",
       "      <td>56</td>\n",
       "      <td>1</td>\n",
       "      <td>1</td>\n",
       "      <td>120</td>\n",
       "      <td>236</td>\n",
       "      <td>0</td>\n",
       "      <td>1</td>\n",
       "      <td>178</td>\n",
       "      <td>0</td>\n",
       "      <td>0.8</td>\n",
       "      <td>2</td>\n",
       "      <td>0</td>\n",
       "      <td>2</td>\n",
       "    </tr>\n",
       "    <tr>\n",
       "      <th>4</th>\n",
       "      <td>57</td>\n",
       "      <td>0</td>\n",
       "      <td>0</td>\n",
       "      <td>120</td>\n",
       "      <td>354</td>\n",
       "      <td>0</td>\n",
       "      <td>1</td>\n",
       "      <td>163</td>\n",
       "      <td>1</td>\n",
       "      <td>0.6</td>\n",
       "      <td>2</td>\n",
       "      <td>0</td>\n",
       "      <td>2</td>\n",
       "    </tr>\n",
       "    <tr>\n",
       "      <th>...</th>\n",
       "      <td>...</td>\n",
       "      <td>...</td>\n",
       "      <td>...</td>\n",
       "      <td>...</td>\n",
       "      <td>...</td>\n",
       "      <td>...</td>\n",
       "      <td>...</td>\n",
       "      <td>...</td>\n",
       "      <td>...</td>\n",
       "      <td>...</td>\n",
       "      <td>...</td>\n",
       "      <td>...</td>\n",
       "      <td>...</td>\n",
       "    </tr>\n",
       "    <tr>\n",
       "      <th>298</th>\n",
       "      <td>57</td>\n",
       "      <td>0</td>\n",
       "      <td>0</td>\n",
       "      <td>140</td>\n",
       "      <td>241</td>\n",
       "      <td>0</td>\n",
       "      <td>1</td>\n",
       "      <td>123</td>\n",
       "      <td>1</td>\n",
       "      <td>0.2</td>\n",
       "      <td>1</td>\n",
       "      <td>0</td>\n",
       "      <td>3</td>\n",
       "    </tr>\n",
       "    <tr>\n",
       "      <th>299</th>\n",
       "      <td>45</td>\n",
       "      <td>1</td>\n",
       "      <td>3</td>\n",
       "      <td>110</td>\n",
       "      <td>264</td>\n",
       "      <td>0</td>\n",
       "      <td>1</td>\n",
       "      <td>132</td>\n",
       "      <td>0</td>\n",
       "      <td>1.2</td>\n",
       "      <td>1</td>\n",
       "      <td>0</td>\n",
       "      <td>3</td>\n",
       "    </tr>\n",
       "    <tr>\n",
       "      <th>300</th>\n",
       "      <td>68</td>\n",
       "      <td>1</td>\n",
       "      <td>0</td>\n",
       "      <td>144</td>\n",
       "      <td>193</td>\n",
       "      <td>1</td>\n",
       "      <td>1</td>\n",
       "      <td>141</td>\n",
       "      <td>0</td>\n",
       "      <td>3.4</td>\n",
       "      <td>1</td>\n",
       "      <td>2</td>\n",
       "      <td>3</td>\n",
       "    </tr>\n",
       "    <tr>\n",
       "      <th>301</th>\n",
       "      <td>57</td>\n",
       "      <td>1</td>\n",
       "      <td>0</td>\n",
       "      <td>130</td>\n",
       "      <td>131</td>\n",
       "      <td>0</td>\n",
       "      <td>1</td>\n",
       "      <td>115</td>\n",
       "      <td>1</td>\n",
       "      <td>1.2</td>\n",
       "      <td>1</td>\n",
       "      <td>1</td>\n",
       "      <td>3</td>\n",
       "    </tr>\n",
       "    <tr>\n",
       "      <th>302</th>\n",
       "      <td>57</td>\n",
       "      <td>0</td>\n",
       "      <td>1</td>\n",
       "      <td>130</td>\n",
       "      <td>236</td>\n",
       "      <td>0</td>\n",
       "      <td>0</td>\n",
       "      <td>174</td>\n",
       "      <td>0</td>\n",
       "      <td>0.0</td>\n",
       "      <td>1</td>\n",
       "      <td>1</td>\n",
       "      <td>2</td>\n",
       "    </tr>\n",
       "  </tbody>\n",
       "</table>\n",
       "<p>303 rows × 13 columns</p>\n",
       "</div>"
      ],
      "text/plain": [
       "     age  sex  cp  trtbps  chol  fbs  restecg  thalachh  exng  oldpeak  slp  \\\n",
       "0     63    1   3     145   233    1        0       150     0      2.3    0   \n",
       "1     37    1   2     130   250    0        1       187     0      3.5    0   \n",
       "2     41    0   1     130   204    0        0       172     0      1.4    2   \n",
       "3     56    1   1     120   236    0        1       178     0      0.8    2   \n",
       "4     57    0   0     120   354    0        1       163     1      0.6    2   \n",
       "..   ...  ...  ..     ...   ...  ...      ...       ...   ...      ...  ...   \n",
       "298   57    0   0     140   241    0        1       123     1      0.2    1   \n",
       "299   45    1   3     110   264    0        1       132     0      1.2    1   \n",
       "300   68    1   0     144   193    1        1       141     0      3.4    1   \n",
       "301   57    1   0     130   131    0        1       115     1      1.2    1   \n",
       "302   57    0   1     130   236    0        0       174     0      0.0    1   \n",
       "\n",
       "     caa  thall  \n",
       "0      0      1  \n",
       "1      0      2  \n",
       "2      0      2  \n",
       "3      0      2  \n",
       "4      0      2  \n",
       "..   ...    ...  \n",
       "298    0      3  \n",
       "299    0      3  \n",
       "300    2      3  \n",
       "301    1      3  \n",
       "302    1      2  \n",
       "\n",
       "[303 rows x 13 columns]"
      ]
     },
     "execution_count": 27,
     "metadata": {},
     "output_type": "execute_result"
    }
   ],
   "source": [
    "X"
   ]
  },
  {
   "cell_type": "code",
   "execution_count": 28,
   "id": "working-balloon",
   "metadata": {
    "execution": {
     "iopub.execute_input": "2021-08-29T13:20:05.075495Z",
     "iopub.status.busy": "2021-08-29T13:20:05.074801Z",
     "iopub.status.idle": "2021-08-29T13:20:05.083267Z",
     "shell.execute_reply": "2021-08-29T13:20:05.083862Z",
     "shell.execute_reply.started": "2021-08-29T12:31:25.644735Z"
    },
    "papermill": {
     "duration": 0.101432,
     "end_time": "2021-08-29T13:20:05.084069",
     "exception": false,
     "start_time": "2021-08-29T13:20:04.982637",
     "status": "completed"
    },
    "tags": []
   },
   "outputs": [
    {
     "data": {
      "text/plain": [
       "0      1\n",
       "1      1\n",
       "2      1\n",
       "3      1\n",
       "4      1\n",
       "      ..\n",
       "298    0\n",
       "299    0\n",
       "300    0\n",
       "301    0\n",
       "302    0\n",
       "Name: output, Length: 303, dtype: int64"
      ]
     },
     "execution_count": 28,
     "metadata": {},
     "output_type": "execute_result"
    }
   ],
   "source": [
    "y"
   ]
  },
  {
   "cell_type": "markdown",
   "id": "unexpected-impression",
   "metadata": {
    "papermill": {
     "duration": 0.081314,
     "end_time": "2021-08-29T13:20:05.248216",
     "exception": false,
     "start_time": "2021-08-29T13:20:05.166902",
     "status": "completed"
    },
    "tags": []
   },
   "source": [
    "#### Make Feature Scaling"
   ]
  },
  {
   "cell_type": "code",
   "execution_count": 29,
   "id": "threaded-pearl",
   "metadata": {
    "execution": {
     "iopub.execute_input": "2021-08-29T13:20:05.412565Z",
     "iopub.status.busy": "2021-08-29T13:20:05.411750Z",
     "iopub.status.idle": "2021-08-29T13:20:05.422226Z",
     "shell.execute_reply": "2021-08-29T13:20:05.422958Z",
     "shell.execute_reply.started": "2021-08-29T12:31:42.742212Z"
    },
    "papermill": {
     "duration": 0.089485,
     "end_time": "2021-08-29T13:20:05.423220",
     "exception": false,
     "start_time": "2021-08-29T13:20:05.333735",
     "status": "completed"
    },
    "tags": []
   },
   "outputs": [],
   "source": [
    "# Feature Scaling\n",
    "from sklearn.preprocessing import StandardScaler\n",
    "sc = StandardScaler()\n",
    "X = sc.fit_transform(X)"
   ]
  },
  {
   "cell_type": "code",
   "execution_count": 30,
   "id": "personal-cedar",
   "metadata": {
    "execution": {
     "iopub.execute_input": "2021-08-29T13:20:05.576402Z",
     "iopub.status.busy": "2021-08-29T13:20:05.575465Z",
     "iopub.status.idle": "2021-08-29T13:20:05.579999Z",
     "shell.execute_reply": "2021-08-29T13:20:05.579368Z",
     "shell.execute_reply.started": "2021-08-29T12:31:46.961954Z"
    },
    "papermill": {
     "duration": 0.083417,
     "end_time": "2021-08-29T13:20:05.580137",
     "exception": false,
     "start_time": "2021-08-29T13:20:05.496720",
     "status": "completed"
    },
    "tags": []
   },
   "outputs": [
    {
     "data": {
      "text/plain": [
       "array([[ 0.9521966 ,  0.68100522,  1.97312292, ..., -2.27457861,\n",
       "        -0.71442887, -2.14887271],\n",
       "       [-1.91531289,  0.68100522,  1.00257707, ..., -2.27457861,\n",
       "        -0.71442887, -0.51292188],\n",
       "       [-1.47415758, -1.46841752,  0.03203122, ...,  0.97635214,\n",
       "        -0.71442887, -0.51292188],\n",
       "       ...,\n",
       "       [ 1.50364073,  0.68100522, -0.93851463, ..., -0.64911323,\n",
       "         1.24459328,  1.12302895],\n",
       "       [ 0.29046364,  0.68100522, -0.93851463, ..., -0.64911323,\n",
       "         0.26508221,  1.12302895],\n",
       "       [ 0.29046364, -1.46841752,  0.03203122, ..., -0.64911323,\n",
       "         0.26508221, -0.51292188]])"
      ]
     },
     "execution_count": 30,
     "metadata": {},
     "output_type": "execute_result"
    }
   ],
   "source": [
    "X"
   ]
  },
  {
   "cell_type": "markdown",
   "id": "advanced-easter",
   "metadata": {
    "papermill": {
     "duration": 0.073287,
     "end_time": "2021-08-29T13:20:05.727894",
     "exception": false,
     "start_time": "2021-08-29T13:20:05.654607",
     "status": "completed"
    },
    "tags": []
   },
   "source": [
    "### Make train_test split\n"
   ]
  },
  {
   "cell_type": "code",
   "execution_count": 31,
   "id": "periodic-hungarian",
   "metadata": {
    "execution": {
     "iopub.execute_input": "2021-08-29T13:20:05.881241Z",
     "iopub.status.busy": "2021-08-29T13:20:05.880218Z",
     "iopub.status.idle": "2021-08-29T13:20:05.885782Z",
     "shell.execute_reply": "2021-08-29T13:20:05.885092Z",
     "shell.execute_reply.started": "2021-08-29T12:33:05.547859Z"
    },
    "papermill": {
     "duration": 0.083843,
     "end_time": "2021-08-29T13:20:05.885935",
     "exception": false,
     "start_time": "2021-08-29T13:20:05.802092",
     "status": "completed"
    },
    "tags": []
   },
   "outputs": [],
   "source": [
    "X_train, X_test, y_train, y_test = train_test_split(X, y, test_size=0.3, random_state=1)"
   ]
  },
  {
   "cell_type": "markdown",
   "id": "unsigned-chair",
   "metadata": {
    "papermill": {
     "duration": 0.073479,
     "end_time": "2021-08-29T13:20:06.033554",
     "exception": false,
     "start_time": "2021-08-29T13:20:05.960075",
     "status": "completed"
    },
    "tags": []
   },
   "source": [
    "### Using the Logistic Regresion"
   ]
  },
  {
   "cell_type": "code",
   "execution_count": 32,
   "id": "acting-tuesday",
   "metadata": {
    "execution": {
     "iopub.execute_input": "2021-08-29T13:20:06.197118Z",
     "iopub.status.busy": "2021-08-29T13:20:06.196435Z",
     "iopub.status.idle": "2021-08-29T13:20:06.201487Z",
     "shell.execute_reply": "2021-08-29T13:20:06.200915Z",
     "shell.execute_reply.started": "2021-08-29T12:35:29.043979Z"
    },
    "papermill": {
     "duration": 0.093839,
     "end_time": "2021-08-29T13:20:06.201623",
     "exception": false,
     "start_time": "2021-08-29T13:20:06.107784",
     "status": "completed"
    },
    "tags": []
   },
   "outputs": [
    {
     "name": "stdout",
     "output_type": "stream",
     "text": [
      "[0, 1, 0, 0, 0, 0, 0, 1, 0, 1, 0, 0, 1, 0, 0, 1, 1, 0, 0, 1, 1, 0, 1, 1, 1, 1, 0, 1, 1, 1, 1, 1, 1, 1, 0, 0, 0, 0, 1, 0, 1, 0, 0, 0, 1, 1, 0, 1, 1, 1, 1, 1, 1, 1, 1, 1, 1, 0, 1, 0, 0, 1, 1, 1, 1, 1, 1, 0, 0, 0, 1, 1, 0, 1, 0, 1, 0, 0, 0, 0, 1, 1, 0, 1, 1, 1, 1, 1, 1, 0, 0]\n"
     ]
    }
   ],
   "source": [
    "LogisticRegration= LogisticRegression()\n",
    "LogisticRegration.fit(X_train,y_train)\n",
    "predictions1 = LogisticRegration.predict(X_test)\n",
    "print(list(predictions1))"
   ]
  },
  {
   "cell_type": "code",
   "execution_count": 33,
   "id": "objective-newman",
   "metadata": {
    "execution": {
     "iopub.execute_input": "2021-08-29T13:20:06.356658Z",
     "iopub.status.busy": "2021-08-29T13:20:06.355719Z",
     "iopub.status.idle": "2021-08-29T13:20:06.369567Z",
     "shell.execute_reply": "2021-08-29T13:20:06.368514Z",
     "shell.execute_reply.started": "2021-08-29T12:36:03.284814Z"
    },
    "papermill": {
     "duration": 0.093924,
     "end_time": "2021-08-29T13:20:06.369778",
     "exception": false,
     "start_time": "2021-08-29T13:20:06.275854",
     "status": "completed"
    },
    "tags": []
   },
   "outputs": [
    {
     "name": "stdout",
     "output_type": "stream",
     "text": [
      "              precision    recall  f1-score   support\n",
      "\n",
      "           0       0.77      0.73      0.75        41\n",
      "           1       0.79      0.82      0.80        50\n",
      "\n",
      "    accuracy                           0.78        91\n",
      "   macro avg       0.78      0.78      0.78        91\n",
      "weighted avg       0.78      0.78      0.78        91\n",
      "\n",
      "\n",
      "\n",
      "[[30 11]\n",
      " [ 9 41]]\n"
     ]
    }
   ],
   "source": [
    "print(classification_report(y_test,predictions1))\n",
    "print('\\n')\n",
    "print(confusion_matrix(y_test,predictions1))"
   ]
  },
  {
   "cell_type": "markdown",
   "id": "contemporary-appraisal",
   "metadata": {
    "papermill": {
     "duration": 0.07412,
     "end_time": "2021-08-29T13:20:06.519334",
     "exception": false,
     "start_time": "2021-08-29T13:20:06.445214",
     "status": "completed"
    },
    "tags": []
   },
   "source": [
    "### Fitting Logistic Regression to the Training set"
   ]
  },
  {
   "cell_type": "code",
   "execution_count": 34,
   "id": "vulnerable-diabetes",
   "metadata": {
    "execution": {
     "iopub.execute_input": "2021-08-29T13:20:06.682599Z",
     "iopub.status.busy": "2021-08-29T13:20:06.675132Z",
     "iopub.status.idle": "2021-08-29T13:20:06.691384Z",
     "shell.execute_reply": "2021-08-29T13:20:06.690488Z",
     "shell.execute_reply.started": "2021-08-29T12:36:53.504298Z"
    },
    "papermill": {
     "duration": 0.096805,
     "end_time": "2021-08-29T13:20:06.691555",
     "exception": false,
     "start_time": "2021-08-29T13:20:06.594750",
     "status": "completed"
    },
    "tags": []
   },
   "outputs": [
    {
     "data": {
      "text/plain": [
       "LogisticRegression(random_state=0)"
      ]
     },
     "execution_count": 34,
     "metadata": {},
     "output_type": "execute_result"
    }
   ],
   "source": [
    "# Fitting Logistic Regression to the Training set\n",
    "from sklearn.linear_model import LogisticRegression\n",
    "clss = LogisticRegression(random_state = 0)\n",
    "clss.fit(X_train, y_train)"
   ]
  },
  {
   "cell_type": "markdown",
   "id": "middle-carter",
   "metadata": {
    "papermill": {
     "duration": 0.07426,
     "end_time": "2021-08-29T13:20:06.841413",
     "exception": false,
     "start_time": "2021-08-29T13:20:06.767153",
     "status": "completed"
    },
    "tags": []
   },
   "source": [
    "#### Predicting the Test set results\n"
   ]
  },
  {
   "cell_type": "code",
   "execution_count": 35,
   "id": "earlier-approval",
   "metadata": {
    "execution": {
     "iopub.execute_input": "2021-08-29T13:20:06.997050Z",
     "iopub.status.busy": "2021-08-29T13:20:06.996286Z",
     "iopub.status.idle": "2021-08-29T13:20:07.000054Z",
     "shell.execute_reply": "2021-08-29T13:20:06.999438Z",
     "shell.execute_reply.started": "2021-08-29T12:37:22.025193Z"
    },
    "papermill": {
     "duration": 0.083997,
     "end_time": "2021-08-29T13:20:07.000197",
     "exception": false,
     "start_time": "2021-08-29T13:20:06.916200",
     "status": "completed"
    },
    "tags": []
   },
   "outputs": [
    {
     "name": "stdout",
     "output_type": "stream",
     "text": [
      "[0, 1, 0, 0, 0, 0, 0, 1, 0, 1, 0, 0, 1, 0, 0, 1, 1, 0, 0, 1, 1, 0, 1, 1, 1, 1, 0, 1, 1, 1, 1, 1, 1, 1, 0, 0, 0, 0, 1, 0, 1, 0, 0, 0, 1, 1, 0, 1, 1, 1, 1, 1, 1, 1, 1, 1, 1, 0, 1, 0, 0, 1, 1, 1, 1, 1, 1, 0, 0, 0, 1, 1, 0, 1, 0, 1, 0, 0, 0, 0, 1, 1, 0, 1, 1, 1, 1, 1, 1, 0, 0]\n"
     ]
    }
   ],
   "source": [
    "y_pred = clss.predict(X_test)\n",
    "print(list(y_pred ))"
   ]
  },
  {
   "cell_type": "code",
   "execution_count": 36,
   "id": "correct-provincial",
   "metadata": {
    "execution": {
     "iopub.execute_input": "2021-08-29T13:20:07.158328Z",
     "iopub.status.busy": "2021-08-29T13:20:07.157424Z",
     "iopub.status.idle": "2021-08-29T13:20:07.161824Z",
     "shell.execute_reply": "2021-08-29T13:20:07.161113Z",
     "shell.execute_reply.started": "2021-08-29T12:37:56.276438Z"
    },
    "papermill": {
     "duration": 0.086518,
     "end_time": "2021-08-29T13:20:07.161986",
     "exception": false,
     "start_time": "2021-08-29T13:20:07.075468",
     "status": "completed"
    },
    "tags": []
   },
   "outputs": [
    {
     "data": {
      "text/plain": [
       "array([[30, 11],\n",
       "       [ 9, 41]])"
      ]
     },
     "execution_count": 36,
     "metadata": {},
     "output_type": "execute_result"
    }
   ],
   "source": [
    "#  Confusion Matrix\n",
    "from sklearn.metrics import confusion_matrix\n",
    "cm = confusion_matrix(y_test, y_pred)\n",
    "cm"
   ]
  },
  {
   "cell_type": "code",
   "execution_count": 37,
   "id": "frank-bangkok",
   "metadata": {
    "execution": {
     "iopub.execute_input": "2021-08-29T13:20:07.368515Z",
     "iopub.status.busy": "2021-08-29T13:20:07.367690Z",
     "iopub.status.idle": "2021-08-29T13:20:07.547143Z",
     "shell.execute_reply": "2021-08-29T13:20:07.547643Z",
     "shell.execute_reply.started": "2021-08-29T12:38:36.526577Z"
    },
    "papermill": {
     "duration": 0.310117,
     "end_time": "2021-08-29T13:20:07.547828",
     "exception": false,
     "start_time": "2021-08-29T13:20:07.237711",
     "status": "completed"
    },
    "tags": []
   },
   "outputs": [
    {
     "data": {
      "text/plain": [
       "<AxesSubplot:>"
      ]
     },
     "execution_count": 37,
     "metadata": {},
     "output_type": "execute_result"
    },
    {
     "data": {
      "image/png": "[encoded data removed]",
      "text/plain": [
       "<Figure size 432x288 with 2 Axes>"
      ]
     },
     "metadata": {
      "needs_background": "light"
     },
     "output_type": "display_data"
    }
   ],
   "source": [
    "sns.heatmap(cm)"
   ]
  },
  {
   "cell_type": "markdown",
   "id": "bronze-store",
   "metadata": {
    "papermill": {
     "duration": 0.076194,
     "end_time": "2021-08-29T13:20:07.700978",
     "exception": false,
     "start_time": "2021-08-29T13:20:07.624784",
     "status": "completed"
    },
    "tags": []
   },
   "source": [
    "## Calculate Accuracy"
   ]
  },
  {
   "cell_type": "code",
   "execution_count": 38,
   "id": "major-lancaster",
   "metadata": {
    "execution": {
     "iopub.execute_input": "2021-08-29T13:20:07.858607Z",
     "iopub.status.busy": "2021-08-29T13:20:07.857889Z",
     "iopub.status.idle": "2021-08-29T13:20:07.864138Z",
     "shell.execute_reply": "2021-08-29T13:20:07.863580Z",
     "shell.execute_reply.started": "2021-08-29T12:39:43.576959Z"
    },
    "papermill": {
     "duration": 0.085679,
     "end_time": "2021-08-29T13:20:07.864284",
     "exception": false,
     "start_time": "2021-08-29T13:20:07.778605",
     "status": "completed"
    },
    "tags": []
   },
   "outputs": [
    {
     "data": {
      "text/plain": [
       "78.02197802197803"
      ]
     },
     "execution_count": 38,
     "metadata": {},
     "output_type": "execute_result"
    }
   ],
   "source": [
    "from sklearn.metrics import accuracy_score\n",
    "acclr = accuracy_score(y_test,predictions1)*100\n",
    "acclr"
   ]
  },
  {
   "cell_type": "markdown",
   "id": "future-survey",
   "metadata": {
    "papermill": {
     "duration": 0.077893,
     "end_time": "2021-08-29T13:20:08.019696",
     "exception": false,
     "start_time": "2021-08-29T13:20:07.941803",
     "status": "completed"
    },
    "tags": []
   },
   "source": [
    "### As we have seen, the result is very low. Let's improve it with another algorithm"
   ]
  },
  {
   "cell_type": "markdown",
   "id": "analyzed-theta",
   "metadata": {
    "papermill": {
     "duration": 0.077399,
     "end_time": "2021-08-29T13:20:08.175242",
     "exception": false,
     "start_time": "2021-08-29T13:20:08.097843",
     "status": "completed"
    },
    "tags": []
   },
   "source": [
    "# MLPRegressor  "
   ]
  },
  {
   "cell_type": "code",
   "execution_count": 39,
   "id": "particular-vehicle",
   "metadata": {
    "execution": {
     "iopub.execute_input": "2021-08-29T13:20:08.336724Z",
     "iopub.status.busy": "2021-08-29T13:20:08.336065Z",
     "iopub.status.idle": "2021-08-29T13:20:08.673624Z",
     "shell.execute_reply": "2021-08-29T13:20:08.672988Z",
     "shell.execute_reply.started": "2021-08-29T12:48:24.092765Z"
    },
    "papermill": {
     "duration": 0.421639,
     "end_time": "2021-08-29T13:20:08.673761",
     "exception": false,
     "start_time": "2021-08-29T13:20:08.252122",
     "status": "completed"
    },
    "tags": []
   },
   "outputs": [
    {
     "name": "stderr",
     "output_type": "stream",
     "text": [
      "/opt/conda/lib/python3.7/site-packages/sklearn/neural_network/_multilayer_perceptron.py:617: ConvergenceWarning:\n",
      "\n",
      "Stochastic Optimizer: Maximum iterations (200) reached and the optimization hasn't converged yet.\n",
      "\n"
     ]
    },
    {
     "data": {
      "text/plain": [
       "MLPRegressor(alpha=0.001, hidden_layer_sizes=(100, 3), random_state=33)"
      ]
     },
     "execution_count": 39,
     "metadata": {},
     "output_type": "execute_result"
    }
   ],
   "source": [
    "MLPRegressorModel = MLPRegressor(activation='relu', # can be also identity , logistic , relu\n",
    "                                 solver='adam',  # can be also sgd , adam\n",
    "                                 learning_rate='constant', # can be also invscaling , adaptive\n",
    "                                 early_stopping= False,\n",
    "                                 shuffle=True,\n",
    "                                 alpha=0.001 ,hidden_layer_sizes=(100, 3),random_state=33)\n",
    "MLPRegressorModel.fit(X_train, y_train)\n"
   ]
  },
  {
   "cell_type": "code",
   "execution_count": 40,
   "id": "suspected-vegetation",
   "metadata": {
    "execution": {
     "iopub.execute_input": "2021-08-29T13:20:08.837756Z",
     "iopub.status.busy": "2021-08-29T13:20:08.836574Z",
     "iopub.status.idle": "2021-08-29T13:20:08.852276Z",
     "shell.execute_reply": "2021-08-29T13:20:08.851360Z",
     "shell.execute_reply.started": "2021-08-29T12:48:26.975966Z"
    },
    "papermill": {
     "duration": 0.101225,
     "end_time": "2021-08-29T13:20:08.852496",
     "exception": false,
     "start_time": "2021-08-29T13:20:08.751271",
     "status": "completed"
    },
    "tags": []
   },
   "outputs": [
    {
     "name": "stdout",
     "output_type": "stream",
     "text": [
      "MLPRegressorModel Train Score is :  0.8151774649233975\n",
      "----------------------------------------------------\n",
      "MLPRegressorModel Test Score is :  0.1791589142533776\n",
      "MLPRegressorModel loss is :  0.023151007489125932\n",
      "----------------------------------------------------\n",
      "MLPRegressorModel No. of iterations is :  200\n",
      "----------------------------------------------------\n",
      "MLPRegressorModel No. of layers is :  4\n",
      "----------------------------------------------------\n",
      "MLPRegressorModel last activation is :  identity\n",
      "----------------------------------------------------\n"
     ]
    }
   ],
   "source": [
    "#Calculating Details\n",
    "print('MLPRegressorModel Train Score is : ' , MLPRegressorModel.score(X_train, y_train))\n",
    "print('----------------------------------------------------')\n",
    "print('MLPRegressorModel Test Score is : ' , MLPRegressorModel.score(X_test, y_test))\n",
    "print('MLPRegressorModel loss is : ' , MLPRegressorModel.loss_)\n",
    "print('----------------------------------------------------')\n",
    "print('MLPRegressorModel No. of iterations is : ' , MLPRegressorModel.n_iter_)\n",
    "print('----------------------------------------------------')\n",
    "print('MLPRegressorModel No. of layers is : ' , MLPRegressorModel.n_layers_)\n",
    "print('----------------------------------------------------')\n",
    "print('MLPRegressorModel last activation is : ' , MLPRegressorModel.out_activation_)\n",
    "print('----------------------------------------------------')\n"
   ]
  },
  {
   "cell_type": "markdown",
   "id": "lightweight-alliance",
   "metadata": {
    "papermill": {
     "duration": 0.077604,
     "end_time": "2021-08-29T13:20:09.055906",
     "exception": false,
     "start_time": "2021-08-29T13:20:08.978302",
     "status": "completed"
    },
    "tags": []
   },
   "source": [
    "## MLPClassifier"
   ]
  },
  {
   "cell_type": "code",
   "execution_count": 41,
   "id": "reported-horror",
   "metadata": {
    "execution": {
     "iopub.execute_input": "2021-08-29T13:20:09.216975Z",
     "iopub.status.busy": "2021-08-29T13:20:09.216358Z",
     "iopub.status.idle": "2021-08-29T13:20:09.586214Z",
     "shell.execute_reply": "2021-08-29T13:20:09.586661Z",
     "shell.execute_reply.started": "2021-08-29T13:02:46.506084Z"
    },
    "papermill": {
     "duration": 0.45314,
     "end_time": "2021-08-29T13:20:09.586830",
     "exception": false,
     "start_time": "2021-08-29T13:20:09.133690",
     "status": "completed"
    },
    "tags": []
   },
   "outputs": [
    {
     "name": "stderr",
     "output_type": "stream",
     "text": [
      "/opt/conda/lib/python3.7/site-packages/sklearn/neural_network/_multilayer_perceptron.py:617: ConvergenceWarning:\n",
      "\n",
      "Stochastic Optimizer: Maximum iterations (200) reached and the optimization hasn't converged yet.\n",
      "\n"
     ]
    },
    {
     "data": {
      "text/plain": [
       "MLPClassifier(hidden_layer_sizes=(100, 3), random_state=33)"
      ]
     },
     "execution_count": 41,
     "metadata": {},
     "output_type": "execute_result"
    }
   ],
   "source": [
    "MLPClassifierModel = MLPClassifier(activation='relu', # can be also identity , logistic , relu\n",
    "                                   solver='adam',  # can be also sgd , adam\n",
    "                                   learning_rate='constant', # can be also invscaling , adaptive\n",
    "                                   early_stopping= False,\n",
    "                                   alpha=0.0001 ,hidden_layer_sizes=(100, 3),random_state=33)\n",
    "MLPClassifierModel.fit(X_train, y_train)\n",
    "\n"
   ]
  },
  {
   "cell_type": "code",
   "execution_count": 42,
   "id": "atlantic-studio",
   "metadata": {
    "execution": {
     "iopub.execute_input": "2021-08-29T13:20:09.751463Z",
     "iopub.status.busy": "2021-08-29T13:20:09.750392Z",
     "iopub.status.idle": "2021-08-29T13:20:09.765519Z",
     "shell.execute_reply": "2021-08-29T13:20:09.766573Z",
     "shell.execute_reply.started": "2021-08-29T13:02:50.241672Z"
    },
    "papermill": {
     "duration": 0.102046,
     "end_time": "2021-08-29T13:20:09.766932",
     "exception": false,
     "start_time": "2021-08-29T13:20:09.664886",
     "status": "completed"
    },
    "tags": []
   },
   "outputs": [
    {
     "name": "stdout",
     "output_type": "stream",
     "text": [
      "MLPClassifierModel Train Score is :  0.9481132075471698\n",
      "************////**************\n",
      "MLPClassifierModel Test Score is :  0.8021978021978022\n",
      "************////**************\n",
      "MLPClassifierModel loss is :  0.14576506657875798\n",
      "MLPClassifierModel No. of iterations is :  200\n",
      "************////**************\n",
      "MLPClassifierModel No. of layers is :  4\n",
      "************////**************\n",
      "MLPClassifierModel last activation is :  logistic\n",
      "************////**************\n"
     ]
    }
   ],
   "source": [
    "print('MLPClassifierModel Train Score is : ' , MLPClassifierModel.score(X_train, y_train))\n",
    "print('************////**************')\n",
    "print('MLPClassifierModel Test Score is : ' , MLPClassifierModel.score(X_test, y_test))\n",
    "print('************////**************')\n",
    "print('MLPClassifierModel loss is : ' , MLPClassifierModel.loss_)\n",
    "print('MLPClassifierModel No. of iterations is : ' , MLPClassifierModel.n_iter_)\n",
    "print('************////**************')\n",
    "print('MLPClassifierModel No. of layers is : ' , MLPClassifierModel.n_layers_)\n",
    "print('************////**************')\n",
    "print('MLPClassifierModel last activation is : ' , MLPClassifierModel.out_activation_)\n",
    "print('************////**************')"
   ]
  },
  {
   "cell_type": "markdown",
   "id": "vanilla-peace",
   "metadata": {
    "papermill": {
     "duration": 0.082538,
     "end_time": "2021-08-29T13:20:09.981065",
     "exception": false,
     "start_time": "2021-08-29T13:20:09.898527",
     "status": "completed"
    },
    "tags": []
   },
   "source": [
    "#### Calculating Prediction"
   ]
  },
  {
   "cell_type": "code",
   "execution_count": 43,
   "id": "radical-procedure",
   "metadata": {
    "execution": {
     "iopub.execute_input": "2021-08-29T13:20:10.147140Z",
     "iopub.status.busy": "2021-08-29T13:20:10.146453Z",
     "iopub.status.idle": "2021-08-29T13:20:10.151872Z",
     "shell.execute_reply": "2021-08-29T13:20:10.152610Z",
     "shell.execute_reply.started": "2021-08-29T13:02:57.676486Z"
    },
    "papermill": {
     "duration": 0.09102,
     "end_time": "2021-08-29T13:20:10.152792",
     "exception": false,
     "start_time": "2021-08-29T13:20:10.061772",
     "status": "completed"
    },
    "tags": []
   },
   "outputs": [
    {
     "name": "stdout",
     "output_type": "stream",
     "text": [
      "Predicted Value for MLPClassifierModel is :  [0 1 0 0 0 0 0 1 0 1]\n",
      "*******************************\n",
      "Prediction Probabilities Value for MLPClassifierModel is :  [[9.99954579e-01 4.54207824e-05]\n",
      " [2.79750044e-01 7.20249956e-01]\n",
      " [9.81130611e-01 1.88693890e-02]\n",
      " [9.98732633e-01 1.26736711e-03]\n",
      " [9.93645951e-01 6.35404881e-03]\n",
      " [9.99636482e-01 3.63517608e-04]\n",
      " [9.84209632e-01 1.57903682e-02]\n",
      " [4.37019011e-01 5.62980989e-01]\n",
      " [9.99369972e-01 6.30028009e-04]\n",
      " [1.47588631e-03 9.98524114e-01]]\n"
     ]
    }
   ],
   "source": [
    "#Calculating Prediction\n",
    "y_pred = MLPClassifierModel.predict(X_test)\n",
    "y_pred_prob = MLPClassifierModel.predict_proba(X_test)\n",
    "print('Predicted Value for MLPClassifierModel is : ' , y_pred[:10])\n",
    "print('*******************************')\n",
    "print('Prediction Probabilities Value for MLPClassifierModel is : ' , y_pred_prob[:10])\n",
    "\n"
   ]
  },
  {
   "cell_type": "code",
   "execution_count": 44,
   "id": "sacred-granny",
   "metadata": {
    "execution": {
     "iopub.execute_input": "2021-08-29T13:20:10.315093Z",
     "iopub.status.busy": "2021-08-29T13:20:10.314372Z",
     "iopub.status.idle": "2021-08-29T13:20:10.492175Z",
     "shell.execute_reply": "2021-08-29T13:20:10.492696Z",
     "shell.execute_reply.started": "2021-08-29T13:03:01.700189Z"
    },
    "papermill": {
     "duration": 0.260951,
     "end_time": "2021-08-29T13:20:10.492867",
     "exception": false,
     "start_time": "2021-08-29T13:20:10.231916",
     "status": "completed"
    },
    "tags": []
   },
   "outputs": [
    {
     "name": "stdout",
     "output_type": "stream",
     "text": [
      "Confusion Matrix is : \n",
      " [[31 10]\n",
      " [ 8 42]]\n"
     ]
    },
    {
     "data": {
      "image/png": "[encoded data removed]",
      "text/plain": [
       "<Figure size 432x288 with 2 Axes>"
      ]
     },
     "metadata": {
      "needs_background": "light"
     },
     "output_type": "display_data"
    }
   ],
   "source": [
    "#Calculating Confusion Matrix\n",
    "CM = confusion_matrix(y_test, y_pred)\n",
    "print('Confusion Matrix is : \\n', CM)\n",
    "\n",
    "# drawing confusion matrix\n",
    "sns.heatmap(CM, center = True)\n",
    "plt.show()\n",
    " \n"
   ]
  },
  {
   "cell_type": "code",
   "execution_count": 45,
   "id": "promising-doubt",
   "metadata": {
    "execution": {
     "iopub.execute_input": "2021-08-29T13:20:10.658349Z",
     "iopub.status.busy": "2021-08-29T13:20:10.657308Z",
     "iopub.status.idle": "2021-08-29T13:20:10.674121Z",
     "shell.execute_reply": "2021-08-29T13:20:10.673599Z",
     "shell.execute_reply.started": "2021-08-29T13:08:41.132718Z"
    },
    "papermill": {
     "duration": 0.100424,
     "end_time": "2021-08-29T13:20:10.674264",
     "exception": false,
     "start_time": "2021-08-29T13:20:10.573840",
     "status": "completed"
    },
    "tags": []
   },
   "outputs": [
    {
     "name": "stdout",
     "output_type": "stream",
     "text": [
      "SVRModel Train Score is :  0.8696185004672785\n",
      "----------------------------------------------------\n",
      "SVRModel Test Score is :  0.33533352288680296\n"
     ]
    }
   ],
   "source": [
    "SVRModel = SVR(C = 1.0 ,epsilon=0.1,kernel = 'rbf') # it also can be : linear, poly, rbf, sigmoid, precomputed\n",
    "SVRModel.fit(X_train, y_train)\n",
    "\n",
    "#Calculating Details\n",
    "print('SVRModel Train Score is : ' , SVRModel.score(X_train, y_train))\n",
    "print('----------------------------------------------------')\n",
    "print('SVRModel Test Score is : ' , SVRModel.score(X_test, y_test))\n",
    "\n"
   ]
  },
  {
   "cell_type": "markdown",
   "id": "miniature-pharmacy",
   "metadata": {
    "papermill": {
     "duration": 0.08137,
     "end_time": "2021-08-29T13:20:10.838133",
     "exception": false,
     "start_time": "2021-08-29T13:20:10.756763",
     "status": "completed"
    },
    "tags": []
   },
   "source": [
    "### Calculating Prediction"
   ]
  },
  {
   "cell_type": "code",
   "execution_count": 46,
   "id": "female-upset",
   "metadata": {
    "execution": {
     "iopub.execute_input": "2021-08-29T13:20:11.008405Z",
     "iopub.status.busy": "2021-08-29T13:20:11.007389Z",
     "iopub.status.idle": "2021-08-29T13:20:11.013506Z",
     "shell.execute_reply": "2021-08-29T13:20:11.012998Z",
     "shell.execute_reply.started": "2021-08-29T13:10:10.912907Z"
    },
    "papermill": {
     "duration": 0.093041,
     "end_time": "2021-08-29T13:20:11.013659",
     "exception": false,
     "start_time": "2021-08-29T13:20:10.920618",
     "status": "completed"
    },
    "tags": []
   },
   "outputs": [
    {
     "name": "stdout",
     "output_type": "stream",
     "text": [
      "Predicted Value for SVRModel is :  [ 0.39306406  0.5773403   0.06322727 -0.14240049 -0.10170659  0.00333236\n",
      "  0.1870854   0.52984497 -0.11244944  1.01488286]\n"
     ]
    }
   ],
   "source": [
    "#Calculating Prediction\n",
    "y_pred = SVRModel.predict(X_test)\n",
    "print('Predicted Value for SVRModel is : ' , y_pred[:10])\n"
   ]
  },
  {
   "cell_type": "code",
   "execution_count": 47,
   "id": "actual-clinton",
   "metadata": {
    "execution": {
     "iopub.execute_input": "2021-08-29T13:20:11.186038Z",
     "iopub.status.busy": "2021-08-29T13:20:11.185270Z",
     "iopub.status.idle": "2021-08-29T13:20:11.197247Z",
     "shell.execute_reply": "2021-08-29T13:20:11.196700Z",
     "shell.execute_reply.started": "2021-08-29T13:17:33.979505Z"
    },
    "papermill": {
     "duration": 0.101348,
     "end_time": "2021-08-29T13:20:11.197395",
     "exception": false,
     "start_time": "2021-08-29T13:20:11.096047",
     "status": "completed"
    },
    "tags": []
   },
   "outputs": [
    {
     "name": "stdout",
     "output_type": "stream",
     "text": [
      "SVCModel Train Score is :  0.9292452830188679\n",
      "******************************************\n",
      "SVCModel Test Score is :  0.7912087912087912\n"
     ]
    }
   ],
   "source": [
    "SVCModel = SVC(kernel= 'rbf',# it can be also linear,poly,sigmoid,precomputed\n",
    "               max_iter=100000,C=1,gamma='auto')\n",
    "SVCModel.fit(X_train, y_train)\n",
    "\n",
    "#Calculating Details\n",
    "print('SVCModel Train Score is : ' , SVCModel.score(X_train, y_train))\n",
    "print('******************************************')\n",
    "print('SVCModel Test Score is : ' , SVCModel.score(X_test, y_test))\n"
   ]
  },
  {
   "cell_type": "markdown",
   "id": "solved-vatican",
   "metadata": {
    "papermill": {
     "duration": 0.082901,
     "end_time": "2021-08-29T13:20:11.364922",
     "exception": false,
     "start_time": "2021-08-29T13:20:11.282021",
     "status": "completed"
    },
    "tags": []
   },
   "source": [
    "#### Calculating Prediction"
   ]
  },
  {
   "cell_type": "code",
   "execution_count": 48,
   "id": "outdoor-sister",
   "metadata": {
    "execution": {
     "iopub.execute_input": "2021-08-29T13:20:11.536193Z",
     "iopub.status.busy": "2021-08-29T13:20:11.535463Z",
     "iopub.status.idle": "2021-08-29T13:20:11.540596Z",
     "shell.execute_reply": "2021-08-29T13:20:11.541199Z",
     "shell.execute_reply.started": "2021-08-29T13:17:36.009966Z"
    },
    "papermill": {
     "duration": 0.093766,
     "end_time": "2021-08-29T13:20:11.541374",
     "exception": false,
     "start_time": "2021-08-29T13:20:11.447608",
     "status": "completed"
    },
    "tags": []
   },
   "outputs": [
    {
     "name": "stdout",
     "output_type": "stream",
     "text": [
      "Predicted Value for SVCModel is :  [0 1 0 0 0 0 0 0 0 1]\n"
     ]
    }
   ],
   "source": [
    "#Calculating Prediction\n",
    "y_pred = SVCModel.predict(X_test)\n",
    "print('Predicted Value for SVCModel is : ' , y_pred[:10])\n"
   ]
  },
  {
   "cell_type": "code",
   "execution_count": 49,
   "id": "speaking-pride",
   "metadata": {
    "execution": {
     "iopub.execute_input": "2021-08-29T13:20:11.708601Z",
     "iopub.status.busy": "2021-08-29T13:20:11.707930Z",
     "iopub.status.idle": "2021-08-29T13:20:11.885153Z",
     "shell.execute_reply": "2021-08-29T13:20:11.886208Z",
     "shell.execute_reply.started": "2021-08-29T13:17:37.114426Z"
    },
    "papermill": {
     "duration": 0.262978,
     "end_time": "2021-08-29T13:20:11.886483",
     "exception": false,
     "start_time": "2021-08-29T13:20:11.623505",
     "status": "completed"
    },
    "tags": []
   },
   "outputs": [
    {
     "name": "stdout",
     "output_type": "stream",
     "text": [
      "Confusion Matrix is : \n",
      " [[31 10]\n",
      " [ 9 41]]\n"
     ]
    },
    {
     "data": {
      "image/png": "[encoded data removed]",
      "text/plain": [
       "<Figure size 432x288 with 2 Axes>"
      ]
     },
     "metadata": {
      "needs_background": "light"
     },
     "output_type": "display_data"
    }
   ],
   "source": [
    "#Calculating Confusion Matrix\n",
    "CM = confusion_matrix(y_test, y_pred)\n",
    "print('Confusion Matrix is : \\n', CM)\n",
    "\n",
    "# drawing confusion matrix\n",
    "sns.heatmap(CM, center = True)\n",
    "plt.show()"
   ]
  },
  {
   "cell_type": "markdown",
   "id": "alone-jimmy",
   "metadata": {
    "papermill": {
     "duration": 0.083739,
     "end_time": "2021-08-29T13:20:12.056243",
     "exception": false,
     "start_time": "2021-08-29T13:20:11.972504",
     "status": "completed"
    },
    "tags": []
   },
   "source": [
    "<h1><center>If you enjoy this notebook, don't forget to vote🙌😄☀️</center></h1>"
   ]
  }
 ],
 "metadata": {
  "kernelspec": {
   "display_name": "Python 3",
   "language": "python",
   "name": "python3"
  },
  "language_info": {
   "codemirror_mode": {
    "name": "ipython",
    "version": 3
   },
   "file_extension": ".py",
   "mimetype": "text/x-python",
   "name": "python",
   "nbconvert_exporter": "python",
   "pygments_lexer": "ipython3",
   "version": "3.7.10"
  },
  "papermill": {
   "default_parameters": {},
   "duration": 30.871689,
   "end_time": "2021-08-29T13:20:13.150403",
   "environment_variables": {},
   "exception": null,
   "input_path": "__notebook__.ipynb",
   "output_path": "__notebook__.ipynb",
   "parameters": {},
   "start_time": "2021-08-29T13:19:42.278714",
   "version": "2.3.3"
  }
 },
 "nbformat": 4,
 "nbformat_minor": 5
}
