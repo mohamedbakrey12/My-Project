{
 "cells": [
  {
   "cell_type": "markdown",
   "id": "conditional-attempt",
   "metadata": {
    "papermill": {
     "duration": 0.018942,
     "end_time": "2021-07-19T21:05:21.930497",
     "exception": false,
     "start_time": "2021-07-19T21:05:21.911555",
     "status": "completed"
    },
    "tags": []
   },
   "source": [
    "![123](https://encrypted-tbn0.gstatic.com/images?q=tbn:ANd9GcRHYA1RK9WHQcr3Wzlk3s9hYidWYFvDoshYsQ&usqp=CAU)"
   ]
  },
  {
   "cell_type": "markdown",
   "id": "institutional-grass",
   "metadata": {
    "papermill": {
     "duration": 0.018058,
     "end_time": "2021-07-19T21:05:21.966283",
     "exception": false,
     "start_time": "2021-07-19T21:05:21.948225",
     "status": "completed"
    },
    "tags": []
   },
   "source": [
    "# Introduction\n",
    "**The popularity of running continues to increase, which means that the incidence of running-related injuries will probably also continue to increase. Little is known about risk factors for running injuries and whether they are sex-specific.\n",
    "Longitudinal cohort studies with a minimal follow-up of 1 month that investigated the association between risk factors (personal factors, running/training factors and/or health and lifestyle factors) and the occurrence of lower limb injuries in runners were included.\n",
    "Of 400 articles retrieved, 15 longitudinal studies were included, of which 11 were considered high-quality studies and 4 moderate-quality studies. Overall, women were at lower risk than men for sustaining running-related injuries. Strong and moderate evidence was found that a history of previous injury and of having used orthotics/inserts was associated with an increased risk of running injuries. Age, previous sports activity, running on a concrete surface, participating in a marathon, weekly running distance (30–39 miles) and wearing running shoes for 4 to 6 months were associated with a greater risk of injury in women than in men. A history of previous injuries, having a running experience of 0–2 years, restarting running, weekly running distance (20–29 miles) and having a running distance of more than 40 miles per week were associated with a greater risk of running-related injury in men than in women.**\n"
   ]
  },
  {
   "cell_type": "markdown",
   "id": "broke-madison",
   "metadata": {
    "papermill": {
     "duration": 0.018652,
     "end_time": "2021-07-19T21:05:22.003861",
     "exception": false,
     "start_time": "2021-07-19T21:05:21.985209",
     "status": "completed"
    },
    "tags": []
   },
   "source": [
    "# Call some libraries"
   ]
  },
  {
   "cell_type": "code",
   "execution_count": 1,
   "id": "forward-digit",
   "metadata": {
    "execution": {
     "iopub.execute_input": "2021-07-19T21:05:22.044288Z",
     "iopub.status.busy": "2021-07-19T21:05:22.043138Z",
     "iopub.status.idle": "2021-07-19T21:05:24.187227Z",
     "shell.execute_reply": "2021-07-19T21:05:24.188004Z",
     "shell.execute_reply.started": "2021-07-19T19:35:40.216084Z"
    },
    "papermill": {
     "duration": 2.16614,
     "end_time": "2021-07-19T21:05:24.188313",
     "exception": false,
     "start_time": "2021-07-19T21:05:22.022173",
     "status": "completed"
    },
    "tags": []
   },
   "outputs": [],
   "source": [
    "import numpy as np\n",
    "import pandas as pd\n",
    "import matplotlib.pyplot as plt\n",
    "import seaborn as sns\n",
    "import pandas_profiling as pp"
   ]
  },
  {
   "cell_type": "markdown",
   "id": "arctic-suicide",
   "metadata": {
    "papermill": {
     "duration": 0.017216,
     "end_time": "2021-07-19T21:05:24.223362",
     "exception": false,
     "start_time": "2021-07-19T21:05:24.206146",
     "status": "completed"
    },
    "tags": []
   },
   "source": [
    "# Read Dataset"
   ]
  },
  {
   "cell_type": "code",
   "execution_count": 2,
   "id": "clean-latin",
   "metadata": {
    "execution": {
     "iopub.execute_input": "2021-07-19T21:05:24.265101Z",
     "iopub.status.busy": "2021-07-19T21:05:24.264479Z",
     "iopub.status.idle": "2021-07-19T21:05:24.773514Z",
     "shell.execute_reply": "2021-07-19T21:05:24.772960Z",
     "shell.execute_reply.started": "2021-07-19T19:35:42.340948Z"
    },
    "papermill": {
     "duration": 0.532651,
     "end_time": "2021-07-19T21:05:24.773660",
     "exception": false,
     "start_time": "2021-07-19T21:05:24.241009",
     "status": "completed"
    },
    "tags": []
   },
   "outputs": [],
   "source": [
    "day_df=pd.read_csv('../input/injury-prediction-for-competitive-runners/day_approach_maskedID_timeseries.csv')"
   ]
  },
  {
   "cell_type": "markdown",
   "id": "bizarre-hamilton",
   "metadata": {
    "papermill": {
     "duration": 0.017361,
     "end_time": "2021-07-19T21:05:24.808721",
     "exception": false,
     "start_time": "2021-07-19T21:05:24.791360",
     "status": "completed"
    },
    "tags": []
   },
   "source": [
    "**Do some analyzes on the data**"
   ]
  },
  {
   "cell_type": "code",
   "execution_count": 3,
   "id": "sudden-tractor",
   "metadata": {
    "execution": {
     "iopub.execute_input": "2021-07-19T21:05:24.860293Z",
     "iopub.status.busy": "2021-07-19T21:05:24.853068Z",
     "iopub.status.idle": "2021-07-19T21:05:24.897838Z",
     "shell.execute_reply": "2021-07-19T21:05:24.897309Z",
     "shell.execute_reply.started": "2021-07-19T19:35:42.907987Z"
    },
    "papermill": {
     "duration": 0.071711,
     "end_time": "2021-07-19T21:05:24.897967",
     "exception": false,
     "start_time": "2021-07-19T21:05:24.826256",
     "status": "completed"
    },
    "tags": []
   },
   "outputs": [
    {
     "data": {
      "text/html": [
       "<div>\n",
       "<style scoped>\n",
       "    .dataframe tbody tr th:only-of-type {\n",
       "        vertical-align: middle;\n",
       "    }\n",
       "\n",
       "    .dataframe tbody tr th {\n",
       "        vertical-align: top;\n",
       "    }\n",
       "\n",
       "    .dataframe thead th {\n",
       "        text-align: right;\n",
       "    }\n",
       "</style>\n",
       "<table border=\"1\" class=\"dataframe\">\n",
       "  <thead>\n",
       "    <tr style=\"text-align: right;\">\n",
       "      <th></th>\n",
       "      <th>nr. sessions</th>\n",
       "      <th>total km</th>\n",
       "      <th>km Z3-4</th>\n",
       "      <th>km Z5-T1-T2</th>\n",
       "      <th>km sprinting</th>\n",
       "      <th>strength training</th>\n",
       "      <th>hours alternative</th>\n",
       "      <th>perceived exertion</th>\n",
       "      <th>perceived trainingSuccess</th>\n",
       "      <th>perceived recovery</th>\n",
       "      <th>...</th>\n",
       "      <th>km Z5-T1-T2.6</th>\n",
       "      <th>km sprinting.6</th>\n",
       "      <th>strength training.6</th>\n",
       "      <th>hours alternative.6</th>\n",
       "      <th>perceived exertion.6</th>\n",
       "      <th>perceived trainingSuccess.6</th>\n",
       "      <th>perceived recovery.6</th>\n",
       "      <th>Athlete ID</th>\n",
       "      <th>injury</th>\n",
       "      <th>Date</th>\n",
       "    </tr>\n",
       "  </thead>\n",
       "  <tbody>\n",
       "    <tr>\n",
       "      <th>0</th>\n",
       "      <td>1.0</td>\n",
       "      <td>5.8</td>\n",
       "      <td>0.0</td>\n",
       "      <td>0.6</td>\n",
       "      <td>1.2</td>\n",
       "      <td>0.0</td>\n",
       "      <td>0.00</td>\n",
       "      <td>0.11</td>\n",
       "      <td>0.00</td>\n",
       "      <td>0.18</td>\n",
       "      <td>...</td>\n",
       "      <td>0.0</td>\n",
       "      <td>0.0</td>\n",
       "      <td>0.0</td>\n",
       "      <td>1.0</td>\n",
       "      <td>0.10</td>\n",
       "      <td>0.00</td>\n",
       "      <td>0.15</td>\n",
       "      <td>0</td>\n",
       "      <td>0</td>\n",
       "      <td>0</td>\n",
       "    </tr>\n",
       "    <tr>\n",
       "      <th>1</th>\n",
       "      <td>0.0</td>\n",
       "      <td>0.0</td>\n",
       "      <td>0.0</td>\n",
       "      <td>0.0</td>\n",
       "      <td>0.0</td>\n",
       "      <td>0.0</td>\n",
       "      <td>0.00</td>\n",
       "      <td>-0.01</td>\n",
       "      <td>-0.01</td>\n",
       "      <td>-0.01</td>\n",
       "      <td>...</td>\n",
       "      <td>0.5</td>\n",
       "      <td>1.2</td>\n",
       "      <td>0.0</td>\n",
       "      <td>0.0</td>\n",
       "      <td>0.10</td>\n",
       "      <td>0.00</td>\n",
       "      <td>0.17</td>\n",
       "      <td>0</td>\n",
       "      <td>0</td>\n",
       "      <td>1</td>\n",
       "    </tr>\n",
       "    <tr>\n",
       "      <th>2</th>\n",
       "      <td>1.0</td>\n",
       "      <td>0.0</td>\n",
       "      <td>0.0</td>\n",
       "      <td>0.0</td>\n",
       "      <td>0.0</td>\n",
       "      <td>1.0</td>\n",
       "      <td>0.00</td>\n",
       "      <td>0.10</td>\n",
       "      <td>0.00</td>\n",
       "      <td>0.17</td>\n",
       "      <td>...</td>\n",
       "      <td>0.0</td>\n",
       "      <td>0.0</td>\n",
       "      <td>0.0</td>\n",
       "      <td>0.0</td>\n",
       "      <td>-0.01</td>\n",
       "      <td>-0.01</td>\n",
       "      <td>-0.01</td>\n",
       "      <td>0</td>\n",
       "      <td>0</td>\n",
       "      <td>2</td>\n",
       "    </tr>\n",
       "    <tr>\n",
       "      <th>3</th>\n",
       "      <td>0.0</td>\n",
       "      <td>0.0</td>\n",
       "      <td>0.0</td>\n",
       "      <td>0.0</td>\n",
       "      <td>0.0</td>\n",
       "      <td>0.0</td>\n",
       "      <td>0.00</td>\n",
       "      <td>-0.01</td>\n",
       "      <td>-0.01</td>\n",
       "      <td>-0.01</td>\n",
       "      <td>...</td>\n",
       "      <td>0.0</td>\n",
       "      <td>0.0</td>\n",
       "      <td>1.0</td>\n",
       "      <td>0.0</td>\n",
       "      <td>0.10</td>\n",
       "      <td>0.00</td>\n",
       "      <td>0.17</td>\n",
       "      <td>0</td>\n",
       "      <td>0</td>\n",
       "      <td>3</td>\n",
       "    </tr>\n",
       "    <tr>\n",
       "      <th>4</th>\n",
       "      <td>1.0</td>\n",
       "      <td>0.0</td>\n",
       "      <td>0.0</td>\n",
       "      <td>0.0</td>\n",
       "      <td>0.0</td>\n",
       "      <td>0.0</td>\n",
       "      <td>1.08</td>\n",
       "      <td>0.08</td>\n",
       "      <td>0.00</td>\n",
       "      <td>0.18</td>\n",
       "      <td>...</td>\n",
       "      <td>0.0</td>\n",
       "      <td>0.0</td>\n",
       "      <td>0.0</td>\n",
       "      <td>0.0</td>\n",
       "      <td>0.11</td>\n",
       "      <td>0.00</td>\n",
       "      <td>0.17</td>\n",
       "      <td>0</td>\n",
       "      <td>0</td>\n",
       "      <td>4</td>\n",
       "    </tr>\n",
       "    <tr>\n",
       "      <th>5</th>\n",
       "      <td>1.0</td>\n",
       "      <td>16.4</td>\n",
       "      <td>10.0</td>\n",
       "      <td>0.0</td>\n",
       "      <td>0.0</td>\n",
       "      <td>1.0</td>\n",
       "      <td>0.00</td>\n",
       "      <td>0.11</td>\n",
       "      <td>0.00</td>\n",
       "      <td>0.17</td>\n",
       "      <td>...</td>\n",
       "      <td>0.0</td>\n",
       "      <td>0.0</td>\n",
       "      <td>0.0</td>\n",
       "      <td>1.0</td>\n",
       "      <td>0.08</td>\n",
       "      <td>0.00</td>\n",
       "      <td>0.17</td>\n",
       "      <td>0</td>\n",
       "      <td>0</td>\n",
       "      <td>5</td>\n",
       "    </tr>\n",
       "    <tr>\n",
       "      <th>6</th>\n",
       "      <td>1.0</td>\n",
       "      <td>0.0</td>\n",
       "      <td>0.0</td>\n",
       "      <td>0.0</td>\n",
       "      <td>0.0</td>\n",
       "      <td>0.0</td>\n",
       "      <td>1.00</td>\n",
       "      <td>0.10</td>\n",
       "      <td>0.00</td>\n",
       "      <td>0.15</td>\n",
       "      <td>...</td>\n",
       "      <td>0.0</td>\n",
       "      <td>0.0</td>\n",
       "      <td>0.0</td>\n",
       "      <td>0.0</td>\n",
       "      <td>0.09</td>\n",
       "      <td>0.00</td>\n",
       "      <td>0.18</td>\n",
       "      <td>0</td>\n",
       "      <td>0</td>\n",
       "      <td>6</td>\n",
       "    </tr>\n",
       "    <tr>\n",
       "      <th>7</th>\n",
       "      <td>1.0</td>\n",
       "      <td>5.2</td>\n",
       "      <td>0.0</td>\n",
       "      <td>0.5</td>\n",
       "      <td>1.2</td>\n",
       "      <td>0.0</td>\n",
       "      <td>0.00</td>\n",
       "      <td>0.10</td>\n",
       "      <td>0.00</td>\n",
       "      <td>0.17</td>\n",
       "      <td>...</td>\n",
       "      <td>0.0</td>\n",
       "      <td>0.0</td>\n",
       "      <td>0.0</td>\n",
       "      <td>0.0</td>\n",
       "      <td>-0.01</td>\n",
       "      <td>-0.01</td>\n",
       "      <td>-0.01</td>\n",
       "      <td>0</td>\n",
       "      <td>0</td>\n",
       "      <td>7</td>\n",
       "    </tr>\n",
       "    <tr>\n",
       "      <th>8</th>\n",
       "      <td>0.0</td>\n",
       "      <td>0.0</td>\n",
       "      <td>0.0</td>\n",
       "      <td>0.0</td>\n",
       "      <td>0.0</td>\n",
       "      <td>0.0</td>\n",
       "      <td>0.00</td>\n",
       "      <td>-0.01</td>\n",
       "      <td>-0.01</td>\n",
       "      <td>-0.01</td>\n",
       "      <td>...</td>\n",
       "      <td>0.0</td>\n",
       "      <td>1.2</td>\n",
       "      <td>0.0</td>\n",
       "      <td>0.0</td>\n",
       "      <td>0.11</td>\n",
       "      <td>0.00</td>\n",
       "      <td>0.18</td>\n",
       "      <td>0</td>\n",
       "      <td>0</td>\n",
       "      <td>8</td>\n",
       "    </tr>\n",
       "    <tr>\n",
       "      <th>9</th>\n",
       "      <td>1.0</td>\n",
       "      <td>0.0</td>\n",
       "      <td>0.0</td>\n",
       "      <td>0.0</td>\n",
       "      <td>0.0</td>\n",
       "      <td>1.0</td>\n",
       "      <td>0.00</td>\n",
       "      <td>0.10</td>\n",
       "      <td>0.00</td>\n",
       "      <td>0.17</td>\n",
       "      <td>...</td>\n",
       "      <td>0.0</td>\n",
       "      <td>0.0</td>\n",
       "      <td>0.0</td>\n",
       "      <td>0.0</td>\n",
       "      <td>-0.01</td>\n",
       "      <td>-0.01</td>\n",
       "      <td>-0.01</td>\n",
       "      <td>0</td>\n",
       "      <td>0</td>\n",
       "      <td>9</td>\n",
       "    </tr>\n",
       "  </tbody>\n",
       "</table>\n",
       "<p>10 rows × 73 columns</p>\n",
       "</div>"
      ],
      "text/plain": [
       "   nr. sessions  total km  km Z3-4  km Z5-T1-T2  km sprinting  \\\n",
       "0           1.0       5.8      0.0          0.6           1.2   \n",
       "1           0.0       0.0      0.0          0.0           0.0   \n",
       "2           1.0       0.0      0.0          0.0           0.0   \n",
       "3           0.0       0.0      0.0          0.0           0.0   \n",
       "4           1.0       0.0      0.0          0.0           0.0   \n",
       "5           1.0      16.4     10.0          0.0           0.0   \n",
       "6           1.0       0.0      0.0          0.0           0.0   \n",
       "7           1.0       5.2      0.0          0.5           1.2   \n",
       "8           0.0       0.0      0.0          0.0           0.0   \n",
       "9           1.0       0.0      0.0          0.0           0.0   \n",
       "\n",
       "   strength training  hours alternative  perceived exertion  \\\n",
       "0                0.0               0.00                0.11   \n",
       "1                0.0               0.00               -0.01   \n",
       "2                1.0               0.00                0.10   \n",
       "3                0.0               0.00               -0.01   \n",
       "4                0.0               1.08                0.08   \n",
       "5                1.0               0.00                0.11   \n",
       "6                0.0               1.00                0.10   \n",
       "7                0.0               0.00                0.10   \n",
       "8                0.0               0.00               -0.01   \n",
       "9                1.0               0.00                0.10   \n",
       "\n",
       "   perceived trainingSuccess  perceived recovery  ...  km Z5-T1-T2.6  \\\n",
       "0                       0.00                0.18  ...            0.0   \n",
       "1                      -0.01               -0.01  ...            0.5   \n",
       "2                       0.00                0.17  ...            0.0   \n",
       "3                      -0.01               -0.01  ...            0.0   \n",
       "4                       0.00                0.18  ...            0.0   \n",
       "5                       0.00                0.17  ...            0.0   \n",
       "6                       0.00                0.15  ...            0.0   \n",
       "7                       0.00                0.17  ...            0.0   \n",
       "8                      -0.01               -0.01  ...            0.0   \n",
       "9                       0.00                0.17  ...            0.0   \n",
       "\n",
       "   km sprinting.6  strength training.6  hours alternative.6  \\\n",
       "0             0.0                  0.0                  1.0   \n",
       "1             1.2                  0.0                  0.0   \n",
       "2             0.0                  0.0                  0.0   \n",
       "3             0.0                  1.0                  0.0   \n",
       "4             0.0                  0.0                  0.0   \n",
       "5             0.0                  0.0                  1.0   \n",
       "6             0.0                  0.0                  0.0   \n",
       "7             0.0                  0.0                  0.0   \n",
       "8             1.2                  0.0                  0.0   \n",
       "9             0.0                  0.0                  0.0   \n",
       "\n",
       "   perceived exertion.6  perceived trainingSuccess.6  perceived recovery.6  \\\n",
       "0                  0.10                         0.00                  0.15   \n",
       "1                  0.10                         0.00                  0.17   \n",
       "2                 -0.01                        -0.01                 -0.01   \n",
       "3                  0.10                         0.00                  0.17   \n",
       "4                  0.11                         0.00                  0.17   \n",
       "5                  0.08                         0.00                  0.17   \n",
       "6                  0.09                         0.00                  0.18   \n",
       "7                 -0.01                        -0.01                 -0.01   \n",
       "8                  0.11                         0.00                  0.18   \n",
       "9                 -0.01                        -0.01                 -0.01   \n",
       "\n",
       "   Athlete ID  injury  Date  \n",
       "0           0       0     0  \n",
       "1           0       0     1  \n",
       "2           0       0     2  \n",
       "3           0       0     3  \n",
       "4           0       0     4  \n",
       "5           0       0     5  \n",
       "6           0       0     6  \n",
       "7           0       0     7  \n",
       "8           0       0     8  \n",
       "9           0       0     9  \n",
       "\n",
       "[10 rows x 73 columns]"
      ]
     },
     "execution_count": 3,
     "metadata": {},
     "output_type": "execute_result"
    }
   ],
   "source": [
    "day_df.head(10)"
   ]
  },
  {
   "cell_type": "code",
   "execution_count": 4,
   "id": "minor-apparel",
   "metadata": {
    "execution": {
     "iopub.execute_input": "2021-07-19T21:05:24.939910Z",
     "iopub.status.busy": "2021-07-19T21:05:24.939140Z",
     "iopub.status.idle": "2021-07-19T21:05:24.942163Z",
     "shell.execute_reply": "2021-07-19T21:05:24.941614Z",
     "shell.execute_reply.started": "2021-07-19T19:35:42.980592Z"
    },
    "papermill": {
     "duration": 0.025206,
     "end_time": "2021-07-19T21:05:24.942292",
     "exception": false,
     "start_time": "2021-07-19T21:05:24.917086",
     "status": "completed"
    },
    "tags": []
   },
   "outputs": [],
   "source": [
    "# set seed for reproducibility\n",
    "np.random.seed(0) "
   ]
  },
  {
   "cell_type": "code",
   "execution_count": 5,
   "id": "perfect-chance",
   "metadata": {
    "execution": {
     "iopub.execute_input": "2021-07-19T21:05:24.984192Z",
     "iopub.status.busy": "2021-07-19T21:05:24.983575Z",
     "iopub.status.idle": "2021-07-19T21:05:24.997086Z",
     "shell.execute_reply": "2021-07-19T21:05:24.997604Z",
     "shell.execute_reply.started": "2021-07-19T19:35:42.989472Z"
    },
    "papermill": {
     "duration": 0.036957,
     "end_time": "2021-07-19T21:05:24.997789",
     "exception": false,
     "start_time": "2021-07-19T21:05:24.960832",
     "status": "completed"
    },
    "tags": []
   },
   "outputs": [
    {
     "data": {
      "text/plain": [
       "nr. sessions                   0\n",
       "total km                       0\n",
       "km Z3-4                        0\n",
       "km Z5-T1-T2                    0\n",
       "km sprinting                   0\n",
       "                              ..\n",
       "perceived trainingSuccess.6    0\n",
       "perceived recovery.6           0\n",
       "Athlete ID                     0\n",
       "injury                         0\n",
       "Date                           0\n",
       "Length: 73, dtype: int64"
      ]
     },
     "execution_count": 5,
     "metadata": {},
     "output_type": "execute_result"
    }
   ],
   "source": [
    "#get the number of missing data points per column\n",
    "missing_values_count = day_df.isnull().sum()\n",
    "missing_values_count"
   ]
  },
  {
   "cell_type": "code",
   "execution_count": 6,
   "id": "skilled-paragraph",
   "metadata": {
    "execution": {
     "iopub.execute_input": "2021-07-19T21:05:25.045320Z",
     "iopub.status.busy": "2021-07-19T21:05:25.044701Z",
     "iopub.status.idle": "2021-07-19T21:05:25.097482Z",
     "shell.execute_reply": "2021-07-19T21:05:25.096810Z",
     "shell.execute_reply.started": "2021-07-19T19:35:43.015321Z"
    },
    "papermill": {
     "duration": 0.081044,
     "end_time": "2021-07-19T21:05:25.097622",
     "exception": false,
     "start_time": "2021-07-19T21:05:25.016578",
     "status": "completed"
    },
    "tags": []
   },
   "outputs": [
    {
     "data": {
      "text/html": [
       "<div>\n",
       "<style scoped>\n",
       "    .dataframe tbody tr th:only-of-type {\n",
       "        vertical-align: middle;\n",
       "    }\n",
       "\n",
       "    .dataframe tbody tr th {\n",
       "        vertical-align: top;\n",
       "    }\n",
       "\n",
       "    .dataframe thead th {\n",
       "        text-align: right;\n",
       "    }\n",
       "</style>\n",
       "<table border=\"1\" class=\"dataframe\">\n",
       "  <thead>\n",
       "    <tr style=\"text-align: right;\">\n",
       "      <th></th>\n",
       "      <th>nr. sessions</th>\n",
       "      <th>total km</th>\n",
       "      <th>km Z3-4</th>\n",
       "      <th>km Z5-T1-T2</th>\n",
       "      <th>km sprinting</th>\n",
       "      <th>strength training</th>\n",
       "      <th>hours alternative</th>\n",
       "      <th>perceived exertion</th>\n",
       "      <th>perceived trainingSuccess</th>\n",
       "      <th>perceived recovery</th>\n",
       "      <th>...</th>\n",
       "      <th>km Z5-T1-T2.6</th>\n",
       "      <th>km sprinting.6</th>\n",
       "      <th>strength training.6</th>\n",
       "      <th>hours alternative.6</th>\n",
       "      <th>perceived exertion.6</th>\n",
       "      <th>perceived trainingSuccess.6</th>\n",
       "      <th>perceived recovery.6</th>\n",
       "      <th>Athlete ID</th>\n",
       "      <th>injury</th>\n",
       "      <th>Date</th>\n",
       "    </tr>\n",
       "  </thead>\n",
       "  <tbody>\n",
       "    <tr>\n",
       "      <th>0</th>\n",
       "      <td>1.0</td>\n",
       "      <td>5.8</td>\n",
       "      <td>0.0</td>\n",
       "      <td>0.6</td>\n",
       "      <td>1.2</td>\n",
       "      <td>0.0</td>\n",
       "      <td>0.00</td>\n",
       "      <td>0.11</td>\n",
       "      <td>0.00</td>\n",
       "      <td>0.18</td>\n",
       "      <td>...</td>\n",
       "      <td>0.0</td>\n",
       "      <td>0.0</td>\n",
       "      <td>0.0</td>\n",
       "      <td>1.0</td>\n",
       "      <td>0.10</td>\n",
       "      <td>0.00</td>\n",
       "      <td>0.15</td>\n",
       "      <td>0</td>\n",
       "      <td>0</td>\n",
       "      <td>0</td>\n",
       "    </tr>\n",
       "    <tr>\n",
       "      <th>1</th>\n",
       "      <td>0.0</td>\n",
       "      <td>0.0</td>\n",
       "      <td>0.0</td>\n",
       "      <td>0.0</td>\n",
       "      <td>0.0</td>\n",
       "      <td>0.0</td>\n",
       "      <td>0.00</td>\n",
       "      <td>-0.01</td>\n",
       "      <td>-0.01</td>\n",
       "      <td>-0.01</td>\n",
       "      <td>...</td>\n",
       "      <td>0.5</td>\n",
       "      <td>1.2</td>\n",
       "      <td>0.0</td>\n",
       "      <td>0.0</td>\n",
       "      <td>0.10</td>\n",
       "      <td>0.00</td>\n",
       "      <td>0.17</td>\n",
       "      <td>0</td>\n",
       "      <td>0</td>\n",
       "      <td>1</td>\n",
       "    </tr>\n",
       "    <tr>\n",
       "      <th>2</th>\n",
       "      <td>1.0</td>\n",
       "      <td>0.0</td>\n",
       "      <td>0.0</td>\n",
       "      <td>0.0</td>\n",
       "      <td>0.0</td>\n",
       "      <td>1.0</td>\n",
       "      <td>0.00</td>\n",
       "      <td>0.10</td>\n",
       "      <td>0.00</td>\n",
       "      <td>0.17</td>\n",
       "      <td>...</td>\n",
       "      <td>0.0</td>\n",
       "      <td>0.0</td>\n",
       "      <td>0.0</td>\n",
       "      <td>0.0</td>\n",
       "      <td>-0.01</td>\n",
       "      <td>-0.01</td>\n",
       "      <td>-0.01</td>\n",
       "      <td>0</td>\n",
       "      <td>0</td>\n",
       "      <td>2</td>\n",
       "    </tr>\n",
       "    <tr>\n",
       "      <th>3</th>\n",
       "      <td>0.0</td>\n",
       "      <td>0.0</td>\n",
       "      <td>0.0</td>\n",
       "      <td>0.0</td>\n",
       "      <td>0.0</td>\n",
       "      <td>0.0</td>\n",
       "      <td>0.00</td>\n",
       "      <td>-0.01</td>\n",
       "      <td>-0.01</td>\n",
       "      <td>-0.01</td>\n",
       "      <td>...</td>\n",
       "      <td>0.0</td>\n",
       "      <td>0.0</td>\n",
       "      <td>1.0</td>\n",
       "      <td>0.0</td>\n",
       "      <td>0.10</td>\n",
       "      <td>0.00</td>\n",
       "      <td>0.17</td>\n",
       "      <td>0</td>\n",
       "      <td>0</td>\n",
       "      <td>3</td>\n",
       "    </tr>\n",
       "    <tr>\n",
       "      <th>4</th>\n",
       "      <td>1.0</td>\n",
       "      <td>0.0</td>\n",
       "      <td>0.0</td>\n",
       "      <td>0.0</td>\n",
       "      <td>0.0</td>\n",
       "      <td>0.0</td>\n",
       "      <td>1.08</td>\n",
       "      <td>0.08</td>\n",
       "      <td>0.00</td>\n",
       "      <td>0.18</td>\n",
       "      <td>...</td>\n",
       "      <td>0.0</td>\n",
       "      <td>0.0</td>\n",
       "      <td>0.0</td>\n",
       "      <td>0.0</td>\n",
       "      <td>0.11</td>\n",
       "      <td>0.00</td>\n",
       "      <td>0.17</td>\n",
       "      <td>0</td>\n",
       "      <td>0</td>\n",
       "      <td>4</td>\n",
       "    </tr>\n",
       "  </tbody>\n",
       "</table>\n",
       "<p>5 rows × 73 columns</p>\n",
       "</div>"
      ],
      "text/plain": [
       "   nr. sessions  total km  km Z3-4  km Z5-T1-T2  km sprinting  \\\n",
       "0           1.0       5.8      0.0          0.6           1.2   \n",
       "1           0.0       0.0      0.0          0.0           0.0   \n",
       "2           1.0       0.0      0.0          0.0           0.0   \n",
       "3           0.0       0.0      0.0          0.0           0.0   \n",
       "4           1.0       0.0      0.0          0.0           0.0   \n",
       "\n",
       "   strength training  hours alternative  perceived exertion  \\\n",
       "0                0.0               0.00                0.11   \n",
       "1                0.0               0.00               -0.01   \n",
       "2                1.0               0.00                0.10   \n",
       "3                0.0               0.00               -0.01   \n",
       "4                0.0               1.08                0.08   \n",
       "\n",
       "   perceived trainingSuccess  perceived recovery  ...  km Z5-T1-T2.6  \\\n",
       "0                       0.00                0.18  ...            0.0   \n",
       "1                      -0.01               -0.01  ...            0.5   \n",
       "2                       0.00                0.17  ...            0.0   \n",
       "3                      -0.01               -0.01  ...            0.0   \n",
       "4                       0.00                0.18  ...            0.0   \n",
       "\n",
       "   km sprinting.6  strength training.6  hours alternative.6  \\\n",
       "0             0.0                  0.0                  1.0   \n",
       "1             1.2                  0.0                  0.0   \n",
       "2             0.0                  0.0                  0.0   \n",
       "3             0.0                  1.0                  0.0   \n",
       "4             0.0                  0.0                  0.0   \n",
       "\n",
       "   perceived exertion.6  perceived trainingSuccess.6  perceived recovery.6  \\\n",
       "0                  0.10                         0.00                  0.15   \n",
       "1                  0.10                         0.00                  0.17   \n",
       "2                 -0.01                        -0.01                 -0.01   \n",
       "3                  0.10                         0.00                  0.17   \n",
       "4                  0.11                         0.00                  0.17   \n",
       "\n",
       "   Athlete ID  injury  Date  \n",
       "0           0       0     0  \n",
       "1           0       0     1  \n",
       "2           0       0     2  \n",
       "3           0       0     3  \n",
       "4           0       0     4  \n",
       "\n",
       "[5 rows x 73 columns]"
      ]
     },
     "execution_count": 6,
     "metadata": {},
     "output_type": "execute_result"
    }
   ],
   "source": [
    "columns_with_na_dropped = day_df.dropna(axis=1)\n",
    "columns_with_na_dropped.head()"
   ]
  },
  {
   "cell_type": "code",
   "execution_count": 7,
   "id": "herbal-forty",
   "metadata": {
    "execution": {
     "iopub.execute_input": "2021-07-19T21:05:25.142165Z",
     "iopub.status.busy": "2021-07-19T21:05:25.141560Z",
     "iopub.status.idle": "2021-07-19T21:05:25.169926Z",
     "shell.execute_reply": "2021-07-19T21:05:25.170432Z",
     "shell.execute_reply.started": "2021-07-19T19:35:43.098291Z"
    },
    "papermill": {
     "duration": 0.053469,
     "end_time": "2021-07-19T21:05:25.170603",
     "exception": false,
     "start_time": "2021-07-19T21:05:25.117134",
     "status": "completed"
    },
    "tags": []
   },
   "outputs": [
    {
     "name": "stdout",
     "output_type": "stream",
     "text": [
      "<class 'pandas.core.frame.DataFrame'>\n",
      "RangeIndex: 42766 entries, 0 to 42765\n",
      "Data columns (total 73 columns):\n",
      " #   Column                       Non-Null Count  Dtype  \n",
      "---  ------                       --------------  -----  \n",
      " 0   nr. sessions                 42766 non-null  float64\n",
      " 1   total km                     42766 non-null  float64\n",
      " 2   km Z3-4                      42766 non-null  float64\n",
      " 3   km Z5-T1-T2                  42766 non-null  float64\n",
      " 4   km sprinting                 42766 non-null  float64\n",
      " 5   strength training            42766 non-null  float64\n",
      " 6   hours alternative            42766 non-null  float64\n",
      " 7   perceived exertion           42766 non-null  float64\n",
      " 8   perceived trainingSuccess    42766 non-null  float64\n",
      " 9   perceived recovery           42766 non-null  float64\n",
      " 10  nr. sessions.1               42766 non-null  float64\n",
      " 11  total km.1                   42766 non-null  float64\n",
      " 12  km Z3-4.1                    42766 non-null  float64\n",
      " 13  km Z5-T1-T2.1                42766 non-null  float64\n",
      " 14  km sprinting.1               42766 non-null  float64\n",
      " 15  strength training.1          42766 non-null  float64\n",
      " 16  hours alternative.1          42766 non-null  float64\n",
      " 17  perceived exertion.1         42766 non-null  float64\n",
      " 18  perceived trainingSuccess.1  42766 non-null  float64\n",
      " 19  perceived recovery.1         42766 non-null  float64\n",
      " 20  nr. sessions.2               42766 non-null  float64\n",
      " 21  total km.2                   42766 non-null  float64\n",
      " 22  km Z3-4.2                    42766 non-null  float64\n",
      " 23  km Z5-T1-T2.2                42766 non-null  float64\n",
      " 24  km sprinting.2               42766 non-null  float64\n",
      " 25  strength training.2          42766 non-null  float64\n",
      " 26  hours alternative.2          42766 non-null  float64\n",
      " 27  perceived exertion.2         42766 non-null  float64\n",
      " 28  perceived trainingSuccess.2  42766 non-null  float64\n",
      " 29  perceived recovery.2         42766 non-null  float64\n",
      " 30  nr. sessions.3               42766 non-null  float64\n",
      " 31  total km.3                   42766 non-null  float64\n",
      " 32  km Z3-4.3                    42766 non-null  float64\n",
      " 33  km Z5-T1-T2.3                42766 non-null  float64\n",
      " 34  km sprinting.3               42766 non-null  float64\n",
      " 35  strength training.3          42766 non-null  float64\n",
      " 36  hours alternative.3          42766 non-null  float64\n",
      " 37  perceived exertion.3         42766 non-null  float64\n",
      " 38  perceived trainingSuccess.3  42766 non-null  float64\n",
      " 39  perceived recovery.3         42766 non-null  float64\n",
      " 40  nr. sessions.4               42766 non-null  float64\n",
      " 41  total km.4                   42766 non-null  float64\n",
      " 42  km Z3-4.4                    42766 non-null  float64\n",
      " 43  km Z5-T1-T2.4                42766 non-null  float64\n",
      " 44  km sprinting.4               42766 non-null  float64\n",
      " 45  strength training.4          42766 non-null  float64\n",
      " 46  hours alternative.4          42766 non-null  float64\n",
      " 47  perceived exertion.4         42766 non-null  float64\n",
      " 48  perceived trainingSuccess.4  42766 non-null  float64\n",
      " 49  perceived recovery.4         42766 non-null  float64\n",
      " 50  nr. sessions.5               42766 non-null  float64\n",
      " 51  total km.5                   42766 non-null  float64\n",
      " 52  km Z3-4.5                    42766 non-null  float64\n",
      " 53  km Z5-T1-T2.5                42766 non-null  float64\n",
      " 54  km sprinting.5               42766 non-null  float64\n",
      " 55  strength training.5          42766 non-null  float64\n",
      " 56  hours alternative.5          42766 non-null  float64\n",
      " 57  perceived exertion.5         42766 non-null  float64\n",
      " 58  perceived trainingSuccess.5  42766 non-null  float64\n",
      " 59  perceived recovery.5         42766 non-null  float64\n",
      " 60  nr. sessions.6               42766 non-null  float64\n",
      " 61  total km.6                   42766 non-null  float64\n",
      " 62  km Z3-4.6                    42766 non-null  float64\n",
      " 63  km Z5-T1-T2.6                42766 non-null  float64\n",
      " 64  km sprinting.6               42766 non-null  float64\n",
      " 65  strength training.6          42766 non-null  float64\n",
      " 66  hours alternative.6          42766 non-null  float64\n",
      " 67  perceived exertion.6         42766 non-null  float64\n",
      " 68  perceived trainingSuccess.6  42766 non-null  float64\n",
      " 69  perceived recovery.6         42766 non-null  float64\n",
      " 70  Athlete ID                   42766 non-null  int64  \n",
      " 71  injury                       42766 non-null  int64  \n",
      " 72  Date                         42766 non-null  int64  \n",
      "dtypes: float64(70), int64(3)\n",
      "memory usage: 23.8 MB\n"
     ]
    }
   ],
   "source": [
    "day_df.info()"
   ]
  },
  {
   "cell_type": "code",
   "execution_count": 8,
   "id": "incorporate-field",
   "metadata": {
    "execution": {
     "iopub.execute_input": "2021-07-19T21:05:25.214866Z",
     "iopub.status.busy": "2021-07-19T21:05:25.213911Z",
     "iopub.status.idle": "2021-07-19T21:05:25.500295Z",
     "shell.execute_reply": "2021-07-19T21:05:25.500779Z",
     "shell.execute_reply.started": "2021-07-19T19:35:43.136466Z"
    },
    "papermill": {
     "duration": 0.310718,
     "end_time": "2021-07-19T21:05:25.500954",
     "exception": false,
     "start_time": "2021-07-19T21:05:25.190236",
     "status": "completed"
    },
    "tags": []
   },
   "outputs": [
    {
     "data": {
      "text/html": [
       "<div>\n",
       "<style scoped>\n",
       "    .dataframe tbody tr th:only-of-type {\n",
       "        vertical-align: middle;\n",
       "    }\n",
       "\n",
       "    .dataframe tbody tr th {\n",
       "        vertical-align: top;\n",
       "    }\n",
       "\n",
       "    .dataframe thead th {\n",
       "        text-align: right;\n",
       "    }\n",
       "</style>\n",
       "<table border=\"1\" class=\"dataframe\">\n",
       "  <thead>\n",
       "    <tr style=\"text-align: right;\">\n",
       "      <th></th>\n",
       "      <th>nr. sessions</th>\n",
       "      <th>total km</th>\n",
       "      <th>km Z3-4</th>\n",
       "      <th>km Z5-T1-T2</th>\n",
       "      <th>km sprinting</th>\n",
       "      <th>strength training</th>\n",
       "      <th>hours alternative</th>\n",
       "      <th>perceived exertion</th>\n",
       "      <th>perceived trainingSuccess</th>\n",
       "      <th>perceived recovery</th>\n",
       "      <th>...</th>\n",
       "      <th>km Z5-T1-T2.6</th>\n",
       "      <th>km sprinting.6</th>\n",
       "      <th>strength training.6</th>\n",
       "      <th>hours alternative.6</th>\n",
       "      <th>perceived exertion.6</th>\n",
       "      <th>perceived trainingSuccess.6</th>\n",
       "      <th>perceived recovery.6</th>\n",
       "      <th>Athlete ID</th>\n",
       "      <th>injury</th>\n",
       "      <th>Date</th>\n",
       "    </tr>\n",
       "  </thead>\n",
       "  <tbody>\n",
       "    <tr>\n",
       "      <th>count</th>\n",
       "      <td>42766.000000</td>\n",
       "      <td>42766.000000</td>\n",
       "      <td>42766.000000</td>\n",
       "      <td>42766.000000</td>\n",
       "      <td>42766.000000</td>\n",
       "      <td>42766.000000</td>\n",
       "      <td>42766.000000</td>\n",
       "      <td>42766.000000</td>\n",
       "      <td>42766.000000</td>\n",
       "      <td>42766.000000</td>\n",
       "      <td>...</td>\n",
       "      <td>42766.000000</td>\n",
       "      <td>42766.000000</td>\n",
       "      <td>42766.000000</td>\n",
       "      <td>42766.000000</td>\n",
       "      <td>42766.000000</td>\n",
       "      <td>42766.000000</td>\n",
       "      <td>42766.000000</td>\n",
       "      <td>42766.000000</td>\n",
       "      <td>42766.000000</td>\n",
       "      <td>42766.000000</td>\n",
       "    </tr>\n",
       "    <tr>\n",
       "      <th>mean</th>\n",
       "      <td>0.829561</td>\n",
       "      <td>7.038187</td>\n",
       "      <td>0.691381</td>\n",
       "      <td>0.579930</td>\n",
       "      <td>0.073016</td>\n",
       "      <td>0.116237</td>\n",
       "      <td>0.163492</td>\n",
       "      <td>0.247788</td>\n",
       "      <td>0.349802</td>\n",
       "      <td>0.195898</td>\n",
       "      <td>...</td>\n",
       "      <td>0.580347</td>\n",
       "      <td>0.072595</td>\n",
       "      <td>0.116120</td>\n",
       "      <td>0.162308</td>\n",
       "      <td>0.247550</td>\n",
       "      <td>0.349503</td>\n",
       "      <td>0.196224</td>\n",
       "      <td>34.550858</td>\n",
       "      <td>0.013632</td>\n",
       "      <td>1228.039892</td>\n",
       "    </tr>\n",
       "    <tr>\n",
       "      <th>std</th>\n",
       "      <td>0.580696</td>\n",
       "      <td>7.473216</td>\n",
       "      <td>2.317657</td>\n",
       "      <td>1.811938</td>\n",
       "      <td>0.483480</td>\n",
       "      <td>0.326010</td>\n",
       "      <td>0.549664</td>\n",
       "      <td>0.257262</td>\n",
       "      <td>0.368300</td>\n",
       "      <td>0.190321</td>\n",
       "      <td>...</td>\n",
       "      <td>1.814538</td>\n",
       "      <td>0.483691</td>\n",
       "      <td>0.326016</td>\n",
       "      <td>0.554031</td>\n",
       "      <td>0.256718</td>\n",
       "      <td>0.368042</td>\n",
       "      <td>0.190568</td>\n",
       "      <td>19.050033</td>\n",
       "      <td>0.115960</td>\n",
       "      <td>807.021168</td>\n",
       "    </tr>\n",
       "    <tr>\n",
       "      <th>min</th>\n",
       "      <td>0.000000</td>\n",
       "      <td>0.000000</td>\n",
       "      <td>0.000000</td>\n",
       "      <td>0.000000</td>\n",
       "      <td>0.000000</td>\n",
       "      <td>0.000000</td>\n",
       "      <td>0.000000</td>\n",
       "      <td>-0.010000</td>\n",
       "      <td>-0.010000</td>\n",
       "      <td>-0.010000</td>\n",
       "      <td>...</td>\n",
       "      <td>0.000000</td>\n",
       "      <td>0.000000</td>\n",
       "      <td>0.000000</td>\n",
       "      <td>0.000000</td>\n",
       "      <td>-0.010000</td>\n",
       "      <td>-0.010000</td>\n",
       "      <td>-0.010000</td>\n",
       "      <td>0.000000</td>\n",
       "      <td>0.000000</td>\n",
       "      <td>0.000000</td>\n",
       "    </tr>\n",
       "    <tr>\n",
       "      <th>25%</th>\n",
       "      <td>0.000000</td>\n",
       "      <td>0.000000</td>\n",
       "      <td>0.000000</td>\n",
       "      <td>0.000000</td>\n",
       "      <td>0.000000</td>\n",
       "      <td>0.000000</td>\n",
       "      <td>0.000000</td>\n",
       "      <td>-0.010000</td>\n",
       "      <td>-0.010000</td>\n",
       "      <td>-0.010000</td>\n",
       "      <td>...</td>\n",
       "      <td>0.000000</td>\n",
       "      <td>0.000000</td>\n",
       "      <td>0.000000</td>\n",
       "      <td>0.000000</td>\n",
       "      <td>-0.010000</td>\n",
       "      <td>-0.010000</td>\n",
       "      <td>-0.010000</td>\n",
       "      <td>20.000000</td>\n",
       "      <td>0.000000</td>\n",
       "      <td>436.000000</td>\n",
       "    </tr>\n",
       "    <tr>\n",
       "      <th>50%</th>\n",
       "      <td>1.000000</td>\n",
       "      <td>6.000000</td>\n",
       "      <td>0.000000</td>\n",
       "      <td>0.000000</td>\n",
       "      <td>0.000000</td>\n",
       "      <td>0.000000</td>\n",
       "      <td>0.000000</td>\n",
       "      <td>0.160000</td>\n",
       "      <td>0.260000</td>\n",
       "      <td>0.160000</td>\n",
       "      <td>...</td>\n",
       "      <td>0.000000</td>\n",
       "      <td>0.000000</td>\n",
       "      <td>0.000000</td>\n",
       "      <td>0.000000</td>\n",
       "      <td>0.160000</td>\n",
       "      <td>0.260000</td>\n",
       "      <td>0.170000</td>\n",
       "      <td>34.000000</td>\n",
       "      <td>0.000000</td>\n",
       "      <td>1256.000000</td>\n",
       "    </tr>\n",
       "    <tr>\n",
       "      <th>75%</th>\n",
       "      <td>1.000000</td>\n",
       "      <td>12.000000</td>\n",
       "      <td>0.000000</td>\n",
       "      <td>0.000000</td>\n",
       "      <td>0.000000</td>\n",
       "      <td>0.000000</td>\n",
       "      <td>0.000000</td>\n",
       "      <td>0.440000</td>\n",
       "      <td>0.720000</td>\n",
       "      <td>0.300000</td>\n",
       "      <td>...</td>\n",
       "      <td>0.000000</td>\n",
       "      <td>0.000000</td>\n",
       "      <td>0.000000</td>\n",
       "      <td>0.000000</td>\n",
       "      <td>0.440000</td>\n",
       "      <td>0.720000</td>\n",
       "      <td>0.300000</td>\n",
       "      <td>50.000000</td>\n",
       "      <td>0.000000</td>\n",
       "      <td>1913.000000</td>\n",
       "    </tr>\n",
       "    <tr>\n",
       "      <th>max</th>\n",
       "      <td>2.000000</td>\n",
       "      <td>55.900000</td>\n",
       "      <td>42.200000</td>\n",
       "      <td>48.000000</td>\n",
       "      <td>40.000000</td>\n",
       "      <td>2.000000</td>\n",
       "      <td>10.220000</td>\n",
       "      <td>1.000000</td>\n",
       "      <td>1.000000</td>\n",
       "      <td>1.000000</td>\n",
       "      <td>...</td>\n",
       "      <td>48.000000</td>\n",
       "      <td>40.000000</td>\n",
       "      <td>2.000000</td>\n",
       "      <td>20.000000</td>\n",
       "      <td>1.000000</td>\n",
       "      <td>1.000000</td>\n",
       "      <td>1.000000</td>\n",
       "      <td>73.000000</td>\n",
       "      <td>1.000000</td>\n",
       "      <td>2673.000000</td>\n",
       "    </tr>\n",
       "  </tbody>\n",
       "</table>\n",
       "<p>8 rows × 73 columns</p>\n",
       "</div>"
      ],
      "text/plain": [
       "       nr. sessions      total km       km Z3-4   km Z5-T1-T2  km sprinting  \\\n",
       "count  42766.000000  42766.000000  42766.000000  42766.000000  42766.000000   \n",
       "mean       0.829561      7.038187      0.691381      0.579930      0.073016   \n",
       "std        0.580696      7.473216      2.317657      1.811938      0.483480   \n",
       "min        0.000000      0.000000      0.000000      0.000000      0.000000   \n",
       "25%        0.000000      0.000000      0.000000      0.000000      0.000000   \n",
       "50%        1.000000      6.000000      0.000000      0.000000      0.000000   \n",
       "75%        1.000000     12.000000      0.000000      0.000000      0.000000   \n",
       "max        2.000000     55.900000     42.200000     48.000000     40.000000   \n",
       "\n",
       "       strength training  hours alternative  perceived exertion  \\\n",
       "count       42766.000000       42766.000000        42766.000000   \n",
       "mean            0.116237           0.163492            0.247788   \n",
       "std             0.326010           0.549664            0.257262   \n",
       "min             0.000000           0.000000           -0.010000   \n",
       "25%             0.000000           0.000000           -0.010000   \n",
       "50%             0.000000           0.000000            0.160000   \n",
       "75%             0.000000           0.000000            0.440000   \n",
       "max             2.000000          10.220000            1.000000   \n",
       "\n",
       "       perceived trainingSuccess  perceived recovery  ...  km Z5-T1-T2.6  \\\n",
       "count               42766.000000        42766.000000  ...   42766.000000   \n",
       "mean                    0.349802            0.195898  ...       0.580347   \n",
       "std                     0.368300            0.190321  ...       1.814538   \n",
       "min                    -0.010000           -0.010000  ...       0.000000   \n",
       "25%                    -0.010000           -0.010000  ...       0.000000   \n",
       "50%                     0.260000            0.160000  ...       0.000000   \n",
       "75%                     0.720000            0.300000  ...       0.000000   \n",
       "max                     1.000000            1.000000  ...      48.000000   \n",
       "\n",
       "       km sprinting.6  strength training.6  hours alternative.6  \\\n",
       "count    42766.000000         42766.000000         42766.000000   \n",
       "mean         0.072595             0.116120             0.162308   \n",
       "std          0.483691             0.326016             0.554031   \n",
       "min          0.000000             0.000000             0.000000   \n",
       "25%          0.000000             0.000000             0.000000   \n",
       "50%          0.000000             0.000000             0.000000   \n",
       "75%          0.000000             0.000000             0.000000   \n",
       "max         40.000000             2.000000            20.000000   \n",
       "\n",
       "       perceived exertion.6  perceived trainingSuccess.6  \\\n",
       "count          42766.000000                 42766.000000   \n",
       "mean               0.247550                     0.349503   \n",
       "std                0.256718                     0.368042   \n",
       "min               -0.010000                    -0.010000   \n",
       "25%               -0.010000                    -0.010000   \n",
       "50%                0.160000                     0.260000   \n",
       "75%                0.440000                     0.720000   \n",
       "max                1.000000                     1.000000   \n",
       "\n",
       "       perceived recovery.6    Athlete ID        injury          Date  \n",
       "count          42766.000000  42766.000000  42766.000000  42766.000000  \n",
       "mean               0.196224     34.550858      0.013632   1228.039892  \n",
       "std                0.190568     19.050033      0.115960    807.021168  \n",
       "min               -0.010000      0.000000      0.000000      0.000000  \n",
       "25%               -0.010000     20.000000      0.000000    436.000000  \n",
       "50%                0.170000     34.000000      0.000000   1256.000000  \n",
       "75%                0.300000     50.000000      0.000000   1913.000000  \n",
       "max                1.000000     73.000000      1.000000   2673.000000  \n",
       "\n",
       "[8 rows x 73 columns]"
      ]
     },
     "execution_count": 8,
     "metadata": {},
     "output_type": "execute_result"
    }
   ],
   "source": [
    "day_df.describe()"
   ]
  },
  {
   "cell_type": "code",
   "execution_count": 9,
   "id": "hundred-capacity",
   "metadata": {
    "execution": {
     "iopub.execute_input": "2021-07-19T21:05:25.547779Z",
     "iopub.status.busy": "2021-07-19T21:05:25.547150Z",
     "iopub.status.idle": "2021-07-19T21:05:25.550580Z",
     "shell.execute_reply": "2021-07-19T21:05:25.550009Z",
     "shell.execute_reply.started": "2021-07-19T19:35:43.523668Z"
    },
    "papermill": {
     "duration": 0.028765,
     "end_time": "2021-07-19T21:05:25.550718",
     "exception": false,
     "start_time": "2021-07-19T21:05:25.521953",
     "status": "completed"
    },
    "tags": []
   },
   "outputs": [
    {
     "name": "stdout",
     "output_type": "stream",
     "text": [
      "Columns in original dataset: 73 \n",
      "\n",
      "Columns with na's dropped: 73\n"
     ]
    }
   ],
   "source": [
    "print(\"Columns in original dataset: %d \\n\" % day_df.shape[1])\n",
    "print(\"Columns with na's dropped: %d\" % columns_with_na_dropped.shape[1])\n"
   ]
  },
  {
   "cell_type": "code",
   "execution_count": 10,
   "id": "knowing-neighbor",
   "metadata": {
    "execution": {
     "iopub.execute_input": "2021-07-19T21:05:25.597643Z",
     "iopub.status.busy": "2021-07-19T21:05:25.596983Z",
     "iopub.status.idle": "2021-07-19T21:05:25.600133Z",
     "shell.execute_reply": "2021-07-19T21:05:25.600622Z",
     "shell.execute_reply.started": "2021-07-19T19:35:43.532345Z"
    },
    "papermill": {
     "duration": 0.029703,
     "end_time": "2021-07-19T21:05:25.600787",
     "exception": false,
     "start_time": "2021-07-19T21:05:25.571084",
     "status": "completed"
    },
    "tags": []
   },
   "outputs": [
    {
     "data": {
      "text/plain": [
       "Index(['nr. sessions', 'total km', 'km Z3-4', 'km Z5-T1-T2', 'km sprinting',\n",
       "       'strength training', 'hours alternative', 'perceived exertion',\n",
       "       'perceived trainingSuccess', 'perceived recovery', 'nr. sessions.1',\n",
       "       'total km.1', 'km Z3-4.1', 'km Z5-T1-T2.1', 'km sprinting.1',\n",
       "       'strength training.1', 'hours alternative.1', 'perceived exertion.1',\n",
       "       'perceived trainingSuccess.1', 'perceived recovery.1', 'nr. sessions.2',\n",
       "       'total km.2', 'km Z3-4.2', 'km Z5-T1-T2.2', 'km sprinting.2',\n",
       "       'strength training.2', 'hours alternative.2', 'perceived exertion.2',\n",
       "       'perceived trainingSuccess.2', 'perceived recovery.2', 'nr. sessions.3',\n",
       "       'total km.3', 'km Z3-4.3', 'km Z5-T1-T2.3', 'km sprinting.3',\n",
       "       'strength training.3', 'hours alternative.3', 'perceived exertion.3',\n",
       "       'perceived trainingSuccess.3', 'perceived recovery.3', 'nr. sessions.4',\n",
       "       'total km.4', 'km Z3-4.4', 'km Z5-T1-T2.4', 'km sprinting.4',\n",
       "       'strength training.4', 'hours alternative.4', 'perceived exertion.4',\n",
       "       'perceived trainingSuccess.4', 'perceived recovery.4', 'nr. sessions.5',\n",
       "       'total km.5', 'km Z3-4.5', 'km Z5-T1-T2.5', 'km sprinting.5',\n",
       "       'strength training.5', 'hours alternative.5', 'perceived exertion.5',\n",
       "       'perceived trainingSuccess.5', 'perceived recovery.5', 'nr. sessions.6',\n",
       "       'total km.6', 'km Z3-4.6', 'km Z5-T1-T2.6', 'km sprinting.6',\n",
       "       'strength training.6', 'hours alternative.6', 'perceived exertion.6',\n",
       "       'perceived trainingSuccess.6', 'perceived recovery.6', 'Athlete ID',\n",
       "       'injury', 'Date'],\n",
       "      dtype='object')"
      ]
     },
     "execution_count": 10,
     "metadata": {},
     "output_type": "execute_result"
    }
   ],
   "source": [
    "day_df.columns"
   ]
  },
  {
   "cell_type": "code",
   "execution_count": 11,
   "id": "sized-surgery",
   "metadata": {
    "execution": {
     "iopub.execute_input": "2021-07-19T21:05:25.644886Z",
     "iopub.status.busy": "2021-07-19T21:05:25.644266Z",
     "iopub.status.idle": "2021-07-19T21:05:25.659711Z",
     "shell.execute_reply": "2021-07-19T21:05:25.660166Z",
     "shell.execute_reply.started": "2021-07-19T19:35:43.549670Z"
    },
    "papermill": {
     "duration": 0.038947,
     "end_time": "2021-07-19T21:05:25.660345",
     "exception": false,
     "start_time": "2021-07-19T21:05:25.621398",
     "status": "completed"
    },
    "tags": []
   },
   "outputs": [
    {
     "data": {
      "text/plain": [
       "nr. sessions                   42766\n",
       "total km                       42766\n",
       "km Z3-4                        42766\n",
       "km Z5-T1-T2                    42766\n",
       "km sprinting                   42766\n",
       "                               ...  \n",
       "perceived trainingSuccess.6    42766\n",
       "perceived recovery.6           42766\n",
       "Athlete ID                     42766\n",
       "injury                         42766\n",
       "Date                           42766\n",
       "Length: 73, dtype: int64"
      ]
     },
     "execution_count": 11,
     "metadata": {},
     "output_type": "execute_result"
    }
   ],
   "source": [
    "day_df.count()"
   ]
  },
  {
   "cell_type": "code",
   "execution_count": 12,
   "id": "burning-exploration",
   "metadata": {
    "execution": {
     "iopub.execute_input": "2021-07-19T21:05:25.705430Z",
     "iopub.status.busy": "2021-07-19T21:05:25.704795Z",
     "iopub.status.idle": "2021-07-19T21:05:25.722772Z",
     "shell.execute_reply": "2021-07-19T21:05:25.722117Z",
     "shell.execute_reply.started": "2021-07-19T19:35:43.577248Z"
    },
    "papermill": {
     "duration": 0.041681,
     "end_time": "2021-07-19T21:05:25.722914",
     "exception": false,
     "start_time": "2021-07-19T21:05:25.681233",
     "status": "completed"
    },
    "tags": []
   },
   "outputs": [
    {
     "data": {
      "text/plain": [
       "nr. sessions                      35477.00\n",
       "total km                         300995.10\n",
       "km Z3-4                           29567.60\n",
       "km Z5-T1-T2                       24801.30\n",
       "km sprinting                       3122.60\n",
       "                                  ...     \n",
       "perceived trainingSuccess.6       14946.83\n",
       "perceived recovery.6               8391.70\n",
       "Athlete ID                      1477602.00\n",
       "injury                              583.00\n",
       "Date                           52518354.00\n",
       "Length: 73, dtype: float64"
      ]
     },
     "execution_count": 12,
     "metadata": {},
     "output_type": "execute_result"
    }
   ],
   "source": [
    "day_df.sum()"
   ]
  },
  {
   "cell_type": "code",
   "execution_count": 13,
   "id": "mathematical-vacation",
   "metadata": {
    "execution": {
     "iopub.execute_input": "2021-07-19T21:05:25.771403Z",
     "iopub.status.busy": "2021-07-19T21:05:25.770761Z",
     "iopub.status.idle": "2021-07-19T21:05:25.778809Z",
     "shell.execute_reply": "2021-07-19T21:05:25.779322Z",
     "shell.execute_reply.started": "2021-07-19T19:35:43.599187Z"
    },
    "papermill": {
     "duration": 0.034958,
     "end_time": "2021-07-19T21:05:25.779505",
     "exception": false,
     "start_time": "2021-07-19T21:05:25.744547",
     "status": "completed"
    },
    "tags": []
   },
   "outputs": [
    {
     "data": {
      "text/plain": [
       "array([ 0. ,  0.1,  0.2,  0.3,  0.4,  0.5,  0.6,  0.7,  0.8,  0.9,  1. ,\n",
       "        1.1,  1.2,  1.3,  1.4,  1.5,  1.6,  1.7,  1.8,  1.9,  2. ,  2.1,\n",
       "        2.2,  2.3,  2.4,  2.5,  2.6,  2.7,  2.8,  2.9,  3. ,  3.1,  3.2,\n",
       "        3.3,  3.4,  3.5,  3.6,  3.7,  3.8,  3.9,  4. ,  4.1,  4.2,  4.3,\n",
       "        4.4,  4.5,  4.6,  4.7,  4.8,  4.9,  5. ,  5.1,  5.2,  5.3,  5.4,\n",
       "        5.5,  5.6,  5.7,  5.8,  5.9,  6. ,  6.1,  6.2,  6.3,  6.4,  6.5,\n",
       "        6.6,  6.7,  6.8,  6.9,  7. ,  7.1,  7.2,  7.3,  7.4,  7.5,  7.6,\n",
       "        7.7,  7.8,  7.9,  8. ,  8.1,  8.2,  8.3,  8.4,  8.5,  8.6,  8.7,\n",
       "        8.8,  8.9,  9. ,  9.1,  9.2,  9.3,  9.4,  9.5,  9.6,  9.7,  9.8,\n",
       "        9.9, 10. , 10.1, 10.2, 10.3, 10.4, 10.5, 10.6, 10.7, 10.8, 10.9,\n",
       "       11. , 11.1, 11.2, 11.3, 11.4, 11.5, 11.6, 11.7, 11.8, 11.9, 12. ,\n",
       "       12.1, 12.2, 12.3, 12.4, 12.5, 12.6, 12.7, 12.8, 12.9, 13. , 13.1,\n",
       "       13.2, 13.3, 13.4, 13.5, 13.6, 13.7, 13.8, 13.9, 14. , 14.1, 14.2,\n",
       "       14.3, 14.4, 14.5, 14.6, 14.7, 14.8, 14.9, 15. , 15.1, 15.2, 15.3,\n",
       "       15.4, 15.5, 15.6, 15.7, 15.8, 15.9, 16. , 16.1, 16.2, 16.3, 16.4,\n",
       "       16.5, 16.6, 16.7, 16.8, 16.9, 17. , 17.1, 17.2, 17.3, 17.4, 17.5,\n",
       "       17.6, 17.7, 17.8, 17.9, 18. , 18.1, 18.2, 18.3, 18.4, 18.5, 18.6,\n",
       "       18.7, 18.8, 18.9, 19. , 19.1, 19.2, 19.3, 19.4, 19.5, 19.6, 19.7,\n",
       "       19.8, 19.9, 20. , 20.1, 20.2, 20.3, 20.4, 20.5, 20.6, 20.7, 20.8,\n",
       "       20.9, 21. , 21.1, 21.2, 21.3, 21.4, 21.5, 21.6, 21.7, 21.8, 21.9,\n",
       "       22. , 22.1, 22.2, 22.3, 22.4, 22.5, 22.6, 22.7, 22.8, 22.9, 23. ,\n",
       "       23.1, 23.2, 23.3, 23.4, 23.5, 23.6, 23.7, 23.8, 23.9, 24. , 24.1,\n",
       "       24.2, 24.3, 24.4, 24.5, 24.6, 24.7, 24.8, 24.9, 25. , 25.1, 25.2,\n",
       "       25.3, 25.4, 25.5, 25.6, 25.7, 25.8, 25.9, 26. , 26.1, 26.2, 26.3,\n",
       "       26.4, 26.5, 26.6, 26.7, 26.8, 26.9, 27. , 27.1, 27.2, 27.3, 27.4,\n",
       "       27.5, 27.6, 27.7, 27.9, 28. , 28.1, 28.2, 28.3, 28.4, 28.5, 28.6,\n",
       "       28.7, 28.9, 29. , 29.1, 29.2, 29.3, 29.4, 29.5, 29.6, 29.7, 29.8,\n",
       "       29.9, 30. , 30.1, 30.2, 30.3, 30.4, 30.5, 30.6, 30.7, 30.8, 31. ,\n",
       "       31.1, 31.2, 31.3, 31.4, 31.5, 31.7, 31.8, 31.9, 32. , 32.2, 32.3,\n",
       "       32.4, 32.5, 32.7, 32.8, 32.9, 33. , 33.1, 33.2, 33.3, 33.4, 33.5,\n",
       "       33.6, 33.7, 33.8, 33.9, 34. , 34.1, 34.2, 34.3, 34.4, 34.5, 34.6,\n",
       "       34.8, 35. , 35.1, 35.2, 35.3, 35.5, 35.6, 36. , 36.1, 36.2, 36.3,\n",
       "       36.5, 37. , 37.5, 38. , 38.1, 38.5, 39. , 39.3, 40. , 40.6, 40.8,\n",
       "       41. , 42. , 42.3, 42.8, 43.2, 43.4, 45. , 45.8, 45.9, 46.6, 47. ,\n",
       "       47.2, 48. , 49.2, 49.5, 50. , 51. , 52. , 52.5, 55. , 55.9])"
      ]
     },
     "execution_count": 13,
     "metadata": {},
     "output_type": "execute_result"
    }
   ],
   "source": [
    "# get all the unique values in the 'Country' column\n",
    "countries = day_df['total km'].unique()\n",
    "\n",
    "# sort them alphabetically and then take a closer look\n",
    "countries.sort()\n",
    "countries"
   ]
  },
  {
   "cell_type": "code",
   "execution_count": 14,
   "id": "binding-mailing",
   "metadata": {
    "execution": {
     "iopub.execute_input": "2021-07-19T21:05:25.827155Z",
     "iopub.status.busy": "2021-07-19T21:05:25.826187Z",
     "iopub.status.idle": "2021-07-19T21:05:26.049301Z",
     "shell.execute_reply": "2021-07-19T21:05:26.048621Z",
     "shell.execute_reply.started": "2021-07-19T19:35:43.616037Z"
    },
    "papermill": {
     "duration": 0.247836,
     "end_time": "2021-07-19T21:05:26.049477",
     "exception": false,
     "start_time": "2021-07-19T21:05:25.801641",
     "status": "completed"
    },
    "tags": []
   },
   "outputs": [
    {
     "data": {
      "text/plain": [
       "<AxesSubplot:ylabel='Frequency'>"
      ]
     },
     "execution_count": 14,
     "metadata": {},
     "output_type": "execute_result"
    },
    {
     "data": {
      "image/png": "[encoded data removed]",
      "text/plain": [
       "<Figure size 432x288 with 1 Axes>"
      ]
     },
     "metadata": {
      "needs_background": "light"
     },
     "output_type": "display_data"
    }
   ],
   "source": [
    "day_df['Date'].plot.hist()"
   ]
  },
  {
   "cell_type": "code",
   "execution_count": 15,
   "id": "persistent-harvey",
   "metadata": {
    "execution": {
     "iopub.execute_input": "2021-07-19T21:05:26.101315Z",
     "iopub.status.busy": "2021-07-19T21:05:26.100673Z",
     "iopub.status.idle": "2021-07-19T21:05:56.440963Z",
     "shell.execute_reply": "2021-07-19T21:05:56.441471Z",
     "shell.execute_reply.started": "2021-07-19T19:35:43.886766Z"
    },
    "papermill": {
     "duration": 30.368657,
     "end_time": "2021-07-19T21:05:56.441649",
     "exception": false,
     "start_time": "2021-07-19T21:05:26.072992",
     "status": "completed"
    },
    "tags": []
   },
   "outputs": [
    {
     "name": "stdout",
     "output_type": "stream",
     "text": [
      "Prediction: [0 0 0 ... 0 0 0]\n"
     ]
    }
   ],
   "source": [
    "# KNN\n",
    "from sklearn.neighbors import KNeighborsClassifier\n",
    "knn = KNeighborsClassifier(n_neighbors = 3)\n",
    "x,y = day_df.loc[:,day_df.columns != 'injury'], day_df.loc[:,'injury']\n",
    "knn.fit(x,y)\n",
    "prediction = knn.predict(x)\n",
    "print('Prediction: {}'.format(prediction))"
   ]
  },
  {
   "cell_type": "code",
   "execution_count": 16,
   "id": "modern-happiness",
   "metadata": {
    "execution": {
     "iopub.execute_input": "2021-07-19T21:05:56.494987Z",
     "iopub.status.busy": "2021-07-19T21:05:56.494123Z",
     "iopub.status.idle": "2021-07-19T21:06:09.517171Z",
     "shell.execute_reply": "2021-07-19T21:06:09.516589Z",
     "shell.execute_reply.started": "2021-07-19T19:36:14.512644Z"
    },
    "papermill": {
     "duration": 13.052704,
     "end_time": "2021-07-19T21:06:09.517302",
     "exception": false,
     "start_time": "2021-07-19T21:05:56.464598",
     "status": "completed"
    },
    "tags": []
   },
   "outputs": [
    {
     "name": "stdout",
     "output_type": "stream",
     "text": [
      "With KNN (K=3) accuracy is:  0.9855027279812938\n"
     ]
    }
   ],
   "source": [
    "# train test split\n",
    "from sklearn.model_selection import train_test_split\n",
    "x_train,x_test,y_train,y_test = train_test_split(x,y,test_size = 0.3,random_state = 1)\n",
    "knn = KNeighborsClassifier(n_neighbors = 3)\n",
    "x,y = day_df.loc[:,day_df.columns != 'injury'], day_df.loc[:,'injury']\n",
    "knn.fit(x_train,y_train)\n",
    "prediction = knn.predict(x_test)\n",
    "#print('Prediction: {}'.format(prediction))\n",
    "print('With KNN (K=3) accuracy is: ',knn.score(x_test,y_test)) # accuracy"
   ]
  },
  {
   "cell_type": "markdown",
   "id": "driving-monitor",
   "metadata": {
    "papermill": {
     "duration": 0.02304,
     "end_time": "2021-07-19T21:06:09.563954",
     "exception": false,
     "start_time": "2021-07-19T21:06:09.540914",
     "status": "completed"
    },
    "tags": []
   },
   "source": [
    "Accuracy is 98% so is it good ? I do not know actually, we will see at the end of tutorial.\n",
    "Now the question is why we choose K = 3 or what value we need to choose K. The answer is in model complexity"
   ]
  },
  {
   "cell_type": "code",
   "execution_count": 17,
   "id": "domestic-latex",
   "metadata": {
    "execution": {
     "iopub.execute_input": "2021-07-19T21:06:09.624236Z",
     "iopub.status.busy": "2021-07-19T21:06:09.622412Z",
     "iopub.status.idle": "2021-07-19T21:17:24.780752Z",
     "shell.execute_reply": "2021-07-19T21:17:24.780017Z",
     "shell.execute_reply.started": "2021-07-19T19:36:27.467654Z"
    },
    "papermill": {
     "duration": 675.193886,
     "end_time": "2021-07-19T21:17:24.780947",
     "exception": false,
     "start_time": "2021-07-19T21:06:09.587061",
     "status": "completed"
    },
    "tags": []
   },
   "outputs": [
    {
     "data": {
      "image/png": "[encoded data removed]",
      "text/plain": [
       "<Figure size 936x576 with 1 Axes>"
      ]
     },
     "metadata": {
      "needs_background": "light"
     },
     "output_type": "display_data"
    },
    {
     "name": "stdout",
     "output_type": "stream",
     "text": [
      "Best accuracy is 0.9858924395947 with K = 2\n"
     ]
    }
   ],
   "source": [
    "# Model complexity\n",
    "neig = np.arange(1, 25)\n",
    "train_accuracy = []\n",
    "test_accuracy = []\n",
    "# Loop over different values of k\n",
    "for i, k in enumerate(neig):\n",
    "    # k from 1 to 25(exclude)\n",
    "    knn = KNeighborsClassifier(n_neighbors=k)\n",
    "    # Fit with knn\n",
    "    knn.fit(x_train,y_train)\n",
    "    #train accuracy\n",
    "    train_accuracy.append(knn.score(x_train, y_train))\n",
    "    # test accuracy\n",
    "    test_accuracy.append(knn.score(x_test, y_test))\n",
    "\n",
    "# Plot\n",
    "plt.figure(figsize=[13,8])\n",
    "plt.plot(neig, test_accuracy, label = 'Testing Accuracy')\n",
    "plt.plot(neig, train_accuracy, label = 'Training Accuracy')\n",
    "plt.legend()\n",
    "plt.title('-value VS Accuracy')\n",
    "plt.xlabel('Number of Neighbors')\n",
    "plt.ylabel('Accuracy')\n",
    "plt.xticks(neig)\n",
    "plt.savefig('graph.png')\n",
    "plt.show()\n",
    "print(\"Best accuracy is {} with K = {}\".format(np.max(test_accuracy),1+test_accuracy.index(np.max(test_accuracy))))"
   ]
  },
  {
   "cell_type": "code",
   "execution_count": 18,
   "id": "earned-chart",
   "metadata": {
    "execution": {
     "iopub.execute_input": "2021-07-19T21:17:24.838652Z",
     "iopub.status.busy": "2021-07-19T21:17:24.838038Z",
     "iopub.status.idle": "2021-07-19T21:17:25.077014Z",
     "shell.execute_reply": "2021-07-19T21:17:25.077461Z",
     "shell.execute_reply.started": "2021-07-19T19:47:44.316687Z"
    },
    "papermill": {
     "duration": 0.271157,
     "end_time": "2021-07-19T21:17:25.077641",
     "exception": false,
     "start_time": "2021-07-19T21:17:24.806484",
     "status": "completed"
    },
    "tags": []
   },
   "outputs": [
    {
     "data": {
      "image/png": "[encoded data removed]",
      "text/plain": [
       "<Figure size 720x720 with 1 Axes>"
      ]
     },
     "metadata": {
      "needs_background": "light"
     },
     "output_type": "display_data"
    }
   ],
   "source": [
    "# create data1 that includes pelvic_incidence that is feature and sacral_slope that is target variable\n",
    "data1 = day_df[day_df['injury'] =='Abnormal']\n",
    "x = np.array(day_df.loc[:,'Date']).reshape(-1,1)\n",
    "y = np.array(day_df.loc[:,'Athlete ID']).reshape(-1,1)\n",
    "# Scatter\n",
    "plt.figure(figsize=[10,10])\n",
    "plt.scatter(x=x,y=y)\n",
    "plt.xlabel('Date')\n",
    "plt.ylabel('Athlete ID')\n",
    "plt.show()"
   ]
  },
  {
   "cell_type": "code",
   "execution_count": 19,
   "id": "posted-mattress",
   "metadata": {
    "execution": {
     "iopub.execute_input": "2021-07-19T21:17:25.132555Z",
     "iopub.status.busy": "2021-07-19T21:17:25.131965Z",
     "iopub.status.idle": "2021-07-19T21:17:25.429678Z",
     "shell.execute_reply": "2021-07-19T21:17:25.430151Z",
     "shell.execute_reply.started": "2021-07-19T19:47:44.609578Z"
    },
    "papermill": {
     "duration": 0.326016,
     "end_time": "2021-07-19T21:17:25.430311",
     "exception": false,
     "start_time": "2021-07-19T21:17:25.104295",
     "status": "completed"
    },
    "tags": []
   },
   "outputs": [
    {
     "name": "stdout",
     "output_type": "stream",
     "text": [
      "R^2 score:  0.3383549587589356\n"
     ]
    },
    {
     "data": {
      "image/png": "[encoded data removed]",
      "text/plain": [
       "<Figure size 432x288 with 1 Axes>"
      ]
     },
     "metadata": {
      "needs_background": "light"
     },
     "output_type": "display_data"
    }
   ],
   "source": [
    "# LinearRegression\n",
    "from sklearn.linear_model import LinearRegression\n",
    "reg = LinearRegression()\n",
    "# Predict space\n",
    "predict_space = np.linspace(min(x), max(x)).reshape(-1,1)\n",
    "# Fit\n",
    "reg.fit(x,y)\n",
    "# Predict\n",
    "predicted = reg.predict(predict_space)\n",
    "# R^2 \n",
    "print('R^2 score: ',reg.score(x, y))\n",
    "# Plot regression line and scatter\n",
    "plt.plot(predict_space, predicted, color='black', linewidth=3)\n",
    "plt.scatter(x=x,y=y)\n",
    "plt.xlabel('injury')\n",
    "plt.ylabel('Date')\n",
    "plt.show()"
   ]
  },
  {
   "cell_type": "code",
   "execution_count": 20,
   "id": "comfortable-tooth",
   "metadata": {
    "execution": {
     "iopub.execute_input": "2021-07-19T21:17:25.489806Z",
     "iopub.status.busy": "2021-07-19T21:17:25.489127Z",
     "iopub.status.idle": "2021-07-19T21:17:25.506758Z",
     "shell.execute_reply": "2021-07-19T21:17:25.507716Z",
     "shell.execute_reply.started": "2021-07-19T19:47:44.996750Z"
    },
    "papermill": {
     "duration": 0.050837,
     "end_time": "2021-07-19T21:17:25.507983",
     "exception": false,
     "start_time": "2021-07-19T21:17:25.457146",
     "status": "completed"
    },
    "tags": []
   },
   "outputs": [
    {
     "name": "stdout",
     "output_type": "stream",
     "text": [
      "CV Scores:  [-20.72478403 -44.53966491 -10.24977462 -12.99392901  -6.24683201]\n",
      "CV scores average:  -18.950996915460458\n"
     ]
    }
   ],
   "source": [
    "# CV\n",
    "from sklearn.model_selection import cross_val_score\n",
    "reg = LinearRegression()\n",
    "k = 5\n",
    "cv_result = cross_val_score(reg,x,y,cv=k) # uses R^2 as score \n",
    "print('CV Scores: ',cv_result)\n",
    "print('CV scores average: ',np.sum(cv_result)/k)"
   ]
  },
  {
   "cell_type": "code",
   "execution_count": 21,
   "id": "suburban-malawi",
   "metadata": {
    "execution": {
     "iopub.execute_input": "2021-07-19T21:17:25.565808Z",
     "iopub.status.busy": "2021-07-19T21:17:25.565074Z",
     "iopub.status.idle": "2021-07-19T21:17:25.587923Z",
     "shell.execute_reply": "2021-07-19T21:17:25.588760Z",
     "shell.execute_reply.started": "2021-07-19T19:47:45.027388Z"
    },
    "papermill": {
     "duration": 0.053114,
     "end_time": "2021-07-19T21:17:25.589015",
     "exception": false,
     "start_time": "2021-07-19T21:17:25.535901",
     "status": "completed"
    },
    "tags": []
   },
   "outputs": [
    {
     "name": "stdout",
     "output_type": "stream",
     "text": [
      "Ridge score:  0.3414133745255181\n"
     ]
    }
   ],
   "source": [
    "# Ridge\n",
    "from sklearn.linear_model import Ridge\n",
    "x_train,x_test,y_train,y_test = train_test_split(x,y,random_state = 2, test_size = 0.3)\n",
    "ridge = Ridge(alpha = 0.1, normalize = True)\n",
    "ridge.fit(x_train,y_train)\n",
    "ridge_predict = ridge.predict(x_test)\n",
    "print('Ridge score: ',ridge.score(x_test,y_test))\n"
   ]
  },
  {
   "cell_type": "code",
   "execution_count": 22,
   "id": "built-singer",
   "metadata": {
    "execution": {
     "iopub.execute_input": "2021-07-19T21:17:25.698738Z",
     "iopub.status.busy": "2021-07-19T21:17:25.698013Z",
     "iopub.status.idle": "2021-07-19T21:17:33.305088Z",
     "shell.execute_reply": "2021-07-19T21:17:33.305767Z",
     "shell.execute_reply.started": "2021-07-19T19:47:45.053058Z"
    },
    "papermill": {
     "duration": 7.664811,
     "end_time": "2021-07-19T21:17:33.305997",
     "exception": false,
     "start_time": "2021-07-19T21:17:25.641186",
     "status": "completed"
    },
    "tags": []
   },
   "outputs": [
    {
     "name": "stdout",
     "output_type": "stream",
     "text": [
      "Confusion matrix: \n",
      " [[12648     0]\n",
      " [  182     0]]\n",
      "Classification report: \n",
      "               precision    recall  f1-score   support\n",
      "\n",
      "           0       0.99      1.00      0.99     12648\n",
      "           1       0.00      0.00      0.00       182\n",
      "\n",
      "    accuracy                           0.99     12830\n",
      "   macro avg       0.49      0.50      0.50     12830\n",
      "weighted avg       0.97      0.99      0.98     12830\n",
      "\n"
     ]
    },
    {
     "name": "stderr",
     "output_type": "stream",
     "text": [
      "/opt/conda/lib/python3.7/site-packages/sklearn/metrics/_classification.py:1245: UndefinedMetricWarning: Precision and F-score are ill-defined and being set to 0.0 in labels with no predicted samples. Use `zero_division` parameter to control this behavior.\n",
      "  _warn_prf(average, modifier, msg_start, len(result))\n",
      "/opt/conda/lib/python3.7/site-packages/sklearn/metrics/_classification.py:1245: UndefinedMetricWarning: Precision and F-score are ill-defined and being set to 0.0 in labels with no predicted samples. Use `zero_division` parameter to control this behavior.\n",
      "  _warn_prf(average, modifier, msg_start, len(result))\n",
      "/opt/conda/lib/python3.7/site-packages/sklearn/metrics/_classification.py:1245: UndefinedMetricWarning: Precision and F-score are ill-defined and being set to 0.0 in labels with no predicted samples. Use `zero_division` parameter to control this behavior.\n",
      "  _warn_prf(average, modifier, msg_start, len(result))\n"
     ]
    }
   ],
   "source": [
    "# Confusion matrix with random forest\n",
    "from sklearn.metrics import classification_report, confusion_matrix\n",
    "from sklearn.ensemble import RandomForestClassifier\n",
    "x,y = day_df.loc[:,day_df.columns != 'injury'], day_df.loc[:,'injury']\n",
    "x_train,x_test,y_train,y_test = train_test_split(x,y,test_size = 0.3,random_state = 1)\n",
    "rf = RandomForestClassifier(random_state = 4)\n",
    "rf.fit(x_train,y_train)\n",
    "y_pred = rf.predict(x_test)\n",
    "cm = confusion_matrix(y_test,y_pred)\n",
    "print('Confusion matrix: \\n',cm)\n",
    "print('Classification report: \\n',classification_report(y_test,y_pred))"
   ]
  },
  {
   "cell_type": "code",
   "execution_count": 23,
   "id": "accessory-projector",
   "metadata": {
    "execution": {
     "iopub.execute_input": "2021-07-19T21:17:33.382414Z",
     "iopub.status.busy": "2021-07-19T21:17:33.380266Z",
     "iopub.status.idle": "2021-07-19T21:17:33.583133Z",
     "shell.execute_reply": "2021-07-19T21:17:33.582446Z",
     "shell.execute_reply.started": "2021-07-19T19:47:52.711349Z"
    },
    "papermill": {
     "duration": 0.249223,
     "end_time": "2021-07-19T21:17:33.583282",
     "exception": false,
     "start_time": "2021-07-19T21:17:33.334059",
     "status": "completed"
    },
    "tags": []
   },
   "outputs": [
    {
     "data": {
      "image/png": "[encoded data removed]",
      "text/plain": [
       "<Figure size 432x288 with 2 Axes>"
      ]
     },
     "metadata": {
      "needs_background": "light"
     },
     "output_type": "display_data"
    }
   ],
   "source": [
    "# visualize with seaborn library\n",
    "sns.heatmap(cm,annot=True,fmt=\"d\") \n",
    "plt.show()"
   ]
  },
  {
   "cell_type": "code",
   "execution_count": 24,
   "id": "prime-speaker",
   "metadata": {
    "execution": {
     "iopub.execute_input": "2021-07-19T21:17:33.648110Z",
     "iopub.status.busy": "2021-07-19T21:17:33.647417Z",
     "iopub.status.idle": "2021-07-19T21:17:33.771521Z",
     "shell.execute_reply": "2021-07-19T21:17:33.771961Z",
     "shell.execute_reply.started": "2021-07-19T19:47:52.979635Z"
    },
    "papermill": {
     "duration": 0.158379,
     "end_time": "2021-07-19T21:17:33.772147",
     "exception": false,
     "start_time": "2021-07-19T21:17:33.613768",
     "status": "completed"
    },
    "tags": []
   },
   "outputs": [
    {
     "data": {
      "text/plain": [
       "0    42183\n",
       "1      583\n",
       "Name: injury, dtype: int64"
      ]
     },
     "execution_count": 24,
     "metadata": {},
     "output_type": "execute_result"
    },
    {
     "data": {
      "image/png": "[encoded data removed]",
      "text/plain": [
       "<Figure size 432x288 with 1 Axes>"
      ]
     },
     "metadata": {
      "needs_background": "light"
     },
     "output_type": "display_data"
    }
   ],
   "source": [
    "sns.countplot(x=\"injury\", data=day_df)\n",
    "day_df.loc[:,'injury'].value_counts()"
   ]
  },
  {
   "cell_type": "code",
   "execution_count": 25,
   "id": "developmental-wages",
   "metadata": {
    "execution": {
     "iopub.execute_input": "2021-07-19T21:17:33.836618Z",
     "iopub.status.busy": "2021-07-19T21:17:33.835614Z",
     "iopub.status.idle": "2021-07-19T21:18:01.332366Z",
     "shell.execute_reply": "2021-07-19T21:18:01.331681Z",
     "shell.execute_reply.started": "2021-07-19T19:47:53.135262Z"
    },
    "papermill": {
     "duration": 27.53102,
     "end_time": "2021-07-19T21:18:01.332526",
     "exception": false,
     "start_time": "2021-07-19T21:17:33.801506",
     "status": "completed"
    },
    "tags": []
   },
   "outputs": [
    {
     "data": {
      "text/plain": [
       "16     35\n",
       "22     35\n",
       "86     35\n",
       "28     35\n",
       "60     35\n",
       "       ..\n",
       "598     1\n",
       "664     1\n",
       "662     1\n",
       "663     1\n",
       "606     1\n",
       "Name: Date, Length: 2614, dtype: int64"
      ]
     },
     "execution_count": 25,
     "metadata": {},
     "output_type": "execute_result"
    },
    {
     "data": {
      "image/png": "[encoded data removed]",
      "text/plain": [
       "<Figure size 432x288 with 1 Axes>"
      ]
     },
     "metadata": {
      "needs_background": "light"
     },
     "output_type": "display_data"
    }
   ],
   "source": [
    "sns.countplot(x=\"Date\", data=day_df)\n",
    "day_df.loc[:,'Date'].value_counts()"
   ]
  }
 ],
 "metadata": {
  "kernelspec": {
   "display_name": "Python 3",
   "language": "python",
   "name": "python3"
  },
  "language_info": {
   "codemirror_mode": {
    "name": "ipython",
    "version": 3
   },
   "file_extension": ".py",
   "mimetype": "text/x-python",
   "name": "python",
   "nbconvert_exporter": "python",
   "pygments_lexer": "ipython3",
   "version": "3.7.10"
  },
  "papermill": {
   "default_parameters": {},
   "duration": 769.245217,
   "end_time": "2021-07-19T21:18:03.229409",
   "environment_variables": {},
   "exception": null,
   "input_path": "__notebook__.ipynb",
   "output_path": "__notebook__.ipynb",
   "parameters": {},
   "start_time": "2021-07-19T21:05:13.984192",
   "version": "2.3.3"
  }
 },
 "nbformat": 4,
 "nbformat_minor": 5
}
