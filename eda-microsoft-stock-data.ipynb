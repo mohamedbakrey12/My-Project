{
 "cells": [
  {
   "cell_type": "markdown",
   "id": "060ac82c",
   "metadata": {
    "papermill": {
     "duration": 0.032046,
     "end_time": "2021-07-14T14:18:04.364804",
     "exception": false,
     "start_time": "2021-07-14T14:18:04.332758",
     "status": "completed"
    },
    "tags": []
   },
   "source": [
    "![micro](data:image/jpeg;base64,/9j/4AAQSkZJRgABAQAAAQABAAD/2wCEAAoHCBUWFRgWFRYZGRgZGhwaGhocGBocHBocGRwZGRwcGhocIS4lHB8rHxwYJjgmKy8xNTU1GiQ7QDs0Py40NTEBDAwMEA8QHhISHzQrJSs0NDQ2NDQ0NDQ0NDY0NDQ0NDQ0NDQ0NDQ0NDQ0NDQ0NDQ0NDQ0NDQ0NDQ0NDQ0NDQ0NP/AABEIAKgBLAMBIgACEQEDEQH/xAAbAAABBQEBAAAAAAAAAAAAAAADAAECBAUGB//EAD8QAAECAwUFBQUHAwUAAwAAAAECEQADIQQSMUFRBWFxgZEGIjKhsRNCwdHwBxRSYoKS4SNy8RVTorLCFjND/8QAGgEAAwEBAQEAAAAAAAAAAAAAAAECAwQFBv/EACYRAAICAgIDAAICAwEAAAAAAAABAhEDIRIxBEFRBWEikRMUgQb/2gAMAwEAAhEDEQA/AOUbeG1Hy13QGYgkuCxGHD6eNm07LmyyEpF4hAUsJF64DksYH/MZs26BeFNRl+kmvI+cehGals4JRcdIAq1rKPZkjFwCzPmquBbrBEpCBdcka0cPiW1f6EBEgkkrBBOX4WyiC1lAY1ySd/yh8a2hXemOpLlvdzOROITxzI4RJCVJLDDHhBbKgsEo717I4KJz3F+kGlSwKnhVqZV4lw8K70x1W0JCL6CQR3eL3dTqH5jhFWWi87uleIfTIfHnErTKZTJBIPeWkaA5aE184abMExQF0JBoGPhANRXceu6kJJp0+hNpq0TskzFRIcMA5PhqQOBOcTmK95PjSWbV9PrKCTpTkXfEBT4A8/SIWFr4UpI7j3tSTg+ufWHW6Fd7CIu3BLfGp1DOw4vXkRFOenAH/L1fpBFTO8pfurJfhr5PBZqSoFQxT3Q2b4/DgYF2JnX9gtqX0Ks6zVHel70HEcj5HdHVLTHk1htSpK0TEYoN4bxgUniHHOPWbPOTMQhaKpWkKB3H4xSNE7QBSYGRFlaYCpMMYEiIkQYiBkQxAyIiRBCIYiGANoiRBCIYiGIG0M0EaE0MGQAgdrtKZaCtVdAMVHJIiwSACSWADknAAZxxm2NoqmqIHhHhyYakfiI8hCboRnWq1qmzL5L3mJ0pkPygFvPOBzUhPIkcQc/+piVwJG8HqPkxiypAS4VW8li3Rh1HSJE2ZSnvca8x9CJzk1fEqx3HP584ZQLUqRnwoYIhDpLcQcyc21p6CGxoryU1Y8CdzUiNUumum9QOA4bt1YmskkMAGpuD4FRxNTjvg86zFCb4LrGJ3ZsPPlC7FdDmWFMV0IAcO9MirXOBW5iARQjw6qG4ZDeeTxCSsJL+ImiiTRs2/Ed+HrEJiWUW72Y3jUmEtaH3sgtZIGScQBhxOp3mApGQoDgfgIMlDHvYHDQHFvrfDzVghh1+UWotoTlQ6CEEEY+sWfYiZ3gWfEUxzzjPFccRjD3ITS+0CbX7Oi2b2gnSTWrm8SQ5JyKjiesNPnC0rCrgRdHuii1v4lOaAc68IxJ+0ZagAk47i6RmYlKnpHgUOBp64xjwgncSrlVSNRYFX9ahs9CIqJlv3yO6aJ0b4E4scmh5VrQpSUqSFJcFaSpiUg1SlQwvYYYO0aVqkIUpRs19SLl9QUA6AMQpqKA13w+dOg4aMr2bGhpiRFtE5CkKUQQtLAN4Upw7wOIP1pA8KpZ8Sndkx+ucCXLExQCaEB1H0H1pDceW0K3HTCyCR3mLqqU6DK7qAMoD7O9eWhsfDqBnxOPSIzSoMhTgvStK4kaGnpBUJBOhzZgkhvI4dep62Jr2g1lWS+bJKlagD5CGnSu4CPGo13vVuQHlCtEl1C4141OhAbHmwhrNP73ewSCA+ROL/WcJJ+wbT2iSQlQdmAFRwx4FgIjKN26Hp4hv3evTdEp8ssCMVeIajHywiUsJUk5OoNubMc36wITBzpddxb9xxjsuwm0XC7Oo4f1JfAnvp5Eg/qOkcgioKTvPM+Ejc1YLs+1KlzEzU+JCnbXIjgpLj9UMadM9VWmAqTFlExK0JWgulQCknUEOIGtMUaFVSYioQZSYgRAIERECIMRECmHYAyIYiCXYZooRC7DhMTuxR2vbfZIp41OE7t/wG+C6Aye0O0cZSMmvaE/h4DPew1jnJaLuOJccx9GLF1yVHNxniagDXExFco+I/lVuANOuMQS2V7ta5gg8sh5xBSyoNoMeFKecEml/7QX64/GsJQCHcNm3kfhTfB6H7AoQz6Ygati9XAwgCSSaYDA7sgN2UXJMkFlLPddmOeTn6yh9oSwkjmlsOB4A+sPsTdaRFBQEMaJL5O/8xSVaCRdJYCm88eTRNayreR0AwblEDLukE1eh+H1vhrYNJAEIemAHVoshrrDFNeWYiM8Om8MjXgfrygSFMQfow2qEnYNdcYdCKOWxbf0gykOXSKGohlyrveNdeGvKC72hVWmBUg4gYecERLSQ7xZyckAdSeCR8WEVJiC/cw3sS+fDhCcf+hb96MGWlu8YdE0nLpjXdBLSkuxGEViC9I4Xo7VT2wyBmDXURubJ2quXLmBTXFqSFkOFLYvccYDMxiS1KWoJNSSz+9zOeta74t21QolJBQmhIPve8SMq8usS6a2VtHWGbZlWb2syekTlqUohOCRW6i5QkAABxrnhGZs3aSFDvOFkuXr57g0c2kkFks2YOH8RIpfwuFfhOPI5xWOUoe7REoRkjrEITMvKxTgngM+Z+EAQgBQSo9wqAKtA7VbLGMKwzlBQS5AzOBSAHPlBZdvJW7ukm6EuHS+7MDdpGzyp1ZisUlbR0CZ6AtZBJS5CFGpupdn+tIiuz0SffNToc2O7ARWXcpcLg4oOIAxMWLPNGLlg7btXEaWqoy92Ss07F3dIYDecudIUxARhgQAeOvo8MuUaUZR7xfr8oPZ1hRBVvJfOme+o4tCD9kpifeTVnpqlNOrmkDu55Bg+7L0PWCoTcVdOFPLvFMKWmjEULluA7w81HrpAI7bsVbL0tUlRqgun+xRw5Kf9wjoFojz3s5avZT0KJp4Ff2qYP6H9MejrRDRrF2iopMDUIsLTA1JihgCIYiClMRUmAQK7CCYI0OExVgAmrCUlSqABzHG22eZiytVBluAb5nz1ja25abyvZp8KfFvODRjXHO4Ybz3gDwFPpom9ksrBJBCtKgaMSkk74CoXqe7UU97Tk0WlpvkgYEkE6kgFuDwFarvhDqooY0DMeGHygEV1kBqOSGbf9PweACWaFWILNkPdz3tWLfsWdRxBBJ3HFhzVSITjVSEjGrcQzqOXDfxhoTAKWAXJ5+VM9N8WLZY1TJaZ1Ak9xTF1BaRiv8L0IA65RWTKoFKqc92RAH1hF/Z20fZrKVC9LXRaNQHqNFB3f8sFMdoyEEMA3HdEFpd3i5tGyhExSEH2iT3kKGBBqxOSg4cY1gKJFe//ABSHyXoTX0ryVE4B3odISJABIVlUcPr4RZmKShVVJSFDMgVAxbFmzwoIr2q3y2BSoEg5VpgcKb+IEFrtsEpdVoOUEDTR8emLb4GVtgG3mp5acopHaaHpeJ3D5wRdqSwUxDlq5HQxPOKfZfCVaREBjd6cNOXyid4QebKWoOWphSn+IlKlghwDFpsjRzRnEUe8NFYjgrEQkpRkbp/CrDkr5w8mReq7E5EZZVHyETRZipQSRieTDEvHnWno7Xa7LdmQQkqYJV4U6h8VfKMyfZVoLjLAjKLU20G93CLqRdAIow8w8P8AeUrIC+61WyOlcofqhJu7RTRMGdC9VZV1T8m4RNSHLnDAHItixi1b5abt4CpwbOKciUpwE5kCoBFaVBh9DT5b6LSVMglVSvug53QzvrVhyMCnS0gukkpoxIYksCXGRygluUARdwSLo4DPnU84roWQN/x3jOBK9iCImKUXdlDDJ200MaSbYxY1AN18y3ifXPrFCzgPeZrtWyfBLc2iRVgFv3QwIqQTWuowGNIabQpRTOjs1oSsFi/uivh15V8otLk4qTiCEtkQK/OOWkKUjvDEM2YL15ihEdDYbaFhsFAGmhUcRqPnG0ZWc0410XQoLQXzx1cnEbwBCQCUscQxw1q7fqPpD2iWxvINcG1AAS4315+lgocJUmp9U5gdUtFEAkJz33SNDh6t9GPStj2j2khCjiBdVxTR+dDzjz2WkUOIVjxq3y6R13Y6aWXLO5XRgfVJgZUezbWmBKTF1aIAtENM0KxTDXYOUxEpigBBMVdpWm4hx4jRI3nPgMYvkZnKOat88rUVZMyBoBmfU8hCbEzNWg1xxF4+bcT9ZQOYlzdGGfK7QecXZqCxQnEhyf7qdTFebkEY5nJIUFCuruKQIllRRY3U404JAJD9OvnETZ0pYPjeSo5nThQGLK0JQATm4c4kqAL7y4itOllfeUGS6TdpUHukq5PTroGIrLBW12gIYqbyTria+uUZaGSkjHBXHMnWoi5aVpQkqUQkJVnv/wA+UcttPagV/wDVeooqBe6HpinOta64QSko7BJyNW1TEIe+QAcN74+YMZFo2mgCpJIYsnOj1VvGmsYc2atZvKU5zJwESmKF1KgHI7pJFBdqKHFwRjphGMszb0bRwpLZsTe0cwyky0JQhCCVpcOQ7ghJzBrRsYz5NvUtV1SibzgKOR91kigrxxinLlFTknAZ+kJN0fmI0oBzzjNyk/ZooxXSIokEljjnuaCyyEuCXf3R8ThBrSpwFE0UHIwF4UVxrFcpumtHyONN2I5thC6H2OmZkO6N2PWLNhILoPhVnkFZV3/KKswum8B186YaQFJKiHPCuHCGFXtnUbMtIKShT3kUIFOBc/KFPkkqJSbo0r84zpM2qZv6F8fxeka5bUdRHVikmtnLkVPRmy5CgGCS50qPKkBULiCc1UGYYY7qw1gUsKF1bA0KkqamYJGsbS5Upk+2QCkBgUrKTq7ihNc3jy3/AB2ztWzllLxo3CteBPxhITTIvWleLjERat1lQVkSFLKQK3wlJBOQUksqmbJ4RSmJUg1BByy6RrGXwTQ6FkE3Sw0xB5RakLSHWae6Kum8oYjRg/WM8TMiH4UPXPm8WbTS6gEd0Vct3ixONDkORg5WPix/ZOoDLF8m3GKqyAaHAwpcwpqC27LmIkEhWTE0DVBJ3YiHyEo7LKSLgf3i/JLged7pDpcsDXPf/MAtPip4aJByZNMvqsHsk3vEtiwA3/5aKUkyZJraDYJAyJcj+SKUHnB5Ju95JZQLpOjUw6wKctJLpLEDrkONBBZZIDEYltxaKRi3Zv7J2lfIQoMoV3FgTTeVFNI1kouE/hOP5SXD8CQOfGOOQjeWeh0+qVjqdjWorSULPebEkd5Phz0YV3xpGX0ycfhoS5OCT7w/5Fn+J67o6DYCrs1B1N1XNx8jyjzrbPaoB0SKgN/Uz7ppdfQ+9m3OAbP2mpCULvMpRKiq8Qp3I8TufDrBzT0jRY2lbPfFIgK0R5ns/wC0xaGE0pWPzBlfvQG190x1GzftBsM0spZlK/OCE/vFB+poSlRXE3yiIlEWpakLSFIUlaTgpJBB4EUhloYE6RamhUYe1ptLg4q4ZJ5+nGMlcs/qUFMNA+fx/wARozkuSo6n9Sv4+G6AqQQaVWX4AfL1OlWV3sTKC0sWT4iASTlj3jv0HyissBCAMTSmZKSkk+RrhGiZd26lIvKKTzJu95RyFPgIy9qW2VZkKM1TrXfAYd5VVUSMEpF5OeesVZNCnyQlPtFkApIOPdQL11WONCanywjltr9qUVRJF4VSVlwGf3RiaPUxj7X21NtCnWWQDRA8KX/7GmJ8ozZgABBxcNqcuWcZyyekXGC9hZ8xa1ErUVEvUlz/AANwh0rF0Ggb40PmBFZcwuCKBgeD0Lni8RlqF5nclxurUebRm5GnFvsR7z1oHAfAZ8qxKQzKTjS8NHS/M0KoAFOz4NQmg5fxEpE8JUOL1wbRhWJ5I0pkiCSHr6DTcIgSkVd8Qw8q4dHiNrJCinIGmQbKg3Q6JBIcV+s9IdphVFiRMK0rQKEC8lnq3iBc1cekDNiWE3iGHnE7Mi6QoVIyFfPCLs1SsAQE5HEkGGv0TKVFKRKN3cYimWkYl/7a+ZpDzEsplEnMP8BDlFHcBvpoKfsV/C1ZpgBAwCqFySQcjo3zi3Ktwl92Yl1A4sMMoyvaozc82G6NGz2iWpIKwm8KF92kWnXRLTfZUWLiAkUUrvKajDIfWkC+8KSPE40V8xUwNdqUSSW4MKbhoIh7QEhxhprzjM0plyROTgp0O5cC9U7nEPa7NVIQVKGLkJAYtUAKLxWVMS1D5EH5ecHsM4S03y4vXgGCXODveyfTfEtIE37BSJaQq+RRHeO8jwht5aKq0El3Bc1ObmpLRcmzVBKQWJV3iCHDYJG7WKt5J90pbNNR0MQ0WmCVMNRloRh8oPZlCqsLozwvGia835RFUsqPiCvJXQ1g8uylQCAKl1HVh3U4/qPOF1sqMXJqKVlUEpdsOoPwMHs8wVLMwfc+A3ipEH/0qYMAa41FeNYaZYlgMUteKRlU1AGOZPlCU4/V/ZpPBkirlF0U5hU75U4Fq84vy7UUhiHF2r4uRrzMEGw7RlLU2YpXzgc3Ys+pKFh6mnOBZoXqS/s5XKDVWiyjaCEGjlJGBFQ+UVbdtMqBQmiR1JwPBNTSKapdXfSnCG9lv8o1bbCMYp2RJ+HnWNG1rUkIDUCEYjMgqPrFAy98WrRaCpTpcYU3BISPSGi2CuhXutw4P6P0iF1sD8IIVagekQKX/mukMks7P2rPs6r0mYuWcXSopB/uGCubx2ezPtVtKRdtCETk/iHcXxdIKT+0cY4C4rWImSo6QrY6TPTp32lyq3bOulBeWkAUbJ616RRV9pKg5TZkuS7mYS5a7gECkcGqUSX+soQkn6MPlIXGJ2Ce388eFEsFwokhZJpn3hr5Rztv2kucsrWolR6DcBkKYRS9kry1iaUFsBnDUm9MlxiFVNbB3ofrk0BnrALs7/GsFCToMPOI2iWo4D6w9IUkwjVgFOpIJLeL4GgHE9IGJrF0iup11Ay84OmzKIIIaoOOjj0PlDCzKGCX4kN0eM3FmtojOlkqJFcxnQsR5GHkskgqIo9BU/IRKeFBIKhkx0zag3N0iqlULoOy7aJrgKCRXul6tdw3YN0iEhV571W6dMIikOlad18fpx8iekVkrIwMFg1apGtIUA4NMxBFTk3bwrdoeBw83EZAd6mLdmYKY4KF088PON4y0YvGr2xrTOvYCJSE0Y4Kw4xH7urTnlEpcn8wppX0gt3Y6VUgYlh2MWZcmW1TXjDmSDViaPUsGzweEJf5R0J83ihNr6RtMhKQkAG83fJfxElgARRg3OATrMpBZQZTAkUpeAUMNxB5wRagovfTrUkV/VDLQtRKj3ySSSCC5MZJl06K4QVKCRiS0HmALmBI8Kack1UYnKSUJUsghWApmcSOAidj9mlCjMcFQISyXKjQsahhk+/OJkykU5k9SlKLOOGAwFRXSITFNTPPiawcy5YQlQWSsqZSMmFXfTw+ekDXblKACglQDYpDsC7XsQOcZ2yqT7IITeoGJJ514x0Gx0VUrJ7qQdA1edIyZS5ZdQSUkPUKJFaBgrOpOOUa1htcpCEpvig8zjGWblxpI9H8dGCzcptJI1TAJaL8+UnIErVwSKf8iICdoSvxp6xLYtsl+1mLUsCiUpdQFMSz72ji4yipOvR6H5fyof6rWNpt60degCKO1Zt2Us/lI60+MJO05OUxH70/OMbtNtBBlXUqSSTkQaDhvaPOw4ZvIk0+z4eGOTklRzOzrGu0TkypbFa1EJcsMzU5BhGtt3snabIlK5yUXVG66VXmO+gaLf2XWa/bkq/20LXzICB/2Mdz2kmi17PnkVMuZMA4ypikj/ixj6eLrR6taPHb0dDM7H2xMn26pYEsIvklabwSz1S7gtlC7CbE+9WlN8f0pbLmPgQD3Un+4joFR6N2p2wJmy581PhXeQg6pEy4lQ3KCb36odhR5ins9aPu33u4PY63u8167eu/hvUf4RkvHV2nZ9ql7LRMNp/oLun2F38asL+Le82ED7N9h7RaUe1KkyZRwWoElQGaU07u8kc4af0Tic0TDPHSdpOyZsqETE2hE5C5glukMyiCclKDd05xpp+zG1GYlAXLulJUpfeuoYgAMzkmrD8prg75IOLOJeHBjobP2MtK7RNs6AlXsVXVTC6UCgIahJJGQjStn2a2tCCpC5cwjFCSpKjuF4MTxIgtCo44KiSVRY2bsmdOnewloJmOQUnu3btFFb+EDN439q9gbXIlLmqVKUlCStYStTgJDlnQHpBYUc1ehwqLexNh2i1KKZCL13xKJupS+qjnuDmNm29gLfLSV3ELapCFur9qgl+VYdhRi2CxzJywiUgrWcAPUk0A3mLu19hWizXTOQEhb3SFJVUYihpHW/Zbs+YgrWpDJWVByQ4oggEYjA9YHaezNumW5Sp6VTbKZxUAZoa5eLMi86WScmwiXLYcdHn9o8JfKvSMpKCTQEx6n2z7HTPbFdlkD2Psw4SUJCVJvXu6SCXASaR5WpZOJJ5xMney4qizJTdKSWDYgmrGhpwiC5SQSCSSMgPiYVnLc4la/dVqGPFNPRomtAnugiGIokcyT6NEkqJHibgG9IBZ14iJnxY4xrFozd3RoJALHUeYpDTk3SFJpkeBgNlVinHMcR/HpFxRdLa/GNVTRjK4ysrIVedLl8q9YACQ436wkrIIL1Br9cIsrkBRd8Ynsb0VQob/APj8oiq6SAxc6BL9WhymCWeUQb10k+7TM4fExibinLAISCoXaBjnm+tfSGmTw7YgUqAX3wRNkW73FvwiaLAWqgvvLeohgiopaDijo4gKgjIKHMH4Rp/cFZIH7xEzs9TeFI31PpCaHyK+yrMFrSli168XaoGv1nHXGyI/An9ojK2DZrpUosWASDXiceUbke74GCKxcmuzxvOzN5OKfRQtFllpSVFCGAJ8IyjS7NbCkqs6FTJSFKWL5JSCWUSUjgzRk7XdSQhOMxSUD9RYx3tmlhICRgkADgAwj5v/ANP5H+Ljjx6fej2/weJzi5z36M1XZ6y/7Ev9ojiO29kkylpTLQlJZywbEn5ecemrjyftnab9pXoksOQA9QY8P8ZkyZMv8pNpL6et5cYQhpI6r7JpNxNqnnBKUpB4BS1f+Ys/ZravaotkhXvKK/3gpV5pT1jnOzvaiVZrJNs5SsrmFRvAC73khIxL4DSKPYzbybJaDNWFFCkLSoJqasoFiW8QHWPojyaOr2iU7N2Z7JJafaSSo5hKhX9qWTxUTBe1JubFs6MLyZPmm+fOOK7YbcNrtCpgcIACZaTiEjUakuecbfbTtNItNmkyZJU8spcFJAZKLo84Vio6DtbKu7LsMklr6rOgnTuOTEftdtCpcuzWdHdlEKJSKA+zuJSmmIF524Rjdvu01ntNns8qzrUoyy6nSpLXUBIZxXONeT2qsFus6JVvdExPvMoAqAa8haQbrjEGnGkFjo8zsqjeQlyxWks9HBZ21qesep/bNtGYlNnlJUUoXfUsAkXim4Eu2IF40jlNvp2ZLRJTZFqWsTEqmLVeLJANHICcSKAZRc+0/btntSpBs8y+EJXe7qg14pbxAaGB0Bv2S0qk7BVMlqPtFpJUtzedc32alXsXCKA5MI4fsRtSZJtskpUplzEoWlyygs3TeGZDu+6NzsL2pkJkqsVspJXeuqIJSAvFKmqA9QrJzGrszZOyLNNFo++pXcN5KCtCmLULJF5RGVMYANXau1JNh2qJi2Si0yAFqA8K0rICi2RCUgxl9oexs6YqZa7DaTNTNvKUgLqoKe8lKwbqxVgktSkYG0Nr2faG0L1oUZdnuGWhRVdKbrqSomoBKicaVEdX2Tstk2cZs1VvQuWpIZN5NcwQlKiVqoRQZwWFD9n5ypGxlrld2YEzFEtVKgWJ4gekcJ2W7R2iTaUKM2YpKlMtKlqUFA4uFHHMHGN7sr20kpnWiXPS1ntExakk4S/aFThYHukEO2B3EtbsvYuyCemai2IMkOtKSpBLDK+FMRXFngtNhWjV7QLVZ9pWWala0y5xIWgKISpYIQVFLs5SsftjF+0622iTbEeznzUImISWTMUkXgShTAFhS6ecUO3/AGkRPtElMhQUmS5vjwqWq7gcwLorvjR+1K0S50izTkLSpQJBAUCQFpCqgHIpbnD0Bsdt9oTzYLPaZMxcsum/dUQ4Wli7YssDqY8fnIq7iseodmdpSLbYV2GYsJWxuvj4r6VJfxXVCo0aOT212XVImJllaVlSCsEBhRV0hnO7rA9gjm7lMR5/LhE0odJS4xCh6HybpGidkLGAT1MN/pqxknk8FCsyRKOo6wVCG/yPnFxdkmDIeUR9hM56Bn8vqkLoHsaSopY3XP8AcPnGhKmIAYocgu70I0NYz0Sl5326/GLH3YG6DeIzLMa8d8aKTM5QTQVc1KVXghLEYEjHLGCWTaAQm7dQWJbvJw6xTnWdISLt69m+A5NFUI4wcn6J4JrZ1oQBmr9xirZRfWpZwBupfzP1qYDbbcgJZKgSaUOu+Cy7TLQkIK00xqMcSTzgtF7LoQnQRIARnnaskB746EnoBAVbclDAKVwHzhWh0zXeAz5nQRjr7QfhQeam9BFKftiYoFLJAIaju3F4XJdDUWWJG31IDBKSCSau9S/1wg//AMnV/tjqflGDCaOiPk5oqovRlLx8Unbjs2k9oP6suYZbiWSq7exJDCrZYx0CPtBTnIVyWD/5jhWhNHD5Pjw8mXLKrZ1Ycjwx4w0jvj2/ln/8l/uTHEWy0+0mKUfeL9a+sAaEIjD4mPC24KrKyZ5ZFUmO0O0KFHTRkM0NdiUKHRJFoRTEoaCgGCYcCFDvCooYphrsShQUA12EEQ8PC4gMURH2YicKDiA1yEECHhQ+IDezEW9nzAhaVEsMCdzZxVBh3goDqhaUHwrSeChBQQc44ciHBIwcQuQqO2NC/WCBMcSLUse+r9xiyjas5Pv9QD8IOSDidYUwjLByjmkbdmjJJ5H5wZPaE5oHI/xD5IXFm6qUNPKI+zGkZie0CM0qHBj8YJ/rkv8AN+3+YLQUznIZ4kqIkGMyhnhPDlMK7AMZ4kiG9mYkExS7ExQocphou0SKFCaFDAUPEYUAEnhPDQngAd4Tw0KAB3hoUNABJ4TwzwngAk8KIPDvCAlCeIvCeACUKIvCeACUJ4i8IGACUJ4i8J4AIqxhodUQjOS2UicJoG8OFGEMm0NEXh3MADsIdoa9D3oBDph3MKFAAlDlDD6MKFCAeE5hQoAEDCTChQwHJhjwhQoLYEmhFoUKC2BEw6qQoUADCFChQWAwMOIUKKUmA0IwoUNyYCaFChQnJgImEoZQoUTbAi8OxhQoLAcCEBChQWwE0OIUKABKERKYUKEAwRErkKFAMYoiSkQoUAEUpid0aQoUAj//2Q==)"
   ]
  },
  {
   "cell_type": "code",
   "execution_count": 1,
   "id": "e4ac3775",
   "metadata": {
    "execution": {
     "iopub.execute_input": "2021-07-14T14:18:04.453151Z",
     "iopub.status.busy": "2021-07-14T14:18:04.452168Z",
     "iopub.status.idle": "2021-07-14T14:18:05.901210Z",
     "shell.execute_reply": "2021-07-14T14:18:05.900390Z",
     "shell.execute_reply.started": "2021-07-14T14:15:57.395079Z"
    },
    "papermill": {
     "duration": 1.506059,
     "end_time": "2021-07-14T14:18:05.901411",
     "exception": false,
     "start_time": "2021-07-14T14:18:04.395352",
     "status": "completed"
    },
    "tags": []
   },
   "outputs": [],
   "source": [
    "import pandas as pd \n",
    "import numpy as np\n",
    "import matplotlib.pyplot as plt \n",
    "import seaborn as sns\n",
    "from sklearn.model_selection import train_test_split\n",
    "from sklearn import preprocessing\n",
    "from sklearn.datasets import make_classification\n",
    "from sklearn.metrics import classification_report,confusion_matrix\n",
    "from sklearn.linear_model import LogisticRegression\n",
    "from sklearn.model_selection import train_test_split\n",
    "from sklearn.pipeline import make_pipeline\n",
    "from sklearn.preprocessing import StandardScaler\n",
    "from sklearn.linear_model import LogisticRegression"
   ]
  },
  {
   "cell_type": "markdown",
   "id": "9e1396e6",
   "metadata": {
    "papermill": {
     "duration": 0.031039,
     "end_time": "2021-07-14T14:18:05.962517",
     "exception": false,
     "start_time": "2021-07-14T14:18:05.931478",
     "status": "completed"
    },
    "tags": []
   },
   "source": [
    "# Read Data\n"
   ]
  },
  {
   "cell_type": "code",
   "execution_count": 2,
   "id": "c2b3d37e",
   "metadata": {
    "execution": {
     "iopub.execute_input": "2021-07-14T14:18:06.028109Z",
     "iopub.status.busy": "2021-07-14T14:18:06.027289Z",
     "iopub.status.idle": "2021-07-14T14:18:06.102083Z",
     "shell.execute_reply": "2021-07-14T14:18:06.101384Z",
     "shell.execute_reply.started": "2021-07-14T09:56:39.975864Z"
    },
    "papermill": {
     "duration": 0.109941,
     "end_time": "2021-07-14T14:18:06.102246",
     "exception": false,
     "start_time": "2021-07-14T14:18:05.992305",
     "status": "completed"
    },
    "tags": []
   },
   "outputs": [],
   "source": [
    "df=pd.read_csv('../input/microsoft-stock-data/MSFT.csv')"
   ]
  },
  {
   "cell_type": "code",
   "execution_count": 3,
   "id": "d41d5ddf",
   "metadata": {
    "execution": {
     "iopub.execute_input": "2021-07-14T14:18:06.174635Z",
     "iopub.status.busy": "2021-07-14T14:18:06.173935Z",
     "iopub.status.idle": "2021-07-14T14:18:06.197700Z",
     "shell.execute_reply": "2021-07-14T14:18:06.198232Z",
     "shell.execute_reply.started": "2021-07-14T09:56:52.131580Z"
    },
    "papermill": {
     "duration": 0.06612,
     "end_time": "2021-07-14T14:18:06.198438",
     "exception": false,
     "start_time": "2021-07-14T14:18:06.132318",
     "status": "completed"
    },
    "tags": []
   },
   "outputs": [
    {
     "data": {
      "text/html": [
       "<div>\n",
       "<style scoped>\n",
       "    .dataframe tbody tr th:only-of-type {\n",
       "        vertical-align: middle;\n",
       "    }\n",
       "\n",
       "    .dataframe tbody tr th {\n",
       "        vertical-align: top;\n",
       "    }\n",
       "\n",
       "    .dataframe thead th {\n",
       "        text-align: right;\n",
       "    }\n",
       "</style>\n",
       "<table border=\"1\" class=\"dataframe\">\n",
       "  <thead>\n",
       "    <tr style=\"text-align: right;\">\n",
       "      <th></th>\n",
       "      <th>Date</th>\n",
       "      <th>Open</th>\n",
       "      <th>High</th>\n",
       "      <th>Low</th>\n",
       "      <th>Close</th>\n",
       "      <th>Adj Close</th>\n",
       "      <th>Volume</th>\n",
       "    </tr>\n",
       "  </thead>\n",
       "  <tbody>\n",
       "    <tr>\n",
       "      <th>0</th>\n",
       "      <td>1986-03-13</td>\n",
       "      <td>0.088542</td>\n",
       "      <td>0.101563</td>\n",
       "      <td>0.088542</td>\n",
       "      <td>0.097222</td>\n",
       "      <td>0.061608</td>\n",
       "      <td>1031788800</td>\n",
       "    </tr>\n",
       "    <tr>\n",
       "      <th>1</th>\n",
       "      <td>1986-03-14</td>\n",
       "      <td>0.097222</td>\n",
       "      <td>0.102431</td>\n",
       "      <td>0.097222</td>\n",
       "      <td>0.100694</td>\n",
       "      <td>0.063809</td>\n",
       "      <td>308160000</td>\n",
       "    </tr>\n",
       "    <tr>\n",
       "      <th>2</th>\n",
       "      <td>1986-03-17</td>\n",
       "      <td>0.100694</td>\n",
       "      <td>0.103299</td>\n",
       "      <td>0.100694</td>\n",
       "      <td>0.102431</td>\n",
       "      <td>0.064909</td>\n",
       "      <td>133171200</td>\n",
       "    </tr>\n",
       "    <tr>\n",
       "      <th>3</th>\n",
       "      <td>1986-03-18</td>\n",
       "      <td>0.102431</td>\n",
       "      <td>0.103299</td>\n",
       "      <td>0.098958</td>\n",
       "      <td>0.099826</td>\n",
       "      <td>0.063258</td>\n",
       "      <td>67766400</td>\n",
       "    </tr>\n",
       "    <tr>\n",
       "      <th>4</th>\n",
       "      <td>1986-03-19</td>\n",
       "      <td>0.099826</td>\n",
       "      <td>0.100694</td>\n",
       "      <td>0.097222</td>\n",
       "      <td>0.098090</td>\n",
       "      <td>0.062158</td>\n",
       "      <td>47894400</td>\n",
       "    </tr>\n",
       "    <tr>\n",
       "      <th>5</th>\n",
       "      <td>1986-03-20</td>\n",
       "      <td>0.098090</td>\n",
       "      <td>0.098090</td>\n",
       "      <td>0.094618</td>\n",
       "      <td>0.095486</td>\n",
       "      <td>0.060508</td>\n",
       "      <td>58435200</td>\n",
       "    </tr>\n",
       "    <tr>\n",
       "      <th>6</th>\n",
       "      <td>1986-03-21</td>\n",
       "      <td>0.095486</td>\n",
       "      <td>0.097222</td>\n",
       "      <td>0.091146</td>\n",
       "      <td>0.092882</td>\n",
       "      <td>0.058858</td>\n",
       "      <td>59990400</td>\n",
       "    </tr>\n",
       "    <tr>\n",
       "      <th>7</th>\n",
       "      <td>1986-03-24</td>\n",
       "      <td>0.092882</td>\n",
       "      <td>0.092882</td>\n",
       "      <td>0.089410</td>\n",
       "      <td>0.090278</td>\n",
       "      <td>0.057208</td>\n",
       "      <td>65289600</td>\n",
       "    </tr>\n",
       "    <tr>\n",
       "      <th>8</th>\n",
       "      <td>1986-03-25</td>\n",
       "      <td>0.090278</td>\n",
       "      <td>0.092014</td>\n",
       "      <td>0.089410</td>\n",
       "      <td>0.092014</td>\n",
       "      <td>0.058308</td>\n",
       "      <td>32083200</td>\n",
       "    </tr>\n",
       "    <tr>\n",
       "      <th>9</th>\n",
       "      <td>1986-03-26</td>\n",
       "      <td>0.092014</td>\n",
       "      <td>0.095486</td>\n",
       "      <td>0.091146</td>\n",
       "      <td>0.094618</td>\n",
       "      <td>0.059958</td>\n",
       "      <td>22752000</td>\n",
       "    </tr>\n",
       "  </tbody>\n",
       "</table>\n",
       "</div>"
      ],
      "text/plain": [
       "         Date      Open      High       Low     Close  Adj Close      Volume\n",
       "0  1986-03-13  0.088542  0.101563  0.088542  0.097222   0.061608  1031788800\n",
       "1  1986-03-14  0.097222  0.102431  0.097222  0.100694   0.063809   308160000\n",
       "2  1986-03-17  0.100694  0.103299  0.100694  0.102431   0.064909   133171200\n",
       "3  1986-03-18  0.102431  0.103299  0.098958  0.099826   0.063258    67766400\n",
       "4  1986-03-19  0.099826  0.100694  0.097222  0.098090   0.062158    47894400\n",
       "5  1986-03-20  0.098090  0.098090  0.094618  0.095486   0.060508    58435200\n",
       "6  1986-03-21  0.095486  0.097222  0.091146  0.092882   0.058858    59990400\n",
       "7  1986-03-24  0.092882  0.092882  0.089410  0.090278   0.057208    65289600\n",
       "8  1986-03-25  0.090278  0.092014  0.089410  0.092014   0.058308    32083200\n",
       "9  1986-03-26  0.092014  0.095486  0.091146  0.094618   0.059958    22752000"
      ]
     },
     "execution_count": 3,
     "metadata": {},
     "output_type": "execute_result"
    }
   ],
   "source": [
    "df.head(10)"
   ]
  },
  {
   "cell_type": "markdown",
   "id": "711bfb38",
   "metadata": {
    "papermill": {
     "duration": 0.034146,
     "end_time": "2021-07-14T14:18:06.266441",
     "exception": false,
     "start_time": "2021-07-14T14:18:06.232295",
     "status": "completed"
    },
    "tags": []
   },
   "source": [
    "# Getting to Know The Data"
   ]
  },
  {
   "cell_type": "code",
   "execution_count": 4,
   "id": "dd0062cb",
   "metadata": {
    "execution": {
     "iopub.execute_input": "2021-07-14T14:18:06.337410Z",
     "iopub.status.busy": "2021-07-14T14:18:06.336689Z",
     "iopub.status.idle": "2021-07-14T14:18:06.339323Z",
     "shell.execute_reply": "2021-07-14T14:18:06.339946Z",
     "shell.execute_reply.started": "2021-07-14T09:57:35.730992Z"
    },
    "papermill": {
     "duration": 0.040196,
     "end_time": "2021-07-14T14:18:06.340137",
     "exception": false,
     "start_time": "2021-07-14T14:18:06.299941",
     "status": "completed"
    },
    "tags": []
   },
   "outputs": [
    {
     "data": {
      "text/plain": [
       "(8904, 7)"
      ]
     },
     "execution_count": 4,
     "metadata": {},
     "output_type": "execute_result"
    }
   ],
   "source": [
    "df.shape"
   ]
  },
  {
   "cell_type": "code",
   "execution_count": 5,
   "id": "8726d028",
   "metadata": {
    "execution": {
     "iopub.execute_input": "2021-07-14T14:18:06.404748Z",
     "iopub.status.busy": "2021-07-14T14:18:06.404072Z",
     "iopub.status.idle": "2021-07-14T14:18:06.427705Z",
     "shell.execute_reply": "2021-07-14T14:18:06.427039Z",
     "shell.execute_reply.started": "2021-07-14T10:00:41.016736Z"
    },
    "papermill": {
     "duration": 0.056038,
     "end_time": "2021-07-14T14:18:06.427856",
     "exception": false,
     "start_time": "2021-07-14T14:18:06.371818",
     "status": "completed"
    },
    "tags": []
   },
   "outputs": [
    {
     "name": "stdout",
     "output_type": "stream",
     "text": [
      "<class 'pandas.core.frame.DataFrame'>\n",
      "RangeIndex: 8904 entries, 0 to 8903\n",
      "Data columns (total 7 columns):\n",
      " #   Column     Non-Null Count  Dtype  \n",
      "---  ------     --------------  -----  \n",
      " 0   Date       8904 non-null   object \n",
      " 1   Open       8904 non-null   float64\n",
      " 2   High       8904 non-null   float64\n",
      " 3   Low        8904 non-null   float64\n",
      " 4   Close      8904 non-null   float64\n",
      " 5   Adj Close  8904 non-null   float64\n",
      " 6   Volume     8904 non-null   int64  \n",
      "dtypes: float64(5), int64(1), object(1)\n",
      "memory usage: 487.1+ KB\n"
     ]
    }
   ],
   "source": [
    "df.info()"
   ]
  },
  {
   "cell_type": "markdown",
   "id": "7ebffaf2",
   "metadata": {
    "papermill": {
     "duration": 0.029742,
     "end_time": "2021-07-14T14:18:06.488239",
     "exception": false,
     "start_time": "2021-07-14T14:18:06.458497",
     "status": "completed"
    },
    "tags": []
   },
   "source": [
    "# Showing Basics Statistics\n",
    "**Now that you’ve seen what data types are in your dataset, it’s time to get an overview of the values each column contains. You can do this with .describe():**\n"
   ]
  },
  {
   "cell_type": "code",
   "execution_count": 6,
   "id": "ec6f7131",
   "metadata": {
    "execution": {
     "iopub.execute_input": "2021-07-14T14:18:06.559097Z",
     "iopub.status.busy": "2021-07-14T14:18:06.553637Z",
     "iopub.status.idle": "2021-07-14T14:18:06.589387Z",
     "shell.execute_reply": "2021-07-14T14:18:06.588575Z",
     "shell.execute_reply.started": "2021-07-14T10:00:55.798552Z"
    },
    "papermill": {
     "duration": 0.070635,
     "end_time": "2021-07-14T14:18:06.589540",
     "exception": false,
     "start_time": "2021-07-14T14:18:06.518905",
     "status": "completed"
    },
    "tags": []
   },
   "outputs": [
    {
     "data": {
      "text/html": [
       "<div>\n",
       "<style scoped>\n",
       "    .dataframe tbody tr th:only-of-type {\n",
       "        vertical-align: middle;\n",
       "    }\n",
       "\n",
       "    .dataframe tbody tr th {\n",
       "        vertical-align: top;\n",
       "    }\n",
       "\n",
       "    .dataframe thead th {\n",
       "        text-align: right;\n",
       "    }\n",
       "</style>\n",
       "<table border=\"1\" class=\"dataframe\">\n",
       "  <thead>\n",
       "    <tr style=\"text-align: right;\">\n",
       "      <th></th>\n",
       "      <th>Open</th>\n",
       "      <th>High</th>\n",
       "      <th>Low</th>\n",
       "      <th>Close</th>\n",
       "      <th>Adj Close</th>\n",
       "      <th>Volume</th>\n",
       "    </tr>\n",
       "  </thead>\n",
       "  <tbody>\n",
       "    <tr>\n",
       "      <th>count</th>\n",
       "      <td>8904.000000</td>\n",
       "      <td>8904.000000</td>\n",
       "      <td>8904.000000</td>\n",
       "      <td>8904.000000</td>\n",
       "      <td>8904.000000</td>\n",
       "      <td>8.904000e+03</td>\n",
       "    </tr>\n",
       "    <tr>\n",
       "      <th>mean</th>\n",
       "      <td>35.999118</td>\n",
       "      <td>36.385789</td>\n",
       "      <td>35.610874</td>\n",
       "      <td>36.011057</td>\n",
       "      <td>31.013661</td>\n",
       "      <td>5.934683e+07</td>\n",
       "    </tr>\n",
       "    <tr>\n",
       "      <th>std</th>\n",
       "      <td>46.783507</td>\n",
       "      <td>47.248428</td>\n",
       "      <td>46.319244</td>\n",
       "      <td>46.814441</td>\n",
       "      <td>46.948878</td>\n",
       "      <td>3.856663e+07</td>\n",
       "    </tr>\n",
       "    <tr>\n",
       "      <th>min</th>\n",
       "      <td>0.088542</td>\n",
       "      <td>0.092014</td>\n",
       "      <td>0.088542</td>\n",
       "      <td>0.090278</td>\n",
       "      <td>0.057208</td>\n",
       "      <td>2.304000e+06</td>\n",
       "    </tr>\n",
       "    <tr>\n",
       "      <th>25%</th>\n",
       "      <td>3.875000</td>\n",
       "      <td>3.921875</td>\n",
       "      <td>3.843750</td>\n",
       "      <td>3.875000</td>\n",
       "      <td>2.455539</td>\n",
       "      <td>3.536082e+07</td>\n",
       "    </tr>\n",
       "    <tr>\n",
       "      <th>50%</th>\n",
       "      <td>26.634999</td>\n",
       "      <td>26.930000</td>\n",
       "      <td>26.346875</td>\n",
       "      <td>26.620001</td>\n",
       "      <td>18.739412</td>\n",
       "      <td>5.257050e+07</td>\n",
       "    </tr>\n",
       "    <tr>\n",
       "      <th>75%</th>\n",
       "      <td>37.375000</td>\n",
       "      <td>37.660156</td>\n",
       "      <td>36.900002</td>\n",
       "      <td>37.401564</td>\n",
       "      <td>27.575310</td>\n",
       "      <td>7.320330e+07</td>\n",
       "    </tr>\n",
       "    <tr>\n",
       "      <th>max</th>\n",
       "      <td>279.399994</td>\n",
       "      <td>280.690002</td>\n",
       "      <td>277.149994</td>\n",
       "      <td>279.929993</td>\n",
       "      <td>279.929993</td>\n",
       "      <td>1.031789e+09</td>\n",
       "    </tr>\n",
       "  </tbody>\n",
       "</table>\n",
       "</div>"
      ],
      "text/plain": [
       "              Open         High          Low        Close    Adj Close  \\\n",
       "count  8904.000000  8904.000000  8904.000000  8904.000000  8904.000000   \n",
       "mean     35.999118    36.385789    35.610874    36.011057    31.013661   \n",
       "std      46.783507    47.248428    46.319244    46.814441    46.948878   \n",
       "min       0.088542     0.092014     0.088542     0.090278     0.057208   \n",
       "25%       3.875000     3.921875     3.843750     3.875000     2.455539   \n",
       "50%      26.634999    26.930000    26.346875    26.620001    18.739412   \n",
       "75%      37.375000    37.660156    36.900002    37.401564    27.575310   \n",
       "max     279.399994   280.690002   277.149994   279.929993   279.929993   \n",
       "\n",
       "             Volume  \n",
       "count  8.904000e+03  \n",
       "mean   5.934683e+07  \n",
       "std    3.856663e+07  \n",
       "min    2.304000e+06  \n",
       "25%    3.536082e+07  \n",
       "50%    5.257050e+07  \n",
       "75%    7.320330e+07  \n",
       "max    1.031789e+09  "
      ]
     },
     "execution_count": 6,
     "metadata": {},
     "output_type": "execute_result"
    }
   ],
   "source": [
    "df.describe()"
   ]
  },
  {
   "cell_type": "markdown",
   "id": "5a9d9556",
   "metadata": {
    "papermill": {
     "duration": 0.029981,
     "end_time": "2021-07-14T14:18:06.650090",
     "exception": false,
     "start_time": "2021-07-14T14:18:06.620109",
     "status": "completed"
    },
    "tags": []
   },
   "source": [
    "**.describe() won’t try to calculate a mean or a standard deviation for the object columns, since they mostly include text strings. However, it will still display some descriptive statistics**"
   ]
  },
  {
   "cell_type": "code",
   "execution_count": 7,
   "id": "017fe6dd",
   "metadata": {
    "execution": {
     "iopub.execute_input": "2021-07-14T14:18:06.727815Z",
     "iopub.status.busy": "2021-07-14T14:18:06.727098Z",
     "iopub.status.idle": "2021-07-14T14:18:06.757360Z",
     "shell.execute_reply": "2021-07-14T14:18:06.755851Z",
     "shell.execute_reply.started": "2021-07-14T10:01:56.166146Z"
    },
    "papermill": {
     "duration": 0.076208,
     "end_time": "2021-07-14T14:18:06.757511",
     "exception": false,
     "start_time": "2021-07-14T14:18:06.681303",
     "status": "completed"
    },
    "tags": []
   },
   "outputs": [
    {
     "data": {
      "text/html": [
       "<div>\n",
       "<style scoped>\n",
       "    .dataframe tbody tr th:only-of-type {\n",
       "        vertical-align: middle;\n",
       "    }\n",
       "\n",
       "    .dataframe tbody tr th {\n",
       "        vertical-align: top;\n",
       "    }\n",
       "\n",
       "    .dataframe thead th {\n",
       "        text-align: right;\n",
       "    }\n",
       "</style>\n",
       "<table border=\"1\" class=\"dataframe\">\n",
       "  <thead>\n",
       "    <tr style=\"text-align: right;\">\n",
       "      <th></th>\n",
       "      <th>Date</th>\n",
       "    </tr>\n",
       "  </thead>\n",
       "  <tbody>\n",
       "    <tr>\n",
       "      <th>count</th>\n",
       "      <td>8904</td>\n",
       "    </tr>\n",
       "    <tr>\n",
       "      <th>unique</th>\n",
       "      <td>8904</td>\n",
       "    </tr>\n",
       "    <tr>\n",
       "      <th>top</th>\n",
       "      <td>2015-10-08</td>\n",
       "    </tr>\n",
       "    <tr>\n",
       "      <th>freq</th>\n",
       "      <td>1</td>\n",
       "    </tr>\n",
       "  </tbody>\n",
       "</table>\n",
       "</div>"
      ],
      "text/plain": [
       "              Date\n",
       "count         8904\n",
       "unique        8904\n",
       "top     2015-10-08\n",
       "freq             1"
      ]
     },
     "execution_count": 7,
     "metadata": {},
     "output_type": "execute_result"
    }
   ],
   "source": [
    "df.describe(include=object)"
   ]
  },
  {
   "cell_type": "code",
   "execution_count": 8,
   "id": "b1d873f0",
   "metadata": {
    "execution": {
     "iopub.execute_input": "2021-07-14T14:18:06.824610Z",
     "iopub.status.busy": "2021-07-14T14:18:06.823875Z",
     "iopub.status.idle": "2021-07-14T14:18:06.832936Z",
     "shell.execute_reply": "2021-07-14T14:18:06.832341Z",
     "shell.execute_reply.started": "2021-07-14T10:03:22.291348Z"
    },
    "papermill": {
     "duration": 0.044732,
     "end_time": "2021-07-14T14:18:06.833096",
     "exception": false,
     "start_time": "2021-07-14T14:18:06.788364",
     "status": "completed"
    },
    "tags": []
   },
   "outputs": [
    {
     "data": {
      "text/plain": [
       "27.500000     17\n",
       "0.364583      15\n",
       "26.000000     15\n",
       "0.381944      15\n",
       "0.369792      15\n",
       "              ..\n",
       "106.879997     1\n",
       "6.046875       1\n",
       "40.259998      1\n",
       "0.146701       1\n",
       "206.350006     1\n",
       "Name: High, Length: 4990, dtype: int64"
      ]
     },
     "execution_count": 8,
     "metadata": {},
     "output_type": "execute_result"
    }
   ],
   "source": [
    "df[\"High\"].value_counts()"
   ]
  },
  {
   "cell_type": "code",
   "execution_count": 9,
   "id": "26cd0886",
   "metadata": {
    "execution": {
     "iopub.execute_input": "2021-07-14T14:18:06.903202Z",
     "iopub.status.busy": "2021-07-14T14:18:06.902408Z",
     "iopub.status.idle": "2021-07-14T14:18:06.910483Z",
     "shell.execute_reply": "2021-07-14T14:18:06.911020Z",
     "shell.execute_reply.started": "2021-07-14T10:03:34.984354Z"
    },
    "papermill": {
     "duration": 0.045584,
     "end_time": "2021-07-14T14:18:06.911241",
     "exception": false,
     "start_time": "2021-07-14T14:18:06.865657",
     "status": "completed"
    },
    "tags": []
   },
   "outputs": [
    {
     "data": {
      "text/plain": [
       "25.500000     18\n",
       "27.000000     17\n",
       "0.378472      17\n",
       "2.656250      17\n",
       "0.359375      16\n",
       "              ..\n",
       "55.439999      1\n",
       "274.299988     1\n",
       "33.130001      1\n",
       "46.169998      1\n",
       "182.869995     1\n",
       "Name: Low, Length: 5004, dtype: int64"
      ]
     },
     "execution_count": 9,
     "metadata": {},
     "output_type": "execute_result"
    }
   ],
   "source": [
    "df[\"Low\"].value_counts()"
   ]
  },
  {
   "cell_type": "code",
   "execution_count": 10,
   "id": "73475cdf",
   "metadata": {
    "execution": {
     "iopub.execute_input": "2021-07-14T14:18:06.980902Z",
     "iopub.status.busy": "2021-07-14T14:18:06.980256Z",
     "iopub.status.idle": "2021-07-14T14:18:06.987726Z",
     "shell.execute_reply": "2021-07-14T14:18:06.988300Z",
     "shell.execute_reply.started": "2021-07-14T10:03:54.759819Z"
    },
    "papermill": {
     "duration": 0.045143,
     "end_time": "2021-07-14T14:18:06.988485",
     "exception": false,
     "start_time": "2021-07-14T14:18:06.943342",
     "status": "completed"
    },
    "tags": []
   },
   "outputs": [
    {
     "data": {
      "text/plain": [
       "0.361111      16\n",
       "27.250000     13\n",
       "0.345486      12\n",
       "2.460938      12\n",
       "0.359375      12\n",
       "              ..\n",
       "41.869999      1\n",
       "33.544998      1\n",
       "0.642361       1\n",
       "105.269997     1\n",
       "243.029999     1\n",
       "Name: Close, Length: 5196, dtype: int64"
      ]
     },
     "execution_count": 10,
     "metadata": {},
     "output_type": "execute_result"
    }
   ],
   "source": [
    "df[\"Close\"].value_counts()"
   ]
  },
  {
   "cell_type": "code",
   "execution_count": 11,
   "id": "7db6c62e",
   "metadata": {
    "execution": {
     "iopub.execute_input": "2021-07-14T14:18:07.058921Z",
     "iopub.status.busy": "2021-07-14T14:18:07.058280Z",
     "iopub.status.idle": "2021-07-14T14:18:07.068301Z",
     "shell.execute_reply": "2021-07-14T14:18:07.068871Z",
     "shell.execute_reply.started": "2021-07-14T10:04:41.468754Z"
    },
    "papermill": {
     "duration": 0.047076,
     "end_time": "2021-07-14T14:18:07.069113",
     "exception": false,
     "start_time": "2021-07-14T14:18:07.022037",
     "status": "completed"
    },
    "tags": []
   },
   "outputs": [
    {
     "data": {
      "text/plain": [
       "18316800     4\n",
       "84297600     3\n",
       "58752000     3\n",
       "51825600     3\n",
       "48729600     3\n",
       "            ..\n",
       "53278100     1\n",
       "28479900     1\n",
       "42130400     1\n",
       "155571600    1\n",
       "49864700     1\n",
       "Name: Volume, Length: 8722, dtype: int64"
      ]
     },
     "execution_count": 11,
     "metadata": {},
     "output_type": "execute_result"
    }
   ],
   "source": [
    "df[\"Volume\"].value_counts()"
   ]
  },
  {
   "cell_type": "code",
   "execution_count": 12,
   "id": "80deb94d",
   "metadata": {
    "execution": {
     "iopub.execute_input": "2021-07-14T14:18:07.140322Z",
     "iopub.status.busy": "2021-07-14T14:18:07.139615Z",
     "iopub.status.idle": "2021-07-14T14:18:07.162725Z",
     "shell.execute_reply": "2021-07-14T14:18:07.162081Z",
     "shell.execute_reply.started": "2021-07-14T10:08:07.398018Z"
    },
    "papermill": {
     "duration": 0.060196,
     "end_time": "2021-07-14T14:18:07.162860",
     "exception": false,
     "start_time": "2021-07-14T14:18:07.102664",
     "status": "completed"
    },
    "tags": []
   },
   "outputs": [
    {
     "data": {
      "text/html": [
       "<div>\n",
       "<style scoped>\n",
       "    .dataframe tbody tr th:only-of-type {\n",
       "        vertical-align: middle;\n",
       "    }\n",
       "\n",
       "    .dataframe tbody tr th {\n",
       "        vertical-align: top;\n",
       "    }\n",
       "\n",
       "    .dataframe thead th {\n",
       "        text-align: right;\n",
       "    }\n",
       "</style>\n",
       "<table border=\"1\" class=\"dataframe\">\n",
       "  <thead>\n",
       "    <tr style=\"text-align: right;\">\n",
       "      <th></th>\n",
       "      <th>Date</th>\n",
       "      <th>Open</th>\n",
       "      <th>High</th>\n",
       "      <th>Low</th>\n",
       "      <th>Close</th>\n",
       "      <th>Adj Close</th>\n",
       "      <th>Volume</th>\n",
       "    </tr>\n",
       "  </thead>\n",
       "  <tbody>\n",
       "    <tr>\n",
       "      <th>1</th>\n",
       "      <td>1986-03-14</td>\n",
       "      <td>0.097222</td>\n",
       "      <td>0.102431</td>\n",
       "      <td>0.097222</td>\n",
       "      <td>0.100694</td>\n",
       "      <td>0.063809</td>\n",
       "      <td>308160000</td>\n",
       "    </tr>\n",
       "    <tr>\n",
       "      <th>2</th>\n",
       "      <td>1986-03-17</td>\n",
       "      <td>0.100694</td>\n",
       "      <td>0.103299</td>\n",
       "      <td>0.100694</td>\n",
       "      <td>0.102431</td>\n",
       "      <td>0.064909</td>\n",
       "      <td>133171200</td>\n",
       "    </tr>\n",
       "    <tr>\n",
       "      <th>3</th>\n",
       "      <td>1986-03-18</td>\n",
       "      <td>0.102431</td>\n",
       "      <td>0.103299</td>\n",
       "      <td>0.098958</td>\n",
       "      <td>0.099826</td>\n",
       "      <td>0.063258</td>\n",
       "      <td>67766400</td>\n",
       "    </tr>\n",
       "    <tr>\n",
       "      <th>4</th>\n",
       "      <td>1986-03-19</td>\n",
       "      <td>0.099826</td>\n",
       "      <td>0.100694</td>\n",
       "      <td>0.097222</td>\n",
       "      <td>0.098090</td>\n",
       "      <td>0.062158</td>\n",
       "      <td>47894400</td>\n",
       "    </tr>\n",
       "    <tr>\n",
       "      <th>5</th>\n",
       "      <td>1986-03-20</td>\n",
       "      <td>0.098090</td>\n",
       "      <td>0.098090</td>\n",
       "      <td>0.094618</td>\n",
       "      <td>0.095486</td>\n",
       "      <td>0.060508</td>\n",
       "      <td>58435200</td>\n",
       "    </tr>\n",
       "    <tr>\n",
       "      <th>...</th>\n",
       "      <td>...</td>\n",
       "      <td>...</td>\n",
       "      <td>...</td>\n",
       "      <td>...</td>\n",
       "      <td>...</td>\n",
       "      <td>...</td>\n",
       "      <td>...</td>\n",
       "    </tr>\n",
       "    <tr>\n",
       "      <th>8899</th>\n",
       "      <td>2021-07-02</td>\n",
       "      <td>272.820007</td>\n",
       "      <td>278.000000</td>\n",
       "      <td>272.500000</td>\n",
       "      <td>277.649994</td>\n",
       "      <td>277.649994</td>\n",
       "      <td>26458000</td>\n",
       "    </tr>\n",
       "    <tr>\n",
       "      <th>8900</th>\n",
       "      <td>2021-07-06</td>\n",
       "      <td>278.029999</td>\n",
       "      <td>279.369995</td>\n",
       "      <td>274.299988</td>\n",
       "      <td>277.660004</td>\n",
       "      <td>277.660004</td>\n",
       "      <td>31565600</td>\n",
       "    </tr>\n",
       "    <tr>\n",
       "      <th>8901</th>\n",
       "      <td>2021-07-07</td>\n",
       "      <td>279.399994</td>\n",
       "      <td>280.690002</td>\n",
       "      <td>277.149994</td>\n",
       "      <td>279.929993</td>\n",
       "      <td>279.929993</td>\n",
       "      <td>23260000</td>\n",
       "    </tr>\n",
       "    <tr>\n",
       "      <th>8902</th>\n",
       "      <td>2021-07-08</td>\n",
       "      <td>276.899994</td>\n",
       "      <td>278.730011</td>\n",
       "      <td>274.869995</td>\n",
       "      <td>277.420013</td>\n",
       "      <td>277.420013</td>\n",
       "      <td>24618600</td>\n",
       "    </tr>\n",
       "    <tr>\n",
       "      <th>8903</th>\n",
       "      <td>2021-07-09</td>\n",
       "      <td>275.720001</td>\n",
       "      <td>278.049988</td>\n",
       "      <td>275.320007</td>\n",
       "      <td>277.940002</td>\n",
       "      <td>277.940002</td>\n",
       "      <td>23905500</td>\n",
       "    </tr>\n",
       "  </tbody>\n",
       "</table>\n",
       "<p>8897 rows × 7 columns</p>\n",
       "</div>"
      ],
      "text/plain": [
       "            Date        Open        High         Low       Close   Adj Close  \\\n",
       "1     1986-03-14    0.097222    0.102431    0.097222    0.100694    0.063809   \n",
       "2     1986-03-17    0.100694    0.103299    0.100694    0.102431    0.064909   \n",
       "3     1986-03-18    0.102431    0.103299    0.098958    0.099826    0.063258   \n",
       "4     1986-03-19    0.099826    0.100694    0.097222    0.098090    0.062158   \n",
       "5     1986-03-20    0.098090    0.098090    0.094618    0.095486    0.060508   \n",
       "...          ...         ...         ...         ...         ...         ...   \n",
       "8899  2021-07-02  272.820007  278.000000  272.500000  277.649994  277.649994   \n",
       "8900  2021-07-06  278.029999  279.369995  274.299988  277.660004  277.660004   \n",
       "8901  2021-07-07  279.399994  280.690002  277.149994  279.929993  279.929993   \n",
       "8902  2021-07-08  276.899994  278.730011  274.869995  277.420013  277.420013   \n",
       "8903  2021-07-09  275.720001  278.049988  275.320007  277.940002  277.940002   \n",
       "\n",
       "         Volume  \n",
       "1     308160000  \n",
       "2     133171200  \n",
       "3      67766400  \n",
       "4      47894400  \n",
       "5      58435200  \n",
       "...         ...  \n",
       "8899   26458000  \n",
       "8900   31565600  \n",
       "8901   23260000  \n",
       "8902   24618600  \n",
       "8903   23905500  \n",
       "\n",
       "[8897 rows x 7 columns]"
      ]
     },
     "execution_count": 12,
     "metadata": {},
     "output_type": "execute_result"
    }
   ],
   "source": [
    "current_decade =df[df[\"Low\"] > 0.091146]\n",
    "current_decade"
   ]
  },
  {
   "cell_type": "code",
   "execution_count": 13,
   "id": "4927e503",
   "metadata": {
    "execution": {
     "iopub.execute_input": "2021-07-14T14:18:07.236549Z",
     "iopub.status.busy": "2021-07-14T14:18:07.235914Z",
     "iopub.status.idle": "2021-07-14T14:18:07.256240Z",
     "shell.execute_reply": "2021-07-14T14:18:07.255529Z",
     "shell.execute_reply.started": "2021-07-14T10:08:52.242889Z"
    },
    "papermill": {
     "duration": 0.059922,
     "end_time": "2021-07-14T14:18:07.256392",
     "exception": false,
     "start_time": "2021-07-14T14:18:07.196470",
     "status": "completed"
    },
    "tags": []
   },
   "outputs": [
    {
     "data": {
      "text/html": [
       "<div>\n",
       "<style scoped>\n",
       "    .dataframe tbody tr th:only-of-type {\n",
       "        vertical-align: middle;\n",
       "    }\n",
       "\n",
       "    .dataframe tbody tr th {\n",
       "        vertical-align: top;\n",
       "    }\n",
       "\n",
       "    .dataframe thead th {\n",
       "        text-align: right;\n",
       "    }\n",
       "</style>\n",
       "<table border=\"1\" class=\"dataframe\">\n",
       "  <thead>\n",
       "    <tr style=\"text-align: right;\">\n",
       "      <th></th>\n",
       "      <th>Date</th>\n",
       "      <th>Open</th>\n",
       "      <th>High</th>\n",
       "      <th>Low</th>\n",
       "      <th>Close</th>\n",
       "      <th>Adj Close</th>\n",
       "      <th>Volume</th>\n",
       "    </tr>\n",
       "  </thead>\n",
       "  <tbody>\n",
       "    <tr>\n",
       "      <th>0</th>\n",
       "      <td>1986-03-13</td>\n",
       "      <td>0.088542</td>\n",
       "      <td>0.101563</td>\n",
       "      <td>0.088542</td>\n",
       "      <td>0.097222</td>\n",
       "      <td>0.061608</td>\n",
       "      <td>1031788800</td>\n",
       "    </tr>\n",
       "    <tr>\n",
       "      <th>1</th>\n",
       "      <td>1986-03-14</td>\n",
       "      <td>0.097222</td>\n",
       "      <td>0.102431</td>\n",
       "      <td>0.097222</td>\n",
       "      <td>0.100694</td>\n",
       "      <td>0.063809</td>\n",
       "      <td>308160000</td>\n",
       "    </tr>\n",
       "    <tr>\n",
       "      <th>2</th>\n",
       "      <td>1986-03-17</td>\n",
       "      <td>0.100694</td>\n",
       "      <td>0.103299</td>\n",
       "      <td>0.100694</td>\n",
       "      <td>0.102431</td>\n",
       "      <td>0.064909</td>\n",
       "      <td>133171200</td>\n",
       "    </tr>\n",
       "    <tr>\n",
       "      <th>3</th>\n",
       "      <td>1986-03-18</td>\n",
       "      <td>0.102431</td>\n",
       "      <td>0.103299</td>\n",
       "      <td>0.098958</td>\n",
       "      <td>0.099826</td>\n",
       "      <td>0.063258</td>\n",
       "      <td>67766400</td>\n",
       "    </tr>\n",
       "    <tr>\n",
       "      <th>4</th>\n",
       "      <td>1986-03-19</td>\n",
       "      <td>0.099826</td>\n",
       "      <td>0.100694</td>\n",
       "      <td>0.097222</td>\n",
       "      <td>0.098090</td>\n",
       "      <td>0.062158</td>\n",
       "      <td>47894400</td>\n",
       "    </tr>\n",
       "    <tr>\n",
       "      <th>...</th>\n",
       "      <td>...</td>\n",
       "      <td>...</td>\n",
       "      <td>...</td>\n",
       "      <td>...</td>\n",
       "      <td>...</td>\n",
       "      <td>...</td>\n",
       "      <td>...</td>\n",
       "    </tr>\n",
       "    <tr>\n",
       "      <th>8899</th>\n",
       "      <td>2021-07-02</td>\n",
       "      <td>272.820007</td>\n",
       "      <td>278.000000</td>\n",
       "      <td>272.500000</td>\n",
       "      <td>277.649994</td>\n",
       "      <td>277.649994</td>\n",
       "      <td>26458000</td>\n",
       "    </tr>\n",
       "    <tr>\n",
       "      <th>8900</th>\n",
       "      <td>2021-07-06</td>\n",
       "      <td>278.029999</td>\n",
       "      <td>279.369995</td>\n",
       "      <td>274.299988</td>\n",
       "      <td>277.660004</td>\n",
       "      <td>277.660004</td>\n",
       "      <td>31565600</td>\n",
       "    </tr>\n",
       "    <tr>\n",
       "      <th>8901</th>\n",
       "      <td>2021-07-07</td>\n",
       "      <td>279.399994</td>\n",
       "      <td>280.690002</td>\n",
       "      <td>277.149994</td>\n",
       "      <td>279.929993</td>\n",
       "      <td>279.929993</td>\n",
       "      <td>23260000</td>\n",
       "    </tr>\n",
       "    <tr>\n",
       "      <th>8902</th>\n",
       "      <td>2021-07-08</td>\n",
       "      <td>276.899994</td>\n",
       "      <td>278.730011</td>\n",
       "      <td>274.869995</td>\n",
       "      <td>277.420013</td>\n",
       "      <td>277.420013</td>\n",
       "      <td>24618600</td>\n",
       "    </tr>\n",
       "    <tr>\n",
       "      <th>8903</th>\n",
       "      <td>2021-07-09</td>\n",
       "      <td>275.720001</td>\n",
       "      <td>278.049988</td>\n",
       "      <td>275.320007</td>\n",
       "      <td>277.940002</td>\n",
       "      <td>277.940002</td>\n",
       "      <td>23905500</td>\n",
       "    </tr>\n",
       "  </tbody>\n",
       "</table>\n",
       "<p>8884 rows × 7 columns</p>\n",
       "</div>"
      ],
      "text/plain": [
       "            Date        Open        High         Low       Close   Adj Close  \\\n",
       "0     1986-03-13    0.088542    0.101563    0.088542    0.097222    0.061608   \n",
       "1     1986-03-14    0.097222    0.102431    0.097222    0.100694    0.063809   \n",
       "2     1986-03-17    0.100694    0.103299    0.100694    0.102431    0.064909   \n",
       "3     1986-03-18    0.102431    0.103299    0.098958    0.099826    0.063258   \n",
       "4     1986-03-19    0.099826    0.100694    0.097222    0.098090    0.062158   \n",
       "...          ...         ...         ...         ...         ...         ...   \n",
       "8899  2021-07-02  272.820007  278.000000  272.500000  277.649994  277.649994   \n",
       "8900  2021-07-06  278.029999  279.369995  274.299988  277.660004  277.660004   \n",
       "8901  2021-07-07  279.399994  280.690002  277.149994  279.929993  279.929993   \n",
       "8902  2021-07-08  276.899994  278.730011  274.869995  277.420013  277.420013   \n",
       "8903  2021-07-09  275.720001  278.049988  275.320007  277.940002  277.940002   \n",
       "\n",
       "          Volume  \n",
       "0     1031788800  \n",
       "1      308160000  \n",
       "2      133171200  \n",
       "3       67766400  \n",
       "4       47894400  \n",
       "...          ...  \n",
       "8899    26458000  \n",
       "8900    31565600  \n",
       "8901    23260000  \n",
       "8902    24618600  \n",
       "8903    23905500  \n",
       "\n",
       "[8884 rows x 7 columns]"
      ]
     },
     "execution_count": 13,
     "metadata": {},
     "output_type": "execute_result"
    }
   ],
   "source": [
    "current_decade =df[df[\"High\"] > 0.098090]\n",
    "current_decade"
   ]
  },
  {
   "cell_type": "code",
   "execution_count": 14,
   "id": "74c891c3",
   "metadata": {
    "execution": {
     "iopub.execute_input": "2021-07-14T14:18:07.354155Z",
     "iopub.status.busy": "2021-07-14T14:18:07.333290Z",
     "iopub.status.idle": "2021-07-14T14:18:07.382868Z",
     "shell.execute_reply": "2021-07-14T14:18:07.382228Z",
     "shell.execute_reply.started": "2021-07-14T10:34:47.805438Z"
    },
    "papermill": {
     "duration": 0.091848,
     "end_time": "2021-07-14T14:18:07.383235",
     "exception": false,
     "start_time": "2021-07-14T14:18:07.291387",
     "status": "completed"
    },
    "tags": []
   },
   "outputs": [
    {
     "name": "stdout",
     "output_type": "stream",
     "text": [
      "Max is: Date         2021-07-09\n",
      "Open         279.399994\n",
      "High         280.690002\n",
      "Low          277.149994\n",
      "Close        279.929993\n",
      "Adj Close    279.929993\n",
      "Volume       1031788800\n",
      "dtype: object\n",
      "Sum is: Date         1986-03-131986-03-141986-03-171986-03-181986-0...\n",
      "Open                                             320536.144652\n",
      "High                                              323979.06562\n",
      "Low                                              317079.220406\n",
      "Close                                            320642.455337\n",
      "Adj Close                                        276145.641101\n",
      "Volume                                            528424214700\n",
      "dtype: object\n",
      "Mean is: Open         3.599912e+01\n",
      "High         3.638579e+01\n",
      "Low          3.561087e+01\n",
      "Close        3.601106e+01\n",
      "Adj Close    3.101366e+01\n",
      "Volume       5.934683e+07\n",
      "dtype: float64\n"
     ]
    }
   ],
   "source": [
    "print('Max is:',df.max())\n",
    "print('Sum is:',df.sum())\n",
    "print('Mean is:',df.mean())"
   ]
  },
  {
   "cell_type": "code",
   "execution_count": 15,
   "id": "15c43884",
   "metadata": {
    "execution": {
     "iopub.execute_input": "2021-07-14T14:18:07.459794Z",
     "iopub.status.busy": "2021-07-14T14:18:07.457474Z",
     "iopub.status.idle": "2021-07-14T14:18:07.464561Z",
     "shell.execute_reply": "2021-07-14T14:18:07.464069Z",
     "shell.execute_reply.started": "2021-07-14T10:12:38.792409Z"
    },
    "papermill": {
     "duration": 0.047147,
     "end_time": "2021-07-14T14:18:07.464701",
     "exception": false,
     "start_time": "2021-07-14T14:18:07.417554",
     "status": "completed"
    },
    "tags": []
   },
   "outputs": [
    {
     "data": {
      "text/plain": [
       "(8904, 7)"
      ]
     },
     "execution_count": 15,
     "metadata": {},
     "output_type": "execute_result"
    }
   ],
   "source": [
    "games_with_notes = df[df[\"Low\"].notnull()]\n",
    "games_with_notes.shape\n"
   ]
  },
  {
   "cell_type": "code",
   "execution_count": 16,
   "id": "86578bdd",
   "metadata": {
    "execution": {
     "iopub.execute_input": "2021-07-14T14:18:07.542980Z",
     "iopub.status.busy": "2021-07-14T14:18:07.542319Z",
     "iopub.status.idle": "2021-07-14T14:18:07.759769Z",
     "shell.execute_reply": "2021-07-14T14:18:07.759215Z",
     "shell.execute_reply.started": "2021-07-14T10:31:39.825117Z"
    },
    "papermill": {
     "duration": 0.260961,
     "end_time": "2021-07-14T14:18:07.759964",
     "exception": false,
     "start_time": "2021-07-14T14:18:07.499003",
     "status": "completed"
    },
    "tags": []
   },
   "outputs": [
    {
     "data": {
      "text/plain": [
       "<AxesSubplot:>"
      ]
     },
     "execution_count": 16,
     "metadata": {},
     "output_type": "execute_result"
    },
    {
     "data": {
      "image/png": "[encoded data removed]",
      "text/plain": [
       "<Figure size 432x288 with 1 Axes>"
      ]
     },
     "metadata": {
      "needs_background": "light"
     },
     "output_type": "display_data"
    }
   ],
   "source": [
    "df.isnull().count().plot.bar()"
   ]
  },
  {
   "cell_type": "code",
   "execution_count": 17,
   "id": "610b1bce",
   "metadata": {
    "execution": {
     "iopub.execute_input": "2021-07-14T14:18:07.842086Z",
     "iopub.status.busy": "2021-07-14T14:18:07.841307Z",
     "iopub.status.idle": "2021-07-14T14:18:08.647519Z",
     "shell.execute_reply": "2021-07-14T14:18:08.646720Z",
     "shell.execute_reply.started": "2021-07-14T10:17:17.132556Z"
    },
    "papermill": {
     "duration": 0.849886,
     "end_time": "2021-07-14T14:18:08.647700",
     "exception": false,
     "start_time": "2021-07-14T14:18:07.797814",
     "status": "completed"
    },
    "tags": []
   },
   "outputs": [
    {
     "data": {
      "image/png": "[encoded data removed]",
      "text/plain": [
       "<Figure size 432x288 with 1 Axes>"
      ]
     },
     "metadata": {
      "needs_background": "light"
     },
     "output_type": "display_data"
    }
   ],
   "source": [
    "ax=sns.regplot(x='High',y='Low',data=df)\n"
   ]
  },
  {
   "cell_type": "code",
   "execution_count": 18,
   "id": "3627cb8c",
   "metadata": {
    "execution": {
     "iopub.execute_input": "2021-07-14T14:18:08.731510Z",
     "iopub.status.busy": "2021-07-14T14:18:08.730688Z",
     "iopub.status.idle": "2021-07-14T14:19:29.321220Z",
     "shell.execute_reply": "2021-07-14T14:19:29.321723Z",
     "shell.execute_reply.started": "2021-07-14T10:35:50.352020Z"
    },
    "papermill": {
     "duration": 80.635129,
     "end_time": "2021-07-14T14:19:29.321944",
     "exception": false,
     "start_time": "2021-07-14T14:18:08.686815",
     "status": "completed"
    },
    "tags": []
   },
   "outputs": [
    {
     "name": "stdout",
     "output_type": "stream",
     "text": [
      "27.500000     17\n",
      "0.364583      15\n",
      "26.000000     15\n",
      "0.381944      15\n",
      "0.369792      15\n",
      "              ..\n",
      "106.879997     1\n",
      "6.046875       1\n",
      "40.259998      1\n",
      "0.146701       1\n",
      "206.350006     1\n",
      "Name: High, Length: 4990, dtype: int64\n"
     ]
    },
    {
     "data": {
      "text/plain": [
       "<AxesSubplot:>"
      ]
     },
     "execution_count": 18,
     "metadata": {},
     "output_type": "execute_result"
    },
    {
     "data": {
      "image/png": "[encoded data removed]",
      "text/plain": [
       "<Figure size 432x288 with 1 Axes>"
      ]
     },
     "metadata": {
      "needs_background": "light"
     },
     "output_type": "display_data"
    }
   ],
   "source": [
    "p = df['High'].value_counts()\n",
    "print(p)\n",
    "df['Low'].value_counts().plot.bar()"
   ]
  },
  {
   "cell_type": "code",
   "execution_count": 19,
   "id": "54737c6b",
   "metadata": {
    "execution": {
     "iopub.execute_input": "2021-07-14T14:19:29.401298Z",
     "iopub.status.busy": "2021-07-14T14:19:29.400599Z",
     "iopub.status.idle": "2021-07-14T14:21:58.622792Z",
     "shell.execute_reply": "2021-07-14T14:21:58.623304Z",
     "shell.execute_reply.started": "2021-07-14T10:50:27.855902Z"
    },
    "papermill": {
     "duration": 149.264906,
     "end_time": "2021-07-14T14:21:58.623476",
     "exception": false,
     "start_time": "2021-07-14T14:19:29.358570",
     "status": "completed"
    },
    "tags": []
   },
   "outputs": [
    {
     "data": {
      "text/plain": [
       "<AxesSubplot:xlabel='Volume', ylabel='count'>"
      ]
     },
     "execution_count": 19,
     "metadata": {},
     "output_type": "execute_result"
    },
    {
     "data": {
      "image/png": "[encoded data removed]",
      "text/plain": [
       "<Figure size 432x288 with 1 Axes>"
      ]
     },
     "metadata": {
      "needs_background": "light"
     },
     "output_type": "display_data"
    }
   ],
   "source": [
    "sns.countplot(data=df, x='Volume')"
   ]
  },
  {
   "cell_type": "code",
   "execution_count": 20,
   "id": "cbdfb72c",
   "metadata": {
    "execution": {
     "iopub.execute_input": "2021-07-14T14:21:58.762236Z",
     "iopub.status.busy": "2021-07-14T14:21:58.761574Z",
     "iopub.status.idle": "2021-07-14T14:22:07.489996Z",
     "shell.execute_reply": "2021-07-14T14:22:07.489299Z",
     "shell.execute_reply.started": "2021-07-14T10:50:03.870547Z"
    },
    "papermill": {
     "duration": 8.82896,
     "end_time": "2021-07-14T14:22:07.490143",
     "exception": false,
     "start_time": "2021-07-14T14:21:58.661183",
     "status": "completed"
    },
    "tags": []
   },
   "outputs": [
    {
     "data": {
      "text/plain": [
       "<seaborn.axisgrid.JointGrid at 0x7f8159ab5190>"
      ]
     },
     "execution_count": 20,
     "metadata": {},
     "output_type": "execute_result"
    },
    {
     "data": {
      "image/png": "[encoded data removed]",
      "text/plain": [
       "<Figure size 432x432 with 3 Axes>"
      ]
     },
     "metadata": {
      "needs_background": "light"
     },
     "output_type": "display_data"
    }
   ],
   "source": [
    "sns.jointplot(x = 'High', y = 'Volume',\n",
    "              data = df, kind = 'kde', color = \"red\", alpha = 0.65)"
   ]
  },
  {
   "cell_type": "code",
   "execution_count": 21,
   "id": "f633c1d9",
   "metadata": {
    "execution": {
     "iopub.execute_input": "2021-07-14T14:22:07.573390Z",
     "iopub.status.busy": "2021-07-14T14:22:07.572443Z",
     "iopub.status.idle": "2021-07-14T14:22:16.057845Z",
     "shell.execute_reply": "2021-07-14T14:22:16.057309Z",
     "shell.execute_reply.started": "2021-07-14T10:57:08.029287Z"
    },
    "papermill": {
     "duration": 8.52814,
     "end_time": "2021-07-14T14:22:16.058008",
     "exception": false,
     "start_time": "2021-07-14T14:22:07.529868",
     "status": "completed"
    },
    "tags": []
   },
   "outputs": [
    {
     "data": {
      "text/plain": [
       "<seaborn.axisgrid.JointGrid at 0x7f8159921e90>"
      ]
     },
     "execution_count": 21,
     "metadata": {},
     "output_type": "execute_result"
    },
    {
     "data": {
      "image/png": "[encoded data removed]",
      "text/plain": [
       "<Figure size 432x432 with 3 Axes>"
      ]
     },
     "metadata": {
      "needs_background": "light"
     },
     "output_type": "display_data"
    }
   ],
   "source": [
    "sns.jointplot(x = 'Low', y = 'Volume',\n",
    "              data = df, kind = 'kde', color = \"red\", alpha = 0.65)"
   ]
  },
  {
   "cell_type": "code",
   "execution_count": 22,
   "id": "633e53f7",
   "metadata": {
    "execution": {
     "iopub.execute_input": "2021-07-14T14:22:16.183344Z",
     "iopub.status.busy": "2021-07-14T14:22:16.168428Z",
     "iopub.status.idle": "2021-07-14T14:22:24.654879Z",
     "shell.execute_reply": "2021-07-14T14:22:24.654152Z",
     "shell.execute_reply.started": "2021-07-14T11:00:52.419237Z"
    },
    "papermill": {
     "duration": 8.556165,
     "end_time": "2021-07-14T14:22:24.655068",
     "exception": false,
     "start_time": "2021-07-14T14:22:16.098903",
     "status": "completed"
    },
    "tags": []
   },
   "outputs": [
    {
     "data": {
      "text/plain": [
       "<seaborn.axisgrid.JointGrid at 0x7f81597cd790>"
      ]
     },
     "execution_count": 22,
     "metadata": {},
     "output_type": "execute_result"
    },
    {
     "data": {
      "image/png": "[encoded data removed]",
      "text/plain": [
       "<Figure size 432x432 with 3 Axes>"
      ]
     },
     "metadata": {
      "needs_background": "light"
     },
     "output_type": "display_data"
    }
   ],
   "source": [
    "sns.jointplot(x = 'Close', y = 'Volume',\n",
    "              data = df, kind = 'kde', color = \"red\", alpha = 0.65)"
   ]
  },
  {
   "cell_type": "code",
   "execution_count": 23,
   "id": "0d5eb4e5",
   "metadata": {
    "execution": {
     "iopub.execute_input": "2021-07-14T14:22:24.753250Z",
     "iopub.status.busy": "2021-07-14T14:22:24.752476Z",
     "iopub.status.idle": "2021-07-14T14:22:25.151364Z",
     "shell.execute_reply": "2021-07-14T14:22:25.150764Z",
     "shell.execute_reply.started": "2021-07-14T14:07:50.185616Z"
    },
    "papermill": {
     "duration": 0.451006,
     "end_time": "2021-07-14T14:22:25.151519",
     "exception": false,
     "start_time": "2021-07-14T14:22:24.700513",
     "status": "completed"
    },
    "tags": []
   },
   "outputs": [
    {
     "data": {
      "image/png": "[encoded data removed]",
      "text/plain": [
       "<Figure size 720x720 with 2 Axes>"
      ]
     },
     "metadata": {
      "needs_background": "light"
     },
     "output_type": "display_data"
    }
   ],
   "source": [
    "plt.figure(figsize=(10,10)) \n",
    "sns.heatmap(df.corr(),annot=True,cmap='cubehelix_r') #draws  heatmap with input as the correlation matrix calculted by(iris.corr())\n",
    "plt.show()"
   ]
  },
  {
   "cell_type": "code",
   "execution_count": 24,
   "id": "57a87fbb",
   "metadata": {
    "execution": {
     "iopub.execute_input": "2021-07-14T14:22:25.342655Z",
     "iopub.status.busy": "2021-07-14T14:22:25.329332Z",
     "iopub.status.idle": "2021-07-14T14:22:26.102135Z",
     "shell.execute_reply": "2021-07-14T14:22:26.101041Z",
     "shell.execute_reply.started": "2021-07-14T14:08:19.038456Z"
    },
    "papermill": {
     "duration": 0.907149,
     "end_time": "2021-07-14T14:22:26.102374",
     "exception": false,
     "start_time": "2021-07-14T14:22:25.195225",
     "status": "completed"
    },
    "tags": []
   },
   "outputs": [
    {
     "data": {
      "image/png": "[encoded data removed]",
      "text/plain": [
       "<Figure size 1080x1080 with 6 Axes>"
      ]
     },
     "metadata": {
      "needs_background": "light"
     },
     "output_type": "display_data"
    }
   ],
   "source": [
    "df.hist(edgecolor='black', linewidth=1.2)\n",
    "fig=plt.gcf()\n",
    "fig.set_size_inches(15,15)\n",
    "plt.show()"
   ]
  },
  {
   "cell_type": "code",
   "execution_count": 25,
   "id": "7057a841",
   "metadata": {
    "execution": {
     "iopub.execute_input": "2021-07-14T14:22:26.234075Z",
     "iopub.status.busy": "2021-07-14T14:22:26.221673Z",
     "iopub.status.idle": "2021-07-14T14:25:12.631448Z",
     "shell.execute_reply": "2021-07-14T14:25:12.632008Z",
     "shell.execute_reply.started": "2021-07-14T14:09:18.342917Z"
    },
    "papermill": {
     "duration": 166.480434,
     "end_time": "2021-07-14T14:25:12.632243",
     "exception": false,
     "start_time": "2021-07-14T14:22:26.151809",
     "status": "completed"
    },
    "tags": []
   },
   "outputs": [
    {
     "data": {
      "text/plain": [
       "<AxesSubplot:xlabel='High', ylabel='Volume'>"
      ]
     },
     "execution_count": 25,
     "metadata": {},
     "output_type": "execute_result"
    },
    {
     "data": {
      "image/png": "[encoded data removed]",
      "text/plain": [
       "<Figure size 1080x720 with 1 Axes>"
      ]
     },
     "metadata": {
      "needs_background": "light"
     },
     "output_type": "display_data"
    }
   ],
   "source": [
    "plt.figure(figsize=(15,10))\n",
    "plt.subplot(2,2,1)\n",
    "sns.violinplot(x='High',y='Volume',data=df)\n"
   ]
  },
  {
   "cell_type": "code",
   "execution_count": 26,
   "id": "2f7c39e9",
   "metadata": {
    "execution": {
     "iopub.execute_input": "2021-07-14T14:25:12.749053Z",
     "iopub.status.busy": "2021-07-14T14:25:12.747962Z",
     "iopub.status.idle": "2021-07-14T14:25:12.751407Z",
     "shell.execute_reply": "2021-07-14T14:25:12.750816Z",
     "shell.execute_reply.started": "2021-07-14T14:14:03.360693Z"
    },
    "papermill": {
     "duration": 0.065475,
     "end_time": "2021-07-14T14:25:12.751578",
     "exception": false,
     "start_time": "2021-07-14T14:25:12.686103",
     "status": "completed"
    },
    "tags": []
   },
   "outputs": [],
   "source": [
    "X = df[['Open', 'High', 'Low','Close','Adj Close']]\n",
    "y = df['Volume']"
   ]
  },
  {
   "cell_type": "code",
   "execution_count": 27,
   "id": "a87b6de7",
   "metadata": {
    "execution": {
     "iopub.execute_input": "2021-07-14T14:25:12.871786Z",
     "iopub.status.busy": "2021-07-14T14:25:12.870277Z",
     "iopub.status.idle": "2021-07-14T14:25:12.878074Z",
     "shell.execute_reply": "2021-07-14T14:25:12.877247Z",
     "shell.execute_reply.started": "2021-07-14T14:14:35.189271Z"
    },
    "papermill": {
     "duration": 0.073751,
     "end_time": "2021-07-14T14:25:12.878250",
     "exception": false,
     "start_time": "2021-07-14T14:25:12.804499",
     "status": "completed"
    },
    "tags": []
   },
   "outputs": [],
   "source": [
    "X_train, X_test, y_train, y_test = train_test_split(X, y, test_size=0.3, random_state=1)"
   ]
  },
  {
   "cell_type": "code",
   "execution_count": 28,
   "id": "183b9a10",
   "metadata": {
    "execution": {
     "iopub.execute_input": "2021-07-14T14:25:12.981404Z",
     "iopub.status.busy": "2021-07-14T14:25:12.980266Z",
     "iopub.status.idle": "2021-07-14T14:25:13.009768Z",
     "shell.execute_reply": "2021-07-14T14:25:13.009111Z",
     "shell.execute_reply.started": "2021-07-14T14:15:37.132984Z"
    },
    "papermill": {
     "duration": 0.081352,
     "end_time": "2021-07-14T14:25:13.009931",
     "exception": false,
     "start_time": "2021-07-14T14:25:12.928579",
     "status": "completed"
    },
    "tags": []
   },
   "outputs": [
    {
     "data": {
      "text/plain": [
       "Pipeline(steps=[('standardscaler', StandardScaler()),\n",
       "                ('logisticregression', LogisticRegression())])"
      ]
     },
     "execution_count": 28,
     "metadata": {},
     "output_type": "execute_result"
    }
   ],
   "source": [
    "X, y = make_classification(random_state=42)\n",
    "X_train, X_test, y_train, y_test = train_test_split(X, y, random_state=42)\n",
    "pipe = make_pipeline(StandardScaler(), LogisticRegression())\n",
    "pipe.fit(X_train, y_train)  # apply scaling on training data"
   ]
  },
  {
   "cell_type": "code",
   "execution_count": 29,
   "id": "83f61b1c",
   "metadata": {
    "execution": {
     "iopub.execute_input": "2021-07-14T14:25:13.116031Z",
     "iopub.status.busy": "2021-07-14T14:25:13.115072Z",
     "iopub.status.idle": "2021-07-14T14:25:13.119116Z",
     "shell.execute_reply": "2021-07-14T14:25:13.118438Z",
     "shell.execute_reply.started": "2021-07-14T14:16:25.199655Z"
    },
    "papermill": {
     "duration": 0.061897,
     "end_time": "2021-07-14T14:25:13.119258",
     "exception": false,
     "start_time": "2021-07-14T14:25:13.057361",
     "status": "completed"
    },
    "tags": []
   },
   "outputs": [],
   "source": [
    "lr = LogisticRegression()\n",
    "lr.fit(X_train,y_train)\n",
    "predictions1 = lr.predict(X_test)"
   ]
  },
  {
   "cell_type": "code",
   "execution_count": 30,
   "id": "1c2041eb",
   "metadata": {
    "execution": {
     "iopub.execute_input": "2021-07-14T14:25:13.227459Z",
     "iopub.status.busy": "2021-07-14T14:25:13.226778Z",
     "iopub.status.idle": "2021-07-14T14:25:13.231306Z",
     "shell.execute_reply": "2021-07-14T14:25:13.230752Z",
     "shell.execute_reply.started": "2021-07-14T14:16:36.409016Z"
    },
    "papermill": {
     "duration": 0.065021,
     "end_time": "2021-07-14T14:25:13.231457",
     "exception": false,
     "start_time": "2021-07-14T14:25:13.166436",
     "status": "completed"
    },
    "tags": []
   },
   "outputs": [
    {
     "name": "stdout",
     "output_type": "stream",
     "text": [
      "              precision    recall  f1-score   support\n",
      "\n",
      "           0       1.00      1.00      1.00        15\n",
      "           1       1.00      1.00      1.00        10\n",
      "\n",
      "    accuracy                           1.00        25\n",
      "   macro avg       1.00      1.00      1.00        25\n",
      "weighted avg       1.00      1.00      1.00        25\n",
      "\n",
      "\n",
      "\n",
      "[[15  0]\n",
      " [ 0 10]]\n"
     ]
    }
   ],
   "source": [
    "print(classification_report(y_test,predictions1))\n",
    "print('\\n')\n",
    "print(confusion_matrix(y_test,predictions1))"
   ]
  },
  {
   "cell_type": "code",
   "execution_count": 31,
   "id": "753f5c4d",
   "metadata": {
    "execution": {
     "iopub.execute_input": "2021-07-14T14:25:13.332711Z",
     "iopub.status.busy": "2021-07-14T14:25:13.330578Z",
     "iopub.status.idle": "2021-07-14T14:25:13.336266Z",
     "shell.execute_reply": "2021-07-14T14:25:13.336778Z",
     "shell.execute_reply.started": "2021-07-14T14:17:06.203965Z"
    },
    "papermill": {
     "duration": 0.058623,
     "end_time": "2021-07-14T14:25:13.336973",
     "exception": false,
     "start_time": "2021-07-14T14:25:13.278350",
     "status": "completed"
    },
    "tags": []
   },
   "outputs": [
    {
     "data": {
      "text/plain": [
       "100.0"
      ]
     },
     "execution_count": 31,
     "metadata": {},
     "output_type": "execute_result"
    }
   ],
   "source": [
    "from sklearn.metrics import accuracy_score\n",
    "acclr = accuracy_score(y_test,predictions1)*100\n",
    "acclr"
   ]
  },
  {
   "cell_type": "code",
   "execution_count": null,
   "id": "7cb51e8d",
   "metadata": {
    "papermill": {
     "duration": 0.04714,
     "end_time": "2021-07-14T14:25:13.436933",
     "exception": false,
     "start_time": "2021-07-14T14:25:13.389793",
     "status": "completed"
    },
    "tags": []
   },
   "outputs": [],
   "source": []
  }
 ],
 "metadata": {
  "kernelspec": {
   "display_name": "Python 3",
   "language": "python",
   "name": "python3"
  },
  "language_info": {
   "codemirror_mode": {
    "name": "ipython",
    "version": 3
   },
   "file_extension": ".py",
   "mimetype": "text/x-python",
   "name": "python",
   "nbconvert_exporter": "python",
   "pygments_lexer": "ipython3",
   "version": "3.7.10"
  },
  "papermill": {
   "default_parameters": {},
   "duration": 441.041715,
   "end_time": "2021-07-14T14:25:16.846020",
   "environment_variables": {},
   "exception": null,
   "input_path": "__notebook__.ipynb",
   "output_path": "__notebook__.ipynb",
   "parameters": {},
   "start_time": "2021-07-14T14:17:55.804305",
   "version": "2.3.3"
  }
 },
 "nbformat": 4,
 "nbformat_minor": 5
}
