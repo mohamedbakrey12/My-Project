{
 "cells": [
  {
   "cell_type": "markdown",
   "id": "12c3a098",
   "metadata": {
    "papermill": {
     "duration": 0.032505,
     "end_time": "2021-09-08T15:20:41.954822",
     "exception": false,
     "start_time": "2021-09-08T15:20:41.922317",
     "status": "completed"
    },
    "tags": []
   },
   "source": [
    "# <p style=\"background-color:#627D78;font-family:newtimeroman;color:#D5CABD;font-size:150%;text-align:center;border-radius:20px 60px;\">Welcome In my Notebook</p>\n",
    "\n",
    " <p style=\"background-color:Tomato;font-family:newtimeroman;color:black;font-size:150%;text-align:center;border-radius:20px 60px;\">I hope you Like it. and Don't forget to apvote.</p>\n",
    "\n",
    "![photo](data:image/jpeg;base64,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)"
   ]
  },
  {
   "cell_type": "markdown",
   "id": "47c4a6c9",
   "metadata": {
    "papermill": {
     "duration": 0.024128,
     "end_time": "2021-09-08T15:20:42.004281",
     "exception": false,
     "start_time": "2021-09-08T15:20:41.980153",
     "status": "completed"
    },
    "tags": []
   },
   "source": [
    "   ## Here we have a problem statment.\n",
    "     * predict the total number of cinfirmed cases"
   ]
  },
  {
   "cell_type": "markdown",
   "id": "4639e46b",
   "metadata": {
    "papermill": {
     "duration": 0.024081,
     "end_time": "2021-09-08T15:20:42.052747",
     "exception": false,
     "start_time": "2021-09-08T15:20:42.028666",
     "status": "completed"
    },
    "tags": []
   },
   "source": [
    " <a id=\"1\"></a>\n",
    "<p style=\"background-color:#627D78;font-family:newtimeroman;color:#D5CABD;font-size:150%;text-align:center;border-radius:20px 60px;\">Importing Libraries</p>"
   ]
  },
  {
   "cell_type": "code",
   "execution_count": 1,
   "id": "2870a1f7",
   "metadata": {
    "execution": {
     "iopub.execute_input": "2021-09-08T15:20:42.125879Z",
     "iopub.status.busy": "2021-09-08T15:20:42.125146Z",
     "iopub.status.idle": "2021-09-08T15:20:44.514145Z",
     "shell.execute_reply": "2021-09-08T15:20:44.513409Z",
     "shell.execute_reply.started": "2021-09-08T15:15:16.228585Z"
    },
    "papermill": {
     "duration": 2.435207,
     "end_time": "2021-09-08T15:20:44.514308",
     "exception": false,
     "start_time": "2021-09-08T15:20:42.079101",
     "status": "completed"
    },
    "tags": []
   },
   "outputs": [],
   "source": [
    "import pandas as pd\n",
    "import numpy as np\n",
    "import matplotlib.pyplot as plt\n",
    "import seaborn as sns\n",
    "import fbprophet\n",
    "from fbprophet import Prophet\n",
    "import plotly.express as px\n",
    "#### The prophet model identifies points at which the trend changes and those can be plotted.¶\n",
    "from fbprophet.plot import add_changepoints_to_plot\n",
    "from fbprophet.diagnostics import cross_validation\n",
    "from fbprophet.diagnostics import performance_metrics\n",
    "from fbprophet.plot import plot_cross_validation_metric"
   ]
  },
  {
   "cell_type": "markdown",
   "id": "e1cea764",
   "metadata": {
    "execution": {
     "iopub.execute_input": "2021-09-08T12:21:53.579175Z",
     "iopub.status.busy": "2021-09-08T12:21:53.578832Z",
     "iopub.status.idle": "2021-09-08T12:21:53.947576Z",
     "shell.execute_reply": "2021-09-08T12:21:53.946843Z",
     "shell.execute_reply.started": "2021-09-08T12:21:53.579143Z"
    },
    "papermill": {
     "duration": 0.038769,
     "end_time": "2021-09-08T15:20:44.578587",
     "exception": false,
     "start_time": "2021-09-08T15:20:44.539818",
     "status": "completed"
    },
    "tags": []
   },
   "source": [
    "<a id=\"2\"></a>\n",
    "# <p style=\"background-color:#627D78;font-family:newtimeroman;color:#D5CABD;font-size:150%;text-align:center;border-radius:20px 60px;\">Loading Data</p>"
   ]
  },
  {
   "cell_type": "code",
   "execution_count": 2,
   "id": "69483cdf",
   "metadata": {
    "execution": {
     "iopub.execute_input": "2021-09-08T15:20:44.654194Z",
     "iopub.status.busy": "2021-09-08T15:20:44.653466Z",
     "iopub.status.idle": "2021-09-08T15:20:44.811203Z",
     "shell.execute_reply": "2021-09-08T15:20:44.810665Z",
     "shell.execute_reply.started": "2021-09-08T14:23:29.833799Z"
    },
    "papermill": {
     "duration": 0.195634,
     "end_time": "2021-09-08T15:20:44.811341",
     "exception": false,
     "start_time": "2021-09-08T15:20:44.615707",
     "status": "completed"
    },
    "tags": []
   },
   "outputs": [
    {
     "data": {
      "text/html": [
       "<div>\n",
       "<style scoped>\n",
       "    .dataframe tbody tr th:only-of-type {\n",
       "        vertical-align: middle;\n",
       "    }\n",
       "\n",
       "    .dataframe tbody tr th {\n",
       "        vertical-align: top;\n",
       "    }\n",
       "\n",
       "    .dataframe thead th {\n",
       "        text-align: right;\n",
       "    }\n",
       "</style>\n",
       "<table border=\"1\" class=\"dataframe\">\n",
       "  <thead>\n",
       "    <tr style=\"text-align: right;\">\n",
       "      <th></th>\n",
       "      <th>Province/State</th>\n",
       "      <th>Country/Region</th>\n",
       "      <th>Lat</th>\n",
       "      <th>Long</th>\n",
       "      <th>Date</th>\n",
       "      <th>Confirmed</th>\n",
       "      <th>Deaths</th>\n",
       "      <th>Recovered</th>\n",
       "      <th>Active</th>\n",
       "      <th>WHO Region</th>\n",
       "    </tr>\n",
       "  </thead>\n",
       "  <tbody>\n",
       "    <tr>\n",
       "      <th>0</th>\n",
       "      <td>NaN</td>\n",
       "      <td>Afghanistan</td>\n",
       "      <td>33.93911</td>\n",
       "      <td>67.709953</td>\n",
       "      <td>1/22/2020</td>\n",
       "      <td>0</td>\n",
       "      <td>0</td>\n",
       "      <td>0</td>\n",
       "      <td>0</td>\n",
       "      <td>Eastern Mediterranean</td>\n",
       "    </tr>\n",
       "    <tr>\n",
       "      <th>1</th>\n",
       "      <td>NaN</td>\n",
       "      <td>Albania</td>\n",
       "      <td>41.15330</td>\n",
       "      <td>20.168300</td>\n",
       "      <td>1/22/2020</td>\n",
       "      <td>0</td>\n",
       "      <td>0</td>\n",
       "      <td>0</td>\n",
       "      <td>0</td>\n",
       "      <td>Europe</td>\n",
       "    </tr>\n",
       "    <tr>\n",
       "      <th>2</th>\n",
       "      <td>NaN</td>\n",
       "      <td>Algeria</td>\n",
       "      <td>28.03390</td>\n",
       "      <td>1.659600</td>\n",
       "      <td>1/22/2020</td>\n",
       "      <td>0</td>\n",
       "      <td>0</td>\n",
       "      <td>0</td>\n",
       "      <td>0</td>\n",
       "      <td>Africa</td>\n",
       "    </tr>\n",
       "    <tr>\n",
       "      <th>3</th>\n",
       "      <td>NaN</td>\n",
       "      <td>Andorra</td>\n",
       "      <td>42.50630</td>\n",
       "      <td>1.521800</td>\n",
       "      <td>1/22/2020</td>\n",
       "      <td>0</td>\n",
       "      <td>0</td>\n",
       "      <td>0</td>\n",
       "      <td>0</td>\n",
       "      <td>Europe</td>\n",
       "    </tr>\n",
       "    <tr>\n",
       "      <th>4</th>\n",
       "      <td>NaN</td>\n",
       "      <td>Angola</td>\n",
       "      <td>-11.20270</td>\n",
       "      <td>17.873900</td>\n",
       "      <td>1/22/2020</td>\n",
       "      <td>0</td>\n",
       "      <td>0</td>\n",
       "      <td>0</td>\n",
       "      <td>0</td>\n",
       "      <td>Africa</td>\n",
       "    </tr>\n",
       "  </tbody>\n",
       "</table>\n",
       "</div>"
      ],
      "text/plain": [
       "  Province/State Country/Region       Lat       Long       Date  Confirmed  \\\n",
       "0            NaN    Afghanistan  33.93911  67.709953  1/22/2020          0   \n",
       "1            NaN        Albania  41.15330  20.168300  1/22/2020          0   \n",
       "2            NaN        Algeria  28.03390   1.659600  1/22/2020          0   \n",
       "3            NaN        Andorra  42.50630   1.521800  1/22/2020          0   \n",
       "4            NaN         Angola -11.20270  17.873900  1/22/2020          0   \n",
       "\n",
       "   Deaths  Recovered  Active             WHO Region  \n",
       "0       0          0       0  Eastern Mediterranean  \n",
       "1       0          0       0                 Europe  \n",
       "2       0          0       0                 Africa  \n",
       "3       0          0       0                 Europe  \n",
       "4       0          0       0                 Africa  "
      ]
     },
     "execution_count": 2,
     "metadata": {},
     "output_type": "execute_result"
    }
   ],
   "source": [
    "#Loading Data\n",
    "df=pd.read_csv('../input/covid-19-clean-complete/covid_19_clean_complete.csv')\n",
    "df.head()"
   ]
  },
  {
   "cell_type": "code",
   "execution_count": 3,
   "id": "39330f2a",
   "metadata": {
    "execution": {
     "iopub.execute_input": "2021-09-08T15:20:44.881277Z",
     "iopub.status.busy": "2021-09-08T15:20:44.869918Z",
     "iopub.status.idle": "2021-09-08T15:20:44.905424Z",
     "shell.execute_reply": "2021-09-08T15:20:44.904840Z",
     "shell.execute_reply.started": "2021-09-08T14:23:30.029841Z"
    },
    "papermill": {
     "duration": 0.068037,
     "end_time": "2021-09-08T15:20:44.905564",
     "exception": false,
     "start_time": "2021-09-08T15:20:44.837527",
     "status": "completed"
    },
    "tags": []
   },
   "outputs": [
    {
     "name": "stdout",
     "output_type": "stream",
     "text": [
      "The shape of data (49068, 10)\n",
      "-------------------------------\n",
      "<class 'pandas.core.frame.DataFrame'>\n",
      "RangeIndex: 49068 entries, 0 to 49067\n",
      "Data columns (total 10 columns):\n",
      " #   Column          Non-Null Count  Dtype  \n",
      "---  ------          --------------  -----  \n",
      " 0   Province/State  14664 non-null  object \n",
      " 1   Country/Region  49068 non-null  object \n",
      " 2   Lat             49068 non-null  float64\n",
      " 3   Long            49068 non-null  float64\n",
      " 4   Date            49068 non-null  object \n",
      " 5   Confirmed       49068 non-null  int64  \n",
      " 6   Deaths          49068 non-null  int64  \n",
      " 7   Recovered       49068 non-null  int64  \n",
      " 8   Active          49068 non-null  int64  \n",
      " 9   WHO Region      49068 non-null  object \n",
      "dtypes: float64(2), int64(4), object(4)\n",
      "memory usage: 3.7+ MB\n",
      "The information for data None\n"
     ]
    }
   ],
   "source": [
    "#print the some of the information about data\n",
    "print(\"The shape of data\",df.shape)\n",
    "print(\"-------------------------------\")\n",
    "print(\"The information for data\",df.info())\n"
   ]
  },
  {
   "cell_type": "code",
   "execution_count": 4,
   "id": "bafac2d0",
   "metadata": {
    "execution": {
     "iopub.execute_input": "2021-09-08T15:20:44.966179Z",
     "iopub.status.busy": "2021-09-08T15:20:44.965294Z",
     "iopub.status.idle": "2021-09-08T15:20:44.968811Z",
     "shell.execute_reply": "2021-09-08T15:20:44.969295Z",
     "shell.execute_reply.started": "2021-09-08T14:23:30.072363Z"
    },
    "papermill": {
     "duration": 0.036061,
     "end_time": "2021-09-08T15:20:44.969472",
     "exception": false,
     "start_time": "2021-09-08T15:20:44.933411",
     "status": "completed"
    },
    "tags": []
   },
   "outputs": [
    {
     "data": {
      "text/plain": [
       "Province/State     object\n",
       "Country/Region     object\n",
       "Lat               float64\n",
       "Long              float64\n",
       "Date               object\n",
       "Confirmed           int64\n",
       "Deaths              int64\n",
       "Recovered           int64\n",
       "Active              int64\n",
       "WHO Region         object\n",
       "dtype: object"
      ]
     },
     "execution_count": 4,
     "metadata": {},
     "output_type": "execute_result"
    }
   ],
   "source": [
    "df.dtypes"
   ]
  },
  {
   "cell_type": "code",
   "execution_count": 5,
   "id": "193875f5",
   "metadata": {
    "execution": {
     "iopub.execute_input": "2021-09-08T15:20:45.025048Z",
     "iopub.status.busy": "2021-09-08T15:20:45.024136Z",
     "iopub.status.idle": "2021-09-08T15:20:45.055737Z",
     "shell.execute_reply": "2021-09-08T15:20:45.056274Z",
     "shell.execute_reply.started": "2021-09-08T14:23:30.081987Z"
    },
    "papermill": {
     "duration": 0.060827,
     "end_time": "2021-09-08T15:20:45.056440",
     "exception": false,
     "start_time": "2021-09-08T15:20:44.995613",
     "status": "completed"
    },
    "tags": []
   },
   "outputs": [
    {
     "data": {
      "text/plain": [
       "Province/State            object\n",
       "Country/Region            object\n",
       "Lat                      float64\n",
       "Long                     float64\n",
       "Date              datetime64[ns]\n",
       "Confirmed                  int64\n",
       "Deaths                     int64\n",
       "Recovered                  int64\n",
       "Active                     int64\n",
       "WHO Region                object\n",
       "dtype: object"
      ]
     },
     "execution_count": 5,
     "metadata": {},
     "output_type": "execute_result"
    }
   ],
   "source": [
    "df['Date']=pd.to_datetime(df['Date'])\n",
    "df.dtypes"
   ]
  },
  {
   "cell_type": "markdown",
   "id": "47123595",
   "metadata": {
    "papermill": {
     "duration": 0.026245,
     "end_time": "2021-09-08T15:20:45.109284",
     "exception": false,
     "start_time": "2021-09-08T15:20:45.083039",
     "status": "completed"
    },
    "tags": []
   },
   "source": [
    "### Cheack NAN value"
   ]
  },
  {
   "cell_type": "code",
   "execution_count": 6,
   "id": "ed0626cf",
   "metadata": {
    "execution": {
     "iopub.execute_input": "2021-09-08T15:20:45.166610Z",
     "iopub.status.busy": "2021-09-08T15:20:45.165664Z",
     "iopub.status.idle": "2021-09-08T15:20:45.179919Z",
     "shell.execute_reply": "2021-09-08T15:20:45.180466Z",
     "shell.execute_reply.started": "2021-09-08T14:23:30.130267Z"
    },
    "papermill": {
     "duration": 0.044424,
     "end_time": "2021-09-08T15:20:45.180643",
     "exception": false,
     "start_time": "2021-09-08T15:20:45.136219",
     "status": "completed"
    },
    "tags": []
   },
   "outputs": [
    {
     "data": {
      "text/plain": [
       "Province/State    34404\n",
       "Country/Region        0\n",
       "Lat                   0\n",
       "Long                  0\n",
       "Date                  0\n",
       "Confirmed             0\n",
       "Deaths                0\n",
       "Recovered             0\n",
       "Active                0\n",
       "WHO Region            0\n",
       "dtype: int64"
      ]
     },
     "execution_count": 6,
     "metadata": {},
     "output_type": "execute_result"
    }
   ],
   "source": [
    "df.isnull().sum()"
   ]
  },
  {
   "cell_type": "code",
   "execution_count": 7,
   "id": "62bffc9c",
   "metadata": {
    "execution": {
     "iopub.execute_input": "2021-09-08T15:20:45.238524Z",
     "iopub.status.busy": "2021-09-08T15:20:45.237583Z",
     "iopub.status.idle": "2021-09-08T15:20:45.246008Z",
     "shell.execute_reply": "2021-09-08T15:20:45.246416Z",
     "shell.execute_reply.started": "2021-09-08T14:23:30.156581Z"
    },
    "papermill": {
     "duration": 0.038486,
     "end_time": "2021-09-08T15:20:45.246587",
     "exception": false,
     "start_time": "2021-09-08T15:20:45.208101",
     "status": "completed"
    },
    "tags": []
   },
   "outputs": [
    {
     "data": {
      "text/plain": [
       "188"
      ]
     },
     "execution_count": 7,
     "metadata": {},
     "output_type": "execute_result"
    }
   ],
   "source": [
    "df['Date'].nunique()"
   ]
  },
  {
   "cell_type": "markdown",
   "id": "4a294347",
   "metadata": {
    "papermill": {
     "duration": 0.02624,
     "end_time": "2021-09-08T15:20:45.299419",
     "exception": false,
     "start_time": "2021-09-08T15:20:45.273179",
     "status": "completed"
    },
    "tags": []
   },
   "source": [
    "### Here we can make agroupby (Date)"
   ]
  },
  {
   "cell_type": "code",
   "execution_count": 8,
   "id": "688a6a0d",
   "metadata": {
    "execution": {
     "iopub.execute_input": "2021-09-08T15:20:45.358142Z",
     "iopub.status.busy": "2021-09-08T15:20:45.357231Z",
     "iopub.status.idle": "2021-09-08T15:20:45.380767Z",
     "shell.execute_reply": "2021-09-08T15:20:45.381177Z",
     "shell.execute_reply.started": "2021-09-08T14:23:30.169325Z"
    },
    "papermill": {
     "duration": 0.053053,
     "end_time": "2021-09-08T15:20:45.381352",
     "exception": false,
     "start_time": "2021-09-08T15:20:45.328299",
     "status": "completed"
    },
    "tags": []
   },
   "outputs": [
    {
     "name": "stderr",
     "output_type": "stream",
     "text": [
      "/opt/conda/lib/python3.7/site-packages/ipykernel_launcher.py:1: FutureWarning: Indexing with multiple keys (implicitly converted to a tuple of keys) will be deprecated, use a list instead.\n",
      "  \"\"\"Entry point for launching an IPython kernel.\n"
     ]
    },
    {
     "data": {
      "text/html": [
       "<div>\n",
       "<style scoped>\n",
       "    .dataframe tbody tr th:only-of-type {\n",
       "        vertical-align: middle;\n",
       "    }\n",
       "\n",
       "    .dataframe tbody tr th {\n",
       "        vertical-align: top;\n",
       "    }\n",
       "\n",
       "    .dataframe thead th {\n",
       "        text-align: right;\n",
       "    }\n",
       "</style>\n",
       "<table border=\"1\" class=\"dataframe\">\n",
       "  <thead>\n",
       "    <tr style=\"text-align: right;\">\n",
       "      <th></th>\n",
       "      <th>Date</th>\n",
       "      <th>Confirmed</th>\n",
       "      <th>Deaths</th>\n",
       "      <th>Recovered</th>\n",
       "      <th>Active</th>\n",
       "    </tr>\n",
       "  </thead>\n",
       "  <tbody>\n",
       "    <tr>\n",
       "      <th>0</th>\n",
       "      <td>2020-01-22</td>\n",
       "      <td>555</td>\n",
       "      <td>17</td>\n",
       "      <td>28</td>\n",
       "      <td>510</td>\n",
       "    </tr>\n",
       "    <tr>\n",
       "      <th>1</th>\n",
       "      <td>2020-01-23</td>\n",
       "      <td>654</td>\n",
       "      <td>18</td>\n",
       "      <td>30</td>\n",
       "      <td>606</td>\n",
       "    </tr>\n",
       "    <tr>\n",
       "      <th>2</th>\n",
       "      <td>2020-01-24</td>\n",
       "      <td>941</td>\n",
       "      <td>26</td>\n",
       "      <td>36</td>\n",
       "      <td>879</td>\n",
       "    </tr>\n",
       "    <tr>\n",
       "      <th>3</th>\n",
       "      <td>2020-01-25</td>\n",
       "      <td>1434</td>\n",
       "      <td>42</td>\n",
       "      <td>39</td>\n",
       "      <td>1353</td>\n",
       "    </tr>\n",
       "    <tr>\n",
       "      <th>4</th>\n",
       "      <td>2020-01-26</td>\n",
       "      <td>2118</td>\n",
       "      <td>56</td>\n",
       "      <td>52</td>\n",
       "      <td>2010</td>\n",
       "    </tr>\n",
       "    <tr>\n",
       "      <th>...</th>\n",
       "      <td>...</td>\n",
       "      <td>...</td>\n",
       "      <td>...</td>\n",
       "      <td>...</td>\n",
       "      <td>...</td>\n",
       "    </tr>\n",
       "    <tr>\n",
       "      <th>183</th>\n",
       "      <td>2020-07-23</td>\n",
       "      <td>15510481</td>\n",
       "      <td>633506</td>\n",
       "      <td>8710969</td>\n",
       "      <td>6166006</td>\n",
       "    </tr>\n",
       "    <tr>\n",
       "      <th>184</th>\n",
       "      <td>2020-07-24</td>\n",
       "      <td>15791645</td>\n",
       "      <td>639650</td>\n",
       "      <td>8939705</td>\n",
       "      <td>6212290</td>\n",
       "    </tr>\n",
       "    <tr>\n",
       "      <th>185</th>\n",
       "      <td>2020-07-25</td>\n",
       "      <td>16047190</td>\n",
       "      <td>644517</td>\n",
       "      <td>9158743</td>\n",
       "      <td>6243930</td>\n",
       "    </tr>\n",
       "    <tr>\n",
       "      <th>186</th>\n",
       "      <td>2020-07-26</td>\n",
       "      <td>16251796</td>\n",
       "      <td>648621</td>\n",
       "      <td>9293464</td>\n",
       "      <td>6309711</td>\n",
       "    </tr>\n",
       "    <tr>\n",
       "      <th>187</th>\n",
       "      <td>2020-07-27</td>\n",
       "      <td>16480485</td>\n",
       "      <td>654036</td>\n",
       "      <td>9468097</td>\n",
       "      <td>6358362</td>\n",
       "    </tr>\n",
       "  </tbody>\n",
       "</table>\n",
       "<p>188 rows × 5 columns</p>\n",
       "</div>"
      ],
      "text/plain": [
       "          Date  Confirmed  Deaths  Recovered   Active\n",
       "0   2020-01-22        555      17         28      510\n",
       "1   2020-01-23        654      18         30      606\n",
       "2   2020-01-24        941      26         36      879\n",
       "3   2020-01-25       1434      42         39     1353\n",
       "4   2020-01-26       2118      56         52     2010\n",
       "..         ...        ...     ...        ...      ...\n",
       "183 2020-07-23   15510481  633506    8710969  6166006\n",
       "184 2020-07-24   15791645  639650    8939705  6212290\n",
       "185 2020-07-25   16047190  644517    9158743  6243930\n",
       "186 2020-07-26   16251796  648621    9293464  6309711\n",
       "187 2020-07-27   16480485  654036    9468097  6358362\n",
       "\n",
       "[188 rows x 5 columns]"
      ]
     },
     "execution_count": 8,
     "metadata": {},
     "output_type": "execute_result"
    }
   ],
   "source": [
    "total=df.groupby(['Date'])['Confirmed','Deaths','Recovered','Active'].sum().reset_index()\n",
    "total"
   ]
  },
  {
   "cell_type": "code",
   "execution_count": 9,
   "id": "52e736ce",
   "metadata": {
    "execution": {
     "iopub.execute_input": "2021-09-08T15:20:45.447144Z",
     "iopub.status.busy": "2021-09-08T15:20:45.446506Z",
     "iopub.status.idle": "2021-09-08T15:20:45.449678Z",
     "shell.execute_reply": "2021-09-08T15:20:45.450151Z",
     "shell.execute_reply.started": "2021-09-08T14:25:20.667630Z"
    },
    "papermill": {
     "duration": 0.041545,
     "end_time": "2021-09-08T15:20:45.450309",
     "exception": false,
     "start_time": "2021-09-08T15:20:45.408764",
     "status": "completed"
    },
    "tags": []
   },
   "outputs": [
    {
     "data": {
      "text/html": [
       "<div>\n",
       "<style scoped>\n",
       "    .dataframe tbody tr th:only-of-type {\n",
       "        vertical-align: middle;\n",
       "    }\n",
       "\n",
       "    .dataframe tbody tr th {\n",
       "        vertical-align: top;\n",
       "    }\n",
       "\n",
       "    .dataframe thead th {\n",
       "        text-align: right;\n",
       "    }\n",
       "</style>\n",
       "<table border=\"1\" class=\"dataframe\">\n",
       "  <thead>\n",
       "    <tr style=\"text-align: right;\">\n",
       "      <th></th>\n",
       "      <th>ds</th>\n",
       "      <th>y</th>\n",
       "      <th>Deaths</th>\n",
       "      <th>Recovered</th>\n",
       "      <th>Active</th>\n",
       "    </tr>\n",
       "  </thead>\n",
       "  <tbody>\n",
       "    <tr>\n",
       "      <th>0</th>\n",
       "      <td>2020-01-22</td>\n",
       "      <td>555</td>\n",
       "      <td>17</td>\n",
       "      <td>28</td>\n",
       "      <td>510</td>\n",
       "    </tr>\n",
       "    <tr>\n",
       "      <th>1</th>\n",
       "      <td>2020-01-23</td>\n",
       "      <td>654</td>\n",
       "      <td>18</td>\n",
       "      <td>30</td>\n",
       "      <td>606</td>\n",
       "    </tr>\n",
       "    <tr>\n",
       "      <th>2</th>\n",
       "      <td>2020-01-24</td>\n",
       "      <td>941</td>\n",
       "      <td>26</td>\n",
       "      <td>36</td>\n",
       "      <td>879</td>\n",
       "    </tr>\n",
       "    <tr>\n",
       "      <th>3</th>\n",
       "      <td>2020-01-25</td>\n",
       "      <td>1434</td>\n",
       "      <td>42</td>\n",
       "      <td>39</td>\n",
       "      <td>1353</td>\n",
       "    </tr>\n",
       "    <tr>\n",
       "      <th>4</th>\n",
       "      <td>2020-01-26</td>\n",
       "      <td>2118</td>\n",
       "      <td>56</td>\n",
       "      <td>52</td>\n",
       "      <td>2010</td>\n",
       "    </tr>\n",
       "  </tbody>\n",
       "</table>\n",
       "</div>"
      ],
      "text/plain": [
       "          ds     y  Deaths  Recovered  Active\n",
       "0 2020-01-22   555      17         28     510\n",
       "1 2020-01-23   654      18         30     606\n",
       "2 2020-01-24   941      26         36     879\n",
       "3 2020-01-25  1434      42         39    1353\n",
       "4 2020-01-26  2118      56         52    2010"
      ]
     },
     "execution_count": 9,
     "metadata": {},
     "output_type": "execute_result"
    }
   ],
   "source": [
    "#we can rename the columns of data(total)\n",
    "df_prophet=total.rename(columns={'Date':'ds','Confirmed':'y'})\n",
    "df_prophet.head()"
   ]
  },
  {
   "cell_type": "code",
   "execution_count": 10,
   "id": "4a88a02d",
   "metadata": {
    "execution": {
     "iopub.execute_input": "2021-09-08T15:20:45.512718Z",
     "iopub.status.busy": "2021-09-08T15:20:45.512150Z",
     "iopub.status.idle": "2021-09-08T15:20:45.515364Z",
     "shell.execute_reply": "2021-09-08T15:20:45.515793Z",
     "shell.execute_reply.started": "2021-09-08T14:25:50.740849Z"
    },
    "papermill": {
     "duration": 0.03813,
     "end_time": "2021-09-08T15:20:45.515965",
     "exception": false,
     "start_time": "2021-09-08T15:20:45.477835",
     "status": "completed"
    },
    "tags": []
   },
   "outputs": [
    {
     "data": {
      "text/plain": [
       "ds           0\n",
       "y            0\n",
       "Deaths       0\n",
       "Recovered    0\n",
       "Active       0\n",
       "dtype: int64"
      ]
     },
     "execution_count": 10,
     "metadata": {},
     "output_type": "execute_result"
    }
   ],
   "source": [
    "#cheack if has null values\n",
    "df_prophet.isna().sum()"
   ]
  },
  {
   "cell_type": "markdown",
   "id": "475bdd62",
   "metadata": {
    "papermill": {
     "duration": 0.027579,
     "end_time": "2021-09-08T15:20:45.572384",
     "exception": false,
     "start_time": "2021-09-08T15:20:45.544805",
     "status": "completed"
    },
    "tags": []
   },
   "source": [
    "<a id=\"3.2\"></a>\n",
    "# <p style=\"background-color:#627D78;font-family:newtimeroman;color:#D5CABD;font-size:150%;text-align:center;border-radius:20px 60px;\">Ploting Data</p>"
   ]
  },
  {
   "cell_type": "code",
   "execution_count": 11,
   "id": "584b11e0",
   "metadata": {
    "execution": {
     "iopub.execute_input": "2021-09-08T15:20:45.630992Z",
     "iopub.status.busy": "2021-09-08T15:20:45.630422Z",
     "iopub.status.idle": "2021-09-08T15:20:46.012134Z",
     "shell.execute_reply": "2021-09-08T15:20:46.012599Z",
     "shell.execute_reply.started": "2021-09-08T14:29:28.447221Z"
    },
    "papermill": {
     "duration": 0.4124,
     "end_time": "2021-09-08T15:20:46.012765",
     "exception": false,
     "start_time": "2021-09-08T15:20:45.600365",
     "status": "completed"
    },
    "tags": []
   },
   "outputs": [
    {
     "name": "stderr",
     "output_type": "stream",
     "text": [
      "/opt/conda/lib/python3.7/site-packages/seaborn/_decorators.py:43: FutureWarning: Pass the following variables as keyword args: x, y. From version 0.12, the only valid positional argument will be `data`, and passing other arguments without an explicit keyword will result in an error or misinterpretation.\n",
      "  FutureWarning\n"
     ]
    },
    {
     "data": {
      "text/plain": [
       "<AxesSubplot:xlabel='Deaths', ylabel='Recovered'>"
      ]
     },
     "execution_count": 11,
     "metadata": {},
     "output_type": "execute_result"
    },
    {
     "data": {
      "image/png": "[encoded data removed]",
      "text/plain": [
       "<Figure size 432x288 with 1 Axes>"
      ]
     },
     "metadata": {
      "needs_background": "light"
     },
     "output_type": "display_data"
    }
   ],
   "source": [
    "sns.scatterplot(df_prophet['Deaths'], df_prophet['Recovered'], hue = df_prophet['Active'])"
   ]
  },
  {
   "cell_type": "code",
   "execution_count": 12,
   "id": "05c2c806",
   "metadata": {
    "execution": {
     "iopub.execute_input": "2021-09-08T15:20:46.076320Z",
     "iopub.status.busy": "2021-09-08T15:20:46.075479Z",
     "iopub.status.idle": "2021-09-08T15:20:47.215524Z",
     "shell.execute_reply": "2021-09-08T15:20:47.214573Z",
     "shell.execute_reply.started": "2021-09-08T14:30:29.713427Z"
    },
    "papermill": {
     "duration": 1.173477,
     "end_time": "2021-09-08T15:20:47.215675",
     "exception": false,
     "start_time": "2021-09-08T15:20:46.042198",
     "status": "completed"
    },
    "tags": []
   },
   "outputs": [
    {
     "data": {
      "text/html": [
       "        <script type=\"text/javascript\">\n",
       "        window.PlotlyConfig = {MathJaxConfig: 'local'};\n",
       "        if (window.MathJax) {MathJax.Hub.Config({SVG: {font: \"STIX-Web\"}});}\n",
       "        if (typeof require !== 'undefined') {\n",
       "        require.undef(\"plotly\");\n",
       "        requirejs.config({\n",
       "            paths: {\n",
       "                'plotly': ['https://cdn.plot.ly/plotly-2.2.0.min']\n",
       "            }\n",
       "        });\n",
       "        require(['plotly'], function(Plotly) {\n",
       "            window._Plotly = Plotly;\n",
       "        });\n",
       "        }\n",
       "        </script>\n",
       "        "
      ]
     },
     "metadata": {},
     "output_type": "display_data"
    },
    {
     "data": {
      "text/html": [
       "<div>                            <div id=\"9ff53cd8-d2a4-4e45-ac8e-3be148cd6dc5\" class=\"plotly-graph-div\" style=\"height:525px; width:100%;\"></div>            <script type=\"text/javascript\">                require([\"plotly\"], function(Plotly) {                    window.PLOTLYENV=window.PLOTLYENV || {};                                    if (document.getElementById(\"9ff53cd8-d2a4-4e45-ac8e-3be148cd6dc5\")) {                    Plotly.newPlot(                        \"9ff53cd8-d2a4-4e45-ac8e-3be148cd6dc5\",                        [{\"hovertemplate\":\"Deaths=%{x}<br>Recovered=%{y}<br>Active=%{marker.color}<extra></extra>\",\"legendgroup\":\"\",\"marker\":{\"color\":[510,606,879,1353,2010,2784,5340,5908,7922,9495,11498,15966,18857,22585,26008,28750,31712,33792,36132,37906,39145,40594,52905,57554,58197,58790,58996,58908,57513,55962,55990,53661,53519,52180,50348,48826,47305,45238,44056,43492,42500,42406,41672,41752,43550,44999,46377,48294,51128,56136,60260,72243,80562,87657,99583,111865,128071,153246,178931,205266,230764,270546,299876,342468,394062,446240,501926,548569,593598,652803,708106,766582,828744,883354,936646,987151,1033269,1081957,1136621,1195879,1241261,1313438,1350754,1389164,1425770,1485109,1538671,1582655,1627840,1674431,1708343,1749230,1802911,1833537,1885981,1927315,1964957,2001495,2030701,2044556,2089540,2126040,2169008,2208008,2246497,2285111,2330371,2380782,2409845,2449784,2476456,2518521,2543331,2596361,2640327,2675902,2710929,2743712,2784005,2823963,2875184,2869027,2916066,2953499,2976234,3010040,3044932,3093412,3133456,3197279,3226335,3264452,3276956,3312425,3364867,3422693,3483577,3538590,3486196,3524135,3574922,3623295,3669280,3715937,3776026,3812839,3849981,3869178,3923452,4003513,4041511,4097815,4140884,4197308,4247921,4326728,4406931,4474521,4544278,4605227,4657028,4754082,4672273,4761307,4755072,4815151,4855475,4915467,4964447,5052995,5141244,5227218,5304469,5353468,5427502,5493703,5588524,5664300,5745518,5868451,5912527,5965535,6062930,6166006,6212290,6243930,6309711,6358362],\"coloraxis\":\"coloraxis\",\"symbol\":\"circle\"},\"mode\":\"markers\",\"name\":\"\",\"orientation\":\"v\",\"showlegend\":false,\"type\":\"scatter\",\"x\":[17,18,26,42,56,82,131,133,171,213,259,362,426,492,564,634,719,806,906,1013,1113,1118,1371,1523,1666,1770,1868,2008,2123,2246,2250,2457,2467,2627,2707,2767,2810,2867,2936,2990,3079,3154,3249,3342,3454,3553,3797,3981,4260,4604,4909,5406,5823,6464,7144,7948,8845,9951,11429,13134,14831,16748,19016,21793,24800,28318,31997,35470,39634,44478,50029,56334,62319,68160,73181,79013,86915,93650,101279,108551,114620,120351,126098,132996,141308,148591,157481,163952,168522,173965,181122,187877,194727,201401,206979,210862,215511,221974,228742,234704,239881,245206,248659,252787,258658,265327,270736,276304,280569,284135,287608,293155,298383,303651,308866,313037,316366,319657,324441,329326,334112,339396,343385,346525,347703,351906,357119,361820,366562,370718,373606,376674,381497,387069,392218,396994,400875,403617,407314,412236,417441,422215,426512,430750,434124,437549,444416,449671,454700,460973,465222,469185,472756,478067,483328,489955,494782,499268,502357,506078,511210,516221,521341,526336,530705,534150,537947,544054,549373,554831,560142,565039,568993,572808,578468,583961,589760,596503,602130,606159,610319,616557,623540,633506,639650,644517,648621,654036],\"xaxis\":\"x\",\"y\":[28,30,36,39,52,61,107,125,141,219,281,459,604,821,1071,1418,1903,2470,3057,3714,4417,4849,5930,7613,8902,10319,11951,13693,15394,17369,17966,21849,22304,24047,26652,29077,31919,35306,38314,41208,44085,46681,49619,52237,54270,56760,59092,60891,62802,65113,66434,68359,70729,74139,76192,78944,81427,83064,85509,89775,95990,96456,105997,111445,119804,128508,136800,146261,161707,174074,189434,206052,221060,241072,254477,270812,293665,322017,346349,367477,392991,411864,438395,463014,498925,529015,554287,577789,608557,629862,664043,693207,721689,771329,798239,825969,852382,884680,925752,989616,1026501,1066362,1097577,1130526,1166155,1210894,1249311,1284849,1337367,1370108,1416204,1452191,1506905,1545712,1592880,1648546,1688699,1740909,1792256,1850441,1900768,2008541,2062802,2117555,2180605,2235118,2297613,2363746,2440127,2509981,2585589,2639599,2743083,2821430,2890776,2959037,3030214,3084718,3235640,3317121,3395154,3480121,3558933,3644048,3714006,3793406,3890800,4008201,4088826,4183298,4298603,4366875,4458093,4561696,4677005,4769458,4875774,4981808,5070592,5164494,5281459,5397083,5681477,5790942,5986375,6105546,6228768,6373513,6531016,6665237,6804254,6929711,7041174,7181139,7322897,7482320,7634241,7793760,7944550,8032235,8190777,8364986,8541255,8710969,8939705,9158743,9293464,9468097],\"yaxis\":\"y\"}],                        {\"coloraxis\":{\"colorbar\":{\"title\":{\"text\":\"Active\"}},\"colorscale\":[[0.0,\"#0d0887\"],[0.1111111111111111,\"#46039f\"],[0.2222222222222222,\"#7201a8\"],[0.3333333333333333,\"#9c179e\"],[0.4444444444444444,\"#bd3786\"],[0.5555555555555556,\"#d8576b\"],[0.6666666666666666,\"#ed7953\"],[0.7777777777777778,\"#fb9f3a\"],[0.8888888888888888,\"#fdca26\"],[1.0,\"#f0f921\"]]},\"legend\":{\"tracegroupgap\":0},\"margin\":{\"t\":60},\"template\":{\"data\":{\"bar\":[{\"error_x\":{\"color\":\"#2a3f5f\"},\"error_y\":{\"color\":\"#2a3f5f\"},\"marker\":{\"line\":{\"color\":\"#E5ECF6\",\"width\":0.5},\"pattern\":{\"fillmode\":\"overlay\",\"size\":10,\"solidity\":0.2}},\"type\":\"bar\"}],\"barpolar\":[{\"marker\":{\"line\":{\"color\":\"#E5ECF6\",\"width\":0.5},\"pattern\":{\"fillmode\":\"overlay\",\"size\":10,\"solidity\":0.2}},\"type\":\"barpolar\"}],\"carpet\":[{\"aaxis\":{\"endlinecolor\":\"#2a3f5f\",\"gridcolor\":\"white\",\"linecolor\":\"white\",\"minorgridcolor\":\"white\",\"startlinecolor\":\"#2a3f5f\"},\"baxis\":{\"endlinecolor\":\"#2a3f5f\",\"gridcolor\":\"white\",\"linecolor\":\"white\",\"minorgridcolor\":\"white\",\"startlinecolor\":\"#2a3f5f\"},\"type\":\"carpet\"}],\"choropleth\":[{\"colorbar\":{\"outlinewidth\":0,\"ticks\":\"\"},\"type\":\"choropleth\"}],\"contour\":[{\"colorbar\":{\"outlinewidth\":0,\"ticks\":\"\"},\"colorscale\":[[0.0,\"#0d0887\"],[0.1111111111111111,\"#46039f\"],[0.2222222222222222,\"#7201a8\"],[0.3333333333333333,\"#9c179e\"],[0.4444444444444444,\"#bd3786\"],[0.5555555555555556,\"#d8576b\"],[0.6666666666666666,\"#ed7953\"],[0.7777777777777778,\"#fb9f3a\"],[0.8888888888888888,\"#fdca26\"],[1.0,\"#f0f921\"]],\"type\":\"contour\"}],\"contourcarpet\":[{\"colorbar\":{\"outlinewidth\":0,\"ticks\":\"\"},\"type\":\"contourcarpet\"}],\"heatmap\":[{\"colorbar\":{\"outlinewidth\":0,\"ticks\":\"\"},\"colorscale\":[[0.0,\"#0d0887\"],[0.1111111111111111,\"#46039f\"],[0.2222222222222222,\"#7201a8\"],[0.3333333333333333,\"#9c179e\"],[0.4444444444444444,\"#bd3786\"],[0.5555555555555556,\"#d8576b\"],[0.6666666666666666,\"#ed7953\"],[0.7777777777777778,\"#fb9f3a\"],[0.8888888888888888,\"#fdca26\"],[1.0,\"#f0f921\"]],\"type\":\"heatmap\"}],\"heatmapgl\":[{\"colorbar\":{\"outlinewidth\":0,\"ticks\":\"\"},\"colorscale\":[[0.0,\"#0d0887\"],[0.1111111111111111,\"#46039f\"],[0.2222222222222222,\"#7201a8\"],[0.3333333333333333,\"#9c179e\"],[0.4444444444444444,\"#bd3786\"],[0.5555555555555556,\"#d8576b\"],[0.6666666666666666,\"#ed7953\"],[0.7777777777777778,\"#fb9f3a\"],[0.8888888888888888,\"#fdca26\"],[1.0,\"#f0f921\"]],\"type\":\"heatmapgl\"}],\"histogram\":[{\"marker\":{\"pattern\":{\"fillmode\":\"overlay\",\"size\":10,\"solidity\":0.2}},\"type\":\"histogram\"}],\"histogram2d\":[{\"colorbar\":{\"outlinewidth\":0,\"ticks\":\"\"},\"colorscale\":[[0.0,\"#0d0887\"],[0.1111111111111111,\"#46039f\"],[0.2222222222222222,\"#7201a8\"],[0.3333333333333333,\"#9c179e\"],[0.4444444444444444,\"#bd3786\"],[0.5555555555555556,\"#d8576b\"],[0.6666666666666666,\"#ed7953\"],[0.7777777777777778,\"#fb9f3a\"],[0.8888888888888888,\"#fdca26\"],[1.0,\"#f0f921\"]],\"type\":\"histogram2d\"}],\"histogram2dcontour\":[{\"colorbar\":{\"outlinewidth\":0,\"ticks\":\"\"},\"colorscale\":[[0.0,\"#0d0887\"],[0.1111111111111111,\"#46039f\"],[0.2222222222222222,\"#7201a8\"],[0.3333333333333333,\"#9c179e\"],[0.4444444444444444,\"#bd3786\"],[0.5555555555555556,\"#d8576b\"],[0.6666666666666666,\"#ed7953\"],[0.7777777777777778,\"#fb9f3a\"],[0.8888888888888888,\"#fdca26\"],[1.0,\"#f0f921\"]],\"type\":\"histogram2dcontour\"}],\"mesh3d\":[{\"colorbar\":{\"outlinewidth\":0,\"ticks\":\"\"},\"type\":\"mesh3d\"}],\"parcoords\":[{\"line\":{\"colorbar\":{\"outlinewidth\":0,\"ticks\":\"\"}},\"type\":\"parcoords\"}],\"pie\":[{\"automargin\":true,\"type\":\"pie\"}],\"scatter\":[{\"marker\":{\"colorbar\":{\"outlinewidth\":0,\"ticks\":\"\"}},\"type\":\"scatter\"}],\"scatter3d\":[{\"line\":{\"colorbar\":{\"outlinewidth\":0,\"ticks\":\"\"}},\"marker\":{\"colorbar\":{\"outlinewidth\":0,\"ticks\":\"\"}},\"type\":\"scatter3d\"}],\"scattercarpet\":[{\"marker\":{\"colorbar\":{\"outlinewidth\":0,\"ticks\":\"\"}},\"type\":\"scattercarpet\"}],\"scattergeo\":[{\"marker\":{\"colorbar\":{\"outlinewidth\":0,\"ticks\":\"\"}},\"type\":\"scattergeo\"}],\"scattergl\":[{\"marker\":{\"colorbar\":{\"outlinewidth\":0,\"ticks\":\"\"}},\"type\":\"scattergl\"}],\"scattermapbox\":[{\"marker\":{\"colorbar\":{\"outlinewidth\":0,\"ticks\":\"\"}},\"type\":\"scattermapbox\"}],\"scatterpolar\":[{\"marker\":{\"colorbar\":{\"outlinewidth\":0,\"ticks\":\"\"}},\"type\":\"scatterpolar\"}],\"scatterpolargl\":[{\"marker\":{\"colorbar\":{\"outlinewidth\":0,\"ticks\":\"\"}},\"type\":\"scatterpolargl\"}],\"scatterternary\":[{\"marker\":{\"colorbar\":{\"outlinewidth\":0,\"ticks\":\"\"}},\"type\":\"scatterternary\"}],\"surface\":[{\"colorbar\":{\"outlinewidth\":0,\"ticks\":\"\"},\"colorscale\":[[0.0,\"#0d0887\"],[0.1111111111111111,\"#46039f\"],[0.2222222222222222,\"#7201a8\"],[0.3333333333333333,\"#9c179e\"],[0.4444444444444444,\"#bd3786\"],[0.5555555555555556,\"#d8576b\"],[0.6666666666666666,\"#ed7953\"],[0.7777777777777778,\"#fb9f3a\"],[0.8888888888888888,\"#fdca26\"],[1.0,\"#f0f921\"]],\"type\":\"surface\"}],\"table\":[{\"cells\":{\"fill\":{\"color\":\"#EBF0F8\"},\"line\":{\"color\":\"white\"}},\"header\":{\"fill\":{\"color\":\"#C8D4E3\"},\"line\":{\"color\":\"white\"}},\"type\":\"table\"}]},\"layout\":{\"annotationdefaults\":{\"arrowcolor\":\"#2a3f5f\",\"arrowhead\":0,\"arrowwidth\":1},\"autotypenumbers\":\"strict\",\"coloraxis\":{\"colorbar\":{\"outlinewidth\":0,\"ticks\":\"\"}},\"colorscale\":{\"diverging\":[[0,\"#8e0152\"],[0.1,\"#c51b7d\"],[0.2,\"#de77ae\"],[0.3,\"#f1b6da\"],[0.4,\"#fde0ef\"],[0.5,\"#f7f7f7\"],[0.6,\"#e6f5d0\"],[0.7,\"#b8e186\"],[0.8,\"#7fbc41\"],[0.9,\"#4d9221\"],[1,\"#276419\"]],\"sequential\":[[0.0,\"#0d0887\"],[0.1111111111111111,\"#46039f\"],[0.2222222222222222,\"#7201a8\"],[0.3333333333333333,\"#9c179e\"],[0.4444444444444444,\"#bd3786\"],[0.5555555555555556,\"#d8576b\"],[0.6666666666666666,\"#ed7953\"],[0.7777777777777778,\"#fb9f3a\"],[0.8888888888888888,\"#fdca26\"],[1.0,\"#f0f921\"]],\"sequentialminus\":[[0.0,\"#0d0887\"],[0.1111111111111111,\"#46039f\"],[0.2222222222222222,\"#7201a8\"],[0.3333333333333333,\"#9c179e\"],[0.4444444444444444,\"#bd3786\"],[0.5555555555555556,\"#d8576b\"],[0.6666666666666666,\"#ed7953\"],[0.7777777777777778,\"#fb9f3a\"],[0.8888888888888888,\"#fdca26\"],[1.0,\"#f0f921\"]]},\"colorway\":[\"#636efa\",\"#EF553B\",\"#00cc96\",\"#ab63fa\",\"#FFA15A\",\"#19d3f3\",\"#FF6692\",\"#B6E880\",\"#FF97FF\",\"#FECB52\"],\"font\":{\"color\":\"#2a3f5f\"},\"geo\":{\"bgcolor\":\"white\",\"lakecolor\":\"white\",\"landcolor\":\"#E5ECF6\",\"showlakes\":true,\"showland\":true,\"subunitcolor\":\"white\"},\"hoverlabel\":{\"align\":\"left\"},\"hovermode\":\"closest\",\"mapbox\":{\"style\":\"light\"},\"paper_bgcolor\":\"white\",\"plot_bgcolor\":\"#E5ECF6\",\"polar\":{\"angularaxis\":{\"gridcolor\":\"white\",\"linecolor\":\"white\",\"ticks\":\"\"},\"bgcolor\":\"#E5ECF6\",\"radialaxis\":{\"gridcolor\":\"white\",\"linecolor\":\"white\",\"ticks\":\"\"}},\"scene\":{\"xaxis\":{\"backgroundcolor\":\"#E5ECF6\",\"gridcolor\":\"white\",\"gridwidth\":2,\"linecolor\":\"white\",\"showbackground\":true,\"ticks\":\"\",\"zerolinecolor\":\"white\"},\"yaxis\":{\"backgroundcolor\":\"#E5ECF6\",\"gridcolor\":\"white\",\"gridwidth\":2,\"linecolor\":\"white\",\"showbackground\":true,\"ticks\":\"\",\"zerolinecolor\":\"white\"},\"zaxis\":{\"backgroundcolor\":\"#E5ECF6\",\"gridcolor\":\"white\",\"gridwidth\":2,\"linecolor\":\"white\",\"showbackground\":true,\"ticks\":\"\",\"zerolinecolor\":\"white\"}},\"shapedefaults\":{\"line\":{\"color\":\"#2a3f5f\"}},\"ternary\":{\"aaxis\":{\"gridcolor\":\"white\",\"linecolor\":\"white\",\"ticks\":\"\"},\"baxis\":{\"gridcolor\":\"white\",\"linecolor\":\"white\",\"ticks\":\"\"},\"bgcolor\":\"#E5ECF6\",\"caxis\":{\"gridcolor\":\"white\",\"linecolor\":\"white\",\"ticks\":\"\"}},\"title\":{\"x\":0.05},\"xaxis\":{\"automargin\":true,\"gridcolor\":\"white\",\"linecolor\":\"white\",\"ticks\":\"\",\"title\":{\"standoff\":15},\"zerolinecolor\":\"white\",\"zerolinewidth\":2},\"yaxis\":{\"automargin\":true,\"gridcolor\":\"white\",\"linecolor\":\"white\",\"ticks\":\"\",\"title\":{\"standoff\":15},\"zerolinecolor\":\"white\",\"zerolinewidth\":2}}},\"xaxis\":{\"anchor\":\"y\",\"domain\":[0.0,1.0],\"title\":{\"text\":\"Deaths\"}},\"yaxis\":{\"anchor\":\"x\",\"domain\":[0.0,1.0],\"title\":{\"text\":\"Recovered\"}}},                        {\"responsive\": true}                    ).then(function(){\n",
       "                            \n",
       "var gd = document.getElementById('9ff53cd8-d2a4-4e45-ac8e-3be148cd6dc5');\n",
       "var x = new MutationObserver(function (mutations, observer) {{\n",
       "        var display = window.getComputedStyle(gd).display;\n",
       "        if (!display || display === 'none') {{\n",
       "            console.log([gd, 'removed!']);\n",
       "            Plotly.purge(gd);\n",
       "            observer.disconnect();\n",
       "        }}\n",
       "}});\n",
       "\n",
       "// Listen for the removal of the full notebook cells\n",
       "var notebookContainer = gd.closest('#notebook-container');\n",
       "if (notebookContainer) {{\n",
       "    x.observe(notebookContainer, {childList: true});\n",
       "}}\n",
       "\n",
       "// Listen for the clearing of the current output cell\n",
       "var outputEl = gd.closest('.output');\n",
       "if (outputEl) {{\n",
       "    x.observe(outputEl, {childList: true});\n",
       "}}\n",
       "\n",
       "                        })                };                });            </script>        </div>"
      ]
     },
     "metadata": {},
     "output_type": "display_data"
    }
   ],
   "source": [
    "px.scatter(df_prophet, x=\"Deaths\", y=\"Recovered\", color=\"Active\")"
   ]
  },
  {
   "cell_type": "markdown",
   "id": "1194e663",
   "metadata": {
    "papermill": {
     "duration": 0.031219,
     "end_time": "2021-09-08T15:20:47.278408",
     "exception": false,
     "start_time": "2021-09-08T15:20:47.247189",
     "status": "completed"
    },
    "tags": []
   },
   "source": [
    "#### We also see that the cases of death have begun to decrease sharply and the number of hospitalizations has increased, and this is a good thing for all."
   ]
  },
  {
   "cell_type": "code",
   "execution_count": 13,
   "id": "1f76f031",
   "metadata": {
    "execution": {
     "iopub.execute_input": "2021-09-08T15:20:47.352369Z",
     "iopub.status.busy": "2021-09-08T15:20:47.351446Z",
     "iopub.status.idle": "2021-09-08T15:20:47.413209Z",
     "shell.execute_reply": "2021-09-08T15:20:47.412714Z",
     "shell.execute_reply.started": "2021-09-08T14:33:02.435013Z"
    },
    "papermill": {
     "duration": 0.104852,
     "end_time": "2021-09-08T15:20:47.413354",
     "exception": false,
     "start_time": "2021-09-08T15:20:47.308502",
     "status": "completed"
    },
    "tags": []
   },
   "outputs": [
    {
     "data": {
      "text/html": [
       "<div>                            <div id=\"7fde720a-5ee7-442a-af18-a2acddd2458b\" class=\"plotly-graph-div\" style=\"height:525px; width:100%;\"></div>            <script type=\"text/javascript\">                require([\"plotly\"], function(Plotly) {                    window.PLOTLYENV=window.PLOTLYENV || {};                                    if (document.getElementById(\"7fde720a-5ee7-442a-af18-a2acddd2458b\")) {                    Plotly.newPlot(                        \"7fde720a-5ee7-442a-af18-a2acddd2458b\",                        [{\"dimensions\":[{\"label\":\"y\",\"values\":[555,654,941,1434,2118,2927,5578,6166,8234,9927,12038,16787,19887,23898,27643,30802,34334,37068,40095,42633,44675,46561,60206,66690,68765,70879,72815,74609,75030,75577,76206,77967,78290,78854,79707,80670,82034,83411,85306,87690,89664,92241,94540,97331,101274,105312,109266,113166,118190,125853,131603,146008,157114,168260,182919,198757,218343,246261,275869,308175,341585,383750,424889,475706,538666,603066,670723,730300,794939,871355,947569,1028968,1112123,1192586,1264304,1336976,1413849,1497624,1584249,1671907,1748872,1845653,1915247,1985174,2066003,2162715,2250439,2324396,2404919,2478258,2553508,2630314,2719327,2806267,2891199,2964146,3032850,3108149,3185195,3268876,3355922,3437608,3515244,3591321,3671310,3761332,3850418,3941935,4027781,4104027,4180268,4263867,4348619,4445724,4542073,4637485,4715994,4804278,4900702,5003730,5110064,5216964,5322253,5417579,5504542,5597064,5699664,5818978,5940145,6077978,6185530,6280725,6401536,6520924,6647861,6778724,6914666,7026925,7129150,7253492,7387517,7525631,7654725,7790735,7924156,8043794,8185197,8327050,8466978,8647784,8805336,8933875,9071733,9237071,9408254,9586141,9777487,9955597,10117227,10275799,10449697,10667386,10875091,11078585,11272152,11454847,11622190,11833034,12044836,12273063,12505640,12721968,12914636,13107415,13328867,13559984,13812525,14054563,14292198,14506845,14713623,14947078,15227725,15510481,15791645,16047190,16251796,16480485]},{\"label\":\"Deaths\",\"values\":[17,18,26,42,56,82,131,133,171,213,259,362,426,492,564,634,719,806,906,1013,1113,1118,1371,1523,1666,1770,1868,2008,2123,2246,2250,2457,2467,2627,2707,2767,2810,2867,2936,2990,3079,3154,3249,3342,3454,3553,3797,3981,4260,4604,4909,5406,5823,6464,7144,7948,8845,9951,11429,13134,14831,16748,19016,21793,24800,28318,31997,35470,39634,44478,50029,56334,62319,68160,73181,79013,86915,93650,101279,108551,114620,120351,126098,132996,141308,148591,157481,163952,168522,173965,181122,187877,194727,201401,206979,210862,215511,221974,228742,234704,239881,245206,248659,252787,258658,265327,270736,276304,280569,284135,287608,293155,298383,303651,308866,313037,316366,319657,324441,329326,334112,339396,343385,346525,347703,351906,357119,361820,366562,370718,373606,376674,381497,387069,392218,396994,400875,403617,407314,412236,417441,422215,426512,430750,434124,437549,444416,449671,454700,460973,465222,469185,472756,478067,483328,489955,494782,499268,502357,506078,511210,516221,521341,526336,530705,534150,537947,544054,549373,554831,560142,565039,568993,572808,578468,583961,589760,596503,602130,606159,610319,616557,623540,633506,639650,644517,648621,654036]},{\"label\":\"Recovered\",\"values\":[28,30,36,39,52,61,107,125,141,219,281,459,604,821,1071,1418,1903,2470,3057,3714,4417,4849,5930,7613,8902,10319,11951,13693,15394,17369,17966,21849,22304,24047,26652,29077,31919,35306,38314,41208,44085,46681,49619,52237,54270,56760,59092,60891,62802,65113,66434,68359,70729,74139,76192,78944,81427,83064,85509,89775,95990,96456,105997,111445,119804,128508,136800,146261,161707,174074,189434,206052,221060,241072,254477,270812,293665,322017,346349,367477,392991,411864,438395,463014,498925,529015,554287,577789,608557,629862,664043,693207,721689,771329,798239,825969,852382,884680,925752,989616,1026501,1066362,1097577,1130526,1166155,1210894,1249311,1284849,1337367,1370108,1416204,1452191,1506905,1545712,1592880,1648546,1688699,1740909,1792256,1850441,1900768,2008541,2062802,2117555,2180605,2235118,2297613,2363746,2440127,2509981,2585589,2639599,2743083,2821430,2890776,2959037,3030214,3084718,3235640,3317121,3395154,3480121,3558933,3644048,3714006,3793406,3890800,4008201,4088826,4183298,4298603,4366875,4458093,4561696,4677005,4769458,4875774,4981808,5070592,5164494,5281459,5397083,5681477,5790942,5986375,6105546,6228768,6373513,6531016,6665237,6804254,6929711,7041174,7181139,7322897,7482320,7634241,7793760,7944550,8032235,8190777,8364986,8541255,8710969,8939705,9158743,9293464,9468097]},{\"label\":\"Active\",\"values\":[510,606,879,1353,2010,2784,5340,5908,7922,9495,11498,15966,18857,22585,26008,28750,31712,33792,36132,37906,39145,40594,52905,57554,58197,58790,58996,58908,57513,55962,55990,53661,53519,52180,50348,48826,47305,45238,44056,43492,42500,42406,41672,41752,43550,44999,46377,48294,51128,56136,60260,72243,80562,87657,99583,111865,128071,153246,178931,205266,230764,270546,299876,342468,394062,446240,501926,548569,593598,652803,708106,766582,828744,883354,936646,987151,1033269,1081957,1136621,1195879,1241261,1313438,1350754,1389164,1425770,1485109,1538671,1582655,1627840,1674431,1708343,1749230,1802911,1833537,1885981,1927315,1964957,2001495,2030701,2044556,2089540,2126040,2169008,2208008,2246497,2285111,2330371,2380782,2409845,2449784,2476456,2518521,2543331,2596361,2640327,2675902,2710929,2743712,2784005,2823963,2875184,2869027,2916066,2953499,2976234,3010040,3044932,3093412,3133456,3197279,3226335,3264452,3276956,3312425,3364867,3422693,3483577,3538590,3486196,3524135,3574922,3623295,3669280,3715937,3776026,3812839,3849981,3869178,3923452,4003513,4041511,4097815,4140884,4197308,4247921,4326728,4406931,4474521,4544278,4605227,4657028,4754082,4672273,4761307,4755072,4815151,4855475,4915467,4964447,5052995,5141244,5227218,5304469,5353468,5427502,5493703,5588524,5664300,5745518,5868451,5912527,5965535,6062930,6166006,6212290,6243930,6309711,6358362]}],\"domain\":{\"x\":[0.0,1.0],\"y\":[0.0,1.0]},\"line\":{\"color\":[510,606,879,1353,2010,2784,5340,5908,7922,9495,11498,15966,18857,22585,26008,28750,31712,33792,36132,37906,39145,40594,52905,57554,58197,58790,58996,58908,57513,55962,55990,53661,53519,52180,50348,48826,47305,45238,44056,43492,42500,42406,41672,41752,43550,44999,46377,48294,51128,56136,60260,72243,80562,87657,99583,111865,128071,153246,178931,205266,230764,270546,299876,342468,394062,446240,501926,548569,593598,652803,708106,766582,828744,883354,936646,987151,1033269,1081957,1136621,1195879,1241261,1313438,1350754,1389164,1425770,1485109,1538671,1582655,1627840,1674431,1708343,1749230,1802911,1833537,1885981,1927315,1964957,2001495,2030701,2044556,2089540,2126040,2169008,2208008,2246497,2285111,2330371,2380782,2409845,2449784,2476456,2518521,2543331,2596361,2640327,2675902,2710929,2743712,2784005,2823963,2875184,2869027,2916066,2953499,2976234,3010040,3044932,3093412,3133456,3197279,3226335,3264452,3276956,3312425,3364867,3422693,3483577,3538590,3486196,3524135,3574922,3623295,3669280,3715937,3776026,3812839,3849981,3869178,3923452,4003513,4041511,4097815,4140884,4197308,4247921,4326728,4406931,4474521,4544278,4605227,4657028,4754082,4672273,4761307,4755072,4815151,4855475,4915467,4964447,5052995,5141244,5227218,5304469,5353468,5427502,5493703,5588524,5664300,5745518,5868451,5912527,5965535,6062930,6166006,6212290,6243930,6309711,6358362],\"coloraxis\":\"coloraxis\"},\"name\":\"\",\"type\":\"parcoords\"}],                        {\"coloraxis\":{\"colorbar\":{\"title\":{\"text\":\"Active\"}},\"colorscale\":[[0.0,\"#0d0887\"],[0.1111111111111111,\"#46039f\"],[0.2222222222222222,\"#7201a8\"],[0.3333333333333333,\"#9c179e\"],[0.4444444444444444,\"#bd3786\"],[0.5555555555555556,\"#d8576b\"],[0.6666666666666666,\"#ed7953\"],[0.7777777777777778,\"#fb9f3a\"],[0.8888888888888888,\"#fdca26\"],[1.0,\"#f0f921\"]]},\"legend\":{\"tracegroupgap\":0},\"margin\":{\"t\":60},\"template\":{\"data\":{\"bar\":[{\"error_x\":{\"color\":\"#2a3f5f\"},\"error_y\":{\"color\":\"#2a3f5f\"},\"marker\":{\"line\":{\"color\":\"#E5ECF6\",\"width\":0.5},\"pattern\":{\"fillmode\":\"overlay\",\"size\":10,\"solidity\":0.2}},\"type\":\"bar\"}],\"barpolar\":[{\"marker\":{\"line\":{\"color\":\"#E5ECF6\",\"width\":0.5},\"pattern\":{\"fillmode\":\"overlay\",\"size\":10,\"solidity\":0.2}},\"type\":\"barpolar\"}],\"carpet\":[{\"aaxis\":{\"endlinecolor\":\"#2a3f5f\",\"gridcolor\":\"white\",\"linecolor\":\"white\",\"minorgridcolor\":\"white\",\"startlinecolor\":\"#2a3f5f\"},\"baxis\":{\"endlinecolor\":\"#2a3f5f\",\"gridcolor\":\"white\",\"linecolor\":\"white\",\"minorgridcolor\":\"white\",\"startlinecolor\":\"#2a3f5f\"},\"type\":\"carpet\"}],\"choropleth\":[{\"colorbar\":{\"outlinewidth\":0,\"ticks\":\"\"},\"type\":\"choropleth\"}],\"contour\":[{\"colorbar\":{\"outlinewidth\":0,\"ticks\":\"\"},\"colorscale\":[[0.0,\"#0d0887\"],[0.1111111111111111,\"#46039f\"],[0.2222222222222222,\"#7201a8\"],[0.3333333333333333,\"#9c179e\"],[0.4444444444444444,\"#bd3786\"],[0.5555555555555556,\"#d8576b\"],[0.6666666666666666,\"#ed7953\"],[0.7777777777777778,\"#fb9f3a\"],[0.8888888888888888,\"#fdca26\"],[1.0,\"#f0f921\"]],\"type\":\"contour\"}],\"contourcarpet\":[{\"colorbar\":{\"outlinewidth\":0,\"ticks\":\"\"},\"type\":\"contourcarpet\"}],\"heatmap\":[{\"colorbar\":{\"outlinewidth\":0,\"ticks\":\"\"},\"colorscale\":[[0.0,\"#0d0887\"],[0.1111111111111111,\"#46039f\"],[0.2222222222222222,\"#7201a8\"],[0.3333333333333333,\"#9c179e\"],[0.4444444444444444,\"#bd3786\"],[0.5555555555555556,\"#d8576b\"],[0.6666666666666666,\"#ed7953\"],[0.7777777777777778,\"#fb9f3a\"],[0.8888888888888888,\"#fdca26\"],[1.0,\"#f0f921\"]],\"type\":\"heatmap\"}],\"heatmapgl\":[{\"colorbar\":{\"outlinewidth\":0,\"ticks\":\"\"},\"colorscale\":[[0.0,\"#0d0887\"],[0.1111111111111111,\"#46039f\"],[0.2222222222222222,\"#7201a8\"],[0.3333333333333333,\"#9c179e\"],[0.4444444444444444,\"#bd3786\"],[0.5555555555555556,\"#d8576b\"],[0.6666666666666666,\"#ed7953\"],[0.7777777777777778,\"#fb9f3a\"],[0.8888888888888888,\"#fdca26\"],[1.0,\"#f0f921\"]],\"type\":\"heatmapgl\"}],\"histogram\":[{\"marker\":{\"pattern\":{\"fillmode\":\"overlay\",\"size\":10,\"solidity\":0.2}},\"type\":\"histogram\"}],\"histogram2d\":[{\"colorbar\":{\"outlinewidth\":0,\"ticks\":\"\"},\"colorscale\":[[0.0,\"#0d0887\"],[0.1111111111111111,\"#46039f\"],[0.2222222222222222,\"#7201a8\"],[0.3333333333333333,\"#9c179e\"],[0.4444444444444444,\"#bd3786\"],[0.5555555555555556,\"#d8576b\"],[0.6666666666666666,\"#ed7953\"],[0.7777777777777778,\"#fb9f3a\"],[0.8888888888888888,\"#fdca26\"],[1.0,\"#f0f921\"]],\"type\":\"histogram2d\"}],\"histogram2dcontour\":[{\"colorbar\":{\"outlinewidth\":0,\"ticks\":\"\"},\"colorscale\":[[0.0,\"#0d0887\"],[0.1111111111111111,\"#46039f\"],[0.2222222222222222,\"#7201a8\"],[0.3333333333333333,\"#9c179e\"],[0.4444444444444444,\"#bd3786\"],[0.5555555555555556,\"#d8576b\"],[0.6666666666666666,\"#ed7953\"],[0.7777777777777778,\"#fb9f3a\"],[0.8888888888888888,\"#fdca26\"],[1.0,\"#f0f921\"]],\"type\":\"histogram2dcontour\"}],\"mesh3d\":[{\"colorbar\":{\"outlinewidth\":0,\"ticks\":\"\"},\"type\":\"mesh3d\"}],\"parcoords\":[{\"line\":{\"colorbar\":{\"outlinewidth\":0,\"ticks\":\"\"}},\"type\":\"parcoords\"}],\"pie\":[{\"automargin\":true,\"type\":\"pie\"}],\"scatter\":[{\"marker\":{\"colorbar\":{\"outlinewidth\":0,\"ticks\":\"\"}},\"type\":\"scatter\"}],\"scatter3d\":[{\"line\":{\"colorbar\":{\"outlinewidth\":0,\"ticks\":\"\"}},\"marker\":{\"colorbar\":{\"outlinewidth\":0,\"ticks\":\"\"}},\"type\":\"scatter3d\"}],\"scattercarpet\":[{\"marker\":{\"colorbar\":{\"outlinewidth\":0,\"ticks\":\"\"}},\"type\":\"scattercarpet\"}],\"scattergeo\":[{\"marker\":{\"colorbar\":{\"outlinewidth\":0,\"ticks\":\"\"}},\"type\":\"scattergeo\"}],\"scattergl\":[{\"marker\":{\"colorbar\":{\"outlinewidth\":0,\"ticks\":\"\"}},\"type\":\"scattergl\"}],\"scattermapbox\":[{\"marker\":{\"colorbar\":{\"outlinewidth\":0,\"ticks\":\"\"}},\"type\":\"scattermapbox\"}],\"scatterpolar\":[{\"marker\":{\"colorbar\":{\"outlinewidth\":0,\"ticks\":\"\"}},\"type\":\"scatterpolar\"}],\"scatterpolargl\":[{\"marker\":{\"colorbar\":{\"outlinewidth\":0,\"ticks\":\"\"}},\"type\":\"scatterpolargl\"}],\"scatterternary\":[{\"marker\":{\"colorbar\":{\"outlinewidth\":0,\"ticks\":\"\"}},\"type\":\"scatterternary\"}],\"surface\":[{\"colorbar\":{\"outlinewidth\":0,\"ticks\":\"\"},\"colorscale\":[[0.0,\"#0d0887\"],[0.1111111111111111,\"#46039f\"],[0.2222222222222222,\"#7201a8\"],[0.3333333333333333,\"#9c179e\"],[0.4444444444444444,\"#bd3786\"],[0.5555555555555556,\"#d8576b\"],[0.6666666666666666,\"#ed7953\"],[0.7777777777777778,\"#fb9f3a\"],[0.8888888888888888,\"#fdca26\"],[1.0,\"#f0f921\"]],\"type\":\"surface\"}],\"table\":[{\"cells\":{\"fill\":{\"color\":\"#EBF0F8\"},\"line\":{\"color\":\"white\"}},\"header\":{\"fill\":{\"color\":\"#C8D4E3\"},\"line\":{\"color\":\"white\"}},\"type\":\"table\"}]},\"layout\":{\"annotationdefaults\":{\"arrowcolor\":\"#2a3f5f\",\"arrowhead\":0,\"arrowwidth\":1},\"autotypenumbers\":\"strict\",\"coloraxis\":{\"colorbar\":{\"outlinewidth\":0,\"ticks\":\"\"}},\"colorscale\":{\"diverging\":[[0,\"#8e0152\"],[0.1,\"#c51b7d\"],[0.2,\"#de77ae\"],[0.3,\"#f1b6da\"],[0.4,\"#fde0ef\"],[0.5,\"#f7f7f7\"],[0.6,\"#e6f5d0\"],[0.7,\"#b8e186\"],[0.8,\"#7fbc41\"],[0.9,\"#4d9221\"],[1,\"#276419\"]],\"sequential\":[[0.0,\"#0d0887\"],[0.1111111111111111,\"#46039f\"],[0.2222222222222222,\"#7201a8\"],[0.3333333333333333,\"#9c179e\"],[0.4444444444444444,\"#bd3786\"],[0.5555555555555556,\"#d8576b\"],[0.6666666666666666,\"#ed7953\"],[0.7777777777777778,\"#fb9f3a\"],[0.8888888888888888,\"#fdca26\"],[1.0,\"#f0f921\"]],\"sequentialminus\":[[0.0,\"#0d0887\"],[0.1111111111111111,\"#46039f\"],[0.2222222222222222,\"#7201a8\"],[0.3333333333333333,\"#9c179e\"],[0.4444444444444444,\"#bd3786\"],[0.5555555555555556,\"#d8576b\"],[0.6666666666666666,\"#ed7953\"],[0.7777777777777778,\"#fb9f3a\"],[0.8888888888888888,\"#fdca26\"],[1.0,\"#f0f921\"]]},\"colorway\":[\"#636efa\",\"#EF553B\",\"#00cc96\",\"#ab63fa\",\"#FFA15A\",\"#19d3f3\",\"#FF6692\",\"#B6E880\",\"#FF97FF\",\"#FECB52\"],\"font\":{\"color\":\"#2a3f5f\"},\"geo\":{\"bgcolor\":\"white\",\"lakecolor\":\"white\",\"landcolor\":\"#E5ECF6\",\"showlakes\":true,\"showland\":true,\"subunitcolor\":\"white\"},\"hoverlabel\":{\"align\":\"left\"},\"hovermode\":\"closest\",\"mapbox\":{\"style\":\"light\"},\"paper_bgcolor\":\"white\",\"plot_bgcolor\":\"#E5ECF6\",\"polar\":{\"angularaxis\":{\"gridcolor\":\"white\",\"linecolor\":\"white\",\"ticks\":\"\"},\"bgcolor\":\"#E5ECF6\",\"radialaxis\":{\"gridcolor\":\"white\",\"linecolor\":\"white\",\"ticks\":\"\"}},\"scene\":{\"xaxis\":{\"backgroundcolor\":\"#E5ECF6\",\"gridcolor\":\"white\",\"gridwidth\":2,\"linecolor\":\"white\",\"showbackground\":true,\"ticks\":\"\",\"zerolinecolor\":\"white\"},\"yaxis\":{\"backgroundcolor\":\"#E5ECF6\",\"gridcolor\":\"white\",\"gridwidth\":2,\"linecolor\":\"white\",\"showbackground\":true,\"ticks\":\"\",\"zerolinecolor\":\"white\"},\"zaxis\":{\"backgroundcolor\":\"#E5ECF6\",\"gridcolor\":\"white\",\"gridwidth\":2,\"linecolor\":\"white\",\"showbackground\":true,\"ticks\":\"\",\"zerolinecolor\":\"white\"}},\"shapedefaults\":{\"line\":{\"color\":\"#2a3f5f\"}},\"ternary\":{\"aaxis\":{\"gridcolor\":\"white\",\"linecolor\":\"white\",\"ticks\":\"\"},\"baxis\":{\"gridcolor\":\"white\",\"linecolor\":\"white\",\"ticks\":\"\"},\"bgcolor\":\"#E5ECF6\",\"caxis\":{\"gridcolor\":\"white\",\"linecolor\":\"white\",\"ticks\":\"\"}},\"title\":{\"x\":0.05},\"xaxis\":{\"automargin\":true,\"gridcolor\":\"white\",\"linecolor\":\"white\",\"ticks\":\"\",\"title\":{\"standoff\":15},\"zerolinecolor\":\"white\",\"zerolinewidth\":2},\"yaxis\":{\"automargin\":true,\"gridcolor\":\"white\",\"linecolor\":\"white\",\"ticks\":\"\",\"title\":{\"standoff\":15},\"zerolinecolor\":\"white\",\"zerolinewidth\":2}}}},                        {\"responsive\": true}                    ).then(function(){\n",
       "                            \n",
       "var gd = document.getElementById('7fde720a-5ee7-442a-af18-a2acddd2458b');\n",
       "var x = new MutationObserver(function (mutations, observer) {{\n",
       "        var display = window.getComputedStyle(gd).display;\n",
       "        if (!display || display === 'none') {{\n",
       "            console.log([gd, 'removed!']);\n",
       "            Plotly.purge(gd);\n",
       "            observer.disconnect();\n",
       "        }}\n",
       "}});\n",
       "\n",
       "// Listen for the removal of the full notebook cells\n",
       "var notebookContainer = gd.closest('#notebook-container');\n",
       "if (notebookContainer) {{\n",
       "    x.observe(notebookContainer, {childList: true});\n",
       "}}\n",
       "\n",
       "// Listen for the clearing of the current output cell\n",
       "var outputEl = gd.closest('.output');\n",
       "if (outputEl) {{\n",
       "    x.observe(outputEl, {childList: true});\n",
       "}}\n",
       "\n",
       "                        })                };                });            </script>        </div>"
      ]
     },
     "metadata": {},
     "output_type": "display_data"
    }
   ],
   "source": [
    "px.parallel_coordinates(df_prophet, color=\"Active\",) "
   ]
  },
  {
   "cell_type": "code",
   "execution_count": 14,
   "id": "0e700450",
   "metadata": {
    "execution": {
     "iopub.execute_input": "2021-09-08T15:20:47.480387Z",
     "iopub.status.busy": "2021-09-08T15:20:47.479367Z",
     "iopub.status.idle": "2021-09-08T15:20:48.288953Z",
     "shell.execute_reply": "2021-09-08T15:20:48.289421Z",
     "shell.execute_reply.started": "2021-09-08T14:34:53.166158Z"
    },
    "papermill": {
     "duration": 0.845615,
     "end_time": "2021-09-08T15:20:48.289586",
     "exception": false,
     "start_time": "2021-09-08T15:20:47.443971",
     "status": "completed"
    },
    "tags": []
   },
   "outputs": [
    {
     "data": {
      "text/html": [
       "<div>                            <div id=\"541a20e5-65c6-4c42-bb7b-a1f764b1ee96\" class=\"plotly-graph-div\" style=\"height:525px; width:100%;\"></div>            <script type=\"text/javascript\">                require([\"plotly\"], function(Plotly) {                    window.PLOTLYENV=window.PLOTLYENV || {};                                    if (document.getElementById(\"541a20e5-65c6-4c42-bb7b-a1f764b1ee96\")) {                    Plotly.newPlot(                        \"541a20e5-65c6-4c42-bb7b-a1f764b1ee96\",                        [{\"alignmentgroup\":\"True\",\"bingroup\":\"x\",\"histfunc\":\"sum\",\"hovertemplate\":\"Active=510<br>Deaths=%{x}<br>sum of Recovered=%{y}<extra></extra>\",\"legendgroup\":\"510\",\"marker\":{\"color\":\"#636efa\",\"pattern\":{\"shape\":\"\"}},\"name\":\"510\",\"offsetgroup\":\"510\",\"orientation\":\"v\",\"showlegend\":true,\"type\":\"histogram\",\"x\":[17],\"xaxis\":\"x\",\"y\":[28],\"yaxis\":\"y\"},{\"alignmentgroup\":\"True\",\"bingroup\":\"x\",\"histfunc\":\"sum\",\"hovertemplate\":\"Active=606<br>Deaths=%{x}<br>sum of Recovered=%{y}<extra></extra>\",\"legendgroup\":\"606\",\"marker\":{\"color\":\"#EF553B\",\"pattern\":{\"shape\":\"\"}},\"name\":\"606\",\"offsetgroup\":\"606\",\"orientation\":\"v\",\"showlegend\":true,\"type\":\"histogram\",\"x\":[18],\"xaxis\":\"x\",\"y\":[30],\"yaxis\":\"y\"},{\"alignmentgroup\":\"True\",\"bingroup\":\"x\",\"histfunc\":\"sum\",\"hovertemplate\":\"Active=879<br>Deaths=%{x}<br>sum of Recovered=%{y}<extra></extra>\",\"legendgroup\":\"879\",\"marker\":{\"color\":\"#00cc96\",\"pattern\":{\"shape\":\"\"}},\"name\":\"879\",\"offsetgroup\":\"879\",\"orientation\":\"v\",\"showlegend\":true,\"type\":\"histogram\",\"x\":[26],\"xaxis\":\"x\",\"y\":[36],\"yaxis\":\"y\"},{\"alignmentgroup\":\"True\",\"bingroup\":\"x\",\"histfunc\":\"sum\",\"hovertemplate\":\"Active=1353<br>Deaths=%{x}<br>sum of Recovered=%{y}<extra></extra>\",\"legendgroup\":\"1353\",\"marker\":{\"color\":\"#ab63fa\",\"pattern\":{\"shape\":\"\"}},\"name\":\"1353\",\"offsetgroup\":\"1353\",\"orientation\":\"v\",\"showlegend\":true,\"type\":\"histogram\",\"x\":[42],\"xaxis\":\"x\",\"y\":[39],\"yaxis\":\"y\"},{\"alignmentgroup\":\"True\",\"bingroup\":\"x\",\"histfunc\":\"sum\",\"hovertemplate\":\"Active=2010<br>Deaths=%{x}<br>sum of Recovered=%{y}<extra></extra>\",\"legendgroup\":\"2010\",\"marker\":{\"color\":\"#FFA15A\",\"pattern\":{\"shape\":\"\"}},\"name\":\"2010\",\"offsetgroup\":\"2010\",\"orientation\":\"v\",\"showlegend\":true,\"type\":\"histogram\",\"x\":[56],\"xaxis\":\"x\",\"y\":[52],\"yaxis\":\"y\"},{\"alignmentgroup\":\"True\",\"bingroup\":\"x\",\"histfunc\":\"sum\",\"hovertemplate\":\"Active=2784<br>Deaths=%{x}<br>sum of Recovered=%{y}<extra></extra>\",\"legendgroup\":\"2784\",\"marker\":{\"color\":\"#19d3f3\",\"pattern\":{\"shape\":\"\"}},\"name\":\"2784\",\"offsetgroup\":\"2784\",\"orientation\":\"v\",\"showlegend\":true,\"type\":\"histogram\",\"x\":[82],\"xaxis\":\"x\",\"y\":[61],\"yaxis\":\"y\"},{\"alignmentgroup\":\"True\",\"bingroup\":\"x\",\"histfunc\":\"sum\",\"hovertemplate\":\"Active=5340<br>Deaths=%{x}<br>sum of Recovered=%{y}<extra></extra>\",\"legendgroup\":\"5340\",\"marker\":{\"color\":\"#FF6692\",\"pattern\":{\"shape\":\"\"}},\"name\":\"5340\",\"offsetgroup\":\"5340\",\"orientation\":\"v\",\"showlegend\":true,\"type\":\"histogram\",\"x\":[131],\"xaxis\":\"x\",\"y\":[107],\"yaxis\":\"y\"},{\"alignmentgroup\":\"True\",\"bingroup\":\"x\",\"histfunc\":\"sum\",\"hovertemplate\":\"Active=5908<br>Deaths=%{x}<br>sum of Recovered=%{y}<extra></extra>\",\"legendgroup\":\"5908\",\"marker\":{\"color\":\"#B6E880\",\"pattern\":{\"shape\":\"\"}},\"name\":\"5908\",\"offsetgroup\":\"5908\",\"orientation\":\"v\",\"showlegend\":true,\"type\":\"histogram\",\"x\":[133],\"xaxis\":\"x\",\"y\":[125],\"yaxis\":\"y\"},{\"alignmentgroup\":\"True\",\"bingroup\":\"x\",\"histfunc\":\"sum\",\"hovertemplate\":\"Active=7922<br>Deaths=%{x}<br>sum of Recovered=%{y}<extra></extra>\",\"legendgroup\":\"7922\",\"marker\":{\"color\":\"#FF97FF\",\"pattern\":{\"shape\":\"\"}},\"name\":\"7922\",\"offsetgroup\":\"7922\",\"orientation\":\"v\",\"showlegend\":true,\"type\":\"histogram\",\"x\":[171],\"xaxis\":\"x\",\"y\":[141],\"yaxis\":\"y\"},{\"alignmentgroup\":\"True\",\"bingroup\":\"x\",\"histfunc\":\"sum\",\"hovertemplate\":\"Active=9495<br>Deaths=%{x}<br>sum of Recovered=%{y}<extra></extra>\",\"legendgroup\":\"9495\",\"marker\":{\"color\":\"#FECB52\",\"pattern\":{\"shape\":\"\"}},\"name\":\"9495\",\"offsetgroup\":\"9495\",\"orientation\":\"v\",\"showlegend\":true,\"type\":\"histogram\",\"x\":[213],\"xaxis\":\"x\",\"y\":[219],\"yaxis\":\"y\"},{\"alignmentgroup\":\"True\",\"bingroup\":\"x\",\"histfunc\":\"sum\",\"hovertemplate\":\"Active=11498<br>Deaths=%{x}<br>sum of Recovered=%{y}<extra></extra>\",\"legendgroup\":\"11498\",\"marker\":{\"color\":\"#636efa\",\"pattern\":{\"shape\":\"\"}},\"name\":\"11498\",\"offsetgroup\":\"11498\",\"orientation\":\"v\",\"showlegend\":true,\"type\":\"histogram\",\"x\":[259],\"xaxis\":\"x\",\"y\":[281],\"yaxis\":\"y\"},{\"alignmentgroup\":\"True\",\"bingroup\":\"x\",\"histfunc\":\"sum\",\"hovertemplate\":\"Active=15966<br>Deaths=%{x}<br>sum of Recovered=%{y}<extra></extra>\",\"legendgroup\":\"15966\",\"marker\":{\"color\":\"#EF553B\",\"pattern\":{\"shape\":\"\"}},\"name\":\"15966\",\"offsetgroup\":\"15966\",\"orientation\":\"v\",\"showlegend\":true,\"type\":\"histogram\",\"x\":[362],\"xaxis\":\"x\",\"y\":[459],\"yaxis\":\"y\"},{\"alignmentgroup\":\"True\",\"bingroup\":\"x\",\"histfunc\":\"sum\",\"hovertemplate\":\"Active=18857<br>Deaths=%{x}<br>sum of Recovered=%{y}<extra></extra>\",\"legendgroup\":\"18857\",\"marker\":{\"color\":\"#00cc96\",\"pattern\":{\"shape\":\"\"}},\"name\":\"18857\",\"offsetgroup\":\"18857\",\"orientation\":\"v\",\"showlegend\":true,\"type\":\"histogram\",\"x\":[426],\"xaxis\":\"x\",\"y\":[604],\"yaxis\":\"y\"},{\"alignmentgroup\":\"True\",\"bingroup\":\"x\",\"histfunc\":\"sum\",\"hovertemplate\":\"Active=22585<br>Deaths=%{x}<br>sum of Recovered=%{y}<extra></extra>\",\"legendgroup\":\"22585\",\"marker\":{\"color\":\"#ab63fa\",\"pattern\":{\"shape\":\"\"}},\"name\":\"22585\",\"offsetgroup\":\"22585\",\"orientation\":\"v\",\"showlegend\":true,\"type\":\"histogram\",\"x\":[492],\"xaxis\":\"x\",\"y\":[821],\"yaxis\":\"y\"},{\"alignmentgroup\":\"True\",\"bingroup\":\"x\",\"histfunc\":\"sum\",\"hovertemplate\":\"Active=26008<br>Deaths=%{x}<br>sum of Recovered=%{y}<extra></extra>\",\"legendgroup\":\"26008\",\"marker\":{\"color\":\"#FFA15A\",\"pattern\":{\"shape\":\"\"}},\"name\":\"26008\",\"offsetgroup\":\"26008\",\"orientation\":\"v\",\"showlegend\":true,\"type\":\"histogram\",\"x\":[564],\"xaxis\":\"x\",\"y\":[1071],\"yaxis\":\"y\"},{\"alignmentgroup\":\"True\",\"bingroup\":\"x\",\"histfunc\":\"sum\",\"hovertemplate\":\"Active=28750<br>Deaths=%{x}<br>sum of Recovered=%{y}<extra></extra>\",\"legendgroup\":\"28750\",\"marker\":{\"color\":\"#19d3f3\",\"pattern\":{\"shape\":\"\"}},\"name\":\"28750\",\"offsetgroup\":\"28750\",\"orientation\":\"v\",\"showlegend\":true,\"type\":\"histogram\",\"x\":[634],\"xaxis\":\"x\",\"y\":[1418],\"yaxis\":\"y\"},{\"alignmentgroup\":\"True\",\"bingroup\":\"x\",\"histfunc\":\"sum\",\"hovertemplate\":\"Active=31712<br>Deaths=%{x}<br>sum of Recovered=%{y}<extra></extra>\",\"legendgroup\":\"31712\",\"marker\":{\"color\":\"#FF6692\",\"pattern\":{\"shape\":\"\"}},\"name\":\"31712\",\"offsetgroup\":\"31712\",\"orientation\":\"v\",\"showlegend\":true,\"type\":\"histogram\",\"x\":[719],\"xaxis\":\"x\",\"y\":[1903],\"yaxis\":\"y\"},{\"alignmentgroup\":\"True\",\"bingroup\":\"x\",\"histfunc\":\"sum\",\"hovertemplate\":\"Active=33792<br>Deaths=%{x}<br>sum of Recovered=%{y}<extra></extra>\",\"legendgroup\":\"33792\",\"marker\":{\"color\":\"#B6E880\",\"pattern\":{\"shape\":\"\"}},\"name\":\"33792\",\"offsetgroup\":\"33792\",\"orientation\":\"v\",\"showlegend\":true,\"type\":\"histogram\",\"x\":[806],\"xaxis\":\"x\",\"y\":[2470],\"yaxis\":\"y\"},{\"alignmentgroup\":\"True\",\"bingroup\":\"x\",\"histfunc\":\"sum\",\"hovertemplate\":\"Active=36132<br>Deaths=%{x}<br>sum of Recovered=%{y}<extra></extra>\",\"legendgroup\":\"36132\",\"marker\":{\"color\":\"#FF97FF\",\"pattern\":{\"shape\":\"\"}},\"name\":\"36132\",\"offsetgroup\":\"36132\",\"orientation\":\"v\",\"showlegend\":true,\"type\":\"histogram\",\"x\":[906],\"xaxis\":\"x\",\"y\":[3057],\"yaxis\":\"y\"},{\"alignmentgroup\":\"True\",\"bingroup\":\"x\",\"histfunc\":\"sum\",\"hovertemplate\":\"Active=37906<br>Deaths=%{x}<br>sum of Recovered=%{y}<extra></extra>\",\"legendgroup\":\"37906\",\"marker\":{\"color\":\"#FECB52\",\"pattern\":{\"shape\":\"\"}},\"name\":\"37906\",\"offsetgroup\":\"37906\",\"orientation\":\"v\",\"showlegend\":true,\"type\":\"histogram\",\"x\":[1013],\"xaxis\":\"x\",\"y\":[3714],\"yaxis\":\"y\"},{\"alignmentgroup\":\"True\",\"bingroup\":\"x\",\"histfunc\":\"sum\",\"hovertemplate\":\"Active=39145<br>Deaths=%{x}<br>sum of Recovered=%{y}<extra></extra>\",\"legendgroup\":\"39145\",\"marker\":{\"color\":\"#636efa\",\"pattern\":{\"shape\":\"\"}},\"name\":\"39145\",\"offsetgroup\":\"39145\",\"orientation\":\"v\",\"showlegend\":true,\"type\":\"histogram\",\"x\":[1113],\"xaxis\":\"x\",\"y\":[4417],\"yaxis\":\"y\"},{\"alignmentgroup\":\"True\",\"bingroup\":\"x\",\"histfunc\":\"sum\",\"hovertemplate\":\"Active=40594<br>Deaths=%{x}<br>sum of Recovered=%{y}<extra></extra>\",\"legendgroup\":\"40594\",\"marker\":{\"color\":\"#EF553B\",\"pattern\":{\"shape\":\"\"}},\"name\":\"40594\",\"offsetgroup\":\"40594\",\"orientation\":\"v\",\"showlegend\":true,\"type\":\"histogram\",\"x\":[1118],\"xaxis\":\"x\",\"y\":[4849],\"yaxis\":\"y\"},{\"alignmentgroup\":\"True\",\"bingroup\":\"x\",\"histfunc\":\"sum\",\"hovertemplate\":\"Active=52905<br>Deaths=%{x}<br>sum of Recovered=%{y}<extra></extra>\",\"legendgroup\":\"52905\",\"marker\":{\"color\":\"#00cc96\",\"pattern\":{\"shape\":\"\"}},\"name\":\"52905\",\"offsetgroup\":\"52905\",\"orientation\":\"v\",\"showlegend\":true,\"type\":\"histogram\",\"x\":[1371],\"xaxis\":\"x\",\"y\":[5930],\"yaxis\":\"y\"},{\"alignmentgroup\":\"True\",\"bingroup\":\"x\",\"histfunc\":\"sum\",\"hovertemplate\":\"Active=57554<br>Deaths=%{x}<br>sum of Recovered=%{y}<extra></extra>\",\"legendgroup\":\"57554\",\"marker\":{\"color\":\"#ab63fa\",\"pattern\":{\"shape\":\"\"}},\"name\":\"57554\",\"offsetgroup\":\"57554\",\"orientation\":\"v\",\"showlegend\":true,\"type\":\"histogram\",\"x\":[1523],\"xaxis\":\"x\",\"y\":[7613],\"yaxis\":\"y\"},{\"alignmentgroup\":\"True\",\"bingroup\":\"x\",\"histfunc\":\"sum\",\"hovertemplate\":\"Active=58197<br>Deaths=%{x}<br>sum of Recovered=%{y}<extra></extra>\",\"legendgroup\":\"58197\",\"marker\":{\"color\":\"#FFA15A\",\"pattern\":{\"shape\":\"\"}},\"name\":\"58197\",\"offsetgroup\":\"58197\",\"orientation\":\"v\",\"showlegend\":true,\"type\":\"histogram\",\"x\":[1666],\"xaxis\":\"x\",\"y\":[8902],\"yaxis\":\"y\"},{\"alignmentgroup\":\"True\",\"bingroup\":\"x\",\"histfunc\":\"sum\",\"hovertemplate\":\"Active=58790<br>Deaths=%{x}<br>sum of Recovered=%{y}<extra></extra>\",\"legendgroup\":\"58790\",\"marker\":{\"color\":\"#19d3f3\",\"pattern\":{\"shape\":\"\"}},\"name\":\"58790\",\"offsetgroup\":\"58790\",\"orientation\":\"v\",\"showlegend\":true,\"type\":\"histogram\",\"x\":[1770],\"xaxis\":\"x\",\"y\":[10319],\"yaxis\":\"y\"},{\"alignmentgroup\":\"True\",\"bingroup\":\"x\",\"histfunc\":\"sum\",\"hovertemplate\":\"Active=58996<br>Deaths=%{x}<br>sum of Recovered=%{y}<extra></extra>\",\"legendgroup\":\"58996\",\"marker\":{\"color\":\"#FF6692\",\"pattern\":{\"shape\":\"\"}},\"name\":\"58996\",\"offsetgroup\":\"58996\",\"orientation\":\"v\",\"showlegend\":true,\"type\":\"histogram\",\"x\":[1868],\"xaxis\":\"x\",\"y\":[11951],\"yaxis\":\"y\"},{\"alignmentgroup\":\"True\",\"bingroup\":\"x\",\"histfunc\":\"sum\",\"hovertemplate\":\"Active=58908<br>Deaths=%{x}<br>sum of Recovered=%{y}<extra></extra>\",\"legendgroup\":\"58908\",\"marker\":{\"color\":\"#B6E880\",\"pattern\":{\"shape\":\"\"}},\"name\":\"58908\",\"offsetgroup\":\"58908\",\"orientation\":\"v\",\"showlegend\":true,\"type\":\"histogram\",\"x\":[2008],\"xaxis\":\"x\",\"y\":[13693],\"yaxis\":\"y\"},{\"alignmentgroup\":\"True\",\"bingroup\":\"x\",\"histfunc\":\"sum\",\"hovertemplate\":\"Active=57513<br>Deaths=%{x}<br>sum of Recovered=%{y}<extra></extra>\",\"legendgroup\":\"57513\",\"marker\":{\"color\":\"#FF97FF\",\"pattern\":{\"shape\":\"\"}},\"name\":\"57513\",\"offsetgroup\":\"57513\",\"orientation\":\"v\",\"showlegend\":true,\"type\":\"histogram\",\"x\":[2123],\"xaxis\":\"x\",\"y\":[15394],\"yaxis\":\"y\"},{\"alignmentgroup\":\"True\",\"bingroup\":\"x\",\"histfunc\":\"sum\",\"hovertemplate\":\"Active=55962<br>Deaths=%{x}<br>sum of Recovered=%{y}<extra></extra>\",\"legendgroup\":\"55962\",\"marker\":{\"color\":\"#FECB52\",\"pattern\":{\"shape\":\"\"}},\"name\":\"55962\",\"offsetgroup\":\"55962\",\"orientation\":\"v\",\"showlegend\":true,\"type\":\"histogram\",\"x\":[2246],\"xaxis\":\"x\",\"y\":[17369],\"yaxis\":\"y\"},{\"alignmentgroup\":\"True\",\"bingroup\":\"x\",\"histfunc\":\"sum\",\"hovertemplate\":\"Active=55990<br>Deaths=%{x}<br>sum of Recovered=%{y}<extra></extra>\",\"legendgroup\":\"55990\",\"marker\":{\"color\":\"#636efa\",\"pattern\":{\"shape\":\"\"}},\"name\":\"55990\",\"offsetgroup\":\"55990\",\"orientation\":\"v\",\"showlegend\":true,\"type\":\"histogram\",\"x\":[2250],\"xaxis\":\"x\",\"y\":[17966],\"yaxis\":\"y\"},{\"alignmentgroup\":\"True\",\"bingroup\":\"x\",\"histfunc\":\"sum\",\"hovertemplate\":\"Active=53661<br>Deaths=%{x}<br>sum of Recovered=%{y}<extra></extra>\",\"legendgroup\":\"53661\",\"marker\":{\"color\":\"#EF553B\",\"pattern\":{\"shape\":\"\"}},\"name\":\"53661\",\"offsetgroup\":\"53661\",\"orientation\":\"v\",\"showlegend\":true,\"type\":\"histogram\",\"x\":[2457],\"xaxis\":\"x\",\"y\":[21849],\"yaxis\":\"y\"},{\"alignmentgroup\":\"True\",\"bingroup\":\"x\",\"histfunc\":\"sum\",\"hovertemplate\":\"Active=53519<br>Deaths=%{x}<br>sum of Recovered=%{y}<extra></extra>\",\"legendgroup\":\"53519\",\"marker\":{\"color\":\"#00cc96\",\"pattern\":{\"shape\":\"\"}},\"name\":\"53519\",\"offsetgroup\":\"53519\",\"orientation\":\"v\",\"showlegend\":true,\"type\":\"histogram\",\"x\":[2467],\"xaxis\":\"x\",\"y\":[22304],\"yaxis\":\"y\"},{\"alignmentgroup\":\"True\",\"bingroup\":\"x\",\"histfunc\":\"sum\",\"hovertemplate\":\"Active=52180<br>Deaths=%{x}<br>sum of Recovered=%{y}<extra></extra>\",\"legendgroup\":\"52180\",\"marker\":{\"color\":\"#ab63fa\",\"pattern\":{\"shape\":\"\"}},\"name\":\"52180\",\"offsetgroup\":\"52180\",\"orientation\":\"v\",\"showlegend\":true,\"type\":\"histogram\",\"x\":[2627],\"xaxis\":\"x\",\"y\":[24047],\"yaxis\":\"y\"},{\"alignmentgroup\":\"True\",\"bingroup\":\"x\",\"histfunc\":\"sum\",\"hovertemplate\":\"Active=50348<br>Deaths=%{x}<br>sum of Recovered=%{y}<extra></extra>\",\"legendgroup\":\"50348\",\"marker\":{\"color\":\"#FFA15A\",\"pattern\":{\"shape\":\"\"}},\"name\":\"50348\",\"offsetgroup\":\"50348\",\"orientation\":\"v\",\"showlegend\":true,\"type\":\"histogram\",\"x\":[2707],\"xaxis\":\"x\",\"y\":[26652],\"yaxis\":\"y\"},{\"alignmentgroup\":\"True\",\"bingroup\":\"x\",\"histfunc\":\"sum\",\"hovertemplate\":\"Active=48826<br>Deaths=%{x}<br>sum of Recovered=%{y}<extra></extra>\",\"legendgroup\":\"48826\",\"marker\":{\"color\":\"#19d3f3\",\"pattern\":{\"shape\":\"\"}},\"name\":\"48826\",\"offsetgroup\":\"48826\",\"orientation\":\"v\",\"showlegend\":true,\"type\":\"histogram\",\"x\":[2767],\"xaxis\":\"x\",\"y\":[29077],\"yaxis\":\"y\"},{\"alignmentgroup\":\"True\",\"bingroup\":\"x\",\"histfunc\":\"sum\",\"hovertemplate\":\"Active=47305<br>Deaths=%{x}<br>sum of Recovered=%{y}<extra></extra>\",\"legendgroup\":\"47305\",\"marker\":{\"color\":\"#FF6692\",\"pattern\":{\"shape\":\"\"}},\"name\":\"47305\",\"offsetgroup\":\"47305\",\"orientation\":\"v\",\"showlegend\":true,\"type\":\"histogram\",\"x\":[2810],\"xaxis\":\"x\",\"y\":[31919],\"yaxis\":\"y\"},{\"alignmentgroup\":\"True\",\"bingroup\":\"x\",\"histfunc\":\"sum\",\"hovertemplate\":\"Active=45238<br>Deaths=%{x}<br>sum of Recovered=%{y}<extra></extra>\",\"legendgroup\":\"45238\",\"marker\":{\"color\":\"#B6E880\",\"pattern\":{\"shape\":\"\"}},\"name\":\"45238\",\"offsetgroup\":\"45238\",\"orientation\":\"v\",\"showlegend\":true,\"type\":\"histogram\",\"x\":[2867],\"xaxis\":\"x\",\"y\":[35306],\"yaxis\":\"y\"},{\"alignmentgroup\":\"True\",\"bingroup\":\"x\",\"histfunc\":\"sum\",\"hovertemplate\":\"Active=44056<br>Deaths=%{x}<br>sum of Recovered=%{y}<extra></extra>\",\"legendgroup\":\"44056\",\"marker\":{\"color\":\"#FF97FF\",\"pattern\":{\"shape\":\"\"}},\"name\":\"44056\",\"offsetgroup\":\"44056\",\"orientation\":\"v\",\"showlegend\":true,\"type\":\"histogram\",\"x\":[2936],\"xaxis\":\"x\",\"y\":[38314],\"yaxis\":\"y\"},{\"alignmentgroup\":\"True\",\"bingroup\":\"x\",\"histfunc\":\"sum\",\"hovertemplate\":\"Active=43492<br>Deaths=%{x}<br>sum of Recovered=%{y}<extra></extra>\",\"legendgroup\":\"43492\",\"marker\":{\"color\":\"#FECB52\",\"pattern\":{\"shape\":\"\"}},\"name\":\"43492\",\"offsetgroup\":\"43492\",\"orientation\":\"v\",\"showlegend\":true,\"type\":\"histogram\",\"x\":[2990],\"xaxis\":\"x\",\"y\":[41208],\"yaxis\":\"y\"},{\"alignmentgroup\":\"True\",\"bingroup\":\"x\",\"histfunc\":\"sum\",\"hovertemplate\":\"Active=42500<br>Deaths=%{x}<br>sum of Recovered=%{y}<extra></extra>\",\"legendgroup\":\"42500\",\"marker\":{\"color\":\"#636efa\",\"pattern\":{\"shape\":\"\"}},\"name\":\"42500\",\"offsetgroup\":\"42500\",\"orientation\":\"v\",\"showlegend\":true,\"type\":\"histogram\",\"x\":[3079],\"xaxis\":\"x\",\"y\":[44085],\"yaxis\":\"y\"},{\"alignmentgroup\":\"True\",\"bingroup\":\"x\",\"histfunc\":\"sum\",\"hovertemplate\":\"Active=42406<br>Deaths=%{x}<br>sum of Recovered=%{y}<extra></extra>\",\"legendgroup\":\"42406\",\"marker\":{\"color\":\"#EF553B\",\"pattern\":{\"shape\":\"\"}},\"name\":\"42406\",\"offsetgroup\":\"42406\",\"orientation\":\"v\",\"showlegend\":true,\"type\":\"histogram\",\"x\":[3154],\"xaxis\":\"x\",\"y\":[46681],\"yaxis\":\"y\"},{\"alignmentgroup\":\"True\",\"bingroup\":\"x\",\"histfunc\":\"sum\",\"hovertemplate\":\"Active=41672<br>Deaths=%{x}<br>sum of Recovered=%{y}<extra></extra>\",\"legendgroup\":\"41672\",\"marker\":{\"color\":\"#00cc96\",\"pattern\":{\"shape\":\"\"}},\"name\":\"41672\",\"offsetgroup\":\"41672\",\"orientation\":\"v\",\"showlegend\":true,\"type\":\"histogram\",\"x\":[3249],\"xaxis\":\"x\",\"y\":[49619],\"yaxis\":\"y\"},{\"alignmentgroup\":\"True\",\"bingroup\":\"x\",\"histfunc\":\"sum\",\"hovertemplate\":\"Active=41752<br>Deaths=%{x}<br>sum of Recovered=%{y}<extra></extra>\",\"legendgroup\":\"41752\",\"marker\":{\"color\":\"#ab63fa\",\"pattern\":{\"shape\":\"\"}},\"name\":\"41752\",\"offsetgroup\":\"41752\",\"orientation\":\"v\",\"showlegend\":true,\"type\":\"histogram\",\"x\":[3342],\"xaxis\":\"x\",\"y\":[52237],\"yaxis\":\"y\"},{\"alignmentgroup\":\"True\",\"bingroup\":\"x\",\"histfunc\":\"sum\",\"hovertemplate\":\"Active=43550<br>Deaths=%{x}<br>sum of Recovered=%{y}<extra></extra>\",\"legendgroup\":\"43550\",\"marker\":{\"color\":\"#FFA15A\",\"pattern\":{\"shape\":\"\"}},\"name\":\"43550\",\"offsetgroup\":\"43550\",\"orientation\":\"v\",\"showlegend\":true,\"type\":\"histogram\",\"x\":[3454],\"xaxis\":\"x\",\"y\":[54270],\"yaxis\":\"y\"},{\"alignmentgroup\":\"True\",\"bingroup\":\"x\",\"histfunc\":\"sum\",\"hovertemplate\":\"Active=44999<br>Deaths=%{x}<br>sum of Recovered=%{y}<extra></extra>\",\"legendgroup\":\"44999\",\"marker\":{\"color\":\"#19d3f3\",\"pattern\":{\"shape\":\"\"}},\"name\":\"44999\",\"offsetgroup\":\"44999\",\"orientation\":\"v\",\"showlegend\":true,\"type\":\"histogram\",\"x\":[3553],\"xaxis\":\"x\",\"y\":[56760],\"yaxis\":\"y\"},{\"alignmentgroup\":\"True\",\"bingroup\":\"x\",\"histfunc\":\"sum\",\"hovertemplate\":\"Active=46377<br>Deaths=%{x}<br>sum of Recovered=%{y}<extra></extra>\",\"legendgroup\":\"46377\",\"marker\":{\"color\":\"#FF6692\",\"pattern\":{\"shape\":\"\"}},\"name\":\"46377\",\"offsetgroup\":\"46377\",\"orientation\":\"v\",\"showlegend\":true,\"type\":\"histogram\",\"x\":[3797],\"xaxis\":\"x\",\"y\":[59092],\"yaxis\":\"y\"},{\"alignmentgroup\":\"True\",\"bingroup\":\"x\",\"histfunc\":\"sum\",\"hovertemplate\":\"Active=48294<br>Deaths=%{x}<br>sum of Recovered=%{y}<extra></extra>\",\"legendgroup\":\"48294\",\"marker\":{\"color\":\"#B6E880\",\"pattern\":{\"shape\":\"\"}},\"name\":\"48294\",\"offsetgroup\":\"48294\",\"orientation\":\"v\",\"showlegend\":true,\"type\":\"histogram\",\"x\":[3981],\"xaxis\":\"x\",\"y\":[60891],\"yaxis\":\"y\"},{\"alignmentgroup\":\"True\",\"bingroup\":\"x\",\"histfunc\":\"sum\",\"hovertemplate\":\"Active=51128<br>Deaths=%{x}<br>sum of Recovered=%{y}<extra></extra>\",\"legendgroup\":\"51128\",\"marker\":{\"color\":\"#FF97FF\",\"pattern\":{\"shape\":\"\"}},\"name\":\"51128\",\"offsetgroup\":\"51128\",\"orientation\":\"v\",\"showlegend\":true,\"type\":\"histogram\",\"x\":[4260],\"xaxis\":\"x\",\"y\":[62802],\"yaxis\":\"y\"},{\"alignmentgroup\":\"True\",\"bingroup\":\"x\",\"histfunc\":\"sum\",\"hovertemplate\":\"Active=56136<br>Deaths=%{x}<br>sum of Recovered=%{y}<extra></extra>\",\"legendgroup\":\"56136\",\"marker\":{\"color\":\"#FECB52\",\"pattern\":{\"shape\":\"\"}},\"name\":\"56136\",\"offsetgroup\":\"56136\",\"orientation\":\"v\",\"showlegend\":true,\"type\":\"histogram\",\"x\":[4604],\"xaxis\":\"x\",\"y\":[65113],\"yaxis\":\"y\"},{\"alignmentgroup\":\"True\",\"bingroup\":\"x\",\"histfunc\":\"sum\",\"hovertemplate\":\"Active=60260<br>Deaths=%{x}<br>sum of Recovered=%{y}<extra></extra>\",\"legendgroup\":\"60260\",\"marker\":{\"color\":\"#636efa\",\"pattern\":{\"shape\":\"\"}},\"name\":\"60260\",\"offsetgroup\":\"60260\",\"orientation\":\"v\",\"showlegend\":true,\"type\":\"histogram\",\"x\":[4909],\"xaxis\":\"x\",\"y\":[66434],\"yaxis\":\"y\"},{\"alignmentgroup\":\"True\",\"bingroup\":\"x\",\"histfunc\":\"sum\",\"hovertemplate\":\"Active=72243<br>Deaths=%{x}<br>sum of Recovered=%{y}<extra></extra>\",\"legendgroup\":\"72243\",\"marker\":{\"color\":\"#EF553B\",\"pattern\":{\"shape\":\"\"}},\"name\":\"72243\",\"offsetgroup\":\"72243\",\"orientation\":\"v\",\"showlegend\":true,\"type\":\"histogram\",\"x\":[5406],\"xaxis\":\"x\",\"y\":[68359],\"yaxis\":\"y\"},{\"alignmentgroup\":\"True\",\"bingroup\":\"x\",\"histfunc\":\"sum\",\"hovertemplate\":\"Active=80562<br>Deaths=%{x}<br>sum of Recovered=%{y}<extra></extra>\",\"legendgroup\":\"80562\",\"marker\":{\"color\":\"#00cc96\",\"pattern\":{\"shape\":\"\"}},\"name\":\"80562\",\"offsetgroup\":\"80562\",\"orientation\":\"v\",\"showlegend\":true,\"type\":\"histogram\",\"x\":[5823],\"xaxis\":\"x\",\"y\":[70729],\"yaxis\":\"y\"},{\"alignmentgroup\":\"True\",\"bingroup\":\"x\",\"histfunc\":\"sum\",\"hovertemplate\":\"Active=87657<br>Deaths=%{x}<br>sum of Recovered=%{y}<extra></extra>\",\"legendgroup\":\"87657\",\"marker\":{\"color\":\"#ab63fa\",\"pattern\":{\"shape\":\"\"}},\"name\":\"87657\",\"offsetgroup\":\"87657\",\"orientation\":\"v\",\"showlegend\":true,\"type\":\"histogram\",\"x\":[6464],\"xaxis\":\"x\",\"y\":[74139],\"yaxis\":\"y\"},{\"alignmentgroup\":\"True\",\"bingroup\":\"x\",\"histfunc\":\"sum\",\"hovertemplate\":\"Active=99583<br>Deaths=%{x}<br>sum of Recovered=%{y}<extra></extra>\",\"legendgroup\":\"99583\",\"marker\":{\"color\":\"#FFA15A\",\"pattern\":{\"shape\":\"\"}},\"name\":\"99583\",\"offsetgroup\":\"99583\",\"orientation\":\"v\",\"showlegend\":true,\"type\":\"histogram\",\"x\":[7144],\"xaxis\":\"x\",\"y\":[76192],\"yaxis\":\"y\"},{\"alignmentgroup\":\"True\",\"bingroup\":\"x\",\"histfunc\":\"sum\",\"hovertemplate\":\"Active=111865<br>Deaths=%{x}<br>sum of Recovered=%{y}<extra></extra>\",\"legendgroup\":\"111865\",\"marker\":{\"color\":\"#19d3f3\",\"pattern\":{\"shape\":\"\"}},\"name\":\"111865\",\"offsetgroup\":\"111865\",\"orientation\":\"v\",\"showlegend\":true,\"type\":\"histogram\",\"x\":[7948],\"xaxis\":\"x\",\"y\":[78944],\"yaxis\":\"y\"},{\"alignmentgroup\":\"True\",\"bingroup\":\"x\",\"histfunc\":\"sum\",\"hovertemplate\":\"Active=128071<br>Deaths=%{x}<br>sum of Recovered=%{y}<extra></extra>\",\"legendgroup\":\"128071\",\"marker\":{\"color\":\"#FF6692\",\"pattern\":{\"shape\":\"\"}},\"name\":\"128071\",\"offsetgroup\":\"128071\",\"orientation\":\"v\",\"showlegend\":true,\"type\":\"histogram\",\"x\":[8845],\"xaxis\":\"x\",\"y\":[81427],\"yaxis\":\"y\"},{\"alignmentgroup\":\"True\",\"bingroup\":\"x\",\"histfunc\":\"sum\",\"hovertemplate\":\"Active=153246<br>Deaths=%{x}<br>sum of Recovered=%{y}<extra></extra>\",\"legendgroup\":\"153246\",\"marker\":{\"color\":\"#B6E880\",\"pattern\":{\"shape\":\"\"}},\"name\":\"153246\",\"offsetgroup\":\"153246\",\"orientation\":\"v\",\"showlegend\":true,\"type\":\"histogram\",\"x\":[9951],\"xaxis\":\"x\",\"y\":[83064],\"yaxis\":\"y\"},{\"alignmentgroup\":\"True\",\"bingroup\":\"x\",\"histfunc\":\"sum\",\"hovertemplate\":\"Active=178931<br>Deaths=%{x}<br>sum of Recovered=%{y}<extra></extra>\",\"legendgroup\":\"178931\",\"marker\":{\"color\":\"#FF97FF\",\"pattern\":{\"shape\":\"\"}},\"name\":\"178931\",\"offsetgroup\":\"178931\",\"orientation\":\"v\",\"showlegend\":true,\"type\":\"histogram\",\"x\":[11429],\"xaxis\":\"x\",\"y\":[85509],\"yaxis\":\"y\"},{\"alignmentgroup\":\"True\",\"bingroup\":\"x\",\"histfunc\":\"sum\",\"hovertemplate\":\"Active=205266<br>Deaths=%{x}<br>sum of Recovered=%{y}<extra></extra>\",\"legendgroup\":\"205266\",\"marker\":{\"color\":\"#FECB52\",\"pattern\":{\"shape\":\"\"}},\"name\":\"205266\",\"offsetgroup\":\"205266\",\"orientation\":\"v\",\"showlegend\":true,\"type\":\"histogram\",\"x\":[13134],\"xaxis\":\"x\",\"y\":[89775],\"yaxis\":\"y\"},{\"alignmentgroup\":\"True\",\"bingroup\":\"x\",\"histfunc\":\"sum\",\"hovertemplate\":\"Active=230764<br>Deaths=%{x}<br>sum of Recovered=%{y}<extra></extra>\",\"legendgroup\":\"230764\",\"marker\":{\"color\":\"#636efa\",\"pattern\":{\"shape\":\"\"}},\"name\":\"230764\",\"offsetgroup\":\"230764\",\"orientation\":\"v\",\"showlegend\":true,\"type\":\"histogram\",\"x\":[14831],\"xaxis\":\"x\",\"y\":[95990],\"yaxis\":\"y\"},{\"alignmentgroup\":\"True\",\"bingroup\":\"x\",\"histfunc\":\"sum\",\"hovertemplate\":\"Active=270546<br>Deaths=%{x}<br>sum of Recovered=%{y}<extra></extra>\",\"legendgroup\":\"270546\",\"marker\":{\"color\":\"#EF553B\",\"pattern\":{\"shape\":\"\"}},\"name\":\"270546\",\"offsetgroup\":\"270546\",\"orientation\":\"v\",\"showlegend\":true,\"type\":\"histogram\",\"x\":[16748],\"xaxis\":\"x\",\"y\":[96456],\"yaxis\":\"y\"},{\"alignmentgroup\":\"True\",\"bingroup\":\"x\",\"histfunc\":\"sum\",\"hovertemplate\":\"Active=299876<br>Deaths=%{x}<br>sum of Recovered=%{y}<extra></extra>\",\"legendgroup\":\"299876\",\"marker\":{\"color\":\"#00cc96\",\"pattern\":{\"shape\":\"\"}},\"name\":\"299876\",\"offsetgroup\":\"299876\",\"orientation\":\"v\",\"showlegend\":true,\"type\":\"histogram\",\"x\":[19016],\"xaxis\":\"x\",\"y\":[105997],\"yaxis\":\"y\"},{\"alignmentgroup\":\"True\",\"bingroup\":\"x\",\"histfunc\":\"sum\",\"hovertemplate\":\"Active=342468<br>Deaths=%{x}<br>sum of Recovered=%{y}<extra></extra>\",\"legendgroup\":\"342468\",\"marker\":{\"color\":\"#ab63fa\",\"pattern\":{\"shape\":\"\"}},\"name\":\"342468\",\"offsetgroup\":\"342468\",\"orientation\":\"v\",\"showlegend\":true,\"type\":\"histogram\",\"x\":[21793],\"xaxis\":\"x\",\"y\":[111445],\"yaxis\":\"y\"},{\"alignmentgroup\":\"True\",\"bingroup\":\"x\",\"histfunc\":\"sum\",\"hovertemplate\":\"Active=394062<br>Deaths=%{x}<br>sum of Recovered=%{y}<extra></extra>\",\"legendgroup\":\"394062\",\"marker\":{\"color\":\"#FFA15A\",\"pattern\":{\"shape\":\"\"}},\"name\":\"394062\",\"offsetgroup\":\"394062\",\"orientation\":\"v\",\"showlegend\":true,\"type\":\"histogram\",\"x\":[24800],\"xaxis\":\"x\",\"y\":[119804],\"yaxis\":\"y\"},{\"alignmentgroup\":\"True\",\"bingroup\":\"x\",\"histfunc\":\"sum\",\"hovertemplate\":\"Active=446240<br>Deaths=%{x}<br>sum of Recovered=%{y}<extra></extra>\",\"legendgroup\":\"446240\",\"marker\":{\"color\":\"#19d3f3\",\"pattern\":{\"shape\":\"\"}},\"name\":\"446240\",\"offsetgroup\":\"446240\",\"orientation\":\"v\",\"showlegend\":true,\"type\":\"histogram\",\"x\":[28318],\"xaxis\":\"x\",\"y\":[128508],\"yaxis\":\"y\"},{\"alignmentgroup\":\"True\",\"bingroup\":\"x\",\"histfunc\":\"sum\",\"hovertemplate\":\"Active=501926<br>Deaths=%{x}<br>sum of Recovered=%{y}<extra></extra>\",\"legendgroup\":\"501926\",\"marker\":{\"color\":\"#FF6692\",\"pattern\":{\"shape\":\"\"}},\"name\":\"501926\",\"offsetgroup\":\"501926\",\"orientation\":\"v\",\"showlegend\":true,\"type\":\"histogram\",\"x\":[31997],\"xaxis\":\"x\",\"y\":[136800],\"yaxis\":\"y\"},{\"alignmentgroup\":\"True\",\"bingroup\":\"x\",\"histfunc\":\"sum\",\"hovertemplate\":\"Active=548569<br>Deaths=%{x}<br>sum of Recovered=%{y}<extra></extra>\",\"legendgroup\":\"548569\",\"marker\":{\"color\":\"#B6E880\",\"pattern\":{\"shape\":\"\"}},\"name\":\"548569\",\"offsetgroup\":\"548569\",\"orientation\":\"v\",\"showlegend\":true,\"type\":\"histogram\",\"x\":[35470],\"xaxis\":\"x\",\"y\":[146261],\"yaxis\":\"y\"},{\"alignmentgroup\":\"True\",\"bingroup\":\"x\",\"histfunc\":\"sum\",\"hovertemplate\":\"Active=593598<br>Deaths=%{x}<br>sum of Recovered=%{y}<extra></extra>\",\"legendgroup\":\"593598\",\"marker\":{\"color\":\"#FF97FF\",\"pattern\":{\"shape\":\"\"}},\"name\":\"593598\",\"offsetgroup\":\"593598\",\"orientation\":\"v\",\"showlegend\":true,\"type\":\"histogram\",\"x\":[39634],\"xaxis\":\"x\",\"y\":[161707],\"yaxis\":\"y\"},{\"alignmentgroup\":\"True\",\"bingroup\":\"x\",\"histfunc\":\"sum\",\"hovertemplate\":\"Active=652803<br>Deaths=%{x}<br>sum of Recovered=%{y}<extra></extra>\",\"legendgroup\":\"652803\",\"marker\":{\"color\":\"#FECB52\",\"pattern\":{\"shape\":\"\"}},\"name\":\"652803\",\"offsetgroup\":\"652803\",\"orientation\":\"v\",\"showlegend\":true,\"type\":\"histogram\",\"x\":[44478],\"xaxis\":\"x\",\"y\":[174074],\"yaxis\":\"y\"},{\"alignmentgroup\":\"True\",\"bingroup\":\"x\",\"histfunc\":\"sum\",\"hovertemplate\":\"Active=708106<br>Deaths=%{x}<br>sum of Recovered=%{y}<extra></extra>\",\"legendgroup\":\"708106\",\"marker\":{\"color\":\"#636efa\",\"pattern\":{\"shape\":\"\"}},\"name\":\"708106\",\"offsetgroup\":\"708106\",\"orientation\":\"v\",\"showlegend\":true,\"type\":\"histogram\",\"x\":[50029],\"xaxis\":\"x\",\"y\":[189434],\"yaxis\":\"y\"},{\"alignmentgroup\":\"True\",\"bingroup\":\"x\",\"histfunc\":\"sum\",\"hovertemplate\":\"Active=766582<br>Deaths=%{x}<br>sum of Recovered=%{y}<extra></extra>\",\"legendgroup\":\"766582\",\"marker\":{\"color\":\"#EF553B\",\"pattern\":{\"shape\":\"\"}},\"name\":\"766582\",\"offsetgroup\":\"766582\",\"orientation\":\"v\",\"showlegend\":true,\"type\":\"histogram\",\"x\":[56334],\"xaxis\":\"x\",\"y\":[206052],\"yaxis\":\"y\"},{\"alignmentgroup\":\"True\",\"bingroup\":\"x\",\"histfunc\":\"sum\",\"hovertemplate\":\"Active=828744<br>Deaths=%{x}<br>sum of Recovered=%{y}<extra></extra>\",\"legendgroup\":\"828744\",\"marker\":{\"color\":\"#00cc96\",\"pattern\":{\"shape\":\"\"}},\"name\":\"828744\",\"offsetgroup\":\"828744\",\"orientation\":\"v\",\"showlegend\":true,\"type\":\"histogram\",\"x\":[62319],\"xaxis\":\"x\",\"y\":[221060],\"yaxis\":\"y\"},{\"alignmentgroup\":\"True\",\"bingroup\":\"x\",\"histfunc\":\"sum\",\"hovertemplate\":\"Active=883354<br>Deaths=%{x}<br>sum of Recovered=%{y}<extra></extra>\",\"legendgroup\":\"883354\",\"marker\":{\"color\":\"#ab63fa\",\"pattern\":{\"shape\":\"\"}},\"name\":\"883354\",\"offsetgroup\":\"883354\",\"orientation\":\"v\",\"showlegend\":true,\"type\":\"histogram\",\"x\":[68160],\"xaxis\":\"x\",\"y\":[241072],\"yaxis\":\"y\"},{\"alignmentgroup\":\"True\",\"bingroup\":\"x\",\"histfunc\":\"sum\",\"hovertemplate\":\"Active=936646<br>Deaths=%{x}<br>sum of Recovered=%{y}<extra></extra>\",\"legendgroup\":\"936646\",\"marker\":{\"color\":\"#FFA15A\",\"pattern\":{\"shape\":\"\"}},\"name\":\"936646\",\"offsetgroup\":\"936646\",\"orientation\":\"v\",\"showlegend\":true,\"type\":\"histogram\",\"x\":[73181],\"xaxis\":\"x\",\"y\":[254477],\"yaxis\":\"y\"},{\"alignmentgroup\":\"True\",\"bingroup\":\"x\",\"histfunc\":\"sum\",\"hovertemplate\":\"Active=987151<br>Deaths=%{x}<br>sum of Recovered=%{y}<extra></extra>\",\"legendgroup\":\"987151\",\"marker\":{\"color\":\"#19d3f3\",\"pattern\":{\"shape\":\"\"}},\"name\":\"987151\",\"offsetgroup\":\"987151\",\"orientation\":\"v\",\"showlegend\":true,\"type\":\"histogram\",\"x\":[79013],\"xaxis\":\"x\",\"y\":[270812],\"yaxis\":\"y\"},{\"alignmentgroup\":\"True\",\"bingroup\":\"x\",\"histfunc\":\"sum\",\"hovertemplate\":\"Active=1033269<br>Deaths=%{x}<br>sum of Recovered=%{y}<extra></extra>\",\"legendgroup\":\"1033269\",\"marker\":{\"color\":\"#FF6692\",\"pattern\":{\"shape\":\"\"}},\"name\":\"1033269\",\"offsetgroup\":\"1033269\",\"orientation\":\"v\",\"showlegend\":true,\"type\":\"histogram\",\"x\":[86915],\"xaxis\":\"x\",\"y\":[293665],\"yaxis\":\"y\"},{\"alignmentgroup\":\"True\",\"bingroup\":\"x\",\"histfunc\":\"sum\",\"hovertemplate\":\"Active=1081957<br>Deaths=%{x}<br>sum of Recovered=%{y}<extra></extra>\",\"legendgroup\":\"1081957\",\"marker\":{\"color\":\"#B6E880\",\"pattern\":{\"shape\":\"\"}},\"name\":\"1081957\",\"offsetgroup\":\"1081957\",\"orientation\":\"v\",\"showlegend\":true,\"type\":\"histogram\",\"x\":[93650],\"xaxis\":\"x\",\"y\":[322017],\"yaxis\":\"y\"},{\"alignmentgroup\":\"True\",\"bingroup\":\"x\",\"histfunc\":\"sum\",\"hovertemplate\":\"Active=1136621<br>Deaths=%{x}<br>sum of Recovered=%{y}<extra></extra>\",\"legendgroup\":\"1136621\",\"marker\":{\"color\":\"#FF97FF\",\"pattern\":{\"shape\":\"\"}},\"name\":\"1136621\",\"offsetgroup\":\"1136621\",\"orientation\":\"v\",\"showlegend\":true,\"type\":\"histogram\",\"x\":[101279],\"xaxis\":\"x\",\"y\":[346349],\"yaxis\":\"y\"},{\"alignmentgroup\":\"True\",\"bingroup\":\"x\",\"histfunc\":\"sum\",\"hovertemplate\":\"Active=1195879<br>Deaths=%{x}<br>sum of Recovered=%{y}<extra></extra>\",\"legendgroup\":\"1195879\",\"marker\":{\"color\":\"#FECB52\",\"pattern\":{\"shape\":\"\"}},\"name\":\"1195879\",\"offsetgroup\":\"1195879\",\"orientation\":\"v\",\"showlegend\":true,\"type\":\"histogram\",\"x\":[108551],\"xaxis\":\"x\",\"y\":[367477],\"yaxis\":\"y\"},{\"alignmentgroup\":\"True\",\"bingroup\":\"x\",\"histfunc\":\"sum\",\"hovertemplate\":\"Active=1241261<br>Deaths=%{x}<br>sum of Recovered=%{y}<extra></extra>\",\"legendgroup\":\"1241261\",\"marker\":{\"color\":\"#636efa\",\"pattern\":{\"shape\":\"\"}},\"name\":\"1241261\",\"offsetgroup\":\"1241261\",\"orientation\":\"v\",\"showlegend\":true,\"type\":\"histogram\",\"x\":[114620],\"xaxis\":\"x\",\"y\":[392991],\"yaxis\":\"y\"},{\"alignmentgroup\":\"True\",\"bingroup\":\"x\",\"histfunc\":\"sum\",\"hovertemplate\":\"Active=1313438<br>Deaths=%{x}<br>sum of Recovered=%{y}<extra></extra>\",\"legendgroup\":\"1313438\",\"marker\":{\"color\":\"#EF553B\",\"pattern\":{\"shape\":\"\"}},\"name\":\"1313438\",\"offsetgroup\":\"1313438\",\"orientation\":\"v\",\"showlegend\":true,\"type\":\"histogram\",\"x\":[120351],\"xaxis\":\"x\",\"y\":[411864],\"yaxis\":\"y\"},{\"alignmentgroup\":\"True\",\"bingroup\":\"x\",\"histfunc\":\"sum\",\"hovertemplate\":\"Active=1350754<br>Deaths=%{x}<br>sum of Recovered=%{y}<extra></extra>\",\"legendgroup\":\"1350754\",\"marker\":{\"color\":\"#00cc96\",\"pattern\":{\"shape\":\"\"}},\"name\":\"1350754\",\"offsetgroup\":\"1350754\",\"orientation\":\"v\",\"showlegend\":true,\"type\":\"histogram\",\"x\":[126098],\"xaxis\":\"x\",\"y\":[438395],\"yaxis\":\"y\"},{\"alignmentgroup\":\"True\",\"bingroup\":\"x\",\"histfunc\":\"sum\",\"hovertemplate\":\"Active=1389164<br>Deaths=%{x}<br>sum of Recovered=%{y}<extra></extra>\",\"legendgroup\":\"1389164\",\"marker\":{\"color\":\"#ab63fa\",\"pattern\":{\"shape\":\"\"}},\"name\":\"1389164\",\"offsetgroup\":\"1389164\",\"orientation\":\"v\",\"showlegend\":true,\"type\":\"histogram\",\"x\":[132996],\"xaxis\":\"x\",\"y\":[463014],\"yaxis\":\"y\"},{\"alignmentgroup\":\"True\",\"bingroup\":\"x\",\"histfunc\":\"sum\",\"hovertemplate\":\"Active=1425770<br>Deaths=%{x}<br>sum of Recovered=%{y}<extra></extra>\",\"legendgroup\":\"1425770\",\"marker\":{\"color\":\"#FFA15A\",\"pattern\":{\"shape\":\"\"}},\"name\":\"1425770\",\"offsetgroup\":\"1425770\",\"orientation\":\"v\",\"showlegend\":true,\"type\":\"histogram\",\"x\":[141308],\"xaxis\":\"x\",\"y\":[498925],\"yaxis\":\"y\"},{\"alignmentgroup\":\"True\",\"bingroup\":\"x\",\"histfunc\":\"sum\",\"hovertemplate\":\"Active=1485109<br>Deaths=%{x}<br>sum of Recovered=%{y}<extra></extra>\",\"legendgroup\":\"1485109\",\"marker\":{\"color\":\"#19d3f3\",\"pattern\":{\"shape\":\"\"}},\"name\":\"1485109\",\"offsetgroup\":\"1485109\",\"orientation\":\"v\",\"showlegend\":true,\"type\":\"histogram\",\"x\":[148591],\"xaxis\":\"x\",\"y\":[529015],\"yaxis\":\"y\"},{\"alignmentgroup\":\"True\",\"bingroup\":\"x\",\"histfunc\":\"sum\",\"hovertemplate\":\"Active=1538671<br>Deaths=%{x}<br>sum of Recovered=%{y}<extra></extra>\",\"legendgroup\":\"1538671\",\"marker\":{\"color\":\"#FF6692\",\"pattern\":{\"shape\":\"\"}},\"name\":\"1538671\",\"offsetgroup\":\"1538671\",\"orientation\":\"v\",\"showlegend\":true,\"type\":\"histogram\",\"x\":[157481],\"xaxis\":\"x\",\"y\":[554287],\"yaxis\":\"y\"},{\"alignmentgroup\":\"True\",\"bingroup\":\"x\",\"histfunc\":\"sum\",\"hovertemplate\":\"Active=1582655<br>Deaths=%{x}<br>sum of Recovered=%{y}<extra></extra>\",\"legendgroup\":\"1582655\",\"marker\":{\"color\":\"#B6E880\",\"pattern\":{\"shape\":\"\"}},\"name\":\"1582655\",\"offsetgroup\":\"1582655\",\"orientation\":\"v\",\"showlegend\":true,\"type\":\"histogram\",\"x\":[163952],\"xaxis\":\"x\",\"y\":[577789],\"yaxis\":\"y\"},{\"alignmentgroup\":\"True\",\"bingroup\":\"x\",\"histfunc\":\"sum\",\"hovertemplate\":\"Active=1627840<br>Deaths=%{x}<br>sum of Recovered=%{y}<extra></extra>\",\"legendgroup\":\"1627840\",\"marker\":{\"color\":\"#FF97FF\",\"pattern\":{\"shape\":\"\"}},\"name\":\"1627840\",\"offsetgroup\":\"1627840\",\"orientation\":\"v\",\"showlegend\":true,\"type\":\"histogram\",\"x\":[168522],\"xaxis\":\"x\",\"y\":[608557],\"yaxis\":\"y\"},{\"alignmentgroup\":\"True\",\"bingroup\":\"x\",\"histfunc\":\"sum\",\"hovertemplate\":\"Active=1674431<br>Deaths=%{x}<br>sum of Recovered=%{y}<extra></extra>\",\"legendgroup\":\"1674431\",\"marker\":{\"color\":\"#FECB52\",\"pattern\":{\"shape\":\"\"}},\"name\":\"1674431\",\"offsetgroup\":\"1674431\",\"orientation\":\"v\",\"showlegend\":true,\"type\":\"histogram\",\"x\":[173965],\"xaxis\":\"x\",\"y\":[629862],\"yaxis\":\"y\"},{\"alignmentgroup\":\"True\",\"bingroup\":\"x\",\"histfunc\":\"sum\",\"hovertemplate\":\"Active=1708343<br>Deaths=%{x}<br>sum of Recovered=%{y}<extra></extra>\",\"legendgroup\":\"1708343\",\"marker\":{\"color\":\"#636efa\",\"pattern\":{\"shape\":\"\"}},\"name\":\"1708343\",\"offsetgroup\":\"1708343\",\"orientation\":\"v\",\"showlegend\":true,\"type\":\"histogram\",\"x\":[181122],\"xaxis\":\"x\",\"y\":[664043],\"yaxis\":\"y\"},{\"alignmentgroup\":\"True\",\"bingroup\":\"x\",\"histfunc\":\"sum\",\"hovertemplate\":\"Active=1749230<br>Deaths=%{x}<br>sum of Recovered=%{y}<extra></extra>\",\"legendgroup\":\"1749230\",\"marker\":{\"color\":\"#EF553B\",\"pattern\":{\"shape\":\"\"}},\"name\":\"1749230\",\"offsetgroup\":\"1749230\",\"orientation\":\"v\",\"showlegend\":true,\"type\":\"histogram\",\"x\":[187877],\"xaxis\":\"x\",\"y\":[693207],\"yaxis\":\"y\"},{\"alignmentgroup\":\"True\",\"bingroup\":\"x\",\"histfunc\":\"sum\",\"hovertemplate\":\"Active=1802911<br>Deaths=%{x}<br>sum of Recovered=%{y}<extra></extra>\",\"legendgroup\":\"1802911\",\"marker\":{\"color\":\"#00cc96\",\"pattern\":{\"shape\":\"\"}},\"name\":\"1802911\",\"offsetgroup\":\"1802911\",\"orientation\":\"v\",\"showlegend\":true,\"type\":\"histogram\",\"x\":[194727],\"xaxis\":\"x\",\"y\":[721689],\"yaxis\":\"y\"},{\"alignmentgroup\":\"True\",\"bingroup\":\"x\",\"histfunc\":\"sum\",\"hovertemplate\":\"Active=1833537<br>Deaths=%{x}<br>sum of Recovered=%{y}<extra></extra>\",\"legendgroup\":\"1833537\",\"marker\":{\"color\":\"#ab63fa\",\"pattern\":{\"shape\":\"\"}},\"name\":\"1833537\",\"offsetgroup\":\"1833537\",\"orientation\":\"v\",\"showlegend\":true,\"type\":\"histogram\",\"x\":[201401],\"xaxis\":\"x\",\"y\":[771329],\"yaxis\":\"y\"},{\"alignmentgroup\":\"True\",\"bingroup\":\"x\",\"histfunc\":\"sum\",\"hovertemplate\":\"Active=1885981<br>Deaths=%{x}<br>sum of Recovered=%{y}<extra></extra>\",\"legendgroup\":\"1885981\",\"marker\":{\"color\":\"#FFA15A\",\"pattern\":{\"shape\":\"\"}},\"name\":\"1885981\",\"offsetgroup\":\"1885981\",\"orientation\":\"v\",\"showlegend\":true,\"type\":\"histogram\",\"x\":[206979],\"xaxis\":\"x\",\"y\":[798239],\"yaxis\":\"y\"},{\"alignmentgroup\":\"True\",\"bingroup\":\"x\",\"histfunc\":\"sum\",\"hovertemplate\":\"Active=1927315<br>Deaths=%{x}<br>sum of Recovered=%{y}<extra></extra>\",\"legendgroup\":\"1927315\",\"marker\":{\"color\":\"#19d3f3\",\"pattern\":{\"shape\":\"\"}},\"name\":\"1927315\",\"offsetgroup\":\"1927315\",\"orientation\":\"v\",\"showlegend\":true,\"type\":\"histogram\",\"x\":[210862],\"xaxis\":\"x\",\"y\":[825969],\"yaxis\":\"y\"},{\"alignmentgroup\":\"True\",\"bingroup\":\"x\",\"histfunc\":\"sum\",\"hovertemplate\":\"Active=1964957<br>Deaths=%{x}<br>sum of Recovered=%{y}<extra></extra>\",\"legendgroup\":\"1964957\",\"marker\":{\"color\":\"#FF6692\",\"pattern\":{\"shape\":\"\"}},\"name\":\"1964957\",\"offsetgroup\":\"1964957\",\"orientation\":\"v\",\"showlegend\":true,\"type\":\"histogram\",\"x\":[215511],\"xaxis\":\"x\",\"y\":[852382],\"yaxis\":\"y\"},{\"alignmentgroup\":\"True\",\"bingroup\":\"x\",\"histfunc\":\"sum\",\"hovertemplate\":\"Active=2001495<br>Deaths=%{x}<br>sum of Recovered=%{y}<extra></extra>\",\"legendgroup\":\"2001495\",\"marker\":{\"color\":\"#B6E880\",\"pattern\":{\"shape\":\"\"}},\"name\":\"2001495\",\"offsetgroup\":\"2001495\",\"orientation\":\"v\",\"showlegend\":true,\"type\":\"histogram\",\"x\":[221974],\"xaxis\":\"x\",\"y\":[884680],\"yaxis\":\"y\"},{\"alignmentgroup\":\"True\",\"bingroup\":\"x\",\"histfunc\":\"sum\",\"hovertemplate\":\"Active=2030701<br>Deaths=%{x}<br>sum of Recovered=%{y}<extra></extra>\",\"legendgroup\":\"2030701\",\"marker\":{\"color\":\"#FF97FF\",\"pattern\":{\"shape\":\"\"}},\"name\":\"2030701\",\"offsetgroup\":\"2030701\",\"orientation\":\"v\",\"showlegend\":true,\"type\":\"histogram\",\"x\":[228742],\"xaxis\":\"x\",\"y\":[925752],\"yaxis\":\"y\"},{\"alignmentgroup\":\"True\",\"bingroup\":\"x\",\"histfunc\":\"sum\",\"hovertemplate\":\"Active=2044556<br>Deaths=%{x}<br>sum of Recovered=%{y}<extra></extra>\",\"legendgroup\":\"2044556\",\"marker\":{\"color\":\"#FECB52\",\"pattern\":{\"shape\":\"\"}},\"name\":\"2044556\",\"offsetgroup\":\"2044556\",\"orientation\":\"v\",\"showlegend\":true,\"type\":\"histogram\",\"x\":[234704],\"xaxis\":\"x\",\"y\":[989616],\"yaxis\":\"y\"},{\"alignmentgroup\":\"True\",\"bingroup\":\"x\",\"histfunc\":\"sum\",\"hovertemplate\":\"Active=2089540<br>Deaths=%{x}<br>sum of Recovered=%{y}<extra></extra>\",\"legendgroup\":\"2089540\",\"marker\":{\"color\":\"#636efa\",\"pattern\":{\"shape\":\"\"}},\"name\":\"2089540\",\"offsetgroup\":\"2089540\",\"orientation\":\"v\",\"showlegend\":true,\"type\":\"histogram\",\"x\":[239881],\"xaxis\":\"x\",\"y\":[1026501],\"yaxis\":\"y\"},{\"alignmentgroup\":\"True\",\"bingroup\":\"x\",\"histfunc\":\"sum\",\"hovertemplate\":\"Active=2126040<br>Deaths=%{x}<br>sum of Recovered=%{y}<extra></extra>\",\"legendgroup\":\"2126040\",\"marker\":{\"color\":\"#EF553B\",\"pattern\":{\"shape\":\"\"}},\"name\":\"2126040\",\"offsetgroup\":\"2126040\",\"orientation\":\"v\",\"showlegend\":true,\"type\":\"histogram\",\"x\":[245206],\"xaxis\":\"x\",\"y\":[1066362],\"yaxis\":\"y\"},{\"alignmentgroup\":\"True\",\"bingroup\":\"x\",\"histfunc\":\"sum\",\"hovertemplate\":\"Active=2169008<br>Deaths=%{x}<br>sum of Recovered=%{y}<extra></extra>\",\"legendgroup\":\"2169008\",\"marker\":{\"color\":\"#00cc96\",\"pattern\":{\"shape\":\"\"}},\"name\":\"2169008\",\"offsetgroup\":\"2169008\",\"orientation\":\"v\",\"showlegend\":true,\"type\":\"histogram\",\"x\":[248659],\"xaxis\":\"x\",\"y\":[1097577],\"yaxis\":\"y\"},{\"alignmentgroup\":\"True\",\"bingroup\":\"x\",\"histfunc\":\"sum\",\"hovertemplate\":\"Active=2208008<br>Deaths=%{x}<br>sum of Recovered=%{y}<extra></extra>\",\"legendgroup\":\"2208008\",\"marker\":{\"color\":\"#ab63fa\",\"pattern\":{\"shape\":\"\"}},\"name\":\"2208008\",\"offsetgroup\":\"2208008\",\"orientation\":\"v\",\"showlegend\":true,\"type\":\"histogram\",\"x\":[252787],\"xaxis\":\"x\",\"y\":[1130526],\"yaxis\":\"y\"},{\"alignmentgroup\":\"True\",\"bingroup\":\"x\",\"histfunc\":\"sum\",\"hovertemplate\":\"Active=2246497<br>Deaths=%{x}<br>sum of Recovered=%{y}<extra></extra>\",\"legendgroup\":\"2246497\",\"marker\":{\"color\":\"#FFA15A\",\"pattern\":{\"shape\":\"\"}},\"name\":\"2246497\",\"offsetgroup\":\"2246497\",\"orientation\":\"v\",\"showlegend\":true,\"type\":\"histogram\",\"x\":[258658],\"xaxis\":\"x\",\"y\":[1166155],\"yaxis\":\"y\"},{\"alignmentgroup\":\"True\",\"bingroup\":\"x\",\"histfunc\":\"sum\",\"hovertemplate\":\"Active=2285111<br>Deaths=%{x}<br>sum of Recovered=%{y}<extra></extra>\",\"legendgroup\":\"2285111\",\"marker\":{\"color\":\"#19d3f3\",\"pattern\":{\"shape\":\"\"}},\"name\":\"2285111\",\"offsetgroup\":\"2285111\",\"orientation\":\"v\",\"showlegend\":true,\"type\":\"histogram\",\"x\":[265327],\"xaxis\":\"x\",\"y\":[1210894],\"yaxis\":\"y\"},{\"alignmentgroup\":\"True\",\"bingroup\":\"x\",\"histfunc\":\"sum\",\"hovertemplate\":\"Active=2330371<br>Deaths=%{x}<br>sum of Recovered=%{y}<extra></extra>\",\"legendgroup\":\"2330371\",\"marker\":{\"color\":\"#FF6692\",\"pattern\":{\"shape\":\"\"}},\"name\":\"2330371\",\"offsetgroup\":\"2330371\",\"orientation\":\"v\",\"showlegend\":true,\"type\":\"histogram\",\"x\":[270736],\"xaxis\":\"x\",\"y\":[1249311],\"yaxis\":\"y\"},{\"alignmentgroup\":\"True\",\"bingroup\":\"x\",\"histfunc\":\"sum\",\"hovertemplate\":\"Active=2380782<br>Deaths=%{x}<br>sum of Recovered=%{y}<extra></extra>\",\"legendgroup\":\"2380782\",\"marker\":{\"color\":\"#B6E880\",\"pattern\":{\"shape\":\"\"}},\"name\":\"2380782\",\"offsetgroup\":\"2380782\",\"orientation\":\"v\",\"showlegend\":true,\"type\":\"histogram\",\"x\":[276304],\"xaxis\":\"x\",\"y\":[1284849],\"yaxis\":\"y\"},{\"alignmentgroup\":\"True\",\"bingroup\":\"x\",\"histfunc\":\"sum\",\"hovertemplate\":\"Active=2409845<br>Deaths=%{x}<br>sum of Recovered=%{y}<extra></extra>\",\"legendgroup\":\"2409845\",\"marker\":{\"color\":\"#FF97FF\",\"pattern\":{\"shape\":\"\"}},\"name\":\"2409845\",\"offsetgroup\":\"2409845\",\"orientation\":\"v\",\"showlegend\":true,\"type\":\"histogram\",\"x\":[280569],\"xaxis\":\"x\",\"y\":[1337367],\"yaxis\":\"y\"},{\"alignmentgroup\":\"True\",\"bingroup\":\"x\",\"histfunc\":\"sum\",\"hovertemplate\":\"Active=2449784<br>Deaths=%{x}<br>sum of Recovered=%{y}<extra></extra>\",\"legendgroup\":\"2449784\",\"marker\":{\"color\":\"#FECB52\",\"pattern\":{\"shape\":\"\"}},\"name\":\"2449784\",\"offsetgroup\":\"2449784\",\"orientation\":\"v\",\"showlegend\":true,\"type\":\"histogram\",\"x\":[284135],\"xaxis\":\"x\",\"y\":[1370108],\"yaxis\":\"y\"},{\"alignmentgroup\":\"True\",\"bingroup\":\"x\",\"histfunc\":\"sum\",\"hovertemplate\":\"Active=2476456<br>Deaths=%{x}<br>sum of Recovered=%{y}<extra></extra>\",\"legendgroup\":\"2476456\",\"marker\":{\"color\":\"#636efa\",\"pattern\":{\"shape\":\"\"}},\"name\":\"2476456\",\"offsetgroup\":\"2476456\",\"orientation\":\"v\",\"showlegend\":true,\"type\":\"histogram\",\"x\":[287608],\"xaxis\":\"x\",\"y\":[1416204],\"yaxis\":\"y\"},{\"alignmentgroup\":\"True\",\"bingroup\":\"x\",\"histfunc\":\"sum\",\"hovertemplate\":\"Active=2518521<br>Deaths=%{x}<br>sum of Recovered=%{y}<extra></extra>\",\"legendgroup\":\"2518521\",\"marker\":{\"color\":\"#EF553B\",\"pattern\":{\"shape\":\"\"}},\"name\":\"2518521\",\"offsetgroup\":\"2518521\",\"orientation\":\"v\",\"showlegend\":true,\"type\":\"histogram\",\"x\":[293155],\"xaxis\":\"x\",\"y\":[1452191],\"yaxis\":\"y\"},{\"alignmentgroup\":\"True\",\"bingroup\":\"x\",\"histfunc\":\"sum\",\"hovertemplate\":\"Active=2543331<br>Deaths=%{x}<br>sum of Recovered=%{y}<extra></extra>\",\"legendgroup\":\"2543331\",\"marker\":{\"color\":\"#00cc96\",\"pattern\":{\"shape\":\"\"}},\"name\":\"2543331\",\"offsetgroup\":\"2543331\",\"orientation\":\"v\",\"showlegend\":true,\"type\":\"histogram\",\"x\":[298383],\"xaxis\":\"x\",\"y\":[1506905],\"yaxis\":\"y\"},{\"alignmentgroup\":\"True\",\"bingroup\":\"x\",\"histfunc\":\"sum\",\"hovertemplate\":\"Active=2596361<br>Deaths=%{x}<br>sum of Recovered=%{y}<extra></extra>\",\"legendgroup\":\"2596361\",\"marker\":{\"color\":\"#ab63fa\",\"pattern\":{\"shape\":\"\"}},\"name\":\"2596361\",\"offsetgroup\":\"2596361\",\"orientation\":\"v\",\"showlegend\":true,\"type\":\"histogram\",\"x\":[303651],\"xaxis\":\"x\",\"y\":[1545712],\"yaxis\":\"y\"},{\"alignmentgroup\":\"True\",\"bingroup\":\"x\",\"histfunc\":\"sum\",\"hovertemplate\":\"Active=2640327<br>Deaths=%{x}<br>sum of Recovered=%{y}<extra></extra>\",\"legendgroup\":\"2640327\",\"marker\":{\"color\":\"#FFA15A\",\"pattern\":{\"shape\":\"\"}},\"name\":\"2640327\",\"offsetgroup\":\"2640327\",\"orientation\":\"v\",\"showlegend\":true,\"type\":\"histogram\",\"x\":[308866],\"xaxis\":\"x\",\"y\":[1592880],\"yaxis\":\"y\"},{\"alignmentgroup\":\"True\",\"bingroup\":\"x\",\"histfunc\":\"sum\",\"hovertemplate\":\"Active=2675902<br>Deaths=%{x}<br>sum of Recovered=%{y}<extra></extra>\",\"legendgroup\":\"2675902\",\"marker\":{\"color\":\"#19d3f3\",\"pattern\":{\"shape\":\"\"}},\"name\":\"2675902\",\"offsetgroup\":\"2675902\",\"orientation\":\"v\",\"showlegend\":true,\"type\":\"histogram\",\"x\":[313037],\"xaxis\":\"x\",\"y\":[1648546],\"yaxis\":\"y\"},{\"alignmentgroup\":\"True\",\"bingroup\":\"x\",\"histfunc\":\"sum\",\"hovertemplate\":\"Active=2710929<br>Deaths=%{x}<br>sum of Recovered=%{y}<extra></extra>\",\"legendgroup\":\"2710929\",\"marker\":{\"color\":\"#FF6692\",\"pattern\":{\"shape\":\"\"}},\"name\":\"2710929\",\"offsetgroup\":\"2710929\",\"orientation\":\"v\",\"showlegend\":true,\"type\":\"histogram\",\"x\":[316366],\"xaxis\":\"x\",\"y\":[1688699],\"yaxis\":\"y\"},{\"alignmentgroup\":\"True\",\"bingroup\":\"x\",\"histfunc\":\"sum\",\"hovertemplate\":\"Active=2743712<br>Deaths=%{x}<br>sum of Recovered=%{y}<extra></extra>\",\"legendgroup\":\"2743712\",\"marker\":{\"color\":\"#B6E880\",\"pattern\":{\"shape\":\"\"}},\"name\":\"2743712\",\"offsetgroup\":\"2743712\",\"orientation\":\"v\",\"showlegend\":true,\"type\":\"histogram\",\"x\":[319657],\"xaxis\":\"x\",\"y\":[1740909],\"yaxis\":\"y\"},{\"alignmentgroup\":\"True\",\"bingroup\":\"x\",\"histfunc\":\"sum\",\"hovertemplate\":\"Active=2784005<br>Deaths=%{x}<br>sum of Recovered=%{y}<extra></extra>\",\"legendgroup\":\"2784005\",\"marker\":{\"color\":\"#FF97FF\",\"pattern\":{\"shape\":\"\"}},\"name\":\"2784005\",\"offsetgroup\":\"2784005\",\"orientation\":\"v\",\"showlegend\":true,\"type\":\"histogram\",\"x\":[324441],\"xaxis\":\"x\",\"y\":[1792256],\"yaxis\":\"y\"},{\"alignmentgroup\":\"True\",\"bingroup\":\"x\",\"histfunc\":\"sum\",\"hovertemplate\":\"Active=2823963<br>Deaths=%{x}<br>sum of Recovered=%{y}<extra></extra>\",\"legendgroup\":\"2823963\",\"marker\":{\"color\":\"#FECB52\",\"pattern\":{\"shape\":\"\"}},\"name\":\"2823963\",\"offsetgroup\":\"2823963\",\"orientation\":\"v\",\"showlegend\":true,\"type\":\"histogram\",\"x\":[329326],\"xaxis\":\"x\",\"y\":[1850441],\"yaxis\":\"y\"},{\"alignmentgroup\":\"True\",\"bingroup\":\"x\",\"histfunc\":\"sum\",\"hovertemplate\":\"Active=2875184<br>Deaths=%{x}<br>sum of Recovered=%{y}<extra></extra>\",\"legendgroup\":\"2875184\",\"marker\":{\"color\":\"#636efa\",\"pattern\":{\"shape\":\"\"}},\"name\":\"2875184\",\"offsetgroup\":\"2875184\",\"orientation\":\"v\",\"showlegend\":true,\"type\":\"histogram\",\"x\":[334112],\"xaxis\":\"x\",\"y\":[1900768],\"yaxis\":\"y\"},{\"alignmentgroup\":\"True\",\"bingroup\":\"x\",\"histfunc\":\"sum\",\"hovertemplate\":\"Active=2869027<br>Deaths=%{x}<br>sum of Recovered=%{y}<extra></extra>\",\"legendgroup\":\"2869027\",\"marker\":{\"color\":\"#EF553B\",\"pattern\":{\"shape\":\"\"}},\"name\":\"2869027\",\"offsetgroup\":\"2869027\",\"orientation\":\"v\",\"showlegend\":true,\"type\":\"histogram\",\"x\":[339396],\"xaxis\":\"x\",\"y\":[2008541],\"yaxis\":\"y\"},{\"alignmentgroup\":\"True\",\"bingroup\":\"x\",\"histfunc\":\"sum\",\"hovertemplate\":\"Active=2916066<br>Deaths=%{x}<br>sum of Recovered=%{y}<extra></extra>\",\"legendgroup\":\"2916066\",\"marker\":{\"color\":\"#00cc96\",\"pattern\":{\"shape\":\"\"}},\"name\":\"2916066\",\"offsetgroup\":\"2916066\",\"orientation\":\"v\",\"showlegend\":true,\"type\":\"histogram\",\"x\":[343385],\"xaxis\":\"x\",\"y\":[2062802],\"yaxis\":\"y\"},{\"alignmentgroup\":\"True\",\"bingroup\":\"x\",\"histfunc\":\"sum\",\"hovertemplate\":\"Active=2953499<br>Deaths=%{x}<br>sum of Recovered=%{y}<extra></extra>\",\"legendgroup\":\"2953499\",\"marker\":{\"color\":\"#ab63fa\",\"pattern\":{\"shape\":\"\"}},\"name\":\"2953499\",\"offsetgroup\":\"2953499\",\"orientation\":\"v\",\"showlegend\":true,\"type\":\"histogram\",\"x\":[346525],\"xaxis\":\"x\",\"y\":[2117555],\"yaxis\":\"y\"},{\"alignmentgroup\":\"True\",\"bingroup\":\"x\",\"histfunc\":\"sum\",\"hovertemplate\":\"Active=2976234<br>Deaths=%{x}<br>sum of Recovered=%{y}<extra></extra>\",\"legendgroup\":\"2976234\",\"marker\":{\"color\":\"#FFA15A\",\"pattern\":{\"shape\":\"\"}},\"name\":\"2976234\",\"offsetgroup\":\"2976234\",\"orientation\":\"v\",\"showlegend\":true,\"type\":\"histogram\",\"x\":[347703],\"xaxis\":\"x\",\"y\":[2180605],\"yaxis\":\"y\"},{\"alignmentgroup\":\"True\",\"bingroup\":\"x\",\"histfunc\":\"sum\",\"hovertemplate\":\"Active=3010040<br>Deaths=%{x}<br>sum of Recovered=%{y}<extra></extra>\",\"legendgroup\":\"3010040\",\"marker\":{\"color\":\"#19d3f3\",\"pattern\":{\"shape\":\"\"}},\"name\":\"3010040\",\"offsetgroup\":\"3010040\",\"orientation\":\"v\",\"showlegend\":true,\"type\":\"histogram\",\"x\":[351906],\"xaxis\":\"x\",\"y\":[2235118],\"yaxis\":\"y\"},{\"alignmentgroup\":\"True\",\"bingroup\":\"x\",\"histfunc\":\"sum\",\"hovertemplate\":\"Active=3044932<br>Deaths=%{x}<br>sum of Recovered=%{y}<extra></extra>\",\"legendgroup\":\"3044932\",\"marker\":{\"color\":\"#FF6692\",\"pattern\":{\"shape\":\"\"}},\"name\":\"3044932\",\"offsetgroup\":\"3044932\",\"orientation\":\"v\",\"showlegend\":true,\"type\":\"histogram\",\"x\":[357119],\"xaxis\":\"x\",\"y\":[2297613],\"yaxis\":\"y\"},{\"alignmentgroup\":\"True\",\"bingroup\":\"x\",\"histfunc\":\"sum\",\"hovertemplate\":\"Active=3093412<br>Deaths=%{x}<br>sum of Recovered=%{y}<extra></extra>\",\"legendgroup\":\"3093412\",\"marker\":{\"color\":\"#B6E880\",\"pattern\":{\"shape\":\"\"}},\"name\":\"3093412\",\"offsetgroup\":\"3093412\",\"orientation\":\"v\",\"showlegend\":true,\"type\":\"histogram\",\"x\":[361820],\"xaxis\":\"x\",\"y\":[2363746],\"yaxis\":\"y\"},{\"alignmentgroup\":\"True\",\"bingroup\":\"x\",\"histfunc\":\"sum\",\"hovertemplate\":\"Active=3133456<br>Deaths=%{x}<br>sum of Recovered=%{y}<extra></extra>\",\"legendgroup\":\"3133456\",\"marker\":{\"color\":\"#FF97FF\",\"pattern\":{\"shape\":\"\"}},\"name\":\"3133456\",\"offsetgroup\":\"3133456\",\"orientation\":\"v\",\"showlegend\":true,\"type\":\"histogram\",\"x\":[366562],\"xaxis\":\"x\",\"y\":[2440127],\"yaxis\":\"y\"},{\"alignmentgroup\":\"True\",\"bingroup\":\"x\",\"histfunc\":\"sum\",\"hovertemplate\":\"Active=3197279<br>Deaths=%{x}<br>sum of Recovered=%{y}<extra></extra>\",\"legendgroup\":\"3197279\",\"marker\":{\"color\":\"#FECB52\",\"pattern\":{\"shape\":\"\"}},\"name\":\"3197279\",\"offsetgroup\":\"3197279\",\"orientation\":\"v\",\"showlegend\":true,\"type\":\"histogram\",\"x\":[370718],\"xaxis\":\"x\",\"y\":[2509981],\"yaxis\":\"y\"},{\"alignmentgroup\":\"True\",\"bingroup\":\"x\",\"histfunc\":\"sum\",\"hovertemplate\":\"Active=3226335<br>Deaths=%{x}<br>sum of Recovered=%{y}<extra></extra>\",\"legendgroup\":\"3226335\",\"marker\":{\"color\":\"#636efa\",\"pattern\":{\"shape\":\"\"}},\"name\":\"3226335\",\"offsetgroup\":\"3226335\",\"orientation\":\"v\",\"showlegend\":true,\"type\":\"histogram\",\"x\":[373606],\"xaxis\":\"x\",\"y\":[2585589],\"yaxis\":\"y\"},{\"alignmentgroup\":\"True\",\"bingroup\":\"x\",\"histfunc\":\"sum\",\"hovertemplate\":\"Active=3264452<br>Deaths=%{x}<br>sum of Recovered=%{y}<extra></extra>\",\"legendgroup\":\"3264452\",\"marker\":{\"color\":\"#EF553B\",\"pattern\":{\"shape\":\"\"}},\"name\":\"3264452\",\"offsetgroup\":\"3264452\",\"orientation\":\"v\",\"showlegend\":true,\"type\":\"histogram\",\"x\":[376674],\"xaxis\":\"x\",\"y\":[2639599],\"yaxis\":\"y\"},{\"alignmentgroup\":\"True\",\"bingroup\":\"x\",\"histfunc\":\"sum\",\"hovertemplate\":\"Active=3276956<br>Deaths=%{x}<br>sum of Recovered=%{y}<extra></extra>\",\"legendgroup\":\"3276956\",\"marker\":{\"color\":\"#00cc96\",\"pattern\":{\"shape\":\"\"}},\"name\":\"3276956\",\"offsetgroup\":\"3276956\",\"orientation\":\"v\",\"showlegend\":true,\"type\":\"histogram\",\"x\":[381497],\"xaxis\":\"x\",\"y\":[2743083],\"yaxis\":\"y\"},{\"alignmentgroup\":\"True\",\"bingroup\":\"x\",\"histfunc\":\"sum\",\"hovertemplate\":\"Active=3312425<br>Deaths=%{x}<br>sum of Recovered=%{y}<extra></extra>\",\"legendgroup\":\"3312425\",\"marker\":{\"color\":\"#ab63fa\",\"pattern\":{\"shape\":\"\"}},\"name\":\"3312425\",\"offsetgroup\":\"3312425\",\"orientation\":\"v\",\"showlegend\":true,\"type\":\"histogram\",\"x\":[387069],\"xaxis\":\"x\",\"y\":[2821430],\"yaxis\":\"y\"},{\"alignmentgroup\":\"True\",\"bingroup\":\"x\",\"histfunc\":\"sum\",\"hovertemplate\":\"Active=3364867<br>Deaths=%{x}<br>sum of Recovered=%{y}<extra></extra>\",\"legendgroup\":\"3364867\",\"marker\":{\"color\":\"#FFA15A\",\"pattern\":{\"shape\":\"\"}},\"name\":\"3364867\",\"offsetgroup\":\"3364867\",\"orientation\":\"v\",\"showlegend\":true,\"type\":\"histogram\",\"x\":[392218],\"xaxis\":\"x\",\"y\":[2890776],\"yaxis\":\"y\"},{\"alignmentgroup\":\"True\",\"bingroup\":\"x\",\"histfunc\":\"sum\",\"hovertemplate\":\"Active=3422693<br>Deaths=%{x}<br>sum of Recovered=%{y}<extra></extra>\",\"legendgroup\":\"3422693\",\"marker\":{\"color\":\"#19d3f3\",\"pattern\":{\"shape\":\"\"}},\"name\":\"3422693\",\"offsetgroup\":\"3422693\",\"orientation\":\"v\",\"showlegend\":true,\"type\":\"histogram\",\"x\":[396994],\"xaxis\":\"x\",\"y\":[2959037],\"yaxis\":\"y\"},{\"alignmentgroup\":\"True\",\"bingroup\":\"x\",\"histfunc\":\"sum\",\"hovertemplate\":\"Active=3483577<br>Deaths=%{x}<br>sum of Recovered=%{y}<extra></extra>\",\"legendgroup\":\"3483577\",\"marker\":{\"color\":\"#FF6692\",\"pattern\":{\"shape\":\"\"}},\"name\":\"3483577\",\"offsetgroup\":\"3483577\",\"orientation\":\"v\",\"showlegend\":true,\"type\":\"histogram\",\"x\":[400875],\"xaxis\":\"x\",\"y\":[3030214],\"yaxis\":\"y\"},{\"alignmentgroup\":\"True\",\"bingroup\":\"x\",\"histfunc\":\"sum\",\"hovertemplate\":\"Active=3538590<br>Deaths=%{x}<br>sum of Recovered=%{y}<extra></extra>\",\"legendgroup\":\"3538590\",\"marker\":{\"color\":\"#B6E880\",\"pattern\":{\"shape\":\"\"}},\"name\":\"3538590\",\"offsetgroup\":\"3538590\",\"orientation\":\"v\",\"showlegend\":true,\"type\":\"histogram\",\"x\":[403617],\"xaxis\":\"x\",\"y\":[3084718],\"yaxis\":\"y\"},{\"alignmentgroup\":\"True\",\"bingroup\":\"x\",\"histfunc\":\"sum\",\"hovertemplate\":\"Active=3486196<br>Deaths=%{x}<br>sum of Recovered=%{y}<extra></extra>\",\"legendgroup\":\"3486196\",\"marker\":{\"color\":\"#FF97FF\",\"pattern\":{\"shape\":\"\"}},\"name\":\"3486196\",\"offsetgroup\":\"3486196\",\"orientation\":\"v\",\"showlegend\":true,\"type\":\"histogram\",\"x\":[407314],\"xaxis\":\"x\",\"y\":[3235640],\"yaxis\":\"y\"},{\"alignmentgroup\":\"True\",\"bingroup\":\"x\",\"histfunc\":\"sum\",\"hovertemplate\":\"Active=3524135<br>Deaths=%{x}<br>sum of Recovered=%{y}<extra></extra>\",\"legendgroup\":\"3524135\",\"marker\":{\"color\":\"#FECB52\",\"pattern\":{\"shape\":\"\"}},\"name\":\"3524135\",\"offsetgroup\":\"3524135\",\"orientation\":\"v\",\"showlegend\":true,\"type\":\"histogram\",\"x\":[412236],\"xaxis\":\"x\",\"y\":[3317121],\"yaxis\":\"y\"},{\"alignmentgroup\":\"True\",\"bingroup\":\"x\",\"histfunc\":\"sum\",\"hovertemplate\":\"Active=3574922<br>Deaths=%{x}<br>sum of Recovered=%{y}<extra></extra>\",\"legendgroup\":\"3574922\",\"marker\":{\"color\":\"#636efa\",\"pattern\":{\"shape\":\"\"}},\"name\":\"3574922\",\"offsetgroup\":\"3574922\",\"orientation\":\"v\",\"showlegend\":true,\"type\":\"histogram\",\"x\":[417441],\"xaxis\":\"x\",\"y\":[3395154],\"yaxis\":\"y\"},{\"alignmentgroup\":\"True\",\"bingroup\":\"x\",\"histfunc\":\"sum\",\"hovertemplate\":\"Active=3623295<br>Deaths=%{x}<br>sum of Recovered=%{y}<extra></extra>\",\"legendgroup\":\"3623295\",\"marker\":{\"color\":\"#EF553B\",\"pattern\":{\"shape\":\"\"}},\"name\":\"3623295\",\"offsetgroup\":\"3623295\",\"orientation\":\"v\",\"showlegend\":true,\"type\":\"histogram\",\"x\":[422215],\"xaxis\":\"x\",\"y\":[3480121],\"yaxis\":\"y\"},{\"alignmentgroup\":\"True\",\"bingroup\":\"x\",\"histfunc\":\"sum\",\"hovertemplate\":\"Active=3669280<br>Deaths=%{x}<br>sum of Recovered=%{y}<extra></extra>\",\"legendgroup\":\"3669280\",\"marker\":{\"color\":\"#00cc96\",\"pattern\":{\"shape\":\"\"}},\"name\":\"3669280\",\"offsetgroup\":\"3669280\",\"orientation\":\"v\",\"showlegend\":true,\"type\":\"histogram\",\"x\":[426512],\"xaxis\":\"x\",\"y\":[3558933],\"yaxis\":\"y\"},{\"alignmentgroup\":\"True\",\"bingroup\":\"x\",\"histfunc\":\"sum\",\"hovertemplate\":\"Active=3715937<br>Deaths=%{x}<br>sum of Recovered=%{y}<extra></extra>\",\"legendgroup\":\"3715937\",\"marker\":{\"color\":\"#ab63fa\",\"pattern\":{\"shape\":\"\"}},\"name\":\"3715937\",\"offsetgroup\":\"3715937\",\"orientation\":\"v\",\"showlegend\":true,\"type\":\"histogram\",\"x\":[430750],\"xaxis\":\"x\",\"y\":[3644048],\"yaxis\":\"y\"},{\"alignmentgroup\":\"True\",\"bingroup\":\"x\",\"histfunc\":\"sum\",\"hovertemplate\":\"Active=3776026<br>Deaths=%{x}<br>sum of Recovered=%{y}<extra></extra>\",\"legendgroup\":\"3776026\",\"marker\":{\"color\":\"#FFA15A\",\"pattern\":{\"shape\":\"\"}},\"name\":\"3776026\",\"offsetgroup\":\"3776026\",\"orientation\":\"v\",\"showlegend\":true,\"type\":\"histogram\",\"x\":[434124],\"xaxis\":\"x\",\"y\":[3714006],\"yaxis\":\"y\"},{\"alignmentgroup\":\"True\",\"bingroup\":\"x\",\"histfunc\":\"sum\",\"hovertemplate\":\"Active=3812839<br>Deaths=%{x}<br>sum of Recovered=%{y}<extra></extra>\",\"legendgroup\":\"3812839\",\"marker\":{\"color\":\"#19d3f3\",\"pattern\":{\"shape\":\"\"}},\"name\":\"3812839\",\"offsetgroup\":\"3812839\",\"orientation\":\"v\",\"showlegend\":true,\"type\":\"histogram\",\"x\":[437549],\"xaxis\":\"x\",\"y\":[3793406],\"yaxis\":\"y\"},{\"alignmentgroup\":\"True\",\"bingroup\":\"x\",\"histfunc\":\"sum\",\"hovertemplate\":\"Active=3849981<br>Deaths=%{x}<br>sum of Recovered=%{y}<extra></extra>\",\"legendgroup\":\"3849981\",\"marker\":{\"color\":\"#FF6692\",\"pattern\":{\"shape\":\"\"}},\"name\":\"3849981\",\"offsetgroup\":\"3849981\",\"orientation\":\"v\",\"showlegend\":true,\"type\":\"histogram\",\"x\":[444416],\"xaxis\":\"x\",\"y\":[3890800],\"yaxis\":\"y\"},{\"alignmentgroup\":\"True\",\"bingroup\":\"x\",\"histfunc\":\"sum\",\"hovertemplate\":\"Active=3869178<br>Deaths=%{x}<br>sum of Recovered=%{y}<extra></extra>\",\"legendgroup\":\"3869178\",\"marker\":{\"color\":\"#B6E880\",\"pattern\":{\"shape\":\"\"}},\"name\":\"3869178\",\"offsetgroup\":\"3869178\",\"orientation\":\"v\",\"showlegend\":true,\"type\":\"histogram\",\"x\":[449671],\"xaxis\":\"x\",\"y\":[4008201],\"yaxis\":\"y\"},{\"alignmentgroup\":\"True\",\"bingroup\":\"x\",\"histfunc\":\"sum\",\"hovertemplate\":\"Active=3923452<br>Deaths=%{x}<br>sum of Recovered=%{y}<extra></extra>\",\"legendgroup\":\"3923452\",\"marker\":{\"color\":\"#FF97FF\",\"pattern\":{\"shape\":\"\"}},\"name\":\"3923452\",\"offsetgroup\":\"3923452\",\"orientation\":\"v\",\"showlegend\":true,\"type\":\"histogram\",\"x\":[454700],\"xaxis\":\"x\",\"y\":[4088826],\"yaxis\":\"y\"},{\"alignmentgroup\":\"True\",\"bingroup\":\"x\",\"histfunc\":\"sum\",\"hovertemplate\":\"Active=4003513<br>Deaths=%{x}<br>sum of Recovered=%{y}<extra></extra>\",\"legendgroup\":\"4003513\",\"marker\":{\"color\":\"#FECB52\",\"pattern\":{\"shape\":\"\"}},\"name\":\"4003513\",\"offsetgroup\":\"4003513\",\"orientation\":\"v\",\"showlegend\":true,\"type\":\"histogram\",\"x\":[460973],\"xaxis\":\"x\",\"y\":[4183298],\"yaxis\":\"y\"},{\"alignmentgroup\":\"True\",\"bingroup\":\"x\",\"histfunc\":\"sum\",\"hovertemplate\":\"Active=4041511<br>Deaths=%{x}<br>sum of Recovered=%{y}<extra></extra>\",\"legendgroup\":\"4041511\",\"marker\":{\"color\":\"#636efa\",\"pattern\":{\"shape\":\"\"}},\"name\":\"4041511\",\"offsetgroup\":\"4041511\",\"orientation\":\"v\",\"showlegend\":true,\"type\":\"histogram\",\"x\":[465222],\"xaxis\":\"x\",\"y\":[4298603],\"yaxis\":\"y\"},{\"alignmentgroup\":\"True\",\"bingroup\":\"x\",\"histfunc\":\"sum\",\"hovertemplate\":\"Active=4097815<br>Deaths=%{x}<br>sum of Recovered=%{y}<extra></extra>\",\"legendgroup\":\"4097815\",\"marker\":{\"color\":\"#EF553B\",\"pattern\":{\"shape\":\"\"}},\"name\":\"4097815\",\"offsetgroup\":\"4097815\",\"orientation\":\"v\",\"showlegend\":true,\"type\":\"histogram\",\"x\":[469185],\"xaxis\":\"x\",\"y\":[4366875],\"yaxis\":\"y\"},{\"alignmentgroup\":\"True\",\"bingroup\":\"x\",\"histfunc\":\"sum\",\"hovertemplate\":\"Active=4140884<br>Deaths=%{x}<br>sum of Recovered=%{y}<extra></extra>\",\"legendgroup\":\"4140884\",\"marker\":{\"color\":\"#00cc96\",\"pattern\":{\"shape\":\"\"}},\"name\":\"4140884\",\"offsetgroup\":\"4140884\",\"orientation\":\"v\",\"showlegend\":true,\"type\":\"histogram\",\"x\":[472756],\"xaxis\":\"x\",\"y\":[4458093],\"yaxis\":\"y\"},{\"alignmentgroup\":\"True\",\"bingroup\":\"x\",\"histfunc\":\"sum\",\"hovertemplate\":\"Active=4197308<br>Deaths=%{x}<br>sum of Recovered=%{y}<extra></extra>\",\"legendgroup\":\"4197308\",\"marker\":{\"color\":\"#ab63fa\",\"pattern\":{\"shape\":\"\"}},\"name\":\"4197308\",\"offsetgroup\":\"4197308\",\"orientation\":\"v\",\"showlegend\":true,\"type\":\"histogram\",\"x\":[478067],\"xaxis\":\"x\",\"y\":[4561696],\"yaxis\":\"y\"},{\"alignmentgroup\":\"True\",\"bingroup\":\"x\",\"histfunc\":\"sum\",\"hovertemplate\":\"Active=4247921<br>Deaths=%{x}<br>sum of Recovered=%{y}<extra></extra>\",\"legendgroup\":\"4247921\",\"marker\":{\"color\":\"#FFA15A\",\"pattern\":{\"shape\":\"\"}},\"name\":\"4247921\",\"offsetgroup\":\"4247921\",\"orientation\":\"v\",\"showlegend\":true,\"type\":\"histogram\",\"x\":[483328],\"xaxis\":\"x\",\"y\":[4677005],\"yaxis\":\"y\"},{\"alignmentgroup\":\"True\",\"bingroup\":\"x\",\"histfunc\":\"sum\",\"hovertemplate\":\"Active=4326728<br>Deaths=%{x}<br>sum of Recovered=%{y}<extra></extra>\",\"legendgroup\":\"4326728\",\"marker\":{\"color\":\"#19d3f3\",\"pattern\":{\"shape\":\"\"}},\"name\":\"4326728\",\"offsetgroup\":\"4326728\",\"orientation\":\"v\",\"showlegend\":true,\"type\":\"histogram\",\"x\":[489955],\"xaxis\":\"x\",\"y\":[4769458],\"yaxis\":\"y\"},{\"alignmentgroup\":\"True\",\"bingroup\":\"x\",\"histfunc\":\"sum\",\"hovertemplate\":\"Active=4406931<br>Deaths=%{x}<br>sum of Recovered=%{y}<extra></extra>\",\"legendgroup\":\"4406931\",\"marker\":{\"color\":\"#FF6692\",\"pattern\":{\"shape\":\"\"}},\"name\":\"4406931\",\"offsetgroup\":\"4406931\",\"orientation\":\"v\",\"showlegend\":true,\"type\":\"histogram\",\"x\":[494782],\"xaxis\":\"x\",\"y\":[4875774],\"yaxis\":\"y\"},{\"alignmentgroup\":\"True\",\"bingroup\":\"x\",\"histfunc\":\"sum\",\"hovertemplate\":\"Active=4474521<br>Deaths=%{x}<br>sum of Recovered=%{y}<extra></extra>\",\"legendgroup\":\"4474521\",\"marker\":{\"color\":\"#B6E880\",\"pattern\":{\"shape\":\"\"}},\"name\":\"4474521\",\"offsetgroup\":\"4474521\",\"orientation\":\"v\",\"showlegend\":true,\"type\":\"histogram\",\"x\":[499268],\"xaxis\":\"x\",\"y\":[4981808],\"yaxis\":\"y\"},{\"alignmentgroup\":\"True\",\"bingroup\":\"x\",\"histfunc\":\"sum\",\"hovertemplate\":\"Active=4544278<br>Deaths=%{x}<br>sum of Recovered=%{y}<extra></extra>\",\"legendgroup\":\"4544278\",\"marker\":{\"color\":\"#FF97FF\",\"pattern\":{\"shape\":\"\"}},\"name\":\"4544278\",\"offsetgroup\":\"4544278\",\"orientation\":\"v\",\"showlegend\":true,\"type\":\"histogram\",\"x\":[502357],\"xaxis\":\"x\",\"y\":[5070592],\"yaxis\":\"y\"},{\"alignmentgroup\":\"True\",\"bingroup\":\"x\",\"histfunc\":\"sum\",\"hovertemplate\":\"Active=4605227<br>Deaths=%{x}<br>sum of Recovered=%{y}<extra></extra>\",\"legendgroup\":\"4605227\",\"marker\":{\"color\":\"#FECB52\",\"pattern\":{\"shape\":\"\"}},\"name\":\"4605227\",\"offsetgroup\":\"4605227\",\"orientation\":\"v\",\"showlegend\":true,\"type\":\"histogram\",\"x\":[506078],\"xaxis\":\"x\",\"y\":[5164494],\"yaxis\":\"y\"},{\"alignmentgroup\":\"True\",\"bingroup\":\"x\",\"histfunc\":\"sum\",\"hovertemplate\":\"Active=4657028<br>Deaths=%{x}<br>sum of Recovered=%{y}<extra></extra>\",\"legendgroup\":\"4657028\",\"marker\":{\"color\":\"#636efa\",\"pattern\":{\"shape\":\"\"}},\"name\":\"4657028\",\"offsetgroup\":\"4657028\",\"orientation\":\"v\",\"showlegend\":true,\"type\":\"histogram\",\"x\":[511210],\"xaxis\":\"x\",\"y\":[5281459],\"yaxis\":\"y\"},{\"alignmentgroup\":\"True\",\"bingroup\":\"x\",\"histfunc\":\"sum\",\"hovertemplate\":\"Active=4754082<br>Deaths=%{x}<br>sum of Recovered=%{y}<extra></extra>\",\"legendgroup\":\"4754082\",\"marker\":{\"color\":\"#EF553B\",\"pattern\":{\"shape\":\"\"}},\"name\":\"4754082\",\"offsetgroup\":\"4754082\",\"orientation\":\"v\",\"showlegend\":true,\"type\":\"histogram\",\"x\":[516221],\"xaxis\":\"x\",\"y\":[5397083],\"yaxis\":\"y\"},{\"alignmentgroup\":\"True\",\"bingroup\":\"x\",\"histfunc\":\"sum\",\"hovertemplate\":\"Active=4672273<br>Deaths=%{x}<br>sum of Recovered=%{y}<extra></extra>\",\"legendgroup\":\"4672273\",\"marker\":{\"color\":\"#00cc96\",\"pattern\":{\"shape\":\"\"}},\"name\":\"4672273\",\"offsetgroup\":\"4672273\",\"orientation\":\"v\",\"showlegend\":true,\"type\":\"histogram\",\"x\":[521341],\"xaxis\":\"x\",\"y\":[5681477],\"yaxis\":\"y\"},{\"alignmentgroup\":\"True\",\"bingroup\":\"x\",\"histfunc\":\"sum\",\"hovertemplate\":\"Active=4761307<br>Deaths=%{x}<br>sum of Recovered=%{y}<extra></extra>\",\"legendgroup\":\"4761307\",\"marker\":{\"color\":\"#ab63fa\",\"pattern\":{\"shape\":\"\"}},\"name\":\"4761307\",\"offsetgroup\":\"4761307\",\"orientation\":\"v\",\"showlegend\":true,\"type\":\"histogram\",\"x\":[526336],\"xaxis\":\"x\",\"y\":[5790942],\"yaxis\":\"y\"},{\"alignmentgroup\":\"True\",\"bingroup\":\"x\",\"histfunc\":\"sum\",\"hovertemplate\":\"Active=4755072<br>Deaths=%{x}<br>sum of Recovered=%{y}<extra></extra>\",\"legendgroup\":\"4755072\",\"marker\":{\"color\":\"#FFA15A\",\"pattern\":{\"shape\":\"\"}},\"name\":\"4755072\",\"offsetgroup\":\"4755072\",\"orientation\":\"v\",\"showlegend\":true,\"type\":\"histogram\",\"x\":[530705],\"xaxis\":\"x\",\"y\":[5986375],\"yaxis\":\"y\"},{\"alignmentgroup\":\"True\",\"bingroup\":\"x\",\"histfunc\":\"sum\",\"hovertemplate\":\"Active=4815151<br>Deaths=%{x}<br>sum of Recovered=%{y}<extra></extra>\",\"legendgroup\":\"4815151\",\"marker\":{\"color\":\"#19d3f3\",\"pattern\":{\"shape\":\"\"}},\"name\":\"4815151\",\"offsetgroup\":\"4815151\",\"orientation\":\"v\",\"showlegend\":true,\"type\":\"histogram\",\"x\":[534150],\"xaxis\":\"x\",\"y\":[6105546],\"yaxis\":\"y\"},{\"alignmentgroup\":\"True\",\"bingroup\":\"x\",\"histfunc\":\"sum\",\"hovertemplate\":\"Active=4855475<br>Deaths=%{x}<br>sum of Recovered=%{y}<extra></extra>\",\"legendgroup\":\"4855475\",\"marker\":{\"color\":\"#FF6692\",\"pattern\":{\"shape\":\"\"}},\"name\":\"4855475\",\"offsetgroup\":\"4855475\",\"orientation\":\"v\",\"showlegend\":true,\"type\":\"histogram\",\"x\":[537947],\"xaxis\":\"x\",\"y\":[6228768],\"yaxis\":\"y\"},{\"alignmentgroup\":\"True\",\"bingroup\":\"x\",\"histfunc\":\"sum\",\"hovertemplate\":\"Active=4915467<br>Deaths=%{x}<br>sum of Recovered=%{y}<extra></extra>\",\"legendgroup\":\"4915467\",\"marker\":{\"color\":\"#B6E880\",\"pattern\":{\"shape\":\"\"}},\"name\":\"4915467\",\"offsetgroup\":\"4915467\",\"orientation\":\"v\",\"showlegend\":true,\"type\":\"histogram\",\"x\":[544054],\"xaxis\":\"x\",\"y\":[6373513],\"yaxis\":\"y\"},{\"alignmentgroup\":\"True\",\"bingroup\":\"x\",\"histfunc\":\"sum\",\"hovertemplate\":\"Active=4964447<br>Deaths=%{x}<br>sum of Recovered=%{y}<extra></extra>\",\"legendgroup\":\"4964447\",\"marker\":{\"color\":\"#FF97FF\",\"pattern\":{\"shape\":\"\"}},\"name\":\"4964447\",\"offsetgroup\":\"4964447\",\"orientation\":\"v\",\"showlegend\":true,\"type\":\"histogram\",\"x\":[549373],\"xaxis\":\"x\",\"y\":[6531016],\"yaxis\":\"y\"},{\"alignmentgroup\":\"True\",\"bingroup\":\"x\",\"histfunc\":\"sum\",\"hovertemplate\":\"Active=5052995<br>Deaths=%{x}<br>sum of Recovered=%{y}<extra></extra>\",\"legendgroup\":\"5052995\",\"marker\":{\"color\":\"#FECB52\",\"pattern\":{\"shape\":\"\"}},\"name\":\"5052995\",\"offsetgroup\":\"5052995\",\"orientation\":\"v\",\"showlegend\":true,\"type\":\"histogram\",\"x\":[554831],\"xaxis\":\"x\",\"y\":[6665237],\"yaxis\":\"y\"},{\"alignmentgroup\":\"True\",\"bingroup\":\"x\",\"histfunc\":\"sum\",\"hovertemplate\":\"Active=5141244<br>Deaths=%{x}<br>sum of Recovered=%{y}<extra></extra>\",\"legendgroup\":\"5141244\",\"marker\":{\"color\":\"#636efa\",\"pattern\":{\"shape\":\"\"}},\"name\":\"5141244\",\"offsetgroup\":\"5141244\",\"orientation\":\"v\",\"showlegend\":true,\"type\":\"histogram\",\"x\":[560142],\"xaxis\":\"x\",\"y\":[6804254],\"yaxis\":\"y\"},{\"alignmentgroup\":\"True\",\"bingroup\":\"x\",\"histfunc\":\"sum\",\"hovertemplate\":\"Active=5227218<br>Deaths=%{x}<br>sum of Recovered=%{y}<extra></extra>\",\"legendgroup\":\"5227218\",\"marker\":{\"color\":\"#EF553B\",\"pattern\":{\"shape\":\"\"}},\"name\":\"5227218\",\"offsetgroup\":\"5227218\",\"orientation\":\"v\",\"showlegend\":true,\"type\":\"histogram\",\"x\":[565039],\"xaxis\":\"x\",\"y\":[6929711],\"yaxis\":\"y\"},{\"alignmentgroup\":\"True\",\"bingroup\":\"x\",\"histfunc\":\"sum\",\"hovertemplate\":\"Active=5304469<br>Deaths=%{x}<br>sum of Recovered=%{y}<extra></extra>\",\"legendgroup\":\"5304469\",\"marker\":{\"color\":\"#00cc96\",\"pattern\":{\"shape\":\"\"}},\"name\":\"5304469\",\"offsetgroup\":\"5304469\",\"orientation\":\"v\",\"showlegend\":true,\"type\":\"histogram\",\"x\":[568993],\"xaxis\":\"x\",\"y\":[7041174],\"yaxis\":\"y\"},{\"alignmentgroup\":\"True\",\"bingroup\":\"x\",\"histfunc\":\"sum\",\"hovertemplate\":\"Active=5353468<br>Deaths=%{x}<br>sum of Recovered=%{y}<extra></extra>\",\"legendgroup\":\"5353468\",\"marker\":{\"color\":\"#ab63fa\",\"pattern\":{\"shape\":\"\"}},\"name\":\"5353468\",\"offsetgroup\":\"5353468\",\"orientation\":\"v\",\"showlegend\":true,\"type\":\"histogram\",\"x\":[572808],\"xaxis\":\"x\",\"y\":[7181139],\"yaxis\":\"y\"},{\"alignmentgroup\":\"True\",\"bingroup\":\"x\",\"histfunc\":\"sum\",\"hovertemplate\":\"Active=5427502<br>Deaths=%{x}<br>sum of Recovered=%{y}<extra></extra>\",\"legendgroup\":\"5427502\",\"marker\":{\"color\":\"#FFA15A\",\"pattern\":{\"shape\":\"\"}},\"name\":\"5427502\",\"offsetgroup\":\"5427502\",\"orientation\":\"v\",\"showlegend\":true,\"type\":\"histogram\",\"x\":[578468],\"xaxis\":\"x\",\"y\":[7322897],\"yaxis\":\"y\"},{\"alignmentgroup\":\"True\",\"bingroup\":\"x\",\"histfunc\":\"sum\",\"hovertemplate\":\"Active=5493703<br>Deaths=%{x}<br>sum of Recovered=%{y}<extra></extra>\",\"legendgroup\":\"5493703\",\"marker\":{\"color\":\"#19d3f3\",\"pattern\":{\"shape\":\"\"}},\"name\":\"5493703\",\"offsetgroup\":\"5493703\",\"orientation\":\"v\",\"showlegend\":true,\"type\":\"histogram\",\"x\":[583961],\"xaxis\":\"x\",\"y\":[7482320],\"yaxis\":\"y\"},{\"alignmentgroup\":\"True\",\"bingroup\":\"x\",\"histfunc\":\"sum\",\"hovertemplate\":\"Active=5588524<br>Deaths=%{x}<br>sum of Recovered=%{y}<extra></extra>\",\"legendgroup\":\"5588524\",\"marker\":{\"color\":\"#FF6692\",\"pattern\":{\"shape\":\"\"}},\"name\":\"5588524\",\"offsetgroup\":\"5588524\",\"orientation\":\"v\",\"showlegend\":true,\"type\":\"histogram\",\"x\":[589760],\"xaxis\":\"x\",\"y\":[7634241],\"yaxis\":\"y\"},{\"alignmentgroup\":\"True\",\"bingroup\":\"x\",\"histfunc\":\"sum\",\"hovertemplate\":\"Active=5664300<br>Deaths=%{x}<br>sum of Recovered=%{y}<extra></extra>\",\"legendgroup\":\"5664300\",\"marker\":{\"color\":\"#B6E880\",\"pattern\":{\"shape\":\"\"}},\"name\":\"5664300\",\"offsetgroup\":\"5664300\",\"orientation\":\"v\",\"showlegend\":true,\"type\":\"histogram\",\"x\":[596503],\"xaxis\":\"x\",\"y\":[7793760],\"yaxis\":\"y\"},{\"alignmentgroup\":\"True\",\"bingroup\":\"x\",\"histfunc\":\"sum\",\"hovertemplate\":\"Active=5745518<br>Deaths=%{x}<br>sum of Recovered=%{y}<extra></extra>\",\"legendgroup\":\"5745518\",\"marker\":{\"color\":\"#FF97FF\",\"pattern\":{\"shape\":\"\"}},\"name\":\"5745518\",\"offsetgroup\":\"5745518\",\"orientation\":\"v\",\"showlegend\":true,\"type\":\"histogram\",\"x\":[602130],\"xaxis\":\"x\",\"y\":[7944550],\"yaxis\":\"y\"},{\"alignmentgroup\":\"True\",\"bingroup\":\"x\",\"histfunc\":\"sum\",\"hovertemplate\":\"Active=5868451<br>Deaths=%{x}<br>sum of Recovered=%{y}<extra></extra>\",\"legendgroup\":\"5868451\",\"marker\":{\"color\":\"#FECB52\",\"pattern\":{\"shape\":\"\"}},\"name\":\"5868451\",\"offsetgroup\":\"5868451\",\"orientation\":\"v\",\"showlegend\":true,\"type\":\"histogram\",\"x\":[606159],\"xaxis\":\"x\",\"y\":[8032235],\"yaxis\":\"y\"},{\"alignmentgroup\":\"True\",\"bingroup\":\"x\",\"histfunc\":\"sum\",\"hovertemplate\":\"Active=5912527<br>Deaths=%{x}<br>sum of Recovered=%{y}<extra></extra>\",\"legendgroup\":\"5912527\",\"marker\":{\"color\":\"#636efa\",\"pattern\":{\"shape\":\"\"}},\"name\":\"5912527\",\"offsetgroup\":\"5912527\",\"orientation\":\"v\",\"showlegend\":true,\"type\":\"histogram\",\"x\":[610319],\"xaxis\":\"x\",\"y\":[8190777],\"yaxis\":\"y\"},{\"alignmentgroup\":\"True\",\"bingroup\":\"x\",\"histfunc\":\"sum\",\"hovertemplate\":\"Active=5965535<br>Deaths=%{x}<br>sum of Recovered=%{y}<extra></extra>\",\"legendgroup\":\"5965535\",\"marker\":{\"color\":\"#EF553B\",\"pattern\":{\"shape\":\"\"}},\"name\":\"5965535\",\"offsetgroup\":\"5965535\",\"orientation\":\"v\",\"showlegend\":true,\"type\":\"histogram\",\"x\":[616557],\"xaxis\":\"x\",\"y\":[8364986],\"yaxis\":\"y\"},{\"alignmentgroup\":\"True\",\"bingroup\":\"x\",\"histfunc\":\"sum\",\"hovertemplate\":\"Active=6062930<br>Deaths=%{x}<br>sum of Recovered=%{y}<extra></extra>\",\"legendgroup\":\"6062930\",\"marker\":{\"color\":\"#00cc96\",\"pattern\":{\"shape\":\"\"}},\"name\":\"6062930\",\"offsetgroup\":\"6062930\",\"orientation\":\"v\",\"showlegend\":true,\"type\":\"histogram\",\"x\":[623540],\"xaxis\":\"x\",\"y\":[8541255],\"yaxis\":\"y\"},{\"alignmentgroup\":\"True\",\"bingroup\":\"x\",\"histfunc\":\"sum\",\"hovertemplate\":\"Active=6166006<br>Deaths=%{x}<br>sum of Recovered=%{y}<extra></extra>\",\"legendgroup\":\"6166006\",\"marker\":{\"color\":\"#ab63fa\",\"pattern\":{\"shape\":\"\"}},\"name\":\"6166006\",\"offsetgroup\":\"6166006\",\"orientation\":\"v\",\"showlegend\":true,\"type\":\"histogram\",\"x\":[633506],\"xaxis\":\"x\",\"y\":[8710969],\"yaxis\":\"y\"},{\"alignmentgroup\":\"True\",\"bingroup\":\"x\",\"histfunc\":\"sum\",\"hovertemplate\":\"Active=6212290<br>Deaths=%{x}<br>sum of Recovered=%{y}<extra></extra>\",\"legendgroup\":\"6212290\",\"marker\":{\"color\":\"#FFA15A\",\"pattern\":{\"shape\":\"\"}},\"name\":\"6212290\",\"offsetgroup\":\"6212290\",\"orientation\":\"v\",\"showlegend\":true,\"type\":\"histogram\",\"x\":[639650],\"xaxis\":\"x\",\"y\":[8939705],\"yaxis\":\"y\"},{\"alignmentgroup\":\"True\",\"bingroup\":\"x\",\"histfunc\":\"sum\",\"hovertemplate\":\"Active=6243930<br>Deaths=%{x}<br>sum of Recovered=%{y}<extra></extra>\",\"legendgroup\":\"6243930\",\"marker\":{\"color\":\"#19d3f3\",\"pattern\":{\"shape\":\"\"}},\"name\":\"6243930\",\"offsetgroup\":\"6243930\",\"orientation\":\"v\",\"showlegend\":true,\"type\":\"histogram\",\"x\":[644517],\"xaxis\":\"x\",\"y\":[9158743],\"yaxis\":\"y\"},{\"alignmentgroup\":\"True\",\"bingroup\":\"x\",\"histfunc\":\"sum\",\"hovertemplate\":\"Active=6309711<br>Deaths=%{x}<br>sum of Recovered=%{y}<extra></extra>\",\"legendgroup\":\"6309711\",\"marker\":{\"color\":\"#FF6692\",\"pattern\":{\"shape\":\"\"}},\"name\":\"6309711\",\"offsetgroup\":\"6309711\",\"orientation\":\"v\",\"showlegend\":true,\"type\":\"histogram\",\"x\":[648621],\"xaxis\":\"x\",\"y\":[9293464],\"yaxis\":\"y\"},{\"alignmentgroup\":\"True\",\"bingroup\":\"x\",\"histfunc\":\"sum\",\"hovertemplate\":\"Active=6358362<br>Deaths=%{x}<br>sum of Recovered=%{y}<extra></extra>\",\"legendgroup\":\"6358362\",\"marker\":{\"color\":\"#B6E880\",\"pattern\":{\"shape\":\"\"}},\"name\":\"6358362\",\"offsetgroup\":\"6358362\",\"orientation\":\"v\",\"showlegend\":true,\"type\":\"histogram\",\"x\":[654036],\"xaxis\":\"x\",\"y\":[9468097],\"yaxis\":\"y\"}],                        {\"barmode\":\"relative\",\"legend\":{\"title\":{\"text\":\"Active\"},\"tracegroupgap\":0},\"margin\":{\"t\":60},\"template\":{\"data\":{\"bar\":[{\"error_x\":{\"color\":\"#2a3f5f\"},\"error_y\":{\"color\":\"#2a3f5f\"},\"marker\":{\"line\":{\"color\":\"#E5ECF6\",\"width\":0.5},\"pattern\":{\"fillmode\":\"overlay\",\"size\":10,\"solidity\":0.2}},\"type\":\"bar\"}],\"barpolar\":[{\"marker\":{\"line\":{\"color\":\"#E5ECF6\",\"width\":0.5},\"pattern\":{\"fillmode\":\"overlay\",\"size\":10,\"solidity\":0.2}},\"type\":\"barpolar\"}],\"carpet\":[{\"aaxis\":{\"endlinecolor\":\"#2a3f5f\",\"gridcolor\":\"white\",\"linecolor\":\"white\",\"minorgridcolor\":\"white\",\"startlinecolor\":\"#2a3f5f\"},\"baxis\":{\"endlinecolor\":\"#2a3f5f\",\"gridcolor\":\"white\",\"linecolor\":\"white\",\"minorgridcolor\":\"white\",\"startlinecolor\":\"#2a3f5f\"},\"type\":\"carpet\"}],\"choropleth\":[{\"colorbar\":{\"outlinewidth\":0,\"ticks\":\"\"},\"type\":\"choropleth\"}],\"contour\":[{\"colorbar\":{\"outlinewidth\":0,\"ticks\":\"\"},\"colorscale\":[[0.0,\"#0d0887\"],[0.1111111111111111,\"#46039f\"],[0.2222222222222222,\"#7201a8\"],[0.3333333333333333,\"#9c179e\"],[0.4444444444444444,\"#bd3786\"],[0.5555555555555556,\"#d8576b\"],[0.6666666666666666,\"#ed7953\"],[0.7777777777777778,\"#fb9f3a\"],[0.8888888888888888,\"#fdca26\"],[1.0,\"#f0f921\"]],\"type\":\"contour\"}],\"contourcarpet\":[{\"colorbar\":{\"outlinewidth\":0,\"ticks\":\"\"},\"type\":\"contourcarpet\"}],\"heatmap\":[{\"colorbar\":{\"outlinewidth\":0,\"ticks\":\"\"},\"colorscale\":[[0.0,\"#0d0887\"],[0.1111111111111111,\"#46039f\"],[0.2222222222222222,\"#7201a8\"],[0.3333333333333333,\"#9c179e\"],[0.4444444444444444,\"#bd3786\"],[0.5555555555555556,\"#d8576b\"],[0.6666666666666666,\"#ed7953\"],[0.7777777777777778,\"#fb9f3a\"],[0.8888888888888888,\"#fdca26\"],[1.0,\"#f0f921\"]],\"type\":\"heatmap\"}],\"heatmapgl\":[{\"colorbar\":{\"outlinewidth\":0,\"ticks\":\"\"},\"colorscale\":[[0.0,\"#0d0887\"],[0.1111111111111111,\"#46039f\"],[0.2222222222222222,\"#7201a8\"],[0.3333333333333333,\"#9c179e\"],[0.4444444444444444,\"#bd3786\"],[0.5555555555555556,\"#d8576b\"],[0.6666666666666666,\"#ed7953\"],[0.7777777777777778,\"#fb9f3a\"],[0.8888888888888888,\"#fdca26\"],[1.0,\"#f0f921\"]],\"type\":\"heatmapgl\"}],\"histogram\":[{\"marker\":{\"pattern\":{\"fillmode\":\"overlay\",\"size\":10,\"solidity\":0.2}},\"type\":\"histogram\"}],\"histogram2d\":[{\"colorbar\":{\"outlinewidth\":0,\"ticks\":\"\"},\"colorscale\":[[0.0,\"#0d0887\"],[0.1111111111111111,\"#46039f\"],[0.2222222222222222,\"#7201a8\"],[0.3333333333333333,\"#9c179e\"],[0.4444444444444444,\"#bd3786\"],[0.5555555555555556,\"#d8576b\"],[0.6666666666666666,\"#ed7953\"],[0.7777777777777778,\"#fb9f3a\"],[0.8888888888888888,\"#fdca26\"],[1.0,\"#f0f921\"]],\"type\":\"histogram2d\"}],\"histogram2dcontour\":[{\"colorbar\":{\"outlinewidth\":0,\"ticks\":\"\"},\"colorscale\":[[0.0,\"#0d0887\"],[0.1111111111111111,\"#46039f\"],[0.2222222222222222,\"#7201a8\"],[0.3333333333333333,\"#9c179e\"],[0.4444444444444444,\"#bd3786\"],[0.5555555555555556,\"#d8576b\"],[0.6666666666666666,\"#ed7953\"],[0.7777777777777778,\"#fb9f3a\"],[0.8888888888888888,\"#fdca26\"],[1.0,\"#f0f921\"]],\"type\":\"histogram2dcontour\"}],\"mesh3d\":[{\"colorbar\":{\"outlinewidth\":0,\"ticks\":\"\"},\"type\":\"mesh3d\"}],\"parcoords\":[{\"line\":{\"colorbar\":{\"outlinewidth\":0,\"ticks\":\"\"}},\"type\":\"parcoords\"}],\"pie\":[{\"automargin\":true,\"type\":\"pie\"}],\"scatter\":[{\"marker\":{\"colorbar\":{\"outlinewidth\":0,\"ticks\":\"\"}},\"type\":\"scatter\"}],\"scatter3d\":[{\"line\":{\"colorbar\":{\"outlinewidth\":0,\"ticks\":\"\"}},\"marker\":{\"colorbar\":{\"outlinewidth\":0,\"ticks\":\"\"}},\"type\":\"scatter3d\"}],\"scattercarpet\":[{\"marker\":{\"colorbar\":{\"outlinewidth\":0,\"ticks\":\"\"}},\"type\":\"scattercarpet\"}],\"scattergeo\":[{\"marker\":{\"colorbar\":{\"outlinewidth\":0,\"ticks\":\"\"}},\"type\":\"scattergeo\"}],\"scattergl\":[{\"marker\":{\"colorbar\":{\"outlinewidth\":0,\"ticks\":\"\"}},\"type\":\"scattergl\"}],\"scattermapbox\":[{\"marker\":{\"colorbar\":{\"outlinewidth\":0,\"ticks\":\"\"}},\"type\":\"scattermapbox\"}],\"scatterpolar\":[{\"marker\":{\"colorbar\":{\"outlinewidth\":0,\"ticks\":\"\"}},\"type\":\"scatterpolar\"}],\"scatterpolargl\":[{\"marker\":{\"colorbar\":{\"outlinewidth\":0,\"ticks\":\"\"}},\"type\":\"scatterpolargl\"}],\"scatterternary\":[{\"marker\":{\"colorbar\":{\"outlinewidth\":0,\"ticks\":\"\"}},\"type\":\"scatterternary\"}],\"surface\":[{\"colorbar\":{\"outlinewidth\":0,\"ticks\":\"\"},\"colorscale\":[[0.0,\"#0d0887\"],[0.1111111111111111,\"#46039f\"],[0.2222222222222222,\"#7201a8\"],[0.3333333333333333,\"#9c179e\"],[0.4444444444444444,\"#bd3786\"],[0.5555555555555556,\"#d8576b\"],[0.6666666666666666,\"#ed7953\"],[0.7777777777777778,\"#fb9f3a\"],[0.8888888888888888,\"#fdca26\"],[1.0,\"#f0f921\"]],\"type\":\"surface\"}],\"table\":[{\"cells\":{\"fill\":{\"color\":\"#EBF0F8\"},\"line\":{\"color\":\"white\"}},\"header\":{\"fill\":{\"color\":\"#C8D4E3\"},\"line\":{\"color\":\"white\"}},\"type\":\"table\"}]},\"layout\":{\"annotationdefaults\":{\"arrowcolor\":\"#2a3f5f\",\"arrowhead\":0,\"arrowwidth\":1},\"autotypenumbers\":\"strict\",\"coloraxis\":{\"colorbar\":{\"outlinewidth\":0,\"ticks\":\"\"}},\"colorscale\":{\"diverging\":[[0,\"#8e0152\"],[0.1,\"#c51b7d\"],[0.2,\"#de77ae\"],[0.3,\"#f1b6da\"],[0.4,\"#fde0ef\"],[0.5,\"#f7f7f7\"],[0.6,\"#e6f5d0\"],[0.7,\"#b8e186\"],[0.8,\"#7fbc41\"],[0.9,\"#4d9221\"],[1,\"#276419\"]],\"sequential\":[[0.0,\"#0d0887\"],[0.1111111111111111,\"#46039f\"],[0.2222222222222222,\"#7201a8\"],[0.3333333333333333,\"#9c179e\"],[0.4444444444444444,\"#bd3786\"],[0.5555555555555556,\"#d8576b\"],[0.6666666666666666,\"#ed7953\"],[0.7777777777777778,\"#fb9f3a\"],[0.8888888888888888,\"#fdca26\"],[1.0,\"#f0f921\"]],\"sequentialminus\":[[0.0,\"#0d0887\"],[0.1111111111111111,\"#46039f\"],[0.2222222222222222,\"#7201a8\"],[0.3333333333333333,\"#9c179e\"],[0.4444444444444444,\"#bd3786\"],[0.5555555555555556,\"#d8576b\"],[0.6666666666666666,\"#ed7953\"],[0.7777777777777778,\"#fb9f3a\"],[0.8888888888888888,\"#fdca26\"],[1.0,\"#f0f921\"]]},\"colorway\":[\"#636efa\",\"#EF553B\",\"#00cc96\",\"#ab63fa\",\"#FFA15A\",\"#19d3f3\",\"#FF6692\",\"#B6E880\",\"#FF97FF\",\"#FECB52\"],\"font\":{\"color\":\"#2a3f5f\"},\"geo\":{\"bgcolor\":\"white\",\"lakecolor\":\"white\",\"landcolor\":\"#E5ECF6\",\"showlakes\":true,\"showland\":true,\"subunitcolor\":\"white\"},\"hoverlabel\":{\"align\":\"left\"},\"hovermode\":\"closest\",\"mapbox\":{\"style\":\"light\"},\"paper_bgcolor\":\"white\",\"plot_bgcolor\":\"#E5ECF6\",\"polar\":{\"angularaxis\":{\"gridcolor\":\"white\",\"linecolor\":\"white\",\"ticks\":\"\"},\"bgcolor\":\"#E5ECF6\",\"radialaxis\":{\"gridcolor\":\"white\",\"linecolor\":\"white\",\"ticks\":\"\"}},\"scene\":{\"xaxis\":{\"backgroundcolor\":\"#E5ECF6\",\"gridcolor\":\"white\",\"gridwidth\":2,\"linecolor\":\"white\",\"showbackground\":true,\"ticks\":\"\",\"zerolinecolor\":\"white\"},\"yaxis\":{\"backgroundcolor\":\"#E5ECF6\",\"gridcolor\":\"white\",\"gridwidth\":2,\"linecolor\":\"white\",\"showbackground\":true,\"ticks\":\"\",\"zerolinecolor\":\"white\"},\"zaxis\":{\"backgroundcolor\":\"#E5ECF6\",\"gridcolor\":\"white\",\"gridwidth\":2,\"linecolor\":\"white\",\"showbackground\":true,\"ticks\":\"\",\"zerolinecolor\":\"white\"}},\"shapedefaults\":{\"line\":{\"color\":\"#2a3f5f\"}},\"ternary\":{\"aaxis\":{\"gridcolor\":\"white\",\"linecolor\":\"white\",\"ticks\":\"\"},\"baxis\":{\"gridcolor\":\"white\",\"linecolor\":\"white\",\"ticks\":\"\"},\"bgcolor\":\"#E5ECF6\",\"caxis\":{\"gridcolor\":\"white\",\"linecolor\":\"white\",\"ticks\":\"\"}},\"title\":{\"x\":0.05},\"xaxis\":{\"automargin\":true,\"gridcolor\":\"white\",\"linecolor\":\"white\",\"ticks\":\"\",\"title\":{\"standoff\":15},\"zerolinecolor\":\"white\",\"zerolinewidth\":2},\"yaxis\":{\"automargin\":true,\"gridcolor\":\"white\",\"linecolor\":\"white\",\"ticks\":\"\",\"title\":{\"standoff\":15},\"zerolinecolor\":\"white\",\"zerolinewidth\":2}}},\"xaxis\":{\"anchor\":\"y\",\"domain\":[0.0,1.0],\"title\":{\"text\":\"Deaths\"}},\"yaxis\":{\"anchor\":\"x\",\"domain\":[0.0,1.0],\"title\":{\"text\":\"sum of Recovered\"}}},                        {\"responsive\": true}                    ).then(function(){\n",
       "                            \n",
       "var gd = document.getElementById('541a20e5-65c6-4c42-bb7b-a1f764b1ee96');\n",
       "var x = new MutationObserver(function (mutations, observer) {{\n",
       "        var display = window.getComputedStyle(gd).display;\n",
       "        if (!display || display === 'none') {{\n",
       "            console.log([gd, 'removed!']);\n",
       "            Plotly.purge(gd);\n",
       "            observer.disconnect();\n",
       "        }}\n",
       "}});\n",
       "\n",
       "// Listen for the removal of the full notebook cells\n",
       "var notebookContainer = gd.closest('#notebook-container');\n",
       "if (notebookContainer) {{\n",
       "    x.observe(notebookContainer, {childList: true});\n",
       "}}\n",
       "\n",
       "// Listen for the clearing of the current output cell\n",
       "var outputEl = gd.closest('.output');\n",
       "if (outputEl) {{\n",
       "    x.observe(outputEl, {childList: true});\n",
       "}}\n",
       "\n",
       "                        })                };                });            </script>        </div>"
      ]
     },
     "metadata": {},
     "output_type": "display_data"
    }
   ],
   "source": [
    "px.histogram(df_prophet, x=\"Deaths\", y=\"Recovered\", color=\"Active\")"
   ]
  },
  {
   "cell_type": "code",
   "execution_count": 15,
   "id": "da145768",
   "metadata": {
    "execution": {
     "iopub.execute_input": "2021-09-08T15:20:48.367668Z",
     "iopub.status.busy": "2021-09-08T15:20:48.367015Z",
     "iopub.status.idle": "2021-09-08T15:20:48.432305Z",
     "shell.execute_reply": "2021-09-08T15:20:48.431772Z",
     "shell.execute_reply.started": "2021-09-08T14:46:28.061950Z"
    },
    "papermill": {
     "duration": 0.109717,
     "end_time": "2021-09-08T15:20:48.432462",
     "exception": false,
     "start_time": "2021-09-08T15:20:48.322745",
     "status": "completed"
    },
    "tags": []
   },
   "outputs": [
    {
     "data": {
      "text/html": [
       "<div>                            <div id=\"4556bccf-c9eb-4d9a-a9c1-22d3bca307ac\" class=\"plotly-graph-div\" style=\"height:525px; width:100%;\"></div>            <script type=\"text/javascript\">                require([\"plotly\"], function(Plotly) {                    window.PLOTLYENV=window.PLOTLYENV || {};                                    if (document.getElementById(\"4556bccf-c9eb-4d9a-a9c1-22d3bca307ac\")) {                    Plotly.newPlot(                        \"4556bccf-c9eb-4d9a-a9c1-22d3bca307ac\",                        [{\"hovertemplate\":\"Deaths=%{r}<br>Recovered=%{theta}<extra></extra>\",\"legendgroup\":\"\",\"marker\":{\"color\":\"#636efa\",\"symbol\":\"circle\"},\"mode\":\"markers\",\"name\":\"\",\"r\":[17,18,26,42,56,82,131,133,171,213,259,362,426,492,564,634,719,806,906,1013,1113,1118,1371,1523,1666,1770,1868,2008,2123,2246,2250,2457,2467,2627,2707,2767,2810,2867,2936,2990,3079,3154,3249,3342,3454,3553,3797,3981,4260,4604,4909,5406,5823,6464,7144,7948,8845,9951,11429,13134,14831,16748,19016,21793,24800,28318,31997,35470,39634,44478,50029,56334,62319,68160,73181,79013,86915,93650,101279,108551,114620,120351,126098,132996,141308,148591,157481,163952,168522,173965,181122,187877,194727,201401,206979,210862,215511,221974,228742,234704,239881,245206,248659,252787,258658,265327,270736,276304,280569,284135,287608,293155,298383,303651,308866,313037,316366,319657,324441,329326,334112,339396,343385,346525,347703,351906,357119,361820,366562,370718,373606,376674,381497,387069,392218,396994,400875,403617,407314,412236,417441,422215,426512,430750,434124,437549,444416,449671,454700,460973,465222,469185,472756,478067,483328,489955,494782,499268,502357,506078,511210,516221,521341,526336,530705,534150,537947,544054,549373,554831,560142,565039,568993,572808,578468,583961,589760,596503,602130,606159,610319,616557,623540,633506,639650,644517,648621,654036],\"showlegend\":false,\"subplot\":\"polar\",\"theta\":[28,30,36,39,52,61,107,125,141,219,281,459,604,821,1071,1418,1903,2470,3057,3714,4417,4849,5930,7613,8902,10319,11951,13693,15394,17369,17966,21849,22304,24047,26652,29077,31919,35306,38314,41208,44085,46681,49619,52237,54270,56760,59092,60891,62802,65113,66434,68359,70729,74139,76192,78944,81427,83064,85509,89775,95990,96456,105997,111445,119804,128508,136800,146261,161707,174074,189434,206052,221060,241072,254477,270812,293665,322017,346349,367477,392991,411864,438395,463014,498925,529015,554287,577789,608557,629862,664043,693207,721689,771329,798239,825969,852382,884680,925752,989616,1026501,1066362,1097577,1130526,1166155,1210894,1249311,1284849,1337367,1370108,1416204,1452191,1506905,1545712,1592880,1648546,1688699,1740909,1792256,1850441,1900768,2008541,2062802,2117555,2180605,2235118,2297613,2363746,2440127,2509981,2585589,2639599,2743083,2821430,2890776,2959037,3030214,3084718,3235640,3317121,3395154,3480121,3558933,3644048,3714006,3793406,3890800,4008201,4088826,4183298,4298603,4366875,4458093,4561696,4677005,4769458,4875774,4981808,5070592,5164494,5281459,5397083,5681477,5790942,5986375,6105546,6228768,6373513,6531016,6665237,6804254,6929711,7041174,7181139,7322897,7482320,7634241,7793760,7944550,8032235,8190777,8364986,8541255,8710969,8939705,9158743,9293464,9468097],\"type\":\"scatterpolar\"}],                        {\"legend\":{\"tracegroupgap\":0},\"margin\":{\"t\":60},\"polar\":{\"angularaxis\":{\"direction\":\"clockwise\",\"rotation\":90},\"domain\":{\"x\":[0.0,1.0],\"y\":[0.0,1.0]}},\"template\":{\"data\":{\"bar\":[{\"error_x\":{\"color\":\"#2a3f5f\"},\"error_y\":{\"color\":\"#2a3f5f\"},\"marker\":{\"line\":{\"color\":\"#E5ECF6\",\"width\":0.5},\"pattern\":{\"fillmode\":\"overlay\",\"size\":10,\"solidity\":0.2}},\"type\":\"bar\"}],\"barpolar\":[{\"marker\":{\"line\":{\"color\":\"#E5ECF6\",\"width\":0.5},\"pattern\":{\"fillmode\":\"overlay\",\"size\":10,\"solidity\":0.2}},\"type\":\"barpolar\"}],\"carpet\":[{\"aaxis\":{\"endlinecolor\":\"#2a3f5f\",\"gridcolor\":\"white\",\"linecolor\":\"white\",\"minorgridcolor\":\"white\",\"startlinecolor\":\"#2a3f5f\"},\"baxis\":{\"endlinecolor\":\"#2a3f5f\",\"gridcolor\":\"white\",\"linecolor\":\"white\",\"minorgridcolor\":\"white\",\"startlinecolor\":\"#2a3f5f\"},\"type\":\"carpet\"}],\"choropleth\":[{\"colorbar\":{\"outlinewidth\":0,\"ticks\":\"\"},\"type\":\"choropleth\"}],\"contour\":[{\"colorbar\":{\"outlinewidth\":0,\"ticks\":\"\"},\"colorscale\":[[0.0,\"#0d0887\"],[0.1111111111111111,\"#46039f\"],[0.2222222222222222,\"#7201a8\"],[0.3333333333333333,\"#9c179e\"],[0.4444444444444444,\"#bd3786\"],[0.5555555555555556,\"#d8576b\"],[0.6666666666666666,\"#ed7953\"],[0.7777777777777778,\"#fb9f3a\"],[0.8888888888888888,\"#fdca26\"],[1.0,\"#f0f921\"]],\"type\":\"contour\"}],\"contourcarpet\":[{\"colorbar\":{\"outlinewidth\":0,\"ticks\":\"\"},\"type\":\"contourcarpet\"}],\"heatmap\":[{\"colorbar\":{\"outlinewidth\":0,\"ticks\":\"\"},\"colorscale\":[[0.0,\"#0d0887\"],[0.1111111111111111,\"#46039f\"],[0.2222222222222222,\"#7201a8\"],[0.3333333333333333,\"#9c179e\"],[0.4444444444444444,\"#bd3786\"],[0.5555555555555556,\"#d8576b\"],[0.6666666666666666,\"#ed7953\"],[0.7777777777777778,\"#fb9f3a\"],[0.8888888888888888,\"#fdca26\"],[1.0,\"#f0f921\"]],\"type\":\"heatmap\"}],\"heatmapgl\":[{\"colorbar\":{\"outlinewidth\":0,\"ticks\":\"\"},\"colorscale\":[[0.0,\"#0d0887\"],[0.1111111111111111,\"#46039f\"],[0.2222222222222222,\"#7201a8\"],[0.3333333333333333,\"#9c179e\"],[0.4444444444444444,\"#bd3786\"],[0.5555555555555556,\"#d8576b\"],[0.6666666666666666,\"#ed7953\"],[0.7777777777777778,\"#fb9f3a\"],[0.8888888888888888,\"#fdca26\"],[1.0,\"#f0f921\"]],\"type\":\"heatmapgl\"}],\"histogram\":[{\"marker\":{\"pattern\":{\"fillmode\":\"overlay\",\"size\":10,\"solidity\":0.2}},\"type\":\"histogram\"}],\"histogram2d\":[{\"colorbar\":{\"outlinewidth\":0,\"ticks\":\"\"},\"colorscale\":[[0.0,\"#0d0887\"],[0.1111111111111111,\"#46039f\"],[0.2222222222222222,\"#7201a8\"],[0.3333333333333333,\"#9c179e\"],[0.4444444444444444,\"#bd3786\"],[0.5555555555555556,\"#d8576b\"],[0.6666666666666666,\"#ed7953\"],[0.7777777777777778,\"#fb9f3a\"],[0.8888888888888888,\"#fdca26\"],[1.0,\"#f0f921\"]],\"type\":\"histogram2d\"}],\"histogram2dcontour\":[{\"colorbar\":{\"outlinewidth\":0,\"ticks\":\"\"},\"colorscale\":[[0.0,\"#0d0887\"],[0.1111111111111111,\"#46039f\"],[0.2222222222222222,\"#7201a8\"],[0.3333333333333333,\"#9c179e\"],[0.4444444444444444,\"#bd3786\"],[0.5555555555555556,\"#d8576b\"],[0.6666666666666666,\"#ed7953\"],[0.7777777777777778,\"#fb9f3a\"],[0.8888888888888888,\"#fdca26\"],[1.0,\"#f0f921\"]],\"type\":\"histogram2dcontour\"}],\"mesh3d\":[{\"colorbar\":{\"outlinewidth\":0,\"ticks\":\"\"},\"type\":\"mesh3d\"}],\"parcoords\":[{\"line\":{\"colorbar\":{\"outlinewidth\":0,\"ticks\":\"\"}},\"type\":\"parcoords\"}],\"pie\":[{\"automargin\":true,\"type\":\"pie\"}],\"scatter\":[{\"marker\":{\"colorbar\":{\"outlinewidth\":0,\"ticks\":\"\"}},\"type\":\"scatter\"}],\"scatter3d\":[{\"line\":{\"colorbar\":{\"outlinewidth\":0,\"ticks\":\"\"}},\"marker\":{\"colorbar\":{\"outlinewidth\":0,\"ticks\":\"\"}},\"type\":\"scatter3d\"}],\"scattercarpet\":[{\"marker\":{\"colorbar\":{\"outlinewidth\":0,\"ticks\":\"\"}},\"type\":\"scattercarpet\"}],\"scattergeo\":[{\"marker\":{\"colorbar\":{\"outlinewidth\":0,\"ticks\":\"\"}},\"type\":\"scattergeo\"}],\"scattergl\":[{\"marker\":{\"colorbar\":{\"outlinewidth\":0,\"ticks\":\"\"}},\"type\":\"scattergl\"}],\"scattermapbox\":[{\"marker\":{\"colorbar\":{\"outlinewidth\":0,\"ticks\":\"\"}},\"type\":\"scattermapbox\"}],\"scatterpolar\":[{\"marker\":{\"colorbar\":{\"outlinewidth\":0,\"ticks\":\"\"}},\"type\":\"scatterpolar\"}],\"scatterpolargl\":[{\"marker\":{\"colorbar\":{\"outlinewidth\":0,\"ticks\":\"\"}},\"type\":\"scatterpolargl\"}],\"scatterternary\":[{\"marker\":{\"colorbar\":{\"outlinewidth\":0,\"ticks\":\"\"}},\"type\":\"scatterternary\"}],\"surface\":[{\"colorbar\":{\"outlinewidth\":0,\"ticks\":\"\"},\"colorscale\":[[0.0,\"#0d0887\"],[0.1111111111111111,\"#46039f\"],[0.2222222222222222,\"#7201a8\"],[0.3333333333333333,\"#9c179e\"],[0.4444444444444444,\"#bd3786\"],[0.5555555555555556,\"#d8576b\"],[0.6666666666666666,\"#ed7953\"],[0.7777777777777778,\"#fb9f3a\"],[0.8888888888888888,\"#fdca26\"],[1.0,\"#f0f921\"]],\"type\":\"surface\"}],\"table\":[{\"cells\":{\"fill\":{\"color\":\"#EBF0F8\"},\"line\":{\"color\":\"white\"}},\"header\":{\"fill\":{\"color\":\"#C8D4E3\"},\"line\":{\"color\":\"white\"}},\"type\":\"table\"}]},\"layout\":{\"annotationdefaults\":{\"arrowcolor\":\"#2a3f5f\",\"arrowhead\":0,\"arrowwidth\":1},\"autotypenumbers\":\"strict\",\"coloraxis\":{\"colorbar\":{\"outlinewidth\":0,\"ticks\":\"\"}},\"colorscale\":{\"diverging\":[[0,\"#8e0152\"],[0.1,\"#c51b7d\"],[0.2,\"#de77ae\"],[0.3,\"#f1b6da\"],[0.4,\"#fde0ef\"],[0.5,\"#f7f7f7\"],[0.6,\"#e6f5d0\"],[0.7,\"#b8e186\"],[0.8,\"#7fbc41\"],[0.9,\"#4d9221\"],[1,\"#276419\"]],\"sequential\":[[0.0,\"#0d0887\"],[0.1111111111111111,\"#46039f\"],[0.2222222222222222,\"#7201a8\"],[0.3333333333333333,\"#9c179e\"],[0.4444444444444444,\"#bd3786\"],[0.5555555555555556,\"#d8576b\"],[0.6666666666666666,\"#ed7953\"],[0.7777777777777778,\"#fb9f3a\"],[0.8888888888888888,\"#fdca26\"],[1.0,\"#f0f921\"]],\"sequentialminus\":[[0.0,\"#0d0887\"],[0.1111111111111111,\"#46039f\"],[0.2222222222222222,\"#7201a8\"],[0.3333333333333333,\"#9c179e\"],[0.4444444444444444,\"#bd3786\"],[0.5555555555555556,\"#d8576b\"],[0.6666666666666666,\"#ed7953\"],[0.7777777777777778,\"#fb9f3a\"],[0.8888888888888888,\"#fdca26\"],[1.0,\"#f0f921\"]]},\"colorway\":[\"#636efa\",\"#EF553B\",\"#00cc96\",\"#ab63fa\",\"#FFA15A\",\"#19d3f3\",\"#FF6692\",\"#B6E880\",\"#FF97FF\",\"#FECB52\"],\"font\":{\"color\":\"#2a3f5f\"},\"geo\":{\"bgcolor\":\"white\",\"lakecolor\":\"white\",\"landcolor\":\"#E5ECF6\",\"showlakes\":true,\"showland\":true,\"subunitcolor\":\"white\"},\"hoverlabel\":{\"align\":\"left\"},\"hovermode\":\"closest\",\"mapbox\":{\"style\":\"light\"},\"paper_bgcolor\":\"white\",\"plot_bgcolor\":\"#E5ECF6\",\"polar\":{\"angularaxis\":{\"gridcolor\":\"white\",\"linecolor\":\"white\",\"ticks\":\"\"},\"bgcolor\":\"#E5ECF6\",\"radialaxis\":{\"gridcolor\":\"white\",\"linecolor\":\"white\",\"ticks\":\"\"}},\"scene\":{\"xaxis\":{\"backgroundcolor\":\"#E5ECF6\",\"gridcolor\":\"white\",\"gridwidth\":2,\"linecolor\":\"white\",\"showbackground\":true,\"ticks\":\"\",\"zerolinecolor\":\"white\"},\"yaxis\":{\"backgroundcolor\":\"#E5ECF6\",\"gridcolor\":\"white\",\"gridwidth\":2,\"linecolor\":\"white\",\"showbackground\":true,\"ticks\":\"\",\"zerolinecolor\":\"white\"},\"zaxis\":{\"backgroundcolor\":\"#E5ECF6\",\"gridcolor\":\"white\",\"gridwidth\":2,\"linecolor\":\"white\",\"showbackground\":true,\"ticks\":\"\",\"zerolinecolor\":\"white\"}},\"shapedefaults\":{\"line\":{\"color\":\"#2a3f5f\"}},\"ternary\":{\"aaxis\":{\"gridcolor\":\"white\",\"linecolor\":\"white\",\"ticks\":\"\"},\"baxis\":{\"gridcolor\":\"white\",\"linecolor\":\"white\",\"ticks\":\"\"},\"bgcolor\":\"#E5ECF6\",\"caxis\":{\"gridcolor\":\"white\",\"linecolor\":\"white\",\"ticks\":\"\"}},\"title\":{\"x\":0.05},\"xaxis\":{\"automargin\":true,\"gridcolor\":\"white\",\"linecolor\":\"white\",\"ticks\":\"\",\"title\":{\"standoff\":15},\"zerolinecolor\":\"white\",\"zerolinewidth\":2},\"yaxis\":{\"automargin\":true,\"gridcolor\":\"white\",\"linecolor\":\"white\",\"ticks\":\"\",\"title\":{\"standoff\":15},\"zerolinecolor\":\"white\",\"zerolinewidth\":2}}}},                        {\"responsive\": true}                    ).then(function(){\n",
       "                            \n",
       "var gd = document.getElementById('4556bccf-c9eb-4d9a-a9c1-22d3bca307ac');\n",
       "var x = new MutationObserver(function (mutations, observer) {{\n",
       "        var display = window.getComputedStyle(gd).display;\n",
       "        if (!display || display === 'none') {{\n",
       "            console.log([gd, 'removed!']);\n",
       "            Plotly.purge(gd);\n",
       "            observer.disconnect();\n",
       "        }}\n",
       "}});\n",
       "\n",
       "// Listen for the removal of the full notebook cells\n",
       "var notebookContainer = gd.closest('#notebook-container');\n",
       "if (notebookContainer) {{\n",
       "    x.observe(notebookContainer, {childList: true});\n",
       "}}\n",
       "\n",
       "// Listen for the clearing of the current output cell\n",
       "var outputEl = gd.closest('.output');\n",
       "if (outputEl) {{\n",
       "    x.observe(outputEl, {childList: true});\n",
       "}}\n",
       "\n",
       "                        })                };                });            </script>        </div>"
      ]
     },
     "metadata": {},
     "output_type": "display_data"
    }
   ],
   "source": [
    "px.scatter_polar(df_prophet, r=\"Deaths\", theta=\"Recovered\")"
   ]
  },
  {
   "cell_type": "markdown",
   "id": "f34baa09",
   "metadata": {
    "papermill": {
     "duration": 0.034282,
     "end_time": "2021-09-08T15:20:48.500744",
     "exception": false,
     "start_time": "2021-09-08T15:20:48.466462",
     "status": "completed"
    },
    "tags": []
   },
   "source": [
    "<a id=\"3.2\"></a>\n",
    "# <p style=\"background-color:#627D78;font-family:newtimeroman;color:#D5CABD;font-size:150%;text-align:center;border-radius:20px 60px;\">Creat Model by using Prophet </p>\n"
   ]
  },
  {
   "cell_type": "code",
   "execution_count": 16,
   "id": "78336389",
   "metadata": {
    "execution": {
     "iopub.execute_input": "2021-09-08T15:20:48.572852Z",
     "iopub.status.busy": "2021-09-08T15:20:48.572246Z",
     "iopub.status.idle": "2021-09-08T15:20:50.129353Z",
     "shell.execute_reply": "2021-09-08T15:20:50.128652Z",
     "shell.execute_reply.started": "2021-09-08T14:49:30.332844Z"
    },
    "papermill": {
     "duration": 1.594735,
     "end_time": "2021-09-08T15:20:50.129520",
     "exception": false,
     "start_time": "2021-09-08T15:20:48.534785",
     "status": "completed"
    },
    "tags": []
   },
   "outputs": [],
   "source": [
    "m=Prophet()"
   ]
  },
  {
   "cell_type": "code",
   "execution_count": 17,
   "id": "7f291dd0",
   "metadata": {
    "execution": {
     "iopub.execute_input": "2021-09-08T15:20:50.223359Z",
     "iopub.status.busy": "2021-09-08T15:20:50.213399Z",
     "iopub.status.idle": "2021-09-08T15:20:50.357954Z",
     "shell.execute_reply": "2021-09-08T15:20:50.357409Z",
     "shell.execute_reply.started": "2021-09-08T14:52:49.329229Z"
    },
    "papermill": {
     "duration": 0.195116,
     "end_time": "2021-09-08T15:20:50.358117",
     "exception": false,
     "start_time": "2021-09-08T15:20:50.163001",
     "status": "completed"
    },
    "tags": []
   },
   "outputs": [],
   "source": [
    "model=m.fit(df_prophet)"
   ]
  },
  {
   "cell_type": "code",
   "execution_count": 18,
   "id": "16b47044",
   "metadata": {
    "execution": {
     "iopub.execute_input": "2021-09-08T15:20:50.430523Z",
     "iopub.status.busy": "2021-09-08T15:20:50.429673Z",
     "iopub.status.idle": "2021-09-08T15:20:50.433778Z",
     "shell.execute_reply": "2021-09-08T15:20:50.433316Z",
     "shell.execute_reply.started": "2021-09-08T14:51:19.361218Z"
    },
    "papermill": {
     "duration": 0.042031,
     "end_time": "2021-09-08T15:20:50.433911",
     "exception": false,
     "start_time": "2021-09-08T15:20:50.391880",
     "status": "completed"
    },
    "tags": []
   },
   "outputs": [
    {
     "data": {
      "text/plain": [
       "OrderedDict([('weekly',\n",
       "              {'period': 7,\n",
       "               'fourier_order': 3,\n",
       "               'prior_scale': 10.0,\n",
       "               'mode': 'additive',\n",
       "               'condition_name': None})])"
      ]
     },
     "execution_count": 18,
     "metadata": {},
     "output_type": "execute_result"
    }
   ],
   "source": [
    "model.seasonalities"
   ]
  },
  {
   "cell_type": "markdown",
   "id": "84673e5c",
   "metadata": {
    "papermill": {
     "duration": 0.033243,
     "end_time": "2021-09-08T15:20:50.501431",
     "exception": false,
     "start_time": "2021-09-08T15:20:50.468188",
     "status": "completed"
    },
    "tags": []
   },
   "source": [
    "### Make a prediction\n",
    "    for Now going to do forecasting so to do forecasting I need some Future Days"
   ]
  },
  {
   "cell_type": "code",
   "execution_count": 19,
   "id": "c6f9a980",
   "metadata": {
    "execution": {
     "iopub.execute_input": "2021-09-08T15:20:50.582035Z",
     "iopub.status.busy": "2021-09-08T15:20:50.581196Z",
     "iopub.status.idle": "2021-09-08T15:20:50.584729Z",
     "shell.execute_reply": "2021-09-08T15:20:50.585208Z",
     "shell.execute_reply.started": "2021-09-08T14:53:15.985585Z"
    },
    "papermill": {
     "duration": 0.049918,
     "end_time": "2021-09-08T15:20:50.585366",
     "exception": false,
     "start_time": "2021-09-08T15:20:50.535448",
     "status": "completed"
    },
    "tags": []
   },
   "outputs": [
    {
     "data": {
      "text/html": [
       "<div>\n",
       "<style scoped>\n",
       "    .dataframe tbody tr th:only-of-type {\n",
       "        vertical-align: middle;\n",
       "    }\n",
       "\n",
       "    .dataframe tbody tr th {\n",
       "        vertical-align: top;\n",
       "    }\n",
       "\n",
       "    .dataframe thead th {\n",
       "        text-align: right;\n",
       "    }\n",
       "</style>\n",
       "<table border=\"1\" class=\"dataframe\">\n",
       "  <thead>\n",
       "    <tr style=\"text-align: right;\">\n",
       "      <th></th>\n",
       "      <th>ds</th>\n",
       "    </tr>\n",
       "  </thead>\n",
       "  <tbody>\n",
       "    <tr>\n",
       "      <th>0</th>\n",
       "      <td>2020-01-22</td>\n",
       "    </tr>\n",
       "    <tr>\n",
       "      <th>1</th>\n",
       "      <td>2020-01-23</td>\n",
       "    </tr>\n",
       "    <tr>\n",
       "      <th>2</th>\n",
       "      <td>2020-01-24</td>\n",
       "    </tr>\n",
       "    <tr>\n",
       "      <th>3</th>\n",
       "      <td>2020-01-25</td>\n",
       "    </tr>\n",
       "    <tr>\n",
       "      <th>4</th>\n",
       "      <td>2020-01-26</td>\n",
       "    </tr>\n",
       "    <tr>\n",
       "      <th>...</th>\n",
       "      <td>...</td>\n",
       "    </tr>\n",
       "    <tr>\n",
       "      <th>213</th>\n",
       "      <td>2020-08-22</td>\n",
       "    </tr>\n",
       "    <tr>\n",
       "      <th>214</th>\n",
       "      <td>2020-08-23</td>\n",
       "    </tr>\n",
       "    <tr>\n",
       "      <th>215</th>\n",
       "      <td>2020-08-24</td>\n",
       "    </tr>\n",
       "    <tr>\n",
       "      <th>216</th>\n",
       "      <td>2020-08-25</td>\n",
       "    </tr>\n",
       "    <tr>\n",
       "      <th>217</th>\n",
       "      <td>2020-08-26</td>\n",
       "    </tr>\n",
       "  </tbody>\n",
       "</table>\n",
       "<p>218 rows × 1 columns</p>\n",
       "</div>"
      ],
      "text/plain": [
       "            ds\n",
       "0   2020-01-22\n",
       "1   2020-01-23\n",
       "2   2020-01-24\n",
       "3   2020-01-25\n",
       "4   2020-01-26\n",
       "..         ...\n",
       "213 2020-08-22\n",
       "214 2020-08-23\n",
       "215 2020-08-24\n",
       "216 2020-08-25\n",
       "217 2020-08-26\n",
       "\n",
       "[218 rows x 1 columns]"
      ]
     },
     "execution_count": 19,
     "metadata": {},
     "output_type": "execute_result"
    }
   ],
   "source": [
    "### ### now I am going to do forecasting so to do forecasting I need some Future Days \n",
    "future_global=model.make_future_dataframe(periods=30,freq='D')\n",
    "future_global"
   ]
  },
  {
   "cell_type": "code",
   "execution_count": 20,
   "id": "4d7610fb",
   "metadata": {
    "execution": {
     "iopub.execute_input": "2021-09-08T15:20:50.659315Z",
     "iopub.status.busy": "2021-09-08T15:20:50.658488Z",
     "iopub.status.idle": "2021-09-08T15:20:50.662524Z",
     "shell.execute_reply": "2021-09-08T15:20:50.661944Z",
     "shell.execute_reply.started": "2021-09-08T14:55:26.138948Z"
    },
    "papermill": {
     "duration": 0.043153,
     "end_time": "2021-09-08T15:20:50.662658",
     "exception": false,
     "start_time": "2021-09-08T15:20:50.619505",
     "status": "completed"
    },
    "tags": []
   },
   "outputs": [
    {
     "data": {
      "text/plain": [
       "(188, 5)"
      ]
     },
     "execution_count": 20,
     "metadata": {},
     "output_type": "execute_result"
    }
   ],
   "source": [
    "df_prophet.shape"
   ]
  },
  {
   "cell_type": "code",
   "execution_count": 21,
   "id": "b74ee4fa",
   "metadata": {
    "execution": {
     "iopub.execute_input": "2021-09-08T15:20:50.759699Z",
     "iopub.status.busy": "2021-09-08T15:20:50.758730Z",
     "iopub.status.idle": "2021-09-08T15:20:50.762975Z",
     "shell.execute_reply": "2021-09-08T15:20:50.762464Z",
     "shell.execute_reply.started": "2021-09-08T14:55:36.855837Z"
    },
    "papermill": {
     "duration": 0.064769,
     "end_time": "2021-09-08T15:20:50.763104",
     "exception": false,
     "start_time": "2021-09-08T15:20:50.698335",
     "status": "completed"
    },
    "tags": []
   },
   "outputs": [
    {
     "data": {
      "text/plain": [
       "(218, 1)"
      ]
     },
     "execution_count": 21,
     "metadata": {},
     "output_type": "execute_result"
    }
   ],
   "source": [
    "future_global.shape"
   ]
  },
  {
   "cell_type": "markdown",
   "id": "7f27e3b6",
   "metadata": {
    "papermill": {
     "duration": 0.034543,
     "end_time": "2021-09-08T15:20:50.833590",
     "exception": false,
     "start_time": "2021-09-08T15:20:50.799047",
     "status": "completed"
    },
    "tags": []
   },
   "source": [
    "##### we see the different in the shape for future_global and df_prophet "
   ]
  },
  {
   "cell_type": "code",
   "execution_count": 22,
   "id": "da73683f",
   "metadata": {
    "execution": {
     "iopub.execute_input": "2021-09-08T15:20:50.906723Z",
     "iopub.status.busy": "2021-09-08T15:20:50.905780Z",
     "iopub.status.idle": "2021-09-08T15:20:50.912439Z",
     "shell.execute_reply": "2021-09-08T15:20:50.912970Z",
     "shell.execute_reply.started": "2021-09-08T14:56:23.008729Z"
    },
    "papermill": {
     "duration": 0.044634,
     "end_time": "2021-09-08T15:20:50.913129",
     "exception": false,
     "start_time": "2021-09-08T15:20:50.868495",
     "status": "completed"
    },
    "tags": []
   },
   "outputs": [
    {
     "data": {
      "text/plain": [
       "183   2020-07-23\n",
       "184   2020-07-24\n",
       "185   2020-07-25\n",
       "186   2020-07-26\n",
       "187   2020-07-27\n",
       "Name: ds, dtype: datetime64[ns]"
      ]
     },
     "execution_count": 22,
     "metadata": {},
     "output_type": "execute_result"
    }
   ],
   "source": [
    "df_prophet['ds'].tail()"
   ]
  },
  {
   "cell_type": "code",
   "execution_count": 23,
   "id": "183b9ccc",
   "metadata": {
    "execution": {
     "iopub.execute_input": "2021-09-08T15:20:51.002610Z",
     "iopub.status.busy": "2021-09-08T15:20:50.994578Z",
     "iopub.status.idle": "2021-09-08T15:20:52.824224Z",
     "shell.execute_reply": "2021-09-08T15:20:52.823712Z",
     "shell.execute_reply.started": "2021-09-08T14:56:45.533044Z"
    },
    "papermill": {
     "duration": 1.876041,
     "end_time": "2021-09-08T15:20:52.824400",
     "exception": false,
     "start_time": "2021-09-08T15:20:50.948359",
     "status": "completed"
    },
    "tags": []
   },
   "outputs": [
    {
     "data": {
      "text/html": [
       "<div>\n",
       "<style scoped>\n",
       "    .dataframe tbody tr th:only-of-type {\n",
       "        vertical-align: middle;\n",
       "    }\n",
       "\n",
       "    .dataframe tbody tr th {\n",
       "        vertical-align: top;\n",
       "    }\n",
       "\n",
       "    .dataframe thead th {\n",
       "        text-align: right;\n",
       "    }\n",
       "</style>\n",
       "<table border=\"1\" class=\"dataframe\">\n",
       "  <thead>\n",
       "    <tr style=\"text-align: right;\">\n",
       "      <th></th>\n",
       "      <th>ds</th>\n",
       "      <th>trend</th>\n",
       "      <th>yhat_lower</th>\n",
       "      <th>yhat_upper</th>\n",
       "      <th>trend_lower</th>\n",
       "      <th>trend_upper</th>\n",
       "      <th>additive_terms</th>\n",
       "      <th>additive_terms_lower</th>\n",
       "      <th>additive_terms_upper</th>\n",
       "      <th>weekly</th>\n",
       "      <th>weekly_lower</th>\n",
       "      <th>weekly_upper</th>\n",
       "      <th>multiplicative_terms</th>\n",
       "      <th>multiplicative_terms_lower</th>\n",
       "      <th>multiplicative_terms_upper</th>\n",
       "      <th>yhat</th>\n",
       "    </tr>\n",
       "  </thead>\n",
       "  <tbody>\n",
       "    <tr>\n",
       "      <th>0</th>\n",
       "      <td>2020-01-22</td>\n",
       "      <td>-9.323896e+03</td>\n",
       "      <td>-1.297323e+05</td>\n",
       "      <td>8.774862e+04</td>\n",
       "      <td>-9.323896e+03</td>\n",
       "      <td>-9.323896e+03</td>\n",
       "      <td>-10979.704311</td>\n",
       "      <td>-10979.704311</td>\n",
       "      <td>-10979.704311</td>\n",
       "      <td>-10979.704311</td>\n",
       "      <td>-10979.704311</td>\n",
       "      <td>-10979.704311</td>\n",
       "      <td>0.0</td>\n",
       "      <td>0.0</td>\n",
       "      <td>0.0</td>\n",
       "      <td>-2.030360e+04</td>\n",
       "    </tr>\n",
       "    <tr>\n",
       "      <th>1</th>\n",
       "      <td>2020-01-23</td>\n",
       "      <td>-6.626094e+03</td>\n",
       "      <td>-1.110300e+05</td>\n",
       "      <td>8.794266e+04</td>\n",
       "      <td>-6.626094e+03</td>\n",
       "      <td>-6.626094e+03</td>\n",
       "      <td>-1101.212489</td>\n",
       "      <td>-1101.212489</td>\n",
       "      <td>-1101.212489</td>\n",
       "      <td>-1101.212489</td>\n",
       "      <td>-1101.212489</td>\n",
       "      <td>-1101.212489</td>\n",
       "      <td>0.0</td>\n",
       "      <td>0.0</td>\n",
       "      <td>0.0</td>\n",
       "      <td>-7.727307e+03</td>\n",
       "    </tr>\n",
       "    <tr>\n",
       "      <th>2</th>\n",
       "      <td>2020-01-24</td>\n",
       "      <td>-3.928293e+03</td>\n",
       "      <td>-9.681815e+04</td>\n",
       "      <td>1.155159e+05</td>\n",
       "      <td>-3.928293e+03</td>\n",
       "      <td>-3.928293e+03</td>\n",
       "      <td>10055.768575</td>\n",
       "      <td>10055.768575</td>\n",
       "      <td>10055.768575</td>\n",
       "      <td>10055.768575</td>\n",
       "      <td>10055.768575</td>\n",
       "      <td>10055.768575</td>\n",
       "      <td>0.0</td>\n",
       "      <td>0.0</td>\n",
       "      <td>0.0</td>\n",
       "      <td>6.127475e+03</td>\n",
       "    </tr>\n",
       "    <tr>\n",
       "      <th>3</th>\n",
       "      <td>2020-01-25</td>\n",
       "      <td>-1.230492e+03</td>\n",
       "      <td>-9.386097e+04</td>\n",
       "      <td>1.177734e+05</td>\n",
       "      <td>-1.230492e+03</td>\n",
       "      <td>-1.230492e+03</td>\n",
       "      <td>13728.634691</td>\n",
       "      <td>13728.634691</td>\n",
       "      <td>13728.634691</td>\n",
       "      <td>13728.634691</td>\n",
       "      <td>13728.634691</td>\n",
       "      <td>13728.634691</td>\n",
       "      <td>0.0</td>\n",
       "      <td>0.0</td>\n",
       "      <td>0.0</td>\n",
       "      <td>1.249814e+04</td>\n",
       "    </tr>\n",
       "    <tr>\n",
       "      <th>4</th>\n",
       "      <td>2020-01-26</td>\n",
       "      <td>1.467309e+03</td>\n",
       "      <td>-9.767620e+04</td>\n",
       "      <td>1.091464e+05</td>\n",
       "      <td>1.467309e+03</td>\n",
       "      <td>1.467309e+03</td>\n",
       "      <td>7278.808727</td>\n",
       "      <td>7278.808727</td>\n",
       "      <td>7278.808727</td>\n",
       "      <td>7278.808727</td>\n",
       "      <td>7278.808727</td>\n",
       "      <td>7278.808727</td>\n",
       "      <td>0.0</td>\n",
       "      <td>0.0</td>\n",
       "      <td>0.0</td>\n",
       "      <td>8.746118e+03</td>\n",
       "    </tr>\n",
       "    <tr>\n",
       "      <th>...</th>\n",
       "      <td>...</td>\n",
       "      <td>...</td>\n",
       "      <td>...</td>\n",
       "      <td>...</td>\n",
       "      <td>...</td>\n",
       "      <td>...</td>\n",
       "      <td>...</td>\n",
       "      <td>...</td>\n",
       "      <td>...</td>\n",
       "      <td>...</td>\n",
       "      <td>...</td>\n",
       "      <td>...</td>\n",
       "      <td>...</td>\n",
       "      <td>...</td>\n",
       "      <td>...</td>\n",
       "      <td>...</td>\n",
       "    </tr>\n",
       "    <tr>\n",
       "      <th>213</th>\n",
       "      <td>2020-08-22</td>\n",
       "      <td>2.144165e+07</td>\n",
       "      <td>2.105490e+07</td>\n",
       "      <td>2.182352e+07</td>\n",
       "      <td>2.106446e+07</td>\n",
       "      <td>2.180295e+07</td>\n",
       "      <td>13728.634691</td>\n",
       "      <td>13728.634691</td>\n",
       "      <td>13728.634691</td>\n",
       "      <td>13728.634691</td>\n",
       "      <td>13728.634691</td>\n",
       "      <td>13728.634691</td>\n",
       "      <td>0.0</td>\n",
       "      <td>0.0</td>\n",
       "      <td>0.0</td>\n",
       "      <td>2.145538e+07</td>\n",
       "    </tr>\n",
       "    <tr>\n",
       "      <th>214</th>\n",
       "      <td>2020-08-23</td>\n",
       "      <td>2.164576e+07</td>\n",
       "      <td>2.123762e+07</td>\n",
       "      <td>2.204867e+07</td>\n",
       "      <td>2.124869e+07</td>\n",
       "      <td>2.202497e+07</td>\n",
       "      <td>7278.808727</td>\n",
       "      <td>7278.808727</td>\n",
       "      <td>7278.808727</td>\n",
       "      <td>7278.808727</td>\n",
       "      <td>7278.808727</td>\n",
       "      <td>7278.808727</td>\n",
       "      <td>0.0</td>\n",
       "      <td>0.0</td>\n",
       "      <td>0.0</td>\n",
       "      <td>2.165304e+07</td>\n",
       "    </tr>\n",
       "    <tr>\n",
       "      <th>215</th>\n",
       "      <td>2020-08-24</td>\n",
       "      <td>2.184988e+07</td>\n",
       "      <td>2.140958e+07</td>\n",
       "      <td>2.227448e+07</td>\n",
       "      <td>2.142968e+07</td>\n",
       "      <td>2.225994e+07</td>\n",
       "      <td>-2146.590152</td>\n",
       "      <td>-2146.590152</td>\n",
       "      <td>-2146.590152</td>\n",
       "      <td>-2146.590152</td>\n",
       "      <td>-2146.590152</td>\n",
       "      <td>-2146.590152</td>\n",
       "      <td>0.0</td>\n",
       "      <td>0.0</td>\n",
       "      <td>0.0</td>\n",
       "      <td>2.184773e+07</td>\n",
       "    </tr>\n",
       "    <tr>\n",
       "      <th>216</th>\n",
       "      <td>2020-08-25</td>\n",
       "      <td>2.205399e+07</td>\n",
       "      <td>2.159144e+07</td>\n",
       "      <td>2.249185e+07</td>\n",
       "      <td>2.161123e+07</td>\n",
       "      <td>2.248815e+07</td>\n",
       "      <td>-16835.705042</td>\n",
       "      <td>-16835.705042</td>\n",
       "      <td>-16835.705042</td>\n",
       "      <td>-16835.705042</td>\n",
       "      <td>-16835.705042</td>\n",
       "      <td>-16835.705042</td>\n",
       "      <td>0.0</td>\n",
       "      <td>0.0</td>\n",
       "      <td>0.0</td>\n",
       "      <td>2.203715e+07</td>\n",
       "    </tr>\n",
       "    <tr>\n",
       "      <th>217</th>\n",
       "      <td>2020-08-26</td>\n",
       "      <td>2.225810e+07</td>\n",
       "      <td>2.175414e+07</td>\n",
       "      <td>2.271138e+07</td>\n",
       "      <td>2.179285e+07</td>\n",
       "      <td>2.271153e+07</td>\n",
       "      <td>-10979.704311</td>\n",
       "      <td>-10979.704311</td>\n",
       "      <td>-10979.704311</td>\n",
       "      <td>-10979.704311</td>\n",
       "      <td>-10979.704311</td>\n",
       "      <td>-10979.704311</td>\n",
       "      <td>0.0</td>\n",
       "      <td>0.0</td>\n",
       "      <td>0.0</td>\n",
       "      <td>2.224712e+07</td>\n",
       "    </tr>\n",
       "  </tbody>\n",
       "</table>\n",
       "<p>218 rows × 16 columns</p>\n",
       "</div>"
      ],
      "text/plain": [
       "            ds         trend    yhat_lower    yhat_upper   trend_lower  \\\n",
       "0   2020-01-22 -9.323896e+03 -1.297323e+05  8.774862e+04 -9.323896e+03   \n",
       "1   2020-01-23 -6.626094e+03 -1.110300e+05  8.794266e+04 -6.626094e+03   \n",
       "2   2020-01-24 -3.928293e+03 -9.681815e+04  1.155159e+05 -3.928293e+03   \n",
       "3   2020-01-25 -1.230492e+03 -9.386097e+04  1.177734e+05 -1.230492e+03   \n",
       "4   2020-01-26  1.467309e+03 -9.767620e+04  1.091464e+05  1.467309e+03   \n",
       "..         ...           ...           ...           ...           ...   \n",
       "213 2020-08-22  2.144165e+07  2.105490e+07  2.182352e+07  2.106446e+07   \n",
       "214 2020-08-23  2.164576e+07  2.123762e+07  2.204867e+07  2.124869e+07   \n",
       "215 2020-08-24  2.184988e+07  2.140958e+07  2.227448e+07  2.142968e+07   \n",
       "216 2020-08-25  2.205399e+07  2.159144e+07  2.249185e+07  2.161123e+07   \n",
       "217 2020-08-26  2.225810e+07  2.175414e+07  2.271138e+07  2.179285e+07   \n",
       "\n",
       "      trend_upper  additive_terms  additive_terms_lower  additive_terms_upper  \\\n",
       "0   -9.323896e+03   -10979.704311         -10979.704311         -10979.704311   \n",
       "1   -6.626094e+03    -1101.212489          -1101.212489          -1101.212489   \n",
       "2   -3.928293e+03    10055.768575          10055.768575          10055.768575   \n",
       "3   -1.230492e+03    13728.634691          13728.634691          13728.634691   \n",
       "4    1.467309e+03     7278.808727           7278.808727           7278.808727   \n",
       "..            ...             ...                   ...                   ...   \n",
       "213  2.180295e+07    13728.634691          13728.634691          13728.634691   \n",
       "214  2.202497e+07     7278.808727           7278.808727           7278.808727   \n",
       "215  2.225994e+07    -2146.590152          -2146.590152          -2146.590152   \n",
       "216  2.248815e+07   -16835.705042         -16835.705042         -16835.705042   \n",
       "217  2.271153e+07   -10979.704311         -10979.704311         -10979.704311   \n",
       "\n",
       "           weekly  weekly_lower  weekly_upper  multiplicative_terms  \\\n",
       "0   -10979.704311 -10979.704311 -10979.704311                   0.0   \n",
       "1    -1101.212489  -1101.212489  -1101.212489                   0.0   \n",
       "2    10055.768575  10055.768575  10055.768575                   0.0   \n",
       "3    13728.634691  13728.634691  13728.634691                   0.0   \n",
       "4     7278.808727   7278.808727   7278.808727                   0.0   \n",
       "..            ...           ...           ...                   ...   \n",
       "213  13728.634691  13728.634691  13728.634691                   0.0   \n",
       "214   7278.808727   7278.808727   7278.808727                   0.0   \n",
       "215  -2146.590152  -2146.590152  -2146.590152                   0.0   \n",
       "216 -16835.705042 -16835.705042 -16835.705042                   0.0   \n",
       "217 -10979.704311 -10979.704311 -10979.704311                   0.0   \n",
       "\n",
       "     multiplicative_terms_lower  multiplicative_terms_upper          yhat  \n",
       "0                           0.0                         0.0 -2.030360e+04  \n",
       "1                           0.0                         0.0 -7.727307e+03  \n",
       "2                           0.0                         0.0  6.127475e+03  \n",
       "3                           0.0                         0.0  1.249814e+04  \n",
       "4                           0.0                         0.0  8.746118e+03  \n",
       "..                          ...                         ...           ...  \n",
       "213                         0.0                         0.0  2.145538e+07  \n",
       "214                         0.0                         0.0  2.165304e+07  \n",
       "215                         0.0                         0.0  2.184773e+07  \n",
       "216                         0.0                         0.0  2.203715e+07  \n",
       "217                         0.0                         0.0  2.224712e+07  \n",
       "\n",
       "[218 rows x 16 columns]"
      ]
     },
     "execution_count": 23,
     "metadata": {},
     "output_type": "execute_result"
    }
   ],
   "source": [
    "### now do Prediction on future_global\n",
    "prediction=model.predict(future_global)\n",
    "prediction"
   ]
  },
  {
   "cell_type": "markdown",
   "id": "e2ac4188",
   "metadata": {
    "papermill": {
     "duration": 0.074021,
     "end_time": "2021-09-08T15:20:52.939368",
     "exception": false,
     "start_time": "2021-09-08T15:20:52.865347",
     "status": "completed"
    },
    "tags": []
   },
   "source": [
    "### Now we make a prediction for date on feture_global"
   ]
  },
  {
   "cell_type": "code",
   "execution_count": 24,
   "id": "446dc869",
   "metadata": {
    "execution": {
     "iopub.execute_input": "2021-09-08T15:20:53.016348Z",
     "iopub.status.busy": "2021-09-08T15:20:53.015705Z",
     "iopub.status.idle": "2021-09-08T15:20:53.026260Z",
     "shell.execute_reply": "2021-09-08T15:20:53.026753Z",
     "shell.execute_reply.started": "2021-09-08T14:57:56.360224Z"
    },
    "papermill": {
     "duration": 0.051422,
     "end_time": "2021-09-08T15:20:53.026916",
     "exception": false,
     "start_time": "2021-09-08T15:20:52.975494",
     "status": "completed"
    },
    "tags": []
   },
   "outputs": [
    {
     "data": {
      "text/html": [
       "<div>\n",
       "<style scoped>\n",
       "    .dataframe tbody tr th:only-of-type {\n",
       "        vertical-align: middle;\n",
       "    }\n",
       "\n",
       "    .dataframe tbody tr th {\n",
       "        vertical-align: top;\n",
       "    }\n",
       "\n",
       "    .dataframe thead th {\n",
       "        text-align: right;\n",
       "    }\n",
       "</style>\n",
       "<table border=\"1\" class=\"dataframe\">\n",
       "  <thead>\n",
       "    <tr style=\"text-align: right;\">\n",
       "      <th></th>\n",
       "      <th>ds</th>\n",
       "      <th>yhat</th>\n",
       "      <th>yhat_lower</th>\n",
       "      <th>yhat_upper</th>\n",
       "    </tr>\n",
       "  </thead>\n",
       "  <tbody>\n",
       "    <tr>\n",
       "      <th>213</th>\n",
       "      <td>2020-08-22</td>\n",
       "      <td>2.145538e+07</td>\n",
       "      <td>2.105490e+07</td>\n",
       "      <td>2.182352e+07</td>\n",
       "    </tr>\n",
       "    <tr>\n",
       "      <th>214</th>\n",
       "      <td>2020-08-23</td>\n",
       "      <td>2.165304e+07</td>\n",
       "      <td>2.123762e+07</td>\n",
       "      <td>2.204867e+07</td>\n",
       "    </tr>\n",
       "    <tr>\n",
       "      <th>215</th>\n",
       "      <td>2020-08-24</td>\n",
       "      <td>2.184773e+07</td>\n",
       "      <td>2.140958e+07</td>\n",
       "      <td>2.227448e+07</td>\n",
       "    </tr>\n",
       "    <tr>\n",
       "      <th>216</th>\n",
       "      <td>2020-08-25</td>\n",
       "      <td>2.203715e+07</td>\n",
       "      <td>2.159144e+07</td>\n",
       "      <td>2.249185e+07</td>\n",
       "    </tr>\n",
       "    <tr>\n",
       "      <th>217</th>\n",
       "      <td>2020-08-26</td>\n",
       "      <td>2.224712e+07</td>\n",
       "      <td>2.175414e+07</td>\n",
       "      <td>2.271138e+07</td>\n",
       "    </tr>\n",
       "  </tbody>\n",
       "</table>\n",
       "</div>"
      ],
      "text/plain": [
       "            ds          yhat    yhat_lower    yhat_upper\n",
       "213 2020-08-22  2.145538e+07  2.105490e+07  2.182352e+07\n",
       "214 2020-08-23  2.165304e+07  2.123762e+07  2.204867e+07\n",
       "215 2020-08-24  2.184773e+07  2.140958e+07  2.227448e+07\n",
       "216 2020-08-25  2.203715e+07  2.159144e+07  2.249185e+07\n",
       "217 2020-08-26  2.224712e+07  2.175414e+07  2.271138e+07"
      ]
     },
     "execution_count": 24,
     "metadata": {},
     "output_type": "execute_result"
    }
   ],
   "source": [
    "prediction[['ds','yhat','yhat_lower','yhat_upper']].tail()"
   ]
  },
  {
   "cell_type": "markdown",
   "id": "91d0be63",
   "metadata": {
    "papermill": {
     "duration": 0.03561,
     "end_time": "2021-09-08T15:20:53.098180",
     "exception": false,
     "start_time": "2021-09-08T15:20:53.062570",
     "status": "completed"
    },
    "tags": []
   },
   "source": [
    "<a id=\"3.2\"></a>\n",
    "# <p style=\"background-color:#627D78;font-family:newtimeroman;color:#D5CABD;font-size:150%;text-align:center;border-radius:20px 60px;\">Plorting The prediction</p>"
   ]
  },
  {
   "cell_type": "code",
   "execution_count": 25,
   "id": "fc8ee381",
   "metadata": {
    "execution": {
     "iopub.execute_input": "2021-09-08T15:20:53.174139Z",
     "iopub.status.busy": "2021-09-08T15:20:53.173550Z",
     "iopub.status.idle": "2021-09-08T15:20:53.577094Z",
     "shell.execute_reply": "2021-09-08T15:20:53.576615Z",
     "shell.execute_reply.started": "2021-09-08T15:05:02.551260Z"
    },
    "papermill": {
     "duration": 0.442146,
     "end_time": "2021-09-08T15:20:53.577232",
     "exception": false,
     "start_time": "2021-09-08T15:20:53.135086",
     "status": "completed"
    },
    "tags": []
   },
   "outputs": [
    {
     "data": {
      "image/png": "[encoded data removed]",
      "text/plain": [
       "<Figure size 720x432 with 1 Axes>"
      ]
     },
     "execution_count": 25,
     "metadata": {},
     "output_type": "execute_result"
    },
    {
     "data": {
      "image/png": "[encoded data removed]",
      "text/plain": [
       "<Figure size 720x432 with 1 Axes>"
      ]
     },
     "metadata": {},
     "output_type": "display_data"
    }
   ],
   "source": [
    "#plot the  prediction \n",
    "model.plot(prediction)"
   ]
  },
  {
   "cell_type": "markdown",
   "id": "c085d494",
   "metadata": {
    "papermill": {
     "duration": 0.03736,
     "end_time": "2021-09-08T15:20:53.652622",
     "exception": false,
     "start_time": "2021-09-08T15:20:53.615262",
     "status": "completed"
    },
    "tags": []
   },
   "source": [
    "### Conclusion--> This is what our prediction looks like. The direction of overall case numbers is probably true, u will observe how cases rises exponentially"
   ]
  },
  {
   "cell_type": "code",
   "execution_count": 26,
   "id": "e8977dbd",
   "metadata": {
    "execution": {
     "iopub.execute_input": "2021-09-08T15:20:53.764121Z",
     "iopub.status.busy": "2021-09-08T15:20:53.763475Z",
     "iopub.status.idle": "2021-09-08T15:20:54.432376Z",
     "shell.execute_reply": "2021-09-08T15:20:54.432782Z",
     "shell.execute_reply.started": "2021-09-08T15:07:01.762847Z"
    },
    "papermill": {
     "duration": 0.742492,
     "end_time": "2021-09-08T15:20:54.432966",
     "exception": false,
     "start_time": "2021-09-08T15:20:53.690474",
     "status": "completed"
    },
    "tags": []
   },
   "outputs": [
    {
     "data": {
      "image/png": "[encoded data removed]",
      "text/plain": [
       "<Figure size 648x432 with 2 Axes>"
      ]
     },
     "execution_count": 26,
     "metadata": {},
     "output_type": "execute_result"
    },
    {
     "data": {
      "image/png": "[encoded data removed]",
      "text/plain": [
       "<Figure size 648x432 with 2 Axes>"
      ]
     },
     "metadata": {},
     "output_type": "display_data"
    }
   ],
   "source": [
    "model.plot_components(prediction)"
   ]
  },
  {
   "cell_type": "code",
   "execution_count": 27,
   "id": "82f0d176",
   "metadata": {
    "execution": {
     "iopub.execute_input": "2021-09-08T15:20:54.517021Z",
     "iopub.status.busy": "2021-09-08T15:20:54.516327Z",
     "iopub.status.idle": "2021-09-08T15:20:54.817440Z",
     "shell.execute_reply": "2021-09-08T15:20:54.817889Z",
     "shell.execute_reply.started": "2021-09-08T15:08:21.673986Z"
    },
    "papermill": {
     "duration": 0.344622,
     "end_time": "2021-09-08T15:20:54.818078",
     "exception": false,
     "start_time": "2021-09-08T15:20:54.473456",
     "status": "completed"
    },
    "tags": []
   },
   "outputs": [
    {
     "data": {
      "text/plain": [
       "[[<matplotlib.lines.Line2D at 0x7f61d4734950>],\n",
       " <matplotlib.lines.Line2D at 0x7f61d4806510>,\n",
       " <matplotlib.lines.Line2D at 0x7f61d4791210>,\n",
       " <matplotlib.lines.Line2D at 0x7f61d4749f50>,\n",
       " <matplotlib.lines.Line2D at 0x7f61d4749f90>,\n",
       " <matplotlib.lines.Line2D at 0x7f61d4749e50>,\n",
       " <matplotlib.lines.Line2D at 0x7f61d46e8b90>,\n",
       " <matplotlib.lines.Line2D at 0x7f61d4749cd0>,\n",
       " <matplotlib.lines.Line2D at 0x7f61d46e0f50>,\n",
       " <matplotlib.lines.Line2D at 0x7f61d4734f90>,\n",
       " <matplotlib.lines.Line2D at 0x7f61d4700a90>,\n",
       " <matplotlib.lines.Line2D at 0x7f61d4700690>,\n",
       " <matplotlib.lines.Line2D at 0x7f61d46f5850>,\n",
       " <matplotlib.lines.Line2D at 0x7f61d46f5690>,\n",
       " <matplotlib.lines.Line2D at 0x7f61d4714f50>]"
      ]
     },
     "execution_count": 27,
     "metadata": {},
     "output_type": "execute_result"
    },
    {
     "data": {
      "image/png": "[encoded data removed]",
      "text/plain": [
       "<Figure size 720x432 with 1 Axes>"
      ]
     },
     "metadata": {},
     "output_type": "display_data"
    }
   ],
   "source": [
    "fig=model.plot(prediction)\n",
    "\n",
    "a=add_changepoints_to_plot(fig.gca(),model,prediction)\n",
    "a"
   ]
  },
  {
   "cell_type": "code",
   "execution_count": 28,
   "id": "d47ea524",
   "metadata": {
    "execution": {
     "iopub.execute_input": "2021-09-08T15:20:54.912475Z",
     "iopub.status.busy": "2021-09-08T15:20:54.911374Z",
     "iopub.status.idle": "2021-09-08T15:21:05.584032Z",
     "shell.execute_reply": "2021-09-08T15:21:05.584506Z",
     "shell.execute_reply.started": "2021-09-08T15:12:19.626701Z"
    },
    "papermill": {
     "duration": 10.725256,
     "end_time": "2021-09-08T15:21:05.584767",
     "exception": false,
     "start_time": "2021-09-08T15:20:54.859511",
     "status": "completed"
    },
    "tags": []
   },
   "outputs": [
    {
     "data": {
      "application/vnd.jupyter.widget-view+json": {
       "model_id": "31c1ca165509425f9bf602403a2e9a40",
       "version_major": 2,
       "version_minor": 0
      },
      "text/plain": [
       "  0%|          | 0/5 [00:00<?, ?it/s]"
      ]
     },
     "metadata": {},
     "output_type": "display_data"
    },
    {
     "data": {
      "text/html": [
       "<div>\n",
       "<style scoped>\n",
       "    .dataframe tbody tr th:only-of-type {\n",
       "        vertical-align: middle;\n",
       "    }\n",
       "\n",
       "    .dataframe tbody tr th {\n",
       "        vertical-align: top;\n",
       "    }\n",
       "\n",
       "    .dataframe thead th {\n",
       "        text-align: right;\n",
       "    }\n",
       "</style>\n",
       "<table border=\"1\" class=\"dataframe\">\n",
       "  <thead>\n",
       "    <tr style=\"text-align: right;\">\n",
       "      <th></th>\n",
       "      <th>ds</th>\n",
       "      <th>yhat</th>\n",
       "      <th>yhat_lower</th>\n",
       "      <th>yhat_upper</th>\n",
       "      <th>y</th>\n",
       "      <th>cutoff</th>\n",
       "    </tr>\n",
       "  </thead>\n",
       "  <tbody>\n",
       "    <tr>\n",
       "      <th>0</th>\n",
       "      <td>2020-04-29</td>\n",
       "      <td>3.201064e+06</td>\n",
       "      <td>3.196159e+06</td>\n",
       "      <td>3.206419e+06</td>\n",
       "      <td>3185195</td>\n",
       "      <td>2020-04-28</td>\n",
       "    </tr>\n",
       "    <tr>\n",
       "      <th>1</th>\n",
       "      <td>2020-04-30</td>\n",
       "      <td>3.285432e+06</td>\n",
       "      <td>3.278692e+06</td>\n",
       "      <td>3.291697e+06</td>\n",
       "      <td>3268876</td>\n",
       "      <td>2020-04-28</td>\n",
       "    </tr>\n",
       "    <tr>\n",
       "      <th>2</th>\n",
       "      <td>2020-05-01</td>\n",
       "      <td>3.369640e+06</td>\n",
       "      <td>3.361219e+06</td>\n",
       "      <td>3.376888e+06</td>\n",
       "      <td>3355922</td>\n",
       "      <td>2020-04-28</td>\n",
       "    </tr>\n",
       "    <tr>\n",
       "      <th>3</th>\n",
       "      <td>2020-05-02</td>\n",
       "      <td>3.450902e+06</td>\n",
       "      <td>3.437843e+06</td>\n",
       "      <td>3.461901e+06</td>\n",
       "      <td>3437608</td>\n",
       "      <td>2020-04-28</td>\n",
       "    </tr>\n",
       "    <tr>\n",
       "      <th>4</th>\n",
       "      <td>2020-05-03</td>\n",
       "      <td>3.530365e+06</td>\n",
       "      <td>3.512543e+06</td>\n",
       "      <td>3.545863e+06</td>\n",
       "      <td>3515244</td>\n",
       "      <td>2020-04-28</td>\n",
       "    </tr>\n",
       "    <tr>\n",
       "      <th>...</th>\n",
       "      <td>...</td>\n",
       "      <td>...</td>\n",
       "      <td>...</td>\n",
       "      <td>...</td>\n",
       "      <td>...</td>\n",
       "      <td>...</td>\n",
       "    </tr>\n",
       "    <tr>\n",
       "      <th>145</th>\n",
       "      <td>2020-07-23</td>\n",
       "      <td>1.315183e+07</td>\n",
       "      <td>1.290531e+07</td>\n",
       "      <td>1.342199e+07</td>\n",
       "      <td>15510481</td>\n",
       "      <td>2020-06-27</td>\n",
       "    </tr>\n",
       "    <tr>\n",
       "      <th>146</th>\n",
       "      <td>2020-07-24</td>\n",
       "      <td>1.329130e+07</td>\n",
       "      <td>1.303502e+07</td>\n",
       "      <td>1.357177e+07</td>\n",
       "      <td>15791645</td>\n",
       "      <td>2020-06-27</td>\n",
       "    </tr>\n",
       "    <tr>\n",
       "      <th>147</th>\n",
       "      <td>2020-07-25</td>\n",
       "      <td>1.342763e+07</td>\n",
       "      <td>1.314283e+07</td>\n",
       "      <td>1.373829e+07</td>\n",
       "      <td>16047190</td>\n",
       "      <td>2020-06-27</td>\n",
       "    </tr>\n",
       "    <tr>\n",
       "      <th>148</th>\n",
       "      <td>2020-07-26</td>\n",
       "      <td>1.354631e+07</td>\n",
       "      <td>1.325691e+07</td>\n",
       "      <td>1.387196e+07</td>\n",
       "      <td>16251796</td>\n",
       "      <td>2020-06-27</td>\n",
       "    </tr>\n",
       "    <tr>\n",
       "      <th>149</th>\n",
       "      <td>2020-07-27</td>\n",
       "      <td>1.367166e+07</td>\n",
       "      <td>1.336054e+07</td>\n",
       "      <td>1.400792e+07</td>\n",
       "      <td>16480485</td>\n",
       "      <td>2020-06-27</td>\n",
       "    </tr>\n",
       "  </tbody>\n",
       "</table>\n",
       "<p>150 rows × 6 columns</p>\n",
       "</div>"
      ],
      "text/plain": [
       "            ds          yhat    yhat_lower    yhat_upper         y     cutoff\n",
       "0   2020-04-29  3.201064e+06  3.196159e+06  3.206419e+06   3185195 2020-04-28\n",
       "1   2020-04-30  3.285432e+06  3.278692e+06  3.291697e+06   3268876 2020-04-28\n",
       "2   2020-05-01  3.369640e+06  3.361219e+06  3.376888e+06   3355922 2020-04-28\n",
       "3   2020-05-02  3.450902e+06  3.437843e+06  3.461901e+06   3437608 2020-04-28\n",
       "4   2020-05-03  3.530365e+06  3.512543e+06  3.545863e+06   3515244 2020-04-28\n",
       "..         ...           ...           ...           ...       ...        ...\n",
       "145 2020-07-23  1.315183e+07  1.290531e+07  1.342199e+07  15510481 2020-06-27\n",
       "146 2020-07-24  1.329130e+07  1.303502e+07  1.357177e+07  15791645 2020-06-27\n",
       "147 2020-07-25  1.342763e+07  1.314283e+07  1.373829e+07  16047190 2020-06-27\n",
       "148 2020-07-26  1.354631e+07  1.325691e+07  1.387196e+07  16251796 2020-06-27\n",
       "149 2020-07-27  1.367166e+07  1.336054e+07  1.400792e+07  16480485 2020-06-27\n",
       "\n",
       "[150 rows x 6 columns]"
      ]
     },
     "execution_count": 28,
     "metadata": {},
     "output_type": "execute_result"
    }
   ],
   "source": [
    "df_cv=cross_validation(model,horizon='30 days',period='15 days',initial='90 days')\n",
    "df_cv\n",
    "## horizon='365 days'--> for how many days we have to cross validate=====\n",
    "\n",
    "## Computes forecasts from historical cutoff points Beginning from..\n",
    "\n",
    "## (end - horizon) it means it is going to take that date that is (end - horizon) bcz on these date we have to just \n",
    "## cross-validate for the new dataset that we have to find out\n",
    "\n",
    "## period=180 as from documentation of func as period=0.5*365=180 or {period=1/2*horizon value}\n",
    "## initial -How many total no. of days we actually want-- 3*365 from documentation of function or  {initial=3*horizon}"
   ]
  },
  {
   "cell_type": "markdown",
   "id": "bd9e0893",
   "metadata": {
    "papermill": {
     "duration": 0.041535,
     "end_time": "2021-09-08T15:21:05.668911",
     "exception": false,
     "start_time": "2021-09-08T15:21:05.627376",
     "status": "completed"
    },
    "tags": []
   },
   "source": [
    "#### Obtaining the Performance Metrics\n",
    "    We use the performance_metrics utility to compute the Mean Squared Error(MSE), Root Mean Squared Error(RMSE),Mean Absolute Error(MAE), Mean Absolute Percentage Error(MAPE) and the coverage of the the yhat_lower and yhat_upper estimates.\n"
   ]
  },
  {
   "cell_type": "code",
   "execution_count": 29,
   "id": "2ed30658",
   "metadata": {
    "execution": {
     "iopub.execute_input": "2021-09-08T15:21:05.755651Z",
     "iopub.status.busy": "2021-09-08T15:21:05.755080Z",
     "iopub.status.idle": "2021-09-08T15:21:05.862750Z",
     "shell.execute_reply": "2021-09-08T15:21:05.862233Z",
     "shell.execute_reply.started": "2021-09-08T15:13:34.080125Z"
    },
    "papermill": {
     "duration": 0.151951,
     "end_time": "2021-09-08T15:21:05.862907",
     "exception": false,
     "start_time": "2021-09-08T15:21:05.710956",
     "status": "completed"
    },
    "tags": []
   },
   "outputs": [
    {
     "data": {
      "text/html": [
       "<div>\n",
       "<style scoped>\n",
       "    .dataframe tbody tr th:only-of-type {\n",
       "        vertical-align: middle;\n",
       "    }\n",
       "\n",
       "    .dataframe tbody tr th {\n",
       "        vertical-align: top;\n",
       "    }\n",
       "\n",
       "    .dataframe thead th {\n",
       "        text-align: right;\n",
       "    }\n",
       "</style>\n",
       "<table border=\"1\" class=\"dataframe\">\n",
       "  <thead>\n",
       "    <tr style=\"text-align: right;\">\n",
       "      <th></th>\n",
       "      <th>horizon</th>\n",
       "      <th>mse</th>\n",
       "      <th>rmse</th>\n",
       "      <th>mae</th>\n",
       "      <th>mape</th>\n",
       "      <th>mdape</th>\n",
       "      <th>coverage</th>\n",
       "    </tr>\n",
       "  </thead>\n",
       "  <tbody>\n",
       "    <tr>\n",
       "      <th>0</th>\n",
       "      <td>3 days</td>\n",
       "      <td>2.721596e+10</td>\n",
       "      <td>164972.604876</td>\n",
       "      <td>129190.213315</td>\n",
       "      <td>0.016867</td>\n",
       "      <td>0.017675</td>\n",
       "      <td>0.000000</td>\n",
       "    </tr>\n",
       "    <tr>\n",
       "      <th>1</th>\n",
       "      <td>4 days</td>\n",
       "      <td>3.770271e+10</td>\n",
       "      <td>194171.855844</td>\n",
       "      <td>151379.846239</td>\n",
       "      <td>0.019330</td>\n",
       "      <td>0.022485</td>\n",
       "      <td>0.000000</td>\n",
       "    </tr>\n",
       "    <tr>\n",
       "      <th>2</th>\n",
       "      <td>5 days</td>\n",
       "      <td>5.170151e+10</td>\n",
       "      <td>227379.657369</td>\n",
       "      <td>175214.816680</td>\n",
       "      <td>0.021780</td>\n",
       "      <td>0.025717</td>\n",
       "      <td>0.066667</td>\n",
       "    </tr>\n",
       "    <tr>\n",
       "      <th>3</th>\n",
       "      <td>6 days</td>\n",
       "      <td>6.937441e+10</td>\n",
       "      <td>263390.225361</td>\n",
       "      <td>202192.647173</td>\n",
       "      <td>0.024558</td>\n",
       "      <td>0.026714</td>\n",
       "      <td>0.133333</td>\n",
       "    </tr>\n",
       "    <tr>\n",
       "      <th>4</th>\n",
       "      <td>7 days</td>\n",
       "      <td>9.012810e+10</td>\n",
       "      <td>300213.430311</td>\n",
       "      <td>232530.254272</td>\n",
       "      <td>0.027838</td>\n",
       "      <td>0.031274</td>\n",
       "      <td>0.200000</td>\n",
       "    </tr>\n",
       "  </tbody>\n",
       "</table>\n",
       "</div>"
      ],
      "text/plain": [
       "  horizon           mse           rmse            mae      mape     mdape  \\\n",
       "0  3 days  2.721596e+10  164972.604876  129190.213315  0.016867  0.017675   \n",
       "1  4 days  3.770271e+10  194171.855844  151379.846239  0.019330  0.022485   \n",
       "2  5 days  5.170151e+10  227379.657369  175214.816680  0.021780  0.025717   \n",
       "3  6 days  6.937441e+10  263390.225361  202192.647173  0.024558  0.026714   \n",
       "4  7 days  9.012810e+10  300213.430311  232530.254272  0.027838  0.031274   \n",
       "\n",
       "   coverage  \n",
       "0  0.000000  \n",
       "1  0.000000  \n",
       "2  0.066667  \n",
       "3  0.133333  \n",
       "4  0.200000  "
      ]
     },
     "execution_count": 29,
     "metadata": {},
     "output_type": "execute_result"
    }
   ],
   "source": [
    "df_performance=performance_metrics(df_cv)\n",
    "df_performance.head()"
   ]
  },
  {
   "cell_type": "code",
   "execution_count": 30,
   "id": "e88cdebe",
   "metadata": {
    "execution": {
     "iopub.execute_input": "2021-09-08T15:21:05.981527Z",
     "iopub.status.busy": "2021-09-08T15:21:05.980692Z",
     "iopub.status.idle": "2021-09-08T15:21:06.174159Z",
     "shell.execute_reply": "2021-09-08T15:21:06.173411Z",
     "shell.execute_reply.started": "2021-09-08T15:15:50.705243Z"
    },
    "papermill": {
     "duration": 0.25647,
     "end_time": "2021-09-08T15:21:06.174308",
     "exception": false,
     "start_time": "2021-09-08T15:21:05.917838",
     "status": "completed"
    },
    "tags": []
   },
   "outputs": [
    {
     "data": {
      "image/png": "[encoded data removed]",
      "text/plain": [
       "<Figure size 720x432 with 1 Axes>"
      ]
     },
     "metadata": {},
     "output_type": "display_data"
    }
   ],
   "source": [
    "#plot the df_cv('rmse')\n",
    "df_performance=plot_cross_validation_metric(df_cv,metric='rmse')"
   ]
  },
  {
   "cell_type": "code",
   "execution_count": 31,
   "id": "e20999ff",
   "metadata": {
    "execution": {
     "iopub.execute_input": "2021-09-08T15:21:06.281247Z",
     "iopub.status.busy": "2021-09-08T15:21:06.280545Z",
     "iopub.status.idle": "2021-09-08T15:21:06.462103Z",
     "shell.execute_reply": "2021-09-08T15:21:06.462525Z",
     "shell.execute_reply.started": "2021-09-08T15:16:41.721792Z"
    },
    "papermill": {
     "duration": 0.243257,
     "end_time": "2021-09-08T15:21:06.462697",
     "exception": false,
     "start_time": "2021-09-08T15:21:06.219440",
     "status": "completed"
    },
    "tags": []
   },
   "outputs": [
    {
     "data": {
      "image/png": "[encoded data removed]",
      "text/plain": [
       "<Figure size 720x432 with 1 Axes>"
      ]
     },
     "metadata": {},
     "output_type": "display_data"
    }
   ],
   "source": [
    "#plot the df_cv('mse')\n",
    "df_performance=plot_cross_validation_metric(df_cv,metric='mse')"
   ]
  },
  {
   "cell_type": "code",
   "execution_count": 32,
   "id": "e70bf381",
   "metadata": {
    "execution": {
     "iopub.execute_input": "2021-09-08T15:21:06.555668Z",
     "iopub.status.busy": "2021-09-08T15:21:06.555091Z",
     "iopub.status.idle": "2021-09-08T15:21:06.745716Z",
     "shell.execute_reply": "2021-09-08T15:21:06.746210Z",
     "shell.execute_reply.started": "2021-09-08T15:17:18.435938Z"
    },
    "papermill": {
     "duration": 0.239126,
     "end_time": "2021-09-08T15:21:06.746390",
     "exception": false,
     "start_time": "2021-09-08T15:21:06.507264",
     "status": "completed"
    },
    "tags": []
   },
   "outputs": [
    {
     "data": {
      "image/png": "[encoded data removed]",
      "text/plain": [
       "<Figure size 720x432 with 1 Axes>"
      ]
     },
     "metadata": {},
     "output_type": "display_data"
    }
   ],
   "source": [
    "#plot by using ('mape')\n",
    "df_performance=plot_cross_validation_metric(df_cv,metric='mape')"
   ]
  },
  {
   "cell_type": "markdown",
   "id": "9bdc06bf",
   "metadata": {
    "papermill": {
     "duration": 0.044756,
     "end_time": "2021-09-08T15:21:06.836482",
     "exception": false,
     "start_time": "2021-09-08T15:21:06.791726",
     "status": "completed"
    },
    "tags": []
   },
   "source": [
    "<a id=\"3.2\"></a>\n",
    "# <p style=\"background-color:#627D78;font-family:newtimeroman;color:#D5CABD;font-size:150%;text-align:center;border-radius:20px 60px;\">This is the End for this project Thank you for every thing see you in next work. </p>"
   ]
  }
 ],
 "metadata": {
  "kernelspec": {
   "display_name": "Python 3",
   "language": "python",
   "name": "python3"
  },
  "language_info": {
   "codemirror_mode": {
    "name": "ipython",
    "version": 3
   },
   "file_extension": ".py",
   "mimetype": "text/x-python",
   "name": "python",
   "nbconvert_exporter": "python",
   "pygments_lexer": "ipython3",
   "version": "3.7.10"
  },
  "papermill": {
   "default_parameters": {},
   "duration": 33.834681,
   "end_time": "2021-09-08T15:21:08.550849",
   "environment_variables": {},
   "exception": null,
   "input_path": "__notebook__.ipynb",
   "output_path": "__notebook__.ipynb",
   "parameters": {},
   "start_time": "2021-09-08T15:20:34.716168",
   "version": "2.3.3"
  },
  "widgets": {
   "application/vnd.jupyter.widget-state+json": {
    "state": {
     "0e7c5f946807419ea77f131a285ccbbf": {
      "model_module": "@jupyter-widgets/controls",
      "model_module_version": "1.5.0",
      "model_name": "DescriptionStyleModel",
      "state": {
       "_model_module": "@jupyter-widgets/controls",
       "_model_module_version": "1.5.0",
       "_model_name": "DescriptionStyleModel",
       "_view_count": null,
       "_view_module": "@jupyter-widgets/base",
       "_view_module_version": "1.2.0",
       "_view_name": "StyleView",
       "description_width": ""
      }
     },
     "272d558c26914817bb8f61bb39e6ac56": {
      "model_module": "@jupyter-widgets/controls",
      "model_module_version": "1.5.0",
      "model_name": "DescriptionStyleModel",
      "state": {
       "_model_module": "@jupyter-widgets/controls",
       "_model_module_version": "1.5.0",
       "_model_name": "DescriptionStyleModel",
       "_view_count": null,
       "_view_module": "@jupyter-widgets/base",
       "_view_module_version": "1.2.0",
       "_view_name": "StyleView",
       "description_width": ""
      }
     },
     "31c1ca165509425f9bf602403a2e9a40": {
      "model_module": "@jupyter-widgets/controls",
      "model_module_version": "1.5.0",
      "model_name": "HBoxModel",
      "state": {
       "_dom_classes": [],
       "_model_module": "@jupyter-widgets/controls",
       "_model_module_version": "1.5.0",
       "_model_name": "HBoxModel",
       "_view_count": null,
       "_view_module": "@jupyter-widgets/controls",
       "_view_module_version": "1.5.0",
       "_view_name": "HBoxView",
       "box_style": "",
       "children": [
        "IPY_MODEL_5c3b940e8fa84d24948f2001bff7694e",
        "IPY_MODEL_649cb83caa8844e190407dfa01ac9e94",
        "IPY_MODEL_348156f94bdd40e2aeef6ee074fc027b"
       ],
       "layout": "IPY_MODEL_e1d3dbd98e0e40f5a47a69c2cc06d524"
      }
     },
     "348156f94bdd40e2aeef6ee074fc027b": {
      "model_module": "@jupyter-widgets/controls",
      "model_module_version": "1.5.0",
      "model_name": "HTMLModel",
      "state": {
       "_dom_classes": [],
       "_model_module": "@jupyter-widgets/controls",
       "_model_module_version": "1.5.0",
       "_model_name": "HTMLModel",
       "_view_count": null,
       "_view_module": "@jupyter-widgets/controls",
       "_view_module_version": "1.5.0",
       "_view_name": "HTMLView",
       "description": "",
       "description_tooltip": null,
       "layout": "IPY_MODEL_546beb09728c483880aa9ce0ac9d02a4",
       "placeholder": "​",
       "style": "IPY_MODEL_0e7c5f946807419ea77f131a285ccbbf",
       "value": " 5/5 [00:10&lt;00:00,  2.01s/it]"
      }
     },
     "546beb09728c483880aa9ce0ac9d02a4": {
      "model_module": "@jupyter-widgets/base",
      "model_module_version": "1.2.0",
      "model_name": "LayoutModel",
      "state": {
       "_model_module": "@jupyter-widgets/base",
       "_model_module_version": "1.2.0",
       "_model_name": "LayoutModel",
       "_view_count": null,
       "_view_module": "@jupyter-widgets/base",
       "_view_module_version": "1.2.0",
       "_view_name": "LayoutView",
       "align_content": null,
       "align_items": null,
       "align_self": null,
       "border": null,
       "bottom": null,
       "display": null,
       "flex": null,
       "flex_flow": null,
       "grid_area": null,
       "grid_auto_columns": null,
       "grid_auto_flow": null,
       "grid_auto_rows": null,
       "grid_column": null,
       "grid_gap": null,
       "grid_row": null,
       "grid_template_areas": null,
       "grid_template_columns": null,
       "grid_template_rows": null,
       "height": null,
       "justify_content": null,
       "justify_items": null,
       "left": null,
       "margin": null,
       "max_height": null,
       "max_width": null,
       "min_height": null,
       "min_width": null,
       "object_fit": null,
       "object_position": null,
       "order": null,
       "overflow": null,
       "overflow_x": null,
       "overflow_y": null,
       "padding": null,
       "right": null,
       "top": null,
       "visibility": null,
       "width": null
      }
     },
     "5c3b940e8fa84d24948f2001bff7694e": {
      "model_module": "@jupyter-widgets/controls",
      "model_module_version": "1.5.0",
      "model_name": "HTMLModel",
      "state": {
       "_dom_classes": [],
       "_model_module": "@jupyter-widgets/controls",
       "_model_module_version": "1.5.0",
       "_model_name": "HTMLModel",
       "_view_count": null,
       "_view_module": "@jupyter-widgets/controls",
       "_view_module_version": "1.5.0",
       "_view_name": "HTMLView",
       "description": "",
       "description_tooltip": null,
       "layout": "IPY_MODEL_64887233be534776a78f85bad69631cc",
       "placeholder": "​",
       "style": "IPY_MODEL_272d558c26914817bb8f61bb39e6ac56",
       "value": "100%"
      }
     },
     "5e0d42196a7e4fa7b50f3b6e7cefd685": {
      "model_module": "@jupyter-widgets/controls",
      "model_module_version": "1.5.0",
      "model_name": "ProgressStyleModel",
      "state": {
       "_model_module": "@jupyter-widgets/controls",
       "_model_module_version": "1.5.0",
       "_model_name": "ProgressStyleModel",
       "_view_count": null,
       "_view_module": "@jupyter-widgets/base",
       "_view_module_version": "1.2.0",
       "_view_name": "StyleView",
       "bar_color": null,
       "description_width": ""
      }
     },
     "64887233be534776a78f85bad69631cc": {
      "model_module": "@jupyter-widgets/base",
      "model_module_version": "1.2.0",
      "model_name": "LayoutModel",
      "state": {
       "_model_module": "@jupyter-widgets/base",
       "_model_module_version": "1.2.0",
       "_model_name": "LayoutModel",
       "_view_count": null,
       "_view_module": "@jupyter-widgets/base",
       "_view_module_version": "1.2.0",
       "_view_name": "LayoutView",
       "align_content": null,
       "align_items": null,
       "align_self": null,
       "border": null,
       "bottom": null,
       "display": null,
       "flex": null,
       "flex_flow": null,
       "grid_area": null,
       "grid_auto_columns": null,
       "grid_auto_flow": null,
       "grid_auto_rows": null,
       "grid_column": null,
       "grid_gap": null,
       "grid_row": null,
       "grid_template_areas": null,
       "grid_template_columns": null,
       "grid_template_rows": null,
       "height": null,
       "justify_content": null,
       "justify_items": null,
       "left": null,
       "margin": null,
       "max_height": null,
       "max_width": null,
       "min_height": null,
       "min_width": null,
       "object_fit": null,
       "object_position": null,
       "order": null,
       "overflow": null,
       "overflow_x": null,
       "overflow_y": null,
       "padding": null,
       "right": null,
       "top": null,
       "visibility": null,
       "width": null
      }
     },
     "649cb83caa8844e190407dfa01ac9e94": {
      "model_module": "@jupyter-widgets/controls",
      "model_module_version": "1.5.0",
      "model_name": "FloatProgressModel",
      "state": {
       "_dom_classes": [],
       "_model_module": "@jupyter-widgets/controls",
       "_model_module_version": "1.5.0",
       "_model_name": "FloatProgressModel",
       "_view_count": null,
       "_view_module": "@jupyter-widgets/controls",
       "_view_module_version": "1.5.0",
       "_view_name": "ProgressView",
       "bar_style": "success",
       "description": "",
       "description_tooltip": null,
       "layout": "IPY_MODEL_e416445d2fb54e14a361b503252e3a0e",
       "max": 5.0,
       "min": 0.0,
       "orientation": "horizontal",
       "style": "IPY_MODEL_5e0d42196a7e4fa7b50f3b6e7cefd685",
       "value": 5.0
      }
     },
     "e1d3dbd98e0e40f5a47a69c2cc06d524": {
      "model_module": "@jupyter-widgets/base",
      "model_module_version": "1.2.0",
      "model_name": "LayoutModel",
      "state": {
       "_model_module": "@jupyter-widgets/base",
       "_model_module_version": "1.2.0",
       "_model_name": "LayoutModel",
       "_view_count": null,
       "_view_module": "@jupyter-widgets/base",
       "_view_module_version": "1.2.0",
       "_view_name": "LayoutView",
       "align_content": null,
       "align_items": null,
       "align_self": null,
       "border": null,
       "bottom": null,
       "display": null,
       "flex": null,
       "flex_flow": null,
       "grid_area": null,
       "grid_auto_columns": null,
       "grid_auto_flow": null,
       "grid_auto_rows": null,
       "grid_column": null,
       "grid_gap": null,
       "grid_row": null,
       "grid_template_areas": null,
       "grid_template_columns": null,
       "grid_template_rows": null,
       "height": null,
       "justify_content": null,
       "justify_items": null,
       "left": null,
       "margin": null,
       "max_height": null,
       "max_width": null,
       "min_height": null,
       "min_width": null,
       "object_fit": null,
       "object_position": null,
       "order": null,
       "overflow": null,
       "overflow_x": null,
       "overflow_y": null,
       "padding": null,
       "right": null,
       "top": null,
       "visibility": null,
       "width": null
      }
     },
     "e416445d2fb54e14a361b503252e3a0e": {
      "model_module": "@jupyter-widgets/base",
      "model_module_version": "1.2.0",
      "model_name": "LayoutModel",
      "state": {
       "_model_module": "@jupyter-widgets/base",
       "_model_module_version": "1.2.0",
       "_model_name": "LayoutModel",
       "_view_count": null,
       "_view_module": "@jupyter-widgets/base",
       "_view_module_version": "1.2.0",
       "_view_name": "LayoutView",
       "align_content": null,
       "align_items": null,
       "align_self": null,
       "border": null,
       "bottom": null,
       "display": null,
       "flex": null,
       "flex_flow": null,
       "grid_area": null,
       "grid_auto_columns": null,
       "grid_auto_flow": null,
       "grid_auto_rows": null,
       "grid_column": null,
       "grid_gap": null,
       "grid_row": null,
       "grid_template_areas": null,
       "grid_template_columns": null,
       "grid_template_rows": null,
       "height": null,
       "justify_content": null,
       "justify_items": null,
       "left": null,
       "margin": null,
       "max_height": null,
       "max_width": null,
       "min_height": null,
       "min_width": null,
       "object_fit": null,
       "object_position": null,
       "order": null,
       "overflow": null,
       "overflow_x": null,
       "overflow_y": null,
       "padding": null,
       "right": null,
       "top": null,
       "visibility": null,
       "width": null
      }
     }
    },
    "version_major": 2,
    "version_minor": 0
   }
  }
 },
 "nbformat": 4,
 "nbformat_minor": 5
}
